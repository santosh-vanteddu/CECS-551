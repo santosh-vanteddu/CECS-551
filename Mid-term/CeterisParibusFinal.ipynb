{
 "cells": [
  {
   "cell_type": "code",
   "execution_count": 1,
   "id": "a1569ec3",
   "metadata": {},
   "outputs": [],
   "source": [
    "import dalex as dx\n",
    "\n",
    "import pandas as pd\n",
    "import numpy as np\n",
    "\n",
    "from sklearn.neural_network import MLPClassifier\n",
    "from sklearn.preprocessing import StandardScaler, OneHotEncoder\n",
    "from sklearn.model_selection import train_test_split\n",
    "from sklearn.impute import SimpleImputer\n",
    "from sklearn.pipeline import Pipeline\n",
    "from sklearn.compose import ColumnTransformer\n",
    "from sklearn.tree import DecisionTreeClassifier\n",
    "from sklearn.metrics import accuracy_score\n",
    "\n",
    "import warnings\n",
    "warnings.filterwarnings('ignore')"
   ]
  },
  {
   "cell_type": "code",
   "execution_count": 2,
   "id": "fbaa3761",
   "metadata": {},
   "outputs": [],
   "source": [
    "data = pd.read_csv('ai4i2020.csv', names = [\"UDI\", \"Product ID\", \"Type\",  \n",
    "            \"Air temperature [K]\", \"Process temperature [K]\", \"Rotational speed [rpm]\", \"Torque [Nm]\", \n",
    "                                        \"Tool wear [min]\", \"TWF\", \"HDF\", \"PWF\", \"OSF\", \"RNF\", \"Machine failure\"])"
   ]
  },
  {
   "cell_type": "code",
   "execution_count": 3,
   "id": "30b9bc1d",
   "metadata": {},
   "outputs": [
    {
     "data": {
      "text/html": [
       "<div>\n",
       "<style scoped>\n",
       "    .dataframe tbody tr th:only-of-type {\n",
       "        vertical-align: middle;\n",
       "    }\n",
       "\n",
       "    .dataframe tbody tr th {\n",
       "        vertical-align: top;\n",
       "    }\n",
       "\n",
       "    .dataframe thead th {\n",
       "        text-align: right;\n",
       "    }\n",
       "</style>\n",
       "<table border=\"1\" class=\"dataframe\">\n",
       "  <thead>\n",
       "    <tr style=\"text-align: right;\">\n",
       "      <th></th>\n",
       "      <th>UDI</th>\n",
       "      <th>Product ID</th>\n",
       "      <th>Type</th>\n",
       "      <th>Air temperature [K]</th>\n",
       "      <th>Process temperature [K]</th>\n",
       "      <th>Rotational speed [rpm]</th>\n",
       "      <th>Torque [Nm]</th>\n",
       "      <th>Tool wear [min]</th>\n",
       "      <th>TWF</th>\n",
       "      <th>HDF</th>\n",
       "      <th>PWF</th>\n",
       "      <th>OSF</th>\n",
       "      <th>RNF</th>\n",
       "      <th>Machine failure</th>\n",
       "    </tr>\n",
       "  </thead>\n",
       "  <tbody>\n",
       "    <tr>\n",
       "      <th>0</th>\n",
       "      <td>1</td>\n",
       "      <td>M14860</td>\n",
       "      <td>M</td>\n",
       "      <td>298.1</td>\n",
       "      <td>308.6</td>\n",
       "      <td>1551</td>\n",
       "      <td>42.8</td>\n",
       "      <td>0</td>\n",
       "      <td>0</td>\n",
       "      <td>0</td>\n",
       "      <td>0</td>\n",
       "      <td>0</td>\n",
       "      <td>0</td>\n",
       "      <td>0</td>\n",
       "    </tr>\n",
       "    <tr>\n",
       "      <th>1</th>\n",
       "      <td>2</td>\n",
       "      <td>L47181</td>\n",
       "      <td>L</td>\n",
       "      <td>298.2</td>\n",
       "      <td>308.7</td>\n",
       "      <td>1408</td>\n",
       "      <td>46.3</td>\n",
       "      <td>3</td>\n",
       "      <td>0</td>\n",
       "      <td>0</td>\n",
       "      <td>0</td>\n",
       "      <td>0</td>\n",
       "      <td>0</td>\n",
       "      <td>0</td>\n",
       "    </tr>\n",
       "    <tr>\n",
       "      <th>2</th>\n",
       "      <td>3</td>\n",
       "      <td>L47182</td>\n",
       "      <td>L</td>\n",
       "      <td>298.1</td>\n",
       "      <td>308.5</td>\n",
       "      <td>1498</td>\n",
       "      <td>49.4</td>\n",
       "      <td>5</td>\n",
       "      <td>0</td>\n",
       "      <td>0</td>\n",
       "      <td>0</td>\n",
       "      <td>0</td>\n",
       "      <td>0</td>\n",
       "      <td>0</td>\n",
       "    </tr>\n",
       "    <tr>\n",
       "      <th>3</th>\n",
       "      <td>4</td>\n",
       "      <td>L47183</td>\n",
       "      <td>L</td>\n",
       "      <td>298.2</td>\n",
       "      <td>308.6</td>\n",
       "      <td>1433</td>\n",
       "      <td>39.5</td>\n",
       "      <td>7</td>\n",
       "      <td>0</td>\n",
       "      <td>0</td>\n",
       "      <td>0</td>\n",
       "      <td>0</td>\n",
       "      <td>0</td>\n",
       "      <td>0</td>\n",
       "    </tr>\n",
       "    <tr>\n",
       "      <th>4</th>\n",
       "      <td>5</td>\n",
       "      <td>L47184</td>\n",
       "      <td>L</td>\n",
       "      <td>298.2</td>\n",
       "      <td>308.7</td>\n",
       "      <td>1408</td>\n",
       "      <td>40.0</td>\n",
       "      <td>9</td>\n",
       "      <td>0</td>\n",
       "      <td>0</td>\n",
       "      <td>0</td>\n",
       "      <td>0</td>\n",
       "      <td>0</td>\n",
       "      <td>0</td>\n",
       "    </tr>\n",
       "  </tbody>\n",
       "</table>\n",
       "</div>"
      ],
      "text/plain": [
       "   UDI Product ID Type  Air temperature [K]  Process temperature [K]  \\\n",
       "0    1     M14860    M                298.1                    308.6   \n",
       "1    2     L47181    L                298.2                    308.7   \n",
       "2    3     L47182    L                298.1                    308.5   \n",
       "3    4     L47183    L                298.2                    308.6   \n",
       "4    5     L47184    L                298.2                    308.7   \n",
       "\n",
       "   Rotational speed [rpm]  Torque [Nm]  Tool wear [min]  TWF  HDF  PWF  OSF  \\\n",
       "0                    1551         42.8                0    0    0    0    0   \n",
       "1                    1408         46.3                3    0    0    0    0   \n",
       "2                    1498         49.4                5    0    0    0    0   \n",
       "3                    1433         39.5                7    0    0    0    0   \n",
       "4                    1408         40.0                9    0    0    0    0   \n",
       "\n",
       "   RNF  Machine failure  \n",
       "0    0                0  \n",
       "1    0                0  \n",
       "2    0                0  \n",
       "3    0                0  \n",
       "4    0                0  "
      ]
     },
     "execution_count": 3,
     "metadata": {},
     "output_type": "execute_result"
    }
   ],
   "source": [
    "data.head()"
   ]
  },
  {
   "cell_type": "code",
   "execution_count": 4,
   "id": "1825d3fd",
   "metadata": {},
   "outputs": [],
   "source": [
    "X = data.drop(['UDI','Product ID','Machine failure'], axis=1)\n",
    "y = data[\"Machine failure\"]"
   ]
  },
  {
   "cell_type": "code",
   "execution_count": 5,
   "id": "f9218042",
   "metadata": {},
   "outputs": [
    {
     "data": {
      "text/html": [
       "<div>\n",
       "<style scoped>\n",
       "    .dataframe tbody tr th:only-of-type {\n",
       "        vertical-align: middle;\n",
       "    }\n",
       "\n",
       "    .dataframe tbody tr th {\n",
       "        vertical-align: top;\n",
       "    }\n",
       "\n",
       "    .dataframe thead th {\n",
       "        text-align: right;\n",
       "    }\n",
       "</style>\n",
       "<table border=\"1\" class=\"dataframe\">\n",
       "  <thead>\n",
       "    <tr style=\"text-align: right;\">\n",
       "      <th></th>\n",
       "      <th>Type</th>\n",
       "      <th>Air temperature [K]</th>\n",
       "      <th>Process temperature [K]</th>\n",
       "      <th>Rotational speed [rpm]</th>\n",
       "      <th>Torque [Nm]</th>\n",
       "      <th>Tool wear [min]</th>\n",
       "      <th>TWF</th>\n",
       "      <th>HDF</th>\n",
       "      <th>PWF</th>\n",
       "      <th>OSF</th>\n",
       "      <th>RNF</th>\n",
       "    </tr>\n",
       "  </thead>\n",
       "  <tbody>\n",
       "    <tr>\n",
       "      <th>0</th>\n",
       "      <td>M</td>\n",
       "      <td>298.1</td>\n",
       "      <td>308.6</td>\n",
       "      <td>1551</td>\n",
       "      <td>42.8</td>\n",
       "      <td>0</td>\n",
       "      <td>0</td>\n",
       "      <td>0</td>\n",
       "      <td>0</td>\n",
       "      <td>0</td>\n",
       "      <td>0</td>\n",
       "    </tr>\n",
       "    <tr>\n",
       "      <th>1</th>\n",
       "      <td>L</td>\n",
       "      <td>298.2</td>\n",
       "      <td>308.7</td>\n",
       "      <td>1408</td>\n",
       "      <td>46.3</td>\n",
       "      <td>3</td>\n",
       "      <td>0</td>\n",
       "      <td>0</td>\n",
       "      <td>0</td>\n",
       "      <td>0</td>\n",
       "      <td>0</td>\n",
       "    </tr>\n",
       "    <tr>\n",
       "      <th>2</th>\n",
       "      <td>L</td>\n",
       "      <td>298.1</td>\n",
       "      <td>308.5</td>\n",
       "      <td>1498</td>\n",
       "      <td>49.4</td>\n",
       "      <td>5</td>\n",
       "      <td>0</td>\n",
       "      <td>0</td>\n",
       "      <td>0</td>\n",
       "      <td>0</td>\n",
       "      <td>0</td>\n",
       "    </tr>\n",
       "    <tr>\n",
       "      <th>3</th>\n",
       "      <td>L</td>\n",
       "      <td>298.2</td>\n",
       "      <td>308.6</td>\n",
       "      <td>1433</td>\n",
       "      <td>39.5</td>\n",
       "      <td>7</td>\n",
       "      <td>0</td>\n",
       "      <td>0</td>\n",
       "      <td>0</td>\n",
       "      <td>0</td>\n",
       "      <td>0</td>\n",
       "    </tr>\n",
       "    <tr>\n",
       "      <th>4</th>\n",
       "      <td>L</td>\n",
       "      <td>298.2</td>\n",
       "      <td>308.7</td>\n",
       "      <td>1408</td>\n",
       "      <td>40.0</td>\n",
       "      <td>9</td>\n",
       "      <td>0</td>\n",
       "      <td>0</td>\n",
       "      <td>0</td>\n",
       "      <td>0</td>\n",
       "      <td>0</td>\n",
       "    </tr>\n",
       "  </tbody>\n",
       "</table>\n",
       "</div>"
      ],
      "text/plain": [
       "  Type  Air temperature [K]  Process temperature [K]  Rotational speed [rpm]  \\\n",
       "0    M                298.1                    308.6                    1551   \n",
       "1    L                298.2                    308.7                    1408   \n",
       "2    L                298.1                    308.5                    1498   \n",
       "3    L                298.2                    308.6                    1433   \n",
       "4    L                298.2                    308.7                    1408   \n",
       "\n",
       "   Torque [Nm]  Tool wear [min]  TWF  HDF  PWF  OSF  RNF  \n",
       "0         42.8                0    0    0    0    0    0  \n",
       "1         46.3                3    0    0    0    0    0  \n",
       "2         49.4                5    0    0    0    0    0  \n",
       "3         39.5                7    0    0    0    0    0  \n",
       "4         40.0                9    0    0    0    0    0  "
      ]
     },
     "execution_count": 5,
     "metadata": {},
     "output_type": "execute_result"
    }
   ],
   "source": [
    "X.head()"
   ]
  },
  {
   "cell_type": "code",
   "execution_count": 6,
   "id": "61fc0b89",
   "metadata": {},
   "outputs": [],
   "source": [
    "X_train, X_test, y_train, y_test = train_test_split(X, y, test_size=0.10, random_state=50)"
   ]
  },
  {
   "cell_type": "code",
   "execution_count": 7,
   "id": "a1751658",
   "metadata": {},
   "outputs": [],
   "source": [
    "numerical_features = [\"Air temperature [K]\", \"Process temperature [K]\", \"Rotational speed [rpm]\", \"Torque [Nm]\", \"Tool wear [min]\", \"TWF\", \"HDF\", \"PWF\", \"OSF\", \"RNF\"]\n",
    "numerical_transformer = Pipeline(\n",
    "    steps=[\n",
    "        ('imputer', SimpleImputer(strategy='median')),\n",
    "        ('scaler', StandardScaler())\n",
    "    ]\n",
    ")\n",
    "\n",
    "categorical_features = ['Type']\n",
    "categorical_transformer = Pipeline(\n",
    "    steps=[\n",
    "        ('imputer', SimpleImputer(strategy='constant', fill_value='missing')),\n",
    "        ('onehot', OneHotEncoder(handle_unknown='ignore'))\n",
    "    ]\n",
    ")\n",
    "\n",
    "preprocessor = ColumnTransformer(\n",
    "    transformers=[\n",
    "        ('num', numerical_transformer, numerical_features),\n",
    "        ('cat', categorical_transformer, categorical_features)\n",
    "    ]\n",
    ")"
   ]
  },
  {
   "cell_type": "code",
   "execution_count": 35,
   "id": "852074db",
   "metadata": {},
   "outputs": [],
   "source": [
    "# classifier = DecisionTreeClassifier()\n",
    "classifier = DecisionTreeClassifier(max_depth=3, criterion='entropy', max_features=0.6, splitter='best')\n",
    "\n",
    "clf = Pipeline(steps=[('preprocessor', preprocessor),\n",
    "                      ('classifier', classifier)])"
   ]
  },
  {
   "cell_type": "code",
   "execution_count": 36,
   "id": "6eab9e93",
   "metadata": {
    "scrolled": true
   },
   "outputs": [],
   "source": [
    "clf.fit(X_train, y_train)\n",
    "predictions = clf.predict(X_test)\n"
   ]
  },
  {
   "cell_type": "code",
   "execution_count": 46,
   "id": "b966c286",
   "metadata": {},
   "outputs": [
    {
     "name": "stdout",
     "output_type": "stream",
     "text": [
      "Preparation of a new explainer is initiated\n",
      "\n",
      "  -> data              : 9000 rows 11 cols\n",
      "  -> target variable   : Parameter 'y' was a pandas.Series. Converted to a numpy.ndarray.\n",
      "  -> target variable   : 9000 values\n",
      "  -> model_class       : sklearn.tree._classes.DecisionTreeClassifier (default)\n",
      "  -> label             : Not specified, model's class short name will be used. (default)\n",
      "  -> predict function  : <function yhat_proba_default at 0x0000022EFEB90AF0> will be used (default)\n",
      "  -> predict function  : Accepts only pandas.DataFrame, numpy.ndarray causes problems.\n",
      "  -> predicted values  : min = 0.0, mean = 0.00167, max = 0.5\n",
      "  -> model type        : classification will be used (default)\n",
      "  -> residual function : difference between y and yhat (default)\n",
      "  -> residuals         : min = -0.5, mean = -3.21e-19, max = 0.999\n",
      "  -> model_info        : package sklearn\n",
      "\n",
      "A new explainer has been created!\n"
     ]
    }
   ],
   "source": [
    "exp = dx.Explainer(clf, X_train, y_train)"
   ]
  },
  {
   "cell_type": "code",
   "execution_count": 47,
   "id": "bb5d8c6e",
   "metadata": {},
   "outputs": [
    {
     "data": {
      "text/plain": [
       "array([0.00085911, 0.00085911, 0.00331895, 0.00085911, 0.00331895,\n",
       "       0.        , 0.00085911, 0.00331895, 0.00085911, 0.        ])"
      ]
     },
     "execution_count": 47,
     "metadata": {},
     "output_type": "execute_result"
    }
   ],
   "source": [
    "exp.predict(X_test)[:10]"
   ]
  },
  {
   "cell_type": "code",
   "execution_count": 48,
   "id": "717406c8",
   "metadata": {},
   "outputs": [
    {
     "name": "stdout",
     "output_type": "stream",
     "text": [
      "7868    1\n",
      "4176    0\n",
      "4161    0\n",
      "8770    0\n",
      "8919    0\n",
      "3884    0\n",
      "1590    0\n",
      "617     0\n",
      "1562    0\n",
      "Name: Machine failure, dtype: int64\n"
     ]
    }
   ],
   "source": [
    "print(y_test[1:10])"
   ]
  },
  {
   "cell_type": "code",
   "execution_count": 49,
   "id": "0ace996b",
   "metadata": {},
   "outputs": [
    {
     "name": "stderr",
     "output_type": "stream",
     "text": [
      "Calculating ceteris paribus: 100%|████████████████████████████████████████████████████| 11/11 [00:00<00:00, 132.44it/s]\n"
     ]
    }
   ],
   "source": [
    "cp = exp.predict_profile(X_test.iloc[2], label='testing')"
   ]
  },
  {
   "cell_type": "code",
   "execution_count": 50,
   "id": "d0a30ea0",
   "metadata": {},
   "outputs": [
    {
     "data": {
      "application/vnd.plotly.v1+json": {
       "config": {
        "displaylogo": false,
        "modeBarButtonsToRemove": [
         "sendDataToCloud",
         "lasso2d",
         "autoScale2d",
         "select2d",
         "zoom2d",
         "pan2d",
         "zoomIn2d",
         "zoomOut2d",
         "resetScale2d",
         "toggleSpikelines",
         "hoverCompareCartesian",
         "hoverClosestCartesian"
        ],
        "plotlyServerURL": "https://plot.ly",
        "staticPlot": false,
        "toImageButtonOptions": {
         "height": null,
         "width": null
        }
       },
       "data": [
        {
         "customdata": [
          [
           "</br>id: 4176</br>prediction: 0.003</br>Air temperature [K]: 295.3</br></br>Type: M</br>Process temperature [K]: 310.7</br>Rotational speed [rpm]: 1544.0</br>Torque [Nm]: 39.7</br>Tool wear [min]: 141.0</br>TWF: 0.0</br>HDF: 0.0</br>PWF: 0.0</br>OSF: 0.0</br>RNF: 0.0</br>_original_yhat_: 0.003318951211417192</br>"
          ],
          [
           "</br>id: 4176</br>prediction: 0.003</br>Air temperature [K]: 295.392</br></br>Type: M</br>Process temperature [K]: 310.7</br>Rotational speed [rpm]: 1544.0</br>Torque [Nm]: 39.7</br>Tool wear [min]: 141.0</br>TWF: 0.0</br>HDF: 0.0</br>PWF: 0.0</br>OSF: 0.0</br>RNF: 0.0</br>_original_yhat_: 0.003318951211417192</br>"
          ],
          [
           "</br>id: 4176</br>prediction: 0.003</br>Air temperature [K]: 295.48400000000004</br></br>Type: M</br>Process temperature [K]: 310.7</br>Rotational speed [rpm]: 1544.0</br>Torque [Nm]: 39.7</br>Tool wear [min]: 141.0</br>TWF: 0.0</br>HDF: 0.0</br>PWF: 0.0</br>OSF: 0.0</br>RNF: 0.0</br>_original_yhat_: 0.003318951211417192</br>"
          ],
          [
           "</br>id: 4176</br>prediction: 0.003</br>Air temperature [K]: 295.576</br></br>Type: M</br>Process temperature [K]: 310.7</br>Rotational speed [rpm]: 1544.0</br>Torque [Nm]: 39.7</br>Tool wear [min]: 141.0</br>TWF: 0.0</br>HDF: 0.0</br>PWF: 0.0</br>OSF: 0.0</br>RNF: 0.0</br>_original_yhat_: 0.003318951211417192</br>"
          ],
          [
           "</br>id: 4176</br>prediction: 0.003</br>Air temperature [K]: 295.668</br></br>Type: M</br>Process temperature [K]: 310.7</br>Rotational speed [rpm]: 1544.0</br>Torque [Nm]: 39.7</br>Tool wear [min]: 141.0</br>TWF: 0.0</br>HDF: 0.0</br>PWF: 0.0</br>OSF: 0.0</br>RNF: 0.0</br>_original_yhat_: 0.003318951211417192</br>"
          ],
          [
           "</br>id: 4176</br>prediction: 0.003</br>Air temperature [K]: 295.76</br></br>Type: M</br>Process temperature [K]: 310.7</br>Rotational speed [rpm]: 1544.0</br>Torque [Nm]: 39.7</br>Tool wear [min]: 141.0</br>TWF: 0.0</br>HDF: 0.0</br>PWF: 0.0</br>OSF: 0.0</br>RNF: 0.0</br>_original_yhat_: 0.003318951211417192</br>"
          ],
          [
           "</br>id: 4176</br>prediction: 0.003</br>Air temperature [K]: 295.85200000000003</br></br>Type: M</br>Process temperature [K]: 310.7</br>Rotational speed [rpm]: 1544.0</br>Torque [Nm]: 39.7</br>Tool wear [min]: 141.0</br>TWF: 0.0</br>HDF: 0.0</br>PWF: 0.0</br>OSF: 0.0</br>RNF: 0.0</br>_original_yhat_: 0.003318951211417192</br>"
          ],
          [
           "</br>id: 4176</br>prediction: 0.003</br>Air temperature [K]: 295.944</br></br>Type: M</br>Process temperature [K]: 310.7</br>Rotational speed [rpm]: 1544.0</br>Torque [Nm]: 39.7</br>Tool wear [min]: 141.0</br>TWF: 0.0</br>HDF: 0.0</br>PWF: 0.0</br>OSF: 0.0</br>RNF: 0.0</br>_original_yhat_: 0.003318951211417192</br>"
          ],
          [
           "</br>id: 4176</br>prediction: 0.003</br>Air temperature [K]: 296.036</br></br>Type: M</br>Process temperature [K]: 310.7</br>Rotational speed [rpm]: 1544.0</br>Torque [Nm]: 39.7</br>Tool wear [min]: 141.0</br>TWF: 0.0</br>HDF: 0.0</br>PWF: 0.0</br>OSF: 0.0</br>RNF: 0.0</br>_original_yhat_: 0.003318951211417192</br>"
          ],
          [
           "</br>id: 4176</br>prediction: 0.003</br>Air temperature [K]: 296.128</br></br>Type: M</br>Process temperature [K]: 310.7</br>Rotational speed [rpm]: 1544.0</br>Torque [Nm]: 39.7</br>Tool wear [min]: 141.0</br>TWF: 0.0</br>HDF: 0.0</br>PWF: 0.0</br>OSF: 0.0</br>RNF: 0.0</br>_original_yhat_: 0.003318951211417192</br>"
          ],
          [
           "</br>id: 4176</br>prediction: 0.003</br>Air temperature [K]: 296.22</br></br>Type: M</br>Process temperature [K]: 310.7</br>Rotational speed [rpm]: 1544.0</br>Torque [Nm]: 39.7</br>Tool wear [min]: 141.0</br>TWF: 0.0</br>HDF: 0.0</br>PWF: 0.0</br>OSF: 0.0</br>RNF: 0.0</br>_original_yhat_: 0.003318951211417192</br>"
          ],
          [
           "</br>id: 4176</br>prediction: 0.003</br>Air temperature [K]: 296.312</br></br>Type: M</br>Process temperature [K]: 310.7</br>Rotational speed [rpm]: 1544.0</br>Torque [Nm]: 39.7</br>Tool wear [min]: 141.0</br>TWF: 0.0</br>HDF: 0.0</br>PWF: 0.0</br>OSF: 0.0</br>RNF: 0.0</br>_original_yhat_: 0.003318951211417192</br>"
          ],
          [
           "</br>id: 4176</br>prediction: 0.003</br>Air temperature [K]: 296.404</br></br>Type: M</br>Process temperature [K]: 310.7</br>Rotational speed [rpm]: 1544.0</br>Torque [Nm]: 39.7</br>Tool wear [min]: 141.0</br>TWF: 0.0</br>HDF: 0.0</br>PWF: 0.0</br>OSF: 0.0</br>RNF: 0.0</br>_original_yhat_: 0.003318951211417192</br>"
          ],
          [
           "</br>id: 4176</br>prediction: 0.003</br>Air temperature [K]: 296.49600000000004</br></br>Type: M</br>Process temperature [K]: 310.7</br>Rotational speed [rpm]: 1544.0</br>Torque [Nm]: 39.7</br>Tool wear [min]: 141.0</br>TWF: 0.0</br>HDF: 0.0</br>PWF: 0.0</br>OSF: 0.0</br>RNF: 0.0</br>_original_yhat_: 0.003318951211417192</br>"
          ],
          [
           "</br>id: 4176</br>prediction: 0.003</br>Air temperature [K]: 296.588</br></br>Type: M</br>Process temperature [K]: 310.7</br>Rotational speed [rpm]: 1544.0</br>Torque [Nm]: 39.7</br>Tool wear [min]: 141.0</br>TWF: 0.0</br>HDF: 0.0</br>PWF: 0.0</br>OSF: 0.0</br>RNF: 0.0</br>_original_yhat_: 0.003318951211417192</br>"
          ],
          [
           "</br>id: 4176</br>prediction: 0.003</br>Air temperature [K]: 296.68</br></br>Type: M</br>Process temperature [K]: 310.7</br>Rotational speed [rpm]: 1544.0</br>Torque [Nm]: 39.7</br>Tool wear [min]: 141.0</br>TWF: 0.0</br>HDF: 0.0</br>PWF: 0.0</br>OSF: 0.0</br>RNF: 0.0</br>_original_yhat_: 0.003318951211417192</br>"
          ],
          [
           "</br>id: 4176</br>prediction: 0.003</br>Air temperature [K]: 296.772</br></br>Type: M</br>Process temperature [K]: 310.7</br>Rotational speed [rpm]: 1544.0</br>Torque [Nm]: 39.7</br>Tool wear [min]: 141.0</br>TWF: 0.0</br>HDF: 0.0</br>PWF: 0.0</br>OSF: 0.0</br>RNF: 0.0</br>_original_yhat_: 0.003318951211417192</br>"
          ],
          [
           "</br>id: 4176</br>prediction: 0.003</br>Air temperature [K]: 296.86400000000003</br></br>Type: M</br>Process temperature [K]: 310.7</br>Rotational speed [rpm]: 1544.0</br>Torque [Nm]: 39.7</br>Tool wear [min]: 141.0</br>TWF: 0.0</br>HDF: 0.0</br>PWF: 0.0</br>OSF: 0.0</br>RNF: 0.0</br>_original_yhat_: 0.003318951211417192</br>"
          ],
          [
           "</br>id: 4176</br>prediction: 0.003</br>Air temperature [K]: 296.956</br></br>Type: M</br>Process temperature [K]: 310.7</br>Rotational speed [rpm]: 1544.0</br>Torque [Nm]: 39.7</br>Tool wear [min]: 141.0</br>TWF: 0.0</br>HDF: 0.0</br>PWF: 0.0</br>OSF: 0.0</br>RNF: 0.0</br>_original_yhat_: 0.003318951211417192</br>"
          ],
          [
           "</br>id: 4176</br>prediction: 0.003</br>Air temperature [K]: 297.048</br></br>Type: M</br>Process temperature [K]: 310.7</br>Rotational speed [rpm]: 1544.0</br>Torque [Nm]: 39.7</br>Tool wear [min]: 141.0</br>TWF: 0.0</br>HDF: 0.0</br>PWF: 0.0</br>OSF: 0.0</br>RNF: 0.0</br>_original_yhat_: 0.003318951211417192</br>"
          ],
          [
           "</br>id: 4176</br>prediction: 0.003</br>Air temperature [K]: 297.14</br></br>Type: M</br>Process temperature [K]: 310.7</br>Rotational speed [rpm]: 1544.0</br>Torque [Nm]: 39.7</br>Tool wear [min]: 141.0</br>TWF: 0.0</br>HDF: 0.0</br>PWF: 0.0</br>OSF: 0.0</br>RNF: 0.0</br>_original_yhat_: 0.003318951211417192</br>"
          ],
          [
           "</br>id: 4176</br>prediction: 0.003</br>Air temperature [K]: 297.232</br></br>Type: M</br>Process temperature [K]: 310.7</br>Rotational speed [rpm]: 1544.0</br>Torque [Nm]: 39.7</br>Tool wear [min]: 141.0</br>TWF: 0.0</br>HDF: 0.0</br>PWF: 0.0</br>OSF: 0.0</br>RNF: 0.0</br>_original_yhat_: 0.003318951211417192</br>"
          ],
          [
           "</br>id: 4176</br>prediction: 0.003</br>Air temperature [K]: 297.324</br></br>Type: M</br>Process temperature [K]: 310.7</br>Rotational speed [rpm]: 1544.0</br>Torque [Nm]: 39.7</br>Tool wear [min]: 141.0</br>TWF: 0.0</br>HDF: 0.0</br>PWF: 0.0</br>OSF: 0.0</br>RNF: 0.0</br>_original_yhat_: 0.003318951211417192</br>"
          ],
          [
           "</br>id: 4176</br>prediction: 0.003</br>Air temperature [K]: 297.416</br></br>Type: M</br>Process temperature [K]: 310.7</br>Rotational speed [rpm]: 1544.0</br>Torque [Nm]: 39.7</br>Tool wear [min]: 141.0</br>TWF: 0.0</br>HDF: 0.0</br>PWF: 0.0</br>OSF: 0.0</br>RNF: 0.0</br>_original_yhat_: 0.003318951211417192</br>"
          ],
          [
           "</br>id: 4176</br>prediction: 0.003</br>Air temperature [K]: 297.508</br></br>Type: M</br>Process temperature [K]: 310.7</br>Rotational speed [rpm]: 1544.0</br>Torque [Nm]: 39.7</br>Tool wear [min]: 141.0</br>TWF: 0.0</br>HDF: 0.0</br>PWF: 0.0</br>OSF: 0.0</br>RNF: 0.0</br>_original_yhat_: 0.003318951211417192</br>"
          ],
          [
           "</br>id: 4176</br>prediction: 0.003</br>Air temperature [K]: 297.6</br></br>Type: M</br>Process temperature [K]: 310.7</br>Rotational speed [rpm]: 1544.0</br>Torque [Nm]: 39.7</br>Tool wear [min]: 141.0</br>TWF: 0.0</br>HDF: 0.0</br>PWF: 0.0</br>OSF: 0.0</br>RNF: 0.0</br>_original_yhat_: 0.003318951211417192</br>"
          ],
          [
           "</br>id: 4176</br>prediction: 0.003</br>Air temperature [K]: 297.692</br></br>Type: M</br>Process temperature [K]: 310.7</br>Rotational speed [rpm]: 1544.0</br>Torque [Nm]: 39.7</br>Tool wear [min]: 141.0</br>TWF: 0.0</br>HDF: 0.0</br>PWF: 0.0</br>OSF: 0.0</br>RNF: 0.0</br>_original_yhat_: 0.003318951211417192</br>"
          ],
          [
           "</br>id: 4176</br>prediction: 0.003</br>Air temperature [K]: 297.784</br></br>Type: M</br>Process temperature [K]: 310.7</br>Rotational speed [rpm]: 1544.0</br>Torque [Nm]: 39.7</br>Tool wear [min]: 141.0</br>TWF: 0.0</br>HDF: 0.0</br>PWF: 0.0</br>OSF: 0.0</br>RNF: 0.0</br>_original_yhat_: 0.003318951211417192</br>"
          ],
          [
           "</br>id: 4176</br>prediction: 0.003</br>Air temperature [K]: 297.87600000000003</br></br>Type: M</br>Process temperature [K]: 310.7</br>Rotational speed [rpm]: 1544.0</br>Torque [Nm]: 39.7</br>Tool wear [min]: 141.0</br>TWF: 0.0</br>HDF: 0.0</br>PWF: 0.0</br>OSF: 0.0</br>RNF: 0.0</br>_original_yhat_: 0.003318951211417192</br>"
          ],
          [
           "</br>id: 4176</br>prediction: 0.003</br>Air temperature [K]: 297.968</br></br>Type: M</br>Process temperature [K]: 310.7</br>Rotational speed [rpm]: 1544.0</br>Torque [Nm]: 39.7</br>Tool wear [min]: 141.0</br>TWF: 0.0</br>HDF: 0.0</br>PWF: 0.0</br>OSF: 0.0</br>RNF: 0.0</br>_original_yhat_: 0.003318951211417192</br>"
          ],
          [
           "</br>id: 4176</br>prediction: 0.003</br>Air temperature [K]: 298.06</br></br>Type: M</br>Process temperature [K]: 310.7</br>Rotational speed [rpm]: 1544.0</br>Torque [Nm]: 39.7</br>Tool wear [min]: 141.0</br>TWF: 0.0</br>HDF: 0.0</br>PWF: 0.0</br>OSF: 0.0</br>RNF: 0.0</br>_original_yhat_: 0.003318951211417192</br>"
          ],
          [
           "</br>id: 4176</br>prediction: 0.003</br>Air temperature [K]: 298.152</br></br>Type: M</br>Process temperature [K]: 310.7</br>Rotational speed [rpm]: 1544.0</br>Torque [Nm]: 39.7</br>Tool wear [min]: 141.0</br>TWF: 0.0</br>HDF: 0.0</br>PWF: 0.0</br>OSF: 0.0</br>RNF: 0.0</br>_original_yhat_: 0.003318951211417192</br>"
          ],
          [
           "</br>id: 4176</br>prediction: 0.003</br>Air temperature [K]: 298.244</br></br>Type: M</br>Process temperature [K]: 310.7</br>Rotational speed [rpm]: 1544.0</br>Torque [Nm]: 39.7</br>Tool wear [min]: 141.0</br>TWF: 0.0</br>HDF: 0.0</br>PWF: 0.0</br>OSF: 0.0</br>RNF: 0.0</br>_original_yhat_: 0.003318951211417192</br>"
          ],
          [
           "</br>id: 4176</br>prediction: 0.003</br>Air temperature [K]: 298.336</br></br>Type: M</br>Process temperature [K]: 310.7</br>Rotational speed [rpm]: 1544.0</br>Torque [Nm]: 39.7</br>Tool wear [min]: 141.0</br>TWF: 0.0</br>HDF: 0.0</br>PWF: 0.0</br>OSF: 0.0</br>RNF: 0.0</br>_original_yhat_: 0.003318951211417192</br>"
          ],
          [
           "</br>id: 4176</br>prediction: 0.003</br>Air temperature [K]: 298.428</br></br>Type: M</br>Process temperature [K]: 310.7</br>Rotational speed [rpm]: 1544.0</br>Torque [Nm]: 39.7</br>Tool wear [min]: 141.0</br>TWF: 0.0</br>HDF: 0.0</br>PWF: 0.0</br>OSF: 0.0</br>RNF: 0.0</br>_original_yhat_: 0.003318951211417192</br>"
          ],
          [
           "</br>id: 4176</br>prediction: 0.003</br>Air temperature [K]: 298.52</br></br>Type: M</br>Process temperature [K]: 310.7</br>Rotational speed [rpm]: 1544.0</br>Torque [Nm]: 39.7</br>Tool wear [min]: 141.0</br>TWF: 0.0</br>HDF: 0.0</br>PWF: 0.0</br>OSF: 0.0</br>RNF: 0.0</br>_original_yhat_: 0.003318951211417192</br>"
          ],
          [
           "</br>id: 4176</br>prediction: 0.003</br>Air temperature [K]: 298.612</br></br>Type: M</br>Process temperature [K]: 310.7</br>Rotational speed [rpm]: 1544.0</br>Torque [Nm]: 39.7</br>Tool wear [min]: 141.0</br>TWF: 0.0</br>HDF: 0.0</br>PWF: 0.0</br>OSF: 0.0</br>RNF: 0.0</br>_original_yhat_: 0.003318951211417192</br>"
          ],
          [
           "</br>id: 4176</br>prediction: 0.003</br>Air temperature [K]: 298.704</br></br>Type: M</br>Process temperature [K]: 310.7</br>Rotational speed [rpm]: 1544.0</br>Torque [Nm]: 39.7</br>Tool wear [min]: 141.0</br>TWF: 0.0</br>HDF: 0.0</br>PWF: 0.0</br>OSF: 0.0</br>RNF: 0.0</br>_original_yhat_: 0.003318951211417192</br>"
          ],
          [
           "</br>id: 4176</br>prediction: 0.003</br>Air temperature [K]: 298.796</br></br>Type: M</br>Process temperature [K]: 310.7</br>Rotational speed [rpm]: 1544.0</br>Torque [Nm]: 39.7</br>Tool wear [min]: 141.0</br>TWF: 0.0</br>HDF: 0.0</br>PWF: 0.0</br>OSF: 0.0</br>RNF: 0.0</br>_original_yhat_: 0.003318951211417192</br>"
          ],
          [
           "</br>id: 4176</br>prediction: 0.003</br>Air temperature [K]: 298.88800000000003</br></br>Type: M</br>Process temperature [K]: 310.7</br>Rotational speed [rpm]: 1544.0</br>Torque [Nm]: 39.7</br>Tool wear [min]: 141.0</br>TWF: 0.0</br>HDF: 0.0</br>PWF: 0.0</br>OSF: 0.0</br>RNF: 0.0</br>_original_yhat_: 0.003318951211417192</br>"
          ],
          [
           "</br>id: 4176</br>prediction: 0.003</br>Air temperature [K]: 298.98</br></br>Type: M</br>Process temperature [K]: 310.7</br>Rotational speed [rpm]: 1544.0</br>Torque [Nm]: 39.7</br>Tool wear [min]: 141.0</br>TWF: 0.0</br>HDF: 0.0</br>PWF: 0.0</br>OSF: 0.0</br>RNF: 0.0</br>_original_yhat_: 0.003318951211417192</br>"
          ],
          [
           "</br>id: 4176</br>prediction: 0.003</br>Air temperature [K]: 299.072</br></br>Type: M</br>Process temperature [K]: 310.7</br>Rotational speed [rpm]: 1544.0</br>Torque [Nm]: 39.7</br>Tool wear [min]: 141.0</br>TWF: 0.0</br>HDF: 0.0</br>PWF: 0.0</br>OSF: 0.0</br>RNF: 0.0</br>_original_yhat_: 0.003318951211417192</br>"
          ],
          [
           "</br>id: 4176</br>prediction: 0.003</br>Air temperature [K]: 299.164</br></br>Type: M</br>Process temperature [K]: 310.7</br>Rotational speed [rpm]: 1544.0</br>Torque [Nm]: 39.7</br>Tool wear [min]: 141.0</br>TWF: 0.0</br>HDF: 0.0</br>PWF: 0.0</br>OSF: 0.0</br>RNF: 0.0</br>_original_yhat_: 0.003318951211417192</br>"
          ],
          [
           "</br>id: 4176</br>prediction: 0.003</br>Air temperature [K]: 299.25600000000003</br></br>Type: M</br>Process temperature [K]: 310.7</br>Rotational speed [rpm]: 1544.0</br>Torque [Nm]: 39.7</br>Tool wear [min]: 141.0</br>TWF: 0.0</br>HDF: 0.0</br>PWF: 0.0</br>OSF: 0.0</br>RNF: 0.0</br>_original_yhat_: 0.003318951211417192</br>"
          ],
          [
           "</br>id: 4176</br>prediction: 0.003</br>Air temperature [K]: 299.348</br></br>Type: M</br>Process temperature [K]: 310.7</br>Rotational speed [rpm]: 1544.0</br>Torque [Nm]: 39.7</br>Tool wear [min]: 141.0</br>TWF: 0.0</br>HDF: 0.0</br>PWF: 0.0</br>OSF: 0.0</br>RNF: 0.0</br>_original_yhat_: 0.003318951211417192</br>"
          ],
          [
           "</br>id: 4176</br>prediction: 0.003</br>Air temperature [K]: 299.44</br></br>Type: M</br>Process temperature [K]: 310.7</br>Rotational speed [rpm]: 1544.0</br>Torque [Nm]: 39.7</br>Tool wear [min]: 141.0</br>TWF: 0.0</br>HDF: 0.0</br>PWF: 0.0</br>OSF: 0.0</br>RNF: 0.0</br>_original_yhat_: 0.003318951211417192</br>"
          ],
          [
           "</br>id: 4176</br>prediction: 0.003</br>Air temperature [K]: 299.532</br></br>Type: M</br>Process temperature [K]: 310.7</br>Rotational speed [rpm]: 1544.0</br>Torque [Nm]: 39.7</br>Tool wear [min]: 141.0</br>TWF: 0.0</br>HDF: 0.0</br>PWF: 0.0</br>OSF: 0.0</br>RNF: 0.0</br>_original_yhat_: 0.003318951211417192</br>"
          ],
          [
           "</br>id: 4176</br>prediction: 0.003</br>Air temperature [K]: 299.624</br></br>Type: M</br>Process temperature [K]: 310.7</br>Rotational speed [rpm]: 1544.0</br>Torque [Nm]: 39.7</br>Tool wear [min]: 141.0</br>TWF: 0.0</br>HDF: 0.0</br>PWF: 0.0</br>OSF: 0.0</br>RNF: 0.0</br>_original_yhat_: 0.003318951211417192</br>"
          ],
          [
           "</br>id: 4176</br>prediction: 0.003</br>Air temperature [K]: 299.716</br></br>Type: M</br>Process temperature [K]: 310.7</br>Rotational speed [rpm]: 1544.0</br>Torque [Nm]: 39.7</br>Tool wear [min]: 141.0</br>TWF: 0.0</br>HDF: 0.0</br>PWF: 0.0</br>OSF: 0.0</br>RNF: 0.0</br>_original_yhat_: 0.003318951211417192</br>"
          ],
          [
           "</br>id: 4176</br>prediction: 0.003</br>Air temperature [K]: 299.808</br></br>Type: M</br>Process temperature [K]: 310.7</br>Rotational speed [rpm]: 1544.0</br>Torque [Nm]: 39.7</br>Tool wear [min]: 141.0</br>TWF: 0.0</br>HDF: 0.0</br>PWF: 0.0</br>OSF: 0.0</br>RNF: 0.0</br>_original_yhat_: 0.003318951211417192</br>"
          ],
          [
           "</br>id: 4176</br>prediction: 0.003</br>Air temperature [K]: 299.9</br></br>Type: M</br>Process temperature [K]: 310.7</br>Rotational speed [rpm]: 1544.0</br>Torque [Nm]: 39.7</br>Tool wear [min]: 141.0</br>TWF: 0.0</br>HDF: 0.0</br>PWF: 0.0</br>OSF: 0.0</br>RNF: 0.0</br>_original_yhat_: 0.003318951211417192</br>"
          ],
          [
           "</br>id: 4176</br>prediction: 0.003</br>Air temperature [K]: 299.992</br></br>Type: M</br>Process temperature [K]: 310.7</br>Rotational speed [rpm]: 1544.0</br>Torque [Nm]: 39.7</br>Tool wear [min]: 141.0</br>TWF: 0.0</br>HDF: 0.0</br>PWF: 0.0</br>OSF: 0.0</br>RNF: 0.0</br>_original_yhat_: 0.003318951211417192</br>"
          ],
          [
           "</br>id: 4176</br>prediction: 0.003</br>Air temperature [K]: 300.084</br></br>Type: M</br>Process temperature [K]: 310.7</br>Rotational speed [rpm]: 1544.0</br>Torque [Nm]: 39.7</br>Tool wear [min]: 141.0</br>TWF: 0.0</br>HDF: 0.0</br>PWF: 0.0</br>OSF: 0.0</br>RNF: 0.0</br>_original_yhat_: 0.003318951211417192</br>"
          ],
          [
           "</br>id: 4176</br>prediction: 0.003</br>Air temperature [K]: 300.176</br></br>Type: M</br>Process temperature [K]: 310.7</br>Rotational speed [rpm]: 1544.0</br>Torque [Nm]: 39.7</br>Tool wear [min]: 141.0</br>TWF: 0.0</br>HDF: 0.0</br>PWF: 0.0</br>OSF: 0.0</br>RNF: 0.0</br>_original_yhat_: 0.003318951211417192</br>"
          ],
          [
           "</br>id: 4176</br>prediction: 0.003</br>Air temperature [K]: 300.26800000000003</br></br>Type: M</br>Process temperature [K]: 310.7</br>Rotational speed [rpm]: 1544.0</br>Torque [Nm]: 39.7</br>Tool wear [min]: 141.0</br>TWF: 0.0</br>HDF: 0.0</br>PWF: 0.0</br>OSF: 0.0</br>RNF: 0.0</br>_original_yhat_: 0.003318951211417192</br>"
          ],
          [
           "</br>id: 4176</br>prediction: 0.003</br>Air temperature [K]: 300.36</br></br>Type: M</br>Process temperature [K]: 310.7</br>Rotational speed [rpm]: 1544.0</br>Torque [Nm]: 39.7</br>Tool wear [min]: 141.0</br>TWF: 0.0</br>HDF: 0.0</br>PWF: 0.0</br>OSF: 0.0</br>RNF: 0.0</br>_original_yhat_: 0.003318951211417192</br>"
          ],
          [
           "</br>id: 4176</br>prediction: 0.003</br>Air temperature [K]: 300.452</br></br>Type: M</br>Process temperature [K]: 310.7</br>Rotational speed [rpm]: 1544.0</br>Torque [Nm]: 39.7</br>Tool wear [min]: 141.0</br>TWF: 0.0</br>HDF: 0.0</br>PWF: 0.0</br>OSF: 0.0</br>RNF: 0.0</br>_original_yhat_: 0.003318951211417192</br>"
          ],
          [
           "</br>id: 4176</br>prediction: 0.003</br>Air temperature [K]: 300.544</br></br>Type: M</br>Process temperature [K]: 310.7</br>Rotational speed [rpm]: 1544.0</br>Torque [Nm]: 39.7</br>Tool wear [min]: 141.0</br>TWF: 0.0</br>HDF: 0.0</br>PWF: 0.0</br>OSF: 0.0</br>RNF: 0.0</br>_original_yhat_: 0.003318951211417192</br>"
          ],
          [
           "</br>id: 4176</br>prediction: 0.003</br>Air temperature [K]: 300.636</br></br>Type: M</br>Process temperature [K]: 310.7</br>Rotational speed [rpm]: 1544.0</br>Torque [Nm]: 39.7</br>Tool wear [min]: 141.0</br>TWF: 0.0</br>HDF: 0.0</br>PWF: 0.0</br>OSF: 0.0</br>RNF: 0.0</br>_original_yhat_: 0.003318951211417192</br>"
          ],
          [
           "</br>id: 4176</br>prediction: 0.003</br>Air temperature [K]: 300.728</br></br>Type: M</br>Process temperature [K]: 310.7</br>Rotational speed [rpm]: 1544.0</br>Torque [Nm]: 39.7</br>Tool wear [min]: 141.0</br>TWF: 0.0</br>HDF: 0.0</br>PWF: 0.0</br>OSF: 0.0</br>RNF: 0.0</br>_original_yhat_: 0.003318951211417192</br>"
          ],
          [
           "</br>id: 4176</br>prediction: 0.003</br>Air temperature [K]: 300.82</br></br>Type: M</br>Process temperature [K]: 310.7</br>Rotational speed [rpm]: 1544.0</br>Torque [Nm]: 39.7</br>Tool wear [min]: 141.0</br>TWF: 0.0</br>HDF: 0.0</br>PWF: 0.0</br>OSF: 0.0</br>RNF: 0.0</br>_original_yhat_: 0.003318951211417192</br>"
          ],
          [
           "</br>id: 4176</br>prediction: 0.003</br>Air temperature [K]: 300.912</br></br>Type: M</br>Process temperature [K]: 310.7</br>Rotational speed [rpm]: 1544.0</br>Torque [Nm]: 39.7</br>Tool wear [min]: 141.0</br>TWF: 0.0</br>HDF: 0.0</br>PWF: 0.0</br>OSF: 0.0</br>RNF: 0.0</br>_original_yhat_: 0.003318951211417192</br>"
          ],
          [
           "</br>id: 4176</br>prediction: 0.003</br>Air temperature [K]: 301.004</br></br>Type: M</br>Process temperature [K]: 310.7</br>Rotational speed [rpm]: 1544.0</br>Torque [Nm]: 39.7</br>Tool wear [min]: 141.0</br>TWF: 0.0</br>HDF: 0.0</br>PWF: 0.0</br>OSF: 0.0</br>RNF: 0.0</br>_original_yhat_: 0.003318951211417192</br>"
          ],
          [
           "</br>id: 4176</br>prediction: 0.003</br>Air temperature [K]: 301.096</br></br>Type: M</br>Process temperature [K]: 310.7</br>Rotational speed [rpm]: 1544.0</br>Torque [Nm]: 39.7</br>Tool wear [min]: 141.0</br>TWF: 0.0</br>HDF: 0.0</br>PWF: 0.0</br>OSF: 0.0</br>RNF: 0.0</br>_original_yhat_: 0.003318951211417192</br>"
          ],
          [
           "</br>id: 4176</br>prediction: 0.003</br>Air temperature [K]: 301.188</br></br>Type: M</br>Process temperature [K]: 310.7</br>Rotational speed [rpm]: 1544.0</br>Torque [Nm]: 39.7</br>Tool wear [min]: 141.0</br>TWF: 0.0</br>HDF: 0.0</br>PWF: 0.0</br>OSF: 0.0</br>RNF: 0.0</br>_original_yhat_: 0.003318951211417192</br>"
          ],
          [
           "</br>id: 4176</br>prediction: 0.003</br>Air temperature [K]: 301.28000000000003</br></br>Type: M</br>Process temperature [K]: 310.7</br>Rotational speed [rpm]: 1544.0</br>Torque [Nm]: 39.7</br>Tool wear [min]: 141.0</br>TWF: 0.0</br>HDF: 0.0</br>PWF: 0.0</br>OSF: 0.0</br>RNF: 0.0</br>_original_yhat_: 0.003318951211417192</br>"
          ],
          [
           "</br>id: 4176</br>prediction: 0.003</br>Air temperature [K]: 301.372</br></br>Type: M</br>Process temperature [K]: 310.7</br>Rotational speed [rpm]: 1544.0</br>Torque [Nm]: 39.7</br>Tool wear [min]: 141.0</br>TWF: 0.0</br>HDF: 0.0</br>PWF: 0.0</br>OSF: 0.0</br>RNF: 0.0</br>_original_yhat_: 0.003318951211417192</br>"
          ],
          [
           "</br>id: 4176</br>prediction: 0.003</br>Air temperature [K]: 301.464</br></br>Type: M</br>Process temperature [K]: 310.7</br>Rotational speed [rpm]: 1544.0</br>Torque [Nm]: 39.7</br>Tool wear [min]: 141.0</br>TWF: 0.0</br>HDF: 0.0</br>PWF: 0.0</br>OSF: 0.0</br>RNF: 0.0</br>_original_yhat_: 0.003318951211417192</br>"
          ],
          [
           "</br>id: 4176</br>prediction: 0.003</br>Air temperature [K]: 301.556</br></br>Type: M</br>Process temperature [K]: 310.7</br>Rotational speed [rpm]: 1544.0</br>Torque [Nm]: 39.7</br>Tool wear [min]: 141.0</br>TWF: 0.0</br>HDF: 0.0</br>PWF: 0.0</br>OSF: 0.0</br>RNF: 0.0</br>_original_yhat_: 0.003318951211417192</br>"
          ],
          [
           "</br>id: 4176</br>prediction: 0.003</br>Air temperature [K]: 301.648</br></br>Type: M</br>Process temperature [K]: 310.7</br>Rotational speed [rpm]: 1544.0</br>Torque [Nm]: 39.7</br>Tool wear [min]: 141.0</br>TWF: 0.0</br>HDF: 0.0</br>PWF: 0.0</br>OSF: 0.0</br>RNF: 0.0</br>_original_yhat_: 0.003318951211417192</br>"
          ],
          [
           "</br>id: 4176</br>prediction: 0.003</br>Air temperature [K]: 301.74</br></br>Type: M</br>Process temperature [K]: 310.7</br>Rotational speed [rpm]: 1544.0</br>Torque [Nm]: 39.7</br>Tool wear [min]: 141.0</br>TWF: 0.0</br>HDF: 0.0</br>PWF: 0.0</br>OSF: 0.0</br>RNF: 0.0</br>_original_yhat_: 0.003318951211417192</br>"
          ],
          [
           "</br>id: 4176</br>prediction: 0.003</br>Air temperature [K]: 301.832</br></br>Type: M</br>Process temperature [K]: 310.7</br>Rotational speed [rpm]: 1544.0</br>Torque [Nm]: 39.7</br>Tool wear [min]: 141.0</br>TWF: 0.0</br>HDF: 0.0</br>PWF: 0.0</br>OSF: 0.0</br>RNF: 0.0</br>_original_yhat_: 0.003318951211417192</br>"
          ],
          [
           "</br>id: 4176</br>prediction: 0.003</br>Air temperature [K]: 301.924</br></br>Type: M</br>Process temperature [K]: 310.7</br>Rotational speed [rpm]: 1544.0</br>Torque [Nm]: 39.7</br>Tool wear [min]: 141.0</br>TWF: 0.0</br>HDF: 0.0</br>PWF: 0.0</br>OSF: 0.0</br>RNF: 0.0</br>_original_yhat_: 0.003318951211417192</br>"
          ],
          [
           "</br>id: 4176</br>prediction: 0.003</br>Air temperature [K]: 302.016</br></br>Type: M</br>Process temperature [K]: 310.7</br>Rotational speed [rpm]: 1544.0</br>Torque [Nm]: 39.7</br>Tool wear [min]: 141.0</br>TWF: 0.0</br>HDF: 0.0</br>PWF: 0.0</br>OSF: 0.0</br>RNF: 0.0</br>_original_yhat_: 0.003318951211417192</br>"
          ],
          [
           "</br>id: 4176</br>prediction: 0.003</br>Air temperature [K]: 302.108</br></br>Type: M</br>Process temperature [K]: 310.7</br>Rotational speed [rpm]: 1544.0</br>Torque [Nm]: 39.7</br>Tool wear [min]: 141.0</br>TWF: 0.0</br>HDF: 0.0</br>PWF: 0.0</br>OSF: 0.0</br>RNF: 0.0</br>_original_yhat_: 0.003318951211417192</br>"
          ],
          [
           "</br>id: 4176</br>prediction: 0.003</br>Air temperature [K]: 302.2</br></br>Type: M</br>Process temperature [K]: 310.7</br>Rotational speed [rpm]: 1544.0</br>Torque [Nm]: 39.7</br>Tool wear [min]: 141.0</br>TWF: 0.0</br>HDF: 0.0</br>PWF: 0.0</br>OSF: 0.0</br>RNF: 0.0</br>_original_yhat_: 0.003318951211417192</br>"
          ],
          [
           "</br>id: 4176</br>prediction: 0.003</br>Air temperature [K]: 302.29200000000003</br></br>Type: M</br>Process temperature [K]: 310.7</br>Rotational speed [rpm]: 1544.0</br>Torque [Nm]: 39.7</br>Tool wear [min]: 141.0</br>TWF: 0.0</br>HDF: 0.0</br>PWF: 0.0</br>OSF: 0.0</br>RNF: 0.0</br>_original_yhat_: 0.003318951211417192</br>"
          ],
          [
           "</br>id: 4176</br>prediction: 0.003</br>Air temperature [K]: 302.3</br></br>Type: M</br>Process temperature [K]: 310.7</br>Rotational speed [rpm]: 1544.0</br>Torque [Nm]: 39.7</br>Tool wear [min]: 141.0</br>TWF: 0.0</br>HDF: 0.0</br>PWF: 0.0</br>OSF: 0.0</br>RNF: 0.0</br>_original_yhat_: 0.003318951211417192</br>"
          ],
          [
           "</br>id: 4176</br>prediction: 0.003</br>Air temperature [K]: 302.384</br></br>Type: M</br>Process temperature [K]: 310.7</br>Rotational speed [rpm]: 1544.0</br>Torque [Nm]: 39.7</br>Tool wear [min]: 141.0</br>TWF: 0.0</br>HDF: 0.0</br>PWF: 0.0</br>OSF: 0.0</br>RNF: 0.0</br>_original_yhat_: 0.003318951211417192</br>"
          ],
          [
           "</br>id: 4176</br>prediction: 0.003</br>Air temperature [K]: 302.476</br></br>Type: M</br>Process temperature [K]: 310.7</br>Rotational speed [rpm]: 1544.0</br>Torque [Nm]: 39.7</br>Tool wear [min]: 141.0</br>TWF: 0.0</br>HDF: 0.0</br>PWF: 0.0</br>OSF: 0.0</br>RNF: 0.0</br>_original_yhat_: 0.003318951211417192</br>"
          ],
          [
           "</br>id: 4176</br>prediction: 0.003</br>Air temperature [K]: 302.568</br></br>Type: M</br>Process temperature [K]: 310.7</br>Rotational speed [rpm]: 1544.0</br>Torque [Nm]: 39.7</br>Tool wear [min]: 141.0</br>TWF: 0.0</br>HDF: 0.0</br>PWF: 0.0</br>OSF: 0.0</br>RNF: 0.0</br>_original_yhat_: 0.003318951211417192</br>"
          ],
          [
           "</br>id: 4176</br>prediction: 0.003</br>Air temperature [K]: 302.66</br></br>Type: M</br>Process temperature [K]: 310.7</br>Rotational speed [rpm]: 1544.0</br>Torque [Nm]: 39.7</br>Tool wear [min]: 141.0</br>TWF: 0.0</br>HDF: 0.0</br>PWF: 0.0</br>OSF: 0.0</br>RNF: 0.0</br>_original_yhat_: 0.003318951211417192</br>"
          ],
          [
           "</br>id: 4176</br>prediction: 0.003</br>Air temperature [K]: 302.752</br></br>Type: M</br>Process temperature [K]: 310.7</br>Rotational speed [rpm]: 1544.0</br>Torque [Nm]: 39.7</br>Tool wear [min]: 141.0</br>TWF: 0.0</br>HDF: 0.0</br>PWF: 0.0</br>OSF: 0.0</br>RNF: 0.0</br>_original_yhat_: 0.003318951211417192</br>"
          ],
          [
           "</br>id: 4176</br>prediction: 0.003</br>Air temperature [K]: 302.844</br></br>Type: M</br>Process temperature [K]: 310.7</br>Rotational speed [rpm]: 1544.0</br>Torque [Nm]: 39.7</br>Tool wear [min]: 141.0</br>TWF: 0.0</br>HDF: 0.0</br>PWF: 0.0</br>OSF: 0.0</br>RNF: 0.0</br>_original_yhat_: 0.003318951211417192</br>"
          ],
          [
           "</br>id: 4176</br>prediction: 0.003</br>Air temperature [K]: 302.936</br></br>Type: M</br>Process temperature [K]: 310.7</br>Rotational speed [rpm]: 1544.0</br>Torque [Nm]: 39.7</br>Tool wear [min]: 141.0</br>TWF: 0.0</br>HDF: 0.0</br>PWF: 0.0</br>OSF: 0.0</br>RNF: 0.0</br>_original_yhat_: 0.003318951211417192</br>"
          ],
          [
           "</br>id: 4176</br>prediction: 0.003</br>Air temperature [K]: 303.028</br></br>Type: M</br>Process temperature [K]: 310.7</br>Rotational speed [rpm]: 1544.0</br>Torque [Nm]: 39.7</br>Tool wear [min]: 141.0</br>TWF: 0.0</br>HDF: 0.0</br>PWF: 0.0</br>OSF: 0.0</br>RNF: 0.0</br>_original_yhat_: 0.003318951211417192</br>"
          ],
          [
           "</br>id: 4176</br>prediction: 0.003</br>Air temperature [K]: 303.12</br></br>Type: M</br>Process temperature [K]: 310.7</br>Rotational speed [rpm]: 1544.0</br>Torque [Nm]: 39.7</br>Tool wear [min]: 141.0</br>TWF: 0.0</br>HDF: 0.0</br>PWF: 0.0</br>OSF: 0.0</br>RNF: 0.0</br>_original_yhat_: 0.003318951211417192</br>"
          ],
          [
           "</br>id: 4176</br>prediction: 0.003</br>Air temperature [K]: 303.212</br></br>Type: M</br>Process temperature [K]: 310.7</br>Rotational speed [rpm]: 1544.0</br>Torque [Nm]: 39.7</br>Tool wear [min]: 141.0</br>TWF: 0.0</br>HDF: 0.0</br>PWF: 0.0</br>OSF: 0.0</br>RNF: 0.0</br>_original_yhat_: 0.003318951211417192</br>"
          ],
          [
           "</br>id: 4176</br>prediction: 0.003</br>Air temperature [K]: 303.304</br></br>Type: M</br>Process temperature [K]: 310.7</br>Rotational speed [rpm]: 1544.0</br>Torque [Nm]: 39.7</br>Tool wear [min]: 141.0</br>TWF: 0.0</br>HDF: 0.0</br>PWF: 0.0</br>OSF: 0.0</br>RNF: 0.0</br>_original_yhat_: 0.003318951211417192</br>"
          ],
          [
           "</br>id: 4176</br>prediction: 0.003</br>Air temperature [K]: 303.396</br></br>Type: M</br>Process temperature [K]: 310.7</br>Rotational speed [rpm]: 1544.0</br>Torque [Nm]: 39.7</br>Tool wear [min]: 141.0</br>TWF: 0.0</br>HDF: 0.0</br>PWF: 0.0</br>OSF: 0.0</br>RNF: 0.0</br>_original_yhat_: 0.003318951211417192</br>"
          ],
          [
           "</br>id: 4176</br>prediction: 0.003</br>Air temperature [K]: 303.488</br></br>Type: M</br>Process temperature [K]: 310.7</br>Rotational speed [rpm]: 1544.0</br>Torque [Nm]: 39.7</br>Tool wear [min]: 141.0</br>TWF: 0.0</br>HDF: 0.0</br>PWF: 0.0</br>OSF: 0.0</br>RNF: 0.0</br>_original_yhat_: 0.003318951211417192</br>"
          ],
          [
           "</br>id: 4176</br>prediction: 0.003</br>Air temperature [K]: 303.58</br></br>Type: M</br>Process temperature [K]: 310.7</br>Rotational speed [rpm]: 1544.0</br>Torque [Nm]: 39.7</br>Tool wear [min]: 141.0</br>TWF: 0.0</br>HDF: 0.0</br>PWF: 0.0</br>OSF: 0.0</br>RNF: 0.0</br>_original_yhat_: 0.003318951211417192</br>"
          ],
          [
           "</br>id: 4176</br>prediction: 0.003</br>Air temperature [K]: 303.672</br></br>Type: M</br>Process temperature [K]: 310.7</br>Rotational speed [rpm]: 1544.0</br>Torque [Nm]: 39.7</br>Tool wear [min]: 141.0</br>TWF: 0.0</br>HDF: 0.0</br>PWF: 0.0</br>OSF: 0.0</br>RNF: 0.0</br>_original_yhat_: 0.003318951211417192</br>"
          ],
          [
           "</br>id: 4176</br>prediction: 0.003</br>Air temperature [K]: 303.764</br></br>Type: M</br>Process temperature [K]: 310.7</br>Rotational speed [rpm]: 1544.0</br>Torque [Nm]: 39.7</br>Tool wear [min]: 141.0</br>TWF: 0.0</br>HDF: 0.0</br>PWF: 0.0</br>OSF: 0.0</br>RNF: 0.0</br>_original_yhat_: 0.003318951211417192</br>"
          ],
          [
           "</br>id: 4176</br>prediction: 0.003</br>Air temperature [K]: 303.856</br></br>Type: M</br>Process temperature [K]: 310.7</br>Rotational speed [rpm]: 1544.0</br>Torque [Nm]: 39.7</br>Tool wear [min]: 141.0</br>TWF: 0.0</br>HDF: 0.0</br>PWF: 0.0</br>OSF: 0.0</br>RNF: 0.0</br>_original_yhat_: 0.003318951211417192</br>"
          ],
          [
           "</br>id: 4176</br>prediction: 0.003</br>Air temperature [K]: 303.948</br></br>Type: M</br>Process temperature [K]: 310.7</br>Rotational speed [rpm]: 1544.0</br>Torque [Nm]: 39.7</br>Tool wear [min]: 141.0</br>TWF: 0.0</br>HDF: 0.0</br>PWF: 0.0</br>OSF: 0.0</br>RNF: 0.0</br>_original_yhat_: 0.003318951211417192</br>"
          ],
          [
           "</br>id: 4176</br>prediction: 0.003</br>Air temperature [K]: 304.04</br></br>Type: M</br>Process temperature [K]: 310.7</br>Rotational speed [rpm]: 1544.0</br>Torque [Nm]: 39.7</br>Tool wear [min]: 141.0</br>TWF: 0.0</br>HDF: 0.0</br>PWF: 0.0</br>OSF: 0.0</br>RNF: 0.0</br>_original_yhat_: 0.003318951211417192</br>"
          ],
          [
           "</br>id: 4176</br>prediction: 0.003</br>Air temperature [K]: 304.132</br></br>Type: M</br>Process temperature [K]: 310.7</br>Rotational speed [rpm]: 1544.0</br>Torque [Nm]: 39.7</br>Tool wear [min]: 141.0</br>TWF: 0.0</br>HDF: 0.0</br>PWF: 0.0</br>OSF: 0.0</br>RNF: 0.0</br>_original_yhat_: 0.003318951211417192</br>"
          ],
          [
           "</br>id: 4176</br>prediction: 0.003</br>Air temperature [K]: 304.224</br></br>Type: M</br>Process temperature [K]: 310.7</br>Rotational speed [rpm]: 1544.0</br>Torque [Nm]: 39.7</br>Tool wear [min]: 141.0</br>TWF: 0.0</br>HDF: 0.0</br>PWF: 0.0</br>OSF: 0.0</br>RNF: 0.0</br>_original_yhat_: 0.003318951211417192</br>"
          ],
          [
           "</br>id: 4176</br>prediction: 0.003</br>Air temperature [K]: 304.316</br></br>Type: M</br>Process temperature [K]: 310.7</br>Rotational speed [rpm]: 1544.0</br>Torque [Nm]: 39.7</br>Tool wear [min]: 141.0</br>TWF: 0.0</br>HDF: 0.0</br>PWF: 0.0</br>OSF: 0.0</br>RNF: 0.0</br>_original_yhat_: 0.003318951211417192</br>"
          ],
          [
           "</br>id: 4176</br>prediction: 0.003</br>Air temperature [K]: 304.408</br></br>Type: M</br>Process temperature [K]: 310.7</br>Rotational speed [rpm]: 1544.0</br>Torque [Nm]: 39.7</br>Tool wear [min]: 141.0</br>TWF: 0.0</br>HDF: 0.0</br>PWF: 0.0</br>OSF: 0.0</br>RNF: 0.0</br>_original_yhat_: 0.003318951211417192</br>"
          ],
          [
           "</br>id: 4176</br>prediction: 0.003</br>Air temperature [K]: 304.5</br></br>Type: M</br>Process temperature [K]: 310.7</br>Rotational speed [rpm]: 1544.0</br>Torque [Nm]: 39.7</br>Tool wear [min]: 141.0</br>TWF: 0.0</br>HDF: 0.0</br>PWF: 0.0</br>OSF: 0.0</br>RNF: 0.0</br>_original_yhat_: 0.003318951211417192</br>"
          ]
         ],
         "hovertemplate": "%{customdata[0]}<extra></extra>",
         "legendgroup": "testing",
         "line": {
          "color": "#46bac2",
          "dash": "solid",
          "width": 2
         },
         "marker": {
          "symbol": "circle"
         },
         "mode": "lines",
         "name": "testing",
         "opacity": 1,
         "showlegend": true,
         "type": "scattergl",
         "x": [
          295.3,
          295.392,
          295.48400000000004,
          295.576,
          295.668,
          295.76,
          295.85200000000003,
          295.944,
          296.036,
          296.128,
          296.22,
          296.312,
          296.404,
          296.49600000000004,
          296.588,
          296.68,
          296.772,
          296.86400000000003,
          296.956,
          297.048,
          297.14,
          297.232,
          297.324,
          297.416,
          297.508,
          297.6,
          297.692,
          297.784,
          297.87600000000003,
          297.968,
          298.06,
          298.152,
          298.244,
          298.336,
          298.428,
          298.52,
          298.612,
          298.704,
          298.796,
          298.88800000000003,
          298.98,
          299.072,
          299.164,
          299.25600000000003,
          299.348,
          299.44,
          299.532,
          299.624,
          299.716,
          299.808,
          299.9,
          299.992,
          300.084,
          300.176,
          300.26800000000003,
          300.36,
          300.452,
          300.544,
          300.636,
          300.728,
          300.82,
          300.912,
          301.004,
          301.096,
          301.188,
          301.28000000000003,
          301.372,
          301.464,
          301.556,
          301.648,
          301.74,
          301.832,
          301.924,
          302.016,
          302.108,
          302.2,
          302.29200000000003,
          302.3,
          302.384,
          302.476,
          302.568,
          302.66,
          302.752,
          302.844,
          302.936,
          303.028,
          303.12,
          303.212,
          303.304,
          303.396,
          303.488,
          303.58,
          303.672,
          303.764,
          303.856,
          303.948,
          304.04,
          304.132,
          304.224,
          304.316,
          304.408,
          304.5
         ],
         "xaxis": "x9",
         "y": [
          0.003318951211417192,
          0.003318951211417192,
          0.003318951211417192,
          0.003318951211417192,
          0.003318951211417192,
          0.003318951211417192,
          0.003318951211417192,
          0.003318951211417192,
          0.003318951211417192,
          0.003318951211417192,
          0.003318951211417192,
          0.003318951211417192,
          0.003318951211417192,
          0.003318951211417192,
          0.003318951211417192,
          0.003318951211417192,
          0.003318951211417192,
          0.003318951211417192,
          0.003318951211417192,
          0.003318951211417192,
          0.003318951211417192,
          0.003318951211417192,
          0.003318951211417192,
          0.003318951211417192,
          0.003318951211417192,
          0.003318951211417192,
          0.003318951211417192,
          0.003318951211417192,
          0.003318951211417192,
          0.003318951211417192,
          0.003318951211417192,
          0.003318951211417192,
          0.003318951211417192,
          0.003318951211417192,
          0.003318951211417192,
          0.003318951211417192,
          0.003318951211417192,
          0.003318951211417192,
          0.003318951211417192,
          0.003318951211417192,
          0.003318951211417192,
          0.003318951211417192,
          0.003318951211417192,
          0.003318951211417192,
          0.003318951211417192,
          0.003318951211417192,
          0.003318951211417192,
          0.003318951211417192,
          0.003318951211417192,
          0.003318951211417192,
          0.003318951211417192,
          0.003318951211417192,
          0.003318951211417192,
          0.003318951211417192,
          0.003318951211417192,
          0.003318951211417192,
          0.003318951211417192,
          0.003318951211417192,
          0.003318951211417192,
          0.003318951211417192,
          0.003318951211417192,
          0.003318951211417192,
          0.003318951211417192,
          0.003318951211417192,
          0.003318951211417192,
          0.003318951211417192,
          0.003318951211417192,
          0.003318951211417192,
          0.003318951211417192,
          0.003318951211417192,
          0.003318951211417192,
          0.003318951211417192,
          0.003318951211417192,
          0.003318951211417192,
          0.003318951211417192,
          0.003318951211417192,
          0.003318951211417192,
          0.003318951211417192,
          0.003318951211417192,
          0.003318951211417192,
          0.003318951211417192,
          0.003318951211417192,
          0.003318951211417192,
          0.003318951211417192,
          0.003318951211417192,
          0.003318951211417192,
          0.003318951211417192,
          0.003318951211417192,
          0.003318951211417192,
          0.003318951211417192,
          0.003318951211417192,
          0.003318951211417192,
          0.003318951211417192,
          0.003318951211417192,
          0.003318951211417192,
          0.003318951211417192,
          0.003318951211417192,
          0.003318951211417192,
          0.003318951211417192,
          0.003318951211417192,
          0.003318951211417192,
          0.003318951211417192
         ],
         "yaxis": "y9"
        },
        {
         "customdata": [
          [
           "</br>id: 4176</br>prediction: 0.003</br>Process temperature [K]: 305.7</br></br>Type: M</br>Air temperature [K]: 302.3</br>Rotational speed [rpm]: 1544.0</br>Torque [Nm]: 39.7</br>Tool wear [min]: 141.0</br>TWF: 0.0</br>HDF: 0.0</br>PWF: 0.0</br>OSF: 0.0</br>RNF: 0.0</br>_original_yhat_: 0.003318951211417192</br>"
          ],
          [
           "</br>id: 4176</br>prediction: 0.003</br>Process temperature [K]: 305.781</br></br>Type: M</br>Air temperature [K]: 302.3</br>Rotational speed [rpm]: 1544.0</br>Torque [Nm]: 39.7</br>Tool wear [min]: 141.0</br>TWF: 0.0</br>HDF: 0.0</br>PWF: 0.0</br>OSF: 0.0</br>RNF: 0.0</br>_original_yhat_: 0.003318951211417192</br>"
          ],
          [
           "</br>id: 4176</br>prediction: 0.003</br>Process temperature [K]: 305.86199999999997</br></br>Type: M</br>Air temperature [K]: 302.3</br>Rotational speed [rpm]: 1544.0</br>Torque [Nm]: 39.7</br>Tool wear [min]: 141.0</br>TWF: 0.0</br>HDF: 0.0</br>PWF: 0.0</br>OSF: 0.0</br>RNF: 0.0</br>_original_yhat_: 0.003318951211417192</br>"
          ],
          [
           "</br>id: 4176</br>prediction: 0.003</br>Process temperature [K]: 305.943</br></br>Type: M</br>Air temperature [K]: 302.3</br>Rotational speed [rpm]: 1544.0</br>Torque [Nm]: 39.7</br>Tool wear [min]: 141.0</br>TWF: 0.0</br>HDF: 0.0</br>PWF: 0.0</br>OSF: 0.0</br>RNF: 0.0</br>_original_yhat_: 0.003318951211417192</br>"
          ],
          [
           "</br>id: 4176</br>prediction: 0.003</br>Process temperature [K]: 306.024</br></br>Type: M</br>Air temperature [K]: 302.3</br>Rotational speed [rpm]: 1544.0</br>Torque [Nm]: 39.7</br>Tool wear [min]: 141.0</br>TWF: 0.0</br>HDF: 0.0</br>PWF: 0.0</br>OSF: 0.0</br>RNF: 0.0</br>_original_yhat_: 0.003318951211417192</br>"
          ],
          [
           "</br>id: 4176</br>prediction: 0.003</br>Process temperature [K]: 306.105</br></br>Type: M</br>Air temperature [K]: 302.3</br>Rotational speed [rpm]: 1544.0</br>Torque [Nm]: 39.7</br>Tool wear [min]: 141.0</br>TWF: 0.0</br>HDF: 0.0</br>PWF: 0.0</br>OSF: 0.0</br>RNF: 0.0</br>_original_yhat_: 0.003318951211417192</br>"
          ],
          [
           "</br>id: 4176</br>prediction: 0.003</br>Process temperature [K]: 306.186</br></br>Type: M</br>Air temperature [K]: 302.3</br>Rotational speed [rpm]: 1544.0</br>Torque [Nm]: 39.7</br>Tool wear [min]: 141.0</br>TWF: 0.0</br>HDF: 0.0</br>PWF: 0.0</br>OSF: 0.0</br>RNF: 0.0</br>_original_yhat_: 0.003318951211417192</br>"
          ],
          [
           "</br>id: 4176</br>prediction: 0.003</br>Process temperature [K]: 306.267</br></br>Type: M</br>Air temperature [K]: 302.3</br>Rotational speed [rpm]: 1544.0</br>Torque [Nm]: 39.7</br>Tool wear [min]: 141.0</br>TWF: 0.0</br>HDF: 0.0</br>PWF: 0.0</br>OSF: 0.0</br>RNF: 0.0</br>_original_yhat_: 0.003318951211417192</br>"
          ],
          [
           "</br>id: 4176</br>prediction: 0.003</br>Process temperature [K]: 306.348</br></br>Type: M</br>Air temperature [K]: 302.3</br>Rotational speed [rpm]: 1544.0</br>Torque [Nm]: 39.7</br>Tool wear [min]: 141.0</br>TWF: 0.0</br>HDF: 0.0</br>PWF: 0.0</br>OSF: 0.0</br>RNF: 0.0</br>_original_yhat_: 0.003318951211417192</br>"
          ],
          [
           "</br>id: 4176</br>prediction: 0.003</br>Process temperature [K]: 306.429</br></br>Type: M</br>Air temperature [K]: 302.3</br>Rotational speed [rpm]: 1544.0</br>Torque [Nm]: 39.7</br>Tool wear [min]: 141.0</br>TWF: 0.0</br>HDF: 0.0</br>PWF: 0.0</br>OSF: 0.0</br>RNF: 0.0</br>_original_yhat_: 0.003318951211417192</br>"
          ],
          [
           "</br>id: 4176</br>prediction: 0.003</br>Process temperature [K]: 306.51</br></br>Type: M</br>Air temperature [K]: 302.3</br>Rotational speed [rpm]: 1544.0</br>Torque [Nm]: 39.7</br>Tool wear [min]: 141.0</br>TWF: 0.0</br>HDF: 0.0</br>PWF: 0.0</br>OSF: 0.0</br>RNF: 0.0</br>_original_yhat_: 0.003318951211417192</br>"
          ],
          [
           "</br>id: 4176</br>prediction: 0.003</br>Process temperature [K]: 306.591</br></br>Type: M</br>Air temperature [K]: 302.3</br>Rotational speed [rpm]: 1544.0</br>Torque [Nm]: 39.7</br>Tool wear [min]: 141.0</br>TWF: 0.0</br>HDF: 0.0</br>PWF: 0.0</br>OSF: 0.0</br>RNF: 0.0</br>_original_yhat_: 0.003318951211417192</br>"
          ],
          [
           "</br>id: 4176</br>prediction: 0.003</br>Process temperature [K]: 306.67199999999997</br></br>Type: M</br>Air temperature [K]: 302.3</br>Rotational speed [rpm]: 1544.0</br>Torque [Nm]: 39.7</br>Tool wear [min]: 141.0</br>TWF: 0.0</br>HDF: 0.0</br>PWF: 0.0</br>OSF: 0.0</br>RNF: 0.0</br>_original_yhat_: 0.003318951211417192</br>"
          ],
          [
           "</br>id: 4176</br>prediction: 0.003</br>Process temperature [K]: 306.753</br></br>Type: M</br>Air temperature [K]: 302.3</br>Rotational speed [rpm]: 1544.0</br>Torque [Nm]: 39.7</br>Tool wear [min]: 141.0</br>TWF: 0.0</br>HDF: 0.0</br>PWF: 0.0</br>OSF: 0.0</br>RNF: 0.0</br>_original_yhat_: 0.003318951211417192</br>"
          ],
          [
           "</br>id: 4176</br>prediction: 0.003</br>Process temperature [K]: 306.834</br></br>Type: M</br>Air temperature [K]: 302.3</br>Rotational speed [rpm]: 1544.0</br>Torque [Nm]: 39.7</br>Tool wear [min]: 141.0</br>TWF: 0.0</br>HDF: 0.0</br>PWF: 0.0</br>OSF: 0.0</br>RNF: 0.0</br>_original_yhat_: 0.003318951211417192</br>"
          ],
          [
           "</br>id: 4176</br>prediction: 0.003</br>Process temperature [K]: 306.91499999999996</br></br>Type: M</br>Air temperature [K]: 302.3</br>Rotational speed [rpm]: 1544.0</br>Torque [Nm]: 39.7</br>Tool wear [min]: 141.0</br>TWF: 0.0</br>HDF: 0.0</br>PWF: 0.0</br>OSF: 0.0</br>RNF: 0.0</br>_original_yhat_: 0.003318951211417192</br>"
          ],
          [
           "</br>id: 4176</br>prediction: 0.003</br>Process temperature [K]: 306.996</br></br>Type: M</br>Air temperature [K]: 302.3</br>Rotational speed [rpm]: 1544.0</br>Torque [Nm]: 39.7</br>Tool wear [min]: 141.0</br>TWF: 0.0</br>HDF: 0.0</br>PWF: 0.0</br>OSF: 0.0</br>RNF: 0.0</br>_original_yhat_: 0.003318951211417192</br>"
          ],
          [
           "</br>id: 4176</br>prediction: 0.003</br>Process temperature [K]: 307.077</br></br>Type: M</br>Air temperature [K]: 302.3</br>Rotational speed [rpm]: 1544.0</br>Torque [Nm]: 39.7</br>Tool wear [min]: 141.0</br>TWF: 0.0</br>HDF: 0.0</br>PWF: 0.0</br>OSF: 0.0</br>RNF: 0.0</br>_original_yhat_: 0.003318951211417192</br>"
          ],
          [
           "</br>id: 4176</br>prediction: 0.003</br>Process temperature [K]: 307.158</br></br>Type: M</br>Air temperature [K]: 302.3</br>Rotational speed [rpm]: 1544.0</br>Torque [Nm]: 39.7</br>Tool wear [min]: 141.0</br>TWF: 0.0</br>HDF: 0.0</br>PWF: 0.0</br>OSF: 0.0</br>RNF: 0.0</br>_original_yhat_: 0.003318951211417192</br>"
          ],
          [
           "</br>id: 4176</br>prediction: 0.003</br>Process temperature [K]: 307.239</br></br>Type: M</br>Air temperature [K]: 302.3</br>Rotational speed [rpm]: 1544.0</br>Torque [Nm]: 39.7</br>Tool wear [min]: 141.0</br>TWF: 0.0</br>HDF: 0.0</br>PWF: 0.0</br>OSF: 0.0</br>RNF: 0.0</br>_original_yhat_: 0.003318951211417192</br>"
          ],
          [
           "</br>id: 4176</br>prediction: 0.003</br>Process temperature [K]: 307.32</br></br>Type: M</br>Air temperature [K]: 302.3</br>Rotational speed [rpm]: 1544.0</br>Torque [Nm]: 39.7</br>Tool wear [min]: 141.0</br>TWF: 0.0</br>HDF: 0.0</br>PWF: 0.0</br>OSF: 0.0</br>RNF: 0.0</br>_original_yhat_: 0.003318951211417192</br>"
          ],
          [
           "</br>id: 4176</br>prediction: 0.003</br>Process temperature [K]: 307.401</br></br>Type: M</br>Air temperature [K]: 302.3</br>Rotational speed [rpm]: 1544.0</br>Torque [Nm]: 39.7</br>Tool wear [min]: 141.0</br>TWF: 0.0</br>HDF: 0.0</br>PWF: 0.0</br>OSF: 0.0</br>RNF: 0.0</br>_original_yhat_: 0.003318951211417192</br>"
          ],
          [
           "</br>id: 4176</br>prediction: 0.003</br>Process temperature [K]: 307.48199999999997</br></br>Type: M</br>Air temperature [K]: 302.3</br>Rotational speed [rpm]: 1544.0</br>Torque [Nm]: 39.7</br>Tool wear [min]: 141.0</br>TWF: 0.0</br>HDF: 0.0</br>PWF: 0.0</br>OSF: 0.0</br>RNF: 0.0</br>_original_yhat_: 0.003318951211417192</br>"
          ],
          [
           "</br>id: 4176</br>prediction: 0.003</br>Process temperature [K]: 307.563</br></br>Type: M</br>Air temperature [K]: 302.3</br>Rotational speed [rpm]: 1544.0</br>Torque [Nm]: 39.7</br>Tool wear [min]: 141.0</br>TWF: 0.0</br>HDF: 0.0</br>PWF: 0.0</br>OSF: 0.0</br>RNF: 0.0</br>_original_yhat_: 0.003318951211417192</br>"
          ],
          [
           "</br>id: 4176</br>prediction: 0.003</br>Process temperature [K]: 307.644</br></br>Type: M</br>Air temperature [K]: 302.3</br>Rotational speed [rpm]: 1544.0</br>Torque [Nm]: 39.7</br>Tool wear [min]: 141.0</br>TWF: 0.0</br>HDF: 0.0</br>PWF: 0.0</br>OSF: 0.0</br>RNF: 0.0</br>_original_yhat_: 0.003318951211417192</br>"
          ],
          [
           "</br>id: 4176</br>prediction: 0.003</br>Process temperature [K]: 307.725</br></br>Type: M</br>Air temperature [K]: 302.3</br>Rotational speed [rpm]: 1544.0</br>Torque [Nm]: 39.7</br>Tool wear [min]: 141.0</br>TWF: 0.0</br>HDF: 0.0</br>PWF: 0.0</br>OSF: 0.0</br>RNF: 0.0</br>_original_yhat_: 0.003318951211417192</br>"
          ],
          [
           "</br>id: 4176</br>prediction: 0.003</br>Process temperature [K]: 307.806</br></br>Type: M</br>Air temperature [K]: 302.3</br>Rotational speed [rpm]: 1544.0</br>Torque [Nm]: 39.7</br>Tool wear [min]: 141.0</br>TWF: 0.0</br>HDF: 0.0</br>PWF: 0.0</br>OSF: 0.0</br>RNF: 0.0</br>_original_yhat_: 0.003318951211417192</br>"
          ],
          [
           "</br>id: 4176</br>prediction: 0.003</br>Process temperature [K]: 307.887</br></br>Type: M</br>Air temperature [K]: 302.3</br>Rotational speed [rpm]: 1544.0</br>Torque [Nm]: 39.7</br>Tool wear [min]: 141.0</br>TWF: 0.0</br>HDF: 0.0</br>PWF: 0.0</br>OSF: 0.0</br>RNF: 0.0</br>_original_yhat_: 0.003318951211417192</br>"
          ],
          [
           "</br>id: 4176</br>prediction: 0.003</br>Process temperature [K]: 307.968</br></br>Type: M</br>Air temperature [K]: 302.3</br>Rotational speed [rpm]: 1544.0</br>Torque [Nm]: 39.7</br>Tool wear [min]: 141.0</br>TWF: 0.0</br>HDF: 0.0</br>PWF: 0.0</br>OSF: 0.0</br>RNF: 0.0</br>_original_yhat_: 0.003318951211417192</br>"
          ],
          [
           "</br>id: 4176</br>prediction: 0.003</br>Process temperature [K]: 308.049</br></br>Type: M</br>Air temperature [K]: 302.3</br>Rotational speed [rpm]: 1544.0</br>Torque [Nm]: 39.7</br>Tool wear [min]: 141.0</br>TWF: 0.0</br>HDF: 0.0</br>PWF: 0.0</br>OSF: 0.0</br>RNF: 0.0</br>_original_yhat_: 0.003318951211417192</br>"
          ],
          [
           "</br>id: 4176</br>prediction: 0.003</br>Process temperature [K]: 308.13</br></br>Type: M</br>Air temperature [K]: 302.3</br>Rotational speed [rpm]: 1544.0</br>Torque [Nm]: 39.7</br>Tool wear [min]: 141.0</br>TWF: 0.0</br>HDF: 0.0</br>PWF: 0.0</br>OSF: 0.0</br>RNF: 0.0</br>_original_yhat_: 0.003318951211417192</br>"
          ],
          [
           "</br>id: 4176</br>prediction: 0.003</br>Process temperature [K]: 308.211</br></br>Type: M</br>Air temperature [K]: 302.3</br>Rotational speed [rpm]: 1544.0</br>Torque [Nm]: 39.7</br>Tool wear [min]: 141.0</br>TWF: 0.0</br>HDF: 0.0</br>PWF: 0.0</br>OSF: 0.0</br>RNF: 0.0</br>_original_yhat_: 0.003318951211417192</br>"
          ],
          [
           "</br>id: 4176</br>prediction: 0.003</br>Process temperature [K]: 308.292</br></br>Type: M</br>Air temperature [K]: 302.3</br>Rotational speed [rpm]: 1544.0</br>Torque [Nm]: 39.7</br>Tool wear [min]: 141.0</br>TWF: 0.0</br>HDF: 0.0</br>PWF: 0.0</br>OSF: 0.0</br>RNF: 0.0</br>_original_yhat_: 0.003318951211417192</br>"
          ],
          [
           "</br>id: 4176</br>prediction: 0.003</br>Process temperature [K]: 308.373</br></br>Type: M</br>Air temperature [K]: 302.3</br>Rotational speed [rpm]: 1544.0</br>Torque [Nm]: 39.7</br>Tool wear [min]: 141.0</br>TWF: 0.0</br>HDF: 0.0</br>PWF: 0.0</br>OSF: 0.0</br>RNF: 0.0</br>_original_yhat_: 0.003318951211417192</br>"
          ],
          [
           "</br>id: 4176</br>prediction: 0.003</br>Process temperature [K]: 308.454</br></br>Type: M</br>Air temperature [K]: 302.3</br>Rotational speed [rpm]: 1544.0</br>Torque [Nm]: 39.7</br>Tool wear [min]: 141.0</br>TWF: 0.0</br>HDF: 0.0</br>PWF: 0.0</br>OSF: 0.0</br>RNF: 0.0</br>_original_yhat_: 0.003318951211417192</br>"
          ],
          [
           "</br>id: 4176</br>prediction: 0.003</br>Process temperature [K]: 308.53499999999997</br></br>Type: M</br>Air temperature [K]: 302.3</br>Rotational speed [rpm]: 1544.0</br>Torque [Nm]: 39.7</br>Tool wear [min]: 141.0</br>TWF: 0.0</br>HDF: 0.0</br>PWF: 0.0</br>OSF: 0.0</br>RNF: 0.0</br>_original_yhat_: 0.003318951211417192</br>"
          ],
          [
           "</br>id: 4176</br>prediction: 0.003</br>Process temperature [K]: 308.616</br></br>Type: M</br>Air temperature [K]: 302.3</br>Rotational speed [rpm]: 1544.0</br>Torque [Nm]: 39.7</br>Tool wear [min]: 141.0</br>TWF: 0.0</br>HDF: 0.0</br>PWF: 0.0</br>OSF: 0.0</br>RNF: 0.0</br>_original_yhat_: 0.003318951211417192</br>"
          ],
          [
           "</br>id: 4176</br>prediction: 0.003</br>Process temperature [K]: 308.697</br></br>Type: M</br>Air temperature [K]: 302.3</br>Rotational speed [rpm]: 1544.0</br>Torque [Nm]: 39.7</br>Tool wear [min]: 141.0</br>TWF: 0.0</br>HDF: 0.0</br>PWF: 0.0</br>OSF: 0.0</br>RNF: 0.0</br>_original_yhat_: 0.003318951211417192</br>"
          ],
          [
           "</br>id: 4176</br>prediction: 0.003</br>Process temperature [K]: 308.778</br></br>Type: M</br>Air temperature [K]: 302.3</br>Rotational speed [rpm]: 1544.0</br>Torque [Nm]: 39.7</br>Tool wear [min]: 141.0</br>TWF: 0.0</br>HDF: 0.0</br>PWF: 0.0</br>OSF: 0.0</br>RNF: 0.0</br>_original_yhat_: 0.003318951211417192</br>"
          ],
          [
           "</br>id: 4176</br>prediction: 0.003</br>Process temperature [K]: 308.859</br></br>Type: M</br>Air temperature [K]: 302.3</br>Rotational speed [rpm]: 1544.0</br>Torque [Nm]: 39.7</br>Tool wear [min]: 141.0</br>TWF: 0.0</br>HDF: 0.0</br>PWF: 0.0</br>OSF: 0.0</br>RNF: 0.0</br>_original_yhat_: 0.003318951211417192</br>"
          ],
          [
           "</br>id: 4176</br>prediction: 0.003</br>Process temperature [K]: 308.94</br></br>Type: M</br>Air temperature [K]: 302.3</br>Rotational speed [rpm]: 1544.0</br>Torque [Nm]: 39.7</br>Tool wear [min]: 141.0</br>TWF: 0.0</br>HDF: 0.0</br>PWF: 0.0</br>OSF: 0.0</br>RNF: 0.0</br>_original_yhat_: 0.003318951211417192</br>"
          ],
          [
           "</br>id: 4176</br>prediction: 0.003</br>Process temperature [K]: 309.021</br></br>Type: M</br>Air temperature [K]: 302.3</br>Rotational speed [rpm]: 1544.0</br>Torque [Nm]: 39.7</br>Tool wear [min]: 141.0</br>TWF: 0.0</br>HDF: 0.0</br>PWF: 0.0</br>OSF: 0.0</br>RNF: 0.0</br>_original_yhat_: 0.003318951211417192</br>"
          ],
          [
           "</br>id: 4176</br>prediction: 0.003</br>Process temperature [K]: 309.102</br></br>Type: M</br>Air temperature [K]: 302.3</br>Rotational speed [rpm]: 1544.0</br>Torque [Nm]: 39.7</br>Tool wear [min]: 141.0</br>TWF: 0.0</br>HDF: 0.0</br>PWF: 0.0</br>OSF: 0.0</br>RNF: 0.0</br>_original_yhat_: 0.003318951211417192</br>"
          ],
          [
           "</br>id: 4176</br>prediction: 0.003</br>Process temperature [K]: 309.183</br></br>Type: M</br>Air temperature [K]: 302.3</br>Rotational speed [rpm]: 1544.0</br>Torque [Nm]: 39.7</br>Tool wear [min]: 141.0</br>TWF: 0.0</br>HDF: 0.0</br>PWF: 0.0</br>OSF: 0.0</br>RNF: 0.0</br>_original_yhat_: 0.003318951211417192</br>"
          ],
          [
           "</br>id: 4176</br>prediction: 0.003</br>Process temperature [K]: 309.264</br></br>Type: M</br>Air temperature [K]: 302.3</br>Rotational speed [rpm]: 1544.0</br>Torque [Nm]: 39.7</br>Tool wear [min]: 141.0</br>TWF: 0.0</br>HDF: 0.0</br>PWF: 0.0</br>OSF: 0.0</br>RNF: 0.0</br>_original_yhat_: 0.003318951211417192</br>"
          ],
          [
           "</br>id: 4176</br>prediction: 0.003</br>Process temperature [K]: 309.345</br></br>Type: M</br>Air temperature [K]: 302.3</br>Rotational speed [rpm]: 1544.0</br>Torque [Nm]: 39.7</br>Tool wear [min]: 141.0</br>TWF: 0.0</br>HDF: 0.0</br>PWF: 0.0</br>OSF: 0.0</br>RNF: 0.0</br>_original_yhat_: 0.003318951211417192</br>"
          ],
          [
           "</br>id: 4176</br>prediction: 0.003</br>Process temperature [K]: 309.426</br></br>Type: M</br>Air temperature [K]: 302.3</br>Rotational speed [rpm]: 1544.0</br>Torque [Nm]: 39.7</br>Tool wear [min]: 141.0</br>TWF: 0.0</br>HDF: 0.0</br>PWF: 0.0</br>OSF: 0.0</br>RNF: 0.0</br>_original_yhat_: 0.003318951211417192</br>"
          ],
          [
           "</br>id: 4176</br>prediction: 0.003</br>Process temperature [K]: 309.507</br></br>Type: M</br>Air temperature [K]: 302.3</br>Rotational speed [rpm]: 1544.0</br>Torque [Nm]: 39.7</br>Tool wear [min]: 141.0</br>TWF: 0.0</br>HDF: 0.0</br>PWF: 0.0</br>OSF: 0.0</br>RNF: 0.0</br>_original_yhat_: 0.003318951211417192</br>"
          ],
          [
           "</br>id: 4176</br>prediction: 0.003</br>Process temperature [K]: 309.588</br></br>Type: M</br>Air temperature [K]: 302.3</br>Rotational speed [rpm]: 1544.0</br>Torque [Nm]: 39.7</br>Tool wear [min]: 141.0</br>TWF: 0.0</br>HDF: 0.0</br>PWF: 0.0</br>OSF: 0.0</br>RNF: 0.0</br>_original_yhat_: 0.003318951211417192</br>"
          ],
          [
           "</br>id: 4176</br>prediction: 0.003</br>Process temperature [K]: 309.669</br></br>Type: M</br>Air temperature [K]: 302.3</br>Rotational speed [rpm]: 1544.0</br>Torque [Nm]: 39.7</br>Tool wear [min]: 141.0</br>TWF: 0.0</br>HDF: 0.0</br>PWF: 0.0</br>OSF: 0.0</br>RNF: 0.0</br>_original_yhat_: 0.003318951211417192</br>"
          ],
          [
           "</br>id: 4176</br>prediction: 0.003</br>Process temperature [K]: 309.75</br></br>Type: M</br>Air temperature [K]: 302.3</br>Rotational speed [rpm]: 1544.0</br>Torque [Nm]: 39.7</br>Tool wear [min]: 141.0</br>TWF: 0.0</br>HDF: 0.0</br>PWF: 0.0</br>OSF: 0.0</br>RNF: 0.0</br>_original_yhat_: 0.003318951211417192</br>"
          ],
          [
           "</br>id: 4176</br>prediction: 0.003</br>Process temperature [K]: 309.831</br></br>Type: M</br>Air temperature [K]: 302.3</br>Rotational speed [rpm]: 1544.0</br>Torque [Nm]: 39.7</br>Tool wear [min]: 141.0</br>TWF: 0.0</br>HDF: 0.0</br>PWF: 0.0</br>OSF: 0.0</br>RNF: 0.0</br>_original_yhat_: 0.003318951211417192</br>"
          ],
          [
           "</br>id: 4176</br>prediction: 0.003</br>Process temperature [K]: 309.912</br></br>Type: M</br>Air temperature [K]: 302.3</br>Rotational speed [rpm]: 1544.0</br>Torque [Nm]: 39.7</br>Tool wear [min]: 141.0</br>TWF: 0.0</br>HDF: 0.0</br>PWF: 0.0</br>OSF: 0.0</br>RNF: 0.0</br>_original_yhat_: 0.003318951211417192</br>"
          ],
          [
           "</br>id: 4176</br>prediction: 0.003</br>Process temperature [K]: 309.993</br></br>Type: M</br>Air temperature [K]: 302.3</br>Rotational speed [rpm]: 1544.0</br>Torque [Nm]: 39.7</br>Tool wear [min]: 141.0</br>TWF: 0.0</br>HDF: 0.0</br>PWF: 0.0</br>OSF: 0.0</br>RNF: 0.0</br>_original_yhat_: 0.003318951211417192</br>"
          ],
          [
           "</br>id: 4176</br>prediction: 0.003</br>Process temperature [K]: 310.074</br></br>Type: M</br>Air temperature [K]: 302.3</br>Rotational speed [rpm]: 1544.0</br>Torque [Nm]: 39.7</br>Tool wear [min]: 141.0</br>TWF: 0.0</br>HDF: 0.0</br>PWF: 0.0</br>OSF: 0.0</br>RNF: 0.0</br>_original_yhat_: 0.003318951211417192</br>"
          ],
          [
           "</br>id: 4176</br>prediction: 0.003</br>Process temperature [K]: 310.155</br></br>Type: M</br>Air temperature [K]: 302.3</br>Rotational speed [rpm]: 1544.0</br>Torque [Nm]: 39.7</br>Tool wear [min]: 141.0</br>TWF: 0.0</br>HDF: 0.0</br>PWF: 0.0</br>OSF: 0.0</br>RNF: 0.0</br>_original_yhat_: 0.003318951211417192</br>"
          ],
          [
           "</br>id: 4176</br>prediction: 0.003</br>Process temperature [K]: 310.236</br></br>Type: M</br>Air temperature [K]: 302.3</br>Rotational speed [rpm]: 1544.0</br>Torque [Nm]: 39.7</br>Tool wear [min]: 141.0</br>TWF: 0.0</br>HDF: 0.0</br>PWF: 0.0</br>OSF: 0.0</br>RNF: 0.0</br>_original_yhat_: 0.003318951211417192</br>"
          ],
          [
           "</br>id: 4176</br>prediction: 0.003</br>Process temperature [K]: 310.317</br></br>Type: M</br>Air temperature [K]: 302.3</br>Rotational speed [rpm]: 1544.0</br>Torque [Nm]: 39.7</br>Tool wear [min]: 141.0</br>TWF: 0.0</br>HDF: 0.0</br>PWF: 0.0</br>OSF: 0.0</br>RNF: 0.0</br>_original_yhat_: 0.003318951211417192</br>"
          ],
          [
           "</br>id: 4176</br>prediction: 0.003</br>Process temperature [K]: 310.398</br></br>Type: M</br>Air temperature [K]: 302.3</br>Rotational speed [rpm]: 1544.0</br>Torque [Nm]: 39.7</br>Tool wear [min]: 141.0</br>TWF: 0.0</br>HDF: 0.0</br>PWF: 0.0</br>OSF: 0.0</br>RNF: 0.0</br>_original_yhat_: 0.003318951211417192</br>"
          ],
          [
           "</br>id: 4176</br>prediction: 0.003</br>Process temperature [K]: 310.479</br></br>Type: M</br>Air temperature [K]: 302.3</br>Rotational speed [rpm]: 1544.0</br>Torque [Nm]: 39.7</br>Tool wear [min]: 141.0</br>TWF: 0.0</br>HDF: 0.0</br>PWF: 0.0</br>OSF: 0.0</br>RNF: 0.0</br>_original_yhat_: 0.003318951211417192</br>"
          ],
          [
           "</br>id: 4176</br>prediction: 0.003</br>Process temperature [K]: 310.56</br></br>Type: M</br>Air temperature [K]: 302.3</br>Rotational speed [rpm]: 1544.0</br>Torque [Nm]: 39.7</br>Tool wear [min]: 141.0</br>TWF: 0.0</br>HDF: 0.0</br>PWF: 0.0</br>OSF: 0.0</br>RNF: 0.0</br>_original_yhat_: 0.003318951211417192</br>"
          ],
          [
           "</br>id: 4176</br>prediction: 0.003</br>Process temperature [K]: 310.641</br></br>Type: M</br>Air temperature [K]: 302.3</br>Rotational speed [rpm]: 1544.0</br>Torque [Nm]: 39.7</br>Tool wear [min]: 141.0</br>TWF: 0.0</br>HDF: 0.0</br>PWF: 0.0</br>OSF: 0.0</br>RNF: 0.0</br>_original_yhat_: 0.003318951211417192</br>"
          ],
          [
           "</br>id: 4176</br>prediction: 0.003</br>Process temperature [K]: 310.7</br></br>Type: M</br>Air temperature [K]: 302.3</br>Rotational speed [rpm]: 1544.0</br>Torque [Nm]: 39.7</br>Tool wear [min]: 141.0</br>TWF: 0.0</br>HDF: 0.0</br>PWF: 0.0</br>OSF: 0.0</br>RNF: 0.0</br>_original_yhat_: 0.003318951211417192</br>"
          ],
          [
           "</br>id: 4176</br>prediction: 0.003</br>Process temperature [K]: 310.722</br></br>Type: M</br>Air temperature [K]: 302.3</br>Rotational speed [rpm]: 1544.0</br>Torque [Nm]: 39.7</br>Tool wear [min]: 141.0</br>TWF: 0.0</br>HDF: 0.0</br>PWF: 0.0</br>OSF: 0.0</br>RNF: 0.0</br>_original_yhat_: 0.003318951211417192</br>"
          ],
          [
           "</br>id: 4176</br>prediction: 0.003</br>Process temperature [K]: 310.803</br></br>Type: M</br>Air temperature [K]: 302.3</br>Rotational speed [rpm]: 1544.0</br>Torque [Nm]: 39.7</br>Tool wear [min]: 141.0</br>TWF: 0.0</br>HDF: 0.0</br>PWF: 0.0</br>OSF: 0.0</br>RNF: 0.0</br>_original_yhat_: 0.003318951211417192</br>"
          ],
          [
           "</br>id: 4176</br>prediction: 0.003</br>Process temperature [K]: 310.884</br></br>Type: M</br>Air temperature [K]: 302.3</br>Rotational speed [rpm]: 1544.0</br>Torque [Nm]: 39.7</br>Tool wear [min]: 141.0</br>TWF: 0.0</br>HDF: 0.0</br>PWF: 0.0</br>OSF: 0.0</br>RNF: 0.0</br>_original_yhat_: 0.003318951211417192</br>"
          ],
          [
           "</br>id: 4176</br>prediction: 0.003</br>Process temperature [K]: 310.96500000000003</br></br>Type: M</br>Air temperature [K]: 302.3</br>Rotational speed [rpm]: 1544.0</br>Torque [Nm]: 39.7</br>Tool wear [min]: 141.0</br>TWF: 0.0</br>HDF: 0.0</br>PWF: 0.0</br>OSF: 0.0</br>RNF: 0.0</br>_original_yhat_: 0.003318951211417192</br>"
          ],
          [
           "</br>id: 4176</br>prediction: 0.003</br>Process temperature [K]: 311.046</br></br>Type: M</br>Air temperature [K]: 302.3</br>Rotational speed [rpm]: 1544.0</br>Torque [Nm]: 39.7</br>Tool wear [min]: 141.0</br>TWF: 0.0</br>HDF: 0.0</br>PWF: 0.0</br>OSF: 0.0</br>RNF: 0.0</br>_original_yhat_: 0.003318951211417192</br>"
          ],
          [
           "</br>id: 4176</br>prediction: 0.003</br>Process temperature [K]: 311.127</br></br>Type: M</br>Air temperature [K]: 302.3</br>Rotational speed [rpm]: 1544.0</br>Torque [Nm]: 39.7</br>Tool wear [min]: 141.0</br>TWF: 0.0</br>HDF: 0.0</br>PWF: 0.0</br>OSF: 0.0</br>RNF: 0.0</br>_original_yhat_: 0.003318951211417192</br>"
          ],
          [
           "</br>id: 4176</br>prediction: 0.003</br>Process temperature [K]: 311.208</br></br>Type: M</br>Air temperature [K]: 302.3</br>Rotational speed [rpm]: 1544.0</br>Torque [Nm]: 39.7</br>Tool wear [min]: 141.0</br>TWF: 0.0</br>HDF: 0.0</br>PWF: 0.0</br>OSF: 0.0</br>RNF: 0.0</br>_original_yhat_: 0.003318951211417192</br>"
          ],
          [
           "</br>id: 4176</br>prediction: 0.003</br>Process temperature [K]: 311.289</br></br>Type: M</br>Air temperature [K]: 302.3</br>Rotational speed [rpm]: 1544.0</br>Torque [Nm]: 39.7</br>Tool wear [min]: 141.0</br>TWF: 0.0</br>HDF: 0.0</br>PWF: 0.0</br>OSF: 0.0</br>RNF: 0.0</br>_original_yhat_: 0.003318951211417192</br>"
          ],
          [
           "</br>id: 4176</br>prediction: 0.003</br>Process temperature [K]: 311.37</br></br>Type: M</br>Air temperature [K]: 302.3</br>Rotational speed [rpm]: 1544.0</br>Torque [Nm]: 39.7</br>Tool wear [min]: 141.0</br>TWF: 0.0</br>HDF: 0.0</br>PWF: 0.0</br>OSF: 0.0</br>RNF: 0.0</br>_original_yhat_: 0.003318951211417192</br>"
          ],
          [
           "</br>id: 4176</br>prediction: 0.003</br>Process temperature [K]: 311.451</br></br>Type: M</br>Air temperature [K]: 302.3</br>Rotational speed [rpm]: 1544.0</br>Torque [Nm]: 39.7</br>Tool wear [min]: 141.0</br>TWF: 0.0</br>HDF: 0.0</br>PWF: 0.0</br>OSF: 0.0</br>RNF: 0.0</br>_original_yhat_: 0.003318951211417192</br>"
          ],
          [
           "</br>id: 4176</br>prediction: 0.003</br>Process temperature [K]: 311.532</br></br>Type: M</br>Air temperature [K]: 302.3</br>Rotational speed [rpm]: 1544.0</br>Torque [Nm]: 39.7</br>Tool wear [min]: 141.0</br>TWF: 0.0</br>HDF: 0.0</br>PWF: 0.0</br>OSF: 0.0</br>RNF: 0.0</br>_original_yhat_: 0.003318951211417192</br>"
          ],
          [
           "</br>id: 4176</br>prediction: 0.003</br>Process temperature [K]: 311.613</br></br>Type: M</br>Air temperature [K]: 302.3</br>Rotational speed [rpm]: 1544.0</br>Torque [Nm]: 39.7</br>Tool wear [min]: 141.0</br>TWF: 0.0</br>HDF: 0.0</br>PWF: 0.0</br>OSF: 0.0</br>RNF: 0.0</br>_original_yhat_: 0.003318951211417192</br>"
          ],
          [
           "</br>id: 4176</br>prediction: 0.003</br>Process temperature [K]: 311.694</br></br>Type: M</br>Air temperature [K]: 302.3</br>Rotational speed [rpm]: 1544.0</br>Torque [Nm]: 39.7</br>Tool wear [min]: 141.0</br>TWF: 0.0</br>HDF: 0.0</br>PWF: 0.0</br>OSF: 0.0</br>RNF: 0.0</br>_original_yhat_: 0.003318951211417192</br>"
          ],
          [
           "</br>id: 4176</br>prediction: 0.003</br>Process temperature [K]: 311.775</br></br>Type: M</br>Air temperature [K]: 302.3</br>Rotational speed [rpm]: 1544.0</br>Torque [Nm]: 39.7</br>Tool wear [min]: 141.0</br>TWF: 0.0</br>HDF: 0.0</br>PWF: 0.0</br>OSF: 0.0</br>RNF: 0.0</br>_original_yhat_: 0.003318951211417192</br>"
          ],
          [
           "</br>id: 4176</br>prediction: 0.003</br>Process temperature [K]: 311.856</br></br>Type: M</br>Air temperature [K]: 302.3</br>Rotational speed [rpm]: 1544.0</br>Torque [Nm]: 39.7</br>Tool wear [min]: 141.0</br>TWF: 0.0</br>HDF: 0.0</br>PWF: 0.0</br>OSF: 0.0</br>RNF: 0.0</br>_original_yhat_: 0.003318951211417192</br>"
          ],
          [
           "</br>id: 4176</br>prediction: 0.003</br>Process temperature [K]: 311.937</br></br>Type: M</br>Air temperature [K]: 302.3</br>Rotational speed [rpm]: 1544.0</br>Torque [Nm]: 39.7</br>Tool wear [min]: 141.0</br>TWF: 0.0</br>HDF: 0.0</br>PWF: 0.0</br>OSF: 0.0</br>RNF: 0.0</br>_original_yhat_: 0.003318951211417192</br>"
          ],
          [
           "</br>id: 4176</br>prediction: 0.003</br>Process temperature [K]: 312.01800000000003</br></br>Type: M</br>Air temperature [K]: 302.3</br>Rotational speed [rpm]: 1544.0</br>Torque [Nm]: 39.7</br>Tool wear [min]: 141.0</br>TWF: 0.0</br>HDF: 0.0</br>PWF: 0.0</br>OSF: 0.0</br>RNF: 0.0</br>_original_yhat_: 0.003318951211417192</br>"
          ],
          [
           "</br>id: 4176</br>prediction: 0.003</br>Process temperature [K]: 312.099</br></br>Type: M</br>Air temperature [K]: 302.3</br>Rotational speed [rpm]: 1544.0</br>Torque [Nm]: 39.7</br>Tool wear [min]: 141.0</br>TWF: 0.0</br>HDF: 0.0</br>PWF: 0.0</br>OSF: 0.0</br>RNF: 0.0</br>_original_yhat_: 0.003318951211417192</br>"
          ],
          [
           "</br>id: 4176</br>prediction: 0.003</br>Process temperature [K]: 312.18</br></br>Type: M</br>Air temperature [K]: 302.3</br>Rotational speed [rpm]: 1544.0</br>Torque [Nm]: 39.7</br>Tool wear [min]: 141.0</br>TWF: 0.0</br>HDF: 0.0</br>PWF: 0.0</br>OSF: 0.0</br>RNF: 0.0</br>_original_yhat_: 0.003318951211417192</br>"
          ],
          [
           "</br>id: 4176</br>prediction: 0.003</br>Process temperature [K]: 312.261</br></br>Type: M</br>Air temperature [K]: 302.3</br>Rotational speed [rpm]: 1544.0</br>Torque [Nm]: 39.7</br>Tool wear [min]: 141.0</br>TWF: 0.0</br>HDF: 0.0</br>PWF: 0.0</br>OSF: 0.0</br>RNF: 0.0</br>_original_yhat_: 0.003318951211417192</br>"
          ],
          [
           "</br>id: 4176</br>prediction: 0.003</br>Process temperature [K]: 312.342</br></br>Type: M</br>Air temperature [K]: 302.3</br>Rotational speed [rpm]: 1544.0</br>Torque [Nm]: 39.7</br>Tool wear [min]: 141.0</br>TWF: 0.0</br>HDF: 0.0</br>PWF: 0.0</br>OSF: 0.0</br>RNF: 0.0</br>_original_yhat_: 0.003318951211417192</br>"
          ],
          [
           "</br>id: 4176</br>prediction: 0.003</br>Process temperature [K]: 312.423</br></br>Type: M</br>Air temperature [K]: 302.3</br>Rotational speed [rpm]: 1544.0</br>Torque [Nm]: 39.7</br>Tool wear [min]: 141.0</br>TWF: 0.0</br>HDF: 0.0</br>PWF: 0.0</br>OSF: 0.0</br>RNF: 0.0</br>_original_yhat_: 0.003318951211417192</br>"
          ],
          [
           "</br>id: 4176</br>prediction: 0.003</br>Process temperature [K]: 312.504</br></br>Type: M</br>Air temperature [K]: 302.3</br>Rotational speed [rpm]: 1544.0</br>Torque [Nm]: 39.7</br>Tool wear [min]: 141.0</br>TWF: 0.0</br>HDF: 0.0</br>PWF: 0.0</br>OSF: 0.0</br>RNF: 0.0</br>_original_yhat_: 0.003318951211417192</br>"
          ],
          [
           "</br>id: 4176</br>prediction: 0.003</br>Process temperature [K]: 312.58500000000004</br></br>Type: M</br>Air temperature [K]: 302.3</br>Rotational speed [rpm]: 1544.0</br>Torque [Nm]: 39.7</br>Tool wear [min]: 141.0</br>TWF: 0.0</br>HDF: 0.0</br>PWF: 0.0</br>OSF: 0.0</br>RNF: 0.0</br>_original_yhat_: 0.003318951211417192</br>"
          ],
          [
           "</br>id: 4176</br>prediction: 0.003</br>Process temperature [K]: 312.666</br></br>Type: M</br>Air temperature [K]: 302.3</br>Rotational speed [rpm]: 1544.0</br>Torque [Nm]: 39.7</br>Tool wear [min]: 141.0</br>TWF: 0.0</br>HDF: 0.0</br>PWF: 0.0</br>OSF: 0.0</br>RNF: 0.0</br>_original_yhat_: 0.003318951211417192</br>"
          ],
          [
           "</br>id: 4176</br>prediction: 0.003</br>Process temperature [K]: 312.747</br></br>Type: M</br>Air temperature [K]: 302.3</br>Rotational speed [rpm]: 1544.0</br>Torque [Nm]: 39.7</br>Tool wear [min]: 141.0</br>TWF: 0.0</br>HDF: 0.0</br>PWF: 0.0</br>OSF: 0.0</br>RNF: 0.0</br>_original_yhat_: 0.003318951211417192</br>"
          ],
          [
           "</br>id: 4176</br>prediction: 0.003</br>Process temperature [K]: 312.82800000000003</br></br>Type: M</br>Air temperature [K]: 302.3</br>Rotational speed [rpm]: 1544.0</br>Torque [Nm]: 39.7</br>Tool wear [min]: 141.0</br>TWF: 0.0</br>HDF: 0.0</br>PWF: 0.0</br>OSF: 0.0</br>RNF: 0.0</br>_original_yhat_: 0.003318951211417192</br>"
          ],
          [
           "</br>id: 4176</br>prediction: 0.003</br>Process temperature [K]: 312.909</br></br>Type: M</br>Air temperature [K]: 302.3</br>Rotational speed [rpm]: 1544.0</br>Torque [Nm]: 39.7</br>Tool wear [min]: 141.0</br>TWF: 0.0</br>HDF: 0.0</br>PWF: 0.0</br>OSF: 0.0</br>RNF: 0.0</br>_original_yhat_: 0.003318951211417192</br>"
          ],
          [
           "</br>id: 4176</br>prediction: 0.003</br>Process temperature [K]: 312.99</br></br>Type: M</br>Air temperature [K]: 302.3</br>Rotational speed [rpm]: 1544.0</br>Torque [Nm]: 39.7</br>Tool wear [min]: 141.0</br>TWF: 0.0</br>HDF: 0.0</br>PWF: 0.0</br>OSF: 0.0</br>RNF: 0.0</br>_original_yhat_: 0.003318951211417192</br>"
          ],
          [
           "</br>id: 4176</br>prediction: 0.003</br>Process temperature [K]: 313.071</br></br>Type: M</br>Air temperature [K]: 302.3</br>Rotational speed [rpm]: 1544.0</br>Torque [Nm]: 39.7</br>Tool wear [min]: 141.0</br>TWF: 0.0</br>HDF: 0.0</br>PWF: 0.0</br>OSF: 0.0</br>RNF: 0.0</br>_original_yhat_: 0.003318951211417192</br>"
          ],
          [
           "</br>id: 4176</br>prediction: 0.003</br>Process temperature [K]: 313.152</br></br>Type: M</br>Air temperature [K]: 302.3</br>Rotational speed [rpm]: 1544.0</br>Torque [Nm]: 39.7</br>Tool wear [min]: 141.0</br>TWF: 0.0</br>HDF: 0.0</br>PWF: 0.0</br>OSF: 0.0</br>RNF: 0.0</br>_original_yhat_: 0.003318951211417192</br>"
          ],
          [
           "</br>id: 4176</br>prediction: 0.003</br>Process temperature [K]: 313.233</br></br>Type: M</br>Air temperature [K]: 302.3</br>Rotational speed [rpm]: 1544.0</br>Torque [Nm]: 39.7</br>Tool wear [min]: 141.0</br>TWF: 0.0</br>HDF: 0.0</br>PWF: 0.0</br>OSF: 0.0</br>RNF: 0.0</br>_original_yhat_: 0.003318951211417192</br>"
          ],
          [
           "</br>id: 4176</br>prediction: 0.003</br>Process temperature [K]: 313.314</br></br>Type: M</br>Air temperature [K]: 302.3</br>Rotational speed [rpm]: 1544.0</br>Torque [Nm]: 39.7</br>Tool wear [min]: 141.0</br>TWF: 0.0</br>HDF: 0.0</br>PWF: 0.0</br>OSF: 0.0</br>RNF: 0.0</br>_original_yhat_: 0.003318951211417192</br>"
          ],
          [
           "</br>id: 4176</br>prediction: 0.003</br>Process temperature [K]: 313.395</br></br>Type: M</br>Air temperature [K]: 302.3</br>Rotational speed [rpm]: 1544.0</br>Torque [Nm]: 39.7</br>Tool wear [min]: 141.0</br>TWF: 0.0</br>HDF: 0.0</br>PWF: 0.0</br>OSF: 0.0</br>RNF: 0.0</br>_original_yhat_: 0.003318951211417192</br>"
          ],
          [
           "</br>id: 4176</br>prediction: 0.003</br>Process temperature [K]: 313.476</br></br>Type: M</br>Air temperature [K]: 302.3</br>Rotational speed [rpm]: 1544.0</br>Torque [Nm]: 39.7</br>Tool wear [min]: 141.0</br>TWF: 0.0</br>HDF: 0.0</br>PWF: 0.0</br>OSF: 0.0</br>RNF: 0.0</br>_original_yhat_: 0.003318951211417192</br>"
          ],
          [
           "</br>id: 4176</br>prediction: 0.003</br>Process temperature [K]: 313.557</br></br>Type: M</br>Air temperature [K]: 302.3</br>Rotational speed [rpm]: 1544.0</br>Torque [Nm]: 39.7</br>Tool wear [min]: 141.0</br>TWF: 0.0</br>HDF: 0.0</br>PWF: 0.0</br>OSF: 0.0</br>RNF: 0.0</br>_original_yhat_: 0.003318951211417192</br>"
          ],
          [
           "</br>id: 4176</br>prediction: 0.003</br>Process temperature [K]: 313.63800000000003</br></br>Type: M</br>Air temperature [K]: 302.3</br>Rotational speed [rpm]: 1544.0</br>Torque [Nm]: 39.7</br>Tool wear [min]: 141.0</br>TWF: 0.0</br>HDF: 0.0</br>PWF: 0.0</br>OSF: 0.0</br>RNF: 0.0</br>_original_yhat_: 0.003318951211417192</br>"
          ],
          [
           "</br>id: 4176</br>prediction: 0.003</br>Process temperature [K]: 313.719</br></br>Type: M</br>Air temperature [K]: 302.3</br>Rotational speed [rpm]: 1544.0</br>Torque [Nm]: 39.7</br>Tool wear [min]: 141.0</br>TWF: 0.0</br>HDF: 0.0</br>PWF: 0.0</br>OSF: 0.0</br>RNF: 0.0</br>_original_yhat_: 0.003318951211417192</br>"
          ],
          [
           "</br>id: 4176</br>prediction: 0.003</br>Process temperature [K]: 313.8</br></br>Type: M</br>Air temperature [K]: 302.3</br>Rotational speed [rpm]: 1544.0</br>Torque [Nm]: 39.7</br>Tool wear [min]: 141.0</br>TWF: 0.0</br>HDF: 0.0</br>PWF: 0.0</br>OSF: 0.0</br>RNF: 0.0</br>_original_yhat_: 0.003318951211417192</br>"
          ]
         ],
         "hovertemplate": "%{customdata[0]}<extra></extra>",
         "legendgroup": "testing",
         "line": {
          "color": "#46bac2",
          "dash": "solid",
          "width": 2
         },
         "marker": {
          "symbol": "circle"
         },
         "mode": "lines",
         "name": "testing",
         "opacity": 1,
         "showlegend": false,
         "type": "scattergl",
         "x": [
          305.7,
          305.781,
          305.86199999999997,
          305.943,
          306.024,
          306.105,
          306.186,
          306.267,
          306.348,
          306.429,
          306.51,
          306.591,
          306.67199999999997,
          306.753,
          306.834,
          306.91499999999996,
          306.996,
          307.077,
          307.158,
          307.239,
          307.32,
          307.401,
          307.48199999999997,
          307.563,
          307.644,
          307.725,
          307.806,
          307.887,
          307.968,
          308.049,
          308.13,
          308.211,
          308.292,
          308.373,
          308.454,
          308.53499999999997,
          308.616,
          308.697,
          308.778,
          308.859,
          308.94,
          309.021,
          309.102,
          309.183,
          309.264,
          309.345,
          309.426,
          309.507,
          309.588,
          309.669,
          309.75,
          309.831,
          309.912,
          309.993,
          310.074,
          310.155,
          310.236,
          310.317,
          310.398,
          310.479,
          310.56,
          310.641,
          310.7,
          310.722,
          310.803,
          310.884,
          310.96500000000003,
          311.046,
          311.127,
          311.208,
          311.289,
          311.37,
          311.451,
          311.532,
          311.613,
          311.694,
          311.775,
          311.856,
          311.937,
          312.01800000000003,
          312.099,
          312.18,
          312.261,
          312.342,
          312.423,
          312.504,
          312.58500000000004,
          312.666,
          312.747,
          312.82800000000003,
          312.909,
          312.99,
          313.071,
          313.152,
          313.233,
          313.314,
          313.395,
          313.476,
          313.557,
          313.63800000000003,
          313.719,
          313.8
         ],
         "xaxis": "x10",
         "y": [
          0.003318951211417192,
          0.003318951211417192,
          0.003318951211417192,
          0.003318951211417192,
          0.003318951211417192,
          0.003318951211417192,
          0.003318951211417192,
          0.003318951211417192,
          0.003318951211417192,
          0.003318951211417192,
          0.003318951211417192,
          0.003318951211417192,
          0.003318951211417192,
          0.003318951211417192,
          0.003318951211417192,
          0.003318951211417192,
          0.003318951211417192,
          0.003318951211417192,
          0.003318951211417192,
          0.003318951211417192,
          0.003318951211417192,
          0.003318951211417192,
          0.003318951211417192,
          0.003318951211417192,
          0.003318951211417192,
          0.003318951211417192,
          0.003318951211417192,
          0.003318951211417192,
          0.003318951211417192,
          0.003318951211417192,
          0.003318951211417192,
          0.003318951211417192,
          0.003318951211417192,
          0.003318951211417192,
          0.003318951211417192,
          0.003318951211417192,
          0.003318951211417192,
          0.003318951211417192,
          0.003318951211417192,
          0.003318951211417192,
          0.003318951211417192,
          0.003318951211417192,
          0.003318951211417192,
          0.003318951211417192,
          0.003318951211417192,
          0.003318951211417192,
          0.003318951211417192,
          0.003318951211417192,
          0.003318951211417192,
          0.003318951211417192,
          0.003318951211417192,
          0.003318951211417192,
          0.003318951211417192,
          0.003318951211417192,
          0.003318951211417192,
          0.003318951211417192,
          0.003318951211417192,
          0.003318951211417192,
          0.003318951211417192,
          0.003318951211417192,
          0.003318951211417192,
          0.003318951211417192,
          0.003318951211417192,
          0.003318951211417192,
          0.003318951211417192,
          0.003318951211417192,
          0.003318951211417192,
          0.003318951211417192,
          0.003318951211417192,
          0.003318951211417192,
          0.003318951211417192,
          0.003318951211417192,
          0.003318951211417192,
          0.003318951211417192,
          0.003318951211417192,
          0.003318951211417192,
          0.003318951211417192,
          0.003318951211417192,
          0.003318951211417192,
          0.003318951211417192,
          0.003318951211417192,
          0.003318951211417192,
          0.003318951211417192,
          0.003318951211417192,
          0.003318951211417192,
          0.003318951211417192,
          0.003318951211417192,
          0.003318951211417192,
          0.003318951211417192,
          0.003318951211417192,
          0.003318951211417192,
          0.003318951211417192,
          0.003318951211417192,
          0.003318951211417192,
          0.003318951211417192,
          0.003318951211417192,
          0.003318951211417192,
          0.003318951211417192,
          0.003318951211417192,
          0.003318951211417192,
          0.003318951211417192,
          0.003318951211417192
         ],
         "yaxis": "y10"
        },
        {
         "customdata": [
          [
           "</br>id: 4176</br>prediction: 0.003</br>Rotational speed [rpm]: 1168.0</br></br>Type: M</br>Air temperature [K]: 302.3</br>Process temperature [K]: 310.7</br>Torque [Nm]: 39.7</br>Tool wear [min]: 141.0</br>TWF: 0.0</br>HDF: 0.0</br>PWF: 0.0</br>OSF: 0.0</br>RNF: 0.0</br>_original_yhat_: 0.003318951211417192</br>"
          ],
          [
           "</br>id: 4176</br>prediction: 0.003</br>Rotational speed [rpm]: 1184.93</br></br>Type: M</br>Air temperature [K]: 302.3</br>Process temperature [K]: 310.7</br>Torque [Nm]: 39.7</br>Tool wear [min]: 141.0</br>TWF: 0.0</br>HDF: 0.0</br>PWF: 0.0</br>OSF: 0.0</br>RNF: 0.0</br>_original_yhat_: 0.003318951211417192</br>"
          ],
          [
           "</br>id: 4176</br>prediction: 0.003</br>Rotational speed [rpm]: 1201.86</br></br>Type: M</br>Air temperature [K]: 302.3</br>Process temperature [K]: 310.7</br>Torque [Nm]: 39.7</br>Tool wear [min]: 141.0</br>TWF: 0.0</br>HDF: 0.0</br>PWF: 0.0</br>OSF: 0.0</br>RNF: 0.0</br>_original_yhat_: 0.003318951211417192</br>"
          ],
          [
           "</br>id: 4176</br>prediction: 0.003</br>Rotational speed [rpm]: 1218.79</br></br>Type: M</br>Air temperature [K]: 302.3</br>Process temperature [K]: 310.7</br>Torque [Nm]: 39.7</br>Tool wear [min]: 141.0</br>TWF: 0.0</br>HDF: 0.0</br>PWF: 0.0</br>OSF: 0.0</br>RNF: 0.0</br>_original_yhat_: 0.003318951211417192</br>"
          ],
          [
           "</br>id: 4176</br>prediction: 0.003</br>Rotational speed [rpm]: 1235.72</br></br>Type: M</br>Air temperature [K]: 302.3</br>Process temperature [K]: 310.7</br>Torque [Nm]: 39.7</br>Tool wear [min]: 141.0</br>TWF: 0.0</br>HDF: 0.0</br>PWF: 0.0</br>OSF: 0.0</br>RNF: 0.0</br>_original_yhat_: 0.003318951211417192</br>"
          ],
          [
           "</br>id: 4176</br>prediction: 0.003</br>Rotational speed [rpm]: 1252.65</br></br>Type: M</br>Air temperature [K]: 302.3</br>Process temperature [K]: 310.7</br>Torque [Nm]: 39.7</br>Tool wear [min]: 141.0</br>TWF: 0.0</br>HDF: 0.0</br>PWF: 0.0</br>OSF: 0.0</br>RNF: 0.0</br>_original_yhat_: 0.003318951211417192</br>"
          ],
          [
           "</br>id: 4176</br>prediction: 0.003</br>Rotational speed [rpm]: 1269.58</br></br>Type: M</br>Air temperature [K]: 302.3</br>Process temperature [K]: 310.7</br>Torque [Nm]: 39.7</br>Tool wear [min]: 141.0</br>TWF: 0.0</br>HDF: 0.0</br>PWF: 0.0</br>OSF: 0.0</br>RNF: 0.0</br>_original_yhat_: 0.003318951211417192</br>"
          ],
          [
           "</br>id: 4176</br>prediction: 0.003</br>Rotational speed [rpm]: 1286.51</br></br>Type: M</br>Air temperature [K]: 302.3</br>Process temperature [K]: 310.7</br>Torque [Nm]: 39.7</br>Tool wear [min]: 141.0</br>TWF: 0.0</br>HDF: 0.0</br>PWF: 0.0</br>OSF: 0.0</br>RNF: 0.0</br>_original_yhat_: 0.003318951211417192</br>"
          ],
          [
           "</br>id: 4176</br>prediction: 0.003</br>Rotational speed [rpm]: 1303.44</br></br>Type: M</br>Air temperature [K]: 302.3</br>Process temperature [K]: 310.7</br>Torque [Nm]: 39.7</br>Tool wear [min]: 141.0</br>TWF: 0.0</br>HDF: 0.0</br>PWF: 0.0</br>OSF: 0.0</br>RNF: 0.0</br>_original_yhat_: 0.003318951211417192</br>"
          ],
          [
           "</br>id: 4176</br>prediction: 0.003</br>Rotational speed [rpm]: 1320.37</br></br>Type: M</br>Air temperature [K]: 302.3</br>Process temperature [K]: 310.7</br>Torque [Nm]: 39.7</br>Tool wear [min]: 141.0</br>TWF: 0.0</br>HDF: 0.0</br>PWF: 0.0</br>OSF: 0.0</br>RNF: 0.0</br>_original_yhat_: 0.003318951211417192</br>"
          ],
          [
           "</br>id: 4176</br>prediction: 0.003</br>Rotational speed [rpm]: 1337.3</br></br>Type: M</br>Air temperature [K]: 302.3</br>Process temperature [K]: 310.7</br>Torque [Nm]: 39.7</br>Tool wear [min]: 141.0</br>TWF: 0.0</br>HDF: 0.0</br>PWF: 0.0</br>OSF: 0.0</br>RNF: 0.0</br>_original_yhat_: 0.003318951211417192</br>"
          ],
          [
           "</br>id: 4176</br>prediction: 0.003</br>Rotational speed [rpm]: 1354.23</br></br>Type: M</br>Air temperature [K]: 302.3</br>Process temperature [K]: 310.7</br>Torque [Nm]: 39.7</br>Tool wear [min]: 141.0</br>TWF: 0.0</br>HDF: 0.0</br>PWF: 0.0</br>OSF: 0.0</br>RNF: 0.0</br>_original_yhat_: 0.003318951211417192</br>"
          ],
          [
           "</br>id: 4176</br>prediction: 0.003</br>Rotational speed [rpm]: 1371.16</br></br>Type: M</br>Air temperature [K]: 302.3</br>Process temperature [K]: 310.7</br>Torque [Nm]: 39.7</br>Tool wear [min]: 141.0</br>TWF: 0.0</br>HDF: 0.0</br>PWF: 0.0</br>OSF: 0.0</br>RNF: 0.0</br>_original_yhat_: 0.003318951211417192</br>"
          ],
          [
           "</br>id: 4176</br>prediction: 0.003</br>Rotational speed [rpm]: 1388.09</br></br>Type: M</br>Air temperature [K]: 302.3</br>Process temperature [K]: 310.7</br>Torque [Nm]: 39.7</br>Tool wear [min]: 141.0</br>TWF: 0.0</br>HDF: 0.0</br>PWF: 0.0</br>OSF: 0.0</br>RNF: 0.0</br>_original_yhat_: 0.003318951211417192</br>"
          ],
          [
           "</br>id: 4176</br>prediction: 0.003</br>Rotational speed [rpm]: 1405.02</br></br>Type: M</br>Air temperature [K]: 302.3</br>Process temperature [K]: 310.7</br>Torque [Nm]: 39.7</br>Tool wear [min]: 141.0</br>TWF: 0.0</br>HDF: 0.0</br>PWF: 0.0</br>OSF: 0.0</br>RNF: 0.0</br>_original_yhat_: 0.003318951211417192</br>"
          ],
          [
           "</br>id: 4176</br>prediction: 0.003</br>Rotational speed [rpm]: 1421.95</br></br>Type: M</br>Air temperature [K]: 302.3</br>Process temperature [K]: 310.7</br>Torque [Nm]: 39.7</br>Tool wear [min]: 141.0</br>TWF: 0.0</br>HDF: 0.0</br>PWF: 0.0</br>OSF: 0.0</br>RNF: 0.0</br>_original_yhat_: 0.003318951211417192</br>"
          ],
          [
           "</br>id: 4176</br>prediction: 0.003</br>Rotational speed [rpm]: 1438.88</br></br>Type: M</br>Air temperature [K]: 302.3</br>Process temperature [K]: 310.7</br>Torque [Nm]: 39.7</br>Tool wear [min]: 141.0</br>TWF: 0.0</br>HDF: 0.0</br>PWF: 0.0</br>OSF: 0.0</br>RNF: 0.0</br>_original_yhat_: 0.003318951211417192</br>"
          ],
          [
           "</br>id: 4176</br>prediction: 0.003</br>Rotational speed [rpm]: 1455.81</br></br>Type: M</br>Air temperature [K]: 302.3</br>Process temperature [K]: 310.7</br>Torque [Nm]: 39.7</br>Tool wear [min]: 141.0</br>TWF: 0.0</br>HDF: 0.0</br>PWF: 0.0</br>OSF: 0.0</br>RNF: 0.0</br>_original_yhat_: 0.003318951211417192</br>"
          ],
          [
           "</br>id: 4176</br>prediction: 0.003</br>Rotational speed [rpm]: 1472.74</br></br>Type: M</br>Air temperature [K]: 302.3</br>Process temperature [K]: 310.7</br>Torque [Nm]: 39.7</br>Tool wear [min]: 141.0</br>TWF: 0.0</br>HDF: 0.0</br>PWF: 0.0</br>OSF: 0.0</br>RNF: 0.0</br>_original_yhat_: 0.003318951211417192</br>"
          ],
          [
           "</br>id: 4176</br>prediction: 0.003</br>Rotational speed [rpm]: 1489.67</br></br>Type: M</br>Air temperature [K]: 302.3</br>Process temperature [K]: 310.7</br>Torque [Nm]: 39.7</br>Tool wear [min]: 141.0</br>TWF: 0.0</br>HDF: 0.0</br>PWF: 0.0</br>OSF: 0.0</br>RNF: 0.0</br>_original_yhat_: 0.003318951211417192</br>"
          ],
          [
           "</br>id: 4176</br>prediction: 0.003</br>Rotational speed [rpm]: 1506.6</br></br>Type: M</br>Air temperature [K]: 302.3</br>Process temperature [K]: 310.7</br>Torque [Nm]: 39.7</br>Tool wear [min]: 141.0</br>TWF: 0.0</br>HDF: 0.0</br>PWF: 0.0</br>OSF: 0.0</br>RNF: 0.0</br>_original_yhat_: 0.003318951211417192</br>"
          ],
          [
           "</br>id: 4176</br>prediction: 0.003</br>Rotational speed [rpm]: 1523.53</br></br>Type: M</br>Air temperature [K]: 302.3</br>Process temperature [K]: 310.7</br>Torque [Nm]: 39.7</br>Tool wear [min]: 141.0</br>TWF: 0.0</br>HDF: 0.0</br>PWF: 0.0</br>OSF: 0.0</br>RNF: 0.0</br>_original_yhat_: 0.003318951211417192</br>"
          ],
          [
           "</br>id: 4176</br>prediction: 0.003</br>Rotational speed [rpm]: 1540.46</br></br>Type: M</br>Air temperature [K]: 302.3</br>Process temperature [K]: 310.7</br>Torque [Nm]: 39.7</br>Tool wear [min]: 141.0</br>TWF: 0.0</br>HDF: 0.0</br>PWF: 0.0</br>OSF: 0.0</br>RNF: 0.0</br>_original_yhat_: 0.003318951211417192</br>"
          ],
          [
           "</br>id: 4176</br>prediction: 0.003</br>Rotational speed [rpm]: 1544.0</br></br>Type: M</br>Air temperature [K]: 302.3</br>Process temperature [K]: 310.7</br>Torque [Nm]: 39.7</br>Tool wear [min]: 141.0</br>TWF: 0.0</br>HDF: 0.0</br>PWF: 0.0</br>OSF: 0.0</br>RNF: 0.0</br>_original_yhat_: 0.003318951211417192</br>"
          ],
          [
           "</br>id: 4176</br>prediction: 0.003</br>Rotational speed [rpm]: 1557.3899999999999</br></br>Type: M</br>Air temperature [K]: 302.3</br>Process temperature [K]: 310.7</br>Torque [Nm]: 39.7</br>Tool wear [min]: 141.0</br>TWF: 0.0</br>HDF: 0.0</br>PWF: 0.0</br>OSF: 0.0</br>RNF: 0.0</br>_original_yhat_: 0.003318951211417192</br>"
          ],
          [
           "</br>id: 4176</br>prediction: 0.003</br>Rotational speed [rpm]: 1574.32</br></br>Type: M</br>Air temperature [K]: 302.3</br>Process temperature [K]: 310.7</br>Torque [Nm]: 39.7</br>Tool wear [min]: 141.0</br>TWF: 0.0</br>HDF: 0.0</br>PWF: 0.0</br>OSF: 0.0</br>RNF: 0.0</br>_original_yhat_: 0.003318951211417192</br>"
          ],
          [
           "</br>id: 4176</br>prediction: 0.003</br>Rotational speed [rpm]: 1591.25</br></br>Type: M</br>Air temperature [K]: 302.3</br>Process temperature [K]: 310.7</br>Torque [Nm]: 39.7</br>Tool wear [min]: 141.0</br>TWF: 0.0</br>HDF: 0.0</br>PWF: 0.0</br>OSF: 0.0</br>RNF: 0.0</br>_original_yhat_: 0.003318951211417192</br>"
          ],
          [
           "</br>id: 4176</br>prediction: 0.003</br>Rotational speed [rpm]: 1608.18</br></br>Type: M</br>Air temperature [K]: 302.3</br>Process temperature [K]: 310.7</br>Torque [Nm]: 39.7</br>Tool wear [min]: 141.0</br>TWF: 0.0</br>HDF: 0.0</br>PWF: 0.0</br>OSF: 0.0</br>RNF: 0.0</br>_original_yhat_: 0.003318951211417192</br>"
          ],
          [
           "</br>id: 4176</br>prediction: 0.003</br>Rotational speed [rpm]: 1625.1100000000001</br></br>Type: M</br>Air temperature [K]: 302.3</br>Process temperature [K]: 310.7</br>Torque [Nm]: 39.7</br>Tool wear [min]: 141.0</br>TWF: 0.0</br>HDF: 0.0</br>PWF: 0.0</br>OSF: 0.0</br>RNF: 0.0</br>_original_yhat_: 0.003318951211417192</br>"
          ],
          [
           "</br>id: 4176</br>prediction: 0.003</br>Rotational speed [rpm]: 1642.04</br></br>Type: M</br>Air temperature [K]: 302.3</br>Process temperature [K]: 310.7</br>Torque [Nm]: 39.7</br>Tool wear [min]: 141.0</br>TWF: 0.0</br>HDF: 0.0</br>PWF: 0.0</br>OSF: 0.0</br>RNF: 0.0</br>_original_yhat_: 0.003318951211417192</br>"
          ],
          [
           "</br>id: 4176</br>prediction: 0.003</br>Rotational speed [rpm]: 1658.97</br></br>Type: M</br>Air temperature [K]: 302.3</br>Process temperature [K]: 310.7</br>Torque [Nm]: 39.7</br>Tool wear [min]: 141.0</br>TWF: 0.0</br>HDF: 0.0</br>PWF: 0.0</br>OSF: 0.0</br>RNF: 0.0</br>_original_yhat_: 0.003318951211417192</br>"
          ],
          [
           "</br>id: 4176</br>prediction: 0.003</br>Rotational speed [rpm]: 1675.9</br></br>Type: M</br>Air temperature [K]: 302.3</br>Process temperature [K]: 310.7</br>Torque [Nm]: 39.7</br>Tool wear [min]: 141.0</br>TWF: 0.0</br>HDF: 0.0</br>PWF: 0.0</br>OSF: 0.0</br>RNF: 0.0</br>_original_yhat_: 0.003318951211417192</br>"
          ],
          [
           "</br>id: 4176</br>prediction: 0.0</br>Rotational speed [rpm]: 1692.83</br></br>Type: M</br>Air temperature [K]: 302.3</br>Process temperature [K]: 310.7</br>Torque [Nm]: 39.7</br>Tool wear [min]: 141.0</br>TWF: 0.0</br>HDF: 0.0</br>PWF: 0.0</br>OSF: 0.0</br>RNF: 0.0</br>_original_yhat_: 0.003318951211417192</br>"
          ],
          [
           "</br>id: 4176</br>prediction: 0.0</br>Rotational speed [rpm]: 1709.76</br></br>Type: M</br>Air temperature [K]: 302.3</br>Process temperature [K]: 310.7</br>Torque [Nm]: 39.7</br>Tool wear [min]: 141.0</br>TWF: 0.0</br>HDF: 0.0</br>PWF: 0.0</br>OSF: 0.0</br>RNF: 0.0</br>_original_yhat_: 0.003318951211417192</br>"
          ],
          [
           "</br>id: 4176</br>prediction: 0.0</br>Rotational speed [rpm]: 1726.69</br></br>Type: M</br>Air temperature [K]: 302.3</br>Process temperature [K]: 310.7</br>Torque [Nm]: 39.7</br>Tool wear [min]: 141.0</br>TWF: 0.0</br>HDF: 0.0</br>PWF: 0.0</br>OSF: 0.0</br>RNF: 0.0</br>_original_yhat_: 0.003318951211417192</br>"
          ],
          [
           "</br>id: 4176</br>prediction: 0.0</br>Rotational speed [rpm]: 1743.62</br></br>Type: M</br>Air temperature [K]: 302.3</br>Process temperature [K]: 310.7</br>Torque [Nm]: 39.7</br>Tool wear [min]: 141.0</br>TWF: 0.0</br>HDF: 0.0</br>PWF: 0.0</br>OSF: 0.0</br>RNF: 0.0</br>_original_yhat_: 0.003318951211417192</br>"
          ],
          [
           "</br>id: 4176</br>prediction: 0.0</br>Rotational speed [rpm]: 1760.55</br></br>Type: M</br>Air temperature [K]: 302.3</br>Process temperature [K]: 310.7</br>Torque [Nm]: 39.7</br>Tool wear [min]: 141.0</br>TWF: 0.0</br>HDF: 0.0</br>PWF: 0.0</br>OSF: 0.0</br>RNF: 0.0</br>_original_yhat_: 0.003318951211417192</br>"
          ],
          [
           "</br>id: 4176</br>prediction: 0.0</br>Rotational speed [rpm]: 1777.48</br></br>Type: M</br>Air temperature [K]: 302.3</br>Process temperature [K]: 310.7</br>Torque [Nm]: 39.7</br>Tool wear [min]: 141.0</br>TWF: 0.0</br>HDF: 0.0</br>PWF: 0.0</br>OSF: 0.0</br>RNF: 0.0</br>_original_yhat_: 0.003318951211417192</br>"
          ],
          [
           "</br>id: 4176</br>prediction: 0.0</br>Rotational speed [rpm]: 1794.4099999999999</br></br>Type: M</br>Air temperature [K]: 302.3</br>Process temperature [K]: 310.7</br>Torque [Nm]: 39.7</br>Tool wear [min]: 141.0</br>TWF: 0.0</br>HDF: 0.0</br>PWF: 0.0</br>OSF: 0.0</br>RNF: 0.0</br>_original_yhat_: 0.003318951211417192</br>"
          ],
          [
           "</br>id: 4176</br>prediction: 0.0</br>Rotational speed [rpm]: 1811.3400000000001</br></br>Type: M</br>Air temperature [K]: 302.3</br>Process temperature [K]: 310.7</br>Torque [Nm]: 39.7</br>Tool wear [min]: 141.0</br>TWF: 0.0</br>HDF: 0.0</br>PWF: 0.0</br>OSF: 0.0</br>RNF: 0.0</br>_original_yhat_: 0.003318951211417192</br>"
          ],
          [
           "</br>id: 4176</br>prediction: 0.0</br>Rotational speed [rpm]: 1828.27</br></br>Type: M</br>Air temperature [K]: 302.3</br>Process temperature [K]: 310.7</br>Torque [Nm]: 39.7</br>Tool wear [min]: 141.0</br>TWF: 0.0</br>HDF: 0.0</br>PWF: 0.0</br>OSF: 0.0</br>RNF: 0.0</br>_original_yhat_: 0.003318951211417192</br>"
          ],
          [
           "</br>id: 4176</br>prediction: 0.0</br>Rotational speed [rpm]: 1845.2</br></br>Type: M</br>Air temperature [K]: 302.3</br>Process temperature [K]: 310.7</br>Torque [Nm]: 39.7</br>Tool wear [min]: 141.0</br>TWF: 0.0</br>HDF: 0.0</br>PWF: 0.0</br>OSF: 0.0</br>RNF: 0.0</br>_original_yhat_: 0.003318951211417192</br>"
          ],
          [
           "</br>id: 4176</br>prediction: 0.0</br>Rotational speed [rpm]: 1862.13</br></br>Type: M</br>Air temperature [K]: 302.3</br>Process temperature [K]: 310.7</br>Torque [Nm]: 39.7</br>Tool wear [min]: 141.0</br>TWF: 0.0</br>HDF: 0.0</br>PWF: 0.0</br>OSF: 0.0</br>RNF: 0.0</br>_original_yhat_: 0.003318951211417192</br>"
          ],
          [
           "</br>id: 4176</br>prediction: 0.0</br>Rotational speed [rpm]: 1879.06</br></br>Type: M</br>Air temperature [K]: 302.3</br>Process temperature [K]: 310.7</br>Torque [Nm]: 39.7</br>Tool wear [min]: 141.0</br>TWF: 0.0</br>HDF: 0.0</br>PWF: 0.0</br>OSF: 0.0</br>RNF: 0.0</br>_original_yhat_: 0.003318951211417192</br>"
          ],
          [
           "</br>id: 4176</br>prediction: 0.0</br>Rotational speed [rpm]: 1895.99</br></br>Type: M</br>Air temperature [K]: 302.3</br>Process temperature [K]: 310.7</br>Torque [Nm]: 39.7</br>Tool wear [min]: 141.0</br>TWF: 0.0</br>HDF: 0.0</br>PWF: 0.0</br>OSF: 0.0</br>RNF: 0.0</br>_original_yhat_: 0.003318951211417192</br>"
          ],
          [
           "</br>id: 4176</br>prediction: 0.0</br>Rotational speed [rpm]: 1912.92</br></br>Type: M</br>Air temperature [K]: 302.3</br>Process temperature [K]: 310.7</br>Torque [Nm]: 39.7</br>Tool wear [min]: 141.0</br>TWF: 0.0</br>HDF: 0.0</br>PWF: 0.0</br>OSF: 0.0</br>RNF: 0.0</br>_original_yhat_: 0.003318951211417192</br>"
          ],
          [
           "</br>id: 4176</br>prediction: 0.0</br>Rotational speed [rpm]: 1929.85</br></br>Type: M</br>Air temperature [K]: 302.3</br>Process temperature [K]: 310.7</br>Torque [Nm]: 39.7</br>Tool wear [min]: 141.0</br>TWF: 0.0</br>HDF: 0.0</br>PWF: 0.0</br>OSF: 0.0</br>RNF: 0.0</br>_original_yhat_: 0.003318951211417192</br>"
          ],
          [
           "</br>id: 4176</br>prediction: 0.0</br>Rotational speed [rpm]: 1946.78</br></br>Type: M</br>Air temperature [K]: 302.3</br>Process temperature [K]: 310.7</br>Torque [Nm]: 39.7</br>Tool wear [min]: 141.0</br>TWF: 0.0</br>HDF: 0.0</br>PWF: 0.0</br>OSF: 0.0</br>RNF: 0.0</br>_original_yhat_: 0.003318951211417192</br>"
          ],
          [
           "</br>id: 4176</br>prediction: 0.0</br>Rotational speed [rpm]: 1963.71</br></br>Type: M</br>Air temperature [K]: 302.3</br>Process temperature [K]: 310.7</br>Torque [Nm]: 39.7</br>Tool wear [min]: 141.0</br>TWF: 0.0</br>HDF: 0.0</br>PWF: 0.0</br>OSF: 0.0</br>RNF: 0.0</br>_original_yhat_: 0.003318951211417192</br>"
          ],
          [
           "</br>id: 4176</br>prediction: 0.0</br>Rotational speed [rpm]: 1980.6399999999999</br></br>Type: M</br>Air temperature [K]: 302.3</br>Process temperature [K]: 310.7</br>Torque [Nm]: 39.7</br>Tool wear [min]: 141.0</br>TWF: 0.0</br>HDF: 0.0</br>PWF: 0.0</br>OSF: 0.0</br>RNF: 0.0</br>_original_yhat_: 0.003318951211417192</br>"
          ],
          [
           "</br>id: 4176</br>prediction: 0.0</br>Rotational speed [rpm]: 1997.57</br></br>Type: M</br>Air temperature [K]: 302.3</br>Process temperature [K]: 310.7</br>Torque [Nm]: 39.7</br>Tool wear [min]: 141.0</br>TWF: 0.0</br>HDF: 0.0</br>PWF: 0.0</br>OSF: 0.0</br>RNF: 0.0</br>_original_yhat_: 0.003318951211417192</br>"
          ],
          [
           "</br>id: 4176</br>prediction: 0.0</br>Rotational speed [rpm]: 2014.5</br></br>Type: M</br>Air temperature [K]: 302.3</br>Process temperature [K]: 310.7</br>Torque [Nm]: 39.7</br>Tool wear [min]: 141.0</br>TWF: 0.0</br>HDF: 0.0</br>PWF: 0.0</br>OSF: 0.0</br>RNF: 0.0</br>_original_yhat_: 0.003318951211417192</br>"
          ],
          [
           "</br>id: 4176</br>prediction: 0.0</br>Rotational speed [rpm]: 2031.4299999999998</br></br>Type: M</br>Air temperature [K]: 302.3</br>Process temperature [K]: 310.7</br>Torque [Nm]: 39.7</br>Tool wear [min]: 141.0</br>TWF: 0.0</br>HDF: 0.0</br>PWF: 0.0</br>OSF: 0.0</br>RNF: 0.0</br>_original_yhat_: 0.003318951211417192</br>"
          ],
          [
           "</br>id: 4176</br>prediction: 0.0</br>Rotational speed [rpm]: 2048.36</br></br>Type: M</br>Air temperature [K]: 302.3</br>Process temperature [K]: 310.7</br>Torque [Nm]: 39.7</br>Tool wear [min]: 141.0</br>TWF: 0.0</br>HDF: 0.0</br>PWF: 0.0</br>OSF: 0.0</br>RNF: 0.0</br>_original_yhat_: 0.003318951211417192</br>"
          ],
          [
           "</br>id: 4176</br>prediction: 0.0</br>Rotational speed [rpm]: 2065.29</br></br>Type: M</br>Air temperature [K]: 302.3</br>Process temperature [K]: 310.7</br>Torque [Nm]: 39.7</br>Tool wear [min]: 141.0</br>TWF: 0.0</br>HDF: 0.0</br>PWF: 0.0</br>OSF: 0.0</br>RNF: 0.0</br>_original_yhat_: 0.003318951211417192</br>"
          ],
          [
           "</br>id: 4176</br>prediction: 0.0</br>Rotational speed [rpm]: 2082.2200000000003</br></br>Type: M</br>Air temperature [K]: 302.3</br>Process temperature [K]: 310.7</br>Torque [Nm]: 39.7</br>Tool wear [min]: 141.0</br>TWF: 0.0</br>HDF: 0.0</br>PWF: 0.0</br>OSF: 0.0</br>RNF: 0.0</br>_original_yhat_: 0.003318951211417192</br>"
          ],
          [
           "</br>id: 4176</br>prediction: 0.0</br>Rotational speed [rpm]: 2099.15</br></br>Type: M</br>Air temperature [K]: 302.3</br>Process temperature [K]: 310.7</br>Torque [Nm]: 39.7</br>Tool wear [min]: 141.0</br>TWF: 0.0</br>HDF: 0.0</br>PWF: 0.0</br>OSF: 0.0</br>RNF: 0.0</br>_original_yhat_: 0.003318951211417192</br>"
          ],
          [
           "</br>id: 4176</br>prediction: 0.0</br>Rotational speed [rpm]: 2116.08</br></br>Type: M</br>Air temperature [K]: 302.3</br>Process temperature [K]: 310.7</br>Torque [Nm]: 39.7</br>Tool wear [min]: 141.0</br>TWF: 0.0</br>HDF: 0.0</br>PWF: 0.0</br>OSF: 0.0</br>RNF: 0.0</br>_original_yhat_: 0.003318951211417192</br>"
          ],
          [
           "</br>id: 4176</br>prediction: 0.0</br>Rotational speed [rpm]: 2133.01</br></br>Type: M</br>Air temperature [K]: 302.3</br>Process temperature [K]: 310.7</br>Torque [Nm]: 39.7</br>Tool wear [min]: 141.0</br>TWF: 0.0</br>HDF: 0.0</br>PWF: 0.0</br>OSF: 0.0</br>RNF: 0.0</br>_original_yhat_: 0.003318951211417192</br>"
          ],
          [
           "</br>id: 4176</br>prediction: 0.0</br>Rotational speed [rpm]: 2149.94</br></br>Type: M</br>Air temperature [K]: 302.3</br>Process temperature [K]: 310.7</br>Torque [Nm]: 39.7</br>Tool wear [min]: 141.0</br>TWF: 0.0</br>HDF: 0.0</br>PWF: 0.0</br>OSF: 0.0</br>RNF: 0.0</br>_original_yhat_: 0.003318951211417192</br>"
          ],
          [
           "</br>id: 4176</br>prediction: 0.0</br>Rotational speed [rpm]: 2166.87</br></br>Type: M</br>Air temperature [K]: 302.3</br>Process temperature [K]: 310.7</br>Torque [Nm]: 39.7</br>Tool wear [min]: 141.0</br>TWF: 0.0</br>HDF: 0.0</br>PWF: 0.0</br>OSF: 0.0</br>RNF: 0.0</br>_original_yhat_: 0.003318951211417192</br>"
          ],
          [
           "</br>id: 4176</br>prediction: 0.0</br>Rotational speed [rpm]: 2183.8</br></br>Type: M</br>Air temperature [K]: 302.3</br>Process temperature [K]: 310.7</br>Torque [Nm]: 39.7</br>Tool wear [min]: 141.0</br>TWF: 0.0</br>HDF: 0.0</br>PWF: 0.0</br>OSF: 0.0</br>RNF: 0.0</br>_original_yhat_: 0.003318951211417192</br>"
          ],
          [
           "</br>id: 4176</br>prediction: 0.0</br>Rotational speed [rpm]: 2200.73</br></br>Type: M</br>Air temperature [K]: 302.3</br>Process temperature [K]: 310.7</br>Torque [Nm]: 39.7</br>Tool wear [min]: 141.0</br>TWF: 0.0</br>HDF: 0.0</br>PWF: 0.0</br>OSF: 0.0</br>RNF: 0.0</br>_original_yhat_: 0.003318951211417192</br>"
          ],
          [
           "</br>id: 4176</br>prediction: 0.0</br>Rotational speed [rpm]: 2217.66</br></br>Type: M</br>Air temperature [K]: 302.3</br>Process temperature [K]: 310.7</br>Torque [Nm]: 39.7</br>Tool wear [min]: 141.0</br>TWF: 0.0</br>HDF: 0.0</br>PWF: 0.0</br>OSF: 0.0</br>RNF: 0.0</br>_original_yhat_: 0.003318951211417192</br>"
          ],
          [
           "</br>id: 4176</br>prediction: 0.0</br>Rotational speed [rpm]: 2234.59</br></br>Type: M</br>Air temperature [K]: 302.3</br>Process temperature [K]: 310.7</br>Torque [Nm]: 39.7</br>Tool wear [min]: 141.0</br>TWF: 0.0</br>HDF: 0.0</br>PWF: 0.0</br>OSF: 0.0</br>RNF: 0.0</br>_original_yhat_: 0.003318951211417192</br>"
          ],
          [
           "</br>id: 4176</br>prediction: 0.0</br>Rotational speed [rpm]: 2251.52</br></br>Type: M</br>Air temperature [K]: 302.3</br>Process temperature [K]: 310.7</br>Torque [Nm]: 39.7</br>Tool wear [min]: 141.0</br>TWF: 0.0</br>HDF: 0.0</br>PWF: 0.0</br>OSF: 0.0</br>RNF: 0.0</br>_original_yhat_: 0.003318951211417192</br>"
          ],
          [
           "</br>id: 4176</br>prediction: 0.0</br>Rotational speed [rpm]: 2268.45</br></br>Type: M</br>Air temperature [K]: 302.3</br>Process temperature [K]: 310.7</br>Torque [Nm]: 39.7</br>Tool wear [min]: 141.0</br>TWF: 0.0</br>HDF: 0.0</br>PWF: 0.0</br>OSF: 0.0</br>RNF: 0.0</br>_original_yhat_: 0.003318951211417192</br>"
          ],
          [
           "</br>id: 4176</br>prediction: 0.0</br>Rotational speed [rpm]: 2285.38</br></br>Type: M</br>Air temperature [K]: 302.3</br>Process temperature [K]: 310.7</br>Torque [Nm]: 39.7</br>Tool wear [min]: 141.0</br>TWF: 0.0</br>HDF: 0.0</br>PWF: 0.0</br>OSF: 0.0</br>RNF: 0.0</br>_original_yhat_: 0.003318951211417192</br>"
          ],
          [
           "</br>id: 4176</br>prediction: 0.0</br>Rotational speed [rpm]: 2302.31</br></br>Type: M</br>Air temperature [K]: 302.3</br>Process temperature [K]: 310.7</br>Torque [Nm]: 39.7</br>Tool wear [min]: 141.0</br>TWF: 0.0</br>HDF: 0.0</br>PWF: 0.0</br>OSF: 0.0</br>RNF: 0.0</br>_original_yhat_: 0.003318951211417192</br>"
          ],
          [
           "</br>id: 4176</br>prediction: 0.0</br>Rotational speed [rpm]: 2319.24</br></br>Type: M</br>Air temperature [K]: 302.3</br>Process temperature [K]: 310.7</br>Torque [Nm]: 39.7</br>Tool wear [min]: 141.0</br>TWF: 0.0</br>HDF: 0.0</br>PWF: 0.0</br>OSF: 0.0</br>RNF: 0.0</br>_original_yhat_: 0.003318951211417192</br>"
          ],
          [
           "</br>id: 4176</br>prediction: 0.0</br>Rotational speed [rpm]: 2336.17</br></br>Type: M</br>Air temperature [K]: 302.3</br>Process temperature [K]: 310.7</br>Torque [Nm]: 39.7</br>Tool wear [min]: 141.0</br>TWF: 0.0</br>HDF: 0.0</br>PWF: 0.0</br>OSF: 0.0</br>RNF: 0.0</br>_original_yhat_: 0.003318951211417192</br>"
          ],
          [
           "</br>id: 4176</br>prediction: 0.0</br>Rotational speed [rpm]: 2353.1</br></br>Type: M</br>Air temperature [K]: 302.3</br>Process temperature [K]: 310.7</br>Torque [Nm]: 39.7</br>Tool wear [min]: 141.0</br>TWF: 0.0</br>HDF: 0.0</br>PWF: 0.0</br>OSF: 0.0</br>RNF: 0.0</br>_original_yhat_: 0.003318951211417192</br>"
          ],
          [
           "</br>id: 4176</br>prediction: 0.0</br>Rotational speed [rpm]: 2370.0299999999997</br></br>Type: M</br>Air temperature [K]: 302.3</br>Process temperature [K]: 310.7</br>Torque [Nm]: 39.7</br>Tool wear [min]: 141.0</br>TWF: 0.0</br>HDF: 0.0</br>PWF: 0.0</br>OSF: 0.0</br>RNF: 0.0</br>_original_yhat_: 0.003318951211417192</br>"
          ],
          [
           "</br>id: 4176</br>prediction: 0.0</br>Rotational speed [rpm]: 2386.96</br></br>Type: M</br>Air temperature [K]: 302.3</br>Process temperature [K]: 310.7</br>Torque [Nm]: 39.7</br>Tool wear [min]: 141.0</br>TWF: 0.0</br>HDF: 0.0</br>PWF: 0.0</br>OSF: 0.0</br>RNF: 0.0</br>_original_yhat_: 0.003318951211417192</br>"
          ],
          [
           "</br>id: 4176</br>prediction: 0.0</br>Rotational speed [rpm]: 2403.89</br></br>Type: M</br>Air temperature [K]: 302.3</br>Process temperature [K]: 310.7</br>Torque [Nm]: 39.7</br>Tool wear [min]: 141.0</br>TWF: 0.0</br>HDF: 0.0</br>PWF: 0.0</br>OSF: 0.0</br>RNF: 0.0</br>_original_yhat_: 0.003318951211417192</br>"
          ],
          [
           "</br>id: 4176</br>prediction: 0.0</br>Rotational speed [rpm]: 2420.8199999999997</br></br>Type: M</br>Air temperature [K]: 302.3</br>Process temperature [K]: 310.7</br>Torque [Nm]: 39.7</br>Tool wear [min]: 141.0</br>TWF: 0.0</br>HDF: 0.0</br>PWF: 0.0</br>OSF: 0.0</br>RNF: 0.0</br>_original_yhat_: 0.003318951211417192</br>"
          ],
          [
           "</br>id: 4176</br>prediction: 0.0</br>Rotational speed [rpm]: 2437.75</br></br>Type: M</br>Air temperature [K]: 302.3</br>Process temperature [K]: 310.7</br>Torque [Nm]: 39.7</br>Tool wear [min]: 141.0</br>TWF: 0.0</br>HDF: 0.0</br>PWF: 0.0</br>OSF: 0.0</br>RNF: 0.0</br>_original_yhat_: 0.003318951211417192</br>"
          ],
          [
           "</br>id: 4176</br>prediction: 0.0</br>Rotational speed [rpm]: 2454.6800000000003</br></br>Type: M</br>Air temperature [K]: 302.3</br>Process temperature [K]: 310.7</br>Torque [Nm]: 39.7</br>Tool wear [min]: 141.0</br>TWF: 0.0</br>HDF: 0.0</br>PWF: 0.0</br>OSF: 0.0</br>RNF: 0.0</br>_original_yhat_: 0.003318951211417192</br>"
          ],
          [
           "</br>id: 4176</br>prediction: 0.0</br>Rotational speed [rpm]: 2471.6099999999997</br></br>Type: M</br>Air temperature [K]: 302.3</br>Process temperature [K]: 310.7</br>Torque [Nm]: 39.7</br>Tool wear [min]: 141.0</br>TWF: 0.0</br>HDF: 0.0</br>PWF: 0.0</br>OSF: 0.0</br>RNF: 0.0</br>_original_yhat_: 0.003318951211417192</br>"
          ],
          [
           "</br>id: 4176</br>prediction: 0.0</br>Rotational speed [rpm]: 2488.54</br></br>Type: M</br>Air temperature [K]: 302.3</br>Process temperature [K]: 310.7</br>Torque [Nm]: 39.7</br>Tool wear [min]: 141.0</br>TWF: 0.0</br>HDF: 0.0</br>PWF: 0.0</br>OSF: 0.0</br>RNF: 0.0</br>_original_yhat_: 0.003318951211417192</br>"
          ],
          [
           "</br>id: 4176</br>prediction: 0.0</br>Rotational speed [rpm]: 2505.4700000000003</br></br>Type: M</br>Air temperature [K]: 302.3</br>Process temperature [K]: 310.7</br>Torque [Nm]: 39.7</br>Tool wear [min]: 141.0</br>TWF: 0.0</br>HDF: 0.0</br>PWF: 0.0</br>OSF: 0.0</br>RNF: 0.0</br>_original_yhat_: 0.003318951211417192</br>"
          ],
          [
           "</br>id: 4176</br>prediction: 0.0</br>Rotational speed [rpm]: 2522.4</br></br>Type: M</br>Air temperature [K]: 302.3</br>Process temperature [K]: 310.7</br>Torque [Nm]: 39.7</br>Tool wear [min]: 141.0</br>TWF: 0.0</br>HDF: 0.0</br>PWF: 0.0</br>OSF: 0.0</br>RNF: 0.0</br>_original_yhat_: 0.003318951211417192</br>"
          ],
          [
           "</br>id: 4176</br>prediction: 0.0</br>Rotational speed [rpm]: 2539.33</br></br>Type: M</br>Air temperature [K]: 302.3</br>Process temperature [K]: 310.7</br>Torque [Nm]: 39.7</br>Tool wear [min]: 141.0</br>TWF: 0.0</br>HDF: 0.0</br>PWF: 0.0</br>OSF: 0.0</br>RNF: 0.0</br>_original_yhat_: 0.003318951211417192</br>"
          ],
          [
           "</br>id: 4176</br>prediction: 0.0</br>Rotational speed [rpm]: 2556.26</br></br>Type: M</br>Air temperature [K]: 302.3</br>Process temperature [K]: 310.7</br>Torque [Nm]: 39.7</br>Tool wear [min]: 141.0</br>TWF: 0.0</br>HDF: 0.0</br>PWF: 0.0</br>OSF: 0.0</br>RNF: 0.0</br>_original_yhat_: 0.003318951211417192</br>"
          ],
          [
           "</br>id: 4176</br>prediction: 0.0</br>Rotational speed [rpm]: 2573.19</br></br>Type: M</br>Air temperature [K]: 302.3</br>Process temperature [K]: 310.7</br>Torque [Nm]: 39.7</br>Tool wear [min]: 141.0</br>TWF: 0.0</br>HDF: 0.0</br>PWF: 0.0</br>OSF: 0.0</br>RNF: 0.0</br>_original_yhat_: 0.003318951211417192</br>"
          ],
          [
           "</br>id: 4176</br>prediction: 0.0</br>Rotational speed [rpm]: 2590.12</br></br>Type: M</br>Air temperature [K]: 302.3</br>Process temperature [K]: 310.7</br>Torque [Nm]: 39.7</br>Tool wear [min]: 141.0</br>TWF: 0.0</br>HDF: 0.0</br>PWF: 0.0</br>OSF: 0.0</br>RNF: 0.0</br>_original_yhat_: 0.003318951211417192</br>"
          ],
          [
           "</br>id: 4176</br>prediction: 0.0</br>Rotational speed [rpm]: 2607.05</br></br>Type: M</br>Air temperature [K]: 302.3</br>Process temperature [K]: 310.7</br>Torque [Nm]: 39.7</br>Tool wear [min]: 141.0</br>TWF: 0.0</br>HDF: 0.0</br>PWF: 0.0</br>OSF: 0.0</br>RNF: 0.0</br>_original_yhat_: 0.003318951211417192</br>"
          ],
          [
           "</br>id: 4176</br>prediction: 0.0</br>Rotational speed [rpm]: 2623.98</br></br>Type: M</br>Air temperature [K]: 302.3</br>Process temperature [K]: 310.7</br>Torque [Nm]: 39.7</br>Tool wear [min]: 141.0</br>TWF: 0.0</br>HDF: 0.0</br>PWF: 0.0</br>OSF: 0.0</br>RNF: 0.0</br>_original_yhat_: 0.003318951211417192</br>"
          ],
          [
           "</br>id: 4176</br>prediction: 0.0</br>Rotational speed [rpm]: 2640.91</br></br>Type: M</br>Air temperature [K]: 302.3</br>Process temperature [K]: 310.7</br>Torque [Nm]: 39.7</br>Tool wear [min]: 141.0</br>TWF: 0.0</br>HDF: 0.0</br>PWF: 0.0</br>OSF: 0.0</br>RNF: 0.0</br>_original_yhat_: 0.003318951211417192</br>"
          ],
          [
           "</br>id: 4176</br>prediction: 0.0</br>Rotational speed [rpm]: 2657.84</br></br>Type: M</br>Air temperature [K]: 302.3</br>Process temperature [K]: 310.7</br>Torque [Nm]: 39.7</br>Tool wear [min]: 141.0</br>TWF: 0.0</br>HDF: 0.0</br>PWF: 0.0</br>OSF: 0.0</br>RNF: 0.0</br>_original_yhat_: 0.003318951211417192</br>"
          ],
          [
           "</br>id: 4176</br>prediction: 0.0</br>Rotational speed [rpm]: 2674.77</br></br>Type: M</br>Air temperature [K]: 302.3</br>Process temperature [K]: 310.7</br>Torque [Nm]: 39.7</br>Tool wear [min]: 141.0</br>TWF: 0.0</br>HDF: 0.0</br>PWF: 0.0</br>OSF: 0.0</br>RNF: 0.0</br>_original_yhat_: 0.003318951211417192</br>"
          ],
          [
           "</br>id: 4176</br>prediction: 0.0</br>Rotational speed [rpm]: 2691.7</br></br>Type: M</br>Air temperature [K]: 302.3</br>Process temperature [K]: 310.7</br>Torque [Nm]: 39.7</br>Tool wear [min]: 141.0</br>TWF: 0.0</br>HDF: 0.0</br>PWF: 0.0</br>OSF: 0.0</br>RNF: 0.0</br>_original_yhat_: 0.003318951211417192</br>"
          ],
          [
           "</br>id: 4176</br>prediction: 0.0</br>Rotational speed [rpm]: 2708.63</br></br>Type: M</br>Air temperature [K]: 302.3</br>Process temperature [K]: 310.7</br>Torque [Nm]: 39.7</br>Tool wear [min]: 141.0</br>TWF: 0.0</br>HDF: 0.0</br>PWF: 0.0</br>OSF: 0.0</br>RNF: 0.0</br>_original_yhat_: 0.003318951211417192</br>"
          ],
          [
           "</br>id: 4176</br>prediction: 0.0</br>Rotational speed [rpm]: 2725.56</br></br>Type: M</br>Air temperature [K]: 302.3</br>Process temperature [K]: 310.7</br>Torque [Nm]: 39.7</br>Tool wear [min]: 141.0</br>TWF: 0.0</br>HDF: 0.0</br>PWF: 0.0</br>OSF: 0.0</br>RNF: 0.0</br>_original_yhat_: 0.003318951211417192</br>"
          ],
          [
           "</br>id: 4176</br>prediction: 0.0</br>Rotational speed [rpm]: 2742.49</br></br>Type: M</br>Air temperature [K]: 302.3</br>Process temperature [K]: 310.7</br>Torque [Nm]: 39.7</br>Tool wear [min]: 141.0</br>TWF: 0.0</br>HDF: 0.0</br>PWF: 0.0</br>OSF: 0.0</br>RNF: 0.0</br>_original_yhat_: 0.003318951211417192</br>"
          ],
          [
           "</br>id: 4176</br>prediction: 0.0</br>Rotational speed [rpm]: 2759.42</br></br>Type: M</br>Air temperature [K]: 302.3</br>Process temperature [K]: 310.7</br>Torque [Nm]: 39.7</br>Tool wear [min]: 141.0</br>TWF: 0.0</br>HDF: 0.0</br>PWF: 0.0</br>OSF: 0.0</br>RNF: 0.0</br>_original_yhat_: 0.003318951211417192</br>"
          ],
          [
           "</br>id: 4176</br>prediction: 0.0</br>Rotational speed [rpm]: 2776.35</br></br>Type: M</br>Air temperature [K]: 302.3</br>Process temperature [K]: 310.7</br>Torque [Nm]: 39.7</br>Tool wear [min]: 141.0</br>TWF: 0.0</br>HDF: 0.0</br>PWF: 0.0</br>OSF: 0.0</br>RNF: 0.0</br>_original_yhat_: 0.003318951211417192</br>"
          ],
          [
           "</br>id: 4176</br>prediction: 0.0</br>Rotational speed [rpm]: 2793.2799999999997</br></br>Type: M</br>Air temperature [K]: 302.3</br>Process temperature [K]: 310.7</br>Torque [Nm]: 39.7</br>Tool wear [min]: 141.0</br>TWF: 0.0</br>HDF: 0.0</br>PWF: 0.0</br>OSF: 0.0</br>RNF: 0.0</br>_original_yhat_: 0.003318951211417192</br>"
          ],
          [
           "</br>id: 4176</br>prediction: 0.0</br>Rotational speed [rpm]: 2810.21</br></br>Type: M</br>Air temperature [K]: 302.3</br>Process temperature [K]: 310.7</br>Torque [Nm]: 39.7</br>Tool wear [min]: 141.0</br>TWF: 0.0</br>HDF: 0.0</br>PWF: 0.0</br>OSF: 0.0</br>RNF: 0.0</br>_original_yhat_: 0.003318951211417192</br>"
          ],
          [
           "</br>id: 4176</br>prediction: 0.0</br>Rotational speed [rpm]: 2827.14</br></br>Type: M</br>Air temperature [K]: 302.3</br>Process temperature [K]: 310.7</br>Torque [Nm]: 39.7</br>Tool wear [min]: 141.0</br>TWF: 0.0</br>HDF: 0.0</br>PWF: 0.0</br>OSF: 0.0</br>RNF: 0.0</br>_original_yhat_: 0.003318951211417192</br>"
          ],
          [
           "</br>id: 4176</br>prediction: 0.0</br>Rotational speed [rpm]: 2844.0699999999997</br></br>Type: M</br>Air temperature [K]: 302.3</br>Process temperature [K]: 310.7</br>Torque [Nm]: 39.7</br>Tool wear [min]: 141.0</br>TWF: 0.0</br>HDF: 0.0</br>PWF: 0.0</br>OSF: 0.0</br>RNF: 0.0</br>_original_yhat_: 0.003318951211417192</br>"
          ],
          [
           "</br>id: 4176</br>prediction: 0.0</br>Rotational speed [rpm]: 2861.0</br></br>Type: M</br>Air temperature [K]: 302.3</br>Process temperature [K]: 310.7</br>Torque [Nm]: 39.7</br>Tool wear [min]: 141.0</br>TWF: 0.0</br>HDF: 0.0</br>PWF: 0.0</br>OSF: 0.0</br>RNF: 0.0</br>_original_yhat_: 0.003318951211417192</br>"
          ]
         ],
         "hovertemplate": "%{customdata[0]}<extra></extra>",
         "legendgroup": "testing",
         "line": {
          "color": "#46bac2",
          "dash": "solid",
          "width": 2
         },
         "marker": {
          "symbol": "circle"
         },
         "mode": "lines",
         "name": "testing",
         "opacity": 1,
         "showlegend": false,
         "type": "scattergl",
         "x": [
          1168,
          1184.93,
          1201.86,
          1218.79,
          1235.72,
          1252.65,
          1269.58,
          1286.51,
          1303.44,
          1320.37,
          1337.3,
          1354.23,
          1371.16,
          1388.09,
          1405.02,
          1421.95,
          1438.88,
          1455.81,
          1472.74,
          1489.67,
          1506.6,
          1523.53,
          1540.46,
          1544,
          1557.3899999999999,
          1574.32,
          1591.25,
          1608.18,
          1625.1100000000001,
          1642.04,
          1658.97,
          1675.9,
          1692.83,
          1709.76,
          1726.69,
          1743.62,
          1760.55,
          1777.48,
          1794.4099999999999,
          1811.3400000000001,
          1828.27,
          1845.2,
          1862.13,
          1879.06,
          1895.99,
          1912.92,
          1929.85,
          1946.78,
          1963.71,
          1980.6399999999999,
          1997.57,
          2014.5,
          2031.4299999999998,
          2048.36,
          2065.29,
          2082.2200000000003,
          2099.15,
          2116.08,
          2133.01,
          2149.94,
          2166.87,
          2183.8,
          2200.73,
          2217.66,
          2234.59,
          2251.52,
          2268.45,
          2285.38,
          2302.31,
          2319.24,
          2336.17,
          2353.1,
          2370.0299999999997,
          2386.96,
          2403.89,
          2420.8199999999997,
          2437.75,
          2454.6800000000003,
          2471.6099999999997,
          2488.54,
          2505.4700000000003,
          2522.4,
          2539.33,
          2556.26,
          2573.19,
          2590.12,
          2607.05,
          2623.98,
          2640.91,
          2657.84,
          2674.77,
          2691.7,
          2708.63,
          2725.56,
          2742.49,
          2759.42,
          2776.35,
          2793.2799999999997,
          2810.21,
          2827.14,
          2844.0699999999997,
          2861
         ],
         "xaxis": "x7",
         "y": [
          0.003318951211417192,
          0.003318951211417192,
          0.003318951211417192,
          0.003318951211417192,
          0.003318951211417192,
          0.003318951211417192,
          0.003318951211417192,
          0.003318951211417192,
          0.003318951211417192,
          0.003318951211417192,
          0.003318951211417192,
          0.003318951211417192,
          0.003318951211417192,
          0.003318951211417192,
          0.003318951211417192,
          0.003318951211417192,
          0.003318951211417192,
          0.003318951211417192,
          0.003318951211417192,
          0.003318951211417192,
          0.003318951211417192,
          0.003318951211417192,
          0.003318951211417192,
          0.003318951211417192,
          0.003318951211417192,
          0.003318951211417192,
          0.003318951211417192,
          0.003318951211417192,
          0.003318951211417192,
          0.003318951211417192,
          0.003318951211417192,
          0.003318951211417192,
          0,
          0,
          0,
          0,
          0,
          0,
          0,
          0,
          0,
          0,
          0,
          0,
          0,
          0,
          0,
          0,
          0,
          0,
          0,
          0,
          0,
          0,
          0,
          0,
          0,
          0,
          0,
          0,
          0,
          0,
          0,
          0,
          0,
          0,
          0,
          0,
          0,
          0,
          0,
          0,
          0,
          0,
          0,
          0,
          0,
          0,
          0,
          0,
          0,
          0,
          0,
          0,
          0,
          0,
          0,
          0,
          0,
          0,
          0,
          0,
          0,
          0,
          0,
          0,
          0,
          0,
          0,
          0,
          0,
          0
         ],
         "yaxis": "y7"
        },
        {
         "customdata": [
          [
           "</br>id: 4176</br>prediction: 0.003</br>Torque [Nm]: 4.6</br></br>Type: M</br>Air temperature [K]: 302.3</br>Process temperature [K]: 310.7</br>Rotational speed [rpm]: 1544.0</br>Tool wear [min]: 141.0</br>TWF: 0.0</br>HDF: 0.0</br>PWF: 0.0</br>OSF: 0.0</br>RNF: 0.0</br>_original_yhat_: 0.003318951211417192</br>"
          ],
          [
           "</br>id: 4176</br>prediction: 0.003</br>Torque [Nm]: 5.319999999999999</br></br>Type: M</br>Air temperature [K]: 302.3</br>Process temperature [K]: 310.7</br>Rotational speed [rpm]: 1544.0</br>Tool wear [min]: 141.0</br>TWF: 0.0</br>HDF: 0.0</br>PWF: 0.0</br>OSF: 0.0</br>RNF: 0.0</br>_original_yhat_: 0.003318951211417192</br>"
          ],
          [
           "</br>id: 4176</br>prediction: 0.003</br>Torque [Nm]: 6.039999999999999</br></br>Type: M</br>Air temperature [K]: 302.3</br>Process temperature [K]: 310.7</br>Rotational speed [rpm]: 1544.0</br>Tool wear [min]: 141.0</br>TWF: 0.0</br>HDF: 0.0</br>PWF: 0.0</br>OSF: 0.0</br>RNF: 0.0</br>_original_yhat_: 0.003318951211417192</br>"
          ],
          [
           "</br>id: 4176</br>prediction: 0.003</br>Torque [Nm]: 6.76</br></br>Type: M</br>Air temperature [K]: 302.3</br>Process temperature [K]: 310.7</br>Rotational speed [rpm]: 1544.0</br>Tool wear [min]: 141.0</br>TWF: 0.0</br>HDF: 0.0</br>PWF: 0.0</br>OSF: 0.0</br>RNF: 0.0</br>_original_yhat_: 0.003318951211417192</br>"
          ],
          [
           "</br>id: 4176</br>prediction: 0.003</br>Torque [Nm]: 7.4799999999999995</br></br>Type: M</br>Air temperature [K]: 302.3</br>Process temperature [K]: 310.7</br>Rotational speed [rpm]: 1544.0</br>Tool wear [min]: 141.0</br>TWF: 0.0</br>HDF: 0.0</br>PWF: 0.0</br>OSF: 0.0</br>RNF: 0.0</br>_original_yhat_: 0.003318951211417192</br>"
          ],
          [
           "</br>id: 4176</br>prediction: 0.003</br>Torque [Nm]: 8.2</br></br>Type: M</br>Air temperature [K]: 302.3</br>Process temperature [K]: 310.7</br>Rotational speed [rpm]: 1544.0</br>Tool wear [min]: 141.0</br>TWF: 0.0</br>HDF: 0.0</br>PWF: 0.0</br>OSF: 0.0</br>RNF: 0.0</br>_original_yhat_: 0.003318951211417192</br>"
          ],
          [
           "</br>id: 4176</br>prediction: 0.003</br>Torque [Nm]: 8.92</br></br>Type: M</br>Air temperature [K]: 302.3</br>Process temperature [K]: 310.7</br>Rotational speed [rpm]: 1544.0</br>Tool wear [min]: 141.0</br>TWF: 0.0</br>HDF: 0.0</br>PWF: 0.0</br>OSF: 0.0</br>RNF: 0.0</br>_original_yhat_: 0.003318951211417192</br>"
          ],
          [
           "</br>id: 4176</br>prediction: 0.003</br>Torque [Nm]: 9.64</br></br>Type: M</br>Air temperature [K]: 302.3</br>Process temperature [K]: 310.7</br>Rotational speed [rpm]: 1544.0</br>Tool wear [min]: 141.0</br>TWF: 0.0</br>HDF: 0.0</br>PWF: 0.0</br>OSF: 0.0</br>RNF: 0.0</br>_original_yhat_: 0.003318951211417192</br>"
          ],
          [
           "</br>id: 4176</br>prediction: 0.003</br>Torque [Nm]: 10.36</br></br>Type: M</br>Air temperature [K]: 302.3</br>Process temperature [K]: 310.7</br>Rotational speed [rpm]: 1544.0</br>Tool wear [min]: 141.0</br>TWF: 0.0</br>HDF: 0.0</br>PWF: 0.0</br>OSF: 0.0</br>RNF: 0.0</br>_original_yhat_: 0.003318951211417192</br>"
          ],
          [
           "</br>id: 4176</br>prediction: 0.003</br>Torque [Nm]: 11.079999999999998</br></br>Type: M</br>Air temperature [K]: 302.3</br>Process temperature [K]: 310.7</br>Rotational speed [rpm]: 1544.0</br>Tool wear [min]: 141.0</br>TWF: 0.0</br>HDF: 0.0</br>PWF: 0.0</br>OSF: 0.0</br>RNF: 0.0</br>_original_yhat_: 0.003318951211417192</br>"
          ],
          [
           "</br>id: 4176</br>prediction: 0.003</br>Torque [Nm]: 11.799999999999999</br></br>Type: M</br>Air temperature [K]: 302.3</br>Process temperature [K]: 310.7</br>Rotational speed [rpm]: 1544.0</br>Tool wear [min]: 141.0</br>TWF: 0.0</br>HDF: 0.0</br>PWF: 0.0</br>OSF: 0.0</br>RNF: 0.0</br>_original_yhat_: 0.003318951211417192</br>"
          ],
          [
           "</br>id: 4176</br>prediction: 0.003</br>Torque [Nm]: 12.52</br></br>Type: M</br>Air temperature [K]: 302.3</br>Process temperature [K]: 310.7</br>Rotational speed [rpm]: 1544.0</br>Tool wear [min]: 141.0</br>TWF: 0.0</br>HDF: 0.0</br>PWF: 0.0</br>OSF: 0.0</br>RNF: 0.0</br>_original_yhat_: 0.003318951211417192</br>"
          ],
          [
           "</br>id: 4176</br>prediction: 0.003</br>Torque [Nm]: 13.24</br></br>Type: M</br>Air temperature [K]: 302.3</br>Process temperature [K]: 310.7</br>Rotational speed [rpm]: 1544.0</br>Tool wear [min]: 141.0</br>TWF: 0.0</br>HDF: 0.0</br>PWF: 0.0</br>OSF: 0.0</br>RNF: 0.0</br>_original_yhat_: 0.003318951211417192</br>"
          ],
          [
           "</br>id: 4176</br>prediction: 0.003</br>Torque [Nm]: 13.959999999999999</br></br>Type: M</br>Air temperature [K]: 302.3</br>Process temperature [K]: 310.7</br>Rotational speed [rpm]: 1544.0</br>Tool wear [min]: 141.0</br>TWF: 0.0</br>HDF: 0.0</br>PWF: 0.0</br>OSF: 0.0</br>RNF: 0.0</br>_original_yhat_: 0.003318951211417192</br>"
          ],
          [
           "</br>id: 4176</br>prediction: 0.003</br>Torque [Nm]: 14.68</br></br>Type: M</br>Air temperature [K]: 302.3</br>Process temperature [K]: 310.7</br>Rotational speed [rpm]: 1544.0</br>Tool wear [min]: 141.0</br>TWF: 0.0</br>HDF: 0.0</br>PWF: 0.0</br>OSF: 0.0</br>RNF: 0.0</br>_original_yhat_: 0.003318951211417192</br>"
          ],
          [
           "</br>id: 4176</br>prediction: 0.003</br>Torque [Nm]: 15.399999999999999</br></br>Type: M</br>Air temperature [K]: 302.3</br>Process temperature [K]: 310.7</br>Rotational speed [rpm]: 1544.0</br>Tool wear [min]: 141.0</br>TWF: 0.0</br>HDF: 0.0</br>PWF: 0.0</br>OSF: 0.0</br>RNF: 0.0</br>_original_yhat_: 0.003318951211417192</br>"
          ],
          [
           "</br>id: 4176</br>prediction: 0.003</br>Torque [Nm]: 16.119999999999997</br></br>Type: M</br>Air temperature [K]: 302.3</br>Process temperature [K]: 310.7</br>Rotational speed [rpm]: 1544.0</br>Tool wear [min]: 141.0</br>TWF: 0.0</br>HDF: 0.0</br>PWF: 0.0</br>OSF: 0.0</br>RNF: 0.0</br>_original_yhat_: 0.003318951211417192</br>"
          ],
          [
           "</br>id: 4176</br>prediction: 0.003</br>Torque [Nm]: 16.84</br></br>Type: M</br>Air temperature [K]: 302.3</br>Process temperature [K]: 310.7</br>Rotational speed [rpm]: 1544.0</br>Tool wear [min]: 141.0</br>TWF: 0.0</br>HDF: 0.0</br>PWF: 0.0</br>OSF: 0.0</br>RNF: 0.0</br>_original_yhat_: 0.003318951211417192</br>"
          ],
          [
           "</br>id: 4176</br>prediction: 0.003</br>Torque [Nm]: 17.56</br></br>Type: M</br>Air temperature [K]: 302.3</br>Process temperature [K]: 310.7</br>Rotational speed [rpm]: 1544.0</br>Tool wear [min]: 141.0</br>TWF: 0.0</br>HDF: 0.0</br>PWF: 0.0</br>OSF: 0.0</br>RNF: 0.0</br>_original_yhat_: 0.003318951211417192</br>"
          ],
          [
           "</br>id: 4176</br>prediction: 0.003</br>Torque [Nm]: 18.28</br></br>Type: M</br>Air temperature [K]: 302.3</br>Process temperature [K]: 310.7</br>Rotational speed [rpm]: 1544.0</br>Tool wear [min]: 141.0</br>TWF: 0.0</br>HDF: 0.0</br>PWF: 0.0</br>OSF: 0.0</br>RNF: 0.0</br>_original_yhat_: 0.003318951211417192</br>"
          ],
          [
           "</br>id: 4176</br>prediction: 0.003</br>Torque [Nm]: 19.0</br></br>Type: M</br>Air temperature [K]: 302.3</br>Process temperature [K]: 310.7</br>Rotational speed [rpm]: 1544.0</br>Tool wear [min]: 141.0</br>TWF: 0.0</br>HDF: 0.0</br>PWF: 0.0</br>OSF: 0.0</br>RNF: 0.0</br>_original_yhat_: 0.003318951211417192</br>"
          ],
          [
           "</br>id: 4176</br>prediction: 0.003</br>Torque [Nm]: 19.72</br></br>Type: M</br>Air temperature [K]: 302.3</br>Process temperature [K]: 310.7</br>Rotational speed [rpm]: 1544.0</br>Tool wear [min]: 141.0</br>TWF: 0.0</br>HDF: 0.0</br>PWF: 0.0</br>OSF: 0.0</br>RNF: 0.0</br>_original_yhat_: 0.003318951211417192</br>"
          ],
          [
           "</br>id: 4176</br>prediction: 0.003</br>Torque [Nm]: 20.439999999999998</br></br>Type: M</br>Air temperature [K]: 302.3</br>Process temperature [K]: 310.7</br>Rotational speed [rpm]: 1544.0</br>Tool wear [min]: 141.0</br>TWF: 0.0</br>HDF: 0.0</br>PWF: 0.0</br>OSF: 0.0</br>RNF: 0.0</br>_original_yhat_: 0.003318951211417192</br>"
          ],
          [
           "</br>id: 4176</br>prediction: 0.003</br>Torque [Nm]: 21.159999999999997</br></br>Type: M</br>Air temperature [K]: 302.3</br>Process temperature [K]: 310.7</br>Rotational speed [rpm]: 1544.0</br>Tool wear [min]: 141.0</br>TWF: 0.0</br>HDF: 0.0</br>PWF: 0.0</br>OSF: 0.0</br>RNF: 0.0</br>_original_yhat_: 0.003318951211417192</br>"
          ],
          [
           "</br>id: 4176</br>prediction: 0.003</br>Torque [Nm]: 21.880000000000003</br></br>Type: M</br>Air temperature [K]: 302.3</br>Process temperature [K]: 310.7</br>Rotational speed [rpm]: 1544.0</br>Tool wear [min]: 141.0</br>TWF: 0.0</br>HDF: 0.0</br>PWF: 0.0</br>OSF: 0.0</br>RNF: 0.0</br>_original_yhat_: 0.003318951211417192</br>"
          ],
          [
           "</br>id: 4176</br>prediction: 0.003</br>Torque [Nm]: 22.6</br></br>Type: M</br>Air temperature [K]: 302.3</br>Process temperature [K]: 310.7</br>Rotational speed [rpm]: 1544.0</br>Tool wear [min]: 141.0</br>TWF: 0.0</br>HDF: 0.0</br>PWF: 0.0</br>OSF: 0.0</br>RNF: 0.0</br>_original_yhat_: 0.003318951211417192</br>"
          ],
          [
           "</br>id: 4176</br>prediction: 0.003</br>Torque [Nm]: 23.32</br></br>Type: M</br>Air temperature [K]: 302.3</br>Process temperature [K]: 310.7</br>Rotational speed [rpm]: 1544.0</br>Tool wear [min]: 141.0</br>TWF: 0.0</br>HDF: 0.0</br>PWF: 0.0</br>OSF: 0.0</br>RNF: 0.0</br>_original_yhat_: 0.003318951211417192</br>"
          ],
          [
           "</br>id: 4176</br>prediction: 0.003</br>Torque [Nm]: 24.04</br></br>Type: M</br>Air temperature [K]: 302.3</br>Process temperature [K]: 310.7</br>Rotational speed [rpm]: 1544.0</br>Tool wear [min]: 141.0</br>TWF: 0.0</br>HDF: 0.0</br>PWF: 0.0</br>OSF: 0.0</br>RNF: 0.0</br>_original_yhat_: 0.003318951211417192</br>"
          ],
          [
           "</br>id: 4176</br>prediction: 0.003</br>Torque [Nm]: 24.759999999999998</br></br>Type: M</br>Air temperature [K]: 302.3</br>Process temperature [K]: 310.7</br>Rotational speed [rpm]: 1544.0</br>Tool wear [min]: 141.0</br>TWF: 0.0</br>HDF: 0.0</br>PWF: 0.0</br>OSF: 0.0</br>RNF: 0.0</br>_original_yhat_: 0.003318951211417192</br>"
          ],
          [
           "</br>id: 4176</br>prediction: 0.003</br>Torque [Nm]: 25.479999999999997</br></br>Type: M</br>Air temperature [K]: 302.3</br>Process temperature [K]: 310.7</br>Rotational speed [rpm]: 1544.0</br>Tool wear [min]: 141.0</br>TWF: 0.0</br>HDF: 0.0</br>PWF: 0.0</br>OSF: 0.0</br>RNF: 0.0</br>_original_yhat_: 0.003318951211417192</br>"
          ],
          [
           "</br>id: 4176</br>prediction: 0.003</br>Torque [Nm]: 26.199999999999996</br></br>Type: M</br>Air temperature [K]: 302.3</br>Process temperature [K]: 310.7</br>Rotational speed [rpm]: 1544.0</br>Tool wear [min]: 141.0</br>TWF: 0.0</br>HDF: 0.0</br>PWF: 0.0</br>OSF: 0.0</br>RNF: 0.0</br>_original_yhat_: 0.003318951211417192</br>"
          ],
          [
           "</br>id: 4176</br>prediction: 0.003</br>Torque [Nm]: 26.92</br></br>Type: M</br>Air temperature [K]: 302.3</br>Process temperature [K]: 310.7</br>Rotational speed [rpm]: 1544.0</br>Tool wear [min]: 141.0</br>TWF: 0.0</br>HDF: 0.0</br>PWF: 0.0</br>OSF: 0.0</br>RNF: 0.0</br>_original_yhat_: 0.003318951211417192</br>"
          ],
          [
           "</br>id: 4176</br>prediction: 0.003</br>Torque [Nm]: 27.64</br></br>Type: M</br>Air temperature [K]: 302.3</br>Process temperature [K]: 310.7</br>Rotational speed [rpm]: 1544.0</br>Tool wear [min]: 141.0</br>TWF: 0.0</br>HDF: 0.0</br>PWF: 0.0</br>OSF: 0.0</br>RNF: 0.0</br>_original_yhat_: 0.003318951211417192</br>"
          ],
          [
           "</br>id: 4176</br>prediction: 0.003</br>Torque [Nm]: 28.36</br></br>Type: M</br>Air temperature [K]: 302.3</br>Process temperature [K]: 310.7</br>Rotational speed [rpm]: 1544.0</br>Tool wear [min]: 141.0</br>TWF: 0.0</br>HDF: 0.0</br>PWF: 0.0</br>OSF: 0.0</br>RNF: 0.0</br>_original_yhat_: 0.003318951211417192</br>"
          ],
          [
           "</br>id: 4176</br>prediction: 0.003</br>Torque [Nm]: 29.08</br></br>Type: M</br>Air temperature [K]: 302.3</br>Process temperature [K]: 310.7</br>Rotational speed [rpm]: 1544.0</br>Tool wear [min]: 141.0</br>TWF: 0.0</br>HDF: 0.0</br>PWF: 0.0</br>OSF: 0.0</br>RNF: 0.0</br>_original_yhat_: 0.003318951211417192</br>"
          ],
          [
           "</br>id: 4176</br>prediction: 0.003</br>Torque [Nm]: 29.799999999999997</br></br>Type: M</br>Air temperature [K]: 302.3</br>Process temperature [K]: 310.7</br>Rotational speed [rpm]: 1544.0</br>Tool wear [min]: 141.0</br>TWF: 0.0</br>HDF: 0.0</br>PWF: 0.0</br>OSF: 0.0</br>RNF: 0.0</br>_original_yhat_: 0.003318951211417192</br>"
          ],
          [
           "</br>id: 4176</br>prediction: 0.003</br>Torque [Nm]: 30.519999999999996</br></br>Type: M</br>Air temperature [K]: 302.3</br>Process temperature [K]: 310.7</br>Rotational speed [rpm]: 1544.0</br>Tool wear [min]: 141.0</br>TWF: 0.0</br>HDF: 0.0</br>PWF: 0.0</br>OSF: 0.0</br>RNF: 0.0</br>_original_yhat_: 0.003318951211417192</br>"
          ],
          [
           "</br>id: 4176</br>prediction: 0.003</br>Torque [Nm]: 31.240000000000002</br></br>Type: M</br>Air temperature [K]: 302.3</br>Process temperature [K]: 310.7</br>Rotational speed [rpm]: 1544.0</br>Tool wear [min]: 141.0</br>TWF: 0.0</br>HDF: 0.0</br>PWF: 0.0</br>OSF: 0.0</br>RNF: 0.0</br>_original_yhat_: 0.003318951211417192</br>"
          ],
          [
           "</br>id: 4176</br>prediction: 0.003</br>Torque [Nm]: 31.96</br></br>Type: M</br>Air temperature [K]: 302.3</br>Process temperature [K]: 310.7</br>Rotational speed [rpm]: 1544.0</br>Tool wear [min]: 141.0</br>TWF: 0.0</br>HDF: 0.0</br>PWF: 0.0</br>OSF: 0.0</br>RNF: 0.0</br>_original_yhat_: 0.003318951211417192</br>"
          ],
          [
           "</br>id: 4176</br>prediction: 0.003</br>Torque [Nm]: 32.68</br></br>Type: M</br>Air temperature [K]: 302.3</br>Process temperature [K]: 310.7</br>Rotational speed [rpm]: 1544.0</br>Tool wear [min]: 141.0</br>TWF: 0.0</br>HDF: 0.0</br>PWF: 0.0</br>OSF: 0.0</br>RNF: 0.0</br>_original_yhat_: 0.003318951211417192</br>"
          ],
          [
           "</br>id: 4176</br>prediction: 0.003</br>Torque [Nm]: 33.4</br></br>Type: M</br>Air temperature [K]: 302.3</br>Process temperature [K]: 310.7</br>Rotational speed [rpm]: 1544.0</br>Tool wear [min]: 141.0</br>TWF: 0.0</br>HDF: 0.0</br>PWF: 0.0</br>OSF: 0.0</br>RNF: 0.0</br>_original_yhat_: 0.003318951211417192</br>"
          ],
          [
           "</br>id: 4176</br>prediction: 0.003</br>Torque [Nm]: 34.12</br></br>Type: M</br>Air temperature [K]: 302.3</br>Process temperature [K]: 310.7</br>Rotational speed [rpm]: 1544.0</br>Tool wear [min]: 141.0</br>TWF: 0.0</br>HDF: 0.0</br>PWF: 0.0</br>OSF: 0.0</br>RNF: 0.0</br>_original_yhat_: 0.003318951211417192</br>"
          ],
          [
           "</br>id: 4176</br>prediction: 0.003</br>Torque [Nm]: 34.839999999999996</br></br>Type: M</br>Air temperature [K]: 302.3</br>Process temperature [K]: 310.7</br>Rotational speed [rpm]: 1544.0</br>Tool wear [min]: 141.0</br>TWF: 0.0</br>HDF: 0.0</br>PWF: 0.0</br>OSF: 0.0</br>RNF: 0.0</br>_original_yhat_: 0.003318951211417192</br>"
          ],
          [
           "</br>id: 4176</br>prediction: 0.003</br>Torque [Nm]: 35.559999999999995</br></br>Type: M</br>Air temperature [K]: 302.3</br>Process temperature [K]: 310.7</br>Rotational speed [rpm]: 1544.0</br>Tool wear [min]: 141.0</br>TWF: 0.0</br>HDF: 0.0</br>PWF: 0.0</br>OSF: 0.0</br>RNF: 0.0</br>_original_yhat_: 0.003318951211417192</br>"
          ],
          [
           "</br>id: 4176</br>prediction: 0.003</br>Torque [Nm]: 36.28</br></br>Type: M</br>Air temperature [K]: 302.3</br>Process temperature [K]: 310.7</br>Rotational speed [rpm]: 1544.0</br>Tool wear [min]: 141.0</br>TWF: 0.0</br>HDF: 0.0</br>PWF: 0.0</br>OSF: 0.0</br>RNF: 0.0</br>_original_yhat_: 0.003318951211417192</br>"
          ],
          [
           "</br>id: 4176</br>prediction: 0.003</br>Torque [Nm]: 37.0</br></br>Type: M</br>Air temperature [K]: 302.3</br>Process temperature [K]: 310.7</br>Rotational speed [rpm]: 1544.0</br>Tool wear [min]: 141.0</br>TWF: 0.0</br>HDF: 0.0</br>PWF: 0.0</br>OSF: 0.0</br>RNF: 0.0</br>_original_yhat_: 0.003318951211417192</br>"
          ],
          [
           "</br>id: 4176</br>prediction: 0.003</br>Torque [Nm]: 37.72</br></br>Type: M</br>Air temperature [K]: 302.3</br>Process temperature [K]: 310.7</br>Rotational speed [rpm]: 1544.0</br>Tool wear [min]: 141.0</br>TWF: 0.0</br>HDF: 0.0</br>PWF: 0.0</br>OSF: 0.0</br>RNF: 0.0</br>_original_yhat_: 0.003318951211417192</br>"
          ],
          [
           "</br>id: 4176</br>prediction: 0.003</br>Torque [Nm]: 38.44</br></br>Type: M</br>Air temperature [K]: 302.3</br>Process temperature [K]: 310.7</br>Rotational speed [rpm]: 1544.0</br>Tool wear [min]: 141.0</br>TWF: 0.0</br>HDF: 0.0</br>PWF: 0.0</br>OSF: 0.0</br>RNF: 0.0</br>_original_yhat_: 0.003318951211417192</br>"
          ],
          [
           "</br>id: 4176</br>prediction: 0.003</br>Torque [Nm]: 39.160000000000004</br></br>Type: M</br>Air temperature [K]: 302.3</br>Process temperature [K]: 310.7</br>Rotational speed [rpm]: 1544.0</br>Tool wear [min]: 141.0</br>TWF: 0.0</br>HDF: 0.0</br>PWF: 0.0</br>OSF: 0.0</br>RNF: 0.0</br>_original_yhat_: 0.003318951211417192</br>"
          ],
          [
           "</br>id: 4176</br>prediction: 0.003</br>Torque [Nm]: 39.7</br></br>Type: M</br>Air temperature [K]: 302.3</br>Process temperature [K]: 310.7</br>Rotational speed [rpm]: 1544.0</br>Tool wear [min]: 141.0</br>TWF: 0.0</br>HDF: 0.0</br>PWF: 0.0</br>OSF: 0.0</br>RNF: 0.0</br>_original_yhat_: 0.003318951211417192</br>"
          ],
          [
           "</br>id: 4176</br>prediction: 0.003</br>Torque [Nm]: 39.88</br></br>Type: M</br>Air temperature [K]: 302.3</br>Process temperature [K]: 310.7</br>Rotational speed [rpm]: 1544.0</br>Tool wear [min]: 141.0</br>TWF: 0.0</br>HDF: 0.0</br>PWF: 0.0</br>OSF: 0.0</br>RNF: 0.0</br>_original_yhat_: 0.003318951211417192</br>"
          ],
          [
           "</br>id: 4176</br>prediction: 0.003</br>Torque [Nm]: 40.6</br></br>Type: M</br>Air temperature [K]: 302.3</br>Process temperature [K]: 310.7</br>Rotational speed [rpm]: 1544.0</br>Tool wear [min]: 141.0</br>TWF: 0.0</br>HDF: 0.0</br>PWF: 0.0</br>OSF: 0.0</br>RNF: 0.0</br>_original_yhat_: 0.003318951211417192</br>"
          ],
          [
           "</br>id: 4176</br>prediction: 0.003</br>Torque [Nm]: 41.32</br></br>Type: M</br>Air temperature [K]: 302.3</br>Process temperature [K]: 310.7</br>Rotational speed [rpm]: 1544.0</br>Tool wear [min]: 141.0</br>TWF: 0.0</br>HDF: 0.0</br>PWF: 0.0</br>OSF: 0.0</br>RNF: 0.0</br>_original_yhat_: 0.003318951211417192</br>"
          ],
          [
           "</br>id: 4176</br>prediction: 0.003</br>Torque [Nm]: 42.04</br></br>Type: M</br>Air temperature [K]: 302.3</br>Process temperature [K]: 310.7</br>Rotational speed [rpm]: 1544.0</br>Tool wear [min]: 141.0</br>TWF: 0.0</br>HDF: 0.0</br>PWF: 0.0</br>OSF: 0.0</br>RNF: 0.0</br>_original_yhat_: 0.003318951211417192</br>"
          ],
          [
           "</br>id: 4176</br>prediction: 0.003</br>Torque [Nm]: 42.76</br></br>Type: M</br>Air temperature [K]: 302.3</br>Process temperature [K]: 310.7</br>Rotational speed [rpm]: 1544.0</br>Tool wear [min]: 141.0</br>TWF: 0.0</br>HDF: 0.0</br>PWF: 0.0</br>OSF: 0.0</br>RNF: 0.0</br>_original_yhat_: 0.003318951211417192</br>"
          ],
          [
           "</br>id: 4176</br>prediction: 0.003</br>Torque [Nm]: 43.48</br></br>Type: M</br>Air temperature [K]: 302.3</br>Process temperature [K]: 310.7</br>Rotational speed [rpm]: 1544.0</br>Tool wear [min]: 141.0</br>TWF: 0.0</br>HDF: 0.0</br>PWF: 0.0</br>OSF: 0.0</br>RNF: 0.0</br>_original_yhat_: 0.003318951211417192</br>"
          ],
          [
           "</br>id: 4176</br>prediction: 0.003</br>Torque [Nm]: 44.2</br></br>Type: M</br>Air temperature [K]: 302.3</br>Process temperature [K]: 310.7</br>Rotational speed [rpm]: 1544.0</br>Tool wear [min]: 141.0</br>TWF: 0.0</br>HDF: 0.0</br>PWF: 0.0</br>OSF: 0.0</br>RNF: 0.0</br>_original_yhat_: 0.003318951211417192</br>"
          ],
          [
           "</br>id: 4176</br>prediction: 0.003</br>Torque [Nm]: 44.92</br></br>Type: M</br>Air temperature [K]: 302.3</br>Process temperature [K]: 310.7</br>Rotational speed [rpm]: 1544.0</br>Tool wear [min]: 141.0</br>TWF: 0.0</br>HDF: 0.0</br>PWF: 0.0</br>OSF: 0.0</br>RNF: 0.0</br>_original_yhat_: 0.003318951211417192</br>"
          ],
          [
           "</br>id: 4176</br>prediction: 0.003</br>Torque [Nm]: 45.64</br></br>Type: M</br>Air temperature [K]: 302.3</br>Process temperature [K]: 310.7</br>Rotational speed [rpm]: 1544.0</br>Tool wear [min]: 141.0</br>TWF: 0.0</br>HDF: 0.0</br>PWF: 0.0</br>OSF: 0.0</br>RNF: 0.0</br>_original_yhat_: 0.003318951211417192</br>"
          ],
          [
           "</br>id: 4176</br>prediction: 0.003</br>Torque [Nm]: 46.36</br></br>Type: M</br>Air temperature [K]: 302.3</br>Process temperature [K]: 310.7</br>Rotational speed [rpm]: 1544.0</br>Tool wear [min]: 141.0</br>TWF: 0.0</br>HDF: 0.0</br>PWF: 0.0</br>OSF: 0.0</br>RNF: 0.0</br>_original_yhat_: 0.003318951211417192</br>"
          ],
          [
           "</br>id: 4176</br>prediction: 0.003</br>Torque [Nm]: 47.08</br></br>Type: M</br>Air temperature [K]: 302.3</br>Process temperature [K]: 310.7</br>Rotational speed [rpm]: 1544.0</br>Tool wear [min]: 141.0</br>TWF: 0.0</br>HDF: 0.0</br>PWF: 0.0</br>OSF: 0.0</br>RNF: 0.0</br>_original_yhat_: 0.003318951211417192</br>"
          ],
          [
           "</br>id: 4176</br>prediction: 0.003</br>Torque [Nm]: 47.8</br></br>Type: M</br>Air temperature [K]: 302.3</br>Process temperature [K]: 310.7</br>Rotational speed [rpm]: 1544.0</br>Tool wear [min]: 141.0</br>TWF: 0.0</br>HDF: 0.0</br>PWF: 0.0</br>OSF: 0.0</br>RNF: 0.0</br>_original_yhat_: 0.003318951211417192</br>"
          ],
          [
           "</br>id: 4176</br>prediction: 0.003</br>Torque [Nm]: 48.52</br></br>Type: M</br>Air temperature [K]: 302.3</br>Process temperature [K]: 310.7</br>Rotational speed [rpm]: 1544.0</br>Tool wear [min]: 141.0</br>TWF: 0.0</br>HDF: 0.0</br>PWF: 0.0</br>OSF: 0.0</br>RNF: 0.0</br>_original_yhat_: 0.003318951211417192</br>"
          ],
          [
           "</br>id: 4176</br>prediction: 0.003</br>Torque [Nm]: 49.24</br></br>Type: M</br>Air temperature [K]: 302.3</br>Process temperature [K]: 310.7</br>Rotational speed [rpm]: 1544.0</br>Tool wear [min]: 141.0</br>TWF: 0.0</br>HDF: 0.0</br>PWF: 0.0</br>OSF: 0.0</br>RNF: 0.0</br>_original_yhat_: 0.003318951211417192</br>"
          ],
          [
           "</br>id: 4176</br>prediction: 0.003</br>Torque [Nm]: 49.96</br></br>Type: M</br>Air temperature [K]: 302.3</br>Process temperature [K]: 310.7</br>Rotational speed [rpm]: 1544.0</br>Tool wear [min]: 141.0</br>TWF: 0.0</br>HDF: 0.0</br>PWF: 0.0</br>OSF: 0.0</br>RNF: 0.0</br>_original_yhat_: 0.003318951211417192</br>"
          ],
          [
           "</br>id: 4176</br>prediction: 0.003</br>Torque [Nm]: 50.68</br></br>Type: M</br>Air temperature [K]: 302.3</br>Process temperature [K]: 310.7</br>Rotational speed [rpm]: 1544.0</br>Tool wear [min]: 141.0</br>TWF: 0.0</br>HDF: 0.0</br>PWF: 0.0</br>OSF: 0.0</br>RNF: 0.0</br>_original_yhat_: 0.003318951211417192</br>"
          ],
          [
           "</br>id: 4176</br>prediction: 0.003</br>Torque [Nm]: 51.4</br></br>Type: M</br>Air temperature [K]: 302.3</br>Process temperature [K]: 310.7</br>Rotational speed [rpm]: 1544.0</br>Tool wear [min]: 141.0</br>TWF: 0.0</br>HDF: 0.0</br>PWF: 0.0</br>OSF: 0.0</br>RNF: 0.0</br>_original_yhat_: 0.003318951211417192</br>"
          ],
          [
           "</br>id: 4176</br>prediction: 0.003</br>Torque [Nm]: 52.12</br></br>Type: M</br>Air temperature [K]: 302.3</br>Process temperature [K]: 310.7</br>Rotational speed [rpm]: 1544.0</br>Tool wear [min]: 141.0</br>TWF: 0.0</br>HDF: 0.0</br>PWF: 0.0</br>OSF: 0.0</br>RNF: 0.0</br>_original_yhat_: 0.003318951211417192</br>"
          ],
          [
           "</br>id: 4176</br>prediction: 0.003</br>Torque [Nm]: 52.839999999999996</br></br>Type: M</br>Air temperature [K]: 302.3</br>Process temperature [K]: 310.7</br>Rotational speed [rpm]: 1544.0</br>Tool wear [min]: 141.0</br>TWF: 0.0</br>HDF: 0.0</br>PWF: 0.0</br>OSF: 0.0</br>RNF: 0.0</br>_original_yhat_: 0.003318951211417192</br>"
          ],
          [
           "</br>id: 4176</br>prediction: 0.003</br>Torque [Nm]: 53.56</br></br>Type: M</br>Air temperature [K]: 302.3</br>Process temperature [K]: 310.7</br>Rotational speed [rpm]: 1544.0</br>Tool wear [min]: 141.0</br>TWF: 0.0</br>HDF: 0.0</br>PWF: 0.0</br>OSF: 0.0</br>RNF: 0.0</br>_original_yhat_: 0.003318951211417192</br>"
          ],
          [
           "</br>id: 4176</br>prediction: 0.003</br>Torque [Nm]: 54.28</br></br>Type: M</br>Air temperature [K]: 302.3</br>Process temperature [K]: 310.7</br>Rotational speed [rpm]: 1544.0</br>Tool wear [min]: 141.0</br>TWF: 0.0</br>HDF: 0.0</br>PWF: 0.0</br>OSF: 0.0</br>RNF: 0.0</br>_original_yhat_: 0.003318951211417192</br>"
          ],
          [
           "</br>id: 4176</br>prediction: 0.003</br>Torque [Nm]: 55.0</br></br>Type: M</br>Air temperature [K]: 302.3</br>Process temperature [K]: 310.7</br>Rotational speed [rpm]: 1544.0</br>Tool wear [min]: 141.0</br>TWF: 0.0</br>HDF: 0.0</br>PWF: 0.0</br>OSF: 0.0</br>RNF: 0.0</br>_original_yhat_: 0.003318951211417192</br>"
          ],
          [
           "</br>id: 4176</br>prediction: 0.003</br>Torque [Nm]: 55.72</br></br>Type: M</br>Air temperature [K]: 302.3</br>Process temperature [K]: 310.7</br>Rotational speed [rpm]: 1544.0</br>Tool wear [min]: 141.0</br>TWF: 0.0</br>HDF: 0.0</br>PWF: 0.0</br>OSF: 0.0</br>RNF: 0.0</br>_original_yhat_: 0.003318951211417192</br>"
          ],
          [
           "</br>id: 4176</br>prediction: 0.003</br>Torque [Nm]: 56.44</br></br>Type: M</br>Air temperature [K]: 302.3</br>Process temperature [K]: 310.7</br>Rotational speed [rpm]: 1544.0</br>Tool wear [min]: 141.0</br>TWF: 0.0</br>HDF: 0.0</br>PWF: 0.0</br>OSF: 0.0</br>RNF: 0.0</br>_original_yhat_: 0.003318951211417192</br>"
          ],
          [
           "</br>id: 4176</br>prediction: 0.003</br>Torque [Nm]: 57.16</br></br>Type: M</br>Air temperature [K]: 302.3</br>Process temperature [K]: 310.7</br>Rotational speed [rpm]: 1544.0</br>Tool wear [min]: 141.0</br>TWF: 0.0</br>HDF: 0.0</br>PWF: 0.0</br>OSF: 0.0</br>RNF: 0.0</br>_original_yhat_: 0.003318951211417192</br>"
          ],
          [
           "</br>id: 4176</br>prediction: 0.003</br>Torque [Nm]: 57.88</br></br>Type: M</br>Air temperature [K]: 302.3</br>Process temperature [K]: 310.7</br>Rotational speed [rpm]: 1544.0</br>Tool wear [min]: 141.0</br>TWF: 0.0</br>HDF: 0.0</br>PWF: 0.0</br>OSF: 0.0</br>RNF: 0.0</br>_original_yhat_: 0.003318951211417192</br>"
          ],
          [
           "</br>id: 4176</br>prediction: 0.003</br>Torque [Nm]: 58.6</br></br>Type: M</br>Air temperature [K]: 302.3</br>Process temperature [K]: 310.7</br>Rotational speed [rpm]: 1544.0</br>Tool wear [min]: 141.0</br>TWF: 0.0</br>HDF: 0.0</br>PWF: 0.0</br>OSF: 0.0</br>RNF: 0.0</br>_original_yhat_: 0.003318951211417192</br>"
          ],
          [
           "</br>id: 4176</br>prediction: 0.003</br>Torque [Nm]: 59.32</br></br>Type: M</br>Air temperature [K]: 302.3</br>Process temperature [K]: 310.7</br>Rotational speed [rpm]: 1544.0</br>Tool wear [min]: 141.0</br>TWF: 0.0</br>HDF: 0.0</br>PWF: 0.0</br>OSF: 0.0</br>RNF: 0.0</br>_original_yhat_: 0.003318951211417192</br>"
          ],
          [
           "</br>id: 4176</br>prediction: 0.003</br>Torque [Nm]: 60.04</br></br>Type: M</br>Air temperature [K]: 302.3</br>Process temperature [K]: 310.7</br>Rotational speed [rpm]: 1544.0</br>Tool wear [min]: 141.0</br>TWF: 0.0</br>HDF: 0.0</br>PWF: 0.0</br>OSF: 0.0</br>RNF: 0.0</br>_original_yhat_: 0.003318951211417192</br>"
          ],
          [
           "</br>id: 4176</br>prediction: 0.003</br>Torque [Nm]: 60.76</br></br>Type: M</br>Air temperature [K]: 302.3</br>Process temperature [K]: 310.7</br>Rotational speed [rpm]: 1544.0</br>Tool wear [min]: 141.0</br>TWF: 0.0</br>HDF: 0.0</br>PWF: 0.0</br>OSF: 0.0</br>RNF: 0.0</br>_original_yhat_: 0.003318951211417192</br>"
          ],
          [
           "</br>id: 4176</br>prediction: 0.003</br>Torque [Nm]: 61.48</br></br>Type: M</br>Air temperature [K]: 302.3</br>Process temperature [K]: 310.7</br>Rotational speed [rpm]: 1544.0</br>Tool wear [min]: 141.0</br>TWF: 0.0</br>HDF: 0.0</br>PWF: 0.0</br>OSF: 0.0</br>RNF: 0.0</br>_original_yhat_: 0.003318951211417192</br>"
          ],
          [
           "</br>id: 4176</br>prediction: 0.003</br>Torque [Nm]: 62.199999999999996</br></br>Type: M</br>Air temperature [K]: 302.3</br>Process temperature [K]: 310.7</br>Rotational speed [rpm]: 1544.0</br>Tool wear [min]: 141.0</br>TWF: 0.0</br>HDF: 0.0</br>PWF: 0.0</br>OSF: 0.0</br>RNF: 0.0</br>_original_yhat_: 0.003318951211417192</br>"
          ],
          [
           "</br>id: 4176</br>prediction: 0.003</br>Torque [Nm]: 62.92</br></br>Type: M</br>Air temperature [K]: 302.3</br>Process temperature [K]: 310.7</br>Rotational speed [rpm]: 1544.0</br>Tool wear [min]: 141.0</br>TWF: 0.0</br>HDF: 0.0</br>PWF: 0.0</br>OSF: 0.0</br>RNF: 0.0</br>_original_yhat_: 0.003318951211417192</br>"
          ],
          [
           "</br>id: 4176</br>prediction: 0.003</br>Torque [Nm]: 63.64</br></br>Type: M</br>Air temperature [K]: 302.3</br>Process temperature [K]: 310.7</br>Rotational speed [rpm]: 1544.0</br>Tool wear [min]: 141.0</br>TWF: 0.0</br>HDF: 0.0</br>PWF: 0.0</br>OSF: 0.0</br>RNF: 0.0</br>_original_yhat_: 0.003318951211417192</br>"
          ],
          [
           "</br>id: 4176</br>prediction: 0.003</br>Torque [Nm]: 64.36</br></br>Type: M</br>Air temperature [K]: 302.3</br>Process temperature [K]: 310.7</br>Rotational speed [rpm]: 1544.0</br>Tool wear [min]: 141.0</br>TWF: 0.0</br>HDF: 0.0</br>PWF: 0.0</br>OSF: 0.0</br>RNF: 0.0</br>_original_yhat_: 0.003318951211417192</br>"
          ],
          [
           "</br>id: 4176</br>prediction: 0.003</br>Torque [Nm]: 65.08</br></br>Type: M</br>Air temperature [K]: 302.3</br>Process temperature [K]: 310.7</br>Rotational speed [rpm]: 1544.0</br>Tool wear [min]: 141.0</br>TWF: 0.0</br>HDF: 0.0</br>PWF: 0.0</br>OSF: 0.0</br>RNF: 0.0</br>_original_yhat_: 0.003318951211417192</br>"
          ],
          [
           "</br>id: 4176</br>prediction: 0.003</br>Torque [Nm]: 65.8</br></br>Type: M</br>Air temperature [K]: 302.3</br>Process temperature [K]: 310.7</br>Rotational speed [rpm]: 1544.0</br>Tool wear [min]: 141.0</br>TWF: 0.0</br>HDF: 0.0</br>PWF: 0.0</br>OSF: 0.0</br>RNF: 0.0</br>_original_yhat_: 0.003318951211417192</br>"
          ],
          [
           "</br>id: 4176</br>prediction: 0.003</br>Torque [Nm]: 66.52</br></br>Type: M</br>Air temperature [K]: 302.3</br>Process temperature [K]: 310.7</br>Rotational speed [rpm]: 1544.0</br>Tool wear [min]: 141.0</br>TWF: 0.0</br>HDF: 0.0</br>PWF: 0.0</br>OSF: 0.0</br>RNF: 0.0</br>_original_yhat_: 0.003318951211417192</br>"
          ],
          [
           "</br>id: 4176</br>prediction: 0.003</br>Torque [Nm]: 67.24</br></br>Type: M</br>Air temperature [K]: 302.3</br>Process temperature [K]: 310.7</br>Rotational speed [rpm]: 1544.0</br>Tool wear [min]: 141.0</br>TWF: 0.0</br>HDF: 0.0</br>PWF: 0.0</br>OSF: 0.0</br>RNF: 0.0</br>_original_yhat_: 0.003318951211417192</br>"
          ],
          [
           "</br>id: 4176</br>prediction: 0.003</br>Torque [Nm]: 67.96</br></br>Type: M</br>Air temperature [K]: 302.3</br>Process temperature [K]: 310.7</br>Rotational speed [rpm]: 1544.0</br>Tool wear [min]: 141.0</br>TWF: 0.0</br>HDF: 0.0</br>PWF: 0.0</br>OSF: 0.0</br>RNF: 0.0</br>_original_yhat_: 0.003318951211417192</br>"
          ],
          [
           "</br>id: 4176</br>prediction: 0.003</br>Torque [Nm]: 68.67999999999999</br></br>Type: M</br>Air temperature [K]: 302.3</br>Process temperature [K]: 310.7</br>Rotational speed [rpm]: 1544.0</br>Tool wear [min]: 141.0</br>TWF: 0.0</br>HDF: 0.0</br>PWF: 0.0</br>OSF: 0.0</br>RNF: 0.0</br>_original_yhat_: 0.003318951211417192</br>"
          ],
          [
           "</br>id: 4176</br>prediction: 0.003</br>Torque [Nm]: 69.39999999999999</br></br>Type: M</br>Air temperature [K]: 302.3</br>Process temperature [K]: 310.7</br>Rotational speed [rpm]: 1544.0</br>Tool wear [min]: 141.0</br>TWF: 0.0</br>HDF: 0.0</br>PWF: 0.0</br>OSF: 0.0</br>RNF: 0.0</br>_original_yhat_: 0.003318951211417192</br>"
          ],
          [
           "</br>id: 4176</br>prediction: 0.003</br>Torque [Nm]: 70.11999999999999</br></br>Type: M</br>Air temperature [K]: 302.3</br>Process temperature [K]: 310.7</br>Rotational speed [rpm]: 1544.0</br>Tool wear [min]: 141.0</br>TWF: 0.0</br>HDF: 0.0</br>PWF: 0.0</br>OSF: 0.0</br>RNF: 0.0</br>_original_yhat_: 0.003318951211417192</br>"
          ],
          [
           "</br>id: 4176</br>prediction: 0.003</br>Torque [Nm]: 70.83999999999999</br></br>Type: M</br>Air temperature [K]: 302.3</br>Process temperature [K]: 310.7</br>Rotational speed [rpm]: 1544.0</br>Tool wear [min]: 141.0</br>TWF: 0.0</br>HDF: 0.0</br>PWF: 0.0</br>OSF: 0.0</br>RNF: 0.0</br>_original_yhat_: 0.003318951211417192</br>"
          ],
          [
           "</br>id: 4176</br>prediction: 0.003</br>Torque [Nm]: 71.55999999999999</br></br>Type: M</br>Air temperature [K]: 302.3</br>Process temperature [K]: 310.7</br>Rotational speed [rpm]: 1544.0</br>Tool wear [min]: 141.0</br>TWF: 0.0</br>HDF: 0.0</br>PWF: 0.0</br>OSF: 0.0</br>RNF: 0.0</br>_original_yhat_: 0.003318951211417192</br>"
          ],
          [
           "</br>id: 4176</br>prediction: 0.003</br>Torque [Nm]: 72.27999999999999</br></br>Type: M</br>Air temperature [K]: 302.3</br>Process temperature [K]: 310.7</br>Rotational speed [rpm]: 1544.0</br>Tool wear [min]: 141.0</br>TWF: 0.0</br>HDF: 0.0</br>PWF: 0.0</br>OSF: 0.0</br>RNF: 0.0</br>_original_yhat_: 0.003318951211417192</br>"
          ],
          [
           "</br>id: 4176</br>prediction: 0.003</br>Torque [Nm]: 72.99999999999999</br></br>Type: M</br>Air temperature [K]: 302.3</br>Process temperature [K]: 310.7</br>Rotational speed [rpm]: 1544.0</br>Tool wear [min]: 141.0</br>TWF: 0.0</br>HDF: 0.0</br>PWF: 0.0</br>OSF: 0.0</br>RNF: 0.0</br>_original_yhat_: 0.003318951211417192</br>"
          ],
          [
           "</br>id: 4176</br>prediction: 0.003</br>Torque [Nm]: 73.72</br></br>Type: M</br>Air temperature [K]: 302.3</br>Process temperature [K]: 310.7</br>Rotational speed [rpm]: 1544.0</br>Tool wear [min]: 141.0</br>TWF: 0.0</br>HDF: 0.0</br>PWF: 0.0</br>OSF: 0.0</br>RNF: 0.0</br>_original_yhat_: 0.003318951211417192</br>"
          ],
          [
           "</br>id: 4176</br>prediction: 0.003</br>Torque [Nm]: 74.44</br></br>Type: M</br>Air temperature [K]: 302.3</br>Process temperature [K]: 310.7</br>Rotational speed [rpm]: 1544.0</br>Tool wear [min]: 141.0</br>TWF: 0.0</br>HDF: 0.0</br>PWF: 0.0</br>OSF: 0.0</br>RNF: 0.0</br>_original_yhat_: 0.003318951211417192</br>"
          ],
          [
           "</br>id: 4176</br>prediction: 0.003</br>Torque [Nm]: 75.16</br></br>Type: M</br>Air temperature [K]: 302.3</br>Process temperature [K]: 310.7</br>Rotational speed [rpm]: 1544.0</br>Tool wear [min]: 141.0</br>TWF: 0.0</br>HDF: 0.0</br>PWF: 0.0</br>OSF: 0.0</br>RNF: 0.0</br>_original_yhat_: 0.003318951211417192</br>"
          ],
          [
           "</br>id: 4176</br>prediction: 0.003</br>Torque [Nm]: 75.88</br></br>Type: M</br>Air temperature [K]: 302.3</br>Process temperature [K]: 310.7</br>Rotational speed [rpm]: 1544.0</br>Tool wear [min]: 141.0</br>TWF: 0.0</br>HDF: 0.0</br>PWF: 0.0</br>OSF: 0.0</br>RNF: 0.0</br>_original_yhat_: 0.003318951211417192</br>"
          ],
          [
           "</br>id: 4176</br>prediction: 0.003</br>Torque [Nm]: 76.6</br></br>Type: M</br>Air temperature [K]: 302.3</br>Process temperature [K]: 310.7</br>Rotational speed [rpm]: 1544.0</br>Tool wear [min]: 141.0</br>TWF: 0.0</br>HDF: 0.0</br>PWF: 0.0</br>OSF: 0.0</br>RNF: 0.0</br>_original_yhat_: 0.003318951211417192</br>"
          ]
         ],
         "hovertemplate": "%{customdata[0]}<extra></extra>",
         "legendgroup": "testing",
         "line": {
          "color": "#46bac2",
          "dash": "solid",
          "width": 2
         },
         "marker": {
          "symbol": "circle"
         },
         "mode": "lines",
         "name": "testing",
         "opacity": 1,
         "showlegend": false,
         "type": "scattergl",
         "x": [
          4.6,
          5.319999999999999,
          6.039999999999999,
          6.76,
          7.4799999999999995,
          8.2,
          8.92,
          9.64,
          10.36,
          11.079999999999998,
          11.799999999999999,
          12.52,
          13.24,
          13.959999999999999,
          14.68,
          15.399999999999999,
          16.119999999999997,
          16.84,
          17.56,
          18.28,
          19,
          19.72,
          20.439999999999998,
          21.159999999999997,
          21.880000000000003,
          22.6,
          23.32,
          24.04,
          24.759999999999998,
          25.479999999999997,
          26.199999999999996,
          26.92,
          27.64,
          28.36,
          29.08,
          29.799999999999997,
          30.519999999999996,
          31.240000000000002,
          31.96,
          32.68,
          33.4,
          34.12,
          34.839999999999996,
          35.559999999999995,
          36.28,
          37,
          37.72,
          38.44,
          39.160000000000004,
          39.7,
          39.88,
          40.6,
          41.32,
          42.04,
          42.76,
          43.48,
          44.2,
          44.92,
          45.64,
          46.36,
          47.08,
          47.8,
          48.52,
          49.24,
          49.96,
          50.68,
          51.4,
          52.12,
          52.839999999999996,
          53.56,
          54.28,
          55,
          55.72,
          56.44,
          57.16,
          57.88,
          58.6,
          59.32,
          60.04,
          60.76,
          61.48,
          62.199999999999996,
          62.92,
          63.64,
          64.36,
          65.08,
          65.8,
          66.52,
          67.24,
          67.96,
          68.67999999999999,
          69.39999999999999,
          70.11999999999999,
          70.83999999999999,
          71.55999999999999,
          72.27999999999999,
          72.99999999999999,
          73.72,
          74.44,
          75.16,
          75.88,
          76.6
         ],
         "xaxis": "x8",
         "y": [
          0.003318951211417192,
          0.003318951211417192,
          0.003318951211417192,
          0.003318951211417192,
          0.003318951211417192,
          0.003318951211417192,
          0.003318951211417192,
          0.003318951211417192,
          0.003318951211417192,
          0.003318951211417192,
          0.003318951211417192,
          0.003318951211417192,
          0.003318951211417192,
          0.003318951211417192,
          0.003318951211417192,
          0.003318951211417192,
          0.003318951211417192,
          0.003318951211417192,
          0.003318951211417192,
          0.003318951211417192,
          0.003318951211417192,
          0.003318951211417192,
          0.003318951211417192,
          0.003318951211417192,
          0.003318951211417192,
          0.003318951211417192,
          0.003318951211417192,
          0.003318951211417192,
          0.003318951211417192,
          0.003318951211417192,
          0.003318951211417192,
          0.003318951211417192,
          0.003318951211417192,
          0.003318951211417192,
          0.003318951211417192,
          0.003318951211417192,
          0.003318951211417192,
          0.003318951211417192,
          0.003318951211417192,
          0.003318951211417192,
          0.003318951211417192,
          0.003318951211417192,
          0.003318951211417192,
          0.003318951211417192,
          0.003318951211417192,
          0.003318951211417192,
          0.003318951211417192,
          0.003318951211417192,
          0.003318951211417192,
          0.003318951211417192,
          0.003318951211417192,
          0.003318951211417192,
          0.003318951211417192,
          0.003318951211417192,
          0.003318951211417192,
          0.003318951211417192,
          0.003318951211417192,
          0.003318951211417192,
          0.003318951211417192,
          0.003318951211417192,
          0.003318951211417192,
          0.003318951211417192,
          0.003318951211417192,
          0.003318951211417192,
          0.003318951211417192,
          0.003318951211417192,
          0.003318951211417192,
          0.003318951211417192,
          0.003318951211417192,
          0.003318951211417192,
          0.003318951211417192,
          0.003318951211417192,
          0.003318951211417192,
          0.003318951211417192,
          0.003318951211417192,
          0.003318951211417192,
          0.003318951211417192,
          0.003318951211417192,
          0.003318951211417192,
          0.003318951211417192,
          0.003318951211417192,
          0.003318951211417192,
          0.003318951211417192,
          0.003318951211417192,
          0.003318951211417192,
          0.003318951211417192,
          0.003318951211417192,
          0.003318951211417192,
          0.003318951211417192,
          0.003318951211417192,
          0.003318951211417192,
          0.003318951211417192,
          0.003318951211417192,
          0.003318951211417192,
          0.003318951211417192,
          0.003318951211417192,
          0.003318951211417192,
          0.003318951211417192,
          0.003318951211417192,
          0.003318951211417192,
          0.003318951211417192,
          0.003318951211417192
         ],
         "yaxis": "y8"
        },
        {
         "customdata": [
          [
           "</br>id: 4176</br>prediction: 0.001</br>Tool wear [min]: 0.0</br></br>Type: M</br>Air temperature [K]: 302.3</br>Process temperature [K]: 310.7</br>Rotational speed [rpm]: 1544.0</br>Torque [Nm]: 39.7</br>TWF: 0.0</br>HDF: 0.0</br>PWF: 0.0</br>OSF: 0.0</br>RNF: 0.0</br>_original_yhat_: 0.003318951211417192</br>"
          ],
          [
           "</br>id: 4176</br>prediction: 0.001</br>Tool wear [min]: 2.53</br></br>Type: M</br>Air temperature [K]: 302.3</br>Process temperature [K]: 310.7</br>Rotational speed [rpm]: 1544.0</br>Torque [Nm]: 39.7</br>TWF: 0.0</br>HDF: 0.0</br>PWF: 0.0</br>OSF: 0.0</br>RNF: 0.0</br>_original_yhat_: 0.003318951211417192</br>"
          ],
          [
           "</br>id: 4176</br>prediction: 0.001</br>Tool wear [min]: 5.06</br></br>Type: M</br>Air temperature [K]: 302.3</br>Process temperature [K]: 310.7</br>Rotational speed [rpm]: 1544.0</br>Torque [Nm]: 39.7</br>TWF: 0.0</br>HDF: 0.0</br>PWF: 0.0</br>OSF: 0.0</br>RNF: 0.0</br>_original_yhat_: 0.003318951211417192</br>"
          ],
          [
           "</br>id: 4176</br>prediction: 0.001</br>Tool wear [min]: 7.59</br></br>Type: M</br>Air temperature [K]: 302.3</br>Process temperature [K]: 310.7</br>Rotational speed [rpm]: 1544.0</br>Torque [Nm]: 39.7</br>TWF: 0.0</br>HDF: 0.0</br>PWF: 0.0</br>OSF: 0.0</br>RNF: 0.0</br>_original_yhat_: 0.003318951211417192</br>"
          ],
          [
           "</br>id: 4176</br>prediction: 0.001</br>Tool wear [min]: 10.12</br></br>Type: M</br>Air temperature [K]: 302.3</br>Process temperature [K]: 310.7</br>Rotational speed [rpm]: 1544.0</br>Torque [Nm]: 39.7</br>TWF: 0.0</br>HDF: 0.0</br>PWF: 0.0</br>OSF: 0.0</br>RNF: 0.0</br>_original_yhat_: 0.003318951211417192</br>"
          ],
          [
           "</br>id: 4176</br>prediction: 0.001</br>Tool wear [min]: 12.649999999999999</br></br>Type: M</br>Air temperature [K]: 302.3</br>Process temperature [K]: 310.7</br>Rotational speed [rpm]: 1544.0</br>Torque [Nm]: 39.7</br>TWF: 0.0</br>HDF: 0.0</br>PWF: 0.0</br>OSF: 0.0</br>RNF: 0.0</br>_original_yhat_: 0.003318951211417192</br>"
          ],
          [
           "</br>id: 4176</br>prediction: 0.001</br>Tool wear [min]: 15.18</br></br>Type: M</br>Air temperature [K]: 302.3</br>Process temperature [K]: 310.7</br>Rotational speed [rpm]: 1544.0</br>Torque [Nm]: 39.7</br>TWF: 0.0</br>HDF: 0.0</br>PWF: 0.0</br>OSF: 0.0</br>RNF: 0.0</br>_original_yhat_: 0.003318951211417192</br>"
          ],
          [
           "</br>id: 4176</br>prediction: 0.001</br>Tool wear [min]: 17.709999999999997</br></br>Type: M</br>Air temperature [K]: 302.3</br>Process temperature [K]: 310.7</br>Rotational speed [rpm]: 1544.0</br>Torque [Nm]: 39.7</br>TWF: 0.0</br>HDF: 0.0</br>PWF: 0.0</br>OSF: 0.0</br>RNF: 0.0</br>_original_yhat_: 0.003318951211417192</br>"
          ],
          [
           "</br>id: 4176</br>prediction: 0.001</br>Tool wear [min]: 20.24</br></br>Type: M</br>Air temperature [K]: 302.3</br>Process temperature [K]: 310.7</br>Rotational speed [rpm]: 1544.0</br>Torque [Nm]: 39.7</br>TWF: 0.0</br>HDF: 0.0</br>PWF: 0.0</br>OSF: 0.0</br>RNF: 0.0</br>_original_yhat_: 0.003318951211417192</br>"
          ],
          [
           "</br>id: 4176</br>prediction: 0.001</br>Tool wear [min]: 22.77</br></br>Type: M</br>Air temperature [K]: 302.3</br>Process temperature [K]: 310.7</br>Rotational speed [rpm]: 1544.0</br>Torque [Nm]: 39.7</br>TWF: 0.0</br>HDF: 0.0</br>PWF: 0.0</br>OSF: 0.0</br>RNF: 0.0</br>_original_yhat_: 0.003318951211417192</br>"
          ],
          [
           "</br>id: 4176</br>prediction: 0.001</br>Tool wear [min]: 25.299999999999997</br></br>Type: M</br>Air temperature [K]: 302.3</br>Process temperature [K]: 310.7</br>Rotational speed [rpm]: 1544.0</br>Torque [Nm]: 39.7</br>TWF: 0.0</br>HDF: 0.0</br>PWF: 0.0</br>OSF: 0.0</br>RNF: 0.0</br>_original_yhat_: 0.003318951211417192</br>"
          ],
          [
           "</br>id: 4176</br>prediction: 0.001</br>Tool wear [min]: 27.83</br></br>Type: M</br>Air temperature [K]: 302.3</br>Process temperature [K]: 310.7</br>Rotational speed [rpm]: 1544.0</br>Torque [Nm]: 39.7</br>TWF: 0.0</br>HDF: 0.0</br>PWF: 0.0</br>OSF: 0.0</br>RNF: 0.0</br>_original_yhat_: 0.003318951211417192</br>"
          ],
          [
           "</br>id: 4176</br>prediction: 0.001</br>Tool wear [min]: 30.36</br></br>Type: M</br>Air temperature [K]: 302.3</br>Process temperature [K]: 310.7</br>Rotational speed [rpm]: 1544.0</br>Torque [Nm]: 39.7</br>TWF: 0.0</br>HDF: 0.0</br>PWF: 0.0</br>OSF: 0.0</br>RNF: 0.0</br>_original_yhat_: 0.003318951211417192</br>"
          ],
          [
           "</br>id: 4176</br>prediction: 0.001</br>Tool wear [min]: 32.89</br></br>Type: M</br>Air temperature [K]: 302.3</br>Process temperature [K]: 310.7</br>Rotational speed [rpm]: 1544.0</br>Torque [Nm]: 39.7</br>TWF: 0.0</br>HDF: 0.0</br>PWF: 0.0</br>OSF: 0.0</br>RNF: 0.0</br>_original_yhat_: 0.003318951211417192</br>"
          ],
          [
           "</br>id: 4176</br>prediction: 0.001</br>Tool wear [min]: 35.419999999999995</br></br>Type: M</br>Air temperature [K]: 302.3</br>Process temperature [K]: 310.7</br>Rotational speed [rpm]: 1544.0</br>Torque [Nm]: 39.7</br>TWF: 0.0</br>HDF: 0.0</br>PWF: 0.0</br>OSF: 0.0</br>RNF: 0.0</br>_original_yhat_: 0.003318951211417192</br>"
          ],
          [
           "</br>id: 4176</br>prediction: 0.001</br>Tool wear [min]: 37.949999999999996</br></br>Type: M</br>Air temperature [K]: 302.3</br>Process temperature [K]: 310.7</br>Rotational speed [rpm]: 1544.0</br>Torque [Nm]: 39.7</br>TWF: 0.0</br>HDF: 0.0</br>PWF: 0.0</br>OSF: 0.0</br>RNF: 0.0</br>_original_yhat_: 0.003318951211417192</br>"
          ],
          [
           "</br>id: 4176</br>prediction: 0.001</br>Tool wear [min]: 40.48</br></br>Type: M</br>Air temperature [K]: 302.3</br>Process temperature [K]: 310.7</br>Rotational speed [rpm]: 1544.0</br>Torque [Nm]: 39.7</br>TWF: 0.0</br>HDF: 0.0</br>PWF: 0.0</br>OSF: 0.0</br>RNF: 0.0</br>_original_yhat_: 0.003318951211417192</br>"
          ],
          [
           "</br>id: 4176</br>prediction: 0.001</br>Tool wear [min]: 43.01</br></br>Type: M</br>Air temperature [K]: 302.3</br>Process temperature [K]: 310.7</br>Rotational speed [rpm]: 1544.0</br>Torque [Nm]: 39.7</br>TWF: 0.0</br>HDF: 0.0</br>PWF: 0.0</br>OSF: 0.0</br>RNF: 0.0</br>_original_yhat_: 0.003318951211417192</br>"
          ],
          [
           "</br>id: 4176</br>prediction: 0.001</br>Tool wear [min]: 45.54</br></br>Type: M</br>Air temperature [K]: 302.3</br>Process temperature [K]: 310.7</br>Rotational speed [rpm]: 1544.0</br>Torque [Nm]: 39.7</br>TWF: 0.0</br>HDF: 0.0</br>PWF: 0.0</br>OSF: 0.0</br>RNF: 0.0</br>_original_yhat_: 0.003318951211417192</br>"
          ],
          [
           "</br>id: 4176</br>prediction: 0.001</br>Tool wear [min]: 48.06999999999999</br></br>Type: M</br>Air temperature [K]: 302.3</br>Process temperature [K]: 310.7</br>Rotational speed [rpm]: 1544.0</br>Torque [Nm]: 39.7</br>TWF: 0.0</br>HDF: 0.0</br>PWF: 0.0</br>OSF: 0.0</br>RNF: 0.0</br>_original_yhat_: 0.003318951211417192</br>"
          ],
          [
           "</br>id: 4176</br>prediction: 0.001</br>Tool wear [min]: 50.599999999999994</br></br>Type: M</br>Air temperature [K]: 302.3</br>Process temperature [K]: 310.7</br>Rotational speed [rpm]: 1544.0</br>Torque [Nm]: 39.7</br>TWF: 0.0</br>HDF: 0.0</br>PWF: 0.0</br>OSF: 0.0</br>RNF: 0.0</br>_original_yhat_: 0.003318951211417192</br>"
          ],
          [
           "</br>id: 4176</br>prediction: 0.001</br>Tool wear [min]: 53.129999999999995</br></br>Type: M</br>Air temperature [K]: 302.3</br>Process temperature [K]: 310.7</br>Rotational speed [rpm]: 1544.0</br>Torque [Nm]: 39.7</br>TWF: 0.0</br>HDF: 0.0</br>PWF: 0.0</br>OSF: 0.0</br>RNF: 0.0</br>_original_yhat_: 0.003318951211417192</br>"
          ],
          [
           "</br>id: 4176</br>prediction: 0.001</br>Tool wear [min]: 55.66</br></br>Type: M</br>Air temperature [K]: 302.3</br>Process temperature [K]: 310.7</br>Rotational speed [rpm]: 1544.0</br>Torque [Nm]: 39.7</br>TWF: 0.0</br>HDF: 0.0</br>PWF: 0.0</br>OSF: 0.0</br>RNF: 0.0</br>_original_yhat_: 0.003318951211417192</br>"
          ],
          [
           "</br>id: 4176</br>prediction: 0.001</br>Tool wear [min]: 58.19</br></br>Type: M</br>Air temperature [K]: 302.3</br>Process temperature [K]: 310.7</br>Rotational speed [rpm]: 1544.0</br>Torque [Nm]: 39.7</br>TWF: 0.0</br>HDF: 0.0</br>PWF: 0.0</br>OSF: 0.0</br>RNF: 0.0</br>_original_yhat_: 0.003318951211417192</br>"
          ],
          [
           "</br>id: 4176</br>prediction: 0.001</br>Tool wear [min]: 60.72</br></br>Type: M</br>Air temperature [K]: 302.3</br>Process temperature [K]: 310.7</br>Rotational speed [rpm]: 1544.0</br>Torque [Nm]: 39.7</br>TWF: 0.0</br>HDF: 0.0</br>PWF: 0.0</br>OSF: 0.0</br>RNF: 0.0</br>_original_yhat_: 0.003318951211417192</br>"
          ],
          [
           "</br>id: 4176</br>prediction: 0.001</br>Tool wear [min]: 63.24999999999999</br></br>Type: M</br>Air temperature [K]: 302.3</br>Process temperature [K]: 310.7</br>Rotational speed [rpm]: 1544.0</br>Torque [Nm]: 39.7</br>TWF: 0.0</br>HDF: 0.0</br>PWF: 0.0</br>OSF: 0.0</br>RNF: 0.0</br>_original_yhat_: 0.003318951211417192</br>"
          ],
          [
           "</br>id: 4176</br>prediction: 0.001</br>Tool wear [min]: 65.78</br></br>Type: M</br>Air temperature [K]: 302.3</br>Process temperature [K]: 310.7</br>Rotational speed [rpm]: 1544.0</br>Torque [Nm]: 39.7</br>TWF: 0.0</br>HDF: 0.0</br>PWF: 0.0</br>OSF: 0.0</br>RNF: 0.0</br>_original_yhat_: 0.003318951211417192</br>"
          ],
          [
           "</br>id: 4176</br>prediction: 0.001</br>Tool wear [min]: 68.30999999999999</br></br>Type: M</br>Air temperature [K]: 302.3</br>Process temperature [K]: 310.7</br>Rotational speed [rpm]: 1544.0</br>Torque [Nm]: 39.7</br>TWF: 0.0</br>HDF: 0.0</br>PWF: 0.0</br>OSF: 0.0</br>RNF: 0.0</br>_original_yhat_: 0.003318951211417192</br>"
          ],
          [
           "</br>id: 4176</br>prediction: 0.001</br>Tool wear [min]: 70.83999999999999</br></br>Type: M</br>Air temperature [K]: 302.3</br>Process temperature [K]: 310.7</br>Rotational speed [rpm]: 1544.0</br>Torque [Nm]: 39.7</br>TWF: 0.0</br>HDF: 0.0</br>PWF: 0.0</br>OSF: 0.0</br>RNF: 0.0</br>_original_yhat_: 0.003318951211417192</br>"
          ],
          [
           "</br>id: 4176</br>prediction: 0.001</br>Tool wear [min]: 73.36999999999999</br></br>Type: M</br>Air temperature [K]: 302.3</br>Process temperature [K]: 310.7</br>Rotational speed [rpm]: 1544.0</br>Torque [Nm]: 39.7</br>TWF: 0.0</br>HDF: 0.0</br>PWF: 0.0</br>OSF: 0.0</br>RNF: 0.0</br>_original_yhat_: 0.003318951211417192</br>"
          ],
          [
           "</br>id: 4176</br>prediction: 0.001</br>Tool wear [min]: 75.89999999999999</br></br>Type: M</br>Air temperature [K]: 302.3</br>Process temperature [K]: 310.7</br>Rotational speed [rpm]: 1544.0</br>Torque [Nm]: 39.7</br>TWF: 0.0</br>HDF: 0.0</br>PWF: 0.0</br>OSF: 0.0</br>RNF: 0.0</br>_original_yhat_: 0.003318951211417192</br>"
          ],
          [
           "</br>id: 4176</br>prediction: 0.001</br>Tool wear [min]: 78.42999999999999</br></br>Type: M</br>Air temperature [K]: 302.3</br>Process temperature [K]: 310.7</br>Rotational speed [rpm]: 1544.0</br>Torque [Nm]: 39.7</br>TWF: 0.0</br>HDF: 0.0</br>PWF: 0.0</br>OSF: 0.0</br>RNF: 0.0</br>_original_yhat_: 0.003318951211417192</br>"
          ],
          [
           "</br>id: 4176</br>prediction: 0.001</br>Tool wear [min]: 80.96</br></br>Type: M</br>Air temperature [K]: 302.3</br>Process temperature [K]: 310.7</br>Rotational speed [rpm]: 1544.0</br>Torque [Nm]: 39.7</br>TWF: 0.0</br>HDF: 0.0</br>PWF: 0.0</br>OSF: 0.0</br>RNF: 0.0</br>_original_yhat_: 0.003318951211417192</br>"
          ],
          [
           "</br>id: 4176</br>prediction: 0.001</br>Tool wear [min]: 83.49</br></br>Type: M</br>Air temperature [K]: 302.3</br>Process temperature [K]: 310.7</br>Rotational speed [rpm]: 1544.0</br>Torque [Nm]: 39.7</br>TWF: 0.0</br>HDF: 0.0</br>PWF: 0.0</br>OSF: 0.0</br>RNF: 0.0</br>_original_yhat_: 0.003318951211417192</br>"
          ],
          [
           "</br>id: 4176</br>prediction: 0.001</br>Tool wear [min]: 86.02</br></br>Type: M</br>Air temperature [K]: 302.3</br>Process temperature [K]: 310.7</br>Rotational speed [rpm]: 1544.0</br>Torque [Nm]: 39.7</br>TWF: 0.0</br>HDF: 0.0</br>PWF: 0.0</br>OSF: 0.0</br>RNF: 0.0</br>_original_yhat_: 0.003318951211417192</br>"
          ],
          [
           "</br>id: 4176</br>prediction: 0.001</br>Tool wear [min]: 88.55</br></br>Type: M</br>Air temperature [K]: 302.3</br>Process temperature [K]: 310.7</br>Rotational speed [rpm]: 1544.0</br>Torque [Nm]: 39.7</br>TWF: 0.0</br>HDF: 0.0</br>PWF: 0.0</br>OSF: 0.0</br>RNF: 0.0</br>_original_yhat_: 0.003318951211417192</br>"
          ],
          [
           "</br>id: 4176</br>prediction: 0.001</br>Tool wear [min]: 91.08</br></br>Type: M</br>Air temperature [K]: 302.3</br>Process temperature [K]: 310.7</br>Rotational speed [rpm]: 1544.0</br>Torque [Nm]: 39.7</br>TWF: 0.0</br>HDF: 0.0</br>PWF: 0.0</br>OSF: 0.0</br>RNF: 0.0</br>_original_yhat_: 0.003318951211417192</br>"
          ],
          [
           "</br>id: 4176</br>prediction: 0.001</br>Tool wear [min]: 93.61</br></br>Type: M</br>Air temperature [K]: 302.3</br>Process temperature [K]: 310.7</br>Rotational speed [rpm]: 1544.0</br>Torque [Nm]: 39.7</br>TWF: 0.0</br>HDF: 0.0</br>PWF: 0.0</br>OSF: 0.0</br>RNF: 0.0</br>_original_yhat_: 0.003318951211417192</br>"
          ],
          [
           "</br>id: 4176</br>prediction: 0.001</br>Tool wear [min]: 96.13999999999999</br></br>Type: M</br>Air temperature [K]: 302.3</br>Process temperature [K]: 310.7</br>Rotational speed [rpm]: 1544.0</br>Torque [Nm]: 39.7</br>TWF: 0.0</br>HDF: 0.0</br>PWF: 0.0</br>OSF: 0.0</br>RNF: 0.0</br>_original_yhat_: 0.003318951211417192</br>"
          ],
          [
           "</br>id: 4176</br>prediction: 0.001</br>Tool wear [min]: 98.66999999999999</br></br>Type: M</br>Air temperature [K]: 302.3</br>Process temperature [K]: 310.7</br>Rotational speed [rpm]: 1544.0</br>Torque [Nm]: 39.7</br>TWF: 0.0</br>HDF: 0.0</br>PWF: 0.0</br>OSF: 0.0</br>RNF: 0.0</br>_original_yhat_: 0.003318951211417192</br>"
          ],
          [
           "</br>id: 4176</br>prediction: 0.001</br>Tool wear [min]: 101.19999999999999</br></br>Type: M</br>Air temperature [K]: 302.3</br>Process temperature [K]: 310.7</br>Rotational speed [rpm]: 1544.0</br>Torque [Nm]: 39.7</br>TWF: 0.0</br>HDF: 0.0</br>PWF: 0.0</br>OSF: 0.0</br>RNF: 0.0</br>_original_yhat_: 0.003318951211417192</br>"
          ],
          [
           "</br>id: 4176</br>prediction: 0.001</br>Tool wear [min]: 103.72999999999999</br></br>Type: M</br>Air temperature [K]: 302.3</br>Process temperature [K]: 310.7</br>Rotational speed [rpm]: 1544.0</br>Torque [Nm]: 39.7</br>TWF: 0.0</br>HDF: 0.0</br>PWF: 0.0</br>OSF: 0.0</br>RNF: 0.0</br>_original_yhat_: 0.003318951211417192</br>"
          ],
          [
           "</br>id: 4176</br>prediction: 0.001</br>Tool wear [min]: 106.25999999999999</br></br>Type: M</br>Air temperature [K]: 302.3</br>Process temperature [K]: 310.7</br>Rotational speed [rpm]: 1544.0</br>Torque [Nm]: 39.7</br>TWF: 0.0</br>HDF: 0.0</br>PWF: 0.0</br>OSF: 0.0</br>RNF: 0.0</br>_original_yhat_: 0.003318951211417192</br>"
          ],
          [
           "</br>id: 4176</br>prediction: 0.001</br>Tool wear [min]: 108.78999999999999</br></br>Type: M</br>Air temperature [K]: 302.3</br>Process temperature [K]: 310.7</br>Rotational speed [rpm]: 1544.0</br>Torque [Nm]: 39.7</br>TWF: 0.0</br>HDF: 0.0</br>PWF: 0.0</br>OSF: 0.0</br>RNF: 0.0</br>_original_yhat_: 0.003318951211417192</br>"
          ],
          [
           "</br>id: 4176</br>prediction: 0.001</br>Tool wear [min]: 111.32</br></br>Type: M</br>Air temperature [K]: 302.3</br>Process temperature [K]: 310.7</br>Rotational speed [rpm]: 1544.0</br>Torque [Nm]: 39.7</br>TWF: 0.0</br>HDF: 0.0</br>PWF: 0.0</br>OSF: 0.0</br>RNF: 0.0</br>_original_yhat_: 0.003318951211417192</br>"
          ],
          [
           "</br>id: 4176</br>prediction: 0.001</br>Tool wear [min]: 113.85</br></br>Type: M</br>Air temperature [K]: 302.3</br>Process temperature [K]: 310.7</br>Rotational speed [rpm]: 1544.0</br>Torque [Nm]: 39.7</br>TWF: 0.0</br>HDF: 0.0</br>PWF: 0.0</br>OSF: 0.0</br>RNF: 0.0</br>_original_yhat_: 0.003318951211417192</br>"
          ],
          [
           "</br>id: 4176</br>prediction: 0.001</br>Tool wear [min]: 116.38</br></br>Type: M</br>Air temperature [K]: 302.3</br>Process temperature [K]: 310.7</br>Rotational speed [rpm]: 1544.0</br>Torque [Nm]: 39.7</br>TWF: 0.0</br>HDF: 0.0</br>PWF: 0.0</br>OSF: 0.0</br>RNF: 0.0</br>_original_yhat_: 0.003318951211417192</br>"
          ],
          [
           "</br>id: 4176</br>prediction: 0.001</br>Tool wear [min]: 118.91</br></br>Type: M</br>Air temperature [K]: 302.3</br>Process temperature [K]: 310.7</br>Rotational speed [rpm]: 1544.0</br>Torque [Nm]: 39.7</br>TWF: 0.0</br>HDF: 0.0</br>PWF: 0.0</br>OSF: 0.0</br>RNF: 0.0</br>_original_yhat_: 0.003318951211417192</br>"
          ],
          [
           "</br>id: 4176</br>prediction: 0.001</br>Tool wear [min]: 121.44</br></br>Type: M</br>Air temperature [K]: 302.3</br>Process temperature [K]: 310.7</br>Rotational speed [rpm]: 1544.0</br>Torque [Nm]: 39.7</br>TWF: 0.0</br>HDF: 0.0</br>PWF: 0.0</br>OSF: 0.0</br>RNF: 0.0</br>_original_yhat_: 0.003318951211417192</br>"
          ],
          [
           "</br>id: 4176</br>prediction: 0.001</br>Tool wear [min]: 123.96999999999998</br></br>Type: M</br>Air temperature [K]: 302.3</br>Process temperature [K]: 310.7</br>Rotational speed [rpm]: 1544.0</br>Torque [Nm]: 39.7</br>TWF: 0.0</br>HDF: 0.0</br>PWF: 0.0</br>OSF: 0.0</br>RNF: 0.0</br>_original_yhat_: 0.003318951211417192</br>"
          ],
          [
           "</br>id: 4176</br>prediction: 0.001</br>Tool wear [min]: 126.49999999999999</br></br>Type: M</br>Air temperature [K]: 302.3</br>Process temperature [K]: 310.7</br>Rotational speed [rpm]: 1544.0</br>Torque [Nm]: 39.7</br>TWF: 0.0</br>HDF: 0.0</br>PWF: 0.0</br>OSF: 0.0</br>RNF: 0.0</br>_original_yhat_: 0.003318951211417192</br>"
          ],
          [
           "</br>id: 4176</br>prediction: 0.001</br>Tool wear [min]: 129.03</br></br>Type: M</br>Air temperature [K]: 302.3</br>Process temperature [K]: 310.7</br>Rotational speed [rpm]: 1544.0</br>Torque [Nm]: 39.7</br>TWF: 0.0</br>HDF: 0.0</br>PWF: 0.0</br>OSF: 0.0</br>RNF: 0.0</br>_original_yhat_: 0.003318951211417192</br>"
          ],
          [
           "</br>id: 4176</br>prediction: 0.003</br>Tool wear [min]: 131.56</br></br>Type: M</br>Air temperature [K]: 302.3</br>Process temperature [K]: 310.7</br>Rotational speed [rpm]: 1544.0</br>Torque [Nm]: 39.7</br>TWF: 0.0</br>HDF: 0.0</br>PWF: 0.0</br>OSF: 0.0</br>RNF: 0.0</br>_original_yhat_: 0.003318951211417192</br>"
          ],
          [
           "</br>id: 4176</br>prediction: 0.003</br>Tool wear [min]: 134.09</br></br>Type: M</br>Air temperature [K]: 302.3</br>Process temperature [K]: 310.7</br>Rotational speed [rpm]: 1544.0</br>Torque [Nm]: 39.7</br>TWF: 0.0</br>HDF: 0.0</br>PWF: 0.0</br>OSF: 0.0</br>RNF: 0.0</br>_original_yhat_: 0.003318951211417192</br>"
          ],
          [
           "</br>id: 4176</br>prediction: 0.003</br>Tool wear [min]: 136.61999999999998</br></br>Type: M</br>Air temperature [K]: 302.3</br>Process temperature [K]: 310.7</br>Rotational speed [rpm]: 1544.0</br>Torque [Nm]: 39.7</br>TWF: 0.0</br>HDF: 0.0</br>PWF: 0.0</br>OSF: 0.0</br>RNF: 0.0</br>_original_yhat_: 0.003318951211417192</br>"
          ],
          [
           "</br>id: 4176</br>prediction: 0.003</br>Tool wear [min]: 139.14999999999998</br></br>Type: M</br>Air temperature [K]: 302.3</br>Process temperature [K]: 310.7</br>Rotational speed [rpm]: 1544.0</br>Torque [Nm]: 39.7</br>TWF: 0.0</br>HDF: 0.0</br>PWF: 0.0</br>OSF: 0.0</br>RNF: 0.0</br>_original_yhat_: 0.003318951211417192</br>"
          ],
          [
           "</br>id: 4176</br>prediction: 0.003</br>Tool wear [min]: 141.0</br></br>Type: M</br>Air temperature [K]: 302.3</br>Process temperature [K]: 310.7</br>Rotational speed [rpm]: 1544.0</br>Torque [Nm]: 39.7</br>TWF: 0.0</br>HDF: 0.0</br>PWF: 0.0</br>OSF: 0.0</br>RNF: 0.0</br>_original_yhat_: 0.003318951211417192</br>"
          ],
          [
           "</br>id: 4176</br>prediction: 0.003</br>Tool wear [min]: 141.67999999999998</br></br>Type: M</br>Air temperature [K]: 302.3</br>Process temperature [K]: 310.7</br>Rotational speed [rpm]: 1544.0</br>Torque [Nm]: 39.7</br>TWF: 0.0</br>HDF: 0.0</br>PWF: 0.0</br>OSF: 0.0</br>RNF: 0.0</br>_original_yhat_: 0.003318951211417192</br>"
          ],
          [
           "</br>id: 4176</br>prediction: 0.003</br>Tool wear [min]: 144.20999999999998</br></br>Type: M</br>Air temperature [K]: 302.3</br>Process temperature [K]: 310.7</br>Rotational speed [rpm]: 1544.0</br>Torque [Nm]: 39.7</br>TWF: 0.0</br>HDF: 0.0</br>PWF: 0.0</br>OSF: 0.0</br>RNF: 0.0</br>_original_yhat_: 0.003318951211417192</br>"
          ],
          [
           "</br>id: 4176</br>prediction: 0.003</br>Tool wear [min]: 146.73999999999998</br></br>Type: M</br>Air temperature [K]: 302.3</br>Process temperature [K]: 310.7</br>Rotational speed [rpm]: 1544.0</br>Torque [Nm]: 39.7</br>TWF: 0.0</br>HDF: 0.0</br>PWF: 0.0</br>OSF: 0.0</br>RNF: 0.0</br>_original_yhat_: 0.003318951211417192</br>"
          ],
          [
           "</br>id: 4176</br>prediction: 0.003</br>Tool wear [min]: 149.26999999999998</br></br>Type: M</br>Air temperature [K]: 302.3</br>Process temperature [K]: 310.7</br>Rotational speed [rpm]: 1544.0</br>Torque [Nm]: 39.7</br>TWF: 0.0</br>HDF: 0.0</br>PWF: 0.0</br>OSF: 0.0</br>RNF: 0.0</br>_original_yhat_: 0.003318951211417192</br>"
          ],
          [
           "</br>id: 4176</br>prediction: 0.003</br>Tool wear [min]: 151.79999999999998</br></br>Type: M</br>Air temperature [K]: 302.3</br>Process temperature [K]: 310.7</br>Rotational speed [rpm]: 1544.0</br>Torque [Nm]: 39.7</br>TWF: 0.0</br>HDF: 0.0</br>PWF: 0.0</br>OSF: 0.0</br>RNF: 0.0</br>_original_yhat_: 0.003318951211417192</br>"
          ],
          [
           "</br>id: 4176</br>prediction: 0.003</br>Tool wear [min]: 154.32999999999998</br></br>Type: M</br>Air temperature [K]: 302.3</br>Process temperature [K]: 310.7</br>Rotational speed [rpm]: 1544.0</br>Torque [Nm]: 39.7</br>TWF: 0.0</br>HDF: 0.0</br>PWF: 0.0</br>OSF: 0.0</br>RNF: 0.0</br>_original_yhat_: 0.003318951211417192</br>"
          ],
          [
           "</br>id: 4176</br>prediction: 0.003</br>Tool wear [min]: 156.85999999999999</br></br>Type: M</br>Air temperature [K]: 302.3</br>Process temperature [K]: 310.7</br>Rotational speed [rpm]: 1544.0</br>Torque [Nm]: 39.7</br>TWF: 0.0</br>HDF: 0.0</br>PWF: 0.0</br>OSF: 0.0</br>RNF: 0.0</br>_original_yhat_: 0.003318951211417192</br>"
          ],
          [
           "</br>id: 4176</br>prediction: 0.003</br>Tool wear [min]: 159.39</br></br>Type: M</br>Air temperature [K]: 302.3</br>Process temperature [K]: 310.7</br>Rotational speed [rpm]: 1544.0</br>Torque [Nm]: 39.7</br>TWF: 0.0</br>HDF: 0.0</br>PWF: 0.0</br>OSF: 0.0</br>RNF: 0.0</br>_original_yhat_: 0.003318951211417192</br>"
          ],
          [
           "</br>id: 4176</br>prediction: 0.003</br>Tool wear [min]: 161.92</br></br>Type: M</br>Air temperature [K]: 302.3</br>Process temperature [K]: 310.7</br>Rotational speed [rpm]: 1544.0</br>Torque [Nm]: 39.7</br>TWF: 0.0</br>HDF: 0.0</br>PWF: 0.0</br>OSF: 0.0</br>RNF: 0.0</br>_original_yhat_: 0.003318951211417192</br>"
          ],
          [
           "</br>id: 4176</br>prediction: 0.003</br>Tool wear [min]: 164.45</br></br>Type: M</br>Air temperature [K]: 302.3</br>Process temperature [K]: 310.7</br>Rotational speed [rpm]: 1544.0</br>Torque [Nm]: 39.7</br>TWF: 0.0</br>HDF: 0.0</br>PWF: 0.0</br>OSF: 0.0</br>RNF: 0.0</br>_original_yhat_: 0.003318951211417192</br>"
          ],
          [
           "</br>id: 4176</br>prediction: 0.003</br>Tool wear [min]: 166.98</br></br>Type: M</br>Air temperature [K]: 302.3</br>Process temperature [K]: 310.7</br>Rotational speed [rpm]: 1544.0</br>Torque [Nm]: 39.7</br>TWF: 0.0</br>HDF: 0.0</br>PWF: 0.0</br>OSF: 0.0</br>RNF: 0.0</br>_original_yhat_: 0.003318951211417192</br>"
          ],
          [
           "</br>id: 4176</br>prediction: 0.003</br>Tool wear [min]: 169.51</br></br>Type: M</br>Air temperature [K]: 302.3</br>Process temperature [K]: 310.7</br>Rotational speed [rpm]: 1544.0</br>Torque [Nm]: 39.7</br>TWF: 0.0</br>HDF: 0.0</br>PWF: 0.0</br>OSF: 0.0</br>RNF: 0.0</br>_original_yhat_: 0.003318951211417192</br>"
          ],
          [
           "</br>id: 4176</br>prediction: 0.003</br>Tool wear [min]: 172.04</br></br>Type: M</br>Air temperature [K]: 302.3</br>Process temperature [K]: 310.7</br>Rotational speed [rpm]: 1544.0</br>Torque [Nm]: 39.7</br>TWF: 0.0</br>HDF: 0.0</br>PWF: 0.0</br>OSF: 0.0</br>RNF: 0.0</br>_original_yhat_: 0.003318951211417192</br>"
          ],
          [
           "</br>id: 4176</br>prediction: 0.003</br>Tool wear [min]: 174.57</br></br>Type: M</br>Air temperature [K]: 302.3</br>Process temperature [K]: 310.7</br>Rotational speed [rpm]: 1544.0</br>Torque [Nm]: 39.7</br>TWF: 0.0</br>HDF: 0.0</br>PWF: 0.0</br>OSF: 0.0</br>RNF: 0.0</br>_original_yhat_: 0.003318951211417192</br>"
          ],
          [
           "</br>id: 4176</br>prediction: 0.003</br>Tool wear [min]: 177.1</br></br>Type: M</br>Air temperature [K]: 302.3</br>Process temperature [K]: 310.7</br>Rotational speed [rpm]: 1544.0</br>Torque [Nm]: 39.7</br>TWF: 0.0</br>HDF: 0.0</br>PWF: 0.0</br>OSF: 0.0</br>RNF: 0.0</br>_original_yhat_: 0.003318951211417192</br>"
          ],
          [
           "</br>id: 4176</br>prediction: 0.003</br>Tool wear [min]: 179.63</br></br>Type: M</br>Air temperature [K]: 302.3</br>Process temperature [K]: 310.7</br>Rotational speed [rpm]: 1544.0</br>Torque [Nm]: 39.7</br>TWF: 0.0</br>HDF: 0.0</br>PWF: 0.0</br>OSF: 0.0</br>RNF: 0.0</br>_original_yhat_: 0.003318951211417192</br>"
          ],
          [
           "</br>id: 4176</br>prediction: 0.003</br>Tool wear [min]: 182.16</br></br>Type: M</br>Air temperature [K]: 302.3</br>Process temperature [K]: 310.7</br>Rotational speed [rpm]: 1544.0</br>Torque [Nm]: 39.7</br>TWF: 0.0</br>HDF: 0.0</br>PWF: 0.0</br>OSF: 0.0</br>RNF: 0.0</br>_original_yhat_: 0.003318951211417192</br>"
          ],
          [
           "</br>id: 4176</br>prediction: 0.003</br>Tool wear [min]: 184.69</br></br>Type: M</br>Air temperature [K]: 302.3</br>Process temperature [K]: 310.7</br>Rotational speed [rpm]: 1544.0</br>Torque [Nm]: 39.7</br>TWF: 0.0</br>HDF: 0.0</br>PWF: 0.0</br>OSF: 0.0</br>RNF: 0.0</br>_original_yhat_: 0.003318951211417192</br>"
          ],
          [
           "</br>id: 4176</br>prediction: 0.003</br>Tool wear [min]: 187.22</br></br>Type: M</br>Air temperature [K]: 302.3</br>Process temperature [K]: 310.7</br>Rotational speed [rpm]: 1544.0</br>Torque [Nm]: 39.7</br>TWF: 0.0</br>HDF: 0.0</br>PWF: 0.0</br>OSF: 0.0</br>RNF: 0.0</br>_original_yhat_: 0.003318951211417192</br>"
          ],
          [
           "</br>id: 4176</br>prediction: 0.003</br>Tool wear [min]: 189.74999999999997</br></br>Type: M</br>Air temperature [K]: 302.3</br>Process temperature [K]: 310.7</br>Rotational speed [rpm]: 1544.0</br>Torque [Nm]: 39.7</br>TWF: 0.0</br>HDF: 0.0</br>PWF: 0.0</br>OSF: 0.0</br>RNF: 0.0</br>_original_yhat_: 0.003318951211417192</br>"
          ],
          [
           "</br>id: 4176</br>prediction: 0.003</br>Tool wear [min]: 192.27999999999997</br></br>Type: M</br>Air temperature [K]: 302.3</br>Process temperature [K]: 310.7</br>Rotational speed [rpm]: 1544.0</br>Torque [Nm]: 39.7</br>TWF: 0.0</br>HDF: 0.0</br>PWF: 0.0</br>OSF: 0.0</br>RNF: 0.0</br>_original_yhat_: 0.003318951211417192</br>"
          ],
          [
           "</br>id: 4176</br>prediction: 0.003</br>Tool wear [min]: 194.80999999999997</br></br>Type: M</br>Air temperature [K]: 302.3</br>Process temperature [K]: 310.7</br>Rotational speed [rpm]: 1544.0</br>Torque [Nm]: 39.7</br>TWF: 0.0</br>HDF: 0.0</br>PWF: 0.0</br>OSF: 0.0</br>RNF: 0.0</br>_original_yhat_: 0.003318951211417192</br>"
          ],
          [
           "</br>id: 4176</br>prediction: 0.003</br>Tool wear [min]: 197.33999999999997</br></br>Type: M</br>Air temperature [K]: 302.3</br>Process temperature [K]: 310.7</br>Rotational speed [rpm]: 1544.0</br>Torque [Nm]: 39.7</br>TWF: 0.0</br>HDF: 0.0</br>PWF: 0.0</br>OSF: 0.0</br>RNF: 0.0</br>_original_yhat_: 0.003318951211417192</br>"
          ],
          [
           "</br>id: 4176</br>prediction: 0.003</br>Tool wear [min]: 199.86999999999998</br></br>Type: M</br>Air temperature [K]: 302.3</br>Process temperature [K]: 310.7</br>Rotational speed [rpm]: 1544.0</br>Torque [Nm]: 39.7</br>TWF: 0.0</br>HDF: 0.0</br>PWF: 0.0</br>OSF: 0.0</br>RNF: 0.0</br>_original_yhat_: 0.003318951211417192</br>"
          ],
          [
           "</br>id: 4176</br>prediction: 0.003</br>Tool wear [min]: 202.39999999999998</br></br>Type: M</br>Air temperature [K]: 302.3</br>Process temperature [K]: 310.7</br>Rotational speed [rpm]: 1544.0</br>Torque [Nm]: 39.7</br>TWF: 0.0</br>HDF: 0.0</br>PWF: 0.0</br>OSF: 0.0</br>RNF: 0.0</br>_original_yhat_: 0.003318951211417192</br>"
          ],
          [
           "</br>id: 4176</br>prediction: 0.003</br>Tool wear [min]: 204.92999999999998</br></br>Type: M</br>Air temperature [K]: 302.3</br>Process temperature [K]: 310.7</br>Rotational speed [rpm]: 1544.0</br>Torque [Nm]: 39.7</br>TWF: 0.0</br>HDF: 0.0</br>PWF: 0.0</br>OSF: 0.0</br>RNF: 0.0</br>_original_yhat_: 0.003318951211417192</br>"
          ],
          [
           "</br>id: 4176</br>prediction: 0.003</br>Tool wear [min]: 207.45999999999998</br></br>Type: M</br>Air temperature [K]: 302.3</br>Process temperature [K]: 310.7</br>Rotational speed [rpm]: 1544.0</br>Torque [Nm]: 39.7</br>TWF: 0.0</br>HDF: 0.0</br>PWF: 0.0</br>OSF: 0.0</br>RNF: 0.0</br>_original_yhat_: 0.003318951211417192</br>"
          ],
          [
           "</br>id: 4176</br>prediction: 0.003</br>Tool wear [min]: 209.98999999999998</br></br>Type: M</br>Air temperature [K]: 302.3</br>Process temperature [K]: 310.7</br>Rotational speed [rpm]: 1544.0</br>Torque [Nm]: 39.7</br>TWF: 0.0</br>HDF: 0.0</br>PWF: 0.0</br>OSF: 0.0</br>RNF: 0.0</br>_original_yhat_: 0.003318951211417192</br>"
          ],
          [
           "</br>id: 4176</br>prediction: 0.003</br>Tool wear [min]: 212.51999999999998</br></br>Type: M</br>Air temperature [K]: 302.3</br>Process temperature [K]: 310.7</br>Rotational speed [rpm]: 1544.0</br>Torque [Nm]: 39.7</br>TWF: 0.0</br>HDF: 0.0</br>PWF: 0.0</br>OSF: 0.0</br>RNF: 0.0</br>_original_yhat_: 0.003318951211417192</br>"
          ],
          [
           "</br>id: 4176</br>prediction: 0.003</br>Tool wear [min]: 215.04999999999998</br></br>Type: M</br>Air temperature [K]: 302.3</br>Process temperature [K]: 310.7</br>Rotational speed [rpm]: 1544.0</br>Torque [Nm]: 39.7</br>TWF: 0.0</br>HDF: 0.0</br>PWF: 0.0</br>OSF: 0.0</br>RNF: 0.0</br>_original_yhat_: 0.003318951211417192</br>"
          ],
          [
           "</br>id: 4176</br>prediction: 0.003</br>Tool wear [min]: 217.57999999999998</br></br>Type: M</br>Air temperature [K]: 302.3</br>Process temperature [K]: 310.7</br>Rotational speed [rpm]: 1544.0</br>Torque [Nm]: 39.7</br>TWF: 0.0</br>HDF: 0.0</br>PWF: 0.0</br>OSF: 0.0</br>RNF: 0.0</br>_original_yhat_: 0.003318951211417192</br>"
          ],
          [
           "</br>id: 4176</br>prediction: 0.003</br>Tool wear [min]: 220.10999999999999</br></br>Type: M</br>Air temperature [K]: 302.3</br>Process temperature [K]: 310.7</br>Rotational speed [rpm]: 1544.0</br>Torque [Nm]: 39.7</br>TWF: 0.0</br>HDF: 0.0</br>PWF: 0.0</br>OSF: 0.0</br>RNF: 0.0</br>_original_yhat_: 0.003318951211417192</br>"
          ],
          [
           "</br>id: 4176</br>prediction: 0.003</br>Tool wear [min]: 222.64</br></br>Type: M</br>Air temperature [K]: 302.3</br>Process temperature [K]: 310.7</br>Rotational speed [rpm]: 1544.0</br>Torque [Nm]: 39.7</br>TWF: 0.0</br>HDF: 0.0</br>PWF: 0.0</br>OSF: 0.0</br>RNF: 0.0</br>_original_yhat_: 0.003318951211417192</br>"
          ],
          [
           "</br>id: 4176</br>prediction: 0.003</br>Tool wear [min]: 225.17</br></br>Type: M</br>Air temperature [K]: 302.3</br>Process temperature [K]: 310.7</br>Rotational speed [rpm]: 1544.0</br>Torque [Nm]: 39.7</br>TWF: 0.0</br>HDF: 0.0</br>PWF: 0.0</br>OSF: 0.0</br>RNF: 0.0</br>_original_yhat_: 0.003318951211417192</br>"
          ],
          [
           "</br>id: 4176</br>prediction: 0.003</br>Tool wear [min]: 227.7</br></br>Type: M</br>Air temperature [K]: 302.3</br>Process temperature [K]: 310.7</br>Rotational speed [rpm]: 1544.0</br>Torque [Nm]: 39.7</br>TWF: 0.0</br>HDF: 0.0</br>PWF: 0.0</br>OSF: 0.0</br>RNF: 0.0</br>_original_yhat_: 0.003318951211417192</br>"
          ],
          [
           "</br>id: 4176</br>prediction: 0.003</br>Tool wear [min]: 230.23</br></br>Type: M</br>Air temperature [K]: 302.3</br>Process temperature [K]: 310.7</br>Rotational speed [rpm]: 1544.0</br>Torque [Nm]: 39.7</br>TWF: 0.0</br>HDF: 0.0</br>PWF: 0.0</br>OSF: 0.0</br>RNF: 0.0</br>_original_yhat_: 0.003318951211417192</br>"
          ],
          [
           "</br>id: 4176</br>prediction: 0.003</br>Tool wear [min]: 232.76</br></br>Type: M</br>Air temperature [K]: 302.3</br>Process temperature [K]: 310.7</br>Rotational speed [rpm]: 1544.0</br>Torque [Nm]: 39.7</br>TWF: 0.0</br>HDF: 0.0</br>PWF: 0.0</br>OSF: 0.0</br>RNF: 0.0</br>_original_yhat_: 0.003318951211417192</br>"
          ],
          [
           "</br>id: 4176</br>prediction: 0.003</br>Tool wear [min]: 235.29</br></br>Type: M</br>Air temperature [K]: 302.3</br>Process temperature [K]: 310.7</br>Rotational speed [rpm]: 1544.0</br>Torque [Nm]: 39.7</br>TWF: 0.0</br>HDF: 0.0</br>PWF: 0.0</br>OSF: 0.0</br>RNF: 0.0</br>_original_yhat_: 0.003318951211417192</br>"
          ],
          [
           "</br>id: 4176</br>prediction: 0.003</br>Tool wear [min]: 237.82</br></br>Type: M</br>Air temperature [K]: 302.3</br>Process temperature [K]: 310.7</br>Rotational speed [rpm]: 1544.0</br>Torque [Nm]: 39.7</br>TWF: 0.0</br>HDF: 0.0</br>PWF: 0.0</br>OSF: 0.0</br>RNF: 0.0</br>_original_yhat_: 0.003318951211417192</br>"
          ],
          [
           "</br>id: 4176</br>prediction: 0.003</br>Tool wear [min]: 240.35</br></br>Type: M</br>Air temperature [K]: 302.3</br>Process temperature [K]: 310.7</br>Rotational speed [rpm]: 1544.0</br>Torque [Nm]: 39.7</br>TWF: 0.0</br>HDF: 0.0</br>PWF: 0.0</br>OSF: 0.0</br>RNF: 0.0</br>_original_yhat_: 0.003318951211417192</br>"
          ],
          [
           "</br>id: 4176</br>prediction: 0.003</br>Tool wear [min]: 242.88</br></br>Type: M</br>Air temperature [K]: 302.3</br>Process temperature [K]: 310.7</br>Rotational speed [rpm]: 1544.0</br>Torque [Nm]: 39.7</br>TWF: 0.0</br>HDF: 0.0</br>PWF: 0.0</br>OSF: 0.0</br>RNF: 0.0</br>_original_yhat_: 0.003318951211417192</br>"
          ],
          [
           "</br>id: 4176</br>prediction: 0.003</br>Tool wear [min]: 245.40999999999997</br></br>Type: M</br>Air temperature [K]: 302.3</br>Process temperature [K]: 310.7</br>Rotational speed [rpm]: 1544.0</br>Torque [Nm]: 39.7</br>TWF: 0.0</br>HDF: 0.0</br>PWF: 0.0</br>OSF: 0.0</br>RNF: 0.0</br>_original_yhat_: 0.003318951211417192</br>"
          ],
          [
           "</br>id: 4176</br>prediction: 0.003</br>Tool wear [min]: 247.93999999999997</br></br>Type: M</br>Air temperature [K]: 302.3</br>Process temperature [K]: 310.7</br>Rotational speed [rpm]: 1544.0</br>Torque [Nm]: 39.7</br>TWF: 0.0</br>HDF: 0.0</br>PWF: 0.0</br>OSF: 0.0</br>RNF: 0.0</br>_original_yhat_: 0.003318951211417192</br>"
          ],
          [
           "</br>id: 4176</br>prediction: 0.003</br>Tool wear [min]: 250.46999999999997</br></br>Type: M</br>Air temperature [K]: 302.3</br>Process temperature [K]: 310.7</br>Rotational speed [rpm]: 1544.0</br>Torque [Nm]: 39.7</br>TWF: 0.0</br>HDF: 0.0</br>PWF: 0.0</br>OSF: 0.0</br>RNF: 0.0</br>_original_yhat_: 0.003318951211417192</br>"
          ],
          [
           "</br>id: 4176</br>prediction: 0.003</br>Tool wear [min]: 253.0</br></br>Type: M</br>Air temperature [K]: 302.3</br>Process temperature [K]: 310.7</br>Rotational speed [rpm]: 1544.0</br>Torque [Nm]: 39.7</br>TWF: 0.0</br>HDF: 0.0</br>PWF: 0.0</br>OSF: 0.0</br>RNF: 0.0</br>_original_yhat_: 0.003318951211417192</br>"
          ]
         ],
         "hovertemplate": "%{customdata[0]}<extra></extra>",
         "legendgroup": "testing",
         "line": {
          "color": "#46bac2",
          "dash": "solid",
          "width": 2
         },
         "marker": {
          "symbol": "circle"
         },
         "mode": "lines",
         "name": "testing",
         "opacity": 1,
         "showlegend": false,
         "type": "scattergl",
         "x": [
          0,
          2.53,
          5.06,
          7.59,
          10.12,
          12.649999999999999,
          15.18,
          17.709999999999997,
          20.24,
          22.77,
          25.299999999999997,
          27.83,
          30.36,
          32.89,
          35.419999999999995,
          37.949999999999996,
          40.48,
          43.01,
          45.54,
          48.06999999999999,
          50.599999999999994,
          53.129999999999995,
          55.66,
          58.19,
          60.72,
          63.24999999999999,
          65.78,
          68.30999999999999,
          70.83999999999999,
          73.36999999999999,
          75.89999999999999,
          78.42999999999999,
          80.96,
          83.49,
          86.02,
          88.55,
          91.08,
          93.61,
          96.13999999999999,
          98.66999999999999,
          101.19999999999999,
          103.72999999999999,
          106.25999999999999,
          108.78999999999999,
          111.32,
          113.85,
          116.38,
          118.91,
          121.44,
          123.96999999999998,
          126.49999999999999,
          129.03,
          131.56,
          134.09,
          136.61999999999998,
          139.14999999999998,
          141,
          141.67999999999998,
          144.20999999999998,
          146.73999999999998,
          149.26999999999998,
          151.79999999999998,
          154.32999999999998,
          156.85999999999999,
          159.39,
          161.92,
          164.45,
          166.98,
          169.51,
          172.04,
          174.57,
          177.1,
          179.63,
          182.16,
          184.69,
          187.22,
          189.74999999999997,
          192.27999999999997,
          194.80999999999997,
          197.33999999999997,
          199.86999999999998,
          202.39999999999998,
          204.92999999999998,
          207.45999999999998,
          209.98999999999998,
          212.51999999999998,
          215.04999999999998,
          217.57999999999998,
          220.10999999999999,
          222.64,
          225.17,
          227.7,
          230.23,
          232.76,
          235.29,
          237.82,
          240.35,
          242.88,
          245.40999999999997,
          247.93999999999997,
          250.46999999999997,
          253
         ],
         "xaxis": "x5",
         "y": [
          0.000859106529209622,
          0.000859106529209622,
          0.000859106529209622,
          0.000859106529209622,
          0.000859106529209622,
          0.000859106529209622,
          0.000859106529209622,
          0.000859106529209622,
          0.000859106529209622,
          0.000859106529209622,
          0.000859106529209622,
          0.000859106529209622,
          0.000859106529209622,
          0.000859106529209622,
          0.000859106529209622,
          0.000859106529209622,
          0.000859106529209622,
          0.000859106529209622,
          0.000859106529209622,
          0.000859106529209622,
          0.000859106529209622,
          0.000859106529209622,
          0.000859106529209622,
          0.000859106529209622,
          0.000859106529209622,
          0.000859106529209622,
          0.000859106529209622,
          0.000859106529209622,
          0.000859106529209622,
          0.000859106529209622,
          0.000859106529209622,
          0.000859106529209622,
          0.000859106529209622,
          0.000859106529209622,
          0.000859106529209622,
          0.000859106529209622,
          0.000859106529209622,
          0.000859106529209622,
          0.000859106529209622,
          0.000859106529209622,
          0.000859106529209622,
          0.000859106529209622,
          0.000859106529209622,
          0.000859106529209622,
          0.000859106529209622,
          0.000859106529209622,
          0.000859106529209622,
          0.000859106529209622,
          0.000859106529209622,
          0.000859106529209622,
          0.000859106529209622,
          0.000859106529209622,
          0.003318951211417192,
          0.003318951211417192,
          0.003318951211417192,
          0.003318951211417192,
          0.003318951211417192,
          0.003318951211417192,
          0.003318951211417192,
          0.003318951211417192,
          0.003318951211417192,
          0.003318951211417192,
          0.003318951211417192,
          0.003318951211417192,
          0.003318951211417192,
          0.003318951211417192,
          0.003318951211417192,
          0.003318951211417192,
          0.003318951211417192,
          0.003318951211417192,
          0.003318951211417192,
          0.003318951211417192,
          0.003318951211417192,
          0.003318951211417192,
          0.003318951211417192,
          0.003318951211417192,
          0.003318951211417192,
          0.003318951211417192,
          0.003318951211417192,
          0.003318951211417192,
          0.003318951211417192,
          0.003318951211417192,
          0.003318951211417192,
          0.003318951211417192,
          0.003318951211417192,
          0.003318951211417192,
          0.003318951211417192,
          0.003318951211417192,
          0.003318951211417192,
          0.003318951211417192,
          0.003318951211417192,
          0.003318951211417192,
          0.003318951211417192,
          0.003318951211417192,
          0.003318951211417192,
          0.003318951211417192,
          0.003318951211417192,
          0.003318951211417192,
          0.003318951211417192,
          0.003318951211417192,
          0.003318951211417192,
          0.003318951211417192
         ],
         "yaxis": "y5"
        },
        {
         "customdata": [
          [
           "</br>id: 4176</br>prediction: 0.003</br>TWF: 0.0</br></br>Type: M</br>Air temperature [K]: 302.3</br>Process temperature [K]: 310.7</br>Rotational speed [rpm]: 1544.0</br>Torque [Nm]: 39.7</br>Tool wear [min]: 141.0</br>HDF: 0.0</br>PWF: 0.0</br>OSF: 0.0</br>RNF: 0.0</br>_original_yhat_: 0.003318951211417192</br>"
          ],
          [
           "</br>id: 4176</br>prediction: 0.003</br>TWF: 0.01</br></br>Type: M</br>Air temperature [K]: 302.3</br>Process temperature [K]: 310.7</br>Rotational speed [rpm]: 1544.0</br>Torque [Nm]: 39.7</br>Tool wear [min]: 141.0</br>HDF: 0.0</br>PWF: 0.0</br>OSF: 0.0</br>RNF: 0.0</br>_original_yhat_: 0.003318951211417192</br>"
          ],
          [
           "</br>id: 4176</br>prediction: 0.003</br>TWF: 0.02</br></br>Type: M</br>Air temperature [K]: 302.3</br>Process temperature [K]: 310.7</br>Rotational speed [rpm]: 1544.0</br>Torque [Nm]: 39.7</br>Tool wear [min]: 141.0</br>HDF: 0.0</br>PWF: 0.0</br>OSF: 0.0</br>RNF: 0.0</br>_original_yhat_: 0.003318951211417192</br>"
          ],
          [
           "</br>id: 4176</br>prediction: 0.003</br>TWF: 0.03</br></br>Type: M</br>Air temperature [K]: 302.3</br>Process temperature [K]: 310.7</br>Rotational speed [rpm]: 1544.0</br>Torque [Nm]: 39.7</br>Tool wear [min]: 141.0</br>HDF: 0.0</br>PWF: 0.0</br>OSF: 0.0</br>RNF: 0.0</br>_original_yhat_: 0.003318951211417192</br>"
          ],
          [
           "</br>id: 4176</br>prediction: 0.003</br>TWF: 0.04</br></br>Type: M</br>Air temperature [K]: 302.3</br>Process temperature [K]: 310.7</br>Rotational speed [rpm]: 1544.0</br>Torque [Nm]: 39.7</br>Tool wear [min]: 141.0</br>HDF: 0.0</br>PWF: 0.0</br>OSF: 0.0</br>RNF: 0.0</br>_original_yhat_: 0.003318951211417192</br>"
          ],
          [
           "</br>id: 4176</br>prediction: 0.003</br>TWF: 0.05</br></br>Type: M</br>Air temperature [K]: 302.3</br>Process temperature [K]: 310.7</br>Rotational speed [rpm]: 1544.0</br>Torque [Nm]: 39.7</br>Tool wear [min]: 141.0</br>HDF: 0.0</br>PWF: 0.0</br>OSF: 0.0</br>RNF: 0.0</br>_original_yhat_: 0.003318951211417192</br>"
          ],
          [
           "</br>id: 4176</br>prediction: 0.003</br>TWF: 0.06</br></br>Type: M</br>Air temperature [K]: 302.3</br>Process temperature [K]: 310.7</br>Rotational speed [rpm]: 1544.0</br>Torque [Nm]: 39.7</br>Tool wear [min]: 141.0</br>HDF: 0.0</br>PWF: 0.0</br>OSF: 0.0</br>RNF: 0.0</br>_original_yhat_: 0.003318951211417192</br>"
          ],
          [
           "</br>id: 4176</br>prediction: 0.003</br>TWF: 0.07</br></br>Type: M</br>Air temperature [K]: 302.3</br>Process temperature [K]: 310.7</br>Rotational speed [rpm]: 1544.0</br>Torque [Nm]: 39.7</br>Tool wear [min]: 141.0</br>HDF: 0.0</br>PWF: 0.0</br>OSF: 0.0</br>RNF: 0.0</br>_original_yhat_: 0.003318951211417192</br>"
          ],
          [
           "</br>id: 4176</br>prediction: 0.003</br>TWF: 0.08</br></br>Type: M</br>Air temperature [K]: 302.3</br>Process temperature [K]: 310.7</br>Rotational speed [rpm]: 1544.0</br>Torque [Nm]: 39.7</br>Tool wear [min]: 141.0</br>HDF: 0.0</br>PWF: 0.0</br>OSF: 0.0</br>RNF: 0.0</br>_original_yhat_: 0.003318951211417192</br>"
          ],
          [
           "</br>id: 4176</br>prediction: 0.003</br>TWF: 0.09</br></br>Type: M</br>Air temperature [K]: 302.3</br>Process temperature [K]: 310.7</br>Rotational speed [rpm]: 1544.0</br>Torque [Nm]: 39.7</br>Tool wear [min]: 141.0</br>HDF: 0.0</br>PWF: 0.0</br>OSF: 0.0</br>RNF: 0.0</br>_original_yhat_: 0.003318951211417192</br>"
          ],
          [
           "</br>id: 4176</br>prediction: 0.003</br>TWF: 0.1</br></br>Type: M</br>Air temperature [K]: 302.3</br>Process temperature [K]: 310.7</br>Rotational speed [rpm]: 1544.0</br>Torque [Nm]: 39.7</br>Tool wear [min]: 141.0</br>HDF: 0.0</br>PWF: 0.0</br>OSF: 0.0</br>RNF: 0.0</br>_original_yhat_: 0.003318951211417192</br>"
          ],
          [
           "</br>id: 4176</br>prediction: 0.003</br>TWF: 0.11</br></br>Type: M</br>Air temperature [K]: 302.3</br>Process temperature [K]: 310.7</br>Rotational speed [rpm]: 1544.0</br>Torque [Nm]: 39.7</br>Tool wear [min]: 141.0</br>HDF: 0.0</br>PWF: 0.0</br>OSF: 0.0</br>RNF: 0.0</br>_original_yhat_: 0.003318951211417192</br>"
          ],
          [
           "</br>id: 4176</br>prediction: 0.003</br>TWF: 0.12</br></br>Type: M</br>Air temperature [K]: 302.3</br>Process temperature [K]: 310.7</br>Rotational speed [rpm]: 1544.0</br>Torque [Nm]: 39.7</br>Tool wear [min]: 141.0</br>HDF: 0.0</br>PWF: 0.0</br>OSF: 0.0</br>RNF: 0.0</br>_original_yhat_: 0.003318951211417192</br>"
          ],
          [
           "</br>id: 4176</br>prediction: 0.003</br>TWF: 0.13</br></br>Type: M</br>Air temperature [K]: 302.3</br>Process temperature [K]: 310.7</br>Rotational speed [rpm]: 1544.0</br>Torque [Nm]: 39.7</br>Tool wear [min]: 141.0</br>HDF: 0.0</br>PWF: 0.0</br>OSF: 0.0</br>RNF: 0.0</br>_original_yhat_: 0.003318951211417192</br>"
          ],
          [
           "</br>id: 4176</br>prediction: 0.003</br>TWF: 0.14</br></br>Type: M</br>Air temperature [K]: 302.3</br>Process temperature [K]: 310.7</br>Rotational speed [rpm]: 1544.0</br>Torque [Nm]: 39.7</br>Tool wear [min]: 141.0</br>HDF: 0.0</br>PWF: 0.0</br>OSF: 0.0</br>RNF: 0.0</br>_original_yhat_: 0.003318951211417192</br>"
          ],
          [
           "</br>id: 4176</br>prediction: 0.003</br>TWF: 0.15</br></br>Type: M</br>Air temperature [K]: 302.3</br>Process temperature [K]: 310.7</br>Rotational speed [rpm]: 1544.0</br>Torque [Nm]: 39.7</br>Tool wear [min]: 141.0</br>HDF: 0.0</br>PWF: 0.0</br>OSF: 0.0</br>RNF: 0.0</br>_original_yhat_: 0.003318951211417192</br>"
          ],
          [
           "</br>id: 4176</br>prediction: 0.003</br>TWF: 0.16</br></br>Type: M</br>Air temperature [K]: 302.3</br>Process temperature [K]: 310.7</br>Rotational speed [rpm]: 1544.0</br>Torque [Nm]: 39.7</br>Tool wear [min]: 141.0</br>HDF: 0.0</br>PWF: 0.0</br>OSF: 0.0</br>RNF: 0.0</br>_original_yhat_: 0.003318951211417192</br>"
          ],
          [
           "</br>id: 4176</br>prediction: 0.003</br>TWF: 0.17</br></br>Type: M</br>Air temperature [K]: 302.3</br>Process temperature [K]: 310.7</br>Rotational speed [rpm]: 1544.0</br>Torque [Nm]: 39.7</br>Tool wear [min]: 141.0</br>HDF: 0.0</br>PWF: 0.0</br>OSF: 0.0</br>RNF: 0.0</br>_original_yhat_: 0.003318951211417192</br>"
          ],
          [
           "</br>id: 4176</br>prediction: 0.003</br>TWF: 0.18</br></br>Type: M</br>Air temperature [K]: 302.3</br>Process temperature [K]: 310.7</br>Rotational speed [rpm]: 1544.0</br>Torque [Nm]: 39.7</br>Tool wear [min]: 141.0</br>HDF: 0.0</br>PWF: 0.0</br>OSF: 0.0</br>RNF: 0.0</br>_original_yhat_: 0.003318951211417192</br>"
          ],
          [
           "</br>id: 4176</br>prediction: 0.003</br>TWF: 0.19</br></br>Type: M</br>Air temperature [K]: 302.3</br>Process temperature [K]: 310.7</br>Rotational speed [rpm]: 1544.0</br>Torque [Nm]: 39.7</br>Tool wear [min]: 141.0</br>HDF: 0.0</br>PWF: 0.0</br>OSF: 0.0</br>RNF: 0.0</br>_original_yhat_: 0.003318951211417192</br>"
          ],
          [
           "</br>id: 4176</br>prediction: 0.003</br>TWF: 0.2</br></br>Type: M</br>Air temperature [K]: 302.3</br>Process temperature [K]: 310.7</br>Rotational speed [rpm]: 1544.0</br>Torque [Nm]: 39.7</br>Tool wear [min]: 141.0</br>HDF: 0.0</br>PWF: 0.0</br>OSF: 0.0</br>RNF: 0.0</br>_original_yhat_: 0.003318951211417192</br>"
          ],
          [
           "</br>id: 4176</br>prediction: 0.003</br>TWF: 0.21</br></br>Type: M</br>Air temperature [K]: 302.3</br>Process temperature [K]: 310.7</br>Rotational speed [rpm]: 1544.0</br>Torque [Nm]: 39.7</br>Tool wear [min]: 141.0</br>HDF: 0.0</br>PWF: 0.0</br>OSF: 0.0</br>RNF: 0.0</br>_original_yhat_: 0.003318951211417192</br>"
          ],
          [
           "</br>id: 4176</br>prediction: 0.003</br>TWF: 0.22</br></br>Type: M</br>Air temperature [K]: 302.3</br>Process temperature [K]: 310.7</br>Rotational speed [rpm]: 1544.0</br>Torque [Nm]: 39.7</br>Tool wear [min]: 141.0</br>HDF: 0.0</br>PWF: 0.0</br>OSF: 0.0</br>RNF: 0.0</br>_original_yhat_: 0.003318951211417192</br>"
          ],
          [
           "</br>id: 4176</br>prediction: 0.003</br>TWF: 0.23</br></br>Type: M</br>Air temperature [K]: 302.3</br>Process temperature [K]: 310.7</br>Rotational speed [rpm]: 1544.0</br>Torque [Nm]: 39.7</br>Tool wear [min]: 141.0</br>HDF: 0.0</br>PWF: 0.0</br>OSF: 0.0</br>RNF: 0.0</br>_original_yhat_: 0.003318951211417192</br>"
          ],
          [
           "</br>id: 4176</br>prediction: 0.003</br>TWF: 0.24</br></br>Type: M</br>Air temperature [K]: 302.3</br>Process temperature [K]: 310.7</br>Rotational speed [rpm]: 1544.0</br>Torque [Nm]: 39.7</br>Tool wear [min]: 141.0</br>HDF: 0.0</br>PWF: 0.0</br>OSF: 0.0</br>RNF: 0.0</br>_original_yhat_: 0.003318951211417192</br>"
          ],
          [
           "</br>id: 4176</br>prediction: 0.003</br>TWF: 0.25</br></br>Type: M</br>Air temperature [K]: 302.3</br>Process temperature [K]: 310.7</br>Rotational speed [rpm]: 1544.0</br>Torque [Nm]: 39.7</br>Tool wear [min]: 141.0</br>HDF: 0.0</br>PWF: 0.0</br>OSF: 0.0</br>RNF: 0.0</br>_original_yhat_: 0.003318951211417192</br>"
          ],
          [
           "</br>id: 4176</br>prediction: 0.003</br>TWF: 0.26</br></br>Type: M</br>Air temperature [K]: 302.3</br>Process temperature [K]: 310.7</br>Rotational speed [rpm]: 1544.0</br>Torque [Nm]: 39.7</br>Tool wear [min]: 141.0</br>HDF: 0.0</br>PWF: 0.0</br>OSF: 0.0</br>RNF: 0.0</br>_original_yhat_: 0.003318951211417192</br>"
          ],
          [
           "</br>id: 4176</br>prediction: 0.003</br>TWF: 0.27</br></br>Type: M</br>Air temperature [K]: 302.3</br>Process temperature [K]: 310.7</br>Rotational speed [rpm]: 1544.0</br>Torque [Nm]: 39.7</br>Tool wear [min]: 141.0</br>HDF: 0.0</br>PWF: 0.0</br>OSF: 0.0</br>RNF: 0.0</br>_original_yhat_: 0.003318951211417192</br>"
          ],
          [
           "</br>id: 4176</br>prediction: 0.003</br>TWF: 0.28</br></br>Type: M</br>Air temperature [K]: 302.3</br>Process temperature [K]: 310.7</br>Rotational speed [rpm]: 1544.0</br>Torque [Nm]: 39.7</br>Tool wear [min]: 141.0</br>HDF: 0.0</br>PWF: 0.0</br>OSF: 0.0</br>RNF: 0.0</br>_original_yhat_: 0.003318951211417192</br>"
          ],
          [
           "</br>id: 4176</br>prediction: 0.003</br>TWF: 0.29</br></br>Type: M</br>Air temperature [K]: 302.3</br>Process temperature [K]: 310.7</br>Rotational speed [rpm]: 1544.0</br>Torque [Nm]: 39.7</br>Tool wear [min]: 141.0</br>HDF: 0.0</br>PWF: 0.0</br>OSF: 0.0</br>RNF: 0.0</br>_original_yhat_: 0.003318951211417192</br>"
          ],
          [
           "</br>id: 4176</br>prediction: 0.003</br>TWF: 0.3</br></br>Type: M</br>Air temperature [K]: 302.3</br>Process temperature [K]: 310.7</br>Rotational speed [rpm]: 1544.0</br>Torque [Nm]: 39.7</br>Tool wear [min]: 141.0</br>HDF: 0.0</br>PWF: 0.0</br>OSF: 0.0</br>RNF: 0.0</br>_original_yhat_: 0.003318951211417192</br>"
          ],
          [
           "</br>id: 4176</br>prediction: 0.003</br>TWF: 0.31</br></br>Type: M</br>Air temperature [K]: 302.3</br>Process temperature [K]: 310.7</br>Rotational speed [rpm]: 1544.0</br>Torque [Nm]: 39.7</br>Tool wear [min]: 141.0</br>HDF: 0.0</br>PWF: 0.0</br>OSF: 0.0</br>RNF: 0.0</br>_original_yhat_: 0.003318951211417192</br>"
          ],
          [
           "</br>id: 4176</br>prediction: 0.003</br>TWF: 0.32</br></br>Type: M</br>Air temperature [K]: 302.3</br>Process temperature [K]: 310.7</br>Rotational speed [rpm]: 1544.0</br>Torque [Nm]: 39.7</br>Tool wear [min]: 141.0</br>HDF: 0.0</br>PWF: 0.0</br>OSF: 0.0</br>RNF: 0.0</br>_original_yhat_: 0.003318951211417192</br>"
          ],
          [
           "</br>id: 4176</br>prediction: 0.003</br>TWF: 0.33</br></br>Type: M</br>Air temperature [K]: 302.3</br>Process temperature [K]: 310.7</br>Rotational speed [rpm]: 1544.0</br>Torque [Nm]: 39.7</br>Tool wear [min]: 141.0</br>HDF: 0.0</br>PWF: 0.0</br>OSF: 0.0</br>RNF: 0.0</br>_original_yhat_: 0.003318951211417192</br>"
          ],
          [
           "</br>id: 4176</br>prediction: 0.003</br>TWF: 0.34</br></br>Type: M</br>Air temperature [K]: 302.3</br>Process temperature [K]: 310.7</br>Rotational speed [rpm]: 1544.0</br>Torque [Nm]: 39.7</br>Tool wear [min]: 141.0</br>HDF: 0.0</br>PWF: 0.0</br>OSF: 0.0</br>RNF: 0.0</br>_original_yhat_: 0.003318951211417192</br>"
          ],
          [
           "</br>id: 4176</br>prediction: 0.003</br>TWF: 0.35000000000000003</br></br>Type: M</br>Air temperature [K]: 302.3</br>Process temperature [K]: 310.7</br>Rotational speed [rpm]: 1544.0</br>Torque [Nm]: 39.7</br>Tool wear [min]: 141.0</br>HDF: 0.0</br>PWF: 0.0</br>OSF: 0.0</br>RNF: 0.0</br>_original_yhat_: 0.003318951211417192</br>"
          ],
          [
           "</br>id: 4176</br>prediction: 0.003</br>TWF: 0.36</br></br>Type: M</br>Air temperature [K]: 302.3</br>Process temperature [K]: 310.7</br>Rotational speed [rpm]: 1544.0</br>Torque [Nm]: 39.7</br>Tool wear [min]: 141.0</br>HDF: 0.0</br>PWF: 0.0</br>OSF: 0.0</br>RNF: 0.0</br>_original_yhat_: 0.003318951211417192</br>"
          ],
          [
           "</br>id: 4176</br>prediction: 0.003</br>TWF: 0.37</br></br>Type: M</br>Air temperature [K]: 302.3</br>Process temperature [K]: 310.7</br>Rotational speed [rpm]: 1544.0</br>Torque [Nm]: 39.7</br>Tool wear [min]: 141.0</br>HDF: 0.0</br>PWF: 0.0</br>OSF: 0.0</br>RNF: 0.0</br>_original_yhat_: 0.003318951211417192</br>"
          ],
          [
           "</br>id: 4176</br>prediction: 0.003</br>TWF: 0.38</br></br>Type: M</br>Air temperature [K]: 302.3</br>Process temperature [K]: 310.7</br>Rotational speed [rpm]: 1544.0</br>Torque [Nm]: 39.7</br>Tool wear [min]: 141.0</br>HDF: 0.0</br>PWF: 0.0</br>OSF: 0.0</br>RNF: 0.0</br>_original_yhat_: 0.003318951211417192</br>"
          ],
          [
           "</br>id: 4176</br>prediction: 0.003</br>TWF: 0.39</br></br>Type: M</br>Air temperature [K]: 302.3</br>Process temperature [K]: 310.7</br>Rotational speed [rpm]: 1544.0</br>Torque [Nm]: 39.7</br>Tool wear [min]: 141.0</br>HDF: 0.0</br>PWF: 0.0</br>OSF: 0.0</br>RNF: 0.0</br>_original_yhat_: 0.003318951211417192</br>"
          ],
          [
           "</br>id: 4176</br>prediction: 0.003</br>TWF: 0.4</br></br>Type: M</br>Air temperature [K]: 302.3</br>Process temperature [K]: 310.7</br>Rotational speed [rpm]: 1544.0</br>Torque [Nm]: 39.7</br>Tool wear [min]: 141.0</br>HDF: 0.0</br>PWF: 0.0</br>OSF: 0.0</br>RNF: 0.0</br>_original_yhat_: 0.003318951211417192</br>"
          ],
          [
           "</br>id: 4176</br>prediction: 0.003</br>TWF: 0.41000000000000003</br></br>Type: M</br>Air temperature [K]: 302.3</br>Process temperature [K]: 310.7</br>Rotational speed [rpm]: 1544.0</br>Torque [Nm]: 39.7</br>Tool wear [min]: 141.0</br>HDF: 0.0</br>PWF: 0.0</br>OSF: 0.0</br>RNF: 0.0</br>_original_yhat_: 0.003318951211417192</br>"
          ],
          [
           "</br>id: 4176</br>prediction: 0.003</br>TWF: 0.42</br></br>Type: M</br>Air temperature [K]: 302.3</br>Process temperature [K]: 310.7</br>Rotational speed [rpm]: 1544.0</br>Torque [Nm]: 39.7</br>Tool wear [min]: 141.0</br>HDF: 0.0</br>PWF: 0.0</br>OSF: 0.0</br>RNF: 0.0</br>_original_yhat_: 0.003318951211417192</br>"
          ],
          [
           "</br>id: 4176</br>prediction: 0.003</br>TWF: 0.43</br></br>Type: M</br>Air temperature [K]: 302.3</br>Process temperature [K]: 310.7</br>Rotational speed [rpm]: 1544.0</br>Torque [Nm]: 39.7</br>Tool wear [min]: 141.0</br>HDF: 0.0</br>PWF: 0.0</br>OSF: 0.0</br>RNF: 0.0</br>_original_yhat_: 0.003318951211417192</br>"
          ],
          [
           "</br>id: 4176</br>prediction: 0.003</br>TWF: 0.44</br></br>Type: M</br>Air temperature [K]: 302.3</br>Process temperature [K]: 310.7</br>Rotational speed [rpm]: 1544.0</br>Torque [Nm]: 39.7</br>Tool wear [min]: 141.0</br>HDF: 0.0</br>PWF: 0.0</br>OSF: 0.0</br>RNF: 0.0</br>_original_yhat_: 0.003318951211417192</br>"
          ],
          [
           "</br>id: 4176</br>prediction: 0.003</br>TWF: 0.45</br></br>Type: M</br>Air temperature [K]: 302.3</br>Process temperature [K]: 310.7</br>Rotational speed [rpm]: 1544.0</br>Torque [Nm]: 39.7</br>Tool wear [min]: 141.0</br>HDF: 0.0</br>PWF: 0.0</br>OSF: 0.0</br>RNF: 0.0</br>_original_yhat_: 0.003318951211417192</br>"
          ],
          [
           "</br>id: 4176</br>prediction: 0.003</br>TWF: 0.46</br></br>Type: M</br>Air temperature [K]: 302.3</br>Process temperature [K]: 310.7</br>Rotational speed [rpm]: 1544.0</br>Torque [Nm]: 39.7</br>Tool wear [min]: 141.0</br>HDF: 0.0</br>PWF: 0.0</br>OSF: 0.0</br>RNF: 0.0</br>_original_yhat_: 0.003318951211417192</br>"
          ],
          [
           "</br>id: 4176</br>prediction: 0.003</br>TWF: 0.47000000000000003</br></br>Type: M</br>Air temperature [K]: 302.3</br>Process temperature [K]: 310.7</br>Rotational speed [rpm]: 1544.0</br>Torque [Nm]: 39.7</br>Tool wear [min]: 141.0</br>HDF: 0.0</br>PWF: 0.0</br>OSF: 0.0</br>RNF: 0.0</br>_original_yhat_: 0.003318951211417192</br>"
          ],
          [
           "</br>id: 4176</br>prediction: 0.003</br>TWF: 0.48</br></br>Type: M</br>Air temperature [K]: 302.3</br>Process temperature [K]: 310.7</br>Rotational speed [rpm]: 1544.0</br>Torque [Nm]: 39.7</br>Tool wear [min]: 141.0</br>HDF: 0.0</br>PWF: 0.0</br>OSF: 0.0</br>RNF: 0.0</br>_original_yhat_: 0.003318951211417192</br>"
          ],
          [
           "</br>id: 4176</br>prediction: 0.003</br>TWF: 0.49</br></br>Type: M</br>Air temperature [K]: 302.3</br>Process temperature [K]: 310.7</br>Rotational speed [rpm]: 1544.0</br>Torque [Nm]: 39.7</br>Tool wear [min]: 141.0</br>HDF: 0.0</br>PWF: 0.0</br>OSF: 0.0</br>RNF: 0.0</br>_original_yhat_: 0.003318951211417192</br>"
          ],
          [
           "</br>id: 4176</br>prediction: 0.003</br>TWF: 0.5</br></br>Type: M</br>Air temperature [K]: 302.3</br>Process temperature [K]: 310.7</br>Rotational speed [rpm]: 1544.0</br>Torque [Nm]: 39.7</br>Tool wear [min]: 141.0</br>HDF: 0.0</br>PWF: 0.0</br>OSF: 0.0</br>RNF: 0.0</br>_original_yhat_: 0.003318951211417192</br>"
          ],
          [
           "</br>id: 4176</br>prediction: 0.003</br>TWF: 0.51</br></br>Type: M</br>Air temperature [K]: 302.3</br>Process temperature [K]: 310.7</br>Rotational speed [rpm]: 1544.0</br>Torque [Nm]: 39.7</br>Tool wear [min]: 141.0</br>HDF: 0.0</br>PWF: 0.0</br>OSF: 0.0</br>RNF: 0.0</br>_original_yhat_: 0.003318951211417192</br>"
          ],
          [
           "</br>id: 4176</br>prediction: 0.003</br>TWF: 0.52</br></br>Type: M</br>Air temperature [K]: 302.3</br>Process temperature [K]: 310.7</br>Rotational speed [rpm]: 1544.0</br>Torque [Nm]: 39.7</br>Tool wear [min]: 141.0</br>HDF: 0.0</br>PWF: 0.0</br>OSF: 0.0</br>RNF: 0.0</br>_original_yhat_: 0.003318951211417192</br>"
          ],
          [
           "</br>id: 4176</br>prediction: 0.003</br>TWF: 0.53</br></br>Type: M</br>Air temperature [K]: 302.3</br>Process temperature [K]: 310.7</br>Rotational speed [rpm]: 1544.0</br>Torque [Nm]: 39.7</br>Tool wear [min]: 141.0</br>HDF: 0.0</br>PWF: 0.0</br>OSF: 0.0</br>RNF: 0.0</br>_original_yhat_: 0.003318951211417192</br>"
          ],
          [
           "</br>id: 4176</br>prediction: 0.003</br>TWF: 0.54</br></br>Type: M</br>Air temperature [K]: 302.3</br>Process temperature [K]: 310.7</br>Rotational speed [rpm]: 1544.0</br>Torque [Nm]: 39.7</br>Tool wear [min]: 141.0</br>HDF: 0.0</br>PWF: 0.0</br>OSF: 0.0</br>RNF: 0.0</br>_original_yhat_: 0.003318951211417192</br>"
          ],
          [
           "</br>id: 4176</br>prediction: 0.003</br>TWF: 0.55</br></br>Type: M</br>Air temperature [K]: 302.3</br>Process temperature [K]: 310.7</br>Rotational speed [rpm]: 1544.0</br>Torque [Nm]: 39.7</br>Tool wear [min]: 141.0</br>HDF: 0.0</br>PWF: 0.0</br>OSF: 0.0</br>RNF: 0.0</br>_original_yhat_: 0.003318951211417192</br>"
          ],
          [
           "</br>id: 4176</br>prediction: 0.003</br>TWF: 0.56</br></br>Type: M</br>Air temperature [K]: 302.3</br>Process temperature [K]: 310.7</br>Rotational speed [rpm]: 1544.0</br>Torque [Nm]: 39.7</br>Tool wear [min]: 141.0</br>HDF: 0.0</br>PWF: 0.0</br>OSF: 0.0</br>RNF: 0.0</br>_original_yhat_: 0.003318951211417192</br>"
          ],
          [
           "</br>id: 4176</br>prediction: 0.003</br>TWF: 0.5700000000000001</br></br>Type: M</br>Air temperature [K]: 302.3</br>Process temperature [K]: 310.7</br>Rotational speed [rpm]: 1544.0</br>Torque [Nm]: 39.7</br>Tool wear [min]: 141.0</br>HDF: 0.0</br>PWF: 0.0</br>OSF: 0.0</br>RNF: 0.0</br>_original_yhat_: 0.003318951211417192</br>"
          ],
          [
           "</br>id: 4176</br>prediction: 0.003</br>TWF: 0.58</br></br>Type: M</br>Air temperature [K]: 302.3</br>Process temperature [K]: 310.7</br>Rotational speed [rpm]: 1544.0</br>Torque [Nm]: 39.7</br>Tool wear [min]: 141.0</br>HDF: 0.0</br>PWF: 0.0</br>OSF: 0.0</br>RNF: 0.0</br>_original_yhat_: 0.003318951211417192</br>"
          ],
          [
           "</br>id: 4176</br>prediction: 0.003</br>TWF: 0.59</br></br>Type: M</br>Air temperature [K]: 302.3</br>Process temperature [K]: 310.7</br>Rotational speed [rpm]: 1544.0</br>Torque [Nm]: 39.7</br>Tool wear [min]: 141.0</br>HDF: 0.0</br>PWF: 0.0</br>OSF: 0.0</br>RNF: 0.0</br>_original_yhat_: 0.003318951211417192</br>"
          ],
          [
           "</br>id: 4176</br>prediction: 0.003</br>TWF: 0.6</br></br>Type: M</br>Air temperature [K]: 302.3</br>Process temperature [K]: 310.7</br>Rotational speed [rpm]: 1544.0</br>Torque [Nm]: 39.7</br>Tool wear [min]: 141.0</br>HDF: 0.0</br>PWF: 0.0</br>OSF: 0.0</br>RNF: 0.0</br>_original_yhat_: 0.003318951211417192</br>"
          ],
          [
           "</br>id: 4176</br>prediction: 0.003</br>TWF: 0.61</br></br>Type: M</br>Air temperature [K]: 302.3</br>Process temperature [K]: 310.7</br>Rotational speed [rpm]: 1544.0</br>Torque [Nm]: 39.7</br>Tool wear [min]: 141.0</br>HDF: 0.0</br>PWF: 0.0</br>OSF: 0.0</br>RNF: 0.0</br>_original_yhat_: 0.003318951211417192</br>"
          ],
          [
           "</br>id: 4176</br>prediction: 0.003</br>TWF: 0.62</br></br>Type: M</br>Air temperature [K]: 302.3</br>Process temperature [K]: 310.7</br>Rotational speed [rpm]: 1544.0</br>Torque [Nm]: 39.7</br>Tool wear [min]: 141.0</br>HDF: 0.0</br>PWF: 0.0</br>OSF: 0.0</br>RNF: 0.0</br>_original_yhat_: 0.003318951211417192</br>"
          ],
          [
           "</br>id: 4176</br>prediction: 0.003</br>TWF: 0.63</br></br>Type: M</br>Air temperature [K]: 302.3</br>Process temperature [K]: 310.7</br>Rotational speed [rpm]: 1544.0</br>Torque [Nm]: 39.7</br>Tool wear [min]: 141.0</br>HDF: 0.0</br>PWF: 0.0</br>OSF: 0.0</br>RNF: 0.0</br>_original_yhat_: 0.003318951211417192</br>"
          ],
          [
           "</br>id: 4176</br>prediction: 0.003</br>TWF: 0.64</br></br>Type: M</br>Air temperature [K]: 302.3</br>Process temperature [K]: 310.7</br>Rotational speed [rpm]: 1544.0</br>Torque [Nm]: 39.7</br>Tool wear [min]: 141.0</br>HDF: 0.0</br>PWF: 0.0</br>OSF: 0.0</br>RNF: 0.0</br>_original_yhat_: 0.003318951211417192</br>"
          ],
          [
           "</br>id: 4176</br>prediction: 0.003</br>TWF: 0.65</br></br>Type: M</br>Air temperature [K]: 302.3</br>Process temperature [K]: 310.7</br>Rotational speed [rpm]: 1544.0</br>Torque [Nm]: 39.7</br>Tool wear [min]: 141.0</br>HDF: 0.0</br>PWF: 0.0</br>OSF: 0.0</br>RNF: 0.0</br>_original_yhat_: 0.003318951211417192</br>"
          ],
          [
           "</br>id: 4176</br>prediction: 0.003</br>TWF: 0.66</br></br>Type: M</br>Air temperature [K]: 302.3</br>Process temperature [K]: 310.7</br>Rotational speed [rpm]: 1544.0</br>Torque [Nm]: 39.7</br>Tool wear [min]: 141.0</br>HDF: 0.0</br>PWF: 0.0</br>OSF: 0.0</br>RNF: 0.0</br>_original_yhat_: 0.003318951211417192</br>"
          ],
          [
           "</br>id: 4176</br>prediction: 0.003</br>TWF: 0.67</br></br>Type: M</br>Air temperature [K]: 302.3</br>Process temperature [K]: 310.7</br>Rotational speed [rpm]: 1544.0</br>Torque [Nm]: 39.7</br>Tool wear [min]: 141.0</br>HDF: 0.0</br>PWF: 0.0</br>OSF: 0.0</br>RNF: 0.0</br>_original_yhat_: 0.003318951211417192</br>"
          ],
          [
           "</br>id: 4176</br>prediction: 0.003</br>TWF: 0.68</br></br>Type: M</br>Air temperature [K]: 302.3</br>Process temperature [K]: 310.7</br>Rotational speed [rpm]: 1544.0</br>Torque [Nm]: 39.7</br>Tool wear [min]: 141.0</br>HDF: 0.0</br>PWF: 0.0</br>OSF: 0.0</br>RNF: 0.0</br>_original_yhat_: 0.003318951211417192</br>"
          ],
          [
           "</br>id: 4176</br>prediction: 0.003</br>TWF: 0.6900000000000001</br></br>Type: M</br>Air temperature [K]: 302.3</br>Process temperature [K]: 310.7</br>Rotational speed [rpm]: 1544.0</br>Torque [Nm]: 39.7</br>Tool wear [min]: 141.0</br>HDF: 0.0</br>PWF: 0.0</br>OSF: 0.0</br>RNF: 0.0</br>_original_yhat_: 0.003318951211417192</br>"
          ],
          [
           "</br>id: 4176</br>prediction: 0.003</br>TWF: 0.7000000000000001</br></br>Type: M</br>Air temperature [K]: 302.3</br>Process temperature [K]: 310.7</br>Rotational speed [rpm]: 1544.0</br>Torque [Nm]: 39.7</br>Tool wear [min]: 141.0</br>HDF: 0.0</br>PWF: 0.0</br>OSF: 0.0</br>RNF: 0.0</br>_original_yhat_: 0.003318951211417192</br>"
          ],
          [
           "</br>id: 4176</br>prediction: 0.003</br>TWF: 0.71</br></br>Type: M</br>Air temperature [K]: 302.3</br>Process temperature [K]: 310.7</br>Rotational speed [rpm]: 1544.0</br>Torque [Nm]: 39.7</br>Tool wear [min]: 141.0</br>HDF: 0.0</br>PWF: 0.0</br>OSF: 0.0</br>RNF: 0.0</br>_original_yhat_: 0.003318951211417192</br>"
          ],
          [
           "</br>id: 4176</br>prediction: 0.003</br>TWF: 0.72</br></br>Type: M</br>Air temperature [K]: 302.3</br>Process temperature [K]: 310.7</br>Rotational speed [rpm]: 1544.0</br>Torque [Nm]: 39.7</br>Tool wear [min]: 141.0</br>HDF: 0.0</br>PWF: 0.0</br>OSF: 0.0</br>RNF: 0.0</br>_original_yhat_: 0.003318951211417192</br>"
          ],
          [
           "</br>id: 4176</br>prediction: 0.003</br>TWF: 0.73</br></br>Type: M</br>Air temperature [K]: 302.3</br>Process temperature [K]: 310.7</br>Rotational speed [rpm]: 1544.0</br>Torque [Nm]: 39.7</br>Tool wear [min]: 141.0</br>HDF: 0.0</br>PWF: 0.0</br>OSF: 0.0</br>RNF: 0.0</br>_original_yhat_: 0.003318951211417192</br>"
          ],
          [
           "</br>id: 4176</br>prediction: 0.003</br>TWF: 0.74</br></br>Type: M</br>Air temperature [K]: 302.3</br>Process temperature [K]: 310.7</br>Rotational speed [rpm]: 1544.0</br>Torque [Nm]: 39.7</br>Tool wear [min]: 141.0</br>HDF: 0.0</br>PWF: 0.0</br>OSF: 0.0</br>RNF: 0.0</br>_original_yhat_: 0.003318951211417192</br>"
          ],
          [
           "</br>id: 4176</br>prediction: 0.003</br>TWF: 0.75</br></br>Type: M</br>Air temperature [K]: 302.3</br>Process temperature [K]: 310.7</br>Rotational speed [rpm]: 1544.0</br>Torque [Nm]: 39.7</br>Tool wear [min]: 141.0</br>HDF: 0.0</br>PWF: 0.0</br>OSF: 0.0</br>RNF: 0.0</br>_original_yhat_: 0.003318951211417192</br>"
          ],
          [
           "</br>id: 4176</br>prediction: 0.003</br>TWF: 0.76</br></br>Type: M</br>Air temperature [K]: 302.3</br>Process temperature [K]: 310.7</br>Rotational speed [rpm]: 1544.0</br>Torque [Nm]: 39.7</br>Tool wear [min]: 141.0</br>HDF: 0.0</br>PWF: 0.0</br>OSF: 0.0</br>RNF: 0.0</br>_original_yhat_: 0.003318951211417192</br>"
          ],
          [
           "</br>id: 4176</br>prediction: 0.003</br>TWF: 0.77</br></br>Type: M</br>Air temperature [K]: 302.3</br>Process temperature [K]: 310.7</br>Rotational speed [rpm]: 1544.0</br>Torque [Nm]: 39.7</br>Tool wear [min]: 141.0</br>HDF: 0.0</br>PWF: 0.0</br>OSF: 0.0</br>RNF: 0.0</br>_original_yhat_: 0.003318951211417192</br>"
          ],
          [
           "</br>id: 4176</br>prediction: 0.003</br>TWF: 0.78</br></br>Type: M</br>Air temperature [K]: 302.3</br>Process temperature [K]: 310.7</br>Rotational speed [rpm]: 1544.0</br>Torque [Nm]: 39.7</br>Tool wear [min]: 141.0</br>HDF: 0.0</br>PWF: 0.0</br>OSF: 0.0</br>RNF: 0.0</br>_original_yhat_: 0.003318951211417192</br>"
          ],
          [
           "</br>id: 4176</br>prediction: 0.003</br>TWF: 0.79</br></br>Type: M</br>Air temperature [K]: 302.3</br>Process temperature [K]: 310.7</br>Rotational speed [rpm]: 1544.0</br>Torque [Nm]: 39.7</br>Tool wear [min]: 141.0</br>HDF: 0.0</br>PWF: 0.0</br>OSF: 0.0</br>RNF: 0.0</br>_original_yhat_: 0.003318951211417192</br>"
          ],
          [
           "</br>id: 4176</br>prediction: 0.003</br>TWF: 0.8</br></br>Type: M</br>Air temperature [K]: 302.3</br>Process temperature [K]: 310.7</br>Rotational speed [rpm]: 1544.0</br>Torque [Nm]: 39.7</br>Tool wear [min]: 141.0</br>HDF: 0.0</br>PWF: 0.0</br>OSF: 0.0</br>RNF: 0.0</br>_original_yhat_: 0.003318951211417192</br>"
          ],
          [
           "</br>id: 4176</br>prediction: 0.003</br>TWF: 0.81</br></br>Type: M</br>Air temperature [K]: 302.3</br>Process temperature [K]: 310.7</br>Rotational speed [rpm]: 1544.0</br>Torque [Nm]: 39.7</br>Tool wear [min]: 141.0</br>HDF: 0.0</br>PWF: 0.0</br>OSF: 0.0</br>RNF: 0.0</br>_original_yhat_: 0.003318951211417192</br>"
          ],
          [
           "</br>id: 4176</br>prediction: 0.003</br>TWF: 0.8200000000000001</br></br>Type: M</br>Air temperature [K]: 302.3</br>Process temperature [K]: 310.7</br>Rotational speed [rpm]: 1544.0</br>Torque [Nm]: 39.7</br>Tool wear [min]: 141.0</br>HDF: 0.0</br>PWF: 0.0</br>OSF: 0.0</br>RNF: 0.0</br>_original_yhat_: 0.003318951211417192</br>"
          ],
          [
           "</br>id: 4176</br>prediction: 0.003</br>TWF: 0.8300000000000001</br></br>Type: M</br>Air temperature [K]: 302.3</br>Process temperature [K]: 310.7</br>Rotational speed [rpm]: 1544.0</br>Torque [Nm]: 39.7</br>Tool wear [min]: 141.0</br>HDF: 0.0</br>PWF: 0.0</br>OSF: 0.0</br>RNF: 0.0</br>_original_yhat_: 0.003318951211417192</br>"
          ],
          [
           "</br>id: 4176</br>prediction: 0.003</br>TWF: 0.84</br></br>Type: M</br>Air temperature [K]: 302.3</br>Process temperature [K]: 310.7</br>Rotational speed [rpm]: 1544.0</br>Torque [Nm]: 39.7</br>Tool wear [min]: 141.0</br>HDF: 0.0</br>PWF: 0.0</br>OSF: 0.0</br>RNF: 0.0</br>_original_yhat_: 0.003318951211417192</br>"
          ],
          [
           "</br>id: 4176</br>prediction: 0.003</br>TWF: 0.85</br></br>Type: M</br>Air temperature [K]: 302.3</br>Process temperature [K]: 310.7</br>Rotational speed [rpm]: 1544.0</br>Torque [Nm]: 39.7</br>Tool wear [min]: 141.0</br>HDF: 0.0</br>PWF: 0.0</br>OSF: 0.0</br>RNF: 0.0</br>_original_yhat_: 0.003318951211417192</br>"
          ],
          [
           "</br>id: 4176</br>prediction: 0.003</br>TWF: 0.86</br></br>Type: M</br>Air temperature [K]: 302.3</br>Process temperature [K]: 310.7</br>Rotational speed [rpm]: 1544.0</br>Torque [Nm]: 39.7</br>Tool wear [min]: 141.0</br>HDF: 0.0</br>PWF: 0.0</br>OSF: 0.0</br>RNF: 0.0</br>_original_yhat_: 0.003318951211417192</br>"
          ],
          [
           "</br>id: 4176</br>prediction: 0.003</br>TWF: 0.87</br></br>Type: M</br>Air temperature [K]: 302.3</br>Process temperature [K]: 310.7</br>Rotational speed [rpm]: 1544.0</br>Torque [Nm]: 39.7</br>Tool wear [min]: 141.0</br>HDF: 0.0</br>PWF: 0.0</br>OSF: 0.0</br>RNF: 0.0</br>_original_yhat_: 0.003318951211417192</br>"
          ],
          [
           "</br>id: 4176</br>prediction: 0.003</br>TWF: 0.88</br></br>Type: M</br>Air temperature [K]: 302.3</br>Process temperature [K]: 310.7</br>Rotational speed [rpm]: 1544.0</br>Torque [Nm]: 39.7</br>Tool wear [min]: 141.0</br>HDF: 0.0</br>PWF: 0.0</br>OSF: 0.0</br>RNF: 0.0</br>_original_yhat_: 0.003318951211417192</br>"
          ],
          [
           "</br>id: 4176</br>prediction: 0.003</br>TWF: 0.89</br></br>Type: M</br>Air temperature [K]: 302.3</br>Process temperature [K]: 310.7</br>Rotational speed [rpm]: 1544.0</br>Torque [Nm]: 39.7</br>Tool wear [min]: 141.0</br>HDF: 0.0</br>PWF: 0.0</br>OSF: 0.0</br>RNF: 0.0</br>_original_yhat_: 0.003318951211417192</br>"
          ],
          [
           "</br>id: 4176</br>prediction: 0.003</br>TWF: 0.9</br></br>Type: M</br>Air temperature [K]: 302.3</br>Process temperature [K]: 310.7</br>Rotational speed [rpm]: 1544.0</br>Torque [Nm]: 39.7</br>Tool wear [min]: 141.0</br>HDF: 0.0</br>PWF: 0.0</br>OSF: 0.0</br>RNF: 0.0</br>_original_yhat_: 0.003318951211417192</br>"
          ],
          [
           "</br>id: 4176</br>prediction: 0.003</br>TWF: 0.91</br></br>Type: M</br>Air temperature [K]: 302.3</br>Process temperature [K]: 310.7</br>Rotational speed [rpm]: 1544.0</br>Torque [Nm]: 39.7</br>Tool wear [min]: 141.0</br>HDF: 0.0</br>PWF: 0.0</br>OSF: 0.0</br>RNF: 0.0</br>_original_yhat_: 0.003318951211417192</br>"
          ],
          [
           "</br>id: 4176</br>prediction: 0.003</br>TWF: 0.92</br></br>Type: M</br>Air temperature [K]: 302.3</br>Process temperature [K]: 310.7</br>Rotational speed [rpm]: 1544.0</br>Torque [Nm]: 39.7</br>Tool wear [min]: 141.0</br>HDF: 0.0</br>PWF: 0.0</br>OSF: 0.0</br>RNF: 0.0</br>_original_yhat_: 0.003318951211417192</br>"
          ],
          [
           "</br>id: 4176</br>prediction: 0.003</br>TWF: 0.93</br></br>Type: M</br>Air temperature [K]: 302.3</br>Process temperature [K]: 310.7</br>Rotational speed [rpm]: 1544.0</br>Torque [Nm]: 39.7</br>Tool wear [min]: 141.0</br>HDF: 0.0</br>PWF: 0.0</br>OSF: 0.0</br>RNF: 0.0</br>_original_yhat_: 0.003318951211417192</br>"
          ],
          [
           "</br>id: 4176</br>prediction: 0.003</br>TWF: 0.9400000000000001</br></br>Type: M</br>Air temperature [K]: 302.3</br>Process temperature [K]: 310.7</br>Rotational speed [rpm]: 1544.0</br>Torque [Nm]: 39.7</br>Tool wear [min]: 141.0</br>HDF: 0.0</br>PWF: 0.0</br>OSF: 0.0</br>RNF: 0.0</br>_original_yhat_: 0.003318951211417192</br>"
          ],
          [
           "</br>id: 4176</br>prediction: 0.003</br>TWF: 0.9500000000000001</br></br>Type: M</br>Air temperature [K]: 302.3</br>Process temperature [K]: 310.7</br>Rotational speed [rpm]: 1544.0</br>Torque [Nm]: 39.7</br>Tool wear [min]: 141.0</br>HDF: 0.0</br>PWF: 0.0</br>OSF: 0.0</br>RNF: 0.0</br>_original_yhat_: 0.003318951211417192</br>"
          ],
          [
           "</br>id: 4176</br>prediction: 0.003</br>TWF: 0.96</br></br>Type: M</br>Air temperature [K]: 302.3</br>Process temperature [K]: 310.7</br>Rotational speed [rpm]: 1544.0</br>Torque [Nm]: 39.7</br>Tool wear [min]: 141.0</br>HDF: 0.0</br>PWF: 0.0</br>OSF: 0.0</br>RNF: 0.0</br>_original_yhat_: 0.003318951211417192</br>"
          ],
          [
           "</br>id: 4176</br>prediction: 0.003</br>TWF: 0.97</br></br>Type: M</br>Air temperature [K]: 302.3</br>Process temperature [K]: 310.7</br>Rotational speed [rpm]: 1544.0</br>Torque [Nm]: 39.7</br>Tool wear [min]: 141.0</br>HDF: 0.0</br>PWF: 0.0</br>OSF: 0.0</br>RNF: 0.0</br>_original_yhat_: 0.003318951211417192</br>"
          ],
          [
           "</br>id: 4176</br>prediction: 0.003</br>TWF: 0.98</br></br>Type: M</br>Air temperature [K]: 302.3</br>Process temperature [K]: 310.7</br>Rotational speed [rpm]: 1544.0</br>Torque [Nm]: 39.7</br>Tool wear [min]: 141.0</br>HDF: 0.0</br>PWF: 0.0</br>OSF: 0.0</br>RNF: 0.0</br>_original_yhat_: 0.003318951211417192</br>"
          ],
          [
           "</br>id: 4176</br>prediction: 0.003</br>TWF: 0.99</br></br>Type: M</br>Air temperature [K]: 302.3</br>Process temperature [K]: 310.7</br>Rotational speed [rpm]: 1544.0</br>Torque [Nm]: 39.7</br>Tool wear [min]: 141.0</br>HDF: 0.0</br>PWF: 0.0</br>OSF: 0.0</br>RNF: 0.0</br>_original_yhat_: 0.003318951211417192</br>"
          ],
          [
           "</br>id: 4176</br>prediction: 0.003</br>TWF: 1.0</br></br>Type: M</br>Air temperature [K]: 302.3</br>Process temperature [K]: 310.7</br>Rotational speed [rpm]: 1544.0</br>Torque [Nm]: 39.7</br>Tool wear [min]: 141.0</br>HDF: 0.0</br>PWF: 0.0</br>OSF: 0.0</br>RNF: 0.0</br>_original_yhat_: 0.003318951211417192</br>"
          ]
         ],
         "hovertemplate": "%{customdata[0]}<extra></extra>",
         "legendgroup": "testing",
         "line": {
          "color": "#46bac2",
          "dash": "solid",
          "width": 2
         },
         "marker": {
          "symbol": "circle"
         },
         "mode": "lines",
         "name": "testing",
         "opacity": 1,
         "showlegend": false,
         "type": "scattergl",
         "x": [
          0,
          0.01,
          0.02,
          0.03,
          0.04,
          0.05,
          0.06,
          0.07,
          0.08,
          0.09,
          0.1,
          0.11,
          0.12,
          0.13,
          0.14,
          0.15,
          0.16,
          0.17,
          0.18,
          0.19,
          0.2,
          0.21,
          0.22,
          0.23,
          0.24,
          0.25,
          0.26,
          0.27,
          0.28,
          0.29,
          0.3,
          0.31,
          0.32,
          0.33,
          0.34,
          0.35000000000000003,
          0.36,
          0.37,
          0.38,
          0.39,
          0.4,
          0.41000000000000003,
          0.42,
          0.43,
          0.44,
          0.45,
          0.46,
          0.47000000000000003,
          0.48,
          0.49,
          0.5,
          0.51,
          0.52,
          0.53,
          0.54,
          0.55,
          0.56,
          0.5700000000000001,
          0.58,
          0.59,
          0.6,
          0.61,
          0.62,
          0.63,
          0.64,
          0.65,
          0.66,
          0.67,
          0.68,
          0.6900000000000001,
          0.7000000000000001,
          0.71,
          0.72,
          0.73,
          0.74,
          0.75,
          0.76,
          0.77,
          0.78,
          0.79,
          0.8,
          0.81,
          0.8200000000000001,
          0.8300000000000001,
          0.84,
          0.85,
          0.86,
          0.87,
          0.88,
          0.89,
          0.9,
          0.91,
          0.92,
          0.93,
          0.9400000000000001,
          0.9500000000000001,
          0.96,
          0.97,
          0.98,
          0.99,
          1
         ],
         "xaxis": "x6",
         "y": [
          0.003318951211417192,
          0.003318951211417192,
          0.003318951211417192,
          0.003318951211417192,
          0.003318951211417192,
          0.003318951211417192,
          0.003318951211417192,
          0.003318951211417192,
          0.003318951211417192,
          0.003318951211417192,
          0.003318951211417192,
          0.003318951211417192,
          0.003318951211417192,
          0.003318951211417192,
          0.003318951211417192,
          0.003318951211417192,
          0.003318951211417192,
          0.003318951211417192,
          0.003318951211417192,
          0.003318951211417192,
          0.003318951211417192,
          0.003318951211417192,
          0.003318951211417192,
          0.003318951211417192,
          0.003318951211417192,
          0.003318951211417192,
          0.003318951211417192,
          0.003318951211417192,
          0.003318951211417192,
          0.003318951211417192,
          0.003318951211417192,
          0.003318951211417192,
          0.003318951211417192,
          0.003318951211417192,
          0.003318951211417192,
          0.003318951211417192,
          0.003318951211417192,
          0.003318951211417192,
          0.003318951211417192,
          0.003318951211417192,
          0.003318951211417192,
          0.003318951211417192,
          0.003318951211417192,
          0.003318951211417192,
          0.003318951211417192,
          0.003318951211417192,
          0.003318951211417192,
          0.003318951211417192,
          0.003318951211417192,
          0.003318951211417192,
          0.003318951211417192,
          0.003318951211417192,
          0.003318951211417192,
          0.003318951211417192,
          0.003318951211417192,
          0.003318951211417192,
          0.003318951211417192,
          0.003318951211417192,
          0.003318951211417192,
          0.003318951211417192,
          0.003318951211417192,
          0.003318951211417192,
          0.003318951211417192,
          0.003318951211417192,
          0.003318951211417192,
          0.003318951211417192,
          0.003318951211417192,
          0.003318951211417192,
          0.003318951211417192,
          0.003318951211417192,
          0.003318951211417192,
          0.003318951211417192,
          0.003318951211417192,
          0.003318951211417192,
          0.003318951211417192,
          0.003318951211417192,
          0.003318951211417192,
          0.003318951211417192,
          0.003318951211417192,
          0.003318951211417192,
          0.003318951211417192,
          0.003318951211417192,
          0.003318951211417192,
          0.003318951211417192,
          0.003318951211417192,
          0.003318951211417192,
          0.003318951211417192,
          0.003318951211417192,
          0.003318951211417192,
          0.003318951211417192,
          0.003318951211417192,
          0.003318951211417192,
          0.003318951211417192,
          0.003318951211417192,
          0.003318951211417192,
          0.003318951211417192,
          0.003318951211417192,
          0.003318951211417192,
          0.003318951211417192,
          0.003318951211417192,
          0.003318951211417192
         ],
         "yaxis": "y6"
        },
        {
         "customdata": [
          [
           "</br>id: 4176</br>prediction: 0.003</br>HDF: 0.0</br></br>Type: M</br>Air temperature [K]: 302.3</br>Process temperature [K]: 310.7</br>Rotational speed [rpm]: 1544.0</br>Torque [Nm]: 39.7</br>Tool wear [min]: 141.0</br>TWF: 0.0</br>PWF: 0.0</br>OSF: 0.0</br>RNF: 0.0</br>_original_yhat_: 0.003318951211417192</br>"
          ],
          [
           "</br>id: 4176</br>prediction: 0.003</br>HDF: 0.01</br></br>Type: M</br>Air temperature [K]: 302.3</br>Process temperature [K]: 310.7</br>Rotational speed [rpm]: 1544.0</br>Torque [Nm]: 39.7</br>Tool wear [min]: 141.0</br>TWF: 0.0</br>PWF: 0.0</br>OSF: 0.0</br>RNF: 0.0</br>_original_yhat_: 0.003318951211417192</br>"
          ],
          [
           "</br>id: 4176</br>prediction: 0.003</br>HDF: 0.02</br></br>Type: M</br>Air temperature [K]: 302.3</br>Process temperature [K]: 310.7</br>Rotational speed [rpm]: 1544.0</br>Torque [Nm]: 39.7</br>Tool wear [min]: 141.0</br>TWF: 0.0</br>PWF: 0.0</br>OSF: 0.0</br>RNF: 0.0</br>_original_yhat_: 0.003318951211417192</br>"
          ],
          [
           "</br>id: 4176</br>prediction: 0.003</br>HDF: 0.03</br></br>Type: M</br>Air temperature [K]: 302.3</br>Process temperature [K]: 310.7</br>Rotational speed [rpm]: 1544.0</br>Torque [Nm]: 39.7</br>Tool wear [min]: 141.0</br>TWF: 0.0</br>PWF: 0.0</br>OSF: 0.0</br>RNF: 0.0</br>_original_yhat_: 0.003318951211417192</br>"
          ],
          [
           "</br>id: 4176</br>prediction: 0.003</br>HDF: 0.04</br></br>Type: M</br>Air temperature [K]: 302.3</br>Process temperature [K]: 310.7</br>Rotational speed [rpm]: 1544.0</br>Torque [Nm]: 39.7</br>Tool wear [min]: 141.0</br>TWF: 0.0</br>PWF: 0.0</br>OSF: 0.0</br>RNF: 0.0</br>_original_yhat_: 0.003318951211417192</br>"
          ],
          [
           "</br>id: 4176</br>prediction: 0.003</br>HDF: 0.05</br></br>Type: M</br>Air temperature [K]: 302.3</br>Process temperature [K]: 310.7</br>Rotational speed [rpm]: 1544.0</br>Torque [Nm]: 39.7</br>Tool wear [min]: 141.0</br>TWF: 0.0</br>PWF: 0.0</br>OSF: 0.0</br>RNF: 0.0</br>_original_yhat_: 0.003318951211417192</br>"
          ],
          [
           "</br>id: 4176</br>prediction: 0.003</br>HDF: 0.06</br></br>Type: M</br>Air temperature [K]: 302.3</br>Process temperature [K]: 310.7</br>Rotational speed [rpm]: 1544.0</br>Torque [Nm]: 39.7</br>Tool wear [min]: 141.0</br>TWF: 0.0</br>PWF: 0.0</br>OSF: 0.0</br>RNF: 0.0</br>_original_yhat_: 0.003318951211417192</br>"
          ],
          [
           "</br>id: 4176</br>prediction: 0.003</br>HDF: 0.07</br></br>Type: M</br>Air temperature [K]: 302.3</br>Process temperature [K]: 310.7</br>Rotational speed [rpm]: 1544.0</br>Torque [Nm]: 39.7</br>Tool wear [min]: 141.0</br>TWF: 0.0</br>PWF: 0.0</br>OSF: 0.0</br>RNF: 0.0</br>_original_yhat_: 0.003318951211417192</br>"
          ],
          [
           "</br>id: 4176</br>prediction: 0.003</br>HDF: 0.08</br></br>Type: M</br>Air temperature [K]: 302.3</br>Process temperature [K]: 310.7</br>Rotational speed [rpm]: 1544.0</br>Torque [Nm]: 39.7</br>Tool wear [min]: 141.0</br>TWF: 0.0</br>PWF: 0.0</br>OSF: 0.0</br>RNF: 0.0</br>_original_yhat_: 0.003318951211417192</br>"
          ],
          [
           "</br>id: 4176</br>prediction: 0.003</br>HDF: 0.09</br></br>Type: M</br>Air temperature [K]: 302.3</br>Process temperature [K]: 310.7</br>Rotational speed [rpm]: 1544.0</br>Torque [Nm]: 39.7</br>Tool wear [min]: 141.0</br>TWF: 0.0</br>PWF: 0.0</br>OSF: 0.0</br>RNF: 0.0</br>_original_yhat_: 0.003318951211417192</br>"
          ],
          [
           "</br>id: 4176</br>prediction: 0.003</br>HDF: 0.1</br></br>Type: M</br>Air temperature [K]: 302.3</br>Process temperature [K]: 310.7</br>Rotational speed [rpm]: 1544.0</br>Torque [Nm]: 39.7</br>Tool wear [min]: 141.0</br>TWF: 0.0</br>PWF: 0.0</br>OSF: 0.0</br>RNF: 0.0</br>_original_yhat_: 0.003318951211417192</br>"
          ],
          [
           "</br>id: 4176</br>prediction: 0.003</br>HDF: 0.11</br></br>Type: M</br>Air temperature [K]: 302.3</br>Process temperature [K]: 310.7</br>Rotational speed [rpm]: 1544.0</br>Torque [Nm]: 39.7</br>Tool wear [min]: 141.0</br>TWF: 0.0</br>PWF: 0.0</br>OSF: 0.0</br>RNF: 0.0</br>_original_yhat_: 0.003318951211417192</br>"
          ],
          [
           "</br>id: 4176</br>prediction: 0.003</br>HDF: 0.12</br></br>Type: M</br>Air temperature [K]: 302.3</br>Process temperature [K]: 310.7</br>Rotational speed [rpm]: 1544.0</br>Torque [Nm]: 39.7</br>Tool wear [min]: 141.0</br>TWF: 0.0</br>PWF: 0.0</br>OSF: 0.0</br>RNF: 0.0</br>_original_yhat_: 0.003318951211417192</br>"
          ],
          [
           "</br>id: 4176</br>prediction: 0.003</br>HDF: 0.13</br></br>Type: M</br>Air temperature [K]: 302.3</br>Process temperature [K]: 310.7</br>Rotational speed [rpm]: 1544.0</br>Torque [Nm]: 39.7</br>Tool wear [min]: 141.0</br>TWF: 0.0</br>PWF: 0.0</br>OSF: 0.0</br>RNF: 0.0</br>_original_yhat_: 0.003318951211417192</br>"
          ],
          [
           "</br>id: 4176</br>prediction: 0.003</br>HDF: 0.14</br></br>Type: M</br>Air temperature [K]: 302.3</br>Process temperature [K]: 310.7</br>Rotational speed [rpm]: 1544.0</br>Torque [Nm]: 39.7</br>Tool wear [min]: 141.0</br>TWF: 0.0</br>PWF: 0.0</br>OSF: 0.0</br>RNF: 0.0</br>_original_yhat_: 0.003318951211417192</br>"
          ],
          [
           "</br>id: 4176</br>prediction: 0.003</br>HDF: 0.15</br></br>Type: M</br>Air temperature [K]: 302.3</br>Process temperature [K]: 310.7</br>Rotational speed [rpm]: 1544.0</br>Torque [Nm]: 39.7</br>Tool wear [min]: 141.0</br>TWF: 0.0</br>PWF: 0.0</br>OSF: 0.0</br>RNF: 0.0</br>_original_yhat_: 0.003318951211417192</br>"
          ],
          [
           "</br>id: 4176</br>prediction: 0.003</br>HDF: 0.16</br></br>Type: M</br>Air temperature [K]: 302.3</br>Process temperature [K]: 310.7</br>Rotational speed [rpm]: 1544.0</br>Torque [Nm]: 39.7</br>Tool wear [min]: 141.0</br>TWF: 0.0</br>PWF: 0.0</br>OSF: 0.0</br>RNF: 0.0</br>_original_yhat_: 0.003318951211417192</br>"
          ],
          [
           "</br>id: 4176</br>prediction: 0.003</br>HDF: 0.17</br></br>Type: M</br>Air temperature [K]: 302.3</br>Process temperature [K]: 310.7</br>Rotational speed [rpm]: 1544.0</br>Torque [Nm]: 39.7</br>Tool wear [min]: 141.0</br>TWF: 0.0</br>PWF: 0.0</br>OSF: 0.0</br>RNF: 0.0</br>_original_yhat_: 0.003318951211417192</br>"
          ],
          [
           "</br>id: 4176</br>prediction: 0.003</br>HDF: 0.18</br></br>Type: M</br>Air temperature [K]: 302.3</br>Process temperature [K]: 310.7</br>Rotational speed [rpm]: 1544.0</br>Torque [Nm]: 39.7</br>Tool wear [min]: 141.0</br>TWF: 0.0</br>PWF: 0.0</br>OSF: 0.0</br>RNF: 0.0</br>_original_yhat_: 0.003318951211417192</br>"
          ],
          [
           "</br>id: 4176</br>prediction: 0.003</br>HDF: 0.19</br></br>Type: M</br>Air temperature [K]: 302.3</br>Process temperature [K]: 310.7</br>Rotational speed [rpm]: 1544.0</br>Torque [Nm]: 39.7</br>Tool wear [min]: 141.0</br>TWF: 0.0</br>PWF: 0.0</br>OSF: 0.0</br>RNF: 0.0</br>_original_yhat_: 0.003318951211417192</br>"
          ],
          [
           "</br>id: 4176</br>prediction: 0.003</br>HDF: 0.2</br></br>Type: M</br>Air temperature [K]: 302.3</br>Process temperature [K]: 310.7</br>Rotational speed [rpm]: 1544.0</br>Torque [Nm]: 39.7</br>Tool wear [min]: 141.0</br>TWF: 0.0</br>PWF: 0.0</br>OSF: 0.0</br>RNF: 0.0</br>_original_yhat_: 0.003318951211417192</br>"
          ],
          [
           "</br>id: 4176</br>prediction: 0.003</br>HDF: 0.21</br></br>Type: M</br>Air temperature [K]: 302.3</br>Process temperature [K]: 310.7</br>Rotational speed [rpm]: 1544.0</br>Torque [Nm]: 39.7</br>Tool wear [min]: 141.0</br>TWF: 0.0</br>PWF: 0.0</br>OSF: 0.0</br>RNF: 0.0</br>_original_yhat_: 0.003318951211417192</br>"
          ],
          [
           "</br>id: 4176</br>prediction: 0.003</br>HDF: 0.22</br></br>Type: M</br>Air temperature [K]: 302.3</br>Process temperature [K]: 310.7</br>Rotational speed [rpm]: 1544.0</br>Torque [Nm]: 39.7</br>Tool wear [min]: 141.0</br>TWF: 0.0</br>PWF: 0.0</br>OSF: 0.0</br>RNF: 0.0</br>_original_yhat_: 0.003318951211417192</br>"
          ],
          [
           "</br>id: 4176</br>prediction: 0.003</br>HDF: 0.23</br></br>Type: M</br>Air temperature [K]: 302.3</br>Process temperature [K]: 310.7</br>Rotational speed [rpm]: 1544.0</br>Torque [Nm]: 39.7</br>Tool wear [min]: 141.0</br>TWF: 0.0</br>PWF: 0.0</br>OSF: 0.0</br>RNF: 0.0</br>_original_yhat_: 0.003318951211417192</br>"
          ],
          [
           "</br>id: 4176</br>prediction: 0.003</br>HDF: 0.24</br></br>Type: M</br>Air temperature [K]: 302.3</br>Process temperature [K]: 310.7</br>Rotational speed [rpm]: 1544.0</br>Torque [Nm]: 39.7</br>Tool wear [min]: 141.0</br>TWF: 0.0</br>PWF: 0.0</br>OSF: 0.0</br>RNF: 0.0</br>_original_yhat_: 0.003318951211417192</br>"
          ],
          [
           "</br>id: 4176</br>prediction: 0.003</br>HDF: 0.25</br></br>Type: M</br>Air temperature [K]: 302.3</br>Process temperature [K]: 310.7</br>Rotational speed [rpm]: 1544.0</br>Torque [Nm]: 39.7</br>Tool wear [min]: 141.0</br>TWF: 0.0</br>PWF: 0.0</br>OSF: 0.0</br>RNF: 0.0</br>_original_yhat_: 0.003318951211417192</br>"
          ],
          [
           "</br>id: 4176</br>prediction: 0.003</br>HDF: 0.26</br></br>Type: M</br>Air temperature [K]: 302.3</br>Process temperature [K]: 310.7</br>Rotational speed [rpm]: 1544.0</br>Torque [Nm]: 39.7</br>Tool wear [min]: 141.0</br>TWF: 0.0</br>PWF: 0.0</br>OSF: 0.0</br>RNF: 0.0</br>_original_yhat_: 0.003318951211417192</br>"
          ],
          [
           "</br>id: 4176</br>prediction: 0.003</br>HDF: 0.27</br></br>Type: M</br>Air temperature [K]: 302.3</br>Process temperature [K]: 310.7</br>Rotational speed [rpm]: 1544.0</br>Torque [Nm]: 39.7</br>Tool wear [min]: 141.0</br>TWF: 0.0</br>PWF: 0.0</br>OSF: 0.0</br>RNF: 0.0</br>_original_yhat_: 0.003318951211417192</br>"
          ],
          [
           "</br>id: 4176</br>prediction: 0.003</br>HDF: 0.28</br></br>Type: M</br>Air temperature [K]: 302.3</br>Process temperature [K]: 310.7</br>Rotational speed [rpm]: 1544.0</br>Torque [Nm]: 39.7</br>Tool wear [min]: 141.0</br>TWF: 0.0</br>PWF: 0.0</br>OSF: 0.0</br>RNF: 0.0</br>_original_yhat_: 0.003318951211417192</br>"
          ],
          [
           "</br>id: 4176</br>prediction: 0.003</br>HDF: 0.29</br></br>Type: M</br>Air temperature [K]: 302.3</br>Process temperature [K]: 310.7</br>Rotational speed [rpm]: 1544.0</br>Torque [Nm]: 39.7</br>Tool wear [min]: 141.0</br>TWF: 0.0</br>PWF: 0.0</br>OSF: 0.0</br>RNF: 0.0</br>_original_yhat_: 0.003318951211417192</br>"
          ],
          [
           "</br>id: 4176</br>prediction: 0.003</br>HDF: 0.3</br></br>Type: M</br>Air temperature [K]: 302.3</br>Process temperature [K]: 310.7</br>Rotational speed [rpm]: 1544.0</br>Torque [Nm]: 39.7</br>Tool wear [min]: 141.0</br>TWF: 0.0</br>PWF: 0.0</br>OSF: 0.0</br>RNF: 0.0</br>_original_yhat_: 0.003318951211417192</br>"
          ],
          [
           "</br>id: 4176</br>prediction: 0.003</br>HDF: 0.31</br></br>Type: M</br>Air temperature [K]: 302.3</br>Process temperature [K]: 310.7</br>Rotational speed [rpm]: 1544.0</br>Torque [Nm]: 39.7</br>Tool wear [min]: 141.0</br>TWF: 0.0</br>PWF: 0.0</br>OSF: 0.0</br>RNF: 0.0</br>_original_yhat_: 0.003318951211417192</br>"
          ],
          [
           "</br>id: 4176</br>prediction: 0.003</br>HDF: 0.32</br></br>Type: M</br>Air temperature [K]: 302.3</br>Process temperature [K]: 310.7</br>Rotational speed [rpm]: 1544.0</br>Torque [Nm]: 39.7</br>Tool wear [min]: 141.0</br>TWF: 0.0</br>PWF: 0.0</br>OSF: 0.0</br>RNF: 0.0</br>_original_yhat_: 0.003318951211417192</br>"
          ],
          [
           "</br>id: 4176</br>prediction: 0.003</br>HDF: 0.33</br></br>Type: M</br>Air temperature [K]: 302.3</br>Process temperature [K]: 310.7</br>Rotational speed [rpm]: 1544.0</br>Torque [Nm]: 39.7</br>Tool wear [min]: 141.0</br>TWF: 0.0</br>PWF: 0.0</br>OSF: 0.0</br>RNF: 0.0</br>_original_yhat_: 0.003318951211417192</br>"
          ],
          [
           "</br>id: 4176</br>prediction: 0.003</br>HDF: 0.34</br></br>Type: M</br>Air temperature [K]: 302.3</br>Process temperature [K]: 310.7</br>Rotational speed [rpm]: 1544.0</br>Torque [Nm]: 39.7</br>Tool wear [min]: 141.0</br>TWF: 0.0</br>PWF: 0.0</br>OSF: 0.0</br>RNF: 0.0</br>_original_yhat_: 0.003318951211417192</br>"
          ],
          [
           "</br>id: 4176</br>prediction: 0.003</br>HDF: 0.35000000000000003</br></br>Type: M</br>Air temperature [K]: 302.3</br>Process temperature [K]: 310.7</br>Rotational speed [rpm]: 1544.0</br>Torque [Nm]: 39.7</br>Tool wear [min]: 141.0</br>TWF: 0.0</br>PWF: 0.0</br>OSF: 0.0</br>RNF: 0.0</br>_original_yhat_: 0.003318951211417192</br>"
          ],
          [
           "</br>id: 4176</br>prediction: 0.003</br>HDF: 0.36</br></br>Type: M</br>Air temperature [K]: 302.3</br>Process temperature [K]: 310.7</br>Rotational speed [rpm]: 1544.0</br>Torque [Nm]: 39.7</br>Tool wear [min]: 141.0</br>TWF: 0.0</br>PWF: 0.0</br>OSF: 0.0</br>RNF: 0.0</br>_original_yhat_: 0.003318951211417192</br>"
          ],
          [
           "</br>id: 4176</br>prediction: 0.003</br>HDF: 0.37</br></br>Type: M</br>Air temperature [K]: 302.3</br>Process temperature [K]: 310.7</br>Rotational speed [rpm]: 1544.0</br>Torque [Nm]: 39.7</br>Tool wear [min]: 141.0</br>TWF: 0.0</br>PWF: 0.0</br>OSF: 0.0</br>RNF: 0.0</br>_original_yhat_: 0.003318951211417192</br>"
          ],
          [
           "</br>id: 4176</br>prediction: 0.003</br>HDF: 0.38</br></br>Type: M</br>Air temperature [K]: 302.3</br>Process temperature [K]: 310.7</br>Rotational speed [rpm]: 1544.0</br>Torque [Nm]: 39.7</br>Tool wear [min]: 141.0</br>TWF: 0.0</br>PWF: 0.0</br>OSF: 0.0</br>RNF: 0.0</br>_original_yhat_: 0.003318951211417192</br>"
          ],
          [
           "</br>id: 4176</br>prediction: 0.003</br>HDF: 0.39</br></br>Type: M</br>Air temperature [K]: 302.3</br>Process temperature [K]: 310.7</br>Rotational speed [rpm]: 1544.0</br>Torque [Nm]: 39.7</br>Tool wear [min]: 141.0</br>TWF: 0.0</br>PWF: 0.0</br>OSF: 0.0</br>RNF: 0.0</br>_original_yhat_: 0.003318951211417192</br>"
          ],
          [
           "</br>id: 4176</br>prediction: 0.003</br>HDF: 0.4</br></br>Type: M</br>Air temperature [K]: 302.3</br>Process temperature [K]: 310.7</br>Rotational speed [rpm]: 1544.0</br>Torque [Nm]: 39.7</br>Tool wear [min]: 141.0</br>TWF: 0.0</br>PWF: 0.0</br>OSF: 0.0</br>RNF: 0.0</br>_original_yhat_: 0.003318951211417192</br>"
          ],
          [
           "</br>id: 4176</br>prediction: 0.003</br>HDF: 0.41000000000000003</br></br>Type: M</br>Air temperature [K]: 302.3</br>Process temperature [K]: 310.7</br>Rotational speed [rpm]: 1544.0</br>Torque [Nm]: 39.7</br>Tool wear [min]: 141.0</br>TWF: 0.0</br>PWF: 0.0</br>OSF: 0.0</br>RNF: 0.0</br>_original_yhat_: 0.003318951211417192</br>"
          ],
          [
           "</br>id: 4176</br>prediction: 0.003</br>HDF: 0.42</br></br>Type: M</br>Air temperature [K]: 302.3</br>Process temperature [K]: 310.7</br>Rotational speed [rpm]: 1544.0</br>Torque [Nm]: 39.7</br>Tool wear [min]: 141.0</br>TWF: 0.0</br>PWF: 0.0</br>OSF: 0.0</br>RNF: 0.0</br>_original_yhat_: 0.003318951211417192</br>"
          ],
          [
           "</br>id: 4176</br>prediction: 0.003</br>HDF: 0.43</br></br>Type: M</br>Air temperature [K]: 302.3</br>Process temperature [K]: 310.7</br>Rotational speed [rpm]: 1544.0</br>Torque [Nm]: 39.7</br>Tool wear [min]: 141.0</br>TWF: 0.0</br>PWF: 0.0</br>OSF: 0.0</br>RNF: 0.0</br>_original_yhat_: 0.003318951211417192</br>"
          ],
          [
           "</br>id: 4176</br>prediction: 0.003</br>HDF: 0.44</br></br>Type: M</br>Air temperature [K]: 302.3</br>Process temperature [K]: 310.7</br>Rotational speed [rpm]: 1544.0</br>Torque [Nm]: 39.7</br>Tool wear [min]: 141.0</br>TWF: 0.0</br>PWF: 0.0</br>OSF: 0.0</br>RNF: 0.0</br>_original_yhat_: 0.003318951211417192</br>"
          ],
          [
           "</br>id: 4176</br>prediction: 0.003</br>HDF: 0.45</br></br>Type: M</br>Air temperature [K]: 302.3</br>Process temperature [K]: 310.7</br>Rotational speed [rpm]: 1544.0</br>Torque [Nm]: 39.7</br>Tool wear [min]: 141.0</br>TWF: 0.0</br>PWF: 0.0</br>OSF: 0.0</br>RNF: 0.0</br>_original_yhat_: 0.003318951211417192</br>"
          ],
          [
           "</br>id: 4176</br>prediction: 0.003</br>HDF: 0.46</br></br>Type: M</br>Air temperature [K]: 302.3</br>Process temperature [K]: 310.7</br>Rotational speed [rpm]: 1544.0</br>Torque [Nm]: 39.7</br>Tool wear [min]: 141.0</br>TWF: 0.0</br>PWF: 0.0</br>OSF: 0.0</br>RNF: 0.0</br>_original_yhat_: 0.003318951211417192</br>"
          ],
          [
           "</br>id: 4176</br>prediction: 0.003</br>HDF: 0.47000000000000003</br></br>Type: M</br>Air temperature [K]: 302.3</br>Process temperature [K]: 310.7</br>Rotational speed [rpm]: 1544.0</br>Torque [Nm]: 39.7</br>Tool wear [min]: 141.0</br>TWF: 0.0</br>PWF: 0.0</br>OSF: 0.0</br>RNF: 0.0</br>_original_yhat_: 0.003318951211417192</br>"
          ],
          [
           "</br>id: 4176</br>prediction: 0.003</br>HDF: 0.48</br></br>Type: M</br>Air temperature [K]: 302.3</br>Process temperature [K]: 310.7</br>Rotational speed [rpm]: 1544.0</br>Torque [Nm]: 39.7</br>Tool wear [min]: 141.0</br>TWF: 0.0</br>PWF: 0.0</br>OSF: 0.0</br>RNF: 0.0</br>_original_yhat_: 0.003318951211417192</br>"
          ],
          [
           "</br>id: 4176</br>prediction: 0.003</br>HDF: 0.49</br></br>Type: M</br>Air temperature [K]: 302.3</br>Process temperature [K]: 310.7</br>Rotational speed [rpm]: 1544.0</br>Torque [Nm]: 39.7</br>Tool wear [min]: 141.0</br>TWF: 0.0</br>PWF: 0.0</br>OSF: 0.0</br>RNF: 0.0</br>_original_yhat_: 0.003318951211417192</br>"
          ],
          [
           "</br>id: 4176</br>prediction: 0.003</br>HDF: 0.5</br></br>Type: M</br>Air temperature [K]: 302.3</br>Process temperature [K]: 310.7</br>Rotational speed [rpm]: 1544.0</br>Torque [Nm]: 39.7</br>Tool wear [min]: 141.0</br>TWF: 0.0</br>PWF: 0.0</br>OSF: 0.0</br>RNF: 0.0</br>_original_yhat_: 0.003318951211417192</br>"
          ],
          [
           "</br>id: 4176</br>prediction: 0.003</br>HDF: 0.51</br></br>Type: M</br>Air temperature [K]: 302.3</br>Process temperature [K]: 310.7</br>Rotational speed [rpm]: 1544.0</br>Torque [Nm]: 39.7</br>Tool wear [min]: 141.0</br>TWF: 0.0</br>PWF: 0.0</br>OSF: 0.0</br>RNF: 0.0</br>_original_yhat_: 0.003318951211417192</br>"
          ],
          [
           "</br>id: 4176</br>prediction: 0.003</br>HDF: 0.52</br></br>Type: M</br>Air temperature [K]: 302.3</br>Process temperature [K]: 310.7</br>Rotational speed [rpm]: 1544.0</br>Torque [Nm]: 39.7</br>Tool wear [min]: 141.0</br>TWF: 0.0</br>PWF: 0.0</br>OSF: 0.0</br>RNF: 0.0</br>_original_yhat_: 0.003318951211417192</br>"
          ],
          [
           "</br>id: 4176</br>prediction: 0.003</br>HDF: 0.53</br></br>Type: M</br>Air temperature [K]: 302.3</br>Process temperature [K]: 310.7</br>Rotational speed [rpm]: 1544.0</br>Torque [Nm]: 39.7</br>Tool wear [min]: 141.0</br>TWF: 0.0</br>PWF: 0.0</br>OSF: 0.0</br>RNF: 0.0</br>_original_yhat_: 0.003318951211417192</br>"
          ],
          [
           "</br>id: 4176</br>prediction: 0.003</br>HDF: 0.54</br></br>Type: M</br>Air temperature [K]: 302.3</br>Process temperature [K]: 310.7</br>Rotational speed [rpm]: 1544.0</br>Torque [Nm]: 39.7</br>Tool wear [min]: 141.0</br>TWF: 0.0</br>PWF: 0.0</br>OSF: 0.0</br>RNF: 0.0</br>_original_yhat_: 0.003318951211417192</br>"
          ],
          [
           "</br>id: 4176</br>prediction: 0.003</br>HDF: 0.55</br></br>Type: M</br>Air temperature [K]: 302.3</br>Process temperature [K]: 310.7</br>Rotational speed [rpm]: 1544.0</br>Torque [Nm]: 39.7</br>Tool wear [min]: 141.0</br>TWF: 0.0</br>PWF: 0.0</br>OSF: 0.0</br>RNF: 0.0</br>_original_yhat_: 0.003318951211417192</br>"
          ],
          [
           "</br>id: 4176</br>prediction: 0.003</br>HDF: 0.56</br></br>Type: M</br>Air temperature [K]: 302.3</br>Process temperature [K]: 310.7</br>Rotational speed [rpm]: 1544.0</br>Torque [Nm]: 39.7</br>Tool wear [min]: 141.0</br>TWF: 0.0</br>PWF: 0.0</br>OSF: 0.0</br>RNF: 0.0</br>_original_yhat_: 0.003318951211417192</br>"
          ],
          [
           "</br>id: 4176</br>prediction: 0.003</br>HDF: 0.5700000000000001</br></br>Type: M</br>Air temperature [K]: 302.3</br>Process temperature [K]: 310.7</br>Rotational speed [rpm]: 1544.0</br>Torque [Nm]: 39.7</br>Tool wear [min]: 141.0</br>TWF: 0.0</br>PWF: 0.0</br>OSF: 0.0</br>RNF: 0.0</br>_original_yhat_: 0.003318951211417192</br>"
          ],
          [
           "</br>id: 4176</br>prediction: 0.003</br>HDF: 0.58</br></br>Type: M</br>Air temperature [K]: 302.3</br>Process temperature [K]: 310.7</br>Rotational speed [rpm]: 1544.0</br>Torque [Nm]: 39.7</br>Tool wear [min]: 141.0</br>TWF: 0.0</br>PWF: 0.0</br>OSF: 0.0</br>RNF: 0.0</br>_original_yhat_: 0.003318951211417192</br>"
          ],
          [
           "</br>id: 4176</br>prediction: 0.003</br>HDF: 0.59</br></br>Type: M</br>Air temperature [K]: 302.3</br>Process temperature [K]: 310.7</br>Rotational speed [rpm]: 1544.0</br>Torque [Nm]: 39.7</br>Tool wear [min]: 141.0</br>TWF: 0.0</br>PWF: 0.0</br>OSF: 0.0</br>RNF: 0.0</br>_original_yhat_: 0.003318951211417192</br>"
          ],
          [
           "</br>id: 4176</br>prediction: 0.003</br>HDF: 0.6</br></br>Type: M</br>Air temperature [K]: 302.3</br>Process temperature [K]: 310.7</br>Rotational speed [rpm]: 1544.0</br>Torque [Nm]: 39.7</br>Tool wear [min]: 141.0</br>TWF: 0.0</br>PWF: 0.0</br>OSF: 0.0</br>RNF: 0.0</br>_original_yhat_: 0.003318951211417192</br>"
          ],
          [
           "</br>id: 4176</br>prediction: 0.003</br>HDF: 0.61</br></br>Type: M</br>Air temperature [K]: 302.3</br>Process temperature [K]: 310.7</br>Rotational speed [rpm]: 1544.0</br>Torque [Nm]: 39.7</br>Tool wear [min]: 141.0</br>TWF: 0.0</br>PWF: 0.0</br>OSF: 0.0</br>RNF: 0.0</br>_original_yhat_: 0.003318951211417192</br>"
          ],
          [
           "</br>id: 4176</br>prediction: 0.003</br>HDF: 0.62</br></br>Type: M</br>Air temperature [K]: 302.3</br>Process temperature [K]: 310.7</br>Rotational speed [rpm]: 1544.0</br>Torque [Nm]: 39.7</br>Tool wear [min]: 141.0</br>TWF: 0.0</br>PWF: 0.0</br>OSF: 0.0</br>RNF: 0.0</br>_original_yhat_: 0.003318951211417192</br>"
          ],
          [
           "</br>id: 4176</br>prediction: 0.003</br>HDF: 0.63</br></br>Type: M</br>Air temperature [K]: 302.3</br>Process temperature [K]: 310.7</br>Rotational speed [rpm]: 1544.0</br>Torque [Nm]: 39.7</br>Tool wear [min]: 141.0</br>TWF: 0.0</br>PWF: 0.0</br>OSF: 0.0</br>RNF: 0.0</br>_original_yhat_: 0.003318951211417192</br>"
          ],
          [
           "</br>id: 4176</br>prediction: 0.003</br>HDF: 0.64</br></br>Type: M</br>Air temperature [K]: 302.3</br>Process temperature [K]: 310.7</br>Rotational speed [rpm]: 1544.0</br>Torque [Nm]: 39.7</br>Tool wear [min]: 141.0</br>TWF: 0.0</br>PWF: 0.0</br>OSF: 0.0</br>RNF: 0.0</br>_original_yhat_: 0.003318951211417192</br>"
          ],
          [
           "</br>id: 4176</br>prediction: 0.003</br>HDF: 0.65</br></br>Type: M</br>Air temperature [K]: 302.3</br>Process temperature [K]: 310.7</br>Rotational speed [rpm]: 1544.0</br>Torque [Nm]: 39.7</br>Tool wear [min]: 141.0</br>TWF: 0.0</br>PWF: 0.0</br>OSF: 0.0</br>RNF: 0.0</br>_original_yhat_: 0.003318951211417192</br>"
          ],
          [
           "</br>id: 4176</br>prediction: 0.003</br>HDF: 0.66</br></br>Type: M</br>Air temperature [K]: 302.3</br>Process temperature [K]: 310.7</br>Rotational speed [rpm]: 1544.0</br>Torque [Nm]: 39.7</br>Tool wear [min]: 141.0</br>TWF: 0.0</br>PWF: 0.0</br>OSF: 0.0</br>RNF: 0.0</br>_original_yhat_: 0.003318951211417192</br>"
          ],
          [
           "</br>id: 4176</br>prediction: 0.003</br>HDF: 0.67</br></br>Type: M</br>Air temperature [K]: 302.3</br>Process temperature [K]: 310.7</br>Rotational speed [rpm]: 1544.0</br>Torque [Nm]: 39.7</br>Tool wear [min]: 141.0</br>TWF: 0.0</br>PWF: 0.0</br>OSF: 0.0</br>RNF: 0.0</br>_original_yhat_: 0.003318951211417192</br>"
          ],
          [
           "</br>id: 4176</br>prediction: 0.003</br>HDF: 0.68</br></br>Type: M</br>Air temperature [K]: 302.3</br>Process temperature [K]: 310.7</br>Rotational speed [rpm]: 1544.0</br>Torque [Nm]: 39.7</br>Tool wear [min]: 141.0</br>TWF: 0.0</br>PWF: 0.0</br>OSF: 0.0</br>RNF: 0.0</br>_original_yhat_: 0.003318951211417192</br>"
          ],
          [
           "</br>id: 4176</br>prediction: 0.003</br>HDF: 0.6900000000000001</br></br>Type: M</br>Air temperature [K]: 302.3</br>Process temperature [K]: 310.7</br>Rotational speed [rpm]: 1544.0</br>Torque [Nm]: 39.7</br>Tool wear [min]: 141.0</br>TWF: 0.0</br>PWF: 0.0</br>OSF: 0.0</br>RNF: 0.0</br>_original_yhat_: 0.003318951211417192</br>"
          ],
          [
           "</br>id: 4176</br>prediction: 0.003</br>HDF: 0.7000000000000001</br></br>Type: M</br>Air temperature [K]: 302.3</br>Process temperature [K]: 310.7</br>Rotational speed [rpm]: 1544.0</br>Torque [Nm]: 39.7</br>Tool wear [min]: 141.0</br>TWF: 0.0</br>PWF: 0.0</br>OSF: 0.0</br>RNF: 0.0</br>_original_yhat_: 0.003318951211417192</br>"
          ],
          [
           "</br>id: 4176</br>prediction: 0.003</br>HDF: 0.71</br></br>Type: M</br>Air temperature [K]: 302.3</br>Process temperature [K]: 310.7</br>Rotational speed [rpm]: 1544.0</br>Torque [Nm]: 39.7</br>Tool wear [min]: 141.0</br>TWF: 0.0</br>PWF: 0.0</br>OSF: 0.0</br>RNF: 0.0</br>_original_yhat_: 0.003318951211417192</br>"
          ],
          [
           "</br>id: 4176</br>prediction: 0.003</br>HDF: 0.72</br></br>Type: M</br>Air temperature [K]: 302.3</br>Process temperature [K]: 310.7</br>Rotational speed [rpm]: 1544.0</br>Torque [Nm]: 39.7</br>Tool wear [min]: 141.0</br>TWF: 0.0</br>PWF: 0.0</br>OSF: 0.0</br>RNF: 0.0</br>_original_yhat_: 0.003318951211417192</br>"
          ],
          [
           "</br>id: 4176</br>prediction: 0.003</br>HDF: 0.73</br></br>Type: M</br>Air temperature [K]: 302.3</br>Process temperature [K]: 310.7</br>Rotational speed [rpm]: 1544.0</br>Torque [Nm]: 39.7</br>Tool wear [min]: 141.0</br>TWF: 0.0</br>PWF: 0.0</br>OSF: 0.0</br>RNF: 0.0</br>_original_yhat_: 0.003318951211417192</br>"
          ],
          [
           "</br>id: 4176</br>prediction: 0.003</br>HDF: 0.74</br></br>Type: M</br>Air temperature [K]: 302.3</br>Process temperature [K]: 310.7</br>Rotational speed [rpm]: 1544.0</br>Torque [Nm]: 39.7</br>Tool wear [min]: 141.0</br>TWF: 0.0</br>PWF: 0.0</br>OSF: 0.0</br>RNF: 0.0</br>_original_yhat_: 0.003318951211417192</br>"
          ],
          [
           "</br>id: 4176</br>prediction: 0.003</br>HDF: 0.75</br></br>Type: M</br>Air temperature [K]: 302.3</br>Process temperature [K]: 310.7</br>Rotational speed [rpm]: 1544.0</br>Torque [Nm]: 39.7</br>Tool wear [min]: 141.0</br>TWF: 0.0</br>PWF: 0.0</br>OSF: 0.0</br>RNF: 0.0</br>_original_yhat_: 0.003318951211417192</br>"
          ],
          [
           "</br>id: 4176</br>prediction: 0.003</br>HDF: 0.76</br></br>Type: M</br>Air temperature [K]: 302.3</br>Process temperature [K]: 310.7</br>Rotational speed [rpm]: 1544.0</br>Torque [Nm]: 39.7</br>Tool wear [min]: 141.0</br>TWF: 0.0</br>PWF: 0.0</br>OSF: 0.0</br>RNF: 0.0</br>_original_yhat_: 0.003318951211417192</br>"
          ],
          [
           "</br>id: 4176</br>prediction: 0.003</br>HDF: 0.77</br></br>Type: M</br>Air temperature [K]: 302.3</br>Process temperature [K]: 310.7</br>Rotational speed [rpm]: 1544.0</br>Torque [Nm]: 39.7</br>Tool wear [min]: 141.0</br>TWF: 0.0</br>PWF: 0.0</br>OSF: 0.0</br>RNF: 0.0</br>_original_yhat_: 0.003318951211417192</br>"
          ],
          [
           "</br>id: 4176</br>prediction: 0.003</br>HDF: 0.78</br></br>Type: M</br>Air temperature [K]: 302.3</br>Process temperature [K]: 310.7</br>Rotational speed [rpm]: 1544.0</br>Torque [Nm]: 39.7</br>Tool wear [min]: 141.0</br>TWF: 0.0</br>PWF: 0.0</br>OSF: 0.0</br>RNF: 0.0</br>_original_yhat_: 0.003318951211417192</br>"
          ],
          [
           "</br>id: 4176</br>prediction: 0.003</br>HDF: 0.79</br></br>Type: M</br>Air temperature [K]: 302.3</br>Process temperature [K]: 310.7</br>Rotational speed [rpm]: 1544.0</br>Torque [Nm]: 39.7</br>Tool wear [min]: 141.0</br>TWF: 0.0</br>PWF: 0.0</br>OSF: 0.0</br>RNF: 0.0</br>_original_yhat_: 0.003318951211417192</br>"
          ],
          [
           "</br>id: 4176</br>prediction: 0.003</br>HDF: 0.8</br></br>Type: M</br>Air temperature [K]: 302.3</br>Process temperature [K]: 310.7</br>Rotational speed [rpm]: 1544.0</br>Torque [Nm]: 39.7</br>Tool wear [min]: 141.0</br>TWF: 0.0</br>PWF: 0.0</br>OSF: 0.0</br>RNF: 0.0</br>_original_yhat_: 0.003318951211417192</br>"
          ],
          [
           "</br>id: 4176</br>prediction: 0.003</br>HDF: 0.81</br></br>Type: M</br>Air temperature [K]: 302.3</br>Process temperature [K]: 310.7</br>Rotational speed [rpm]: 1544.0</br>Torque [Nm]: 39.7</br>Tool wear [min]: 141.0</br>TWF: 0.0</br>PWF: 0.0</br>OSF: 0.0</br>RNF: 0.0</br>_original_yhat_: 0.003318951211417192</br>"
          ],
          [
           "</br>id: 4176</br>prediction: 0.003</br>HDF: 0.8200000000000001</br></br>Type: M</br>Air temperature [K]: 302.3</br>Process temperature [K]: 310.7</br>Rotational speed [rpm]: 1544.0</br>Torque [Nm]: 39.7</br>Tool wear [min]: 141.0</br>TWF: 0.0</br>PWF: 0.0</br>OSF: 0.0</br>RNF: 0.0</br>_original_yhat_: 0.003318951211417192</br>"
          ],
          [
           "</br>id: 4176</br>prediction: 0.003</br>HDF: 0.8300000000000001</br></br>Type: M</br>Air temperature [K]: 302.3</br>Process temperature [K]: 310.7</br>Rotational speed [rpm]: 1544.0</br>Torque [Nm]: 39.7</br>Tool wear [min]: 141.0</br>TWF: 0.0</br>PWF: 0.0</br>OSF: 0.0</br>RNF: 0.0</br>_original_yhat_: 0.003318951211417192</br>"
          ],
          [
           "</br>id: 4176</br>prediction: 0.003</br>HDF: 0.84</br></br>Type: M</br>Air temperature [K]: 302.3</br>Process temperature [K]: 310.7</br>Rotational speed [rpm]: 1544.0</br>Torque [Nm]: 39.7</br>Tool wear [min]: 141.0</br>TWF: 0.0</br>PWF: 0.0</br>OSF: 0.0</br>RNF: 0.0</br>_original_yhat_: 0.003318951211417192</br>"
          ],
          [
           "</br>id: 4176</br>prediction: 0.003</br>HDF: 0.85</br></br>Type: M</br>Air temperature [K]: 302.3</br>Process temperature [K]: 310.7</br>Rotational speed [rpm]: 1544.0</br>Torque [Nm]: 39.7</br>Tool wear [min]: 141.0</br>TWF: 0.0</br>PWF: 0.0</br>OSF: 0.0</br>RNF: 0.0</br>_original_yhat_: 0.003318951211417192</br>"
          ],
          [
           "</br>id: 4176</br>prediction: 0.003</br>HDF: 0.86</br></br>Type: M</br>Air temperature [K]: 302.3</br>Process temperature [K]: 310.7</br>Rotational speed [rpm]: 1544.0</br>Torque [Nm]: 39.7</br>Tool wear [min]: 141.0</br>TWF: 0.0</br>PWF: 0.0</br>OSF: 0.0</br>RNF: 0.0</br>_original_yhat_: 0.003318951211417192</br>"
          ],
          [
           "</br>id: 4176</br>prediction: 0.003</br>HDF: 0.87</br></br>Type: M</br>Air temperature [K]: 302.3</br>Process temperature [K]: 310.7</br>Rotational speed [rpm]: 1544.0</br>Torque [Nm]: 39.7</br>Tool wear [min]: 141.0</br>TWF: 0.0</br>PWF: 0.0</br>OSF: 0.0</br>RNF: 0.0</br>_original_yhat_: 0.003318951211417192</br>"
          ],
          [
           "</br>id: 4176</br>prediction: 0.003</br>HDF: 0.88</br></br>Type: M</br>Air temperature [K]: 302.3</br>Process temperature [K]: 310.7</br>Rotational speed [rpm]: 1544.0</br>Torque [Nm]: 39.7</br>Tool wear [min]: 141.0</br>TWF: 0.0</br>PWF: 0.0</br>OSF: 0.0</br>RNF: 0.0</br>_original_yhat_: 0.003318951211417192</br>"
          ],
          [
           "</br>id: 4176</br>prediction: 0.003</br>HDF: 0.89</br></br>Type: M</br>Air temperature [K]: 302.3</br>Process temperature [K]: 310.7</br>Rotational speed [rpm]: 1544.0</br>Torque [Nm]: 39.7</br>Tool wear [min]: 141.0</br>TWF: 0.0</br>PWF: 0.0</br>OSF: 0.0</br>RNF: 0.0</br>_original_yhat_: 0.003318951211417192</br>"
          ],
          [
           "</br>id: 4176</br>prediction: 0.003</br>HDF: 0.9</br></br>Type: M</br>Air temperature [K]: 302.3</br>Process temperature [K]: 310.7</br>Rotational speed [rpm]: 1544.0</br>Torque [Nm]: 39.7</br>Tool wear [min]: 141.0</br>TWF: 0.0</br>PWF: 0.0</br>OSF: 0.0</br>RNF: 0.0</br>_original_yhat_: 0.003318951211417192</br>"
          ],
          [
           "</br>id: 4176</br>prediction: 0.003</br>HDF: 0.91</br></br>Type: M</br>Air temperature [K]: 302.3</br>Process temperature [K]: 310.7</br>Rotational speed [rpm]: 1544.0</br>Torque [Nm]: 39.7</br>Tool wear [min]: 141.0</br>TWF: 0.0</br>PWF: 0.0</br>OSF: 0.0</br>RNF: 0.0</br>_original_yhat_: 0.003318951211417192</br>"
          ],
          [
           "</br>id: 4176</br>prediction: 0.003</br>HDF: 0.92</br></br>Type: M</br>Air temperature [K]: 302.3</br>Process temperature [K]: 310.7</br>Rotational speed [rpm]: 1544.0</br>Torque [Nm]: 39.7</br>Tool wear [min]: 141.0</br>TWF: 0.0</br>PWF: 0.0</br>OSF: 0.0</br>RNF: 0.0</br>_original_yhat_: 0.003318951211417192</br>"
          ],
          [
           "</br>id: 4176</br>prediction: 0.003</br>HDF: 0.93</br></br>Type: M</br>Air temperature [K]: 302.3</br>Process temperature [K]: 310.7</br>Rotational speed [rpm]: 1544.0</br>Torque [Nm]: 39.7</br>Tool wear [min]: 141.0</br>TWF: 0.0</br>PWF: 0.0</br>OSF: 0.0</br>RNF: 0.0</br>_original_yhat_: 0.003318951211417192</br>"
          ],
          [
           "</br>id: 4176</br>prediction: 0.003</br>HDF: 0.9400000000000001</br></br>Type: M</br>Air temperature [K]: 302.3</br>Process temperature [K]: 310.7</br>Rotational speed [rpm]: 1544.0</br>Torque [Nm]: 39.7</br>Tool wear [min]: 141.0</br>TWF: 0.0</br>PWF: 0.0</br>OSF: 0.0</br>RNF: 0.0</br>_original_yhat_: 0.003318951211417192</br>"
          ],
          [
           "</br>id: 4176</br>prediction: 0.003</br>HDF: 0.9500000000000001</br></br>Type: M</br>Air temperature [K]: 302.3</br>Process temperature [K]: 310.7</br>Rotational speed [rpm]: 1544.0</br>Torque [Nm]: 39.7</br>Tool wear [min]: 141.0</br>TWF: 0.0</br>PWF: 0.0</br>OSF: 0.0</br>RNF: 0.0</br>_original_yhat_: 0.003318951211417192</br>"
          ],
          [
           "</br>id: 4176</br>prediction: 0.003</br>HDF: 0.96</br></br>Type: M</br>Air temperature [K]: 302.3</br>Process temperature [K]: 310.7</br>Rotational speed [rpm]: 1544.0</br>Torque [Nm]: 39.7</br>Tool wear [min]: 141.0</br>TWF: 0.0</br>PWF: 0.0</br>OSF: 0.0</br>RNF: 0.0</br>_original_yhat_: 0.003318951211417192</br>"
          ],
          [
           "</br>id: 4176</br>prediction: 0.003</br>HDF: 0.97</br></br>Type: M</br>Air temperature [K]: 302.3</br>Process temperature [K]: 310.7</br>Rotational speed [rpm]: 1544.0</br>Torque [Nm]: 39.7</br>Tool wear [min]: 141.0</br>TWF: 0.0</br>PWF: 0.0</br>OSF: 0.0</br>RNF: 0.0</br>_original_yhat_: 0.003318951211417192</br>"
          ],
          [
           "</br>id: 4176</br>prediction: 0.003</br>HDF: 0.98</br></br>Type: M</br>Air temperature [K]: 302.3</br>Process temperature [K]: 310.7</br>Rotational speed [rpm]: 1544.0</br>Torque [Nm]: 39.7</br>Tool wear [min]: 141.0</br>TWF: 0.0</br>PWF: 0.0</br>OSF: 0.0</br>RNF: 0.0</br>_original_yhat_: 0.003318951211417192</br>"
          ],
          [
           "</br>id: 4176</br>prediction: 0.003</br>HDF: 0.99</br></br>Type: M</br>Air temperature [K]: 302.3</br>Process temperature [K]: 310.7</br>Rotational speed [rpm]: 1544.0</br>Torque [Nm]: 39.7</br>Tool wear [min]: 141.0</br>TWF: 0.0</br>PWF: 0.0</br>OSF: 0.0</br>RNF: 0.0</br>_original_yhat_: 0.003318951211417192</br>"
          ],
          [
           "</br>id: 4176</br>prediction: 0.003</br>HDF: 1.0</br></br>Type: M</br>Air temperature [K]: 302.3</br>Process temperature [K]: 310.7</br>Rotational speed [rpm]: 1544.0</br>Torque [Nm]: 39.7</br>Tool wear [min]: 141.0</br>TWF: 0.0</br>PWF: 0.0</br>OSF: 0.0</br>RNF: 0.0</br>_original_yhat_: 0.003318951211417192</br>"
          ]
         ],
         "hovertemplate": "%{customdata[0]}<extra></extra>",
         "legendgroup": "testing",
         "line": {
          "color": "#46bac2",
          "dash": "solid",
          "width": 2
         },
         "marker": {
          "symbol": "circle"
         },
         "mode": "lines",
         "name": "testing",
         "opacity": 1,
         "showlegend": false,
         "type": "scattergl",
         "x": [
          0,
          0.01,
          0.02,
          0.03,
          0.04,
          0.05,
          0.06,
          0.07,
          0.08,
          0.09,
          0.1,
          0.11,
          0.12,
          0.13,
          0.14,
          0.15,
          0.16,
          0.17,
          0.18,
          0.19,
          0.2,
          0.21,
          0.22,
          0.23,
          0.24,
          0.25,
          0.26,
          0.27,
          0.28,
          0.29,
          0.3,
          0.31,
          0.32,
          0.33,
          0.34,
          0.35000000000000003,
          0.36,
          0.37,
          0.38,
          0.39,
          0.4,
          0.41000000000000003,
          0.42,
          0.43,
          0.44,
          0.45,
          0.46,
          0.47000000000000003,
          0.48,
          0.49,
          0.5,
          0.51,
          0.52,
          0.53,
          0.54,
          0.55,
          0.56,
          0.5700000000000001,
          0.58,
          0.59,
          0.6,
          0.61,
          0.62,
          0.63,
          0.64,
          0.65,
          0.66,
          0.67,
          0.68,
          0.6900000000000001,
          0.7000000000000001,
          0.71,
          0.72,
          0.73,
          0.74,
          0.75,
          0.76,
          0.77,
          0.78,
          0.79,
          0.8,
          0.81,
          0.8200000000000001,
          0.8300000000000001,
          0.84,
          0.85,
          0.86,
          0.87,
          0.88,
          0.89,
          0.9,
          0.91,
          0.92,
          0.93,
          0.9400000000000001,
          0.9500000000000001,
          0.96,
          0.97,
          0.98,
          0.99,
          1
         ],
         "xaxis": "x3",
         "y": [
          0.003318951211417192,
          0.003318951211417192,
          0.003318951211417192,
          0.003318951211417192,
          0.003318951211417192,
          0.003318951211417192,
          0.003318951211417192,
          0.003318951211417192,
          0.003318951211417192,
          0.003318951211417192,
          0.003318951211417192,
          0.003318951211417192,
          0.003318951211417192,
          0.003318951211417192,
          0.003318951211417192,
          0.003318951211417192,
          0.003318951211417192,
          0.003318951211417192,
          0.003318951211417192,
          0.003318951211417192,
          0.003318951211417192,
          0.003318951211417192,
          0.003318951211417192,
          0.003318951211417192,
          0.003318951211417192,
          0.003318951211417192,
          0.003318951211417192,
          0.003318951211417192,
          0.003318951211417192,
          0.003318951211417192,
          0.003318951211417192,
          0.003318951211417192,
          0.003318951211417192,
          0.003318951211417192,
          0.003318951211417192,
          0.003318951211417192,
          0.003318951211417192,
          0.003318951211417192,
          0.003318951211417192,
          0.003318951211417192,
          0.003318951211417192,
          0.003318951211417192,
          0.003318951211417192,
          0.003318951211417192,
          0.003318951211417192,
          0.003318951211417192,
          0.003318951211417192,
          0.003318951211417192,
          0.003318951211417192,
          0.003318951211417192,
          0.003318951211417192,
          0.003318951211417192,
          0.003318951211417192,
          0.003318951211417192,
          0.003318951211417192,
          0.003318951211417192,
          0.003318951211417192,
          0.003318951211417192,
          0.003318951211417192,
          0.003318951211417192,
          0.003318951211417192,
          0.003318951211417192,
          0.003318951211417192,
          0.003318951211417192,
          0.003318951211417192,
          0.003318951211417192,
          0.003318951211417192,
          0.003318951211417192,
          0.003318951211417192,
          0.003318951211417192,
          0.003318951211417192,
          0.003318951211417192,
          0.003318951211417192,
          0.003318951211417192,
          0.003318951211417192,
          0.003318951211417192,
          0.003318951211417192,
          0.003318951211417192,
          0.003318951211417192,
          0.003318951211417192,
          0.003318951211417192,
          0.003318951211417192,
          0.003318951211417192,
          0.003318951211417192,
          0.003318951211417192,
          0.003318951211417192,
          0.003318951211417192,
          0.003318951211417192,
          0.003318951211417192,
          0.003318951211417192,
          0.003318951211417192,
          0.003318951211417192,
          0.003318951211417192,
          0.003318951211417192,
          0.003318951211417192,
          0.003318951211417192,
          0.003318951211417192,
          0.003318951211417192,
          0.003318951211417192,
          0.003318951211417192,
          0.003318951211417192
         ],
         "yaxis": "y3"
        },
        {
         "customdata": [
          [
           "</br>id: 4176</br>prediction: 0.003</br>PWF: 0.0</br></br>Type: M</br>Air temperature [K]: 302.3</br>Process temperature [K]: 310.7</br>Rotational speed [rpm]: 1544.0</br>Torque [Nm]: 39.7</br>Tool wear [min]: 141.0</br>TWF: 0.0</br>HDF: 0.0</br>OSF: 0.0</br>RNF: 0.0</br>_original_yhat_: 0.003318951211417192</br>"
          ],
          [
           "</br>id: 4176</br>prediction: 0.003</br>PWF: 0.01</br></br>Type: M</br>Air temperature [K]: 302.3</br>Process temperature [K]: 310.7</br>Rotational speed [rpm]: 1544.0</br>Torque [Nm]: 39.7</br>Tool wear [min]: 141.0</br>TWF: 0.0</br>HDF: 0.0</br>OSF: 0.0</br>RNF: 0.0</br>_original_yhat_: 0.003318951211417192</br>"
          ],
          [
           "</br>id: 4176</br>prediction: 0.003</br>PWF: 0.02</br></br>Type: M</br>Air temperature [K]: 302.3</br>Process temperature [K]: 310.7</br>Rotational speed [rpm]: 1544.0</br>Torque [Nm]: 39.7</br>Tool wear [min]: 141.0</br>TWF: 0.0</br>HDF: 0.0</br>OSF: 0.0</br>RNF: 0.0</br>_original_yhat_: 0.003318951211417192</br>"
          ],
          [
           "</br>id: 4176</br>prediction: 0.003</br>PWF: 0.03</br></br>Type: M</br>Air temperature [K]: 302.3</br>Process temperature [K]: 310.7</br>Rotational speed [rpm]: 1544.0</br>Torque [Nm]: 39.7</br>Tool wear [min]: 141.0</br>TWF: 0.0</br>HDF: 0.0</br>OSF: 0.0</br>RNF: 0.0</br>_original_yhat_: 0.003318951211417192</br>"
          ],
          [
           "</br>id: 4176</br>prediction: 0.003</br>PWF: 0.04</br></br>Type: M</br>Air temperature [K]: 302.3</br>Process temperature [K]: 310.7</br>Rotational speed [rpm]: 1544.0</br>Torque [Nm]: 39.7</br>Tool wear [min]: 141.0</br>TWF: 0.0</br>HDF: 0.0</br>OSF: 0.0</br>RNF: 0.0</br>_original_yhat_: 0.003318951211417192</br>"
          ],
          [
           "</br>id: 4176</br>prediction: 0.003</br>PWF: 0.05</br></br>Type: M</br>Air temperature [K]: 302.3</br>Process temperature [K]: 310.7</br>Rotational speed [rpm]: 1544.0</br>Torque [Nm]: 39.7</br>Tool wear [min]: 141.0</br>TWF: 0.0</br>HDF: 0.0</br>OSF: 0.0</br>RNF: 0.0</br>_original_yhat_: 0.003318951211417192</br>"
          ],
          [
           "</br>id: 4176</br>prediction: 0.003</br>PWF: 0.06</br></br>Type: M</br>Air temperature [K]: 302.3</br>Process temperature [K]: 310.7</br>Rotational speed [rpm]: 1544.0</br>Torque [Nm]: 39.7</br>Tool wear [min]: 141.0</br>TWF: 0.0</br>HDF: 0.0</br>OSF: 0.0</br>RNF: 0.0</br>_original_yhat_: 0.003318951211417192</br>"
          ],
          [
           "</br>id: 4176</br>prediction: 0.003</br>PWF: 0.07</br></br>Type: M</br>Air temperature [K]: 302.3</br>Process temperature [K]: 310.7</br>Rotational speed [rpm]: 1544.0</br>Torque [Nm]: 39.7</br>Tool wear [min]: 141.0</br>TWF: 0.0</br>HDF: 0.0</br>OSF: 0.0</br>RNF: 0.0</br>_original_yhat_: 0.003318951211417192</br>"
          ],
          [
           "</br>id: 4176</br>prediction: 0.003</br>PWF: 0.08</br></br>Type: M</br>Air temperature [K]: 302.3</br>Process temperature [K]: 310.7</br>Rotational speed [rpm]: 1544.0</br>Torque [Nm]: 39.7</br>Tool wear [min]: 141.0</br>TWF: 0.0</br>HDF: 0.0</br>OSF: 0.0</br>RNF: 0.0</br>_original_yhat_: 0.003318951211417192</br>"
          ],
          [
           "</br>id: 4176</br>prediction: 0.003</br>PWF: 0.09</br></br>Type: M</br>Air temperature [K]: 302.3</br>Process temperature [K]: 310.7</br>Rotational speed [rpm]: 1544.0</br>Torque [Nm]: 39.7</br>Tool wear [min]: 141.0</br>TWF: 0.0</br>HDF: 0.0</br>OSF: 0.0</br>RNF: 0.0</br>_original_yhat_: 0.003318951211417192</br>"
          ],
          [
           "</br>id: 4176</br>prediction: 0.003</br>PWF: 0.1</br></br>Type: M</br>Air temperature [K]: 302.3</br>Process temperature [K]: 310.7</br>Rotational speed [rpm]: 1544.0</br>Torque [Nm]: 39.7</br>Tool wear [min]: 141.0</br>TWF: 0.0</br>HDF: 0.0</br>OSF: 0.0</br>RNF: 0.0</br>_original_yhat_: 0.003318951211417192</br>"
          ],
          [
           "</br>id: 4176</br>prediction: 0.003</br>PWF: 0.11</br></br>Type: M</br>Air temperature [K]: 302.3</br>Process temperature [K]: 310.7</br>Rotational speed [rpm]: 1544.0</br>Torque [Nm]: 39.7</br>Tool wear [min]: 141.0</br>TWF: 0.0</br>HDF: 0.0</br>OSF: 0.0</br>RNF: 0.0</br>_original_yhat_: 0.003318951211417192</br>"
          ],
          [
           "</br>id: 4176</br>prediction: 0.003</br>PWF: 0.12</br></br>Type: M</br>Air temperature [K]: 302.3</br>Process temperature [K]: 310.7</br>Rotational speed [rpm]: 1544.0</br>Torque [Nm]: 39.7</br>Tool wear [min]: 141.0</br>TWF: 0.0</br>HDF: 0.0</br>OSF: 0.0</br>RNF: 0.0</br>_original_yhat_: 0.003318951211417192</br>"
          ],
          [
           "</br>id: 4176</br>prediction: 0.003</br>PWF: 0.13</br></br>Type: M</br>Air temperature [K]: 302.3</br>Process temperature [K]: 310.7</br>Rotational speed [rpm]: 1544.0</br>Torque [Nm]: 39.7</br>Tool wear [min]: 141.0</br>TWF: 0.0</br>HDF: 0.0</br>OSF: 0.0</br>RNF: 0.0</br>_original_yhat_: 0.003318951211417192</br>"
          ],
          [
           "</br>id: 4176</br>prediction: 0.003</br>PWF: 0.14</br></br>Type: M</br>Air temperature [K]: 302.3</br>Process temperature [K]: 310.7</br>Rotational speed [rpm]: 1544.0</br>Torque [Nm]: 39.7</br>Tool wear [min]: 141.0</br>TWF: 0.0</br>HDF: 0.0</br>OSF: 0.0</br>RNF: 0.0</br>_original_yhat_: 0.003318951211417192</br>"
          ],
          [
           "</br>id: 4176</br>prediction: 0.003</br>PWF: 0.15</br></br>Type: M</br>Air temperature [K]: 302.3</br>Process temperature [K]: 310.7</br>Rotational speed [rpm]: 1544.0</br>Torque [Nm]: 39.7</br>Tool wear [min]: 141.0</br>TWF: 0.0</br>HDF: 0.0</br>OSF: 0.0</br>RNF: 0.0</br>_original_yhat_: 0.003318951211417192</br>"
          ],
          [
           "</br>id: 4176</br>prediction: 0.003</br>PWF: 0.16</br></br>Type: M</br>Air temperature [K]: 302.3</br>Process temperature [K]: 310.7</br>Rotational speed [rpm]: 1544.0</br>Torque [Nm]: 39.7</br>Tool wear [min]: 141.0</br>TWF: 0.0</br>HDF: 0.0</br>OSF: 0.0</br>RNF: 0.0</br>_original_yhat_: 0.003318951211417192</br>"
          ],
          [
           "</br>id: 4176</br>prediction: 0.003</br>PWF: 0.17</br></br>Type: M</br>Air temperature [K]: 302.3</br>Process temperature [K]: 310.7</br>Rotational speed [rpm]: 1544.0</br>Torque [Nm]: 39.7</br>Tool wear [min]: 141.0</br>TWF: 0.0</br>HDF: 0.0</br>OSF: 0.0</br>RNF: 0.0</br>_original_yhat_: 0.003318951211417192</br>"
          ],
          [
           "</br>id: 4176</br>prediction: 0.003</br>PWF: 0.18</br></br>Type: M</br>Air temperature [K]: 302.3</br>Process temperature [K]: 310.7</br>Rotational speed [rpm]: 1544.0</br>Torque [Nm]: 39.7</br>Tool wear [min]: 141.0</br>TWF: 0.0</br>HDF: 0.0</br>OSF: 0.0</br>RNF: 0.0</br>_original_yhat_: 0.003318951211417192</br>"
          ],
          [
           "</br>id: 4176</br>prediction: 0.003</br>PWF: 0.19</br></br>Type: M</br>Air temperature [K]: 302.3</br>Process temperature [K]: 310.7</br>Rotational speed [rpm]: 1544.0</br>Torque [Nm]: 39.7</br>Tool wear [min]: 141.0</br>TWF: 0.0</br>HDF: 0.0</br>OSF: 0.0</br>RNF: 0.0</br>_original_yhat_: 0.003318951211417192</br>"
          ],
          [
           "</br>id: 4176</br>prediction: 0.003</br>PWF: 0.2</br></br>Type: M</br>Air temperature [K]: 302.3</br>Process temperature [K]: 310.7</br>Rotational speed [rpm]: 1544.0</br>Torque [Nm]: 39.7</br>Tool wear [min]: 141.0</br>TWF: 0.0</br>HDF: 0.0</br>OSF: 0.0</br>RNF: 0.0</br>_original_yhat_: 0.003318951211417192</br>"
          ],
          [
           "</br>id: 4176</br>prediction: 0.003</br>PWF: 0.21</br></br>Type: M</br>Air temperature [K]: 302.3</br>Process temperature [K]: 310.7</br>Rotational speed [rpm]: 1544.0</br>Torque [Nm]: 39.7</br>Tool wear [min]: 141.0</br>TWF: 0.0</br>HDF: 0.0</br>OSF: 0.0</br>RNF: 0.0</br>_original_yhat_: 0.003318951211417192</br>"
          ],
          [
           "</br>id: 4176</br>prediction: 0.003</br>PWF: 0.22</br></br>Type: M</br>Air temperature [K]: 302.3</br>Process temperature [K]: 310.7</br>Rotational speed [rpm]: 1544.0</br>Torque [Nm]: 39.7</br>Tool wear [min]: 141.0</br>TWF: 0.0</br>HDF: 0.0</br>OSF: 0.0</br>RNF: 0.0</br>_original_yhat_: 0.003318951211417192</br>"
          ],
          [
           "</br>id: 4176</br>prediction: 0.003</br>PWF: 0.23</br></br>Type: M</br>Air temperature [K]: 302.3</br>Process temperature [K]: 310.7</br>Rotational speed [rpm]: 1544.0</br>Torque [Nm]: 39.7</br>Tool wear [min]: 141.0</br>TWF: 0.0</br>HDF: 0.0</br>OSF: 0.0</br>RNF: 0.0</br>_original_yhat_: 0.003318951211417192</br>"
          ],
          [
           "</br>id: 4176</br>prediction: 0.003</br>PWF: 0.24</br></br>Type: M</br>Air temperature [K]: 302.3</br>Process temperature [K]: 310.7</br>Rotational speed [rpm]: 1544.0</br>Torque [Nm]: 39.7</br>Tool wear [min]: 141.0</br>TWF: 0.0</br>HDF: 0.0</br>OSF: 0.0</br>RNF: 0.0</br>_original_yhat_: 0.003318951211417192</br>"
          ],
          [
           "</br>id: 4176</br>prediction: 0.003</br>PWF: 0.25</br></br>Type: M</br>Air temperature [K]: 302.3</br>Process temperature [K]: 310.7</br>Rotational speed [rpm]: 1544.0</br>Torque [Nm]: 39.7</br>Tool wear [min]: 141.0</br>TWF: 0.0</br>HDF: 0.0</br>OSF: 0.0</br>RNF: 0.0</br>_original_yhat_: 0.003318951211417192</br>"
          ],
          [
           "</br>id: 4176</br>prediction: 0.003</br>PWF: 0.26</br></br>Type: M</br>Air temperature [K]: 302.3</br>Process temperature [K]: 310.7</br>Rotational speed [rpm]: 1544.0</br>Torque [Nm]: 39.7</br>Tool wear [min]: 141.0</br>TWF: 0.0</br>HDF: 0.0</br>OSF: 0.0</br>RNF: 0.0</br>_original_yhat_: 0.003318951211417192</br>"
          ],
          [
           "</br>id: 4176</br>prediction: 0.003</br>PWF: 0.27</br></br>Type: M</br>Air temperature [K]: 302.3</br>Process temperature [K]: 310.7</br>Rotational speed [rpm]: 1544.0</br>Torque [Nm]: 39.7</br>Tool wear [min]: 141.0</br>TWF: 0.0</br>HDF: 0.0</br>OSF: 0.0</br>RNF: 0.0</br>_original_yhat_: 0.003318951211417192</br>"
          ],
          [
           "</br>id: 4176</br>prediction: 0.003</br>PWF: 0.28</br></br>Type: M</br>Air temperature [K]: 302.3</br>Process temperature [K]: 310.7</br>Rotational speed [rpm]: 1544.0</br>Torque [Nm]: 39.7</br>Tool wear [min]: 141.0</br>TWF: 0.0</br>HDF: 0.0</br>OSF: 0.0</br>RNF: 0.0</br>_original_yhat_: 0.003318951211417192</br>"
          ],
          [
           "</br>id: 4176</br>prediction: 0.003</br>PWF: 0.29</br></br>Type: M</br>Air temperature [K]: 302.3</br>Process temperature [K]: 310.7</br>Rotational speed [rpm]: 1544.0</br>Torque [Nm]: 39.7</br>Tool wear [min]: 141.0</br>TWF: 0.0</br>HDF: 0.0</br>OSF: 0.0</br>RNF: 0.0</br>_original_yhat_: 0.003318951211417192</br>"
          ],
          [
           "</br>id: 4176</br>prediction: 0.003</br>PWF: 0.3</br></br>Type: M</br>Air temperature [K]: 302.3</br>Process temperature [K]: 310.7</br>Rotational speed [rpm]: 1544.0</br>Torque [Nm]: 39.7</br>Tool wear [min]: 141.0</br>TWF: 0.0</br>HDF: 0.0</br>OSF: 0.0</br>RNF: 0.0</br>_original_yhat_: 0.003318951211417192</br>"
          ],
          [
           "</br>id: 4176</br>prediction: 0.003</br>PWF: 0.31</br></br>Type: M</br>Air temperature [K]: 302.3</br>Process temperature [K]: 310.7</br>Rotational speed [rpm]: 1544.0</br>Torque [Nm]: 39.7</br>Tool wear [min]: 141.0</br>TWF: 0.0</br>HDF: 0.0</br>OSF: 0.0</br>RNF: 0.0</br>_original_yhat_: 0.003318951211417192</br>"
          ],
          [
           "</br>id: 4176</br>prediction: 0.003</br>PWF: 0.32</br></br>Type: M</br>Air temperature [K]: 302.3</br>Process temperature [K]: 310.7</br>Rotational speed [rpm]: 1544.0</br>Torque [Nm]: 39.7</br>Tool wear [min]: 141.0</br>TWF: 0.0</br>HDF: 0.0</br>OSF: 0.0</br>RNF: 0.0</br>_original_yhat_: 0.003318951211417192</br>"
          ],
          [
           "</br>id: 4176</br>prediction: 0.003</br>PWF: 0.33</br></br>Type: M</br>Air temperature [K]: 302.3</br>Process temperature [K]: 310.7</br>Rotational speed [rpm]: 1544.0</br>Torque [Nm]: 39.7</br>Tool wear [min]: 141.0</br>TWF: 0.0</br>HDF: 0.0</br>OSF: 0.0</br>RNF: 0.0</br>_original_yhat_: 0.003318951211417192</br>"
          ],
          [
           "</br>id: 4176</br>prediction: 0.003</br>PWF: 0.34</br></br>Type: M</br>Air temperature [K]: 302.3</br>Process temperature [K]: 310.7</br>Rotational speed [rpm]: 1544.0</br>Torque [Nm]: 39.7</br>Tool wear [min]: 141.0</br>TWF: 0.0</br>HDF: 0.0</br>OSF: 0.0</br>RNF: 0.0</br>_original_yhat_: 0.003318951211417192</br>"
          ],
          [
           "</br>id: 4176</br>prediction: 0.003</br>PWF: 0.35000000000000003</br></br>Type: M</br>Air temperature [K]: 302.3</br>Process temperature [K]: 310.7</br>Rotational speed [rpm]: 1544.0</br>Torque [Nm]: 39.7</br>Tool wear [min]: 141.0</br>TWF: 0.0</br>HDF: 0.0</br>OSF: 0.0</br>RNF: 0.0</br>_original_yhat_: 0.003318951211417192</br>"
          ],
          [
           "</br>id: 4176</br>prediction: 0.003</br>PWF: 0.36</br></br>Type: M</br>Air temperature [K]: 302.3</br>Process temperature [K]: 310.7</br>Rotational speed [rpm]: 1544.0</br>Torque [Nm]: 39.7</br>Tool wear [min]: 141.0</br>TWF: 0.0</br>HDF: 0.0</br>OSF: 0.0</br>RNF: 0.0</br>_original_yhat_: 0.003318951211417192</br>"
          ],
          [
           "</br>id: 4176</br>prediction: 0.003</br>PWF: 0.37</br></br>Type: M</br>Air temperature [K]: 302.3</br>Process temperature [K]: 310.7</br>Rotational speed [rpm]: 1544.0</br>Torque [Nm]: 39.7</br>Tool wear [min]: 141.0</br>TWF: 0.0</br>HDF: 0.0</br>OSF: 0.0</br>RNF: 0.0</br>_original_yhat_: 0.003318951211417192</br>"
          ],
          [
           "</br>id: 4176</br>prediction: 0.003</br>PWF: 0.38</br></br>Type: M</br>Air temperature [K]: 302.3</br>Process temperature [K]: 310.7</br>Rotational speed [rpm]: 1544.0</br>Torque [Nm]: 39.7</br>Tool wear [min]: 141.0</br>TWF: 0.0</br>HDF: 0.0</br>OSF: 0.0</br>RNF: 0.0</br>_original_yhat_: 0.003318951211417192</br>"
          ],
          [
           "</br>id: 4176</br>prediction: 0.003</br>PWF: 0.39</br></br>Type: M</br>Air temperature [K]: 302.3</br>Process temperature [K]: 310.7</br>Rotational speed [rpm]: 1544.0</br>Torque [Nm]: 39.7</br>Tool wear [min]: 141.0</br>TWF: 0.0</br>HDF: 0.0</br>OSF: 0.0</br>RNF: 0.0</br>_original_yhat_: 0.003318951211417192</br>"
          ],
          [
           "</br>id: 4176</br>prediction: 0.003</br>PWF: 0.4</br></br>Type: M</br>Air temperature [K]: 302.3</br>Process temperature [K]: 310.7</br>Rotational speed [rpm]: 1544.0</br>Torque [Nm]: 39.7</br>Tool wear [min]: 141.0</br>TWF: 0.0</br>HDF: 0.0</br>OSF: 0.0</br>RNF: 0.0</br>_original_yhat_: 0.003318951211417192</br>"
          ],
          [
           "</br>id: 4176</br>prediction: 0.003</br>PWF: 0.41000000000000003</br></br>Type: M</br>Air temperature [K]: 302.3</br>Process temperature [K]: 310.7</br>Rotational speed [rpm]: 1544.0</br>Torque [Nm]: 39.7</br>Tool wear [min]: 141.0</br>TWF: 0.0</br>HDF: 0.0</br>OSF: 0.0</br>RNF: 0.0</br>_original_yhat_: 0.003318951211417192</br>"
          ],
          [
           "</br>id: 4176</br>prediction: 0.003</br>PWF: 0.42</br></br>Type: M</br>Air temperature [K]: 302.3</br>Process temperature [K]: 310.7</br>Rotational speed [rpm]: 1544.0</br>Torque [Nm]: 39.7</br>Tool wear [min]: 141.0</br>TWF: 0.0</br>HDF: 0.0</br>OSF: 0.0</br>RNF: 0.0</br>_original_yhat_: 0.003318951211417192</br>"
          ],
          [
           "</br>id: 4176</br>prediction: 0.003</br>PWF: 0.43</br></br>Type: M</br>Air temperature [K]: 302.3</br>Process temperature [K]: 310.7</br>Rotational speed [rpm]: 1544.0</br>Torque [Nm]: 39.7</br>Tool wear [min]: 141.0</br>TWF: 0.0</br>HDF: 0.0</br>OSF: 0.0</br>RNF: 0.0</br>_original_yhat_: 0.003318951211417192</br>"
          ],
          [
           "</br>id: 4176</br>prediction: 0.003</br>PWF: 0.44</br></br>Type: M</br>Air temperature [K]: 302.3</br>Process temperature [K]: 310.7</br>Rotational speed [rpm]: 1544.0</br>Torque [Nm]: 39.7</br>Tool wear [min]: 141.0</br>TWF: 0.0</br>HDF: 0.0</br>OSF: 0.0</br>RNF: 0.0</br>_original_yhat_: 0.003318951211417192</br>"
          ],
          [
           "</br>id: 4176</br>prediction: 0.003</br>PWF: 0.45</br></br>Type: M</br>Air temperature [K]: 302.3</br>Process temperature [K]: 310.7</br>Rotational speed [rpm]: 1544.0</br>Torque [Nm]: 39.7</br>Tool wear [min]: 141.0</br>TWF: 0.0</br>HDF: 0.0</br>OSF: 0.0</br>RNF: 0.0</br>_original_yhat_: 0.003318951211417192</br>"
          ],
          [
           "</br>id: 4176</br>prediction: 0.003</br>PWF: 0.46</br></br>Type: M</br>Air temperature [K]: 302.3</br>Process temperature [K]: 310.7</br>Rotational speed [rpm]: 1544.0</br>Torque [Nm]: 39.7</br>Tool wear [min]: 141.0</br>TWF: 0.0</br>HDF: 0.0</br>OSF: 0.0</br>RNF: 0.0</br>_original_yhat_: 0.003318951211417192</br>"
          ],
          [
           "</br>id: 4176</br>prediction: 0.003</br>PWF: 0.47000000000000003</br></br>Type: M</br>Air temperature [K]: 302.3</br>Process temperature [K]: 310.7</br>Rotational speed [rpm]: 1544.0</br>Torque [Nm]: 39.7</br>Tool wear [min]: 141.0</br>TWF: 0.0</br>HDF: 0.0</br>OSF: 0.0</br>RNF: 0.0</br>_original_yhat_: 0.003318951211417192</br>"
          ],
          [
           "</br>id: 4176</br>prediction: 0.003</br>PWF: 0.48</br></br>Type: M</br>Air temperature [K]: 302.3</br>Process temperature [K]: 310.7</br>Rotational speed [rpm]: 1544.0</br>Torque [Nm]: 39.7</br>Tool wear [min]: 141.0</br>TWF: 0.0</br>HDF: 0.0</br>OSF: 0.0</br>RNF: 0.0</br>_original_yhat_: 0.003318951211417192</br>"
          ],
          [
           "</br>id: 4176</br>prediction: 0.003</br>PWF: 0.49</br></br>Type: M</br>Air temperature [K]: 302.3</br>Process temperature [K]: 310.7</br>Rotational speed [rpm]: 1544.0</br>Torque [Nm]: 39.7</br>Tool wear [min]: 141.0</br>TWF: 0.0</br>HDF: 0.0</br>OSF: 0.0</br>RNF: 0.0</br>_original_yhat_: 0.003318951211417192</br>"
          ],
          [
           "</br>id: 4176</br>prediction: 0.003</br>PWF: 0.5</br></br>Type: M</br>Air temperature [K]: 302.3</br>Process temperature [K]: 310.7</br>Rotational speed [rpm]: 1544.0</br>Torque [Nm]: 39.7</br>Tool wear [min]: 141.0</br>TWF: 0.0</br>HDF: 0.0</br>OSF: 0.0</br>RNF: 0.0</br>_original_yhat_: 0.003318951211417192</br>"
          ],
          [
           "</br>id: 4176</br>prediction: 0.003</br>PWF: 0.51</br></br>Type: M</br>Air temperature [K]: 302.3</br>Process temperature [K]: 310.7</br>Rotational speed [rpm]: 1544.0</br>Torque [Nm]: 39.7</br>Tool wear [min]: 141.0</br>TWF: 0.0</br>HDF: 0.0</br>OSF: 0.0</br>RNF: 0.0</br>_original_yhat_: 0.003318951211417192</br>"
          ],
          [
           "</br>id: 4176</br>prediction: 0.003</br>PWF: 0.52</br></br>Type: M</br>Air temperature [K]: 302.3</br>Process temperature [K]: 310.7</br>Rotational speed [rpm]: 1544.0</br>Torque [Nm]: 39.7</br>Tool wear [min]: 141.0</br>TWF: 0.0</br>HDF: 0.0</br>OSF: 0.0</br>RNF: 0.0</br>_original_yhat_: 0.003318951211417192</br>"
          ],
          [
           "</br>id: 4176</br>prediction: 0.003</br>PWF: 0.53</br></br>Type: M</br>Air temperature [K]: 302.3</br>Process temperature [K]: 310.7</br>Rotational speed [rpm]: 1544.0</br>Torque [Nm]: 39.7</br>Tool wear [min]: 141.0</br>TWF: 0.0</br>HDF: 0.0</br>OSF: 0.0</br>RNF: 0.0</br>_original_yhat_: 0.003318951211417192</br>"
          ],
          [
           "</br>id: 4176</br>prediction: 0.003</br>PWF: 0.54</br></br>Type: M</br>Air temperature [K]: 302.3</br>Process temperature [K]: 310.7</br>Rotational speed [rpm]: 1544.0</br>Torque [Nm]: 39.7</br>Tool wear [min]: 141.0</br>TWF: 0.0</br>HDF: 0.0</br>OSF: 0.0</br>RNF: 0.0</br>_original_yhat_: 0.003318951211417192</br>"
          ],
          [
           "</br>id: 4176</br>prediction: 0.003</br>PWF: 0.55</br></br>Type: M</br>Air temperature [K]: 302.3</br>Process temperature [K]: 310.7</br>Rotational speed [rpm]: 1544.0</br>Torque [Nm]: 39.7</br>Tool wear [min]: 141.0</br>TWF: 0.0</br>HDF: 0.0</br>OSF: 0.0</br>RNF: 0.0</br>_original_yhat_: 0.003318951211417192</br>"
          ],
          [
           "</br>id: 4176</br>prediction: 0.003</br>PWF: 0.56</br></br>Type: M</br>Air temperature [K]: 302.3</br>Process temperature [K]: 310.7</br>Rotational speed [rpm]: 1544.0</br>Torque [Nm]: 39.7</br>Tool wear [min]: 141.0</br>TWF: 0.0</br>HDF: 0.0</br>OSF: 0.0</br>RNF: 0.0</br>_original_yhat_: 0.003318951211417192</br>"
          ],
          [
           "</br>id: 4176</br>prediction: 0.003</br>PWF: 0.5700000000000001</br></br>Type: M</br>Air temperature [K]: 302.3</br>Process temperature [K]: 310.7</br>Rotational speed [rpm]: 1544.0</br>Torque [Nm]: 39.7</br>Tool wear [min]: 141.0</br>TWF: 0.0</br>HDF: 0.0</br>OSF: 0.0</br>RNF: 0.0</br>_original_yhat_: 0.003318951211417192</br>"
          ],
          [
           "</br>id: 4176</br>prediction: 0.003</br>PWF: 0.58</br></br>Type: M</br>Air temperature [K]: 302.3</br>Process temperature [K]: 310.7</br>Rotational speed [rpm]: 1544.0</br>Torque [Nm]: 39.7</br>Tool wear [min]: 141.0</br>TWF: 0.0</br>HDF: 0.0</br>OSF: 0.0</br>RNF: 0.0</br>_original_yhat_: 0.003318951211417192</br>"
          ],
          [
           "</br>id: 4176</br>prediction: 0.003</br>PWF: 0.59</br></br>Type: M</br>Air temperature [K]: 302.3</br>Process temperature [K]: 310.7</br>Rotational speed [rpm]: 1544.0</br>Torque [Nm]: 39.7</br>Tool wear [min]: 141.0</br>TWF: 0.0</br>HDF: 0.0</br>OSF: 0.0</br>RNF: 0.0</br>_original_yhat_: 0.003318951211417192</br>"
          ],
          [
           "</br>id: 4176</br>prediction: 0.003</br>PWF: 0.6</br></br>Type: M</br>Air temperature [K]: 302.3</br>Process temperature [K]: 310.7</br>Rotational speed [rpm]: 1544.0</br>Torque [Nm]: 39.7</br>Tool wear [min]: 141.0</br>TWF: 0.0</br>HDF: 0.0</br>OSF: 0.0</br>RNF: 0.0</br>_original_yhat_: 0.003318951211417192</br>"
          ],
          [
           "</br>id: 4176</br>prediction: 0.003</br>PWF: 0.61</br></br>Type: M</br>Air temperature [K]: 302.3</br>Process temperature [K]: 310.7</br>Rotational speed [rpm]: 1544.0</br>Torque [Nm]: 39.7</br>Tool wear [min]: 141.0</br>TWF: 0.0</br>HDF: 0.0</br>OSF: 0.0</br>RNF: 0.0</br>_original_yhat_: 0.003318951211417192</br>"
          ],
          [
           "</br>id: 4176</br>prediction: 0.003</br>PWF: 0.62</br></br>Type: M</br>Air temperature [K]: 302.3</br>Process temperature [K]: 310.7</br>Rotational speed [rpm]: 1544.0</br>Torque [Nm]: 39.7</br>Tool wear [min]: 141.0</br>TWF: 0.0</br>HDF: 0.0</br>OSF: 0.0</br>RNF: 0.0</br>_original_yhat_: 0.003318951211417192</br>"
          ],
          [
           "</br>id: 4176</br>prediction: 0.003</br>PWF: 0.63</br></br>Type: M</br>Air temperature [K]: 302.3</br>Process temperature [K]: 310.7</br>Rotational speed [rpm]: 1544.0</br>Torque [Nm]: 39.7</br>Tool wear [min]: 141.0</br>TWF: 0.0</br>HDF: 0.0</br>OSF: 0.0</br>RNF: 0.0</br>_original_yhat_: 0.003318951211417192</br>"
          ],
          [
           "</br>id: 4176</br>prediction: 0.003</br>PWF: 0.64</br></br>Type: M</br>Air temperature [K]: 302.3</br>Process temperature [K]: 310.7</br>Rotational speed [rpm]: 1544.0</br>Torque [Nm]: 39.7</br>Tool wear [min]: 141.0</br>TWF: 0.0</br>HDF: 0.0</br>OSF: 0.0</br>RNF: 0.0</br>_original_yhat_: 0.003318951211417192</br>"
          ],
          [
           "</br>id: 4176</br>prediction: 0.003</br>PWF: 0.65</br></br>Type: M</br>Air temperature [K]: 302.3</br>Process temperature [K]: 310.7</br>Rotational speed [rpm]: 1544.0</br>Torque [Nm]: 39.7</br>Tool wear [min]: 141.0</br>TWF: 0.0</br>HDF: 0.0</br>OSF: 0.0</br>RNF: 0.0</br>_original_yhat_: 0.003318951211417192</br>"
          ],
          [
           "</br>id: 4176</br>prediction: 0.003</br>PWF: 0.66</br></br>Type: M</br>Air temperature [K]: 302.3</br>Process temperature [K]: 310.7</br>Rotational speed [rpm]: 1544.0</br>Torque [Nm]: 39.7</br>Tool wear [min]: 141.0</br>TWF: 0.0</br>HDF: 0.0</br>OSF: 0.0</br>RNF: 0.0</br>_original_yhat_: 0.003318951211417192</br>"
          ],
          [
           "</br>id: 4176</br>prediction: 0.003</br>PWF: 0.67</br></br>Type: M</br>Air temperature [K]: 302.3</br>Process temperature [K]: 310.7</br>Rotational speed [rpm]: 1544.0</br>Torque [Nm]: 39.7</br>Tool wear [min]: 141.0</br>TWF: 0.0</br>HDF: 0.0</br>OSF: 0.0</br>RNF: 0.0</br>_original_yhat_: 0.003318951211417192</br>"
          ],
          [
           "</br>id: 4176</br>prediction: 0.003</br>PWF: 0.68</br></br>Type: M</br>Air temperature [K]: 302.3</br>Process temperature [K]: 310.7</br>Rotational speed [rpm]: 1544.0</br>Torque [Nm]: 39.7</br>Tool wear [min]: 141.0</br>TWF: 0.0</br>HDF: 0.0</br>OSF: 0.0</br>RNF: 0.0</br>_original_yhat_: 0.003318951211417192</br>"
          ],
          [
           "</br>id: 4176</br>prediction: 0.003</br>PWF: 0.6900000000000001</br></br>Type: M</br>Air temperature [K]: 302.3</br>Process temperature [K]: 310.7</br>Rotational speed [rpm]: 1544.0</br>Torque [Nm]: 39.7</br>Tool wear [min]: 141.0</br>TWF: 0.0</br>HDF: 0.0</br>OSF: 0.0</br>RNF: 0.0</br>_original_yhat_: 0.003318951211417192</br>"
          ],
          [
           "</br>id: 4176</br>prediction: 0.003</br>PWF: 0.7000000000000001</br></br>Type: M</br>Air temperature [K]: 302.3</br>Process temperature [K]: 310.7</br>Rotational speed [rpm]: 1544.0</br>Torque [Nm]: 39.7</br>Tool wear [min]: 141.0</br>TWF: 0.0</br>HDF: 0.0</br>OSF: 0.0</br>RNF: 0.0</br>_original_yhat_: 0.003318951211417192</br>"
          ],
          [
           "</br>id: 4176</br>prediction: 0.003</br>PWF: 0.71</br></br>Type: M</br>Air temperature [K]: 302.3</br>Process temperature [K]: 310.7</br>Rotational speed [rpm]: 1544.0</br>Torque [Nm]: 39.7</br>Tool wear [min]: 141.0</br>TWF: 0.0</br>HDF: 0.0</br>OSF: 0.0</br>RNF: 0.0</br>_original_yhat_: 0.003318951211417192</br>"
          ],
          [
           "</br>id: 4176</br>prediction: 0.003</br>PWF: 0.72</br></br>Type: M</br>Air temperature [K]: 302.3</br>Process temperature [K]: 310.7</br>Rotational speed [rpm]: 1544.0</br>Torque [Nm]: 39.7</br>Tool wear [min]: 141.0</br>TWF: 0.0</br>HDF: 0.0</br>OSF: 0.0</br>RNF: 0.0</br>_original_yhat_: 0.003318951211417192</br>"
          ],
          [
           "</br>id: 4176</br>prediction: 0.003</br>PWF: 0.73</br></br>Type: M</br>Air temperature [K]: 302.3</br>Process temperature [K]: 310.7</br>Rotational speed [rpm]: 1544.0</br>Torque [Nm]: 39.7</br>Tool wear [min]: 141.0</br>TWF: 0.0</br>HDF: 0.0</br>OSF: 0.0</br>RNF: 0.0</br>_original_yhat_: 0.003318951211417192</br>"
          ],
          [
           "</br>id: 4176</br>prediction: 0.003</br>PWF: 0.74</br></br>Type: M</br>Air temperature [K]: 302.3</br>Process temperature [K]: 310.7</br>Rotational speed [rpm]: 1544.0</br>Torque [Nm]: 39.7</br>Tool wear [min]: 141.0</br>TWF: 0.0</br>HDF: 0.0</br>OSF: 0.0</br>RNF: 0.0</br>_original_yhat_: 0.003318951211417192</br>"
          ],
          [
           "</br>id: 4176</br>prediction: 0.003</br>PWF: 0.75</br></br>Type: M</br>Air temperature [K]: 302.3</br>Process temperature [K]: 310.7</br>Rotational speed [rpm]: 1544.0</br>Torque [Nm]: 39.7</br>Tool wear [min]: 141.0</br>TWF: 0.0</br>HDF: 0.0</br>OSF: 0.0</br>RNF: 0.0</br>_original_yhat_: 0.003318951211417192</br>"
          ],
          [
           "</br>id: 4176</br>prediction: 0.003</br>PWF: 0.76</br></br>Type: M</br>Air temperature [K]: 302.3</br>Process temperature [K]: 310.7</br>Rotational speed [rpm]: 1544.0</br>Torque [Nm]: 39.7</br>Tool wear [min]: 141.0</br>TWF: 0.0</br>HDF: 0.0</br>OSF: 0.0</br>RNF: 0.0</br>_original_yhat_: 0.003318951211417192</br>"
          ],
          [
           "</br>id: 4176</br>prediction: 0.003</br>PWF: 0.77</br></br>Type: M</br>Air temperature [K]: 302.3</br>Process temperature [K]: 310.7</br>Rotational speed [rpm]: 1544.0</br>Torque [Nm]: 39.7</br>Tool wear [min]: 141.0</br>TWF: 0.0</br>HDF: 0.0</br>OSF: 0.0</br>RNF: 0.0</br>_original_yhat_: 0.003318951211417192</br>"
          ],
          [
           "</br>id: 4176</br>prediction: 0.003</br>PWF: 0.78</br></br>Type: M</br>Air temperature [K]: 302.3</br>Process temperature [K]: 310.7</br>Rotational speed [rpm]: 1544.0</br>Torque [Nm]: 39.7</br>Tool wear [min]: 141.0</br>TWF: 0.0</br>HDF: 0.0</br>OSF: 0.0</br>RNF: 0.0</br>_original_yhat_: 0.003318951211417192</br>"
          ],
          [
           "</br>id: 4176</br>prediction: 0.003</br>PWF: 0.79</br></br>Type: M</br>Air temperature [K]: 302.3</br>Process temperature [K]: 310.7</br>Rotational speed [rpm]: 1544.0</br>Torque [Nm]: 39.7</br>Tool wear [min]: 141.0</br>TWF: 0.0</br>HDF: 0.0</br>OSF: 0.0</br>RNF: 0.0</br>_original_yhat_: 0.003318951211417192</br>"
          ],
          [
           "</br>id: 4176</br>prediction: 0.003</br>PWF: 0.8</br></br>Type: M</br>Air temperature [K]: 302.3</br>Process temperature [K]: 310.7</br>Rotational speed [rpm]: 1544.0</br>Torque [Nm]: 39.7</br>Tool wear [min]: 141.0</br>TWF: 0.0</br>HDF: 0.0</br>OSF: 0.0</br>RNF: 0.0</br>_original_yhat_: 0.003318951211417192</br>"
          ],
          [
           "</br>id: 4176</br>prediction: 0.003</br>PWF: 0.81</br></br>Type: M</br>Air temperature [K]: 302.3</br>Process temperature [K]: 310.7</br>Rotational speed [rpm]: 1544.0</br>Torque [Nm]: 39.7</br>Tool wear [min]: 141.0</br>TWF: 0.0</br>HDF: 0.0</br>OSF: 0.0</br>RNF: 0.0</br>_original_yhat_: 0.003318951211417192</br>"
          ],
          [
           "</br>id: 4176</br>prediction: 0.003</br>PWF: 0.8200000000000001</br></br>Type: M</br>Air temperature [K]: 302.3</br>Process temperature [K]: 310.7</br>Rotational speed [rpm]: 1544.0</br>Torque [Nm]: 39.7</br>Tool wear [min]: 141.0</br>TWF: 0.0</br>HDF: 0.0</br>OSF: 0.0</br>RNF: 0.0</br>_original_yhat_: 0.003318951211417192</br>"
          ],
          [
           "</br>id: 4176</br>prediction: 0.003</br>PWF: 0.8300000000000001</br></br>Type: M</br>Air temperature [K]: 302.3</br>Process temperature [K]: 310.7</br>Rotational speed [rpm]: 1544.0</br>Torque [Nm]: 39.7</br>Tool wear [min]: 141.0</br>TWF: 0.0</br>HDF: 0.0</br>OSF: 0.0</br>RNF: 0.0</br>_original_yhat_: 0.003318951211417192</br>"
          ],
          [
           "</br>id: 4176</br>prediction: 0.003</br>PWF: 0.84</br></br>Type: M</br>Air temperature [K]: 302.3</br>Process temperature [K]: 310.7</br>Rotational speed [rpm]: 1544.0</br>Torque [Nm]: 39.7</br>Tool wear [min]: 141.0</br>TWF: 0.0</br>HDF: 0.0</br>OSF: 0.0</br>RNF: 0.0</br>_original_yhat_: 0.003318951211417192</br>"
          ],
          [
           "</br>id: 4176</br>prediction: 0.003</br>PWF: 0.85</br></br>Type: M</br>Air temperature [K]: 302.3</br>Process temperature [K]: 310.7</br>Rotational speed [rpm]: 1544.0</br>Torque [Nm]: 39.7</br>Tool wear [min]: 141.0</br>TWF: 0.0</br>HDF: 0.0</br>OSF: 0.0</br>RNF: 0.0</br>_original_yhat_: 0.003318951211417192</br>"
          ],
          [
           "</br>id: 4176</br>prediction: 0.003</br>PWF: 0.86</br></br>Type: M</br>Air temperature [K]: 302.3</br>Process temperature [K]: 310.7</br>Rotational speed [rpm]: 1544.0</br>Torque [Nm]: 39.7</br>Tool wear [min]: 141.0</br>TWF: 0.0</br>HDF: 0.0</br>OSF: 0.0</br>RNF: 0.0</br>_original_yhat_: 0.003318951211417192</br>"
          ],
          [
           "</br>id: 4176</br>prediction: 0.003</br>PWF: 0.87</br></br>Type: M</br>Air temperature [K]: 302.3</br>Process temperature [K]: 310.7</br>Rotational speed [rpm]: 1544.0</br>Torque [Nm]: 39.7</br>Tool wear [min]: 141.0</br>TWF: 0.0</br>HDF: 0.0</br>OSF: 0.0</br>RNF: 0.0</br>_original_yhat_: 0.003318951211417192</br>"
          ],
          [
           "</br>id: 4176</br>prediction: 0.003</br>PWF: 0.88</br></br>Type: M</br>Air temperature [K]: 302.3</br>Process temperature [K]: 310.7</br>Rotational speed [rpm]: 1544.0</br>Torque [Nm]: 39.7</br>Tool wear [min]: 141.0</br>TWF: 0.0</br>HDF: 0.0</br>OSF: 0.0</br>RNF: 0.0</br>_original_yhat_: 0.003318951211417192</br>"
          ],
          [
           "</br>id: 4176</br>prediction: 0.003</br>PWF: 0.89</br></br>Type: M</br>Air temperature [K]: 302.3</br>Process temperature [K]: 310.7</br>Rotational speed [rpm]: 1544.0</br>Torque [Nm]: 39.7</br>Tool wear [min]: 141.0</br>TWF: 0.0</br>HDF: 0.0</br>OSF: 0.0</br>RNF: 0.0</br>_original_yhat_: 0.003318951211417192</br>"
          ],
          [
           "</br>id: 4176</br>prediction: 0.003</br>PWF: 0.9</br></br>Type: M</br>Air temperature [K]: 302.3</br>Process temperature [K]: 310.7</br>Rotational speed [rpm]: 1544.0</br>Torque [Nm]: 39.7</br>Tool wear [min]: 141.0</br>TWF: 0.0</br>HDF: 0.0</br>OSF: 0.0</br>RNF: 0.0</br>_original_yhat_: 0.003318951211417192</br>"
          ],
          [
           "</br>id: 4176</br>prediction: 0.003</br>PWF: 0.91</br></br>Type: M</br>Air temperature [K]: 302.3</br>Process temperature [K]: 310.7</br>Rotational speed [rpm]: 1544.0</br>Torque [Nm]: 39.7</br>Tool wear [min]: 141.0</br>TWF: 0.0</br>HDF: 0.0</br>OSF: 0.0</br>RNF: 0.0</br>_original_yhat_: 0.003318951211417192</br>"
          ],
          [
           "</br>id: 4176</br>prediction: 0.003</br>PWF: 0.92</br></br>Type: M</br>Air temperature [K]: 302.3</br>Process temperature [K]: 310.7</br>Rotational speed [rpm]: 1544.0</br>Torque [Nm]: 39.7</br>Tool wear [min]: 141.0</br>TWF: 0.0</br>HDF: 0.0</br>OSF: 0.0</br>RNF: 0.0</br>_original_yhat_: 0.003318951211417192</br>"
          ],
          [
           "</br>id: 4176</br>prediction: 0.003</br>PWF: 0.93</br></br>Type: M</br>Air temperature [K]: 302.3</br>Process temperature [K]: 310.7</br>Rotational speed [rpm]: 1544.0</br>Torque [Nm]: 39.7</br>Tool wear [min]: 141.0</br>TWF: 0.0</br>HDF: 0.0</br>OSF: 0.0</br>RNF: 0.0</br>_original_yhat_: 0.003318951211417192</br>"
          ],
          [
           "</br>id: 4176</br>prediction: 0.003</br>PWF: 0.9400000000000001</br></br>Type: M</br>Air temperature [K]: 302.3</br>Process temperature [K]: 310.7</br>Rotational speed [rpm]: 1544.0</br>Torque [Nm]: 39.7</br>Tool wear [min]: 141.0</br>TWF: 0.0</br>HDF: 0.0</br>OSF: 0.0</br>RNF: 0.0</br>_original_yhat_: 0.003318951211417192</br>"
          ],
          [
           "</br>id: 4176</br>prediction: 0.003</br>PWF: 0.9500000000000001</br></br>Type: M</br>Air temperature [K]: 302.3</br>Process temperature [K]: 310.7</br>Rotational speed [rpm]: 1544.0</br>Torque [Nm]: 39.7</br>Tool wear [min]: 141.0</br>TWF: 0.0</br>HDF: 0.0</br>OSF: 0.0</br>RNF: 0.0</br>_original_yhat_: 0.003318951211417192</br>"
          ],
          [
           "</br>id: 4176</br>prediction: 0.003</br>PWF: 0.96</br></br>Type: M</br>Air temperature [K]: 302.3</br>Process temperature [K]: 310.7</br>Rotational speed [rpm]: 1544.0</br>Torque [Nm]: 39.7</br>Tool wear [min]: 141.0</br>TWF: 0.0</br>HDF: 0.0</br>OSF: 0.0</br>RNF: 0.0</br>_original_yhat_: 0.003318951211417192</br>"
          ],
          [
           "</br>id: 4176</br>prediction: 0.003</br>PWF: 0.97</br></br>Type: M</br>Air temperature [K]: 302.3</br>Process temperature [K]: 310.7</br>Rotational speed [rpm]: 1544.0</br>Torque [Nm]: 39.7</br>Tool wear [min]: 141.0</br>TWF: 0.0</br>HDF: 0.0</br>OSF: 0.0</br>RNF: 0.0</br>_original_yhat_: 0.003318951211417192</br>"
          ],
          [
           "</br>id: 4176</br>prediction: 0.003</br>PWF: 0.98</br></br>Type: M</br>Air temperature [K]: 302.3</br>Process temperature [K]: 310.7</br>Rotational speed [rpm]: 1544.0</br>Torque [Nm]: 39.7</br>Tool wear [min]: 141.0</br>TWF: 0.0</br>HDF: 0.0</br>OSF: 0.0</br>RNF: 0.0</br>_original_yhat_: 0.003318951211417192</br>"
          ],
          [
           "</br>id: 4176</br>prediction: 0.003</br>PWF: 0.99</br></br>Type: M</br>Air temperature [K]: 302.3</br>Process temperature [K]: 310.7</br>Rotational speed [rpm]: 1544.0</br>Torque [Nm]: 39.7</br>Tool wear [min]: 141.0</br>TWF: 0.0</br>HDF: 0.0</br>OSF: 0.0</br>RNF: 0.0</br>_original_yhat_: 0.003318951211417192</br>"
          ],
          [
           "</br>id: 4176</br>prediction: 0.003</br>PWF: 1.0</br></br>Type: M</br>Air temperature [K]: 302.3</br>Process temperature [K]: 310.7</br>Rotational speed [rpm]: 1544.0</br>Torque [Nm]: 39.7</br>Tool wear [min]: 141.0</br>TWF: 0.0</br>HDF: 0.0</br>OSF: 0.0</br>RNF: 0.0</br>_original_yhat_: 0.003318951211417192</br>"
          ]
         ],
         "hovertemplate": "%{customdata[0]}<extra></extra>",
         "legendgroup": "testing",
         "line": {
          "color": "#46bac2",
          "dash": "solid",
          "width": 2
         },
         "marker": {
          "symbol": "circle"
         },
         "mode": "lines",
         "name": "testing",
         "opacity": 1,
         "showlegend": false,
         "type": "scattergl",
         "x": [
          0,
          0.01,
          0.02,
          0.03,
          0.04,
          0.05,
          0.06,
          0.07,
          0.08,
          0.09,
          0.1,
          0.11,
          0.12,
          0.13,
          0.14,
          0.15,
          0.16,
          0.17,
          0.18,
          0.19,
          0.2,
          0.21,
          0.22,
          0.23,
          0.24,
          0.25,
          0.26,
          0.27,
          0.28,
          0.29,
          0.3,
          0.31,
          0.32,
          0.33,
          0.34,
          0.35000000000000003,
          0.36,
          0.37,
          0.38,
          0.39,
          0.4,
          0.41000000000000003,
          0.42,
          0.43,
          0.44,
          0.45,
          0.46,
          0.47000000000000003,
          0.48,
          0.49,
          0.5,
          0.51,
          0.52,
          0.53,
          0.54,
          0.55,
          0.56,
          0.5700000000000001,
          0.58,
          0.59,
          0.6,
          0.61,
          0.62,
          0.63,
          0.64,
          0.65,
          0.66,
          0.67,
          0.68,
          0.6900000000000001,
          0.7000000000000001,
          0.71,
          0.72,
          0.73,
          0.74,
          0.75,
          0.76,
          0.77,
          0.78,
          0.79,
          0.8,
          0.81,
          0.8200000000000001,
          0.8300000000000001,
          0.84,
          0.85,
          0.86,
          0.87,
          0.88,
          0.89,
          0.9,
          0.91,
          0.92,
          0.93,
          0.9400000000000001,
          0.9500000000000001,
          0.96,
          0.97,
          0.98,
          0.99,
          1
         ],
         "xaxis": "x4",
         "y": [
          0.003318951211417192,
          0.003318951211417192,
          0.003318951211417192,
          0.003318951211417192,
          0.003318951211417192,
          0.003318951211417192,
          0.003318951211417192,
          0.003318951211417192,
          0.003318951211417192,
          0.003318951211417192,
          0.003318951211417192,
          0.003318951211417192,
          0.003318951211417192,
          0.003318951211417192,
          0.003318951211417192,
          0.003318951211417192,
          0.003318951211417192,
          0.003318951211417192,
          0.003318951211417192,
          0.003318951211417192,
          0.003318951211417192,
          0.003318951211417192,
          0.003318951211417192,
          0.003318951211417192,
          0.003318951211417192,
          0.003318951211417192,
          0.003318951211417192,
          0.003318951211417192,
          0.003318951211417192,
          0.003318951211417192,
          0.003318951211417192,
          0.003318951211417192,
          0.003318951211417192,
          0.003318951211417192,
          0.003318951211417192,
          0.003318951211417192,
          0.003318951211417192,
          0.003318951211417192,
          0.003318951211417192,
          0.003318951211417192,
          0.003318951211417192,
          0.003318951211417192,
          0.003318951211417192,
          0.003318951211417192,
          0.003318951211417192,
          0.003318951211417192,
          0.003318951211417192,
          0.003318951211417192,
          0.003318951211417192,
          0.003318951211417192,
          0.003318951211417192,
          0.003318951211417192,
          0.003318951211417192,
          0.003318951211417192,
          0.003318951211417192,
          0.003318951211417192,
          0.003318951211417192,
          0.003318951211417192,
          0.003318951211417192,
          0.003318951211417192,
          0.003318951211417192,
          0.003318951211417192,
          0.003318951211417192,
          0.003318951211417192,
          0.003318951211417192,
          0.003318951211417192,
          0.003318951211417192,
          0.003318951211417192,
          0.003318951211417192,
          0.003318951211417192,
          0.003318951211417192,
          0.003318951211417192,
          0.003318951211417192,
          0.003318951211417192,
          0.003318951211417192,
          0.003318951211417192,
          0.003318951211417192,
          0.003318951211417192,
          0.003318951211417192,
          0.003318951211417192,
          0.003318951211417192,
          0.003318951211417192,
          0.003318951211417192,
          0.003318951211417192,
          0.003318951211417192,
          0.003318951211417192,
          0.003318951211417192,
          0.003318951211417192,
          0.003318951211417192,
          0.003318951211417192,
          0.003318951211417192,
          0.003318951211417192,
          0.003318951211417192,
          0.003318951211417192,
          0.003318951211417192,
          0.003318951211417192,
          0.003318951211417192,
          0.003318951211417192,
          0.003318951211417192,
          0.003318951211417192,
          0.003318951211417192
         ],
         "yaxis": "y4"
        },
        {
         "customdata": [
          [
           "</br>id: 4176</br>prediction: 0.003</br>OSF: 0.0</br></br>Type: M</br>Air temperature [K]: 302.3</br>Process temperature [K]: 310.7</br>Rotational speed [rpm]: 1544.0</br>Torque [Nm]: 39.7</br>Tool wear [min]: 141.0</br>TWF: 0.0</br>HDF: 0.0</br>PWF: 0.0</br>RNF: 0.0</br>_original_yhat_: 0.003318951211417192</br>"
          ],
          [
           "</br>id: 4176</br>prediction: 0.003</br>OSF: 0.01</br></br>Type: M</br>Air temperature [K]: 302.3</br>Process temperature [K]: 310.7</br>Rotational speed [rpm]: 1544.0</br>Torque [Nm]: 39.7</br>Tool wear [min]: 141.0</br>TWF: 0.0</br>HDF: 0.0</br>PWF: 0.0</br>RNF: 0.0</br>_original_yhat_: 0.003318951211417192</br>"
          ],
          [
           "</br>id: 4176</br>prediction: 0.003</br>OSF: 0.02</br></br>Type: M</br>Air temperature [K]: 302.3</br>Process temperature [K]: 310.7</br>Rotational speed [rpm]: 1544.0</br>Torque [Nm]: 39.7</br>Tool wear [min]: 141.0</br>TWF: 0.0</br>HDF: 0.0</br>PWF: 0.0</br>RNF: 0.0</br>_original_yhat_: 0.003318951211417192</br>"
          ],
          [
           "</br>id: 4176</br>prediction: 0.003</br>OSF: 0.03</br></br>Type: M</br>Air temperature [K]: 302.3</br>Process temperature [K]: 310.7</br>Rotational speed [rpm]: 1544.0</br>Torque [Nm]: 39.7</br>Tool wear [min]: 141.0</br>TWF: 0.0</br>HDF: 0.0</br>PWF: 0.0</br>RNF: 0.0</br>_original_yhat_: 0.003318951211417192</br>"
          ],
          [
           "</br>id: 4176</br>prediction: 0.003</br>OSF: 0.04</br></br>Type: M</br>Air temperature [K]: 302.3</br>Process temperature [K]: 310.7</br>Rotational speed [rpm]: 1544.0</br>Torque [Nm]: 39.7</br>Tool wear [min]: 141.0</br>TWF: 0.0</br>HDF: 0.0</br>PWF: 0.0</br>RNF: 0.0</br>_original_yhat_: 0.003318951211417192</br>"
          ],
          [
           "</br>id: 4176</br>prediction: 0.003</br>OSF: 0.05</br></br>Type: M</br>Air temperature [K]: 302.3</br>Process temperature [K]: 310.7</br>Rotational speed [rpm]: 1544.0</br>Torque [Nm]: 39.7</br>Tool wear [min]: 141.0</br>TWF: 0.0</br>HDF: 0.0</br>PWF: 0.0</br>RNF: 0.0</br>_original_yhat_: 0.003318951211417192</br>"
          ],
          [
           "</br>id: 4176</br>prediction: 0.003</br>OSF: 0.06</br></br>Type: M</br>Air temperature [K]: 302.3</br>Process temperature [K]: 310.7</br>Rotational speed [rpm]: 1544.0</br>Torque [Nm]: 39.7</br>Tool wear [min]: 141.0</br>TWF: 0.0</br>HDF: 0.0</br>PWF: 0.0</br>RNF: 0.0</br>_original_yhat_: 0.003318951211417192</br>"
          ],
          [
           "</br>id: 4176</br>prediction: 0.003</br>OSF: 0.07</br></br>Type: M</br>Air temperature [K]: 302.3</br>Process temperature [K]: 310.7</br>Rotational speed [rpm]: 1544.0</br>Torque [Nm]: 39.7</br>Tool wear [min]: 141.0</br>TWF: 0.0</br>HDF: 0.0</br>PWF: 0.0</br>RNF: 0.0</br>_original_yhat_: 0.003318951211417192</br>"
          ],
          [
           "</br>id: 4176</br>prediction: 0.003</br>OSF: 0.08</br></br>Type: M</br>Air temperature [K]: 302.3</br>Process temperature [K]: 310.7</br>Rotational speed [rpm]: 1544.0</br>Torque [Nm]: 39.7</br>Tool wear [min]: 141.0</br>TWF: 0.0</br>HDF: 0.0</br>PWF: 0.0</br>RNF: 0.0</br>_original_yhat_: 0.003318951211417192</br>"
          ],
          [
           "</br>id: 4176</br>prediction: 0.003</br>OSF: 0.09</br></br>Type: M</br>Air temperature [K]: 302.3</br>Process temperature [K]: 310.7</br>Rotational speed [rpm]: 1544.0</br>Torque [Nm]: 39.7</br>Tool wear [min]: 141.0</br>TWF: 0.0</br>HDF: 0.0</br>PWF: 0.0</br>RNF: 0.0</br>_original_yhat_: 0.003318951211417192</br>"
          ],
          [
           "</br>id: 4176</br>prediction: 0.003</br>OSF: 0.1</br></br>Type: M</br>Air temperature [K]: 302.3</br>Process temperature [K]: 310.7</br>Rotational speed [rpm]: 1544.0</br>Torque [Nm]: 39.7</br>Tool wear [min]: 141.0</br>TWF: 0.0</br>HDF: 0.0</br>PWF: 0.0</br>RNF: 0.0</br>_original_yhat_: 0.003318951211417192</br>"
          ],
          [
           "</br>id: 4176</br>prediction: 0.003</br>OSF: 0.11</br></br>Type: M</br>Air temperature [K]: 302.3</br>Process temperature [K]: 310.7</br>Rotational speed [rpm]: 1544.0</br>Torque [Nm]: 39.7</br>Tool wear [min]: 141.0</br>TWF: 0.0</br>HDF: 0.0</br>PWF: 0.0</br>RNF: 0.0</br>_original_yhat_: 0.003318951211417192</br>"
          ],
          [
           "</br>id: 4176</br>prediction: 0.003</br>OSF: 0.12</br></br>Type: M</br>Air temperature [K]: 302.3</br>Process temperature [K]: 310.7</br>Rotational speed [rpm]: 1544.0</br>Torque [Nm]: 39.7</br>Tool wear [min]: 141.0</br>TWF: 0.0</br>HDF: 0.0</br>PWF: 0.0</br>RNF: 0.0</br>_original_yhat_: 0.003318951211417192</br>"
          ],
          [
           "</br>id: 4176</br>prediction: 0.003</br>OSF: 0.13</br></br>Type: M</br>Air temperature [K]: 302.3</br>Process temperature [K]: 310.7</br>Rotational speed [rpm]: 1544.0</br>Torque [Nm]: 39.7</br>Tool wear [min]: 141.0</br>TWF: 0.0</br>HDF: 0.0</br>PWF: 0.0</br>RNF: 0.0</br>_original_yhat_: 0.003318951211417192</br>"
          ],
          [
           "</br>id: 4176</br>prediction: 0.003</br>OSF: 0.14</br></br>Type: M</br>Air temperature [K]: 302.3</br>Process temperature [K]: 310.7</br>Rotational speed [rpm]: 1544.0</br>Torque [Nm]: 39.7</br>Tool wear [min]: 141.0</br>TWF: 0.0</br>HDF: 0.0</br>PWF: 0.0</br>RNF: 0.0</br>_original_yhat_: 0.003318951211417192</br>"
          ],
          [
           "</br>id: 4176</br>prediction: 0.003</br>OSF: 0.15</br></br>Type: M</br>Air temperature [K]: 302.3</br>Process temperature [K]: 310.7</br>Rotational speed [rpm]: 1544.0</br>Torque [Nm]: 39.7</br>Tool wear [min]: 141.0</br>TWF: 0.0</br>HDF: 0.0</br>PWF: 0.0</br>RNF: 0.0</br>_original_yhat_: 0.003318951211417192</br>"
          ],
          [
           "</br>id: 4176</br>prediction: 0.003</br>OSF: 0.16</br></br>Type: M</br>Air temperature [K]: 302.3</br>Process temperature [K]: 310.7</br>Rotational speed [rpm]: 1544.0</br>Torque [Nm]: 39.7</br>Tool wear [min]: 141.0</br>TWF: 0.0</br>HDF: 0.0</br>PWF: 0.0</br>RNF: 0.0</br>_original_yhat_: 0.003318951211417192</br>"
          ],
          [
           "</br>id: 4176</br>prediction: 0.003</br>OSF: 0.17</br></br>Type: M</br>Air temperature [K]: 302.3</br>Process temperature [K]: 310.7</br>Rotational speed [rpm]: 1544.0</br>Torque [Nm]: 39.7</br>Tool wear [min]: 141.0</br>TWF: 0.0</br>HDF: 0.0</br>PWF: 0.0</br>RNF: 0.0</br>_original_yhat_: 0.003318951211417192</br>"
          ],
          [
           "</br>id: 4176</br>prediction: 0.003</br>OSF: 0.18</br></br>Type: M</br>Air temperature [K]: 302.3</br>Process temperature [K]: 310.7</br>Rotational speed [rpm]: 1544.0</br>Torque [Nm]: 39.7</br>Tool wear [min]: 141.0</br>TWF: 0.0</br>HDF: 0.0</br>PWF: 0.0</br>RNF: 0.0</br>_original_yhat_: 0.003318951211417192</br>"
          ],
          [
           "</br>id: 4176</br>prediction: 0.003</br>OSF: 0.19</br></br>Type: M</br>Air temperature [K]: 302.3</br>Process temperature [K]: 310.7</br>Rotational speed [rpm]: 1544.0</br>Torque [Nm]: 39.7</br>Tool wear [min]: 141.0</br>TWF: 0.0</br>HDF: 0.0</br>PWF: 0.0</br>RNF: 0.0</br>_original_yhat_: 0.003318951211417192</br>"
          ],
          [
           "</br>id: 4176</br>prediction: 0.003</br>OSF: 0.2</br></br>Type: M</br>Air temperature [K]: 302.3</br>Process temperature [K]: 310.7</br>Rotational speed [rpm]: 1544.0</br>Torque [Nm]: 39.7</br>Tool wear [min]: 141.0</br>TWF: 0.0</br>HDF: 0.0</br>PWF: 0.0</br>RNF: 0.0</br>_original_yhat_: 0.003318951211417192</br>"
          ],
          [
           "</br>id: 4176</br>prediction: 0.003</br>OSF: 0.21</br></br>Type: M</br>Air temperature [K]: 302.3</br>Process temperature [K]: 310.7</br>Rotational speed [rpm]: 1544.0</br>Torque [Nm]: 39.7</br>Tool wear [min]: 141.0</br>TWF: 0.0</br>HDF: 0.0</br>PWF: 0.0</br>RNF: 0.0</br>_original_yhat_: 0.003318951211417192</br>"
          ],
          [
           "</br>id: 4176</br>prediction: 0.003</br>OSF: 0.22</br></br>Type: M</br>Air temperature [K]: 302.3</br>Process temperature [K]: 310.7</br>Rotational speed [rpm]: 1544.0</br>Torque [Nm]: 39.7</br>Tool wear [min]: 141.0</br>TWF: 0.0</br>HDF: 0.0</br>PWF: 0.0</br>RNF: 0.0</br>_original_yhat_: 0.003318951211417192</br>"
          ],
          [
           "</br>id: 4176</br>prediction: 0.003</br>OSF: 0.23</br></br>Type: M</br>Air temperature [K]: 302.3</br>Process temperature [K]: 310.7</br>Rotational speed [rpm]: 1544.0</br>Torque [Nm]: 39.7</br>Tool wear [min]: 141.0</br>TWF: 0.0</br>HDF: 0.0</br>PWF: 0.0</br>RNF: 0.0</br>_original_yhat_: 0.003318951211417192</br>"
          ],
          [
           "</br>id: 4176</br>prediction: 0.003</br>OSF: 0.24</br></br>Type: M</br>Air temperature [K]: 302.3</br>Process temperature [K]: 310.7</br>Rotational speed [rpm]: 1544.0</br>Torque [Nm]: 39.7</br>Tool wear [min]: 141.0</br>TWF: 0.0</br>HDF: 0.0</br>PWF: 0.0</br>RNF: 0.0</br>_original_yhat_: 0.003318951211417192</br>"
          ],
          [
           "</br>id: 4176</br>prediction: 0.003</br>OSF: 0.25</br></br>Type: M</br>Air temperature [K]: 302.3</br>Process temperature [K]: 310.7</br>Rotational speed [rpm]: 1544.0</br>Torque [Nm]: 39.7</br>Tool wear [min]: 141.0</br>TWF: 0.0</br>HDF: 0.0</br>PWF: 0.0</br>RNF: 0.0</br>_original_yhat_: 0.003318951211417192</br>"
          ],
          [
           "</br>id: 4176</br>prediction: 0.003</br>OSF: 0.26</br></br>Type: M</br>Air temperature [K]: 302.3</br>Process temperature [K]: 310.7</br>Rotational speed [rpm]: 1544.0</br>Torque [Nm]: 39.7</br>Tool wear [min]: 141.0</br>TWF: 0.0</br>HDF: 0.0</br>PWF: 0.0</br>RNF: 0.0</br>_original_yhat_: 0.003318951211417192</br>"
          ],
          [
           "</br>id: 4176</br>prediction: 0.003</br>OSF: 0.27</br></br>Type: M</br>Air temperature [K]: 302.3</br>Process temperature [K]: 310.7</br>Rotational speed [rpm]: 1544.0</br>Torque [Nm]: 39.7</br>Tool wear [min]: 141.0</br>TWF: 0.0</br>HDF: 0.0</br>PWF: 0.0</br>RNF: 0.0</br>_original_yhat_: 0.003318951211417192</br>"
          ],
          [
           "</br>id: 4176</br>prediction: 0.003</br>OSF: 0.28</br></br>Type: M</br>Air temperature [K]: 302.3</br>Process temperature [K]: 310.7</br>Rotational speed [rpm]: 1544.0</br>Torque [Nm]: 39.7</br>Tool wear [min]: 141.0</br>TWF: 0.0</br>HDF: 0.0</br>PWF: 0.0</br>RNF: 0.0</br>_original_yhat_: 0.003318951211417192</br>"
          ],
          [
           "</br>id: 4176</br>prediction: 0.003</br>OSF: 0.29</br></br>Type: M</br>Air temperature [K]: 302.3</br>Process temperature [K]: 310.7</br>Rotational speed [rpm]: 1544.0</br>Torque [Nm]: 39.7</br>Tool wear [min]: 141.0</br>TWF: 0.0</br>HDF: 0.0</br>PWF: 0.0</br>RNF: 0.0</br>_original_yhat_: 0.003318951211417192</br>"
          ],
          [
           "</br>id: 4176</br>prediction: 0.003</br>OSF: 0.3</br></br>Type: M</br>Air temperature [K]: 302.3</br>Process temperature [K]: 310.7</br>Rotational speed [rpm]: 1544.0</br>Torque [Nm]: 39.7</br>Tool wear [min]: 141.0</br>TWF: 0.0</br>HDF: 0.0</br>PWF: 0.0</br>RNF: 0.0</br>_original_yhat_: 0.003318951211417192</br>"
          ],
          [
           "</br>id: 4176</br>prediction: 0.003</br>OSF: 0.31</br></br>Type: M</br>Air temperature [K]: 302.3</br>Process temperature [K]: 310.7</br>Rotational speed [rpm]: 1544.0</br>Torque [Nm]: 39.7</br>Tool wear [min]: 141.0</br>TWF: 0.0</br>HDF: 0.0</br>PWF: 0.0</br>RNF: 0.0</br>_original_yhat_: 0.003318951211417192</br>"
          ],
          [
           "</br>id: 4176</br>prediction: 0.003</br>OSF: 0.32</br></br>Type: M</br>Air temperature [K]: 302.3</br>Process temperature [K]: 310.7</br>Rotational speed [rpm]: 1544.0</br>Torque [Nm]: 39.7</br>Tool wear [min]: 141.0</br>TWF: 0.0</br>HDF: 0.0</br>PWF: 0.0</br>RNF: 0.0</br>_original_yhat_: 0.003318951211417192</br>"
          ],
          [
           "</br>id: 4176</br>prediction: 0.003</br>OSF: 0.33</br></br>Type: M</br>Air temperature [K]: 302.3</br>Process temperature [K]: 310.7</br>Rotational speed [rpm]: 1544.0</br>Torque [Nm]: 39.7</br>Tool wear [min]: 141.0</br>TWF: 0.0</br>HDF: 0.0</br>PWF: 0.0</br>RNF: 0.0</br>_original_yhat_: 0.003318951211417192</br>"
          ],
          [
           "</br>id: 4176</br>prediction: 0.003</br>OSF: 0.34</br></br>Type: M</br>Air temperature [K]: 302.3</br>Process temperature [K]: 310.7</br>Rotational speed [rpm]: 1544.0</br>Torque [Nm]: 39.7</br>Tool wear [min]: 141.0</br>TWF: 0.0</br>HDF: 0.0</br>PWF: 0.0</br>RNF: 0.0</br>_original_yhat_: 0.003318951211417192</br>"
          ],
          [
           "</br>id: 4176</br>prediction: 0.003</br>OSF: 0.35000000000000003</br></br>Type: M</br>Air temperature [K]: 302.3</br>Process temperature [K]: 310.7</br>Rotational speed [rpm]: 1544.0</br>Torque [Nm]: 39.7</br>Tool wear [min]: 141.0</br>TWF: 0.0</br>HDF: 0.0</br>PWF: 0.0</br>RNF: 0.0</br>_original_yhat_: 0.003318951211417192</br>"
          ],
          [
           "</br>id: 4176</br>prediction: 0.003</br>OSF: 0.36</br></br>Type: M</br>Air temperature [K]: 302.3</br>Process temperature [K]: 310.7</br>Rotational speed [rpm]: 1544.0</br>Torque [Nm]: 39.7</br>Tool wear [min]: 141.0</br>TWF: 0.0</br>HDF: 0.0</br>PWF: 0.0</br>RNF: 0.0</br>_original_yhat_: 0.003318951211417192</br>"
          ],
          [
           "</br>id: 4176</br>prediction: 0.003</br>OSF: 0.37</br></br>Type: M</br>Air temperature [K]: 302.3</br>Process temperature [K]: 310.7</br>Rotational speed [rpm]: 1544.0</br>Torque [Nm]: 39.7</br>Tool wear [min]: 141.0</br>TWF: 0.0</br>HDF: 0.0</br>PWF: 0.0</br>RNF: 0.0</br>_original_yhat_: 0.003318951211417192</br>"
          ],
          [
           "</br>id: 4176</br>prediction: 0.003</br>OSF: 0.38</br></br>Type: M</br>Air temperature [K]: 302.3</br>Process temperature [K]: 310.7</br>Rotational speed [rpm]: 1544.0</br>Torque [Nm]: 39.7</br>Tool wear [min]: 141.0</br>TWF: 0.0</br>HDF: 0.0</br>PWF: 0.0</br>RNF: 0.0</br>_original_yhat_: 0.003318951211417192</br>"
          ],
          [
           "</br>id: 4176</br>prediction: 0.003</br>OSF: 0.39</br></br>Type: M</br>Air temperature [K]: 302.3</br>Process temperature [K]: 310.7</br>Rotational speed [rpm]: 1544.0</br>Torque [Nm]: 39.7</br>Tool wear [min]: 141.0</br>TWF: 0.0</br>HDF: 0.0</br>PWF: 0.0</br>RNF: 0.0</br>_original_yhat_: 0.003318951211417192</br>"
          ],
          [
           "</br>id: 4176</br>prediction: 0.003</br>OSF: 0.4</br></br>Type: M</br>Air temperature [K]: 302.3</br>Process temperature [K]: 310.7</br>Rotational speed [rpm]: 1544.0</br>Torque [Nm]: 39.7</br>Tool wear [min]: 141.0</br>TWF: 0.0</br>HDF: 0.0</br>PWF: 0.0</br>RNF: 0.0</br>_original_yhat_: 0.003318951211417192</br>"
          ],
          [
           "</br>id: 4176</br>prediction: 0.003</br>OSF: 0.41000000000000003</br></br>Type: M</br>Air temperature [K]: 302.3</br>Process temperature [K]: 310.7</br>Rotational speed [rpm]: 1544.0</br>Torque [Nm]: 39.7</br>Tool wear [min]: 141.0</br>TWF: 0.0</br>HDF: 0.0</br>PWF: 0.0</br>RNF: 0.0</br>_original_yhat_: 0.003318951211417192</br>"
          ],
          [
           "</br>id: 4176</br>prediction: 0.003</br>OSF: 0.42</br></br>Type: M</br>Air temperature [K]: 302.3</br>Process temperature [K]: 310.7</br>Rotational speed [rpm]: 1544.0</br>Torque [Nm]: 39.7</br>Tool wear [min]: 141.0</br>TWF: 0.0</br>HDF: 0.0</br>PWF: 0.0</br>RNF: 0.0</br>_original_yhat_: 0.003318951211417192</br>"
          ],
          [
           "</br>id: 4176</br>prediction: 0.003</br>OSF: 0.43</br></br>Type: M</br>Air temperature [K]: 302.3</br>Process temperature [K]: 310.7</br>Rotational speed [rpm]: 1544.0</br>Torque [Nm]: 39.7</br>Tool wear [min]: 141.0</br>TWF: 0.0</br>HDF: 0.0</br>PWF: 0.0</br>RNF: 0.0</br>_original_yhat_: 0.003318951211417192</br>"
          ],
          [
           "</br>id: 4176</br>prediction: 0.003</br>OSF: 0.44</br></br>Type: M</br>Air temperature [K]: 302.3</br>Process temperature [K]: 310.7</br>Rotational speed [rpm]: 1544.0</br>Torque [Nm]: 39.7</br>Tool wear [min]: 141.0</br>TWF: 0.0</br>HDF: 0.0</br>PWF: 0.0</br>RNF: 0.0</br>_original_yhat_: 0.003318951211417192</br>"
          ],
          [
           "</br>id: 4176</br>prediction: 0.003</br>OSF: 0.45</br></br>Type: M</br>Air temperature [K]: 302.3</br>Process temperature [K]: 310.7</br>Rotational speed [rpm]: 1544.0</br>Torque [Nm]: 39.7</br>Tool wear [min]: 141.0</br>TWF: 0.0</br>HDF: 0.0</br>PWF: 0.0</br>RNF: 0.0</br>_original_yhat_: 0.003318951211417192</br>"
          ],
          [
           "</br>id: 4176</br>prediction: 0.003</br>OSF: 0.46</br></br>Type: M</br>Air temperature [K]: 302.3</br>Process temperature [K]: 310.7</br>Rotational speed [rpm]: 1544.0</br>Torque [Nm]: 39.7</br>Tool wear [min]: 141.0</br>TWF: 0.0</br>HDF: 0.0</br>PWF: 0.0</br>RNF: 0.0</br>_original_yhat_: 0.003318951211417192</br>"
          ],
          [
           "</br>id: 4176</br>prediction: 0.003</br>OSF: 0.47000000000000003</br></br>Type: M</br>Air temperature [K]: 302.3</br>Process temperature [K]: 310.7</br>Rotational speed [rpm]: 1544.0</br>Torque [Nm]: 39.7</br>Tool wear [min]: 141.0</br>TWF: 0.0</br>HDF: 0.0</br>PWF: 0.0</br>RNF: 0.0</br>_original_yhat_: 0.003318951211417192</br>"
          ],
          [
           "</br>id: 4176</br>prediction: 0.003</br>OSF: 0.48</br></br>Type: M</br>Air temperature [K]: 302.3</br>Process temperature [K]: 310.7</br>Rotational speed [rpm]: 1544.0</br>Torque [Nm]: 39.7</br>Tool wear [min]: 141.0</br>TWF: 0.0</br>HDF: 0.0</br>PWF: 0.0</br>RNF: 0.0</br>_original_yhat_: 0.003318951211417192</br>"
          ],
          [
           "</br>id: 4176</br>prediction: 0.003</br>OSF: 0.49</br></br>Type: M</br>Air temperature [K]: 302.3</br>Process temperature [K]: 310.7</br>Rotational speed [rpm]: 1544.0</br>Torque [Nm]: 39.7</br>Tool wear [min]: 141.0</br>TWF: 0.0</br>HDF: 0.0</br>PWF: 0.0</br>RNF: 0.0</br>_original_yhat_: 0.003318951211417192</br>"
          ],
          [
           "</br>id: 4176</br>prediction: 0.003</br>OSF: 0.5</br></br>Type: M</br>Air temperature [K]: 302.3</br>Process temperature [K]: 310.7</br>Rotational speed [rpm]: 1544.0</br>Torque [Nm]: 39.7</br>Tool wear [min]: 141.0</br>TWF: 0.0</br>HDF: 0.0</br>PWF: 0.0</br>RNF: 0.0</br>_original_yhat_: 0.003318951211417192</br>"
          ],
          [
           "</br>id: 4176</br>prediction: 0.003</br>OSF: 0.51</br></br>Type: M</br>Air temperature [K]: 302.3</br>Process temperature [K]: 310.7</br>Rotational speed [rpm]: 1544.0</br>Torque [Nm]: 39.7</br>Tool wear [min]: 141.0</br>TWF: 0.0</br>HDF: 0.0</br>PWF: 0.0</br>RNF: 0.0</br>_original_yhat_: 0.003318951211417192</br>"
          ],
          [
           "</br>id: 4176</br>prediction: 0.003</br>OSF: 0.52</br></br>Type: M</br>Air temperature [K]: 302.3</br>Process temperature [K]: 310.7</br>Rotational speed [rpm]: 1544.0</br>Torque [Nm]: 39.7</br>Tool wear [min]: 141.0</br>TWF: 0.0</br>HDF: 0.0</br>PWF: 0.0</br>RNF: 0.0</br>_original_yhat_: 0.003318951211417192</br>"
          ],
          [
           "</br>id: 4176</br>prediction: 0.003</br>OSF: 0.53</br></br>Type: M</br>Air temperature [K]: 302.3</br>Process temperature [K]: 310.7</br>Rotational speed [rpm]: 1544.0</br>Torque [Nm]: 39.7</br>Tool wear [min]: 141.0</br>TWF: 0.0</br>HDF: 0.0</br>PWF: 0.0</br>RNF: 0.0</br>_original_yhat_: 0.003318951211417192</br>"
          ],
          [
           "</br>id: 4176</br>prediction: 0.003</br>OSF: 0.54</br></br>Type: M</br>Air temperature [K]: 302.3</br>Process temperature [K]: 310.7</br>Rotational speed [rpm]: 1544.0</br>Torque [Nm]: 39.7</br>Tool wear [min]: 141.0</br>TWF: 0.0</br>HDF: 0.0</br>PWF: 0.0</br>RNF: 0.0</br>_original_yhat_: 0.003318951211417192</br>"
          ],
          [
           "</br>id: 4176</br>prediction: 0.003</br>OSF: 0.55</br></br>Type: M</br>Air temperature [K]: 302.3</br>Process temperature [K]: 310.7</br>Rotational speed [rpm]: 1544.0</br>Torque [Nm]: 39.7</br>Tool wear [min]: 141.0</br>TWF: 0.0</br>HDF: 0.0</br>PWF: 0.0</br>RNF: 0.0</br>_original_yhat_: 0.003318951211417192</br>"
          ],
          [
           "</br>id: 4176</br>prediction: 0.003</br>OSF: 0.56</br></br>Type: M</br>Air temperature [K]: 302.3</br>Process temperature [K]: 310.7</br>Rotational speed [rpm]: 1544.0</br>Torque [Nm]: 39.7</br>Tool wear [min]: 141.0</br>TWF: 0.0</br>HDF: 0.0</br>PWF: 0.0</br>RNF: 0.0</br>_original_yhat_: 0.003318951211417192</br>"
          ],
          [
           "</br>id: 4176</br>prediction: 0.003</br>OSF: 0.5700000000000001</br></br>Type: M</br>Air temperature [K]: 302.3</br>Process temperature [K]: 310.7</br>Rotational speed [rpm]: 1544.0</br>Torque [Nm]: 39.7</br>Tool wear [min]: 141.0</br>TWF: 0.0</br>HDF: 0.0</br>PWF: 0.0</br>RNF: 0.0</br>_original_yhat_: 0.003318951211417192</br>"
          ],
          [
           "</br>id: 4176</br>prediction: 0.003</br>OSF: 0.58</br></br>Type: M</br>Air temperature [K]: 302.3</br>Process temperature [K]: 310.7</br>Rotational speed [rpm]: 1544.0</br>Torque [Nm]: 39.7</br>Tool wear [min]: 141.0</br>TWF: 0.0</br>HDF: 0.0</br>PWF: 0.0</br>RNF: 0.0</br>_original_yhat_: 0.003318951211417192</br>"
          ],
          [
           "</br>id: 4176</br>prediction: 0.003</br>OSF: 0.59</br></br>Type: M</br>Air temperature [K]: 302.3</br>Process temperature [K]: 310.7</br>Rotational speed [rpm]: 1544.0</br>Torque [Nm]: 39.7</br>Tool wear [min]: 141.0</br>TWF: 0.0</br>HDF: 0.0</br>PWF: 0.0</br>RNF: 0.0</br>_original_yhat_: 0.003318951211417192</br>"
          ],
          [
           "</br>id: 4176</br>prediction: 0.003</br>OSF: 0.6</br></br>Type: M</br>Air temperature [K]: 302.3</br>Process temperature [K]: 310.7</br>Rotational speed [rpm]: 1544.0</br>Torque [Nm]: 39.7</br>Tool wear [min]: 141.0</br>TWF: 0.0</br>HDF: 0.0</br>PWF: 0.0</br>RNF: 0.0</br>_original_yhat_: 0.003318951211417192</br>"
          ],
          [
           "</br>id: 4176</br>prediction: 0.003</br>OSF: 0.61</br></br>Type: M</br>Air temperature [K]: 302.3</br>Process temperature [K]: 310.7</br>Rotational speed [rpm]: 1544.0</br>Torque [Nm]: 39.7</br>Tool wear [min]: 141.0</br>TWF: 0.0</br>HDF: 0.0</br>PWF: 0.0</br>RNF: 0.0</br>_original_yhat_: 0.003318951211417192</br>"
          ],
          [
           "</br>id: 4176</br>prediction: 0.003</br>OSF: 0.62</br></br>Type: M</br>Air temperature [K]: 302.3</br>Process temperature [K]: 310.7</br>Rotational speed [rpm]: 1544.0</br>Torque [Nm]: 39.7</br>Tool wear [min]: 141.0</br>TWF: 0.0</br>HDF: 0.0</br>PWF: 0.0</br>RNF: 0.0</br>_original_yhat_: 0.003318951211417192</br>"
          ],
          [
           "</br>id: 4176</br>prediction: 0.003</br>OSF: 0.63</br></br>Type: M</br>Air temperature [K]: 302.3</br>Process temperature [K]: 310.7</br>Rotational speed [rpm]: 1544.0</br>Torque [Nm]: 39.7</br>Tool wear [min]: 141.0</br>TWF: 0.0</br>HDF: 0.0</br>PWF: 0.0</br>RNF: 0.0</br>_original_yhat_: 0.003318951211417192</br>"
          ],
          [
           "</br>id: 4176</br>prediction: 0.003</br>OSF: 0.64</br></br>Type: M</br>Air temperature [K]: 302.3</br>Process temperature [K]: 310.7</br>Rotational speed [rpm]: 1544.0</br>Torque [Nm]: 39.7</br>Tool wear [min]: 141.0</br>TWF: 0.0</br>HDF: 0.0</br>PWF: 0.0</br>RNF: 0.0</br>_original_yhat_: 0.003318951211417192</br>"
          ],
          [
           "</br>id: 4176</br>prediction: 0.003</br>OSF: 0.65</br></br>Type: M</br>Air temperature [K]: 302.3</br>Process temperature [K]: 310.7</br>Rotational speed [rpm]: 1544.0</br>Torque [Nm]: 39.7</br>Tool wear [min]: 141.0</br>TWF: 0.0</br>HDF: 0.0</br>PWF: 0.0</br>RNF: 0.0</br>_original_yhat_: 0.003318951211417192</br>"
          ],
          [
           "</br>id: 4176</br>prediction: 0.003</br>OSF: 0.66</br></br>Type: M</br>Air temperature [K]: 302.3</br>Process temperature [K]: 310.7</br>Rotational speed [rpm]: 1544.0</br>Torque [Nm]: 39.7</br>Tool wear [min]: 141.0</br>TWF: 0.0</br>HDF: 0.0</br>PWF: 0.0</br>RNF: 0.0</br>_original_yhat_: 0.003318951211417192</br>"
          ],
          [
           "</br>id: 4176</br>prediction: 0.003</br>OSF: 0.67</br></br>Type: M</br>Air temperature [K]: 302.3</br>Process temperature [K]: 310.7</br>Rotational speed [rpm]: 1544.0</br>Torque [Nm]: 39.7</br>Tool wear [min]: 141.0</br>TWF: 0.0</br>HDF: 0.0</br>PWF: 0.0</br>RNF: 0.0</br>_original_yhat_: 0.003318951211417192</br>"
          ],
          [
           "</br>id: 4176</br>prediction: 0.003</br>OSF: 0.68</br></br>Type: M</br>Air temperature [K]: 302.3</br>Process temperature [K]: 310.7</br>Rotational speed [rpm]: 1544.0</br>Torque [Nm]: 39.7</br>Tool wear [min]: 141.0</br>TWF: 0.0</br>HDF: 0.0</br>PWF: 0.0</br>RNF: 0.0</br>_original_yhat_: 0.003318951211417192</br>"
          ],
          [
           "</br>id: 4176</br>prediction: 0.003</br>OSF: 0.6900000000000001</br></br>Type: M</br>Air temperature [K]: 302.3</br>Process temperature [K]: 310.7</br>Rotational speed [rpm]: 1544.0</br>Torque [Nm]: 39.7</br>Tool wear [min]: 141.0</br>TWF: 0.0</br>HDF: 0.0</br>PWF: 0.0</br>RNF: 0.0</br>_original_yhat_: 0.003318951211417192</br>"
          ],
          [
           "</br>id: 4176</br>prediction: 0.003</br>OSF: 0.7000000000000001</br></br>Type: M</br>Air temperature [K]: 302.3</br>Process temperature [K]: 310.7</br>Rotational speed [rpm]: 1544.0</br>Torque [Nm]: 39.7</br>Tool wear [min]: 141.0</br>TWF: 0.0</br>HDF: 0.0</br>PWF: 0.0</br>RNF: 0.0</br>_original_yhat_: 0.003318951211417192</br>"
          ],
          [
           "</br>id: 4176</br>prediction: 0.003</br>OSF: 0.71</br></br>Type: M</br>Air temperature [K]: 302.3</br>Process temperature [K]: 310.7</br>Rotational speed [rpm]: 1544.0</br>Torque [Nm]: 39.7</br>Tool wear [min]: 141.0</br>TWF: 0.0</br>HDF: 0.0</br>PWF: 0.0</br>RNF: 0.0</br>_original_yhat_: 0.003318951211417192</br>"
          ],
          [
           "</br>id: 4176</br>prediction: 0.003</br>OSF: 0.72</br></br>Type: M</br>Air temperature [K]: 302.3</br>Process temperature [K]: 310.7</br>Rotational speed [rpm]: 1544.0</br>Torque [Nm]: 39.7</br>Tool wear [min]: 141.0</br>TWF: 0.0</br>HDF: 0.0</br>PWF: 0.0</br>RNF: 0.0</br>_original_yhat_: 0.003318951211417192</br>"
          ],
          [
           "</br>id: 4176</br>prediction: 0.003</br>OSF: 0.73</br></br>Type: M</br>Air temperature [K]: 302.3</br>Process temperature [K]: 310.7</br>Rotational speed [rpm]: 1544.0</br>Torque [Nm]: 39.7</br>Tool wear [min]: 141.0</br>TWF: 0.0</br>HDF: 0.0</br>PWF: 0.0</br>RNF: 0.0</br>_original_yhat_: 0.003318951211417192</br>"
          ],
          [
           "</br>id: 4176</br>prediction: 0.003</br>OSF: 0.74</br></br>Type: M</br>Air temperature [K]: 302.3</br>Process temperature [K]: 310.7</br>Rotational speed [rpm]: 1544.0</br>Torque [Nm]: 39.7</br>Tool wear [min]: 141.0</br>TWF: 0.0</br>HDF: 0.0</br>PWF: 0.0</br>RNF: 0.0</br>_original_yhat_: 0.003318951211417192</br>"
          ],
          [
           "</br>id: 4176</br>prediction: 0.003</br>OSF: 0.75</br></br>Type: M</br>Air temperature [K]: 302.3</br>Process temperature [K]: 310.7</br>Rotational speed [rpm]: 1544.0</br>Torque [Nm]: 39.7</br>Tool wear [min]: 141.0</br>TWF: 0.0</br>HDF: 0.0</br>PWF: 0.0</br>RNF: 0.0</br>_original_yhat_: 0.003318951211417192</br>"
          ],
          [
           "</br>id: 4176</br>prediction: 0.003</br>OSF: 0.76</br></br>Type: M</br>Air temperature [K]: 302.3</br>Process temperature [K]: 310.7</br>Rotational speed [rpm]: 1544.0</br>Torque [Nm]: 39.7</br>Tool wear [min]: 141.0</br>TWF: 0.0</br>HDF: 0.0</br>PWF: 0.0</br>RNF: 0.0</br>_original_yhat_: 0.003318951211417192</br>"
          ],
          [
           "</br>id: 4176</br>prediction: 0.003</br>OSF: 0.77</br></br>Type: M</br>Air temperature [K]: 302.3</br>Process temperature [K]: 310.7</br>Rotational speed [rpm]: 1544.0</br>Torque [Nm]: 39.7</br>Tool wear [min]: 141.0</br>TWF: 0.0</br>HDF: 0.0</br>PWF: 0.0</br>RNF: 0.0</br>_original_yhat_: 0.003318951211417192</br>"
          ],
          [
           "</br>id: 4176</br>prediction: 0.003</br>OSF: 0.78</br></br>Type: M</br>Air temperature [K]: 302.3</br>Process temperature [K]: 310.7</br>Rotational speed [rpm]: 1544.0</br>Torque [Nm]: 39.7</br>Tool wear [min]: 141.0</br>TWF: 0.0</br>HDF: 0.0</br>PWF: 0.0</br>RNF: 0.0</br>_original_yhat_: 0.003318951211417192</br>"
          ],
          [
           "</br>id: 4176</br>prediction: 0.003</br>OSF: 0.79</br></br>Type: M</br>Air temperature [K]: 302.3</br>Process temperature [K]: 310.7</br>Rotational speed [rpm]: 1544.0</br>Torque [Nm]: 39.7</br>Tool wear [min]: 141.0</br>TWF: 0.0</br>HDF: 0.0</br>PWF: 0.0</br>RNF: 0.0</br>_original_yhat_: 0.003318951211417192</br>"
          ],
          [
           "</br>id: 4176</br>prediction: 0.003</br>OSF: 0.8</br></br>Type: M</br>Air temperature [K]: 302.3</br>Process temperature [K]: 310.7</br>Rotational speed [rpm]: 1544.0</br>Torque [Nm]: 39.7</br>Tool wear [min]: 141.0</br>TWF: 0.0</br>HDF: 0.0</br>PWF: 0.0</br>RNF: 0.0</br>_original_yhat_: 0.003318951211417192</br>"
          ],
          [
           "</br>id: 4176</br>prediction: 0.003</br>OSF: 0.81</br></br>Type: M</br>Air temperature [K]: 302.3</br>Process temperature [K]: 310.7</br>Rotational speed [rpm]: 1544.0</br>Torque [Nm]: 39.7</br>Tool wear [min]: 141.0</br>TWF: 0.0</br>HDF: 0.0</br>PWF: 0.0</br>RNF: 0.0</br>_original_yhat_: 0.003318951211417192</br>"
          ],
          [
           "</br>id: 4176</br>prediction: 0.003</br>OSF: 0.8200000000000001</br></br>Type: M</br>Air temperature [K]: 302.3</br>Process temperature [K]: 310.7</br>Rotational speed [rpm]: 1544.0</br>Torque [Nm]: 39.7</br>Tool wear [min]: 141.0</br>TWF: 0.0</br>HDF: 0.0</br>PWF: 0.0</br>RNF: 0.0</br>_original_yhat_: 0.003318951211417192</br>"
          ],
          [
           "</br>id: 4176</br>prediction: 0.003</br>OSF: 0.8300000000000001</br></br>Type: M</br>Air temperature [K]: 302.3</br>Process temperature [K]: 310.7</br>Rotational speed [rpm]: 1544.0</br>Torque [Nm]: 39.7</br>Tool wear [min]: 141.0</br>TWF: 0.0</br>HDF: 0.0</br>PWF: 0.0</br>RNF: 0.0</br>_original_yhat_: 0.003318951211417192</br>"
          ],
          [
           "</br>id: 4176</br>prediction: 0.003</br>OSF: 0.84</br></br>Type: M</br>Air temperature [K]: 302.3</br>Process temperature [K]: 310.7</br>Rotational speed [rpm]: 1544.0</br>Torque [Nm]: 39.7</br>Tool wear [min]: 141.0</br>TWF: 0.0</br>HDF: 0.0</br>PWF: 0.0</br>RNF: 0.0</br>_original_yhat_: 0.003318951211417192</br>"
          ],
          [
           "</br>id: 4176</br>prediction: 0.003</br>OSF: 0.85</br></br>Type: M</br>Air temperature [K]: 302.3</br>Process temperature [K]: 310.7</br>Rotational speed [rpm]: 1544.0</br>Torque [Nm]: 39.7</br>Tool wear [min]: 141.0</br>TWF: 0.0</br>HDF: 0.0</br>PWF: 0.0</br>RNF: 0.0</br>_original_yhat_: 0.003318951211417192</br>"
          ],
          [
           "</br>id: 4176</br>prediction: 0.003</br>OSF: 0.86</br></br>Type: M</br>Air temperature [K]: 302.3</br>Process temperature [K]: 310.7</br>Rotational speed [rpm]: 1544.0</br>Torque [Nm]: 39.7</br>Tool wear [min]: 141.0</br>TWF: 0.0</br>HDF: 0.0</br>PWF: 0.0</br>RNF: 0.0</br>_original_yhat_: 0.003318951211417192</br>"
          ],
          [
           "</br>id: 4176</br>prediction: 0.003</br>OSF: 0.87</br></br>Type: M</br>Air temperature [K]: 302.3</br>Process temperature [K]: 310.7</br>Rotational speed [rpm]: 1544.0</br>Torque [Nm]: 39.7</br>Tool wear [min]: 141.0</br>TWF: 0.0</br>HDF: 0.0</br>PWF: 0.0</br>RNF: 0.0</br>_original_yhat_: 0.003318951211417192</br>"
          ],
          [
           "</br>id: 4176</br>prediction: 0.003</br>OSF: 0.88</br></br>Type: M</br>Air temperature [K]: 302.3</br>Process temperature [K]: 310.7</br>Rotational speed [rpm]: 1544.0</br>Torque [Nm]: 39.7</br>Tool wear [min]: 141.0</br>TWF: 0.0</br>HDF: 0.0</br>PWF: 0.0</br>RNF: 0.0</br>_original_yhat_: 0.003318951211417192</br>"
          ],
          [
           "</br>id: 4176</br>prediction: 0.003</br>OSF: 0.89</br></br>Type: M</br>Air temperature [K]: 302.3</br>Process temperature [K]: 310.7</br>Rotational speed [rpm]: 1544.0</br>Torque [Nm]: 39.7</br>Tool wear [min]: 141.0</br>TWF: 0.0</br>HDF: 0.0</br>PWF: 0.0</br>RNF: 0.0</br>_original_yhat_: 0.003318951211417192</br>"
          ],
          [
           "</br>id: 4176</br>prediction: 0.003</br>OSF: 0.9</br></br>Type: M</br>Air temperature [K]: 302.3</br>Process temperature [K]: 310.7</br>Rotational speed [rpm]: 1544.0</br>Torque [Nm]: 39.7</br>Tool wear [min]: 141.0</br>TWF: 0.0</br>HDF: 0.0</br>PWF: 0.0</br>RNF: 0.0</br>_original_yhat_: 0.003318951211417192</br>"
          ],
          [
           "</br>id: 4176</br>prediction: 0.003</br>OSF: 0.91</br></br>Type: M</br>Air temperature [K]: 302.3</br>Process temperature [K]: 310.7</br>Rotational speed [rpm]: 1544.0</br>Torque [Nm]: 39.7</br>Tool wear [min]: 141.0</br>TWF: 0.0</br>HDF: 0.0</br>PWF: 0.0</br>RNF: 0.0</br>_original_yhat_: 0.003318951211417192</br>"
          ],
          [
           "</br>id: 4176</br>prediction: 0.003</br>OSF: 0.92</br></br>Type: M</br>Air temperature [K]: 302.3</br>Process temperature [K]: 310.7</br>Rotational speed [rpm]: 1544.0</br>Torque [Nm]: 39.7</br>Tool wear [min]: 141.0</br>TWF: 0.0</br>HDF: 0.0</br>PWF: 0.0</br>RNF: 0.0</br>_original_yhat_: 0.003318951211417192</br>"
          ],
          [
           "</br>id: 4176</br>prediction: 0.003</br>OSF: 0.93</br></br>Type: M</br>Air temperature [K]: 302.3</br>Process temperature [K]: 310.7</br>Rotational speed [rpm]: 1544.0</br>Torque [Nm]: 39.7</br>Tool wear [min]: 141.0</br>TWF: 0.0</br>HDF: 0.0</br>PWF: 0.0</br>RNF: 0.0</br>_original_yhat_: 0.003318951211417192</br>"
          ],
          [
           "</br>id: 4176</br>prediction: 0.003</br>OSF: 0.9400000000000001</br></br>Type: M</br>Air temperature [K]: 302.3</br>Process temperature [K]: 310.7</br>Rotational speed [rpm]: 1544.0</br>Torque [Nm]: 39.7</br>Tool wear [min]: 141.0</br>TWF: 0.0</br>HDF: 0.0</br>PWF: 0.0</br>RNF: 0.0</br>_original_yhat_: 0.003318951211417192</br>"
          ],
          [
           "</br>id: 4176</br>prediction: 0.003</br>OSF: 0.9500000000000001</br></br>Type: M</br>Air temperature [K]: 302.3</br>Process temperature [K]: 310.7</br>Rotational speed [rpm]: 1544.0</br>Torque [Nm]: 39.7</br>Tool wear [min]: 141.0</br>TWF: 0.0</br>HDF: 0.0</br>PWF: 0.0</br>RNF: 0.0</br>_original_yhat_: 0.003318951211417192</br>"
          ],
          [
           "</br>id: 4176</br>prediction: 0.003</br>OSF: 0.96</br></br>Type: M</br>Air temperature [K]: 302.3</br>Process temperature [K]: 310.7</br>Rotational speed [rpm]: 1544.0</br>Torque [Nm]: 39.7</br>Tool wear [min]: 141.0</br>TWF: 0.0</br>HDF: 0.0</br>PWF: 0.0</br>RNF: 0.0</br>_original_yhat_: 0.003318951211417192</br>"
          ],
          [
           "</br>id: 4176</br>prediction: 0.003</br>OSF: 0.97</br></br>Type: M</br>Air temperature [K]: 302.3</br>Process temperature [K]: 310.7</br>Rotational speed [rpm]: 1544.0</br>Torque [Nm]: 39.7</br>Tool wear [min]: 141.0</br>TWF: 0.0</br>HDF: 0.0</br>PWF: 0.0</br>RNF: 0.0</br>_original_yhat_: 0.003318951211417192</br>"
          ],
          [
           "</br>id: 4176</br>prediction: 0.003</br>OSF: 0.98</br></br>Type: M</br>Air temperature [K]: 302.3</br>Process temperature [K]: 310.7</br>Rotational speed [rpm]: 1544.0</br>Torque [Nm]: 39.7</br>Tool wear [min]: 141.0</br>TWF: 0.0</br>HDF: 0.0</br>PWF: 0.0</br>RNF: 0.0</br>_original_yhat_: 0.003318951211417192</br>"
          ],
          [
           "</br>id: 4176</br>prediction: 0.003</br>OSF: 0.99</br></br>Type: M</br>Air temperature [K]: 302.3</br>Process temperature [K]: 310.7</br>Rotational speed [rpm]: 1544.0</br>Torque [Nm]: 39.7</br>Tool wear [min]: 141.0</br>TWF: 0.0</br>HDF: 0.0</br>PWF: 0.0</br>RNF: 0.0</br>_original_yhat_: 0.003318951211417192</br>"
          ],
          [
           "</br>id: 4176</br>prediction: 0.003</br>OSF: 1.0</br></br>Type: M</br>Air temperature [K]: 302.3</br>Process temperature [K]: 310.7</br>Rotational speed [rpm]: 1544.0</br>Torque [Nm]: 39.7</br>Tool wear [min]: 141.0</br>TWF: 0.0</br>HDF: 0.0</br>PWF: 0.0</br>RNF: 0.0</br>_original_yhat_: 0.003318951211417192</br>"
          ]
         ],
         "hovertemplate": "%{customdata[0]}<extra></extra>",
         "legendgroup": "testing",
         "line": {
          "color": "#46bac2",
          "dash": "solid",
          "width": 2
         },
         "marker": {
          "symbol": "circle"
         },
         "mode": "lines",
         "name": "testing",
         "opacity": 1,
         "showlegend": false,
         "type": "scattergl",
         "x": [
          0,
          0.01,
          0.02,
          0.03,
          0.04,
          0.05,
          0.06,
          0.07,
          0.08,
          0.09,
          0.1,
          0.11,
          0.12,
          0.13,
          0.14,
          0.15,
          0.16,
          0.17,
          0.18,
          0.19,
          0.2,
          0.21,
          0.22,
          0.23,
          0.24,
          0.25,
          0.26,
          0.27,
          0.28,
          0.29,
          0.3,
          0.31,
          0.32,
          0.33,
          0.34,
          0.35000000000000003,
          0.36,
          0.37,
          0.38,
          0.39,
          0.4,
          0.41000000000000003,
          0.42,
          0.43,
          0.44,
          0.45,
          0.46,
          0.47000000000000003,
          0.48,
          0.49,
          0.5,
          0.51,
          0.52,
          0.53,
          0.54,
          0.55,
          0.56,
          0.5700000000000001,
          0.58,
          0.59,
          0.6,
          0.61,
          0.62,
          0.63,
          0.64,
          0.65,
          0.66,
          0.67,
          0.68,
          0.6900000000000001,
          0.7000000000000001,
          0.71,
          0.72,
          0.73,
          0.74,
          0.75,
          0.76,
          0.77,
          0.78,
          0.79,
          0.8,
          0.81,
          0.8200000000000001,
          0.8300000000000001,
          0.84,
          0.85,
          0.86,
          0.87,
          0.88,
          0.89,
          0.9,
          0.91,
          0.92,
          0.93,
          0.9400000000000001,
          0.9500000000000001,
          0.96,
          0.97,
          0.98,
          0.99,
          1
         ],
         "xaxis": "x",
         "y": [
          0.003318951211417192,
          0.003318951211417192,
          0.003318951211417192,
          0.003318951211417192,
          0.003318951211417192,
          0.003318951211417192,
          0.003318951211417192,
          0.003318951211417192,
          0.003318951211417192,
          0.003318951211417192,
          0.003318951211417192,
          0.003318951211417192,
          0.003318951211417192,
          0.003318951211417192,
          0.003318951211417192,
          0.003318951211417192,
          0.003318951211417192,
          0.003318951211417192,
          0.003318951211417192,
          0.003318951211417192,
          0.003318951211417192,
          0.003318951211417192,
          0.003318951211417192,
          0.003318951211417192,
          0.003318951211417192,
          0.003318951211417192,
          0.003318951211417192,
          0.003318951211417192,
          0.003318951211417192,
          0.003318951211417192,
          0.003318951211417192,
          0.003318951211417192,
          0.003318951211417192,
          0.003318951211417192,
          0.003318951211417192,
          0.003318951211417192,
          0.003318951211417192,
          0.003318951211417192,
          0.003318951211417192,
          0.003318951211417192,
          0.003318951211417192,
          0.003318951211417192,
          0.003318951211417192,
          0.003318951211417192,
          0.003318951211417192,
          0.003318951211417192,
          0.003318951211417192,
          0.003318951211417192,
          0.003318951211417192,
          0.003318951211417192,
          0.003318951211417192,
          0.003318951211417192,
          0.003318951211417192,
          0.003318951211417192,
          0.003318951211417192,
          0.003318951211417192,
          0.003318951211417192,
          0.003318951211417192,
          0.003318951211417192,
          0.003318951211417192,
          0.003318951211417192,
          0.003318951211417192,
          0.003318951211417192,
          0.003318951211417192,
          0.003318951211417192,
          0.003318951211417192,
          0.003318951211417192,
          0.003318951211417192,
          0.003318951211417192,
          0.003318951211417192,
          0.003318951211417192,
          0.003318951211417192,
          0.003318951211417192,
          0.003318951211417192,
          0.003318951211417192,
          0.003318951211417192,
          0.003318951211417192,
          0.003318951211417192,
          0.003318951211417192,
          0.003318951211417192,
          0.003318951211417192,
          0.003318951211417192,
          0.003318951211417192,
          0.003318951211417192,
          0.003318951211417192,
          0.003318951211417192,
          0.003318951211417192,
          0.003318951211417192,
          0.003318951211417192,
          0.003318951211417192,
          0.003318951211417192,
          0.003318951211417192,
          0.003318951211417192,
          0.003318951211417192,
          0.003318951211417192,
          0.003318951211417192,
          0.003318951211417192,
          0.003318951211417192,
          0.003318951211417192,
          0.003318951211417192,
          0.003318951211417192
         ],
         "yaxis": "y"
        },
        {
         "customdata": [
          [
           "</br>id: 4176</br>prediction: 0.003</br>RNF: 0.0</br></br>Type: M</br>Air temperature [K]: 302.3</br>Process temperature [K]: 310.7</br>Rotational speed [rpm]: 1544.0</br>Torque [Nm]: 39.7</br>Tool wear [min]: 141.0</br>TWF: 0.0</br>HDF: 0.0</br>PWF: 0.0</br>OSF: 0.0</br>_original_yhat_: 0.003318951211417192</br>"
          ],
          [
           "</br>id: 4176</br>prediction: 0.003</br>RNF: 0.01</br></br>Type: M</br>Air temperature [K]: 302.3</br>Process temperature [K]: 310.7</br>Rotational speed [rpm]: 1544.0</br>Torque [Nm]: 39.7</br>Tool wear [min]: 141.0</br>TWF: 0.0</br>HDF: 0.0</br>PWF: 0.0</br>OSF: 0.0</br>_original_yhat_: 0.003318951211417192</br>"
          ],
          [
           "</br>id: 4176</br>prediction: 0.003</br>RNF: 0.02</br></br>Type: M</br>Air temperature [K]: 302.3</br>Process temperature [K]: 310.7</br>Rotational speed [rpm]: 1544.0</br>Torque [Nm]: 39.7</br>Tool wear [min]: 141.0</br>TWF: 0.0</br>HDF: 0.0</br>PWF: 0.0</br>OSF: 0.0</br>_original_yhat_: 0.003318951211417192</br>"
          ],
          [
           "</br>id: 4176</br>prediction: 0.003</br>RNF: 0.03</br></br>Type: M</br>Air temperature [K]: 302.3</br>Process temperature [K]: 310.7</br>Rotational speed [rpm]: 1544.0</br>Torque [Nm]: 39.7</br>Tool wear [min]: 141.0</br>TWF: 0.0</br>HDF: 0.0</br>PWF: 0.0</br>OSF: 0.0</br>_original_yhat_: 0.003318951211417192</br>"
          ],
          [
           "</br>id: 4176</br>prediction: 0.003</br>RNF: 0.04</br></br>Type: M</br>Air temperature [K]: 302.3</br>Process temperature [K]: 310.7</br>Rotational speed [rpm]: 1544.0</br>Torque [Nm]: 39.7</br>Tool wear [min]: 141.0</br>TWF: 0.0</br>HDF: 0.0</br>PWF: 0.0</br>OSF: 0.0</br>_original_yhat_: 0.003318951211417192</br>"
          ],
          [
           "</br>id: 4176</br>prediction: 0.003</br>RNF: 0.05</br></br>Type: M</br>Air temperature [K]: 302.3</br>Process temperature [K]: 310.7</br>Rotational speed [rpm]: 1544.0</br>Torque [Nm]: 39.7</br>Tool wear [min]: 141.0</br>TWF: 0.0</br>HDF: 0.0</br>PWF: 0.0</br>OSF: 0.0</br>_original_yhat_: 0.003318951211417192</br>"
          ],
          [
           "</br>id: 4176</br>prediction: 0.003</br>RNF: 0.06</br></br>Type: M</br>Air temperature [K]: 302.3</br>Process temperature [K]: 310.7</br>Rotational speed [rpm]: 1544.0</br>Torque [Nm]: 39.7</br>Tool wear [min]: 141.0</br>TWF: 0.0</br>HDF: 0.0</br>PWF: 0.0</br>OSF: 0.0</br>_original_yhat_: 0.003318951211417192</br>"
          ],
          [
           "</br>id: 4176</br>prediction: 0.003</br>RNF: 0.07</br></br>Type: M</br>Air temperature [K]: 302.3</br>Process temperature [K]: 310.7</br>Rotational speed [rpm]: 1544.0</br>Torque [Nm]: 39.7</br>Tool wear [min]: 141.0</br>TWF: 0.0</br>HDF: 0.0</br>PWF: 0.0</br>OSF: 0.0</br>_original_yhat_: 0.003318951211417192</br>"
          ],
          [
           "</br>id: 4176</br>prediction: 0.003</br>RNF: 0.08</br></br>Type: M</br>Air temperature [K]: 302.3</br>Process temperature [K]: 310.7</br>Rotational speed [rpm]: 1544.0</br>Torque [Nm]: 39.7</br>Tool wear [min]: 141.0</br>TWF: 0.0</br>HDF: 0.0</br>PWF: 0.0</br>OSF: 0.0</br>_original_yhat_: 0.003318951211417192</br>"
          ],
          [
           "</br>id: 4176</br>prediction: 0.003</br>RNF: 0.09</br></br>Type: M</br>Air temperature [K]: 302.3</br>Process temperature [K]: 310.7</br>Rotational speed [rpm]: 1544.0</br>Torque [Nm]: 39.7</br>Tool wear [min]: 141.0</br>TWF: 0.0</br>HDF: 0.0</br>PWF: 0.0</br>OSF: 0.0</br>_original_yhat_: 0.003318951211417192</br>"
          ],
          [
           "</br>id: 4176</br>prediction: 0.003</br>RNF: 0.1</br></br>Type: M</br>Air temperature [K]: 302.3</br>Process temperature [K]: 310.7</br>Rotational speed [rpm]: 1544.0</br>Torque [Nm]: 39.7</br>Tool wear [min]: 141.0</br>TWF: 0.0</br>HDF: 0.0</br>PWF: 0.0</br>OSF: 0.0</br>_original_yhat_: 0.003318951211417192</br>"
          ],
          [
           "</br>id: 4176</br>prediction: 0.003</br>RNF: 0.11</br></br>Type: M</br>Air temperature [K]: 302.3</br>Process temperature [K]: 310.7</br>Rotational speed [rpm]: 1544.0</br>Torque [Nm]: 39.7</br>Tool wear [min]: 141.0</br>TWF: 0.0</br>HDF: 0.0</br>PWF: 0.0</br>OSF: 0.0</br>_original_yhat_: 0.003318951211417192</br>"
          ],
          [
           "</br>id: 4176</br>prediction: 0.003</br>RNF: 0.12</br></br>Type: M</br>Air temperature [K]: 302.3</br>Process temperature [K]: 310.7</br>Rotational speed [rpm]: 1544.0</br>Torque [Nm]: 39.7</br>Tool wear [min]: 141.0</br>TWF: 0.0</br>HDF: 0.0</br>PWF: 0.0</br>OSF: 0.0</br>_original_yhat_: 0.003318951211417192</br>"
          ],
          [
           "</br>id: 4176</br>prediction: 0.003</br>RNF: 0.13</br></br>Type: M</br>Air temperature [K]: 302.3</br>Process temperature [K]: 310.7</br>Rotational speed [rpm]: 1544.0</br>Torque [Nm]: 39.7</br>Tool wear [min]: 141.0</br>TWF: 0.0</br>HDF: 0.0</br>PWF: 0.0</br>OSF: 0.0</br>_original_yhat_: 0.003318951211417192</br>"
          ],
          [
           "</br>id: 4176</br>prediction: 0.003</br>RNF: 0.14</br></br>Type: M</br>Air temperature [K]: 302.3</br>Process temperature [K]: 310.7</br>Rotational speed [rpm]: 1544.0</br>Torque [Nm]: 39.7</br>Tool wear [min]: 141.0</br>TWF: 0.0</br>HDF: 0.0</br>PWF: 0.0</br>OSF: 0.0</br>_original_yhat_: 0.003318951211417192</br>"
          ],
          [
           "</br>id: 4176</br>prediction: 0.003</br>RNF: 0.15</br></br>Type: M</br>Air temperature [K]: 302.3</br>Process temperature [K]: 310.7</br>Rotational speed [rpm]: 1544.0</br>Torque [Nm]: 39.7</br>Tool wear [min]: 141.0</br>TWF: 0.0</br>HDF: 0.0</br>PWF: 0.0</br>OSF: 0.0</br>_original_yhat_: 0.003318951211417192</br>"
          ],
          [
           "</br>id: 4176</br>prediction: 0.003</br>RNF: 0.16</br></br>Type: M</br>Air temperature [K]: 302.3</br>Process temperature [K]: 310.7</br>Rotational speed [rpm]: 1544.0</br>Torque [Nm]: 39.7</br>Tool wear [min]: 141.0</br>TWF: 0.0</br>HDF: 0.0</br>PWF: 0.0</br>OSF: 0.0</br>_original_yhat_: 0.003318951211417192</br>"
          ],
          [
           "</br>id: 4176</br>prediction: 0.003</br>RNF: 0.17</br></br>Type: M</br>Air temperature [K]: 302.3</br>Process temperature [K]: 310.7</br>Rotational speed [rpm]: 1544.0</br>Torque [Nm]: 39.7</br>Tool wear [min]: 141.0</br>TWF: 0.0</br>HDF: 0.0</br>PWF: 0.0</br>OSF: 0.0</br>_original_yhat_: 0.003318951211417192</br>"
          ],
          [
           "</br>id: 4176</br>prediction: 0.003</br>RNF: 0.18</br></br>Type: M</br>Air temperature [K]: 302.3</br>Process temperature [K]: 310.7</br>Rotational speed [rpm]: 1544.0</br>Torque [Nm]: 39.7</br>Tool wear [min]: 141.0</br>TWF: 0.0</br>HDF: 0.0</br>PWF: 0.0</br>OSF: 0.0</br>_original_yhat_: 0.003318951211417192</br>"
          ],
          [
           "</br>id: 4176</br>prediction: 0.003</br>RNF: 0.19</br></br>Type: M</br>Air temperature [K]: 302.3</br>Process temperature [K]: 310.7</br>Rotational speed [rpm]: 1544.0</br>Torque [Nm]: 39.7</br>Tool wear [min]: 141.0</br>TWF: 0.0</br>HDF: 0.0</br>PWF: 0.0</br>OSF: 0.0</br>_original_yhat_: 0.003318951211417192</br>"
          ],
          [
           "</br>id: 4176</br>prediction: 0.003</br>RNF: 0.2</br></br>Type: M</br>Air temperature [K]: 302.3</br>Process temperature [K]: 310.7</br>Rotational speed [rpm]: 1544.0</br>Torque [Nm]: 39.7</br>Tool wear [min]: 141.0</br>TWF: 0.0</br>HDF: 0.0</br>PWF: 0.0</br>OSF: 0.0</br>_original_yhat_: 0.003318951211417192</br>"
          ],
          [
           "</br>id: 4176</br>prediction: 0.003</br>RNF: 0.21</br></br>Type: M</br>Air temperature [K]: 302.3</br>Process temperature [K]: 310.7</br>Rotational speed [rpm]: 1544.0</br>Torque [Nm]: 39.7</br>Tool wear [min]: 141.0</br>TWF: 0.0</br>HDF: 0.0</br>PWF: 0.0</br>OSF: 0.0</br>_original_yhat_: 0.003318951211417192</br>"
          ],
          [
           "</br>id: 4176</br>prediction: 0.003</br>RNF: 0.22</br></br>Type: M</br>Air temperature [K]: 302.3</br>Process temperature [K]: 310.7</br>Rotational speed [rpm]: 1544.0</br>Torque [Nm]: 39.7</br>Tool wear [min]: 141.0</br>TWF: 0.0</br>HDF: 0.0</br>PWF: 0.0</br>OSF: 0.0</br>_original_yhat_: 0.003318951211417192</br>"
          ],
          [
           "</br>id: 4176</br>prediction: 0.003</br>RNF: 0.23</br></br>Type: M</br>Air temperature [K]: 302.3</br>Process temperature [K]: 310.7</br>Rotational speed [rpm]: 1544.0</br>Torque [Nm]: 39.7</br>Tool wear [min]: 141.0</br>TWF: 0.0</br>HDF: 0.0</br>PWF: 0.0</br>OSF: 0.0</br>_original_yhat_: 0.003318951211417192</br>"
          ],
          [
           "</br>id: 4176</br>prediction: 0.003</br>RNF: 0.24</br></br>Type: M</br>Air temperature [K]: 302.3</br>Process temperature [K]: 310.7</br>Rotational speed [rpm]: 1544.0</br>Torque [Nm]: 39.7</br>Tool wear [min]: 141.0</br>TWF: 0.0</br>HDF: 0.0</br>PWF: 0.0</br>OSF: 0.0</br>_original_yhat_: 0.003318951211417192</br>"
          ],
          [
           "</br>id: 4176</br>prediction: 0.003</br>RNF: 0.25</br></br>Type: M</br>Air temperature [K]: 302.3</br>Process temperature [K]: 310.7</br>Rotational speed [rpm]: 1544.0</br>Torque [Nm]: 39.7</br>Tool wear [min]: 141.0</br>TWF: 0.0</br>HDF: 0.0</br>PWF: 0.0</br>OSF: 0.0</br>_original_yhat_: 0.003318951211417192</br>"
          ],
          [
           "</br>id: 4176</br>prediction: 0.003</br>RNF: 0.26</br></br>Type: M</br>Air temperature [K]: 302.3</br>Process temperature [K]: 310.7</br>Rotational speed [rpm]: 1544.0</br>Torque [Nm]: 39.7</br>Tool wear [min]: 141.0</br>TWF: 0.0</br>HDF: 0.0</br>PWF: 0.0</br>OSF: 0.0</br>_original_yhat_: 0.003318951211417192</br>"
          ],
          [
           "</br>id: 4176</br>prediction: 0.003</br>RNF: 0.27</br></br>Type: M</br>Air temperature [K]: 302.3</br>Process temperature [K]: 310.7</br>Rotational speed [rpm]: 1544.0</br>Torque [Nm]: 39.7</br>Tool wear [min]: 141.0</br>TWF: 0.0</br>HDF: 0.0</br>PWF: 0.0</br>OSF: 0.0</br>_original_yhat_: 0.003318951211417192</br>"
          ],
          [
           "</br>id: 4176</br>prediction: 0.003</br>RNF: 0.28</br></br>Type: M</br>Air temperature [K]: 302.3</br>Process temperature [K]: 310.7</br>Rotational speed [rpm]: 1544.0</br>Torque [Nm]: 39.7</br>Tool wear [min]: 141.0</br>TWF: 0.0</br>HDF: 0.0</br>PWF: 0.0</br>OSF: 0.0</br>_original_yhat_: 0.003318951211417192</br>"
          ],
          [
           "</br>id: 4176</br>prediction: 0.003</br>RNF: 0.29</br></br>Type: M</br>Air temperature [K]: 302.3</br>Process temperature [K]: 310.7</br>Rotational speed [rpm]: 1544.0</br>Torque [Nm]: 39.7</br>Tool wear [min]: 141.0</br>TWF: 0.0</br>HDF: 0.0</br>PWF: 0.0</br>OSF: 0.0</br>_original_yhat_: 0.003318951211417192</br>"
          ],
          [
           "</br>id: 4176</br>prediction: 0.003</br>RNF: 0.3</br></br>Type: M</br>Air temperature [K]: 302.3</br>Process temperature [K]: 310.7</br>Rotational speed [rpm]: 1544.0</br>Torque [Nm]: 39.7</br>Tool wear [min]: 141.0</br>TWF: 0.0</br>HDF: 0.0</br>PWF: 0.0</br>OSF: 0.0</br>_original_yhat_: 0.003318951211417192</br>"
          ],
          [
           "</br>id: 4176</br>prediction: 0.003</br>RNF: 0.31</br></br>Type: M</br>Air temperature [K]: 302.3</br>Process temperature [K]: 310.7</br>Rotational speed [rpm]: 1544.0</br>Torque [Nm]: 39.7</br>Tool wear [min]: 141.0</br>TWF: 0.0</br>HDF: 0.0</br>PWF: 0.0</br>OSF: 0.0</br>_original_yhat_: 0.003318951211417192</br>"
          ],
          [
           "</br>id: 4176</br>prediction: 0.003</br>RNF: 0.32</br></br>Type: M</br>Air temperature [K]: 302.3</br>Process temperature [K]: 310.7</br>Rotational speed [rpm]: 1544.0</br>Torque [Nm]: 39.7</br>Tool wear [min]: 141.0</br>TWF: 0.0</br>HDF: 0.0</br>PWF: 0.0</br>OSF: 0.0</br>_original_yhat_: 0.003318951211417192</br>"
          ],
          [
           "</br>id: 4176</br>prediction: 0.003</br>RNF: 0.33</br></br>Type: M</br>Air temperature [K]: 302.3</br>Process temperature [K]: 310.7</br>Rotational speed [rpm]: 1544.0</br>Torque [Nm]: 39.7</br>Tool wear [min]: 141.0</br>TWF: 0.0</br>HDF: 0.0</br>PWF: 0.0</br>OSF: 0.0</br>_original_yhat_: 0.003318951211417192</br>"
          ],
          [
           "</br>id: 4176</br>prediction: 0.003</br>RNF: 0.34</br></br>Type: M</br>Air temperature [K]: 302.3</br>Process temperature [K]: 310.7</br>Rotational speed [rpm]: 1544.0</br>Torque [Nm]: 39.7</br>Tool wear [min]: 141.0</br>TWF: 0.0</br>HDF: 0.0</br>PWF: 0.0</br>OSF: 0.0</br>_original_yhat_: 0.003318951211417192</br>"
          ],
          [
           "</br>id: 4176</br>prediction: 0.003</br>RNF: 0.35000000000000003</br></br>Type: M</br>Air temperature [K]: 302.3</br>Process temperature [K]: 310.7</br>Rotational speed [rpm]: 1544.0</br>Torque [Nm]: 39.7</br>Tool wear [min]: 141.0</br>TWF: 0.0</br>HDF: 0.0</br>PWF: 0.0</br>OSF: 0.0</br>_original_yhat_: 0.003318951211417192</br>"
          ],
          [
           "</br>id: 4176</br>prediction: 0.003</br>RNF: 0.36</br></br>Type: M</br>Air temperature [K]: 302.3</br>Process temperature [K]: 310.7</br>Rotational speed [rpm]: 1544.0</br>Torque [Nm]: 39.7</br>Tool wear [min]: 141.0</br>TWF: 0.0</br>HDF: 0.0</br>PWF: 0.0</br>OSF: 0.0</br>_original_yhat_: 0.003318951211417192</br>"
          ],
          [
           "</br>id: 4176</br>prediction: 0.003</br>RNF: 0.37</br></br>Type: M</br>Air temperature [K]: 302.3</br>Process temperature [K]: 310.7</br>Rotational speed [rpm]: 1544.0</br>Torque [Nm]: 39.7</br>Tool wear [min]: 141.0</br>TWF: 0.0</br>HDF: 0.0</br>PWF: 0.0</br>OSF: 0.0</br>_original_yhat_: 0.003318951211417192</br>"
          ],
          [
           "</br>id: 4176</br>prediction: 0.003</br>RNF: 0.38</br></br>Type: M</br>Air temperature [K]: 302.3</br>Process temperature [K]: 310.7</br>Rotational speed [rpm]: 1544.0</br>Torque [Nm]: 39.7</br>Tool wear [min]: 141.0</br>TWF: 0.0</br>HDF: 0.0</br>PWF: 0.0</br>OSF: 0.0</br>_original_yhat_: 0.003318951211417192</br>"
          ],
          [
           "</br>id: 4176</br>prediction: 0.003</br>RNF: 0.39</br></br>Type: M</br>Air temperature [K]: 302.3</br>Process temperature [K]: 310.7</br>Rotational speed [rpm]: 1544.0</br>Torque [Nm]: 39.7</br>Tool wear [min]: 141.0</br>TWF: 0.0</br>HDF: 0.0</br>PWF: 0.0</br>OSF: 0.0</br>_original_yhat_: 0.003318951211417192</br>"
          ],
          [
           "</br>id: 4176</br>prediction: 0.003</br>RNF: 0.4</br></br>Type: M</br>Air temperature [K]: 302.3</br>Process temperature [K]: 310.7</br>Rotational speed [rpm]: 1544.0</br>Torque [Nm]: 39.7</br>Tool wear [min]: 141.0</br>TWF: 0.0</br>HDF: 0.0</br>PWF: 0.0</br>OSF: 0.0</br>_original_yhat_: 0.003318951211417192</br>"
          ],
          [
           "</br>id: 4176</br>prediction: 0.003</br>RNF: 0.41000000000000003</br></br>Type: M</br>Air temperature [K]: 302.3</br>Process temperature [K]: 310.7</br>Rotational speed [rpm]: 1544.0</br>Torque [Nm]: 39.7</br>Tool wear [min]: 141.0</br>TWF: 0.0</br>HDF: 0.0</br>PWF: 0.0</br>OSF: 0.0</br>_original_yhat_: 0.003318951211417192</br>"
          ],
          [
           "</br>id: 4176</br>prediction: 0.003</br>RNF: 0.42</br></br>Type: M</br>Air temperature [K]: 302.3</br>Process temperature [K]: 310.7</br>Rotational speed [rpm]: 1544.0</br>Torque [Nm]: 39.7</br>Tool wear [min]: 141.0</br>TWF: 0.0</br>HDF: 0.0</br>PWF: 0.0</br>OSF: 0.0</br>_original_yhat_: 0.003318951211417192</br>"
          ],
          [
           "</br>id: 4176</br>prediction: 0.003</br>RNF: 0.43</br></br>Type: M</br>Air temperature [K]: 302.3</br>Process temperature [K]: 310.7</br>Rotational speed [rpm]: 1544.0</br>Torque [Nm]: 39.7</br>Tool wear [min]: 141.0</br>TWF: 0.0</br>HDF: 0.0</br>PWF: 0.0</br>OSF: 0.0</br>_original_yhat_: 0.003318951211417192</br>"
          ],
          [
           "</br>id: 4176</br>prediction: 0.003</br>RNF: 0.44</br></br>Type: M</br>Air temperature [K]: 302.3</br>Process temperature [K]: 310.7</br>Rotational speed [rpm]: 1544.0</br>Torque [Nm]: 39.7</br>Tool wear [min]: 141.0</br>TWF: 0.0</br>HDF: 0.0</br>PWF: 0.0</br>OSF: 0.0</br>_original_yhat_: 0.003318951211417192</br>"
          ],
          [
           "</br>id: 4176</br>prediction: 0.003</br>RNF: 0.45</br></br>Type: M</br>Air temperature [K]: 302.3</br>Process temperature [K]: 310.7</br>Rotational speed [rpm]: 1544.0</br>Torque [Nm]: 39.7</br>Tool wear [min]: 141.0</br>TWF: 0.0</br>HDF: 0.0</br>PWF: 0.0</br>OSF: 0.0</br>_original_yhat_: 0.003318951211417192</br>"
          ],
          [
           "</br>id: 4176</br>prediction: 0.003</br>RNF: 0.46</br></br>Type: M</br>Air temperature [K]: 302.3</br>Process temperature [K]: 310.7</br>Rotational speed [rpm]: 1544.0</br>Torque [Nm]: 39.7</br>Tool wear [min]: 141.0</br>TWF: 0.0</br>HDF: 0.0</br>PWF: 0.0</br>OSF: 0.0</br>_original_yhat_: 0.003318951211417192</br>"
          ],
          [
           "</br>id: 4176</br>prediction: 0.003</br>RNF: 0.47000000000000003</br></br>Type: M</br>Air temperature [K]: 302.3</br>Process temperature [K]: 310.7</br>Rotational speed [rpm]: 1544.0</br>Torque [Nm]: 39.7</br>Tool wear [min]: 141.0</br>TWF: 0.0</br>HDF: 0.0</br>PWF: 0.0</br>OSF: 0.0</br>_original_yhat_: 0.003318951211417192</br>"
          ],
          [
           "</br>id: 4176</br>prediction: 0.003</br>RNF: 0.48</br></br>Type: M</br>Air temperature [K]: 302.3</br>Process temperature [K]: 310.7</br>Rotational speed [rpm]: 1544.0</br>Torque [Nm]: 39.7</br>Tool wear [min]: 141.0</br>TWF: 0.0</br>HDF: 0.0</br>PWF: 0.0</br>OSF: 0.0</br>_original_yhat_: 0.003318951211417192</br>"
          ],
          [
           "</br>id: 4176</br>prediction: 0.003</br>RNF: 0.49</br></br>Type: M</br>Air temperature [K]: 302.3</br>Process temperature [K]: 310.7</br>Rotational speed [rpm]: 1544.0</br>Torque [Nm]: 39.7</br>Tool wear [min]: 141.0</br>TWF: 0.0</br>HDF: 0.0</br>PWF: 0.0</br>OSF: 0.0</br>_original_yhat_: 0.003318951211417192</br>"
          ],
          [
           "</br>id: 4176</br>prediction: 0.003</br>RNF: 0.5</br></br>Type: M</br>Air temperature [K]: 302.3</br>Process temperature [K]: 310.7</br>Rotational speed [rpm]: 1544.0</br>Torque [Nm]: 39.7</br>Tool wear [min]: 141.0</br>TWF: 0.0</br>HDF: 0.0</br>PWF: 0.0</br>OSF: 0.0</br>_original_yhat_: 0.003318951211417192</br>"
          ],
          [
           "</br>id: 4176</br>prediction: 0.003</br>RNF: 0.51</br></br>Type: M</br>Air temperature [K]: 302.3</br>Process temperature [K]: 310.7</br>Rotational speed [rpm]: 1544.0</br>Torque [Nm]: 39.7</br>Tool wear [min]: 141.0</br>TWF: 0.0</br>HDF: 0.0</br>PWF: 0.0</br>OSF: 0.0</br>_original_yhat_: 0.003318951211417192</br>"
          ],
          [
           "</br>id: 4176</br>prediction: 0.003</br>RNF: 0.52</br></br>Type: M</br>Air temperature [K]: 302.3</br>Process temperature [K]: 310.7</br>Rotational speed [rpm]: 1544.0</br>Torque [Nm]: 39.7</br>Tool wear [min]: 141.0</br>TWF: 0.0</br>HDF: 0.0</br>PWF: 0.0</br>OSF: 0.0</br>_original_yhat_: 0.003318951211417192</br>"
          ],
          [
           "</br>id: 4176</br>prediction: 0.003</br>RNF: 0.53</br></br>Type: M</br>Air temperature [K]: 302.3</br>Process temperature [K]: 310.7</br>Rotational speed [rpm]: 1544.0</br>Torque [Nm]: 39.7</br>Tool wear [min]: 141.0</br>TWF: 0.0</br>HDF: 0.0</br>PWF: 0.0</br>OSF: 0.0</br>_original_yhat_: 0.003318951211417192</br>"
          ],
          [
           "</br>id: 4176</br>prediction: 0.003</br>RNF: 0.54</br></br>Type: M</br>Air temperature [K]: 302.3</br>Process temperature [K]: 310.7</br>Rotational speed [rpm]: 1544.0</br>Torque [Nm]: 39.7</br>Tool wear [min]: 141.0</br>TWF: 0.0</br>HDF: 0.0</br>PWF: 0.0</br>OSF: 0.0</br>_original_yhat_: 0.003318951211417192</br>"
          ],
          [
           "</br>id: 4176</br>prediction: 0.003</br>RNF: 0.55</br></br>Type: M</br>Air temperature [K]: 302.3</br>Process temperature [K]: 310.7</br>Rotational speed [rpm]: 1544.0</br>Torque [Nm]: 39.7</br>Tool wear [min]: 141.0</br>TWF: 0.0</br>HDF: 0.0</br>PWF: 0.0</br>OSF: 0.0</br>_original_yhat_: 0.003318951211417192</br>"
          ],
          [
           "</br>id: 4176</br>prediction: 0.003</br>RNF: 0.56</br></br>Type: M</br>Air temperature [K]: 302.3</br>Process temperature [K]: 310.7</br>Rotational speed [rpm]: 1544.0</br>Torque [Nm]: 39.7</br>Tool wear [min]: 141.0</br>TWF: 0.0</br>HDF: 0.0</br>PWF: 0.0</br>OSF: 0.0</br>_original_yhat_: 0.003318951211417192</br>"
          ],
          [
           "</br>id: 4176</br>prediction: 0.003</br>RNF: 0.5700000000000001</br></br>Type: M</br>Air temperature [K]: 302.3</br>Process temperature [K]: 310.7</br>Rotational speed [rpm]: 1544.0</br>Torque [Nm]: 39.7</br>Tool wear [min]: 141.0</br>TWF: 0.0</br>HDF: 0.0</br>PWF: 0.0</br>OSF: 0.0</br>_original_yhat_: 0.003318951211417192</br>"
          ],
          [
           "</br>id: 4176</br>prediction: 0.003</br>RNF: 0.58</br></br>Type: M</br>Air temperature [K]: 302.3</br>Process temperature [K]: 310.7</br>Rotational speed [rpm]: 1544.0</br>Torque [Nm]: 39.7</br>Tool wear [min]: 141.0</br>TWF: 0.0</br>HDF: 0.0</br>PWF: 0.0</br>OSF: 0.0</br>_original_yhat_: 0.003318951211417192</br>"
          ],
          [
           "</br>id: 4176</br>prediction: 0.003</br>RNF: 0.59</br></br>Type: M</br>Air temperature [K]: 302.3</br>Process temperature [K]: 310.7</br>Rotational speed [rpm]: 1544.0</br>Torque [Nm]: 39.7</br>Tool wear [min]: 141.0</br>TWF: 0.0</br>HDF: 0.0</br>PWF: 0.0</br>OSF: 0.0</br>_original_yhat_: 0.003318951211417192</br>"
          ],
          [
           "</br>id: 4176</br>prediction: 0.003</br>RNF: 0.6</br></br>Type: M</br>Air temperature [K]: 302.3</br>Process temperature [K]: 310.7</br>Rotational speed [rpm]: 1544.0</br>Torque [Nm]: 39.7</br>Tool wear [min]: 141.0</br>TWF: 0.0</br>HDF: 0.0</br>PWF: 0.0</br>OSF: 0.0</br>_original_yhat_: 0.003318951211417192</br>"
          ],
          [
           "</br>id: 4176</br>prediction: 0.003</br>RNF: 0.61</br></br>Type: M</br>Air temperature [K]: 302.3</br>Process temperature [K]: 310.7</br>Rotational speed [rpm]: 1544.0</br>Torque [Nm]: 39.7</br>Tool wear [min]: 141.0</br>TWF: 0.0</br>HDF: 0.0</br>PWF: 0.0</br>OSF: 0.0</br>_original_yhat_: 0.003318951211417192</br>"
          ],
          [
           "</br>id: 4176</br>prediction: 0.003</br>RNF: 0.62</br></br>Type: M</br>Air temperature [K]: 302.3</br>Process temperature [K]: 310.7</br>Rotational speed [rpm]: 1544.0</br>Torque [Nm]: 39.7</br>Tool wear [min]: 141.0</br>TWF: 0.0</br>HDF: 0.0</br>PWF: 0.0</br>OSF: 0.0</br>_original_yhat_: 0.003318951211417192</br>"
          ],
          [
           "</br>id: 4176</br>prediction: 0.003</br>RNF: 0.63</br></br>Type: M</br>Air temperature [K]: 302.3</br>Process temperature [K]: 310.7</br>Rotational speed [rpm]: 1544.0</br>Torque [Nm]: 39.7</br>Tool wear [min]: 141.0</br>TWF: 0.0</br>HDF: 0.0</br>PWF: 0.0</br>OSF: 0.0</br>_original_yhat_: 0.003318951211417192</br>"
          ],
          [
           "</br>id: 4176</br>prediction: 0.003</br>RNF: 0.64</br></br>Type: M</br>Air temperature [K]: 302.3</br>Process temperature [K]: 310.7</br>Rotational speed [rpm]: 1544.0</br>Torque [Nm]: 39.7</br>Tool wear [min]: 141.0</br>TWF: 0.0</br>HDF: 0.0</br>PWF: 0.0</br>OSF: 0.0</br>_original_yhat_: 0.003318951211417192</br>"
          ],
          [
           "</br>id: 4176</br>prediction: 0.003</br>RNF: 0.65</br></br>Type: M</br>Air temperature [K]: 302.3</br>Process temperature [K]: 310.7</br>Rotational speed [rpm]: 1544.0</br>Torque [Nm]: 39.7</br>Tool wear [min]: 141.0</br>TWF: 0.0</br>HDF: 0.0</br>PWF: 0.0</br>OSF: 0.0</br>_original_yhat_: 0.003318951211417192</br>"
          ],
          [
           "</br>id: 4176</br>prediction: 0.003</br>RNF: 0.66</br></br>Type: M</br>Air temperature [K]: 302.3</br>Process temperature [K]: 310.7</br>Rotational speed [rpm]: 1544.0</br>Torque [Nm]: 39.7</br>Tool wear [min]: 141.0</br>TWF: 0.0</br>HDF: 0.0</br>PWF: 0.0</br>OSF: 0.0</br>_original_yhat_: 0.003318951211417192</br>"
          ],
          [
           "</br>id: 4176</br>prediction: 0.003</br>RNF: 0.67</br></br>Type: M</br>Air temperature [K]: 302.3</br>Process temperature [K]: 310.7</br>Rotational speed [rpm]: 1544.0</br>Torque [Nm]: 39.7</br>Tool wear [min]: 141.0</br>TWF: 0.0</br>HDF: 0.0</br>PWF: 0.0</br>OSF: 0.0</br>_original_yhat_: 0.003318951211417192</br>"
          ],
          [
           "</br>id: 4176</br>prediction: 0.003</br>RNF: 0.68</br></br>Type: M</br>Air temperature [K]: 302.3</br>Process temperature [K]: 310.7</br>Rotational speed [rpm]: 1544.0</br>Torque [Nm]: 39.7</br>Tool wear [min]: 141.0</br>TWF: 0.0</br>HDF: 0.0</br>PWF: 0.0</br>OSF: 0.0</br>_original_yhat_: 0.003318951211417192</br>"
          ],
          [
           "</br>id: 4176</br>prediction: 0.003</br>RNF: 0.6900000000000001</br></br>Type: M</br>Air temperature [K]: 302.3</br>Process temperature [K]: 310.7</br>Rotational speed [rpm]: 1544.0</br>Torque [Nm]: 39.7</br>Tool wear [min]: 141.0</br>TWF: 0.0</br>HDF: 0.0</br>PWF: 0.0</br>OSF: 0.0</br>_original_yhat_: 0.003318951211417192</br>"
          ],
          [
           "</br>id: 4176</br>prediction: 0.003</br>RNF: 0.7000000000000001</br></br>Type: M</br>Air temperature [K]: 302.3</br>Process temperature [K]: 310.7</br>Rotational speed [rpm]: 1544.0</br>Torque [Nm]: 39.7</br>Tool wear [min]: 141.0</br>TWF: 0.0</br>HDF: 0.0</br>PWF: 0.0</br>OSF: 0.0</br>_original_yhat_: 0.003318951211417192</br>"
          ],
          [
           "</br>id: 4176</br>prediction: 0.003</br>RNF: 0.71</br></br>Type: M</br>Air temperature [K]: 302.3</br>Process temperature [K]: 310.7</br>Rotational speed [rpm]: 1544.0</br>Torque [Nm]: 39.7</br>Tool wear [min]: 141.0</br>TWF: 0.0</br>HDF: 0.0</br>PWF: 0.0</br>OSF: 0.0</br>_original_yhat_: 0.003318951211417192</br>"
          ],
          [
           "</br>id: 4176</br>prediction: 0.003</br>RNF: 0.72</br></br>Type: M</br>Air temperature [K]: 302.3</br>Process temperature [K]: 310.7</br>Rotational speed [rpm]: 1544.0</br>Torque [Nm]: 39.7</br>Tool wear [min]: 141.0</br>TWF: 0.0</br>HDF: 0.0</br>PWF: 0.0</br>OSF: 0.0</br>_original_yhat_: 0.003318951211417192</br>"
          ],
          [
           "</br>id: 4176</br>prediction: 0.003</br>RNF: 0.73</br></br>Type: M</br>Air temperature [K]: 302.3</br>Process temperature [K]: 310.7</br>Rotational speed [rpm]: 1544.0</br>Torque [Nm]: 39.7</br>Tool wear [min]: 141.0</br>TWF: 0.0</br>HDF: 0.0</br>PWF: 0.0</br>OSF: 0.0</br>_original_yhat_: 0.003318951211417192</br>"
          ],
          [
           "</br>id: 4176</br>prediction: 0.003</br>RNF: 0.74</br></br>Type: M</br>Air temperature [K]: 302.3</br>Process temperature [K]: 310.7</br>Rotational speed [rpm]: 1544.0</br>Torque [Nm]: 39.7</br>Tool wear [min]: 141.0</br>TWF: 0.0</br>HDF: 0.0</br>PWF: 0.0</br>OSF: 0.0</br>_original_yhat_: 0.003318951211417192</br>"
          ],
          [
           "</br>id: 4176</br>prediction: 0.003</br>RNF: 0.75</br></br>Type: M</br>Air temperature [K]: 302.3</br>Process temperature [K]: 310.7</br>Rotational speed [rpm]: 1544.0</br>Torque [Nm]: 39.7</br>Tool wear [min]: 141.0</br>TWF: 0.0</br>HDF: 0.0</br>PWF: 0.0</br>OSF: 0.0</br>_original_yhat_: 0.003318951211417192</br>"
          ],
          [
           "</br>id: 4176</br>prediction: 0.003</br>RNF: 0.76</br></br>Type: M</br>Air temperature [K]: 302.3</br>Process temperature [K]: 310.7</br>Rotational speed [rpm]: 1544.0</br>Torque [Nm]: 39.7</br>Tool wear [min]: 141.0</br>TWF: 0.0</br>HDF: 0.0</br>PWF: 0.0</br>OSF: 0.0</br>_original_yhat_: 0.003318951211417192</br>"
          ],
          [
           "</br>id: 4176</br>prediction: 0.003</br>RNF: 0.77</br></br>Type: M</br>Air temperature [K]: 302.3</br>Process temperature [K]: 310.7</br>Rotational speed [rpm]: 1544.0</br>Torque [Nm]: 39.7</br>Tool wear [min]: 141.0</br>TWF: 0.0</br>HDF: 0.0</br>PWF: 0.0</br>OSF: 0.0</br>_original_yhat_: 0.003318951211417192</br>"
          ],
          [
           "</br>id: 4176</br>prediction: 0.003</br>RNF: 0.78</br></br>Type: M</br>Air temperature [K]: 302.3</br>Process temperature [K]: 310.7</br>Rotational speed [rpm]: 1544.0</br>Torque [Nm]: 39.7</br>Tool wear [min]: 141.0</br>TWF: 0.0</br>HDF: 0.0</br>PWF: 0.0</br>OSF: 0.0</br>_original_yhat_: 0.003318951211417192</br>"
          ],
          [
           "</br>id: 4176</br>prediction: 0.003</br>RNF: 0.79</br></br>Type: M</br>Air temperature [K]: 302.3</br>Process temperature [K]: 310.7</br>Rotational speed [rpm]: 1544.0</br>Torque [Nm]: 39.7</br>Tool wear [min]: 141.0</br>TWF: 0.0</br>HDF: 0.0</br>PWF: 0.0</br>OSF: 0.0</br>_original_yhat_: 0.003318951211417192</br>"
          ],
          [
           "</br>id: 4176</br>prediction: 0.003</br>RNF: 0.8</br></br>Type: M</br>Air temperature [K]: 302.3</br>Process temperature [K]: 310.7</br>Rotational speed [rpm]: 1544.0</br>Torque [Nm]: 39.7</br>Tool wear [min]: 141.0</br>TWF: 0.0</br>HDF: 0.0</br>PWF: 0.0</br>OSF: 0.0</br>_original_yhat_: 0.003318951211417192</br>"
          ],
          [
           "</br>id: 4176</br>prediction: 0.003</br>RNF: 0.81</br></br>Type: M</br>Air temperature [K]: 302.3</br>Process temperature [K]: 310.7</br>Rotational speed [rpm]: 1544.0</br>Torque [Nm]: 39.7</br>Tool wear [min]: 141.0</br>TWF: 0.0</br>HDF: 0.0</br>PWF: 0.0</br>OSF: 0.0</br>_original_yhat_: 0.003318951211417192</br>"
          ],
          [
           "</br>id: 4176</br>prediction: 0.003</br>RNF: 0.8200000000000001</br></br>Type: M</br>Air temperature [K]: 302.3</br>Process temperature [K]: 310.7</br>Rotational speed [rpm]: 1544.0</br>Torque [Nm]: 39.7</br>Tool wear [min]: 141.0</br>TWF: 0.0</br>HDF: 0.0</br>PWF: 0.0</br>OSF: 0.0</br>_original_yhat_: 0.003318951211417192</br>"
          ],
          [
           "</br>id: 4176</br>prediction: 0.003</br>RNF: 0.8300000000000001</br></br>Type: M</br>Air temperature [K]: 302.3</br>Process temperature [K]: 310.7</br>Rotational speed [rpm]: 1544.0</br>Torque [Nm]: 39.7</br>Tool wear [min]: 141.0</br>TWF: 0.0</br>HDF: 0.0</br>PWF: 0.0</br>OSF: 0.0</br>_original_yhat_: 0.003318951211417192</br>"
          ],
          [
           "</br>id: 4176</br>prediction: 0.003</br>RNF: 0.84</br></br>Type: M</br>Air temperature [K]: 302.3</br>Process temperature [K]: 310.7</br>Rotational speed [rpm]: 1544.0</br>Torque [Nm]: 39.7</br>Tool wear [min]: 141.0</br>TWF: 0.0</br>HDF: 0.0</br>PWF: 0.0</br>OSF: 0.0</br>_original_yhat_: 0.003318951211417192</br>"
          ],
          [
           "</br>id: 4176</br>prediction: 0.003</br>RNF: 0.85</br></br>Type: M</br>Air temperature [K]: 302.3</br>Process temperature [K]: 310.7</br>Rotational speed [rpm]: 1544.0</br>Torque [Nm]: 39.7</br>Tool wear [min]: 141.0</br>TWF: 0.0</br>HDF: 0.0</br>PWF: 0.0</br>OSF: 0.0</br>_original_yhat_: 0.003318951211417192</br>"
          ],
          [
           "</br>id: 4176</br>prediction: 0.003</br>RNF: 0.86</br></br>Type: M</br>Air temperature [K]: 302.3</br>Process temperature [K]: 310.7</br>Rotational speed [rpm]: 1544.0</br>Torque [Nm]: 39.7</br>Tool wear [min]: 141.0</br>TWF: 0.0</br>HDF: 0.0</br>PWF: 0.0</br>OSF: 0.0</br>_original_yhat_: 0.003318951211417192</br>"
          ],
          [
           "</br>id: 4176</br>prediction: 0.003</br>RNF: 0.87</br></br>Type: M</br>Air temperature [K]: 302.3</br>Process temperature [K]: 310.7</br>Rotational speed [rpm]: 1544.0</br>Torque [Nm]: 39.7</br>Tool wear [min]: 141.0</br>TWF: 0.0</br>HDF: 0.0</br>PWF: 0.0</br>OSF: 0.0</br>_original_yhat_: 0.003318951211417192</br>"
          ],
          [
           "</br>id: 4176</br>prediction: 0.003</br>RNF: 0.88</br></br>Type: M</br>Air temperature [K]: 302.3</br>Process temperature [K]: 310.7</br>Rotational speed [rpm]: 1544.0</br>Torque [Nm]: 39.7</br>Tool wear [min]: 141.0</br>TWF: 0.0</br>HDF: 0.0</br>PWF: 0.0</br>OSF: 0.0</br>_original_yhat_: 0.003318951211417192</br>"
          ],
          [
           "</br>id: 4176</br>prediction: 0.003</br>RNF: 0.89</br></br>Type: M</br>Air temperature [K]: 302.3</br>Process temperature [K]: 310.7</br>Rotational speed [rpm]: 1544.0</br>Torque [Nm]: 39.7</br>Tool wear [min]: 141.0</br>TWF: 0.0</br>HDF: 0.0</br>PWF: 0.0</br>OSF: 0.0</br>_original_yhat_: 0.003318951211417192</br>"
          ],
          [
           "</br>id: 4176</br>prediction: 0.003</br>RNF: 0.9</br></br>Type: M</br>Air temperature [K]: 302.3</br>Process temperature [K]: 310.7</br>Rotational speed [rpm]: 1544.0</br>Torque [Nm]: 39.7</br>Tool wear [min]: 141.0</br>TWF: 0.0</br>HDF: 0.0</br>PWF: 0.0</br>OSF: 0.0</br>_original_yhat_: 0.003318951211417192</br>"
          ],
          [
           "</br>id: 4176</br>prediction: 0.003</br>RNF: 0.91</br></br>Type: M</br>Air temperature [K]: 302.3</br>Process temperature [K]: 310.7</br>Rotational speed [rpm]: 1544.0</br>Torque [Nm]: 39.7</br>Tool wear [min]: 141.0</br>TWF: 0.0</br>HDF: 0.0</br>PWF: 0.0</br>OSF: 0.0</br>_original_yhat_: 0.003318951211417192</br>"
          ],
          [
           "</br>id: 4176</br>prediction: 0.003</br>RNF: 0.92</br></br>Type: M</br>Air temperature [K]: 302.3</br>Process temperature [K]: 310.7</br>Rotational speed [rpm]: 1544.0</br>Torque [Nm]: 39.7</br>Tool wear [min]: 141.0</br>TWF: 0.0</br>HDF: 0.0</br>PWF: 0.0</br>OSF: 0.0</br>_original_yhat_: 0.003318951211417192</br>"
          ],
          [
           "</br>id: 4176</br>prediction: 0.003</br>RNF: 0.93</br></br>Type: M</br>Air temperature [K]: 302.3</br>Process temperature [K]: 310.7</br>Rotational speed [rpm]: 1544.0</br>Torque [Nm]: 39.7</br>Tool wear [min]: 141.0</br>TWF: 0.0</br>HDF: 0.0</br>PWF: 0.0</br>OSF: 0.0</br>_original_yhat_: 0.003318951211417192</br>"
          ],
          [
           "</br>id: 4176</br>prediction: 0.003</br>RNF: 0.9400000000000001</br></br>Type: M</br>Air temperature [K]: 302.3</br>Process temperature [K]: 310.7</br>Rotational speed [rpm]: 1544.0</br>Torque [Nm]: 39.7</br>Tool wear [min]: 141.0</br>TWF: 0.0</br>HDF: 0.0</br>PWF: 0.0</br>OSF: 0.0</br>_original_yhat_: 0.003318951211417192</br>"
          ],
          [
           "</br>id: 4176</br>prediction: 0.003</br>RNF: 0.9500000000000001</br></br>Type: M</br>Air temperature [K]: 302.3</br>Process temperature [K]: 310.7</br>Rotational speed [rpm]: 1544.0</br>Torque [Nm]: 39.7</br>Tool wear [min]: 141.0</br>TWF: 0.0</br>HDF: 0.0</br>PWF: 0.0</br>OSF: 0.0</br>_original_yhat_: 0.003318951211417192</br>"
          ],
          [
           "</br>id: 4176</br>prediction: 0.003</br>RNF: 0.96</br></br>Type: M</br>Air temperature [K]: 302.3</br>Process temperature [K]: 310.7</br>Rotational speed [rpm]: 1544.0</br>Torque [Nm]: 39.7</br>Tool wear [min]: 141.0</br>TWF: 0.0</br>HDF: 0.0</br>PWF: 0.0</br>OSF: 0.0</br>_original_yhat_: 0.003318951211417192</br>"
          ],
          [
           "</br>id: 4176</br>prediction: 0.003</br>RNF: 0.97</br></br>Type: M</br>Air temperature [K]: 302.3</br>Process temperature [K]: 310.7</br>Rotational speed [rpm]: 1544.0</br>Torque [Nm]: 39.7</br>Tool wear [min]: 141.0</br>TWF: 0.0</br>HDF: 0.0</br>PWF: 0.0</br>OSF: 0.0</br>_original_yhat_: 0.003318951211417192</br>"
          ],
          [
           "</br>id: 4176</br>prediction: 0.003</br>RNF: 0.98</br></br>Type: M</br>Air temperature [K]: 302.3</br>Process temperature [K]: 310.7</br>Rotational speed [rpm]: 1544.0</br>Torque [Nm]: 39.7</br>Tool wear [min]: 141.0</br>TWF: 0.0</br>HDF: 0.0</br>PWF: 0.0</br>OSF: 0.0</br>_original_yhat_: 0.003318951211417192</br>"
          ],
          [
           "</br>id: 4176</br>prediction: 0.003</br>RNF: 0.99</br></br>Type: M</br>Air temperature [K]: 302.3</br>Process temperature [K]: 310.7</br>Rotational speed [rpm]: 1544.0</br>Torque [Nm]: 39.7</br>Tool wear [min]: 141.0</br>TWF: 0.0</br>HDF: 0.0</br>PWF: 0.0</br>OSF: 0.0</br>_original_yhat_: 0.003318951211417192</br>"
          ],
          [
           "</br>id: 4176</br>prediction: 0.003</br>RNF: 1.0</br></br>Type: M</br>Air temperature [K]: 302.3</br>Process temperature [K]: 310.7</br>Rotational speed [rpm]: 1544.0</br>Torque [Nm]: 39.7</br>Tool wear [min]: 141.0</br>TWF: 0.0</br>HDF: 0.0</br>PWF: 0.0</br>OSF: 0.0</br>_original_yhat_: 0.003318951211417192</br>"
          ]
         ],
         "hovertemplate": "%{customdata[0]}<extra></extra>",
         "legendgroup": "testing",
         "line": {
          "color": "#46bac2",
          "dash": "solid",
          "width": 2
         },
         "marker": {
          "symbol": "circle"
         },
         "mode": "lines",
         "name": "testing",
         "opacity": 1,
         "showlegend": false,
         "type": "scattergl",
         "x": [
          0,
          0.01,
          0.02,
          0.03,
          0.04,
          0.05,
          0.06,
          0.07,
          0.08,
          0.09,
          0.1,
          0.11,
          0.12,
          0.13,
          0.14,
          0.15,
          0.16,
          0.17,
          0.18,
          0.19,
          0.2,
          0.21,
          0.22,
          0.23,
          0.24,
          0.25,
          0.26,
          0.27,
          0.28,
          0.29,
          0.3,
          0.31,
          0.32,
          0.33,
          0.34,
          0.35000000000000003,
          0.36,
          0.37,
          0.38,
          0.39,
          0.4,
          0.41000000000000003,
          0.42,
          0.43,
          0.44,
          0.45,
          0.46,
          0.47000000000000003,
          0.48,
          0.49,
          0.5,
          0.51,
          0.52,
          0.53,
          0.54,
          0.55,
          0.56,
          0.5700000000000001,
          0.58,
          0.59,
          0.6,
          0.61,
          0.62,
          0.63,
          0.64,
          0.65,
          0.66,
          0.67,
          0.68,
          0.6900000000000001,
          0.7000000000000001,
          0.71,
          0.72,
          0.73,
          0.74,
          0.75,
          0.76,
          0.77,
          0.78,
          0.79,
          0.8,
          0.81,
          0.8200000000000001,
          0.8300000000000001,
          0.84,
          0.85,
          0.86,
          0.87,
          0.88,
          0.89,
          0.9,
          0.91,
          0.92,
          0.93,
          0.9400000000000001,
          0.9500000000000001,
          0.96,
          0.97,
          0.98,
          0.99,
          1
         ],
         "xaxis": "x2",
         "y": [
          0.003318951211417192,
          0.003318951211417192,
          0.003318951211417192,
          0.003318951211417192,
          0.003318951211417192,
          0.003318951211417192,
          0.003318951211417192,
          0.003318951211417192,
          0.003318951211417192,
          0.003318951211417192,
          0.003318951211417192,
          0.003318951211417192,
          0.003318951211417192,
          0.003318951211417192,
          0.003318951211417192,
          0.003318951211417192,
          0.003318951211417192,
          0.003318951211417192,
          0.003318951211417192,
          0.003318951211417192,
          0.003318951211417192,
          0.003318951211417192,
          0.003318951211417192,
          0.003318951211417192,
          0.003318951211417192,
          0.003318951211417192,
          0.003318951211417192,
          0.003318951211417192,
          0.003318951211417192,
          0.003318951211417192,
          0.003318951211417192,
          0.003318951211417192,
          0.003318951211417192,
          0.003318951211417192,
          0.003318951211417192,
          0.003318951211417192,
          0.003318951211417192,
          0.003318951211417192,
          0.003318951211417192,
          0.003318951211417192,
          0.003318951211417192,
          0.003318951211417192,
          0.003318951211417192,
          0.003318951211417192,
          0.003318951211417192,
          0.003318951211417192,
          0.003318951211417192,
          0.003318951211417192,
          0.003318951211417192,
          0.003318951211417192,
          0.003318951211417192,
          0.003318951211417192,
          0.003318951211417192,
          0.003318951211417192,
          0.003318951211417192,
          0.003318951211417192,
          0.003318951211417192,
          0.003318951211417192,
          0.003318951211417192,
          0.003318951211417192,
          0.003318951211417192,
          0.003318951211417192,
          0.003318951211417192,
          0.003318951211417192,
          0.003318951211417192,
          0.003318951211417192,
          0.003318951211417192,
          0.003318951211417192,
          0.003318951211417192,
          0.003318951211417192,
          0.003318951211417192,
          0.003318951211417192,
          0.003318951211417192,
          0.003318951211417192,
          0.003318951211417192,
          0.003318951211417192,
          0.003318951211417192,
          0.003318951211417192,
          0.003318951211417192,
          0.003318951211417192,
          0.003318951211417192,
          0.003318951211417192,
          0.003318951211417192,
          0.003318951211417192,
          0.003318951211417192,
          0.003318951211417192,
          0.003318951211417192,
          0.003318951211417192,
          0.003318951211417192,
          0.003318951211417192,
          0.003318951211417192,
          0.003318951211417192,
          0.003318951211417192,
          0.003318951211417192,
          0.003318951211417192,
          0.003318951211417192,
          0.003318951211417192,
          0.003318951211417192,
          0.003318951211417192,
          0.003318951211417192,
          0.003318951211417192
         ],
         "yaxis": "y2"
        },
        {
         "customdata": [
          [
           "</br>id: 4176</br>prediction: 0.003</br>Air temperature [K]: 302.3</br></br>Type: M</br>Process temperature [K]: 310.7</br>Rotational speed [rpm]: 1544.0</br>Torque [Nm]: 39.7</br>Tool wear [min]: 141.0</br>TWF: 0.0</br>HDF: 0.0</br>PWF: 0.0</br>OSF: 0.0</br>RNF: 0.0</br>_original_yhat_: 0.003318951211417192</br>"
          ]
         ],
         "hovertemplate": "%{customdata[0]}<extra></extra>",
         "legendgroup": "",
         "marker": {
          "color": "#371ea3",
          "size": 10,
          "symbol": "circle"
         },
         "mode": "markers",
         "name": "",
         "opacity": 1,
         "orientation": "v",
         "showlegend": false,
         "type": "scatter",
         "x": [
          302.3
         ],
         "xaxis": "x9",
         "y": [
          0.003318951211417192
         ],
         "yaxis": "y9"
        },
        {
         "customdata": [
          [
           "</br>id: 4176</br>prediction: 0.003</br>Process temperature [K]: 310.7</br></br>Type: M</br>Air temperature [K]: 302.3</br>Rotational speed [rpm]: 1544.0</br>Torque [Nm]: 39.7</br>Tool wear [min]: 141.0</br>TWF: 0.0</br>HDF: 0.0</br>PWF: 0.0</br>OSF: 0.0</br>RNF: 0.0</br>_original_yhat_: 0.003318951211417192</br>"
          ]
         ],
         "hovertemplate": "%{customdata[0]}<extra></extra>",
         "legendgroup": "",
         "marker": {
          "color": "#371ea3",
          "size": 10,
          "symbol": "circle"
         },
         "mode": "markers",
         "name": "",
         "opacity": 1,
         "orientation": "v",
         "showlegend": false,
         "type": "scatter",
         "x": [
          310.7
         ],
         "xaxis": "x10",
         "y": [
          0.003318951211417192
         ],
         "yaxis": "y10"
        },
        {
         "customdata": [
          [
           "</br>id: 4176</br>prediction: 0.003</br>Rotational speed [rpm]: 1544.0</br></br>Type: M</br>Air temperature [K]: 302.3</br>Process temperature [K]: 310.7</br>Torque [Nm]: 39.7</br>Tool wear [min]: 141.0</br>TWF: 0.0</br>HDF: 0.0</br>PWF: 0.0</br>OSF: 0.0</br>RNF: 0.0</br>_original_yhat_: 0.003318951211417192</br>"
          ]
         ],
         "hovertemplate": "%{customdata[0]}<extra></extra>",
         "legendgroup": "",
         "marker": {
          "color": "#371ea3",
          "size": 10,
          "symbol": "circle"
         },
         "mode": "markers",
         "name": "",
         "opacity": 1,
         "orientation": "v",
         "showlegend": false,
         "type": "scatter",
         "x": [
          1544
         ],
         "xaxis": "x7",
         "y": [
          0.003318951211417192
         ],
         "yaxis": "y7"
        },
        {
         "customdata": [
          [
           "</br>id: 4176</br>prediction: 0.003</br>Torque [Nm]: 39.7</br></br>Type: M</br>Air temperature [K]: 302.3</br>Process temperature [K]: 310.7</br>Rotational speed [rpm]: 1544.0</br>Tool wear [min]: 141.0</br>TWF: 0.0</br>HDF: 0.0</br>PWF: 0.0</br>OSF: 0.0</br>RNF: 0.0</br>_original_yhat_: 0.003318951211417192</br>"
          ]
         ],
         "hovertemplate": "%{customdata[0]}<extra></extra>",
         "legendgroup": "",
         "marker": {
          "color": "#371ea3",
          "size": 10,
          "symbol": "circle"
         },
         "mode": "markers",
         "name": "",
         "opacity": 1,
         "orientation": "v",
         "showlegend": false,
         "type": "scatter",
         "x": [
          39.7
         ],
         "xaxis": "x8",
         "y": [
          0.003318951211417192
         ],
         "yaxis": "y8"
        },
        {
         "customdata": [
          [
           "</br>id: 4176</br>prediction: 0.003</br>Tool wear [min]: 141.0</br></br>Type: M</br>Air temperature [K]: 302.3</br>Process temperature [K]: 310.7</br>Rotational speed [rpm]: 1544.0</br>Torque [Nm]: 39.7</br>TWF: 0.0</br>HDF: 0.0</br>PWF: 0.0</br>OSF: 0.0</br>RNF: 0.0</br>_original_yhat_: 0.003318951211417192</br>"
          ]
         ],
         "hovertemplate": "%{customdata[0]}<extra></extra>",
         "legendgroup": "",
         "marker": {
          "color": "#371ea3",
          "size": 10,
          "symbol": "circle"
         },
         "mode": "markers",
         "name": "",
         "opacity": 1,
         "orientation": "v",
         "showlegend": false,
         "type": "scatter",
         "x": [
          141
         ],
         "xaxis": "x5",
         "y": [
          0.003318951211417192
         ],
         "yaxis": "y5"
        },
        {
         "customdata": [
          [
           "</br>id: 4176</br>prediction: 0.003</br>TWF: 0.0</br></br>Type: M</br>Air temperature [K]: 302.3</br>Process temperature [K]: 310.7</br>Rotational speed [rpm]: 1544.0</br>Torque [Nm]: 39.7</br>Tool wear [min]: 141.0</br>HDF: 0.0</br>PWF: 0.0</br>OSF: 0.0</br>RNF: 0.0</br>_original_yhat_: 0.003318951211417192</br>"
          ]
         ],
         "hovertemplate": "%{customdata[0]}<extra></extra>",
         "legendgroup": "",
         "marker": {
          "color": "#371ea3",
          "size": 10,
          "symbol": "circle"
         },
         "mode": "markers",
         "name": "",
         "opacity": 1,
         "orientation": "v",
         "showlegend": false,
         "type": "scatter",
         "x": [
          0
         ],
         "xaxis": "x6",
         "y": [
          0.003318951211417192
         ],
         "yaxis": "y6"
        },
        {
         "customdata": [
          [
           "</br>id: 4176</br>prediction: 0.003</br>HDF: 0.0</br></br>Type: M</br>Air temperature [K]: 302.3</br>Process temperature [K]: 310.7</br>Rotational speed [rpm]: 1544.0</br>Torque [Nm]: 39.7</br>Tool wear [min]: 141.0</br>TWF: 0.0</br>PWF: 0.0</br>OSF: 0.0</br>RNF: 0.0</br>_original_yhat_: 0.003318951211417192</br>"
          ]
         ],
         "hovertemplate": "%{customdata[0]}<extra></extra>",
         "legendgroup": "",
         "marker": {
          "color": "#371ea3",
          "size": 10,
          "symbol": "circle"
         },
         "mode": "markers",
         "name": "",
         "opacity": 1,
         "orientation": "v",
         "showlegend": false,
         "type": "scatter",
         "x": [
          0
         ],
         "xaxis": "x3",
         "y": [
          0.003318951211417192
         ],
         "yaxis": "y3"
        },
        {
         "customdata": [
          [
           "</br>id: 4176</br>prediction: 0.003</br>PWF: 0.0</br></br>Type: M</br>Air temperature [K]: 302.3</br>Process temperature [K]: 310.7</br>Rotational speed [rpm]: 1544.0</br>Torque [Nm]: 39.7</br>Tool wear [min]: 141.0</br>TWF: 0.0</br>HDF: 0.0</br>OSF: 0.0</br>RNF: 0.0</br>_original_yhat_: 0.003318951211417192</br>"
          ]
         ],
         "hovertemplate": "%{customdata[0]}<extra></extra>",
         "legendgroup": "",
         "marker": {
          "color": "#371ea3",
          "size": 10,
          "symbol": "circle"
         },
         "mode": "markers",
         "name": "",
         "opacity": 1,
         "orientation": "v",
         "showlegend": false,
         "type": "scatter",
         "x": [
          0
         ],
         "xaxis": "x4",
         "y": [
          0.003318951211417192
         ],
         "yaxis": "y4"
        },
        {
         "customdata": [
          [
           "</br>id: 4176</br>prediction: 0.003</br>OSF: 0.0</br></br>Type: M</br>Air temperature [K]: 302.3</br>Process temperature [K]: 310.7</br>Rotational speed [rpm]: 1544.0</br>Torque [Nm]: 39.7</br>Tool wear [min]: 141.0</br>TWF: 0.0</br>HDF: 0.0</br>PWF: 0.0</br>RNF: 0.0</br>_original_yhat_: 0.003318951211417192</br>"
          ]
         ],
         "hovertemplate": "%{customdata[0]}<extra></extra>",
         "legendgroup": "",
         "marker": {
          "color": "#371ea3",
          "size": 10,
          "symbol": "circle"
         },
         "mode": "markers",
         "name": "",
         "opacity": 1,
         "orientation": "v",
         "showlegend": false,
         "type": "scatter",
         "x": [
          0
         ],
         "xaxis": "x",
         "y": [
          0.003318951211417192
         ],
         "yaxis": "y"
        },
        {
         "customdata": [
          [
           "</br>id: 4176</br>prediction: 0.003</br>RNF: 0.0</br></br>Type: M</br>Air temperature [K]: 302.3</br>Process temperature [K]: 310.7</br>Rotational speed [rpm]: 1544.0</br>Torque [Nm]: 39.7</br>Tool wear [min]: 141.0</br>TWF: 0.0</br>HDF: 0.0</br>PWF: 0.0</br>OSF: 0.0</br>_original_yhat_: 0.003318951211417192</br>"
          ]
         ],
         "hovertemplate": "%{customdata[0]}<extra></extra>",
         "legendgroup": "",
         "marker": {
          "color": "#371ea3",
          "size": 10,
          "symbol": "circle"
         },
         "mode": "markers",
         "name": "",
         "opacity": 1,
         "orientation": "v",
         "showlegend": false,
         "type": "scatter",
         "x": [
          0
         ],
         "xaxis": "x2",
         "y": [
          0.003318951211417192
         ],
         "yaxis": "y2"
        }
       ],
       "layout": {
        "annotations": [
         {
          "font": {
           "size": 13
          },
          "showarrow": false,
          "text": "OSF",
          "x": 0.2375,
          "xanchor": "center",
          "xref": "paper",
          "y": 0.15200000000000002,
          "yanchor": "bottom",
          "yref": "paper"
         },
         {
          "font": {
           "size": 13
          },
          "showarrow": false,
          "text": "RNF",
          "x": 0.7625,
          "xanchor": "center",
          "xref": "paper",
          "y": 0.15200000000000002,
          "yanchor": "bottom",
          "yref": "paper"
         },
         {
          "font": {
           "size": 13
          },
          "showarrow": false,
          "text": "HDF",
          "x": 0.2375,
          "xanchor": "center",
          "xref": "paper",
          "y": 0.36400000000000005,
          "yanchor": "bottom",
          "yref": "paper"
         },
         {
          "font": {
           "size": 13
          },
          "showarrow": false,
          "text": "PWF",
          "x": 0.7625,
          "xanchor": "center",
          "xref": "paper",
          "y": 0.36400000000000005,
          "yanchor": "bottom",
          "yref": "paper"
         },
         {
          "font": {
           "size": 13
          },
          "showarrow": false,
          "text": "Tool wear [min]",
          "x": 0.2375,
          "xanchor": "center",
          "xref": "paper",
          "y": 0.5760000000000001,
          "yanchor": "bottom",
          "yref": "paper"
         },
         {
          "font": {
           "size": 13
          },
          "showarrow": false,
          "text": "TWF",
          "x": 0.7625,
          "xanchor": "center",
          "xref": "paper",
          "y": 0.5760000000000001,
          "yanchor": "bottom",
          "yref": "paper"
         },
         {
          "font": {
           "size": 13
          },
          "showarrow": false,
          "text": "Rotational speed [rpm]",
          "x": 0.2375,
          "xanchor": "center",
          "xref": "paper",
          "y": 0.7880000000000001,
          "yanchor": "bottom",
          "yref": "paper"
         },
         {
          "font": {
           "size": 13
          },
          "showarrow": false,
          "text": "Torque [Nm]",
          "x": 0.7625,
          "xanchor": "center",
          "xref": "paper",
          "y": 0.7880000000000001,
          "yanchor": "bottom",
          "yref": "paper"
         },
         {
          "font": {
           "size": 13
          },
          "showarrow": false,
          "text": "Air temperature [K]",
          "x": 0.2375,
          "xanchor": "center",
          "xref": "paper",
          "y": 1,
          "yanchor": "bottom",
          "yref": "paper"
         },
         {
          "font": {
           "size": 13
          },
          "showarrow": false,
          "text": "Process temperature [K]",
          "x": 0.7625,
          "xanchor": "center",
          "xref": "paper",
          "y": 1,
          "yanchor": "bottom",
          "yref": "paper"
         },
         {
          "font": {
           "size": 13
          },
          "showarrow": false,
          "text": "prediction",
          "textangle": -90,
          "x": -0.07,
          "xref": "paper",
          "y": 0.5,
          "yref": "paper"
         }
        ],
        "font": {
         "color": "#371ea3"
        },
        "height": 1849,
        "hoverlabel": {
         "bgcolor": "rgba(0,0,0,0.8)"
        },
        "hovermode": "closest",
        "legend": {
         "font": {
          "size": 11
         },
         "itemsizing": "constant",
         "orientation": "h",
         "title": {
          "font": {
           "size": 12
          },
          "text": "label"
         },
         "tracegroupgap": 0,
         "x": 1,
         "xanchor": "right",
         "y": 1.016224986479178,
         "yanchor": "bottom"
        },
        "margin": {
         "b": 71,
         "r": 30,
         "t": 78
        },
        "template": {
         "data": {
          "scatter": [
           {
            "type": "scatter"
           }
          ]
         }
        },
        "title": {
         "font": {
          "size": 16
         },
         "text": "Ceteris Paribus Profiles",
         "x": 0.15
        },
        "xaxis": {
         "anchor": "y",
         "automargin": true,
         "domain": [
          0,
          0.475
         ],
         "fixedrange": true,
         "gridwidth": 2,
         "showticklabels": true,
         "tickcolor": "white",
         "ticklen": 3,
         "ticks": "outside",
         "title": {
          "text": ""
         },
         "type": "linear",
         "zeroline": false
        },
        "xaxis10": {
         "anchor": "y10",
         "automargin": true,
         "domain": [
          0.525,
          1
         ],
         "fixedrange": true,
         "gridwidth": 2,
         "showticklabels": true,
         "tickcolor": "white",
         "ticklen": 3,
         "ticks": "outside",
         "title": {
          "text": ""
         },
         "type": "linear",
         "zeroline": false
        },
        "xaxis2": {
         "anchor": "y2",
         "automargin": true,
         "domain": [
          0.525,
          1
         ],
         "fixedrange": true,
         "gridwidth": 2,
         "showticklabels": true,
         "tickcolor": "white",
         "ticklen": 3,
         "ticks": "outside",
         "title": {
          "text": ""
         },
         "type": "linear",
         "zeroline": false
        },
        "xaxis3": {
         "anchor": "y3",
         "automargin": true,
         "domain": [
          0,
          0.475
         ],
         "fixedrange": true,
         "gridwidth": 2,
         "showticklabels": true,
         "tickcolor": "white",
         "ticklen": 3,
         "ticks": "outside",
         "title": {
          "text": ""
         },
         "type": "linear",
         "zeroline": false
        },
        "xaxis4": {
         "anchor": "y4",
         "automargin": true,
         "domain": [
          0.525,
          1
         ],
         "fixedrange": true,
         "gridwidth": 2,
         "showticklabels": true,
         "tickcolor": "white",
         "ticklen": 3,
         "ticks": "outside",
         "title": {
          "text": ""
         },
         "type": "linear",
         "zeroline": false
        },
        "xaxis5": {
         "anchor": "y5",
         "automargin": true,
         "domain": [
          0,
          0.475
         ],
         "fixedrange": true,
         "gridwidth": 2,
         "showticklabels": true,
         "tickcolor": "white",
         "ticklen": 3,
         "ticks": "outside",
         "title": {
          "text": ""
         },
         "type": "linear",
         "zeroline": false
        },
        "xaxis6": {
         "anchor": "y6",
         "automargin": true,
         "domain": [
          0.525,
          1
         ],
         "fixedrange": true,
         "gridwidth": 2,
         "showticklabels": true,
         "tickcolor": "white",
         "ticklen": 3,
         "ticks": "outside",
         "title": {
          "text": ""
         },
         "type": "linear",
         "zeroline": false
        },
        "xaxis7": {
         "anchor": "y7",
         "automargin": true,
         "domain": [
          0,
          0.475
         ],
         "fixedrange": true,
         "gridwidth": 2,
         "showticklabels": true,
         "tickcolor": "white",
         "ticklen": 3,
         "ticks": "outside",
         "title": {
          "text": ""
         },
         "type": "linear",
         "zeroline": false
        },
        "xaxis8": {
         "anchor": "y8",
         "automargin": true,
         "domain": [
          0.525,
          1
         ],
         "fixedrange": true,
         "gridwidth": 2,
         "showticklabels": true,
         "tickcolor": "white",
         "ticklen": 3,
         "ticks": "outside",
         "title": {
          "text": ""
         },
         "type": "linear",
         "zeroline": false
        },
        "xaxis9": {
         "anchor": "y9",
         "automargin": true,
         "domain": [
          0,
          0.475
         ],
         "fixedrange": true,
         "gridwidth": 2,
         "showticklabels": true,
         "tickcolor": "white",
         "ticklen": 3,
         "ticks": "outside",
         "title": {
          "text": ""
         },
         "type": "linear",
         "zeroline": false
        },
        "yaxis": {
         "anchor": "x",
         "automargin": true,
         "domain": [
          0,
          0.15200000000000002
         ],
         "fixedrange": true,
         "gridwidth": 2,
         "range": [
          -0.00033189512114171923,
          0.003650846332558911
         ],
         "tickcolor": "white",
         "ticklen": 3,
         "ticks": "outside",
         "title": {
          "text": ""
         },
         "type": "linear",
         "zeroline": false
        },
        "yaxis10": {
         "anchor": "x10",
         "automargin": true,
         "domain": [
          0.8480000000000001,
          1
         ],
         "fixedrange": true,
         "gridwidth": 2,
         "matches": "y",
         "range": [
          -0.00033189512114171923,
          0.003650846332558911
         ],
         "showticklabels": false,
         "tickcolor": "white",
         "ticklen": 3,
         "ticks": "outside",
         "title": {
          "text": ""
         },
         "type": "linear",
         "zeroline": false
        },
        "yaxis2": {
         "anchor": "x2",
         "automargin": true,
         "domain": [
          0,
          0.15200000000000002
         ],
         "fixedrange": true,
         "gridwidth": 2,
         "matches": "y",
         "range": [
          -0.00033189512114171923,
          0.003650846332558911
         ],
         "showticklabels": false,
         "tickcolor": "white",
         "ticklen": 3,
         "ticks": "outside",
         "title": {
          "text": ""
         },
         "type": "linear",
         "zeroline": false
        },
        "yaxis3": {
         "anchor": "x3",
         "automargin": true,
         "domain": [
          0.21200000000000002,
          0.36400000000000005
         ],
         "fixedrange": true,
         "gridwidth": 2,
         "matches": "y",
         "range": [
          -0.00033189512114171923,
          0.003650846332558911
         ],
         "tickcolor": "white",
         "ticklen": 3,
         "ticks": "outside",
         "title": {
          "text": ""
         },
         "type": "linear",
         "zeroline": false
        },
        "yaxis4": {
         "anchor": "x4",
         "automargin": true,
         "domain": [
          0.21200000000000002,
          0.36400000000000005
         ],
         "fixedrange": true,
         "gridwidth": 2,
         "matches": "y",
         "range": [
          -0.00033189512114171923,
          0.003650846332558911
         ],
         "showticklabels": false,
         "tickcolor": "white",
         "ticklen": 3,
         "ticks": "outside",
         "title": {
          "text": ""
         },
         "type": "linear",
         "zeroline": false
        },
        "yaxis5": {
         "anchor": "x5",
         "automargin": true,
         "domain": [
          0.42400000000000004,
          0.5760000000000001
         ],
         "fixedrange": true,
         "gridwidth": 2,
         "matches": "y",
         "range": [
          -0.00033189512114171923,
          0.003650846332558911
         ],
         "tickcolor": "white",
         "ticklen": 3,
         "ticks": "outside",
         "title": {
          "text": ""
         },
         "type": "linear",
         "zeroline": false
        },
        "yaxis6": {
         "anchor": "x6",
         "automargin": true,
         "domain": [
          0.42400000000000004,
          0.5760000000000001
         ],
         "fixedrange": true,
         "gridwidth": 2,
         "matches": "y",
         "range": [
          -0.00033189512114171923,
          0.003650846332558911
         ],
         "showticklabels": false,
         "tickcolor": "white",
         "ticklen": 3,
         "ticks": "outside",
         "title": {
          "text": ""
         },
         "type": "linear",
         "zeroline": false
        },
        "yaxis7": {
         "anchor": "x7",
         "automargin": true,
         "domain": [
          0.6360000000000001,
          0.7880000000000001
         ],
         "fixedrange": true,
         "gridwidth": 2,
         "matches": "y",
         "range": [
          -0.00033189512114171923,
          0.003650846332558911
         ],
         "tickcolor": "white",
         "ticklen": 3,
         "ticks": "outside",
         "title": {
          "text": ""
         },
         "type": "linear",
         "zeroline": false
        },
        "yaxis8": {
         "anchor": "x8",
         "automargin": true,
         "domain": [
          0.6360000000000001,
          0.7880000000000001
         ],
         "fixedrange": true,
         "gridwidth": 2,
         "matches": "y",
         "range": [
          -0.00033189512114171923,
          0.003650846332558911
         ],
         "showticklabels": false,
         "tickcolor": "white",
         "ticklen": 3,
         "ticks": "outside",
         "title": {
          "text": ""
         },
         "type": "linear",
         "zeroline": false
        },
        "yaxis9": {
         "anchor": "x9",
         "automargin": true,
         "domain": [
          0.8480000000000001,
          1
         ],
         "fixedrange": true,
         "gridwidth": 2,
         "matches": "y",
         "range": [
          -0.00033189512114171923,
          0.003650846332558911
         ],
         "tickcolor": "white",
         "ticklen": 3,
         "ticks": "outside",
         "title": {
          "text": ""
         },
         "type": "linear",
         "zeroline": false
        }
       }
      },
      "text/html": [
       "<div>                            <div id=\"fc49752a-cd65-4361-9910-4da492f514c9\" class=\"plotly-graph-div\" style=\"height:1849px; width:100%;\"></div>            <script type=\"text/javascript\">                require([\"plotly\"], function(Plotly) {                    window.PLOTLYENV=window.PLOTLYENV || {};                                    if (document.getElementById(\"fc49752a-cd65-4361-9910-4da492f514c9\")) {                    Plotly.newPlot(                        \"fc49752a-cd65-4361-9910-4da492f514c9\",                        [{\"customdata\":[[\"</br>id: 4176</br>prediction: 0.003</br>Air temperature [K]: 295.3</br></br>Type: M</br>Process temperature [K]: 310.7</br>Rotational speed [rpm]: 1544.0</br>Torque [Nm]: 39.7</br>Tool wear [min]: 141.0</br>TWF: 0.0</br>HDF: 0.0</br>PWF: 0.0</br>OSF: 0.0</br>RNF: 0.0</br>_original_yhat_: 0.003318951211417192</br>\"],[\"</br>id: 4176</br>prediction: 0.003</br>Air temperature [K]: 295.392</br></br>Type: M</br>Process temperature [K]: 310.7</br>Rotational speed [rpm]: 1544.0</br>Torque [Nm]: 39.7</br>Tool wear [min]: 141.0</br>TWF: 0.0</br>HDF: 0.0</br>PWF: 0.0</br>OSF: 0.0</br>RNF: 0.0</br>_original_yhat_: 0.003318951211417192</br>\"],[\"</br>id: 4176</br>prediction: 0.003</br>Air temperature [K]: 295.48400000000004</br></br>Type: M</br>Process temperature [K]: 310.7</br>Rotational speed [rpm]: 1544.0</br>Torque [Nm]: 39.7</br>Tool wear [min]: 141.0</br>TWF: 0.0</br>HDF: 0.0</br>PWF: 0.0</br>OSF: 0.0</br>RNF: 0.0</br>_original_yhat_: 0.003318951211417192</br>\"],[\"</br>id: 4176</br>prediction: 0.003</br>Air temperature [K]: 295.576</br></br>Type: M</br>Process temperature [K]: 310.7</br>Rotational speed [rpm]: 1544.0</br>Torque [Nm]: 39.7</br>Tool wear [min]: 141.0</br>TWF: 0.0</br>HDF: 0.0</br>PWF: 0.0</br>OSF: 0.0</br>RNF: 0.0</br>_original_yhat_: 0.003318951211417192</br>\"],[\"</br>id: 4176</br>prediction: 0.003</br>Air temperature [K]: 295.668</br></br>Type: M</br>Process temperature [K]: 310.7</br>Rotational speed [rpm]: 1544.0</br>Torque [Nm]: 39.7</br>Tool wear [min]: 141.0</br>TWF: 0.0</br>HDF: 0.0</br>PWF: 0.0</br>OSF: 0.0</br>RNF: 0.0</br>_original_yhat_: 0.003318951211417192</br>\"],[\"</br>id: 4176</br>prediction: 0.003</br>Air temperature [K]: 295.76</br></br>Type: M</br>Process temperature [K]: 310.7</br>Rotational speed [rpm]: 1544.0</br>Torque [Nm]: 39.7</br>Tool wear [min]: 141.0</br>TWF: 0.0</br>HDF: 0.0</br>PWF: 0.0</br>OSF: 0.0</br>RNF: 0.0</br>_original_yhat_: 0.003318951211417192</br>\"],[\"</br>id: 4176</br>prediction: 0.003</br>Air temperature [K]: 295.85200000000003</br></br>Type: M</br>Process temperature [K]: 310.7</br>Rotational speed [rpm]: 1544.0</br>Torque [Nm]: 39.7</br>Tool wear [min]: 141.0</br>TWF: 0.0</br>HDF: 0.0</br>PWF: 0.0</br>OSF: 0.0</br>RNF: 0.0</br>_original_yhat_: 0.003318951211417192</br>\"],[\"</br>id: 4176</br>prediction: 0.003</br>Air temperature [K]: 295.944</br></br>Type: M</br>Process temperature [K]: 310.7</br>Rotational speed [rpm]: 1544.0</br>Torque [Nm]: 39.7</br>Tool wear [min]: 141.0</br>TWF: 0.0</br>HDF: 0.0</br>PWF: 0.0</br>OSF: 0.0</br>RNF: 0.0</br>_original_yhat_: 0.003318951211417192</br>\"],[\"</br>id: 4176</br>prediction: 0.003</br>Air temperature [K]: 296.036</br></br>Type: M</br>Process temperature [K]: 310.7</br>Rotational speed [rpm]: 1544.0</br>Torque [Nm]: 39.7</br>Tool wear [min]: 141.0</br>TWF: 0.0</br>HDF: 0.0</br>PWF: 0.0</br>OSF: 0.0</br>RNF: 0.0</br>_original_yhat_: 0.003318951211417192</br>\"],[\"</br>id: 4176</br>prediction: 0.003</br>Air temperature [K]: 296.128</br></br>Type: M</br>Process temperature [K]: 310.7</br>Rotational speed [rpm]: 1544.0</br>Torque [Nm]: 39.7</br>Tool wear [min]: 141.0</br>TWF: 0.0</br>HDF: 0.0</br>PWF: 0.0</br>OSF: 0.0</br>RNF: 0.0</br>_original_yhat_: 0.003318951211417192</br>\"],[\"</br>id: 4176</br>prediction: 0.003</br>Air temperature [K]: 296.22</br></br>Type: M</br>Process temperature [K]: 310.7</br>Rotational speed [rpm]: 1544.0</br>Torque [Nm]: 39.7</br>Tool wear [min]: 141.0</br>TWF: 0.0</br>HDF: 0.0</br>PWF: 0.0</br>OSF: 0.0</br>RNF: 0.0</br>_original_yhat_: 0.003318951211417192</br>\"],[\"</br>id: 4176</br>prediction: 0.003</br>Air temperature [K]: 296.312</br></br>Type: M</br>Process temperature [K]: 310.7</br>Rotational speed [rpm]: 1544.0</br>Torque [Nm]: 39.7</br>Tool wear [min]: 141.0</br>TWF: 0.0</br>HDF: 0.0</br>PWF: 0.0</br>OSF: 0.0</br>RNF: 0.0</br>_original_yhat_: 0.003318951211417192</br>\"],[\"</br>id: 4176</br>prediction: 0.003</br>Air temperature [K]: 296.404</br></br>Type: M</br>Process temperature [K]: 310.7</br>Rotational speed [rpm]: 1544.0</br>Torque [Nm]: 39.7</br>Tool wear [min]: 141.0</br>TWF: 0.0</br>HDF: 0.0</br>PWF: 0.0</br>OSF: 0.0</br>RNF: 0.0</br>_original_yhat_: 0.003318951211417192</br>\"],[\"</br>id: 4176</br>prediction: 0.003</br>Air temperature [K]: 296.49600000000004</br></br>Type: M</br>Process temperature [K]: 310.7</br>Rotational speed [rpm]: 1544.0</br>Torque [Nm]: 39.7</br>Tool wear [min]: 141.0</br>TWF: 0.0</br>HDF: 0.0</br>PWF: 0.0</br>OSF: 0.0</br>RNF: 0.0</br>_original_yhat_: 0.003318951211417192</br>\"],[\"</br>id: 4176</br>prediction: 0.003</br>Air temperature [K]: 296.588</br></br>Type: M</br>Process temperature [K]: 310.7</br>Rotational speed [rpm]: 1544.0</br>Torque [Nm]: 39.7</br>Tool wear [min]: 141.0</br>TWF: 0.0</br>HDF: 0.0</br>PWF: 0.0</br>OSF: 0.0</br>RNF: 0.0</br>_original_yhat_: 0.003318951211417192</br>\"],[\"</br>id: 4176</br>prediction: 0.003</br>Air temperature [K]: 296.68</br></br>Type: M</br>Process temperature [K]: 310.7</br>Rotational speed [rpm]: 1544.0</br>Torque [Nm]: 39.7</br>Tool wear [min]: 141.0</br>TWF: 0.0</br>HDF: 0.0</br>PWF: 0.0</br>OSF: 0.0</br>RNF: 0.0</br>_original_yhat_: 0.003318951211417192</br>\"],[\"</br>id: 4176</br>prediction: 0.003</br>Air temperature [K]: 296.772</br></br>Type: M</br>Process temperature [K]: 310.7</br>Rotational speed [rpm]: 1544.0</br>Torque [Nm]: 39.7</br>Tool wear [min]: 141.0</br>TWF: 0.0</br>HDF: 0.0</br>PWF: 0.0</br>OSF: 0.0</br>RNF: 0.0</br>_original_yhat_: 0.003318951211417192</br>\"],[\"</br>id: 4176</br>prediction: 0.003</br>Air temperature [K]: 296.86400000000003</br></br>Type: M</br>Process temperature [K]: 310.7</br>Rotational speed [rpm]: 1544.0</br>Torque [Nm]: 39.7</br>Tool wear [min]: 141.0</br>TWF: 0.0</br>HDF: 0.0</br>PWF: 0.0</br>OSF: 0.0</br>RNF: 0.0</br>_original_yhat_: 0.003318951211417192</br>\"],[\"</br>id: 4176</br>prediction: 0.003</br>Air temperature [K]: 296.956</br></br>Type: M</br>Process temperature [K]: 310.7</br>Rotational speed [rpm]: 1544.0</br>Torque [Nm]: 39.7</br>Tool wear [min]: 141.0</br>TWF: 0.0</br>HDF: 0.0</br>PWF: 0.0</br>OSF: 0.0</br>RNF: 0.0</br>_original_yhat_: 0.003318951211417192</br>\"],[\"</br>id: 4176</br>prediction: 0.003</br>Air temperature [K]: 297.048</br></br>Type: M</br>Process temperature [K]: 310.7</br>Rotational speed [rpm]: 1544.0</br>Torque [Nm]: 39.7</br>Tool wear [min]: 141.0</br>TWF: 0.0</br>HDF: 0.0</br>PWF: 0.0</br>OSF: 0.0</br>RNF: 0.0</br>_original_yhat_: 0.003318951211417192</br>\"],[\"</br>id: 4176</br>prediction: 0.003</br>Air temperature [K]: 297.14</br></br>Type: M</br>Process temperature [K]: 310.7</br>Rotational speed [rpm]: 1544.0</br>Torque [Nm]: 39.7</br>Tool wear [min]: 141.0</br>TWF: 0.0</br>HDF: 0.0</br>PWF: 0.0</br>OSF: 0.0</br>RNF: 0.0</br>_original_yhat_: 0.003318951211417192</br>\"],[\"</br>id: 4176</br>prediction: 0.003</br>Air temperature [K]: 297.232</br></br>Type: M</br>Process temperature [K]: 310.7</br>Rotational speed [rpm]: 1544.0</br>Torque [Nm]: 39.7</br>Tool wear [min]: 141.0</br>TWF: 0.0</br>HDF: 0.0</br>PWF: 0.0</br>OSF: 0.0</br>RNF: 0.0</br>_original_yhat_: 0.003318951211417192</br>\"],[\"</br>id: 4176</br>prediction: 0.003</br>Air temperature [K]: 297.324</br></br>Type: M</br>Process temperature [K]: 310.7</br>Rotational speed [rpm]: 1544.0</br>Torque [Nm]: 39.7</br>Tool wear [min]: 141.0</br>TWF: 0.0</br>HDF: 0.0</br>PWF: 0.0</br>OSF: 0.0</br>RNF: 0.0</br>_original_yhat_: 0.003318951211417192</br>\"],[\"</br>id: 4176</br>prediction: 0.003</br>Air temperature [K]: 297.416</br></br>Type: M</br>Process temperature [K]: 310.7</br>Rotational speed [rpm]: 1544.0</br>Torque [Nm]: 39.7</br>Tool wear [min]: 141.0</br>TWF: 0.0</br>HDF: 0.0</br>PWF: 0.0</br>OSF: 0.0</br>RNF: 0.0</br>_original_yhat_: 0.003318951211417192</br>\"],[\"</br>id: 4176</br>prediction: 0.003</br>Air temperature [K]: 297.508</br></br>Type: M</br>Process temperature [K]: 310.7</br>Rotational speed [rpm]: 1544.0</br>Torque [Nm]: 39.7</br>Tool wear [min]: 141.0</br>TWF: 0.0</br>HDF: 0.0</br>PWF: 0.0</br>OSF: 0.0</br>RNF: 0.0</br>_original_yhat_: 0.003318951211417192</br>\"],[\"</br>id: 4176</br>prediction: 0.003</br>Air temperature [K]: 297.6</br></br>Type: M</br>Process temperature [K]: 310.7</br>Rotational speed [rpm]: 1544.0</br>Torque [Nm]: 39.7</br>Tool wear [min]: 141.0</br>TWF: 0.0</br>HDF: 0.0</br>PWF: 0.0</br>OSF: 0.0</br>RNF: 0.0</br>_original_yhat_: 0.003318951211417192</br>\"],[\"</br>id: 4176</br>prediction: 0.003</br>Air temperature [K]: 297.692</br></br>Type: M</br>Process temperature [K]: 310.7</br>Rotational speed [rpm]: 1544.0</br>Torque [Nm]: 39.7</br>Tool wear [min]: 141.0</br>TWF: 0.0</br>HDF: 0.0</br>PWF: 0.0</br>OSF: 0.0</br>RNF: 0.0</br>_original_yhat_: 0.003318951211417192</br>\"],[\"</br>id: 4176</br>prediction: 0.003</br>Air temperature [K]: 297.784</br></br>Type: M</br>Process temperature [K]: 310.7</br>Rotational speed [rpm]: 1544.0</br>Torque [Nm]: 39.7</br>Tool wear [min]: 141.0</br>TWF: 0.0</br>HDF: 0.0</br>PWF: 0.0</br>OSF: 0.0</br>RNF: 0.0</br>_original_yhat_: 0.003318951211417192</br>\"],[\"</br>id: 4176</br>prediction: 0.003</br>Air temperature [K]: 297.87600000000003</br></br>Type: M</br>Process temperature [K]: 310.7</br>Rotational speed [rpm]: 1544.0</br>Torque [Nm]: 39.7</br>Tool wear [min]: 141.0</br>TWF: 0.0</br>HDF: 0.0</br>PWF: 0.0</br>OSF: 0.0</br>RNF: 0.0</br>_original_yhat_: 0.003318951211417192</br>\"],[\"</br>id: 4176</br>prediction: 0.003</br>Air temperature [K]: 297.968</br></br>Type: M</br>Process temperature [K]: 310.7</br>Rotational speed [rpm]: 1544.0</br>Torque [Nm]: 39.7</br>Tool wear [min]: 141.0</br>TWF: 0.0</br>HDF: 0.0</br>PWF: 0.0</br>OSF: 0.0</br>RNF: 0.0</br>_original_yhat_: 0.003318951211417192</br>\"],[\"</br>id: 4176</br>prediction: 0.003</br>Air temperature [K]: 298.06</br></br>Type: M</br>Process temperature [K]: 310.7</br>Rotational speed [rpm]: 1544.0</br>Torque [Nm]: 39.7</br>Tool wear [min]: 141.0</br>TWF: 0.0</br>HDF: 0.0</br>PWF: 0.0</br>OSF: 0.0</br>RNF: 0.0</br>_original_yhat_: 0.003318951211417192</br>\"],[\"</br>id: 4176</br>prediction: 0.003</br>Air temperature [K]: 298.152</br></br>Type: M</br>Process temperature [K]: 310.7</br>Rotational speed [rpm]: 1544.0</br>Torque [Nm]: 39.7</br>Tool wear [min]: 141.0</br>TWF: 0.0</br>HDF: 0.0</br>PWF: 0.0</br>OSF: 0.0</br>RNF: 0.0</br>_original_yhat_: 0.003318951211417192</br>\"],[\"</br>id: 4176</br>prediction: 0.003</br>Air temperature [K]: 298.244</br></br>Type: M</br>Process temperature [K]: 310.7</br>Rotational speed [rpm]: 1544.0</br>Torque [Nm]: 39.7</br>Tool wear [min]: 141.0</br>TWF: 0.0</br>HDF: 0.0</br>PWF: 0.0</br>OSF: 0.0</br>RNF: 0.0</br>_original_yhat_: 0.003318951211417192</br>\"],[\"</br>id: 4176</br>prediction: 0.003</br>Air temperature [K]: 298.336</br></br>Type: M</br>Process temperature [K]: 310.7</br>Rotational speed [rpm]: 1544.0</br>Torque [Nm]: 39.7</br>Tool wear [min]: 141.0</br>TWF: 0.0</br>HDF: 0.0</br>PWF: 0.0</br>OSF: 0.0</br>RNF: 0.0</br>_original_yhat_: 0.003318951211417192</br>\"],[\"</br>id: 4176</br>prediction: 0.003</br>Air temperature [K]: 298.428</br></br>Type: M</br>Process temperature [K]: 310.7</br>Rotational speed [rpm]: 1544.0</br>Torque [Nm]: 39.7</br>Tool wear [min]: 141.0</br>TWF: 0.0</br>HDF: 0.0</br>PWF: 0.0</br>OSF: 0.0</br>RNF: 0.0</br>_original_yhat_: 0.003318951211417192</br>\"],[\"</br>id: 4176</br>prediction: 0.003</br>Air temperature [K]: 298.52</br></br>Type: M</br>Process temperature [K]: 310.7</br>Rotational speed [rpm]: 1544.0</br>Torque [Nm]: 39.7</br>Tool wear [min]: 141.0</br>TWF: 0.0</br>HDF: 0.0</br>PWF: 0.0</br>OSF: 0.0</br>RNF: 0.0</br>_original_yhat_: 0.003318951211417192</br>\"],[\"</br>id: 4176</br>prediction: 0.003</br>Air temperature [K]: 298.612</br></br>Type: M</br>Process temperature [K]: 310.7</br>Rotational speed [rpm]: 1544.0</br>Torque [Nm]: 39.7</br>Tool wear [min]: 141.0</br>TWF: 0.0</br>HDF: 0.0</br>PWF: 0.0</br>OSF: 0.0</br>RNF: 0.0</br>_original_yhat_: 0.003318951211417192</br>\"],[\"</br>id: 4176</br>prediction: 0.003</br>Air temperature [K]: 298.704</br></br>Type: M</br>Process temperature [K]: 310.7</br>Rotational speed [rpm]: 1544.0</br>Torque [Nm]: 39.7</br>Tool wear [min]: 141.0</br>TWF: 0.0</br>HDF: 0.0</br>PWF: 0.0</br>OSF: 0.0</br>RNF: 0.0</br>_original_yhat_: 0.003318951211417192</br>\"],[\"</br>id: 4176</br>prediction: 0.003</br>Air temperature [K]: 298.796</br></br>Type: M</br>Process temperature [K]: 310.7</br>Rotational speed [rpm]: 1544.0</br>Torque [Nm]: 39.7</br>Tool wear [min]: 141.0</br>TWF: 0.0</br>HDF: 0.0</br>PWF: 0.0</br>OSF: 0.0</br>RNF: 0.0</br>_original_yhat_: 0.003318951211417192</br>\"],[\"</br>id: 4176</br>prediction: 0.003</br>Air temperature [K]: 298.88800000000003</br></br>Type: M</br>Process temperature [K]: 310.7</br>Rotational speed [rpm]: 1544.0</br>Torque [Nm]: 39.7</br>Tool wear [min]: 141.0</br>TWF: 0.0</br>HDF: 0.0</br>PWF: 0.0</br>OSF: 0.0</br>RNF: 0.0</br>_original_yhat_: 0.003318951211417192</br>\"],[\"</br>id: 4176</br>prediction: 0.003</br>Air temperature [K]: 298.98</br></br>Type: M</br>Process temperature [K]: 310.7</br>Rotational speed [rpm]: 1544.0</br>Torque [Nm]: 39.7</br>Tool wear [min]: 141.0</br>TWF: 0.0</br>HDF: 0.0</br>PWF: 0.0</br>OSF: 0.0</br>RNF: 0.0</br>_original_yhat_: 0.003318951211417192</br>\"],[\"</br>id: 4176</br>prediction: 0.003</br>Air temperature [K]: 299.072</br></br>Type: M</br>Process temperature [K]: 310.7</br>Rotational speed [rpm]: 1544.0</br>Torque [Nm]: 39.7</br>Tool wear [min]: 141.0</br>TWF: 0.0</br>HDF: 0.0</br>PWF: 0.0</br>OSF: 0.0</br>RNF: 0.0</br>_original_yhat_: 0.003318951211417192</br>\"],[\"</br>id: 4176</br>prediction: 0.003</br>Air temperature [K]: 299.164</br></br>Type: M</br>Process temperature [K]: 310.7</br>Rotational speed [rpm]: 1544.0</br>Torque [Nm]: 39.7</br>Tool wear [min]: 141.0</br>TWF: 0.0</br>HDF: 0.0</br>PWF: 0.0</br>OSF: 0.0</br>RNF: 0.0</br>_original_yhat_: 0.003318951211417192</br>\"],[\"</br>id: 4176</br>prediction: 0.003</br>Air temperature [K]: 299.25600000000003</br></br>Type: M</br>Process temperature [K]: 310.7</br>Rotational speed [rpm]: 1544.0</br>Torque [Nm]: 39.7</br>Tool wear [min]: 141.0</br>TWF: 0.0</br>HDF: 0.0</br>PWF: 0.0</br>OSF: 0.0</br>RNF: 0.0</br>_original_yhat_: 0.003318951211417192</br>\"],[\"</br>id: 4176</br>prediction: 0.003</br>Air temperature [K]: 299.348</br></br>Type: M</br>Process temperature [K]: 310.7</br>Rotational speed [rpm]: 1544.0</br>Torque [Nm]: 39.7</br>Tool wear [min]: 141.0</br>TWF: 0.0</br>HDF: 0.0</br>PWF: 0.0</br>OSF: 0.0</br>RNF: 0.0</br>_original_yhat_: 0.003318951211417192</br>\"],[\"</br>id: 4176</br>prediction: 0.003</br>Air temperature [K]: 299.44</br></br>Type: M</br>Process temperature [K]: 310.7</br>Rotational speed [rpm]: 1544.0</br>Torque [Nm]: 39.7</br>Tool wear [min]: 141.0</br>TWF: 0.0</br>HDF: 0.0</br>PWF: 0.0</br>OSF: 0.0</br>RNF: 0.0</br>_original_yhat_: 0.003318951211417192</br>\"],[\"</br>id: 4176</br>prediction: 0.003</br>Air temperature [K]: 299.532</br></br>Type: M</br>Process temperature [K]: 310.7</br>Rotational speed [rpm]: 1544.0</br>Torque [Nm]: 39.7</br>Tool wear [min]: 141.0</br>TWF: 0.0</br>HDF: 0.0</br>PWF: 0.0</br>OSF: 0.0</br>RNF: 0.0</br>_original_yhat_: 0.003318951211417192</br>\"],[\"</br>id: 4176</br>prediction: 0.003</br>Air temperature [K]: 299.624</br></br>Type: M</br>Process temperature [K]: 310.7</br>Rotational speed [rpm]: 1544.0</br>Torque [Nm]: 39.7</br>Tool wear [min]: 141.0</br>TWF: 0.0</br>HDF: 0.0</br>PWF: 0.0</br>OSF: 0.0</br>RNF: 0.0</br>_original_yhat_: 0.003318951211417192</br>\"],[\"</br>id: 4176</br>prediction: 0.003</br>Air temperature [K]: 299.716</br></br>Type: M</br>Process temperature [K]: 310.7</br>Rotational speed [rpm]: 1544.0</br>Torque [Nm]: 39.7</br>Tool wear [min]: 141.0</br>TWF: 0.0</br>HDF: 0.0</br>PWF: 0.0</br>OSF: 0.0</br>RNF: 0.0</br>_original_yhat_: 0.003318951211417192</br>\"],[\"</br>id: 4176</br>prediction: 0.003</br>Air temperature [K]: 299.808</br></br>Type: M</br>Process temperature [K]: 310.7</br>Rotational speed [rpm]: 1544.0</br>Torque [Nm]: 39.7</br>Tool wear [min]: 141.0</br>TWF: 0.0</br>HDF: 0.0</br>PWF: 0.0</br>OSF: 0.0</br>RNF: 0.0</br>_original_yhat_: 0.003318951211417192</br>\"],[\"</br>id: 4176</br>prediction: 0.003</br>Air temperature [K]: 299.9</br></br>Type: M</br>Process temperature [K]: 310.7</br>Rotational speed [rpm]: 1544.0</br>Torque [Nm]: 39.7</br>Tool wear [min]: 141.0</br>TWF: 0.0</br>HDF: 0.0</br>PWF: 0.0</br>OSF: 0.0</br>RNF: 0.0</br>_original_yhat_: 0.003318951211417192</br>\"],[\"</br>id: 4176</br>prediction: 0.003</br>Air temperature [K]: 299.992</br></br>Type: M</br>Process temperature [K]: 310.7</br>Rotational speed [rpm]: 1544.0</br>Torque [Nm]: 39.7</br>Tool wear [min]: 141.0</br>TWF: 0.0</br>HDF: 0.0</br>PWF: 0.0</br>OSF: 0.0</br>RNF: 0.0</br>_original_yhat_: 0.003318951211417192</br>\"],[\"</br>id: 4176</br>prediction: 0.003</br>Air temperature [K]: 300.084</br></br>Type: M</br>Process temperature [K]: 310.7</br>Rotational speed [rpm]: 1544.0</br>Torque [Nm]: 39.7</br>Tool wear [min]: 141.0</br>TWF: 0.0</br>HDF: 0.0</br>PWF: 0.0</br>OSF: 0.0</br>RNF: 0.0</br>_original_yhat_: 0.003318951211417192</br>\"],[\"</br>id: 4176</br>prediction: 0.003</br>Air temperature [K]: 300.176</br></br>Type: M</br>Process temperature [K]: 310.7</br>Rotational speed [rpm]: 1544.0</br>Torque [Nm]: 39.7</br>Tool wear [min]: 141.0</br>TWF: 0.0</br>HDF: 0.0</br>PWF: 0.0</br>OSF: 0.0</br>RNF: 0.0</br>_original_yhat_: 0.003318951211417192</br>\"],[\"</br>id: 4176</br>prediction: 0.003</br>Air temperature [K]: 300.26800000000003</br></br>Type: M</br>Process temperature [K]: 310.7</br>Rotational speed [rpm]: 1544.0</br>Torque [Nm]: 39.7</br>Tool wear [min]: 141.0</br>TWF: 0.0</br>HDF: 0.0</br>PWF: 0.0</br>OSF: 0.0</br>RNF: 0.0</br>_original_yhat_: 0.003318951211417192</br>\"],[\"</br>id: 4176</br>prediction: 0.003</br>Air temperature [K]: 300.36</br></br>Type: M</br>Process temperature [K]: 310.7</br>Rotational speed [rpm]: 1544.0</br>Torque [Nm]: 39.7</br>Tool wear [min]: 141.0</br>TWF: 0.0</br>HDF: 0.0</br>PWF: 0.0</br>OSF: 0.0</br>RNF: 0.0</br>_original_yhat_: 0.003318951211417192</br>\"],[\"</br>id: 4176</br>prediction: 0.003</br>Air temperature [K]: 300.452</br></br>Type: M</br>Process temperature [K]: 310.7</br>Rotational speed [rpm]: 1544.0</br>Torque [Nm]: 39.7</br>Tool wear [min]: 141.0</br>TWF: 0.0</br>HDF: 0.0</br>PWF: 0.0</br>OSF: 0.0</br>RNF: 0.0</br>_original_yhat_: 0.003318951211417192</br>\"],[\"</br>id: 4176</br>prediction: 0.003</br>Air temperature [K]: 300.544</br></br>Type: M</br>Process temperature [K]: 310.7</br>Rotational speed [rpm]: 1544.0</br>Torque [Nm]: 39.7</br>Tool wear [min]: 141.0</br>TWF: 0.0</br>HDF: 0.0</br>PWF: 0.0</br>OSF: 0.0</br>RNF: 0.0</br>_original_yhat_: 0.003318951211417192</br>\"],[\"</br>id: 4176</br>prediction: 0.003</br>Air temperature [K]: 300.636</br></br>Type: M</br>Process temperature [K]: 310.7</br>Rotational speed [rpm]: 1544.0</br>Torque [Nm]: 39.7</br>Tool wear [min]: 141.0</br>TWF: 0.0</br>HDF: 0.0</br>PWF: 0.0</br>OSF: 0.0</br>RNF: 0.0</br>_original_yhat_: 0.003318951211417192</br>\"],[\"</br>id: 4176</br>prediction: 0.003</br>Air temperature [K]: 300.728</br></br>Type: M</br>Process temperature [K]: 310.7</br>Rotational speed [rpm]: 1544.0</br>Torque [Nm]: 39.7</br>Tool wear [min]: 141.0</br>TWF: 0.0</br>HDF: 0.0</br>PWF: 0.0</br>OSF: 0.0</br>RNF: 0.0</br>_original_yhat_: 0.003318951211417192</br>\"],[\"</br>id: 4176</br>prediction: 0.003</br>Air temperature [K]: 300.82</br></br>Type: M</br>Process temperature [K]: 310.7</br>Rotational speed [rpm]: 1544.0</br>Torque [Nm]: 39.7</br>Tool wear [min]: 141.0</br>TWF: 0.0</br>HDF: 0.0</br>PWF: 0.0</br>OSF: 0.0</br>RNF: 0.0</br>_original_yhat_: 0.003318951211417192</br>\"],[\"</br>id: 4176</br>prediction: 0.003</br>Air temperature [K]: 300.912</br></br>Type: M</br>Process temperature [K]: 310.7</br>Rotational speed [rpm]: 1544.0</br>Torque [Nm]: 39.7</br>Tool wear [min]: 141.0</br>TWF: 0.0</br>HDF: 0.0</br>PWF: 0.0</br>OSF: 0.0</br>RNF: 0.0</br>_original_yhat_: 0.003318951211417192</br>\"],[\"</br>id: 4176</br>prediction: 0.003</br>Air temperature [K]: 301.004</br></br>Type: M</br>Process temperature [K]: 310.7</br>Rotational speed [rpm]: 1544.0</br>Torque [Nm]: 39.7</br>Tool wear [min]: 141.0</br>TWF: 0.0</br>HDF: 0.0</br>PWF: 0.0</br>OSF: 0.0</br>RNF: 0.0</br>_original_yhat_: 0.003318951211417192</br>\"],[\"</br>id: 4176</br>prediction: 0.003</br>Air temperature [K]: 301.096</br></br>Type: M</br>Process temperature [K]: 310.7</br>Rotational speed [rpm]: 1544.0</br>Torque [Nm]: 39.7</br>Tool wear [min]: 141.0</br>TWF: 0.0</br>HDF: 0.0</br>PWF: 0.0</br>OSF: 0.0</br>RNF: 0.0</br>_original_yhat_: 0.003318951211417192</br>\"],[\"</br>id: 4176</br>prediction: 0.003</br>Air temperature [K]: 301.188</br></br>Type: M</br>Process temperature [K]: 310.7</br>Rotational speed [rpm]: 1544.0</br>Torque [Nm]: 39.7</br>Tool wear [min]: 141.0</br>TWF: 0.0</br>HDF: 0.0</br>PWF: 0.0</br>OSF: 0.0</br>RNF: 0.0</br>_original_yhat_: 0.003318951211417192</br>\"],[\"</br>id: 4176</br>prediction: 0.003</br>Air temperature [K]: 301.28000000000003</br></br>Type: M</br>Process temperature [K]: 310.7</br>Rotational speed [rpm]: 1544.0</br>Torque [Nm]: 39.7</br>Tool wear [min]: 141.0</br>TWF: 0.0</br>HDF: 0.0</br>PWF: 0.0</br>OSF: 0.0</br>RNF: 0.0</br>_original_yhat_: 0.003318951211417192</br>\"],[\"</br>id: 4176</br>prediction: 0.003</br>Air temperature [K]: 301.372</br></br>Type: M</br>Process temperature [K]: 310.7</br>Rotational speed [rpm]: 1544.0</br>Torque [Nm]: 39.7</br>Tool wear [min]: 141.0</br>TWF: 0.0</br>HDF: 0.0</br>PWF: 0.0</br>OSF: 0.0</br>RNF: 0.0</br>_original_yhat_: 0.003318951211417192</br>\"],[\"</br>id: 4176</br>prediction: 0.003</br>Air temperature [K]: 301.464</br></br>Type: M</br>Process temperature [K]: 310.7</br>Rotational speed [rpm]: 1544.0</br>Torque [Nm]: 39.7</br>Tool wear [min]: 141.0</br>TWF: 0.0</br>HDF: 0.0</br>PWF: 0.0</br>OSF: 0.0</br>RNF: 0.0</br>_original_yhat_: 0.003318951211417192</br>\"],[\"</br>id: 4176</br>prediction: 0.003</br>Air temperature [K]: 301.556</br></br>Type: M</br>Process temperature [K]: 310.7</br>Rotational speed [rpm]: 1544.0</br>Torque [Nm]: 39.7</br>Tool wear [min]: 141.0</br>TWF: 0.0</br>HDF: 0.0</br>PWF: 0.0</br>OSF: 0.0</br>RNF: 0.0</br>_original_yhat_: 0.003318951211417192</br>\"],[\"</br>id: 4176</br>prediction: 0.003</br>Air temperature [K]: 301.648</br></br>Type: M</br>Process temperature [K]: 310.7</br>Rotational speed [rpm]: 1544.0</br>Torque [Nm]: 39.7</br>Tool wear [min]: 141.0</br>TWF: 0.0</br>HDF: 0.0</br>PWF: 0.0</br>OSF: 0.0</br>RNF: 0.0</br>_original_yhat_: 0.003318951211417192</br>\"],[\"</br>id: 4176</br>prediction: 0.003</br>Air temperature [K]: 301.74</br></br>Type: M</br>Process temperature [K]: 310.7</br>Rotational speed [rpm]: 1544.0</br>Torque [Nm]: 39.7</br>Tool wear [min]: 141.0</br>TWF: 0.0</br>HDF: 0.0</br>PWF: 0.0</br>OSF: 0.0</br>RNF: 0.0</br>_original_yhat_: 0.003318951211417192</br>\"],[\"</br>id: 4176</br>prediction: 0.003</br>Air temperature [K]: 301.832</br></br>Type: M</br>Process temperature [K]: 310.7</br>Rotational speed [rpm]: 1544.0</br>Torque [Nm]: 39.7</br>Tool wear [min]: 141.0</br>TWF: 0.0</br>HDF: 0.0</br>PWF: 0.0</br>OSF: 0.0</br>RNF: 0.0</br>_original_yhat_: 0.003318951211417192</br>\"],[\"</br>id: 4176</br>prediction: 0.003</br>Air temperature [K]: 301.924</br></br>Type: M</br>Process temperature [K]: 310.7</br>Rotational speed [rpm]: 1544.0</br>Torque [Nm]: 39.7</br>Tool wear [min]: 141.0</br>TWF: 0.0</br>HDF: 0.0</br>PWF: 0.0</br>OSF: 0.0</br>RNF: 0.0</br>_original_yhat_: 0.003318951211417192</br>\"],[\"</br>id: 4176</br>prediction: 0.003</br>Air temperature [K]: 302.016</br></br>Type: M</br>Process temperature [K]: 310.7</br>Rotational speed [rpm]: 1544.0</br>Torque [Nm]: 39.7</br>Tool wear [min]: 141.0</br>TWF: 0.0</br>HDF: 0.0</br>PWF: 0.0</br>OSF: 0.0</br>RNF: 0.0</br>_original_yhat_: 0.003318951211417192</br>\"],[\"</br>id: 4176</br>prediction: 0.003</br>Air temperature [K]: 302.108</br></br>Type: M</br>Process temperature [K]: 310.7</br>Rotational speed [rpm]: 1544.0</br>Torque [Nm]: 39.7</br>Tool wear [min]: 141.0</br>TWF: 0.0</br>HDF: 0.0</br>PWF: 0.0</br>OSF: 0.0</br>RNF: 0.0</br>_original_yhat_: 0.003318951211417192</br>\"],[\"</br>id: 4176</br>prediction: 0.003</br>Air temperature [K]: 302.2</br></br>Type: M</br>Process temperature [K]: 310.7</br>Rotational speed [rpm]: 1544.0</br>Torque [Nm]: 39.7</br>Tool wear [min]: 141.0</br>TWF: 0.0</br>HDF: 0.0</br>PWF: 0.0</br>OSF: 0.0</br>RNF: 0.0</br>_original_yhat_: 0.003318951211417192</br>\"],[\"</br>id: 4176</br>prediction: 0.003</br>Air temperature [K]: 302.29200000000003</br></br>Type: M</br>Process temperature [K]: 310.7</br>Rotational speed [rpm]: 1544.0</br>Torque [Nm]: 39.7</br>Tool wear [min]: 141.0</br>TWF: 0.0</br>HDF: 0.0</br>PWF: 0.0</br>OSF: 0.0</br>RNF: 0.0</br>_original_yhat_: 0.003318951211417192</br>\"],[\"</br>id: 4176</br>prediction: 0.003</br>Air temperature [K]: 302.3</br></br>Type: M</br>Process temperature [K]: 310.7</br>Rotational speed [rpm]: 1544.0</br>Torque [Nm]: 39.7</br>Tool wear [min]: 141.0</br>TWF: 0.0</br>HDF: 0.0</br>PWF: 0.0</br>OSF: 0.0</br>RNF: 0.0</br>_original_yhat_: 0.003318951211417192</br>\"],[\"</br>id: 4176</br>prediction: 0.003</br>Air temperature [K]: 302.384</br></br>Type: M</br>Process temperature [K]: 310.7</br>Rotational speed [rpm]: 1544.0</br>Torque [Nm]: 39.7</br>Tool wear [min]: 141.0</br>TWF: 0.0</br>HDF: 0.0</br>PWF: 0.0</br>OSF: 0.0</br>RNF: 0.0</br>_original_yhat_: 0.003318951211417192</br>\"],[\"</br>id: 4176</br>prediction: 0.003</br>Air temperature [K]: 302.476</br></br>Type: M</br>Process temperature [K]: 310.7</br>Rotational speed [rpm]: 1544.0</br>Torque [Nm]: 39.7</br>Tool wear [min]: 141.0</br>TWF: 0.0</br>HDF: 0.0</br>PWF: 0.0</br>OSF: 0.0</br>RNF: 0.0</br>_original_yhat_: 0.003318951211417192</br>\"],[\"</br>id: 4176</br>prediction: 0.003</br>Air temperature [K]: 302.568</br></br>Type: M</br>Process temperature [K]: 310.7</br>Rotational speed [rpm]: 1544.0</br>Torque [Nm]: 39.7</br>Tool wear [min]: 141.0</br>TWF: 0.0</br>HDF: 0.0</br>PWF: 0.0</br>OSF: 0.0</br>RNF: 0.0</br>_original_yhat_: 0.003318951211417192</br>\"],[\"</br>id: 4176</br>prediction: 0.003</br>Air temperature [K]: 302.66</br></br>Type: M</br>Process temperature [K]: 310.7</br>Rotational speed [rpm]: 1544.0</br>Torque [Nm]: 39.7</br>Tool wear [min]: 141.0</br>TWF: 0.0</br>HDF: 0.0</br>PWF: 0.0</br>OSF: 0.0</br>RNF: 0.0</br>_original_yhat_: 0.003318951211417192</br>\"],[\"</br>id: 4176</br>prediction: 0.003</br>Air temperature [K]: 302.752</br></br>Type: M</br>Process temperature [K]: 310.7</br>Rotational speed [rpm]: 1544.0</br>Torque [Nm]: 39.7</br>Tool wear [min]: 141.0</br>TWF: 0.0</br>HDF: 0.0</br>PWF: 0.0</br>OSF: 0.0</br>RNF: 0.0</br>_original_yhat_: 0.003318951211417192</br>\"],[\"</br>id: 4176</br>prediction: 0.003</br>Air temperature [K]: 302.844</br></br>Type: M</br>Process temperature [K]: 310.7</br>Rotational speed [rpm]: 1544.0</br>Torque [Nm]: 39.7</br>Tool wear [min]: 141.0</br>TWF: 0.0</br>HDF: 0.0</br>PWF: 0.0</br>OSF: 0.0</br>RNF: 0.0</br>_original_yhat_: 0.003318951211417192</br>\"],[\"</br>id: 4176</br>prediction: 0.003</br>Air temperature [K]: 302.936</br></br>Type: M</br>Process temperature [K]: 310.7</br>Rotational speed [rpm]: 1544.0</br>Torque [Nm]: 39.7</br>Tool wear [min]: 141.0</br>TWF: 0.0</br>HDF: 0.0</br>PWF: 0.0</br>OSF: 0.0</br>RNF: 0.0</br>_original_yhat_: 0.003318951211417192</br>\"],[\"</br>id: 4176</br>prediction: 0.003</br>Air temperature [K]: 303.028</br></br>Type: M</br>Process temperature [K]: 310.7</br>Rotational speed [rpm]: 1544.0</br>Torque [Nm]: 39.7</br>Tool wear [min]: 141.0</br>TWF: 0.0</br>HDF: 0.0</br>PWF: 0.0</br>OSF: 0.0</br>RNF: 0.0</br>_original_yhat_: 0.003318951211417192</br>\"],[\"</br>id: 4176</br>prediction: 0.003</br>Air temperature [K]: 303.12</br></br>Type: M</br>Process temperature [K]: 310.7</br>Rotational speed [rpm]: 1544.0</br>Torque [Nm]: 39.7</br>Tool wear [min]: 141.0</br>TWF: 0.0</br>HDF: 0.0</br>PWF: 0.0</br>OSF: 0.0</br>RNF: 0.0</br>_original_yhat_: 0.003318951211417192</br>\"],[\"</br>id: 4176</br>prediction: 0.003</br>Air temperature [K]: 303.212</br></br>Type: M</br>Process temperature [K]: 310.7</br>Rotational speed [rpm]: 1544.0</br>Torque [Nm]: 39.7</br>Tool wear [min]: 141.0</br>TWF: 0.0</br>HDF: 0.0</br>PWF: 0.0</br>OSF: 0.0</br>RNF: 0.0</br>_original_yhat_: 0.003318951211417192</br>\"],[\"</br>id: 4176</br>prediction: 0.003</br>Air temperature [K]: 303.304</br></br>Type: M</br>Process temperature [K]: 310.7</br>Rotational speed [rpm]: 1544.0</br>Torque [Nm]: 39.7</br>Tool wear [min]: 141.0</br>TWF: 0.0</br>HDF: 0.0</br>PWF: 0.0</br>OSF: 0.0</br>RNF: 0.0</br>_original_yhat_: 0.003318951211417192</br>\"],[\"</br>id: 4176</br>prediction: 0.003</br>Air temperature [K]: 303.396</br></br>Type: M</br>Process temperature [K]: 310.7</br>Rotational speed [rpm]: 1544.0</br>Torque [Nm]: 39.7</br>Tool wear [min]: 141.0</br>TWF: 0.0</br>HDF: 0.0</br>PWF: 0.0</br>OSF: 0.0</br>RNF: 0.0</br>_original_yhat_: 0.003318951211417192</br>\"],[\"</br>id: 4176</br>prediction: 0.003</br>Air temperature [K]: 303.488</br></br>Type: M</br>Process temperature [K]: 310.7</br>Rotational speed [rpm]: 1544.0</br>Torque [Nm]: 39.7</br>Tool wear [min]: 141.0</br>TWF: 0.0</br>HDF: 0.0</br>PWF: 0.0</br>OSF: 0.0</br>RNF: 0.0</br>_original_yhat_: 0.003318951211417192</br>\"],[\"</br>id: 4176</br>prediction: 0.003</br>Air temperature [K]: 303.58</br></br>Type: M</br>Process temperature [K]: 310.7</br>Rotational speed [rpm]: 1544.0</br>Torque [Nm]: 39.7</br>Tool wear [min]: 141.0</br>TWF: 0.0</br>HDF: 0.0</br>PWF: 0.0</br>OSF: 0.0</br>RNF: 0.0</br>_original_yhat_: 0.003318951211417192</br>\"],[\"</br>id: 4176</br>prediction: 0.003</br>Air temperature [K]: 303.672</br></br>Type: M</br>Process temperature [K]: 310.7</br>Rotational speed [rpm]: 1544.0</br>Torque [Nm]: 39.7</br>Tool wear [min]: 141.0</br>TWF: 0.0</br>HDF: 0.0</br>PWF: 0.0</br>OSF: 0.0</br>RNF: 0.0</br>_original_yhat_: 0.003318951211417192</br>\"],[\"</br>id: 4176</br>prediction: 0.003</br>Air temperature [K]: 303.764</br></br>Type: M</br>Process temperature [K]: 310.7</br>Rotational speed [rpm]: 1544.0</br>Torque [Nm]: 39.7</br>Tool wear [min]: 141.0</br>TWF: 0.0</br>HDF: 0.0</br>PWF: 0.0</br>OSF: 0.0</br>RNF: 0.0</br>_original_yhat_: 0.003318951211417192</br>\"],[\"</br>id: 4176</br>prediction: 0.003</br>Air temperature [K]: 303.856</br></br>Type: M</br>Process temperature [K]: 310.7</br>Rotational speed [rpm]: 1544.0</br>Torque [Nm]: 39.7</br>Tool wear [min]: 141.0</br>TWF: 0.0</br>HDF: 0.0</br>PWF: 0.0</br>OSF: 0.0</br>RNF: 0.0</br>_original_yhat_: 0.003318951211417192</br>\"],[\"</br>id: 4176</br>prediction: 0.003</br>Air temperature [K]: 303.948</br></br>Type: M</br>Process temperature [K]: 310.7</br>Rotational speed [rpm]: 1544.0</br>Torque [Nm]: 39.7</br>Tool wear [min]: 141.0</br>TWF: 0.0</br>HDF: 0.0</br>PWF: 0.0</br>OSF: 0.0</br>RNF: 0.0</br>_original_yhat_: 0.003318951211417192</br>\"],[\"</br>id: 4176</br>prediction: 0.003</br>Air temperature [K]: 304.04</br></br>Type: M</br>Process temperature [K]: 310.7</br>Rotational speed [rpm]: 1544.0</br>Torque [Nm]: 39.7</br>Tool wear [min]: 141.0</br>TWF: 0.0</br>HDF: 0.0</br>PWF: 0.0</br>OSF: 0.0</br>RNF: 0.0</br>_original_yhat_: 0.003318951211417192</br>\"],[\"</br>id: 4176</br>prediction: 0.003</br>Air temperature [K]: 304.132</br></br>Type: M</br>Process temperature [K]: 310.7</br>Rotational speed [rpm]: 1544.0</br>Torque [Nm]: 39.7</br>Tool wear [min]: 141.0</br>TWF: 0.0</br>HDF: 0.0</br>PWF: 0.0</br>OSF: 0.0</br>RNF: 0.0</br>_original_yhat_: 0.003318951211417192</br>\"],[\"</br>id: 4176</br>prediction: 0.003</br>Air temperature [K]: 304.224</br></br>Type: M</br>Process temperature [K]: 310.7</br>Rotational speed [rpm]: 1544.0</br>Torque [Nm]: 39.7</br>Tool wear [min]: 141.0</br>TWF: 0.0</br>HDF: 0.0</br>PWF: 0.0</br>OSF: 0.0</br>RNF: 0.0</br>_original_yhat_: 0.003318951211417192</br>\"],[\"</br>id: 4176</br>prediction: 0.003</br>Air temperature [K]: 304.316</br></br>Type: M</br>Process temperature [K]: 310.7</br>Rotational speed [rpm]: 1544.0</br>Torque [Nm]: 39.7</br>Tool wear [min]: 141.0</br>TWF: 0.0</br>HDF: 0.0</br>PWF: 0.0</br>OSF: 0.0</br>RNF: 0.0</br>_original_yhat_: 0.003318951211417192</br>\"],[\"</br>id: 4176</br>prediction: 0.003</br>Air temperature [K]: 304.408</br></br>Type: M</br>Process temperature [K]: 310.7</br>Rotational speed [rpm]: 1544.0</br>Torque [Nm]: 39.7</br>Tool wear [min]: 141.0</br>TWF: 0.0</br>HDF: 0.0</br>PWF: 0.0</br>OSF: 0.0</br>RNF: 0.0</br>_original_yhat_: 0.003318951211417192</br>\"],[\"</br>id: 4176</br>prediction: 0.003</br>Air temperature [K]: 304.5</br></br>Type: M</br>Process temperature [K]: 310.7</br>Rotational speed [rpm]: 1544.0</br>Torque [Nm]: 39.7</br>Tool wear [min]: 141.0</br>TWF: 0.0</br>HDF: 0.0</br>PWF: 0.0</br>OSF: 0.0</br>RNF: 0.0</br>_original_yhat_: 0.003318951211417192</br>\"]],\"hovertemplate\":\"%{customdata[0]}<extra></extra>\",\"legendgroup\":\"testing\",\"line\":{\"color\":\"#46bac2\",\"dash\":\"solid\",\"width\":2},\"marker\":{\"symbol\":\"circle\"},\"mode\":\"lines\",\"name\":\"testing\",\"showlegend\":true,\"x\":[295.3,295.392,295.48400000000004,295.576,295.668,295.76,295.85200000000003,295.944,296.036,296.128,296.22,296.312,296.404,296.49600000000004,296.588,296.68,296.772,296.86400000000003,296.956,297.048,297.14,297.232,297.324,297.416,297.508,297.6,297.692,297.784,297.87600000000003,297.968,298.06,298.152,298.244,298.336,298.428,298.52,298.612,298.704,298.796,298.88800000000003,298.98,299.072,299.164,299.25600000000003,299.348,299.44,299.532,299.624,299.716,299.808,299.9,299.992,300.084,300.176,300.26800000000003,300.36,300.452,300.544,300.636,300.728,300.82,300.912,301.004,301.096,301.188,301.28000000000003,301.372,301.464,301.556,301.648,301.74,301.832,301.924,302.016,302.108,302.2,302.29200000000003,302.3,302.384,302.476,302.568,302.66,302.752,302.844,302.936,303.028,303.12,303.212,303.304,303.396,303.488,303.58,303.672,303.764,303.856,303.948,304.04,304.132,304.224,304.316,304.408,304.5],\"xaxis\":\"x9\",\"y\":[0.003318951211417192,0.003318951211417192,0.003318951211417192,0.003318951211417192,0.003318951211417192,0.003318951211417192,0.003318951211417192,0.003318951211417192,0.003318951211417192,0.003318951211417192,0.003318951211417192,0.003318951211417192,0.003318951211417192,0.003318951211417192,0.003318951211417192,0.003318951211417192,0.003318951211417192,0.003318951211417192,0.003318951211417192,0.003318951211417192,0.003318951211417192,0.003318951211417192,0.003318951211417192,0.003318951211417192,0.003318951211417192,0.003318951211417192,0.003318951211417192,0.003318951211417192,0.003318951211417192,0.003318951211417192,0.003318951211417192,0.003318951211417192,0.003318951211417192,0.003318951211417192,0.003318951211417192,0.003318951211417192,0.003318951211417192,0.003318951211417192,0.003318951211417192,0.003318951211417192,0.003318951211417192,0.003318951211417192,0.003318951211417192,0.003318951211417192,0.003318951211417192,0.003318951211417192,0.003318951211417192,0.003318951211417192,0.003318951211417192,0.003318951211417192,0.003318951211417192,0.003318951211417192,0.003318951211417192,0.003318951211417192,0.003318951211417192,0.003318951211417192,0.003318951211417192,0.003318951211417192,0.003318951211417192,0.003318951211417192,0.003318951211417192,0.003318951211417192,0.003318951211417192,0.003318951211417192,0.003318951211417192,0.003318951211417192,0.003318951211417192,0.003318951211417192,0.003318951211417192,0.003318951211417192,0.003318951211417192,0.003318951211417192,0.003318951211417192,0.003318951211417192,0.003318951211417192,0.003318951211417192,0.003318951211417192,0.003318951211417192,0.003318951211417192,0.003318951211417192,0.003318951211417192,0.003318951211417192,0.003318951211417192,0.003318951211417192,0.003318951211417192,0.003318951211417192,0.003318951211417192,0.003318951211417192,0.003318951211417192,0.003318951211417192,0.003318951211417192,0.003318951211417192,0.003318951211417192,0.003318951211417192,0.003318951211417192,0.003318951211417192,0.003318951211417192,0.003318951211417192,0.003318951211417192,0.003318951211417192,0.003318951211417192,0.003318951211417192],\"yaxis\":\"y9\",\"type\":\"scattergl\",\"opacity\":1},{\"customdata\":[[\"</br>id: 4176</br>prediction: 0.003</br>Process temperature [K]: 305.7</br></br>Type: M</br>Air temperature [K]: 302.3</br>Rotational speed [rpm]: 1544.0</br>Torque [Nm]: 39.7</br>Tool wear [min]: 141.0</br>TWF: 0.0</br>HDF: 0.0</br>PWF: 0.0</br>OSF: 0.0</br>RNF: 0.0</br>_original_yhat_: 0.003318951211417192</br>\"],[\"</br>id: 4176</br>prediction: 0.003</br>Process temperature [K]: 305.781</br></br>Type: M</br>Air temperature [K]: 302.3</br>Rotational speed [rpm]: 1544.0</br>Torque [Nm]: 39.7</br>Tool wear [min]: 141.0</br>TWF: 0.0</br>HDF: 0.0</br>PWF: 0.0</br>OSF: 0.0</br>RNF: 0.0</br>_original_yhat_: 0.003318951211417192</br>\"],[\"</br>id: 4176</br>prediction: 0.003</br>Process temperature [K]: 305.86199999999997</br></br>Type: M</br>Air temperature [K]: 302.3</br>Rotational speed [rpm]: 1544.0</br>Torque [Nm]: 39.7</br>Tool wear [min]: 141.0</br>TWF: 0.0</br>HDF: 0.0</br>PWF: 0.0</br>OSF: 0.0</br>RNF: 0.0</br>_original_yhat_: 0.003318951211417192</br>\"],[\"</br>id: 4176</br>prediction: 0.003</br>Process temperature [K]: 305.943</br></br>Type: M</br>Air temperature [K]: 302.3</br>Rotational speed [rpm]: 1544.0</br>Torque [Nm]: 39.7</br>Tool wear [min]: 141.0</br>TWF: 0.0</br>HDF: 0.0</br>PWF: 0.0</br>OSF: 0.0</br>RNF: 0.0</br>_original_yhat_: 0.003318951211417192</br>\"],[\"</br>id: 4176</br>prediction: 0.003</br>Process temperature [K]: 306.024</br></br>Type: M</br>Air temperature [K]: 302.3</br>Rotational speed [rpm]: 1544.0</br>Torque [Nm]: 39.7</br>Tool wear [min]: 141.0</br>TWF: 0.0</br>HDF: 0.0</br>PWF: 0.0</br>OSF: 0.0</br>RNF: 0.0</br>_original_yhat_: 0.003318951211417192</br>\"],[\"</br>id: 4176</br>prediction: 0.003</br>Process temperature [K]: 306.105</br></br>Type: M</br>Air temperature [K]: 302.3</br>Rotational speed [rpm]: 1544.0</br>Torque [Nm]: 39.7</br>Tool wear [min]: 141.0</br>TWF: 0.0</br>HDF: 0.0</br>PWF: 0.0</br>OSF: 0.0</br>RNF: 0.0</br>_original_yhat_: 0.003318951211417192</br>\"],[\"</br>id: 4176</br>prediction: 0.003</br>Process temperature [K]: 306.186</br></br>Type: M</br>Air temperature [K]: 302.3</br>Rotational speed [rpm]: 1544.0</br>Torque [Nm]: 39.7</br>Tool wear [min]: 141.0</br>TWF: 0.0</br>HDF: 0.0</br>PWF: 0.0</br>OSF: 0.0</br>RNF: 0.0</br>_original_yhat_: 0.003318951211417192</br>\"],[\"</br>id: 4176</br>prediction: 0.003</br>Process temperature [K]: 306.267</br></br>Type: M</br>Air temperature [K]: 302.3</br>Rotational speed [rpm]: 1544.0</br>Torque [Nm]: 39.7</br>Tool wear [min]: 141.0</br>TWF: 0.0</br>HDF: 0.0</br>PWF: 0.0</br>OSF: 0.0</br>RNF: 0.0</br>_original_yhat_: 0.003318951211417192</br>\"],[\"</br>id: 4176</br>prediction: 0.003</br>Process temperature [K]: 306.348</br></br>Type: M</br>Air temperature [K]: 302.3</br>Rotational speed [rpm]: 1544.0</br>Torque [Nm]: 39.7</br>Tool wear [min]: 141.0</br>TWF: 0.0</br>HDF: 0.0</br>PWF: 0.0</br>OSF: 0.0</br>RNF: 0.0</br>_original_yhat_: 0.003318951211417192</br>\"],[\"</br>id: 4176</br>prediction: 0.003</br>Process temperature [K]: 306.429</br></br>Type: M</br>Air temperature [K]: 302.3</br>Rotational speed [rpm]: 1544.0</br>Torque [Nm]: 39.7</br>Tool wear [min]: 141.0</br>TWF: 0.0</br>HDF: 0.0</br>PWF: 0.0</br>OSF: 0.0</br>RNF: 0.0</br>_original_yhat_: 0.003318951211417192</br>\"],[\"</br>id: 4176</br>prediction: 0.003</br>Process temperature [K]: 306.51</br></br>Type: M</br>Air temperature [K]: 302.3</br>Rotational speed [rpm]: 1544.0</br>Torque [Nm]: 39.7</br>Tool wear [min]: 141.0</br>TWF: 0.0</br>HDF: 0.0</br>PWF: 0.0</br>OSF: 0.0</br>RNF: 0.0</br>_original_yhat_: 0.003318951211417192</br>\"],[\"</br>id: 4176</br>prediction: 0.003</br>Process temperature [K]: 306.591</br></br>Type: M</br>Air temperature [K]: 302.3</br>Rotational speed [rpm]: 1544.0</br>Torque [Nm]: 39.7</br>Tool wear [min]: 141.0</br>TWF: 0.0</br>HDF: 0.0</br>PWF: 0.0</br>OSF: 0.0</br>RNF: 0.0</br>_original_yhat_: 0.003318951211417192</br>\"],[\"</br>id: 4176</br>prediction: 0.003</br>Process temperature [K]: 306.67199999999997</br></br>Type: M</br>Air temperature [K]: 302.3</br>Rotational speed [rpm]: 1544.0</br>Torque [Nm]: 39.7</br>Tool wear [min]: 141.0</br>TWF: 0.0</br>HDF: 0.0</br>PWF: 0.0</br>OSF: 0.0</br>RNF: 0.0</br>_original_yhat_: 0.003318951211417192</br>\"],[\"</br>id: 4176</br>prediction: 0.003</br>Process temperature [K]: 306.753</br></br>Type: M</br>Air temperature [K]: 302.3</br>Rotational speed [rpm]: 1544.0</br>Torque [Nm]: 39.7</br>Tool wear [min]: 141.0</br>TWF: 0.0</br>HDF: 0.0</br>PWF: 0.0</br>OSF: 0.0</br>RNF: 0.0</br>_original_yhat_: 0.003318951211417192</br>\"],[\"</br>id: 4176</br>prediction: 0.003</br>Process temperature [K]: 306.834</br></br>Type: M</br>Air temperature [K]: 302.3</br>Rotational speed [rpm]: 1544.0</br>Torque [Nm]: 39.7</br>Tool wear [min]: 141.0</br>TWF: 0.0</br>HDF: 0.0</br>PWF: 0.0</br>OSF: 0.0</br>RNF: 0.0</br>_original_yhat_: 0.003318951211417192</br>\"],[\"</br>id: 4176</br>prediction: 0.003</br>Process temperature [K]: 306.91499999999996</br></br>Type: M</br>Air temperature [K]: 302.3</br>Rotational speed [rpm]: 1544.0</br>Torque [Nm]: 39.7</br>Tool wear [min]: 141.0</br>TWF: 0.0</br>HDF: 0.0</br>PWF: 0.0</br>OSF: 0.0</br>RNF: 0.0</br>_original_yhat_: 0.003318951211417192</br>\"],[\"</br>id: 4176</br>prediction: 0.003</br>Process temperature [K]: 306.996</br></br>Type: M</br>Air temperature [K]: 302.3</br>Rotational speed [rpm]: 1544.0</br>Torque [Nm]: 39.7</br>Tool wear [min]: 141.0</br>TWF: 0.0</br>HDF: 0.0</br>PWF: 0.0</br>OSF: 0.0</br>RNF: 0.0</br>_original_yhat_: 0.003318951211417192</br>\"],[\"</br>id: 4176</br>prediction: 0.003</br>Process temperature [K]: 307.077</br></br>Type: M</br>Air temperature [K]: 302.3</br>Rotational speed [rpm]: 1544.0</br>Torque [Nm]: 39.7</br>Tool wear [min]: 141.0</br>TWF: 0.0</br>HDF: 0.0</br>PWF: 0.0</br>OSF: 0.0</br>RNF: 0.0</br>_original_yhat_: 0.003318951211417192</br>\"],[\"</br>id: 4176</br>prediction: 0.003</br>Process temperature [K]: 307.158</br></br>Type: M</br>Air temperature [K]: 302.3</br>Rotational speed [rpm]: 1544.0</br>Torque [Nm]: 39.7</br>Tool wear [min]: 141.0</br>TWF: 0.0</br>HDF: 0.0</br>PWF: 0.0</br>OSF: 0.0</br>RNF: 0.0</br>_original_yhat_: 0.003318951211417192</br>\"],[\"</br>id: 4176</br>prediction: 0.003</br>Process temperature [K]: 307.239</br></br>Type: M</br>Air temperature [K]: 302.3</br>Rotational speed [rpm]: 1544.0</br>Torque [Nm]: 39.7</br>Tool wear [min]: 141.0</br>TWF: 0.0</br>HDF: 0.0</br>PWF: 0.0</br>OSF: 0.0</br>RNF: 0.0</br>_original_yhat_: 0.003318951211417192</br>\"],[\"</br>id: 4176</br>prediction: 0.003</br>Process temperature [K]: 307.32</br></br>Type: M</br>Air temperature [K]: 302.3</br>Rotational speed [rpm]: 1544.0</br>Torque [Nm]: 39.7</br>Tool wear [min]: 141.0</br>TWF: 0.0</br>HDF: 0.0</br>PWF: 0.0</br>OSF: 0.0</br>RNF: 0.0</br>_original_yhat_: 0.003318951211417192</br>\"],[\"</br>id: 4176</br>prediction: 0.003</br>Process temperature [K]: 307.401</br></br>Type: M</br>Air temperature [K]: 302.3</br>Rotational speed [rpm]: 1544.0</br>Torque [Nm]: 39.7</br>Tool wear [min]: 141.0</br>TWF: 0.0</br>HDF: 0.0</br>PWF: 0.0</br>OSF: 0.0</br>RNF: 0.0</br>_original_yhat_: 0.003318951211417192</br>\"],[\"</br>id: 4176</br>prediction: 0.003</br>Process temperature [K]: 307.48199999999997</br></br>Type: M</br>Air temperature [K]: 302.3</br>Rotational speed [rpm]: 1544.0</br>Torque [Nm]: 39.7</br>Tool wear [min]: 141.0</br>TWF: 0.0</br>HDF: 0.0</br>PWF: 0.0</br>OSF: 0.0</br>RNF: 0.0</br>_original_yhat_: 0.003318951211417192</br>\"],[\"</br>id: 4176</br>prediction: 0.003</br>Process temperature [K]: 307.563</br></br>Type: M</br>Air temperature [K]: 302.3</br>Rotational speed [rpm]: 1544.0</br>Torque [Nm]: 39.7</br>Tool wear [min]: 141.0</br>TWF: 0.0</br>HDF: 0.0</br>PWF: 0.0</br>OSF: 0.0</br>RNF: 0.0</br>_original_yhat_: 0.003318951211417192</br>\"],[\"</br>id: 4176</br>prediction: 0.003</br>Process temperature [K]: 307.644</br></br>Type: M</br>Air temperature [K]: 302.3</br>Rotational speed [rpm]: 1544.0</br>Torque [Nm]: 39.7</br>Tool wear [min]: 141.0</br>TWF: 0.0</br>HDF: 0.0</br>PWF: 0.0</br>OSF: 0.0</br>RNF: 0.0</br>_original_yhat_: 0.003318951211417192</br>\"],[\"</br>id: 4176</br>prediction: 0.003</br>Process temperature [K]: 307.725</br></br>Type: M</br>Air temperature [K]: 302.3</br>Rotational speed [rpm]: 1544.0</br>Torque [Nm]: 39.7</br>Tool wear [min]: 141.0</br>TWF: 0.0</br>HDF: 0.0</br>PWF: 0.0</br>OSF: 0.0</br>RNF: 0.0</br>_original_yhat_: 0.003318951211417192</br>\"],[\"</br>id: 4176</br>prediction: 0.003</br>Process temperature [K]: 307.806</br></br>Type: M</br>Air temperature [K]: 302.3</br>Rotational speed [rpm]: 1544.0</br>Torque [Nm]: 39.7</br>Tool wear [min]: 141.0</br>TWF: 0.0</br>HDF: 0.0</br>PWF: 0.0</br>OSF: 0.0</br>RNF: 0.0</br>_original_yhat_: 0.003318951211417192</br>\"],[\"</br>id: 4176</br>prediction: 0.003</br>Process temperature [K]: 307.887</br></br>Type: M</br>Air temperature [K]: 302.3</br>Rotational speed [rpm]: 1544.0</br>Torque [Nm]: 39.7</br>Tool wear [min]: 141.0</br>TWF: 0.0</br>HDF: 0.0</br>PWF: 0.0</br>OSF: 0.0</br>RNF: 0.0</br>_original_yhat_: 0.003318951211417192</br>\"],[\"</br>id: 4176</br>prediction: 0.003</br>Process temperature [K]: 307.968</br></br>Type: M</br>Air temperature [K]: 302.3</br>Rotational speed [rpm]: 1544.0</br>Torque [Nm]: 39.7</br>Tool wear [min]: 141.0</br>TWF: 0.0</br>HDF: 0.0</br>PWF: 0.0</br>OSF: 0.0</br>RNF: 0.0</br>_original_yhat_: 0.003318951211417192</br>\"],[\"</br>id: 4176</br>prediction: 0.003</br>Process temperature [K]: 308.049</br></br>Type: M</br>Air temperature [K]: 302.3</br>Rotational speed [rpm]: 1544.0</br>Torque [Nm]: 39.7</br>Tool wear [min]: 141.0</br>TWF: 0.0</br>HDF: 0.0</br>PWF: 0.0</br>OSF: 0.0</br>RNF: 0.0</br>_original_yhat_: 0.003318951211417192</br>\"],[\"</br>id: 4176</br>prediction: 0.003</br>Process temperature [K]: 308.13</br></br>Type: M</br>Air temperature [K]: 302.3</br>Rotational speed [rpm]: 1544.0</br>Torque [Nm]: 39.7</br>Tool wear [min]: 141.0</br>TWF: 0.0</br>HDF: 0.0</br>PWF: 0.0</br>OSF: 0.0</br>RNF: 0.0</br>_original_yhat_: 0.003318951211417192</br>\"],[\"</br>id: 4176</br>prediction: 0.003</br>Process temperature [K]: 308.211</br></br>Type: M</br>Air temperature [K]: 302.3</br>Rotational speed [rpm]: 1544.0</br>Torque [Nm]: 39.7</br>Tool wear [min]: 141.0</br>TWF: 0.0</br>HDF: 0.0</br>PWF: 0.0</br>OSF: 0.0</br>RNF: 0.0</br>_original_yhat_: 0.003318951211417192</br>\"],[\"</br>id: 4176</br>prediction: 0.003</br>Process temperature [K]: 308.292</br></br>Type: M</br>Air temperature [K]: 302.3</br>Rotational speed [rpm]: 1544.0</br>Torque [Nm]: 39.7</br>Tool wear [min]: 141.0</br>TWF: 0.0</br>HDF: 0.0</br>PWF: 0.0</br>OSF: 0.0</br>RNF: 0.0</br>_original_yhat_: 0.003318951211417192</br>\"],[\"</br>id: 4176</br>prediction: 0.003</br>Process temperature [K]: 308.373</br></br>Type: M</br>Air temperature [K]: 302.3</br>Rotational speed [rpm]: 1544.0</br>Torque [Nm]: 39.7</br>Tool wear [min]: 141.0</br>TWF: 0.0</br>HDF: 0.0</br>PWF: 0.0</br>OSF: 0.0</br>RNF: 0.0</br>_original_yhat_: 0.003318951211417192</br>\"],[\"</br>id: 4176</br>prediction: 0.003</br>Process temperature [K]: 308.454</br></br>Type: M</br>Air temperature [K]: 302.3</br>Rotational speed [rpm]: 1544.0</br>Torque [Nm]: 39.7</br>Tool wear [min]: 141.0</br>TWF: 0.0</br>HDF: 0.0</br>PWF: 0.0</br>OSF: 0.0</br>RNF: 0.0</br>_original_yhat_: 0.003318951211417192</br>\"],[\"</br>id: 4176</br>prediction: 0.003</br>Process temperature [K]: 308.53499999999997</br></br>Type: M</br>Air temperature [K]: 302.3</br>Rotational speed [rpm]: 1544.0</br>Torque [Nm]: 39.7</br>Tool wear [min]: 141.0</br>TWF: 0.0</br>HDF: 0.0</br>PWF: 0.0</br>OSF: 0.0</br>RNF: 0.0</br>_original_yhat_: 0.003318951211417192</br>\"],[\"</br>id: 4176</br>prediction: 0.003</br>Process temperature [K]: 308.616</br></br>Type: M</br>Air temperature [K]: 302.3</br>Rotational speed [rpm]: 1544.0</br>Torque [Nm]: 39.7</br>Tool wear [min]: 141.0</br>TWF: 0.0</br>HDF: 0.0</br>PWF: 0.0</br>OSF: 0.0</br>RNF: 0.0</br>_original_yhat_: 0.003318951211417192</br>\"],[\"</br>id: 4176</br>prediction: 0.003</br>Process temperature [K]: 308.697</br></br>Type: M</br>Air temperature [K]: 302.3</br>Rotational speed [rpm]: 1544.0</br>Torque [Nm]: 39.7</br>Tool wear [min]: 141.0</br>TWF: 0.0</br>HDF: 0.0</br>PWF: 0.0</br>OSF: 0.0</br>RNF: 0.0</br>_original_yhat_: 0.003318951211417192</br>\"],[\"</br>id: 4176</br>prediction: 0.003</br>Process temperature [K]: 308.778</br></br>Type: M</br>Air temperature [K]: 302.3</br>Rotational speed [rpm]: 1544.0</br>Torque [Nm]: 39.7</br>Tool wear [min]: 141.0</br>TWF: 0.0</br>HDF: 0.0</br>PWF: 0.0</br>OSF: 0.0</br>RNF: 0.0</br>_original_yhat_: 0.003318951211417192</br>\"],[\"</br>id: 4176</br>prediction: 0.003</br>Process temperature [K]: 308.859</br></br>Type: M</br>Air temperature [K]: 302.3</br>Rotational speed [rpm]: 1544.0</br>Torque [Nm]: 39.7</br>Tool wear [min]: 141.0</br>TWF: 0.0</br>HDF: 0.0</br>PWF: 0.0</br>OSF: 0.0</br>RNF: 0.0</br>_original_yhat_: 0.003318951211417192</br>\"],[\"</br>id: 4176</br>prediction: 0.003</br>Process temperature [K]: 308.94</br></br>Type: M</br>Air temperature [K]: 302.3</br>Rotational speed [rpm]: 1544.0</br>Torque [Nm]: 39.7</br>Tool wear [min]: 141.0</br>TWF: 0.0</br>HDF: 0.0</br>PWF: 0.0</br>OSF: 0.0</br>RNF: 0.0</br>_original_yhat_: 0.003318951211417192</br>\"],[\"</br>id: 4176</br>prediction: 0.003</br>Process temperature [K]: 309.021</br></br>Type: M</br>Air temperature [K]: 302.3</br>Rotational speed [rpm]: 1544.0</br>Torque [Nm]: 39.7</br>Tool wear [min]: 141.0</br>TWF: 0.0</br>HDF: 0.0</br>PWF: 0.0</br>OSF: 0.0</br>RNF: 0.0</br>_original_yhat_: 0.003318951211417192</br>\"],[\"</br>id: 4176</br>prediction: 0.003</br>Process temperature [K]: 309.102</br></br>Type: M</br>Air temperature [K]: 302.3</br>Rotational speed [rpm]: 1544.0</br>Torque [Nm]: 39.7</br>Tool wear [min]: 141.0</br>TWF: 0.0</br>HDF: 0.0</br>PWF: 0.0</br>OSF: 0.0</br>RNF: 0.0</br>_original_yhat_: 0.003318951211417192</br>\"],[\"</br>id: 4176</br>prediction: 0.003</br>Process temperature [K]: 309.183</br></br>Type: M</br>Air temperature [K]: 302.3</br>Rotational speed [rpm]: 1544.0</br>Torque [Nm]: 39.7</br>Tool wear [min]: 141.0</br>TWF: 0.0</br>HDF: 0.0</br>PWF: 0.0</br>OSF: 0.0</br>RNF: 0.0</br>_original_yhat_: 0.003318951211417192</br>\"],[\"</br>id: 4176</br>prediction: 0.003</br>Process temperature [K]: 309.264</br></br>Type: M</br>Air temperature [K]: 302.3</br>Rotational speed [rpm]: 1544.0</br>Torque [Nm]: 39.7</br>Tool wear [min]: 141.0</br>TWF: 0.0</br>HDF: 0.0</br>PWF: 0.0</br>OSF: 0.0</br>RNF: 0.0</br>_original_yhat_: 0.003318951211417192</br>\"],[\"</br>id: 4176</br>prediction: 0.003</br>Process temperature [K]: 309.345</br></br>Type: M</br>Air temperature [K]: 302.3</br>Rotational speed [rpm]: 1544.0</br>Torque [Nm]: 39.7</br>Tool wear [min]: 141.0</br>TWF: 0.0</br>HDF: 0.0</br>PWF: 0.0</br>OSF: 0.0</br>RNF: 0.0</br>_original_yhat_: 0.003318951211417192</br>\"],[\"</br>id: 4176</br>prediction: 0.003</br>Process temperature [K]: 309.426</br></br>Type: M</br>Air temperature [K]: 302.3</br>Rotational speed [rpm]: 1544.0</br>Torque [Nm]: 39.7</br>Tool wear [min]: 141.0</br>TWF: 0.0</br>HDF: 0.0</br>PWF: 0.0</br>OSF: 0.0</br>RNF: 0.0</br>_original_yhat_: 0.003318951211417192</br>\"],[\"</br>id: 4176</br>prediction: 0.003</br>Process temperature [K]: 309.507</br></br>Type: M</br>Air temperature [K]: 302.3</br>Rotational speed [rpm]: 1544.0</br>Torque [Nm]: 39.7</br>Tool wear [min]: 141.0</br>TWF: 0.0</br>HDF: 0.0</br>PWF: 0.0</br>OSF: 0.0</br>RNF: 0.0</br>_original_yhat_: 0.003318951211417192</br>\"],[\"</br>id: 4176</br>prediction: 0.003</br>Process temperature [K]: 309.588</br></br>Type: M</br>Air temperature [K]: 302.3</br>Rotational speed [rpm]: 1544.0</br>Torque [Nm]: 39.7</br>Tool wear [min]: 141.0</br>TWF: 0.0</br>HDF: 0.0</br>PWF: 0.0</br>OSF: 0.0</br>RNF: 0.0</br>_original_yhat_: 0.003318951211417192</br>\"],[\"</br>id: 4176</br>prediction: 0.003</br>Process temperature [K]: 309.669</br></br>Type: M</br>Air temperature [K]: 302.3</br>Rotational speed [rpm]: 1544.0</br>Torque [Nm]: 39.7</br>Tool wear [min]: 141.0</br>TWF: 0.0</br>HDF: 0.0</br>PWF: 0.0</br>OSF: 0.0</br>RNF: 0.0</br>_original_yhat_: 0.003318951211417192</br>\"],[\"</br>id: 4176</br>prediction: 0.003</br>Process temperature [K]: 309.75</br></br>Type: M</br>Air temperature [K]: 302.3</br>Rotational speed [rpm]: 1544.0</br>Torque [Nm]: 39.7</br>Tool wear [min]: 141.0</br>TWF: 0.0</br>HDF: 0.0</br>PWF: 0.0</br>OSF: 0.0</br>RNF: 0.0</br>_original_yhat_: 0.003318951211417192</br>\"],[\"</br>id: 4176</br>prediction: 0.003</br>Process temperature [K]: 309.831</br></br>Type: M</br>Air temperature [K]: 302.3</br>Rotational speed [rpm]: 1544.0</br>Torque [Nm]: 39.7</br>Tool wear [min]: 141.0</br>TWF: 0.0</br>HDF: 0.0</br>PWF: 0.0</br>OSF: 0.0</br>RNF: 0.0</br>_original_yhat_: 0.003318951211417192</br>\"],[\"</br>id: 4176</br>prediction: 0.003</br>Process temperature [K]: 309.912</br></br>Type: M</br>Air temperature [K]: 302.3</br>Rotational speed [rpm]: 1544.0</br>Torque [Nm]: 39.7</br>Tool wear [min]: 141.0</br>TWF: 0.0</br>HDF: 0.0</br>PWF: 0.0</br>OSF: 0.0</br>RNF: 0.0</br>_original_yhat_: 0.003318951211417192</br>\"],[\"</br>id: 4176</br>prediction: 0.003</br>Process temperature [K]: 309.993</br></br>Type: M</br>Air temperature [K]: 302.3</br>Rotational speed [rpm]: 1544.0</br>Torque [Nm]: 39.7</br>Tool wear [min]: 141.0</br>TWF: 0.0</br>HDF: 0.0</br>PWF: 0.0</br>OSF: 0.0</br>RNF: 0.0</br>_original_yhat_: 0.003318951211417192</br>\"],[\"</br>id: 4176</br>prediction: 0.003</br>Process temperature [K]: 310.074</br></br>Type: M</br>Air temperature [K]: 302.3</br>Rotational speed [rpm]: 1544.0</br>Torque [Nm]: 39.7</br>Tool wear [min]: 141.0</br>TWF: 0.0</br>HDF: 0.0</br>PWF: 0.0</br>OSF: 0.0</br>RNF: 0.0</br>_original_yhat_: 0.003318951211417192</br>\"],[\"</br>id: 4176</br>prediction: 0.003</br>Process temperature [K]: 310.155</br></br>Type: M</br>Air temperature [K]: 302.3</br>Rotational speed [rpm]: 1544.0</br>Torque [Nm]: 39.7</br>Tool wear [min]: 141.0</br>TWF: 0.0</br>HDF: 0.0</br>PWF: 0.0</br>OSF: 0.0</br>RNF: 0.0</br>_original_yhat_: 0.003318951211417192</br>\"],[\"</br>id: 4176</br>prediction: 0.003</br>Process temperature [K]: 310.236</br></br>Type: M</br>Air temperature [K]: 302.3</br>Rotational speed [rpm]: 1544.0</br>Torque [Nm]: 39.7</br>Tool wear [min]: 141.0</br>TWF: 0.0</br>HDF: 0.0</br>PWF: 0.0</br>OSF: 0.0</br>RNF: 0.0</br>_original_yhat_: 0.003318951211417192</br>\"],[\"</br>id: 4176</br>prediction: 0.003</br>Process temperature [K]: 310.317</br></br>Type: M</br>Air temperature [K]: 302.3</br>Rotational speed [rpm]: 1544.0</br>Torque [Nm]: 39.7</br>Tool wear [min]: 141.0</br>TWF: 0.0</br>HDF: 0.0</br>PWF: 0.0</br>OSF: 0.0</br>RNF: 0.0</br>_original_yhat_: 0.003318951211417192</br>\"],[\"</br>id: 4176</br>prediction: 0.003</br>Process temperature [K]: 310.398</br></br>Type: M</br>Air temperature [K]: 302.3</br>Rotational speed [rpm]: 1544.0</br>Torque [Nm]: 39.7</br>Tool wear [min]: 141.0</br>TWF: 0.0</br>HDF: 0.0</br>PWF: 0.0</br>OSF: 0.0</br>RNF: 0.0</br>_original_yhat_: 0.003318951211417192</br>\"],[\"</br>id: 4176</br>prediction: 0.003</br>Process temperature [K]: 310.479</br></br>Type: M</br>Air temperature [K]: 302.3</br>Rotational speed [rpm]: 1544.0</br>Torque [Nm]: 39.7</br>Tool wear [min]: 141.0</br>TWF: 0.0</br>HDF: 0.0</br>PWF: 0.0</br>OSF: 0.0</br>RNF: 0.0</br>_original_yhat_: 0.003318951211417192</br>\"],[\"</br>id: 4176</br>prediction: 0.003</br>Process temperature [K]: 310.56</br></br>Type: M</br>Air temperature [K]: 302.3</br>Rotational speed [rpm]: 1544.0</br>Torque [Nm]: 39.7</br>Tool wear [min]: 141.0</br>TWF: 0.0</br>HDF: 0.0</br>PWF: 0.0</br>OSF: 0.0</br>RNF: 0.0</br>_original_yhat_: 0.003318951211417192</br>\"],[\"</br>id: 4176</br>prediction: 0.003</br>Process temperature [K]: 310.641</br></br>Type: M</br>Air temperature [K]: 302.3</br>Rotational speed [rpm]: 1544.0</br>Torque [Nm]: 39.7</br>Tool wear [min]: 141.0</br>TWF: 0.0</br>HDF: 0.0</br>PWF: 0.0</br>OSF: 0.0</br>RNF: 0.0</br>_original_yhat_: 0.003318951211417192</br>\"],[\"</br>id: 4176</br>prediction: 0.003</br>Process temperature [K]: 310.7</br></br>Type: M</br>Air temperature [K]: 302.3</br>Rotational speed [rpm]: 1544.0</br>Torque [Nm]: 39.7</br>Tool wear [min]: 141.0</br>TWF: 0.0</br>HDF: 0.0</br>PWF: 0.0</br>OSF: 0.0</br>RNF: 0.0</br>_original_yhat_: 0.003318951211417192</br>\"],[\"</br>id: 4176</br>prediction: 0.003</br>Process temperature [K]: 310.722</br></br>Type: M</br>Air temperature [K]: 302.3</br>Rotational speed [rpm]: 1544.0</br>Torque [Nm]: 39.7</br>Tool wear [min]: 141.0</br>TWF: 0.0</br>HDF: 0.0</br>PWF: 0.0</br>OSF: 0.0</br>RNF: 0.0</br>_original_yhat_: 0.003318951211417192</br>\"],[\"</br>id: 4176</br>prediction: 0.003</br>Process temperature [K]: 310.803</br></br>Type: M</br>Air temperature [K]: 302.3</br>Rotational speed [rpm]: 1544.0</br>Torque [Nm]: 39.7</br>Tool wear [min]: 141.0</br>TWF: 0.0</br>HDF: 0.0</br>PWF: 0.0</br>OSF: 0.0</br>RNF: 0.0</br>_original_yhat_: 0.003318951211417192</br>\"],[\"</br>id: 4176</br>prediction: 0.003</br>Process temperature [K]: 310.884</br></br>Type: M</br>Air temperature [K]: 302.3</br>Rotational speed [rpm]: 1544.0</br>Torque [Nm]: 39.7</br>Tool wear [min]: 141.0</br>TWF: 0.0</br>HDF: 0.0</br>PWF: 0.0</br>OSF: 0.0</br>RNF: 0.0</br>_original_yhat_: 0.003318951211417192</br>\"],[\"</br>id: 4176</br>prediction: 0.003</br>Process temperature [K]: 310.96500000000003</br></br>Type: M</br>Air temperature [K]: 302.3</br>Rotational speed [rpm]: 1544.0</br>Torque [Nm]: 39.7</br>Tool wear [min]: 141.0</br>TWF: 0.0</br>HDF: 0.0</br>PWF: 0.0</br>OSF: 0.0</br>RNF: 0.0</br>_original_yhat_: 0.003318951211417192</br>\"],[\"</br>id: 4176</br>prediction: 0.003</br>Process temperature [K]: 311.046</br></br>Type: M</br>Air temperature [K]: 302.3</br>Rotational speed [rpm]: 1544.0</br>Torque [Nm]: 39.7</br>Tool wear [min]: 141.0</br>TWF: 0.0</br>HDF: 0.0</br>PWF: 0.0</br>OSF: 0.0</br>RNF: 0.0</br>_original_yhat_: 0.003318951211417192</br>\"],[\"</br>id: 4176</br>prediction: 0.003</br>Process temperature [K]: 311.127</br></br>Type: M</br>Air temperature [K]: 302.3</br>Rotational speed [rpm]: 1544.0</br>Torque [Nm]: 39.7</br>Tool wear [min]: 141.0</br>TWF: 0.0</br>HDF: 0.0</br>PWF: 0.0</br>OSF: 0.0</br>RNF: 0.0</br>_original_yhat_: 0.003318951211417192</br>\"],[\"</br>id: 4176</br>prediction: 0.003</br>Process temperature [K]: 311.208</br></br>Type: M</br>Air temperature [K]: 302.3</br>Rotational speed [rpm]: 1544.0</br>Torque [Nm]: 39.7</br>Tool wear [min]: 141.0</br>TWF: 0.0</br>HDF: 0.0</br>PWF: 0.0</br>OSF: 0.0</br>RNF: 0.0</br>_original_yhat_: 0.003318951211417192</br>\"],[\"</br>id: 4176</br>prediction: 0.003</br>Process temperature [K]: 311.289</br></br>Type: M</br>Air temperature [K]: 302.3</br>Rotational speed [rpm]: 1544.0</br>Torque [Nm]: 39.7</br>Tool wear [min]: 141.0</br>TWF: 0.0</br>HDF: 0.0</br>PWF: 0.0</br>OSF: 0.0</br>RNF: 0.0</br>_original_yhat_: 0.003318951211417192</br>\"],[\"</br>id: 4176</br>prediction: 0.003</br>Process temperature [K]: 311.37</br></br>Type: M</br>Air temperature [K]: 302.3</br>Rotational speed [rpm]: 1544.0</br>Torque [Nm]: 39.7</br>Tool wear [min]: 141.0</br>TWF: 0.0</br>HDF: 0.0</br>PWF: 0.0</br>OSF: 0.0</br>RNF: 0.0</br>_original_yhat_: 0.003318951211417192</br>\"],[\"</br>id: 4176</br>prediction: 0.003</br>Process temperature [K]: 311.451</br></br>Type: M</br>Air temperature [K]: 302.3</br>Rotational speed [rpm]: 1544.0</br>Torque [Nm]: 39.7</br>Tool wear [min]: 141.0</br>TWF: 0.0</br>HDF: 0.0</br>PWF: 0.0</br>OSF: 0.0</br>RNF: 0.0</br>_original_yhat_: 0.003318951211417192</br>\"],[\"</br>id: 4176</br>prediction: 0.003</br>Process temperature [K]: 311.532</br></br>Type: M</br>Air temperature [K]: 302.3</br>Rotational speed [rpm]: 1544.0</br>Torque [Nm]: 39.7</br>Tool wear [min]: 141.0</br>TWF: 0.0</br>HDF: 0.0</br>PWF: 0.0</br>OSF: 0.0</br>RNF: 0.0</br>_original_yhat_: 0.003318951211417192</br>\"],[\"</br>id: 4176</br>prediction: 0.003</br>Process temperature [K]: 311.613</br></br>Type: M</br>Air temperature [K]: 302.3</br>Rotational speed [rpm]: 1544.0</br>Torque [Nm]: 39.7</br>Tool wear [min]: 141.0</br>TWF: 0.0</br>HDF: 0.0</br>PWF: 0.0</br>OSF: 0.0</br>RNF: 0.0</br>_original_yhat_: 0.003318951211417192</br>\"],[\"</br>id: 4176</br>prediction: 0.003</br>Process temperature [K]: 311.694</br></br>Type: M</br>Air temperature [K]: 302.3</br>Rotational speed [rpm]: 1544.0</br>Torque [Nm]: 39.7</br>Tool wear [min]: 141.0</br>TWF: 0.0</br>HDF: 0.0</br>PWF: 0.0</br>OSF: 0.0</br>RNF: 0.0</br>_original_yhat_: 0.003318951211417192</br>\"],[\"</br>id: 4176</br>prediction: 0.003</br>Process temperature [K]: 311.775</br></br>Type: M</br>Air temperature [K]: 302.3</br>Rotational speed [rpm]: 1544.0</br>Torque [Nm]: 39.7</br>Tool wear [min]: 141.0</br>TWF: 0.0</br>HDF: 0.0</br>PWF: 0.0</br>OSF: 0.0</br>RNF: 0.0</br>_original_yhat_: 0.003318951211417192</br>\"],[\"</br>id: 4176</br>prediction: 0.003</br>Process temperature [K]: 311.856</br></br>Type: M</br>Air temperature [K]: 302.3</br>Rotational speed [rpm]: 1544.0</br>Torque [Nm]: 39.7</br>Tool wear [min]: 141.0</br>TWF: 0.0</br>HDF: 0.0</br>PWF: 0.0</br>OSF: 0.0</br>RNF: 0.0</br>_original_yhat_: 0.003318951211417192</br>\"],[\"</br>id: 4176</br>prediction: 0.003</br>Process temperature [K]: 311.937</br></br>Type: M</br>Air temperature [K]: 302.3</br>Rotational speed [rpm]: 1544.0</br>Torque [Nm]: 39.7</br>Tool wear [min]: 141.0</br>TWF: 0.0</br>HDF: 0.0</br>PWF: 0.0</br>OSF: 0.0</br>RNF: 0.0</br>_original_yhat_: 0.003318951211417192</br>\"],[\"</br>id: 4176</br>prediction: 0.003</br>Process temperature [K]: 312.01800000000003</br></br>Type: M</br>Air temperature [K]: 302.3</br>Rotational speed [rpm]: 1544.0</br>Torque [Nm]: 39.7</br>Tool wear [min]: 141.0</br>TWF: 0.0</br>HDF: 0.0</br>PWF: 0.0</br>OSF: 0.0</br>RNF: 0.0</br>_original_yhat_: 0.003318951211417192</br>\"],[\"</br>id: 4176</br>prediction: 0.003</br>Process temperature [K]: 312.099</br></br>Type: M</br>Air temperature [K]: 302.3</br>Rotational speed [rpm]: 1544.0</br>Torque [Nm]: 39.7</br>Tool wear [min]: 141.0</br>TWF: 0.0</br>HDF: 0.0</br>PWF: 0.0</br>OSF: 0.0</br>RNF: 0.0</br>_original_yhat_: 0.003318951211417192</br>\"],[\"</br>id: 4176</br>prediction: 0.003</br>Process temperature [K]: 312.18</br></br>Type: M</br>Air temperature [K]: 302.3</br>Rotational speed [rpm]: 1544.0</br>Torque [Nm]: 39.7</br>Tool wear [min]: 141.0</br>TWF: 0.0</br>HDF: 0.0</br>PWF: 0.0</br>OSF: 0.0</br>RNF: 0.0</br>_original_yhat_: 0.003318951211417192</br>\"],[\"</br>id: 4176</br>prediction: 0.003</br>Process temperature [K]: 312.261</br></br>Type: M</br>Air temperature [K]: 302.3</br>Rotational speed [rpm]: 1544.0</br>Torque [Nm]: 39.7</br>Tool wear [min]: 141.0</br>TWF: 0.0</br>HDF: 0.0</br>PWF: 0.0</br>OSF: 0.0</br>RNF: 0.0</br>_original_yhat_: 0.003318951211417192</br>\"],[\"</br>id: 4176</br>prediction: 0.003</br>Process temperature [K]: 312.342</br></br>Type: M</br>Air temperature [K]: 302.3</br>Rotational speed [rpm]: 1544.0</br>Torque [Nm]: 39.7</br>Tool wear [min]: 141.0</br>TWF: 0.0</br>HDF: 0.0</br>PWF: 0.0</br>OSF: 0.0</br>RNF: 0.0</br>_original_yhat_: 0.003318951211417192</br>\"],[\"</br>id: 4176</br>prediction: 0.003</br>Process temperature [K]: 312.423</br></br>Type: M</br>Air temperature [K]: 302.3</br>Rotational speed [rpm]: 1544.0</br>Torque [Nm]: 39.7</br>Tool wear [min]: 141.0</br>TWF: 0.0</br>HDF: 0.0</br>PWF: 0.0</br>OSF: 0.0</br>RNF: 0.0</br>_original_yhat_: 0.003318951211417192</br>\"],[\"</br>id: 4176</br>prediction: 0.003</br>Process temperature [K]: 312.504</br></br>Type: M</br>Air temperature [K]: 302.3</br>Rotational speed [rpm]: 1544.0</br>Torque [Nm]: 39.7</br>Tool wear [min]: 141.0</br>TWF: 0.0</br>HDF: 0.0</br>PWF: 0.0</br>OSF: 0.0</br>RNF: 0.0</br>_original_yhat_: 0.003318951211417192</br>\"],[\"</br>id: 4176</br>prediction: 0.003</br>Process temperature [K]: 312.58500000000004</br></br>Type: M</br>Air temperature [K]: 302.3</br>Rotational speed [rpm]: 1544.0</br>Torque [Nm]: 39.7</br>Tool wear [min]: 141.0</br>TWF: 0.0</br>HDF: 0.0</br>PWF: 0.0</br>OSF: 0.0</br>RNF: 0.0</br>_original_yhat_: 0.003318951211417192</br>\"],[\"</br>id: 4176</br>prediction: 0.003</br>Process temperature [K]: 312.666</br></br>Type: M</br>Air temperature [K]: 302.3</br>Rotational speed [rpm]: 1544.0</br>Torque [Nm]: 39.7</br>Tool wear [min]: 141.0</br>TWF: 0.0</br>HDF: 0.0</br>PWF: 0.0</br>OSF: 0.0</br>RNF: 0.0</br>_original_yhat_: 0.003318951211417192</br>\"],[\"</br>id: 4176</br>prediction: 0.003</br>Process temperature [K]: 312.747</br></br>Type: M</br>Air temperature [K]: 302.3</br>Rotational speed [rpm]: 1544.0</br>Torque [Nm]: 39.7</br>Tool wear [min]: 141.0</br>TWF: 0.0</br>HDF: 0.0</br>PWF: 0.0</br>OSF: 0.0</br>RNF: 0.0</br>_original_yhat_: 0.003318951211417192</br>\"],[\"</br>id: 4176</br>prediction: 0.003</br>Process temperature [K]: 312.82800000000003</br></br>Type: M</br>Air temperature [K]: 302.3</br>Rotational speed [rpm]: 1544.0</br>Torque [Nm]: 39.7</br>Tool wear [min]: 141.0</br>TWF: 0.0</br>HDF: 0.0</br>PWF: 0.0</br>OSF: 0.0</br>RNF: 0.0</br>_original_yhat_: 0.003318951211417192</br>\"],[\"</br>id: 4176</br>prediction: 0.003</br>Process temperature [K]: 312.909</br></br>Type: M</br>Air temperature [K]: 302.3</br>Rotational speed [rpm]: 1544.0</br>Torque [Nm]: 39.7</br>Tool wear [min]: 141.0</br>TWF: 0.0</br>HDF: 0.0</br>PWF: 0.0</br>OSF: 0.0</br>RNF: 0.0</br>_original_yhat_: 0.003318951211417192</br>\"],[\"</br>id: 4176</br>prediction: 0.003</br>Process temperature [K]: 312.99</br></br>Type: M</br>Air temperature [K]: 302.3</br>Rotational speed [rpm]: 1544.0</br>Torque [Nm]: 39.7</br>Tool wear [min]: 141.0</br>TWF: 0.0</br>HDF: 0.0</br>PWF: 0.0</br>OSF: 0.0</br>RNF: 0.0</br>_original_yhat_: 0.003318951211417192</br>\"],[\"</br>id: 4176</br>prediction: 0.003</br>Process temperature [K]: 313.071</br></br>Type: M</br>Air temperature [K]: 302.3</br>Rotational speed [rpm]: 1544.0</br>Torque [Nm]: 39.7</br>Tool wear [min]: 141.0</br>TWF: 0.0</br>HDF: 0.0</br>PWF: 0.0</br>OSF: 0.0</br>RNF: 0.0</br>_original_yhat_: 0.003318951211417192</br>\"],[\"</br>id: 4176</br>prediction: 0.003</br>Process temperature [K]: 313.152</br></br>Type: M</br>Air temperature [K]: 302.3</br>Rotational speed [rpm]: 1544.0</br>Torque [Nm]: 39.7</br>Tool wear [min]: 141.0</br>TWF: 0.0</br>HDF: 0.0</br>PWF: 0.0</br>OSF: 0.0</br>RNF: 0.0</br>_original_yhat_: 0.003318951211417192</br>\"],[\"</br>id: 4176</br>prediction: 0.003</br>Process temperature [K]: 313.233</br></br>Type: M</br>Air temperature [K]: 302.3</br>Rotational speed [rpm]: 1544.0</br>Torque [Nm]: 39.7</br>Tool wear [min]: 141.0</br>TWF: 0.0</br>HDF: 0.0</br>PWF: 0.0</br>OSF: 0.0</br>RNF: 0.0</br>_original_yhat_: 0.003318951211417192</br>\"],[\"</br>id: 4176</br>prediction: 0.003</br>Process temperature [K]: 313.314</br></br>Type: M</br>Air temperature [K]: 302.3</br>Rotational speed [rpm]: 1544.0</br>Torque [Nm]: 39.7</br>Tool wear [min]: 141.0</br>TWF: 0.0</br>HDF: 0.0</br>PWF: 0.0</br>OSF: 0.0</br>RNF: 0.0</br>_original_yhat_: 0.003318951211417192</br>\"],[\"</br>id: 4176</br>prediction: 0.003</br>Process temperature [K]: 313.395</br></br>Type: M</br>Air temperature [K]: 302.3</br>Rotational speed [rpm]: 1544.0</br>Torque [Nm]: 39.7</br>Tool wear [min]: 141.0</br>TWF: 0.0</br>HDF: 0.0</br>PWF: 0.0</br>OSF: 0.0</br>RNF: 0.0</br>_original_yhat_: 0.003318951211417192</br>\"],[\"</br>id: 4176</br>prediction: 0.003</br>Process temperature [K]: 313.476</br></br>Type: M</br>Air temperature [K]: 302.3</br>Rotational speed [rpm]: 1544.0</br>Torque [Nm]: 39.7</br>Tool wear [min]: 141.0</br>TWF: 0.0</br>HDF: 0.0</br>PWF: 0.0</br>OSF: 0.0</br>RNF: 0.0</br>_original_yhat_: 0.003318951211417192</br>\"],[\"</br>id: 4176</br>prediction: 0.003</br>Process temperature [K]: 313.557</br></br>Type: M</br>Air temperature [K]: 302.3</br>Rotational speed [rpm]: 1544.0</br>Torque [Nm]: 39.7</br>Tool wear [min]: 141.0</br>TWF: 0.0</br>HDF: 0.0</br>PWF: 0.0</br>OSF: 0.0</br>RNF: 0.0</br>_original_yhat_: 0.003318951211417192</br>\"],[\"</br>id: 4176</br>prediction: 0.003</br>Process temperature [K]: 313.63800000000003</br></br>Type: M</br>Air temperature [K]: 302.3</br>Rotational speed [rpm]: 1544.0</br>Torque [Nm]: 39.7</br>Tool wear [min]: 141.0</br>TWF: 0.0</br>HDF: 0.0</br>PWF: 0.0</br>OSF: 0.0</br>RNF: 0.0</br>_original_yhat_: 0.003318951211417192</br>\"],[\"</br>id: 4176</br>prediction: 0.003</br>Process temperature [K]: 313.719</br></br>Type: M</br>Air temperature [K]: 302.3</br>Rotational speed [rpm]: 1544.0</br>Torque [Nm]: 39.7</br>Tool wear [min]: 141.0</br>TWF: 0.0</br>HDF: 0.0</br>PWF: 0.0</br>OSF: 0.0</br>RNF: 0.0</br>_original_yhat_: 0.003318951211417192</br>\"],[\"</br>id: 4176</br>prediction: 0.003</br>Process temperature [K]: 313.8</br></br>Type: M</br>Air temperature [K]: 302.3</br>Rotational speed [rpm]: 1544.0</br>Torque [Nm]: 39.7</br>Tool wear [min]: 141.0</br>TWF: 0.0</br>HDF: 0.0</br>PWF: 0.0</br>OSF: 0.0</br>RNF: 0.0</br>_original_yhat_: 0.003318951211417192</br>\"]],\"hovertemplate\":\"%{customdata[0]}<extra></extra>\",\"legendgroup\":\"testing\",\"line\":{\"color\":\"#46bac2\",\"dash\":\"solid\",\"width\":2},\"marker\":{\"symbol\":\"circle\"},\"mode\":\"lines\",\"name\":\"testing\",\"showlegend\":false,\"x\":[305.7,305.781,305.86199999999997,305.943,306.024,306.105,306.186,306.267,306.348,306.429,306.51,306.591,306.67199999999997,306.753,306.834,306.91499999999996,306.996,307.077,307.158,307.239,307.32,307.401,307.48199999999997,307.563,307.644,307.725,307.806,307.887,307.968,308.049,308.13,308.211,308.292,308.373,308.454,308.53499999999997,308.616,308.697,308.778,308.859,308.94,309.021,309.102,309.183,309.264,309.345,309.426,309.507,309.588,309.669,309.75,309.831,309.912,309.993,310.074,310.155,310.236,310.317,310.398,310.479,310.56,310.641,310.7,310.722,310.803,310.884,310.96500000000003,311.046,311.127,311.208,311.289,311.37,311.451,311.532,311.613,311.694,311.775,311.856,311.937,312.01800000000003,312.099,312.18,312.261,312.342,312.423,312.504,312.58500000000004,312.666,312.747,312.82800000000003,312.909,312.99,313.071,313.152,313.233,313.314,313.395,313.476,313.557,313.63800000000003,313.719,313.8],\"xaxis\":\"x10\",\"y\":[0.003318951211417192,0.003318951211417192,0.003318951211417192,0.003318951211417192,0.003318951211417192,0.003318951211417192,0.003318951211417192,0.003318951211417192,0.003318951211417192,0.003318951211417192,0.003318951211417192,0.003318951211417192,0.003318951211417192,0.003318951211417192,0.003318951211417192,0.003318951211417192,0.003318951211417192,0.003318951211417192,0.003318951211417192,0.003318951211417192,0.003318951211417192,0.003318951211417192,0.003318951211417192,0.003318951211417192,0.003318951211417192,0.003318951211417192,0.003318951211417192,0.003318951211417192,0.003318951211417192,0.003318951211417192,0.003318951211417192,0.003318951211417192,0.003318951211417192,0.003318951211417192,0.003318951211417192,0.003318951211417192,0.003318951211417192,0.003318951211417192,0.003318951211417192,0.003318951211417192,0.003318951211417192,0.003318951211417192,0.003318951211417192,0.003318951211417192,0.003318951211417192,0.003318951211417192,0.003318951211417192,0.003318951211417192,0.003318951211417192,0.003318951211417192,0.003318951211417192,0.003318951211417192,0.003318951211417192,0.003318951211417192,0.003318951211417192,0.003318951211417192,0.003318951211417192,0.003318951211417192,0.003318951211417192,0.003318951211417192,0.003318951211417192,0.003318951211417192,0.003318951211417192,0.003318951211417192,0.003318951211417192,0.003318951211417192,0.003318951211417192,0.003318951211417192,0.003318951211417192,0.003318951211417192,0.003318951211417192,0.003318951211417192,0.003318951211417192,0.003318951211417192,0.003318951211417192,0.003318951211417192,0.003318951211417192,0.003318951211417192,0.003318951211417192,0.003318951211417192,0.003318951211417192,0.003318951211417192,0.003318951211417192,0.003318951211417192,0.003318951211417192,0.003318951211417192,0.003318951211417192,0.003318951211417192,0.003318951211417192,0.003318951211417192,0.003318951211417192,0.003318951211417192,0.003318951211417192,0.003318951211417192,0.003318951211417192,0.003318951211417192,0.003318951211417192,0.003318951211417192,0.003318951211417192,0.003318951211417192,0.003318951211417192,0.003318951211417192],\"yaxis\":\"y10\",\"type\":\"scattergl\",\"opacity\":1},{\"customdata\":[[\"</br>id: 4176</br>prediction: 0.003</br>Rotational speed [rpm]: 1168.0</br></br>Type: M</br>Air temperature [K]: 302.3</br>Process temperature [K]: 310.7</br>Torque [Nm]: 39.7</br>Tool wear [min]: 141.0</br>TWF: 0.0</br>HDF: 0.0</br>PWF: 0.0</br>OSF: 0.0</br>RNF: 0.0</br>_original_yhat_: 0.003318951211417192</br>\"],[\"</br>id: 4176</br>prediction: 0.003</br>Rotational speed [rpm]: 1184.93</br></br>Type: M</br>Air temperature [K]: 302.3</br>Process temperature [K]: 310.7</br>Torque [Nm]: 39.7</br>Tool wear [min]: 141.0</br>TWF: 0.0</br>HDF: 0.0</br>PWF: 0.0</br>OSF: 0.0</br>RNF: 0.0</br>_original_yhat_: 0.003318951211417192</br>\"],[\"</br>id: 4176</br>prediction: 0.003</br>Rotational speed [rpm]: 1201.86</br></br>Type: M</br>Air temperature [K]: 302.3</br>Process temperature [K]: 310.7</br>Torque [Nm]: 39.7</br>Tool wear [min]: 141.0</br>TWF: 0.0</br>HDF: 0.0</br>PWF: 0.0</br>OSF: 0.0</br>RNF: 0.0</br>_original_yhat_: 0.003318951211417192</br>\"],[\"</br>id: 4176</br>prediction: 0.003</br>Rotational speed [rpm]: 1218.79</br></br>Type: M</br>Air temperature [K]: 302.3</br>Process temperature [K]: 310.7</br>Torque [Nm]: 39.7</br>Tool wear [min]: 141.0</br>TWF: 0.0</br>HDF: 0.0</br>PWF: 0.0</br>OSF: 0.0</br>RNF: 0.0</br>_original_yhat_: 0.003318951211417192</br>\"],[\"</br>id: 4176</br>prediction: 0.003</br>Rotational speed [rpm]: 1235.72</br></br>Type: M</br>Air temperature [K]: 302.3</br>Process temperature [K]: 310.7</br>Torque [Nm]: 39.7</br>Tool wear [min]: 141.0</br>TWF: 0.0</br>HDF: 0.0</br>PWF: 0.0</br>OSF: 0.0</br>RNF: 0.0</br>_original_yhat_: 0.003318951211417192</br>\"],[\"</br>id: 4176</br>prediction: 0.003</br>Rotational speed [rpm]: 1252.65</br></br>Type: M</br>Air temperature [K]: 302.3</br>Process temperature [K]: 310.7</br>Torque [Nm]: 39.7</br>Tool wear [min]: 141.0</br>TWF: 0.0</br>HDF: 0.0</br>PWF: 0.0</br>OSF: 0.0</br>RNF: 0.0</br>_original_yhat_: 0.003318951211417192</br>\"],[\"</br>id: 4176</br>prediction: 0.003</br>Rotational speed [rpm]: 1269.58</br></br>Type: M</br>Air temperature [K]: 302.3</br>Process temperature [K]: 310.7</br>Torque [Nm]: 39.7</br>Tool wear [min]: 141.0</br>TWF: 0.0</br>HDF: 0.0</br>PWF: 0.0</br>OSF: 0.0</br>RNF: 0.0</br>_original_yhat_: 0.003318951211417192</br>\"],[\"</br>id: 4176</br>prediction: 0.003</br>Rotational speed [rpm]: 1286.51</br></br>Type: M</br>Air temperature [K]: 302.3</br>Process temperature [K]: 310.7</br>Torque [Nm]: 39.7</br>Tool wear [min]: 141.0</br>TWF: 0.0</br>HDF: 0.0</br>PWF: 0.0</br>OSF: 0.0</br>RNF: 0.0</br>_original_yhat_: 0.003318951211417192</br>\"],[\"</br>id: 4176</br>prediction: 0.003</br>Rotational speed [rpm]: 1303.44</br></br>Type: M</br>Air temperature [K]: 302.3</br>Process temperature [K]: 310.7</br>Torque [Nm]: 39.7</br>Tool wear [min]: 141.0</br>TWF: 0.0</br>HDF: 0.0</br>PWF: 0.0</br>OSF: 0.0</br>RNF: 0.0</br>_original_yhat_: 0.003318951211417192</br>\"],[\"</br>id: 4176</br>prediction: 0.003</br>Rotational speed [rpm]: 1320.37</br></br>Type: M</br>Air temperature [K]: 302.3</br>Process temperature [K]: 310.7</br>Torque [Nm]: 39.7</br>Tool wear [min]: 141.0</br>TWF: 0.0</br>HDF: 0.0</br>PWF: 0.0</br>OSF: 0.0</br>RNF: 0.0</br>_original_yhat_: 0.003318951211417192</br>\"],[\"</br>id: 4176</br>prediction: 0.003</br>Rotational speed [rpm]: 1337.3</br></br>Type: M</br>Air temperature [K]: 302.3</br>Process temperature [K]: 310.7</br>Torque [Nm]: 39.7</br>Tool wear [min]: 141.0</br>TWF: 0.0</br>HDF: 0.0</br>PWF: 0.0</br>OSF: 0.0</br>RNF: 0.0</br>_original_yhat_: 0.003318951211417192</br>\"],[\"</br>id: 4176</br>prediction: 0.003</br>Rotational speed [rpm]: 1354.23</br></br>Type: M</br>Air temperature [K]: 302.3</br>Process temperature [K]: 310.7</br>Torque [Nm]: 39.7</br>Tool wear [min]: 141.0</br>TWF: 0.0</br>HDF: 0.0</br>PWF: 0.0</br>OSF: 0.0</br>RNF: 0.0</br>_original_yhat_: 0.003318951211417192</br>\"],[\"</br>id: 4176</br>prediction: 0.003</br>Rotational speed [rpm]: 1371.16</br></br>Type: M</br>Air temperature [K]: 302.3</br>Process temperature [K]: 310.7</br>Torque [Nm]: 39.7</br>Tool wear [min]: 141.0</br>TWF: 0.0</br>HDF: 0.0</br>PWF: 0.0</br>OSF: 0.0</br>RNF: 0.0</br>_original_yhat_: 0.003318951211417192</br>\"],[\"</br>id: 4176</br>prediction: 0.003</br>Rotational speed [rpm]: 1388.09</br></br>Type: M</br>Air temperature [K]: 302.3</br>Process temperature [K]: 310.7</br>Torque [Nm]: 39.7</br>Tool wear [min]: 141.0</br>TWF: 0.0</br>HDF: 0.0</br>PWF: 0.0</br>OSF: 0.0</br>RNF: 0.0</br>_original_yhat_: 0.003318951211417192</br>\"],[\"</br>id: 4176</br>prediction: 0.003</br>Rotational speed [rpm]: 1405.02</br></br>Type: M</br>Air temperature [K]: 302.3</br>Process temperature [K]: 310.7</br>Torque [Nm]: 39.7</br>Tool wear [min]: 141.0</br>TWF: 0.0</br>HDF: 0.0</br>PWF: 0.0</br>OSF: 0.0</br>RNF: 0.0</br>_original_yhat_: 0.003318951211417192</br>\"],[\"</br>id: 4176</br>prediction: 0.003</br>Rotational speed [rpm]: 1421.95</br></br>Type: M</br>Air temperature [K]: 302.3</br>Process temperature [K]: 310.7</br>Torque [Nm]: 39.7</br>Tool wear [min]: 141.0</br>TWF: 0.0</br>HDF: 0.0</br>PWF: 0.0</br>OSF: 0.0</br>RNF: 0.0</br>_original_yhat_: 0.003318951211417192</br>\"],[\"</br>id: 4176</br>prediction: 0.003</br>Rotational speed [rpm]: 1438.88</br></br>Type: M</br>Air temperature [K]: 302.3</br>Process temperature [K]: 310.7</br>Torque [Nm]: 39.7</br>Tool wear [min]: 141.0</br>TWF: 0.0</br>HDF: 0.0</br>PWF: 0.0</br>OSF: 0.0</br>RNF: 0.0</br>_original_yhat_: 0.003318951211417192</br>\"],[\"</br>id: 4176</br>prediction: 0.003</br>Rotational speed [rpm]: 1455.81</br></br>Type: M</br>Air temperature [K]: 302.3</br>Process temperature [K]: 310.7</br>Torque [Nm]: 39.7</br>Tool wear [min]: 141.0</br>TWF: 0.0</br>HDF: 0.0</br>PWF: 0.0</br>OSF: 0.0</br>RNF: 0.0</br>_original_yhat_: 0.003318951211417192</br>\"],[\"</br>id: 4176</br>prediction: 0.003</br>Rotational speed [rpm]: 1472.74</br></br>Type: M</br>Air temperature [K]: 302.3</br>Process temperature [K]: 310.7</br>Torque [Nm]: 39.7</br>Tool wear [min]: 141.0</br>TWF: 0.0</br>HDF: 0.0</br>PWF: 0.0</br>OSF: 0.0</br>RNF: 0.0</br>_original_yhat_: 0.003318951211417192</br>\"],[\"</br>id: 4176</br>prediction: 0.003</br>Rotational speed [rpm]: 1489.67</br></br>Type: M</br>Air temperature [K]: 302.3</br>Process temperature [K]: 310.7</br>Torque [Nm]: 39.7</br>Tool wear [min]: 141.0</br>TWF: 0.0</br>HDF: 0.0</br>PWF: 0.0</br>OSF: 0.0</br>RNF: 0.0</br>_original_yhat_: 0.003318951211417192</br>\"],[\"</br>id: 4176</br>prediction: 0.003</br>Rotational speed [rpm]: 1506.6</br></br>Type: M</br>Air temperature [K]: 302.3</br>Process temperature [K]: 310.7</br>Torque [Nm]: 39.7</br>Tool wear [min]: 141.0</br>TWF: 0.0</br>HDF: 0.0</br>PWF: 0.0</br>OSF: 0.0</br>RNF: 0.0</br>_original_yhat_: 0.003318951211417192</br>\"],[\"</br>id: 4176</br>prediction: 0.003</br>Rotational speed [rpm]: 1523.53</br></br>Type: M</br>Air temperature [K]: 302.3</br>Process temperature [K]: 310.7</br>Torque [Nm]: 39.7</br>Tool wear [min]: 141.0</br>TWF: 0.0</br>HDF: 0.0</br>PWF: 0.0</br>OSF: 0.0</br>RNF: 0.0</br>_original_yhat_: 0.003318951211417192</br>\"],[\"</br>id: 4176</br>prediction: 0.003</br>Rotational speed [rpm]: 1540.46</br></br>Type: M</br>Air temperature [K]: 302.3</br>Process temperature [K]: 310.7</br>Torque [Nm]: 39.7</br>Tool wear [min]: 141.0</br>TWF: 0.0</br>HDF: 0.0</br>PWF: 0.0</br>OSF: 0.0</br>RNF: 0.0</br>_original_yhat_: 0.003318951211417192</br>\"],[\"</br>id: 4176</br>prediction: 0.003</br>Rotational speed [rpm]: 1544.0</br></br>Type: M</br>Air temperature [K]: 302.3</br>Process temperature [K]: 310.7</br>Torque [Nm]: 39.7</br>Tool wear [min]: 141.0</br>TWF: 0.0</br>HDF: 0.0</br>PWF: 0.0</br>OSF: 0.0</br>RNF: 0.0</br>_original_yhat_: 0.003318951211417192</br>\"],[\"</br>id: 4176</br>prediction: 0.003</br>Rotational speed [rpm]: 1557.3899999999999</br></br>Type: M</br>Air temperature [K]: 302.3</br>Process temperature [K]: 310.7</br>Torque [Nm]: 39.7</br>Tool wear [min]: 141.0</br>TWF: 0.0</br>HDF: 0.0</br>PWF: 0.0</br>OSF: 0.0</br>RNF: 0.0</br>_original_yhat_: 0.003318951211417192</br>\"],[\"</br>id: 4176</br>prediction: 0.003</br>Rotational speed [rpm]: 1574.32</br></br>Type: M</br>Air temperature [K]: 302.3</br>Process temperature [K]: 310.7</br>Torque [Nm]: 39.7</br>Tool wear [min]: 141.0</br>TWF: 0.0</br>HDF: 0.0</br>PWF: 0.0</br>OSF: 0.0</br>RNF: 0.0</br>_original_yhat_: 0.003318951211417192</br>\"],[\"</br>id: 4176</br>prediction: 0.003</br>Rotational speed [rpm]: 1591.25</br></br>Type: M</br>Air temperature [K]: 302.3</br>Process temperature [K]: 310.7</br>Torque [Nm]: 39.7</br>Tool wear [min]: 141.0</br>TWF: 0.0</br>HDF: 0.0</br>PWF: 0.0</br>OSF: 0.0</br>RNF: 0.0</br>_original_yhat_: 0.003318951211417192</br>\"],[\"</br>id: 4176</br>prediction: 0.003</br>Rotational speed [rpm]: 1608.18</br></br>Type: M</br>Air temperature [K]: 302.3</br>Process temperature [K]: 310.7</br>Torque [Nm]: 39.7</br>Tool wear [min]: 141.0</br>TWF: 0.0</br>HDF: 0.0</br>PWF: 0.0</br>OSF: 0.0</br>RNF: 0.0</br>_original_yhat_: 0.003318951211417192</br>\"],[\"</br>id: 4176</br>prediction: 0.003</br>Rotational speed [rpm]: 1625.1100000000001</br></br>Type: M</br>Air temperature [K]: 302.3</br>Process temperature [K]: 310.7</br>Torque [Nm]: 39.7</br>Tool wear [min]: 141.0</br>TWF: 0.0</br>HDF: 0.0</br>PWF: 0.0</br>OSF: 0.0</br>RNF: 0.0</br>_original_yhat_: 0.003318951211417192</br>\"],[\"</br>id: 4176</br>prediction: 0.003</br>Rotational speed [rpm]: 1642.04</br></br>Type: M</br>Air temperature [K]: 302.3</br>Process temperature [K]: 310.7</br>Torque [Nm]: 39.7</br>Tool wear [min]: 141.0</br>TWF: 0.0</br>HDF: 0.0</br>PWF: 0.0</br>OSF: 0.0</br>RNF: 0.0</br>_original_yhat_: 0.003318951211417192</br>\"],[\"</br>id: 4176</br>prediction: 0.003</br>Rotational speed [rpm]: 1658.97</br></br>Type: M</br>Air temperature [K]: 302.3</br>Process temperature [K]: 310.7</br>Torque [Nm]: 39.7</br>Tool wear [min]: 141.0</br>TWF: 0.0</br>HDF: 0.0</br>PWF: 0.0</br>OSF: 0.0</br>RNF: 0.0</br>_original_yhat_: 0.003318951211417192</br>\"],[\"</br>id: 4176</br>prediction: 0.003</br>Rotational speed [rpm]: 1675.9</br></br>Type: M</br>Air temperature [K]: 302.3</br>Process temperature [K]: 310.7</br>Torque [Nm]: 39.7</br>Tool wear [min]: 141.0</br>TWF: 0.0</br>HDF: 0.0</br>PWF: 0.0</br>OSF: 0.0</br>RNF: 0.0</br>_original_yhat_: 0.003318951211417192</br>\"],[\"</br>id: 4176</br>prediction: 0.0</br>Rotational speed [rpm]: 1692.83</br></br>Type: M</br>Air temperature [K]: 302.3</br>Process temperature [K]: 310.7</br>Torque [Nm]: 39.7</br>Tool wear [min]: 141.0</br>TWF: 0.0</br>HDF: 0.0</br>PWF: 0.0</br>OSF: 0.0</br>RNF: 0.0</br>_original_yhat_: 0.003318951211417192</br>\"],[\"</br>id: 4176</br>prediction: 0.0</br>Rotational speed [rpm]: 1709.76</br></br>Type: M</br>Air temperature [K]: 302.3</br>Process temperature [K]: 310.7</br>Torque [Nm]: 39.7</br>Tool wear [min]: 141.0</br>TWF: 0.0</br>HDF: 0.0</br>PWF: 0.0</br>OSF: 0.0</br>RNF: 0.0</br>_original_yhat_: 0.003318951211417192</br>\"],[\"</br>id: 4176</br>prediction: 0.0</br>Rotational speed [rpm]: 1726.69</br></br>Type: M</br>Air temperature [K]: 302.3</br>Process temperature [K]: 310.7</br>Torque [Nm]: 39.7</br>Tool wear [min]: 141.0</br>TWF: 0.0</br>HDF: 0.0</br>PWF: 0.0</br>OSF: 0.0</br>RNF: 0.0</br>_original_yhat_: 0.003318951211417192</br>\"],[\"</br>id: 4176</br>prediction: 0.0</br>Rotational speed [rpm]: 1743.62</br></br>Type: M</br>Air temperature [K]: 302.3</br>Process temperature [K]: 310.7</br>Torque [Nm]: 39.7</br>Tool wear [min]: 141.0</br>TWF: 0.0</br>HDF: 0.0</br>PWF: 0.0</br>OSF: 0.0</br>RNF: 0.0</br>_original_yhat_: 0.003318951211417192</br>\"],[\"</br>id: 4176</br>prediction: 0.0</br>Rotational speed [rpm]: 1760.55</br></br>Type: M</br>Air temperature [K]: 302.3</br>Process temperature [K]: 310.7</br>Torque [Nm]: 39.7</br>Tool wear [min]: 141.0</br>TWF: 0.0</br>HDF: 0.0</br>PWF: 0.0</br>OSF: 0.0</br>RNF: 0.0</br>_original_yhat_: 0.003318951211417192</br>\"],[\"</br>id: 4176</br>prediction: 0.0</br>Rotational speed [rpm]: 1777.48</br></br>Type: M</br>Air temperature [K]: 302.3</br>Process temperature [K]: 310.7</br>Torque [Nm]: 39.7</br>Tool wear [min]: 141.0</br>TWF: 0.0</br>HDF: 0.0</br>PWF: 0.0</br>OSF: 0.0</br>RNF: 0.0</br>_original_yhat_: 0.003318951211417192</br>\"],[\"</br>id: 4176</br>prediction: 0.0</br>Rotational speed [rpm]: 1794.4099999999999</br></br>Type: M</br>Air temperature [K]: 302.3</br>Process temperature [K]: 310.7</br>Torque [Nm]: 39.7</br>Tool wear [min]: 141.0</br>TWF: 0.0</br>HDF: 0.0</br>PWF: 0.0</br>OSF: 0.0</br>RNF: 0.0</br>_original_yhat_: 0.003318951211417192</br>\"],[\"</br>id: 4176</br>prediction: 0.0</br>Rotational speed [rpm]: 1811.3400000000001</br></br>Type: M</br>Air temperature [K]: 302.3</br>Process temperature [K]: 310.7</br>Torque [Nm]: 39.7</br>Tool wear [min]: 141.0</br>TWF: 0.0</br>HDF: 0.0</br>PWF: 0.0</br>OSF: 0.0</br>RNF: 0.0</br>_original_yhat_: 0.003318951211417192</br>\"],[\"</br>id: 4176</br>prediction: 0.0</br>Rotational speed [rpm]: 1828.27</br></br>Type: M</br>Air temperature [K]: 302.3</br>Process temperature [K]: 310.7</br>Torque [Nm]: 39.7</br>Tool wear [min]: 141.0</br>TWF: 0.0</br>HDF: 0.0</br>PWF: 0.0</br>OSF: 0.0</br>RNF: 0.0</br>_original_yhat_: 0.003318951211417192</br>\"],[\"</br>id: 4176</br>prediction: 0.0</br>Rotational speed [rpm]: 1845.2</br></br>Type: M</br>Air temperature [K]: 302.3</br>Process temperature [K]: 310.7</br>Torque [Nm]: 39.7</br>Tool wear [min]: 141.0</br>TWF: 0.0</br>HDF: 0.0</br>PWF: 0.0</br>OSF: 0.0</br>RNF: 0.0</br>_original_yhat_: 0.003318951211417192</br>\"],[\"</br>id: 4176</br>prediction: 0.0</br>Rotational speed [rpm]: 1862.13</br></br>Type: M</br>Air temperature [K]: 302.3</br>Process temperature [K]: 310.7</br>Torque [Nm]: 39.7</br>Tool wear [min]: 141.0</br>TWF: 0.0</br>HDF: 0.0</br>PWF: 0.0</br>OSF: 0.0</br>RNF: 0.0</br>_original_yhat_: 0.003318951211417192</br>\"],[\"</br>id: 4176</br>prediction: 0.0</br>Rotational speed [rpm]: 1879.06</br></br>Type: M</br>Air temperature [K]: 302.3</br>Process temperature [K]: 310.7</br>Torque [Nm]: 39.7</br>Tool wear [min]: 141.0</br>TWF: 0.0</br>HDF: 0.0</br>PWF: 0.0</br>OSF: 0.0</br>RNF: 0.0</br>_original_yhat_: 0.003318951211417192</br>\"],[\"</br>id: 4176</br>prediction: 0.0</br>Rotational speed [rpm]: 1895.99</br></br>Type: M</br>Air temperature [K]: 302.3</br>Process temperature [K]: 310.7</br>Torque [Nm]: 39.7</br>Tool wear [min]: 141.0</br>TWF: 0.0</br>HDF: 0.0</br>PWF: 0.0</br>OSF: 0.0</br>RNF: 0.0</br>_original_yhat_: 0.003318951211417192</br>\"],[\"</br>id: 4176</br>prediction: 0.0</br>Rotational speed [rpm]: 1912.92</br></br>Type: M</br>Air temperature [K]: 302.3</br>Process temperature [K]: 310.7</br>Torque [Nm]: 39.7</br>Tool wear [min]: 141.0</br>TWF: 0.0</br>HDF: 0.0</br>PWF: 0.0</br>OSF: 0.0</br>RNF: 0.0</br>_original_yhat_: 0.003318951211417192</br>\"],[\"</br>id: 4176</br>prediction: 0.0</br>Rotational speed [rpm]: 1929.85</br></br>Type: M</br>Air temperature [K]: 302.3</br>Process temperature [K]: 310.7</br>Torque [Nm]: 39.7</br>Tool wear [min]: 141.0</br>TWF: 0.0</br>HDF: 0.0</br>PWF: 0.0</br>OSF: 0.0</br>RNF: 0.0</br>_original_yhat_: 0.003318951211417192</br>\"],[\"</br>id: 4176</br>prediction: 0.0</br>Rotational speed [rpm]: 1946.78</br></br>Type: M</br>Air temperature [K]: 302.3</br>Process temperature [K]: 310.7</br>Torque [Nm]: 39.7</br>Tool wear [min]: 141.0</br>TWF: 0.0</br>HDF: 0.0</br>PWF: 0.0</br>OSF: 0.0</br>RNF: 0.0</br>_original_yhat_: 0.003318951211417192</br>\"],[\"</br>id: 4176</br>prediction: 0.0</br>Rotational speed [rpm]: 1963.71</br></br>Type: M</br>Air temperature [K]: 302.3</br>Process temperature [K]: 310.7</br>Torque [Nm]: 39.7</br>Tool wear [min]: 141.0</br>TWF: 0.0</br>HDF: 0.0</br>PWF: 0.0</br>OSF: 0.0</br>RNF: 0.0</br>_original_yhat_: 0.003318951211417192</br>\"],[\"</br>id: 4176</br>prediction: 0.0</br>Rotational speed [rpm]: 1980.6399999999999</br></br>Type: M</br>Air temperature [K]: 302.3</br>Process temperature [K]: 310.7</br>Torque [Nm]: 39.7</br>Tool wear [min]: 141.0</br>TWF: 0.0</br>HDF: 0.0</br>PWF: 0.0</br>OSF: 0.0</br>RNF: 0.0</br>_original_yhat_: 0.003318951211417192</br>\"],[\"</br>id: 4176</br>prediction: 0.0</br>Rotational speed [rpm]: 1997.57</br></br>Type: M</br>Air temperature [K]: 302.3</br>Process temperature [K]: 310.7</br>Torque [Nm]: 39.7</br>Tool wear [min]: 141.0</br>TWF: 0.0</br>HDF: 0.0</br>PWF: 0.0</br>OSF: 0.0</br>RNF: 0.0</br>_original_yhat_: 0.003318951211417192</br>\"],[\"</br>id: 4176</br>prediction: 0.0</br>Rotational speed [rpm]: 2014.5</br></br>Type: M</br>Air temperature [K]: 302.3</br>Process temperature [K]: 310.7</br>Torque [Nm]: 39.7</br>Tool wear [min]: 141.0</br>TWF: 0.0</br>HDF: 0.0</br>PWF: 0.0</br>OSF: 0.0</br>RNF: 0.0</br>_original_yhat_: 0.003318951211417192</br>\"],[\"</br>id: 4176</br>prediction: 0.0</br>Rotational speed [rpm]: 2031.4299999999998</br></br>Type: M</br>Air temperature [K]: 302.3</br>Process temperature [K]: 310.7</br>Torque [Nm]: 39.7</br>Tool wear [min]: 141.0</br>TWF: 0.0</br>HDF: 0.0</br>PWF: 0.0</br>OSF: 0.0</br>RNF: 0.0</br>_original_yhat_: 0.003318951211417192</br>\"],[\"</br>id: 4176</br>prediction: 0.0</br>Rotational speed [rpm]: 2048.36</br></br>Type: M</br>Air temperature [K]: 302.3</br>Process temperature [K]: 310.7</br>Torque [Nm]: 39.7</br>Tool wear [min]: 141.0</br>TWF: 0.0</br>HDF: 0.0</br>PWF: 0.0</br>OSF: 0.0</br>RNF: 0.0</br>_original_yhat_: 0.003318951211417192</br>\"],[\"</br>id: 4176</br>prediction: 0.0</br>Rotational speed [rpm]: 2065.29</br></br>Type: M</br>Air temperature [K]: 302.3</br>Process temperature [K]: 310.7</br>Torque [Nm]: 39.7</br>Tool wear [min]: 141.0</br>TWF: 0.0</br>HDF: 0.0</br>PWF: 0.0</br>OSF: 0.0</br>RNF: 0.0</br>_original_yhat_: 0.003318951211417192</br>\"],[\"</br>id: 4176</br>prediction: 0.0</br>Rotational speed [rpm]: 2082.2200000000003</br></br>Type: M</br>Air temperature [K]: 302.3</br>Process temperature [K]: 310.7</br>Torque [Nm]: 39.7</br>Tool wear [min]: 141.0</br>TWF: 0.0</br>HDF: 0.0</br>PWF: 0.0</br>OSF: 0.0</br>RNF: 0.0</br>_original_yhat_: 0.003318951211417192</br>\"],[\"</br>id: 4176</br>prediction: 0.0</br>Rotational speed [rpm]: 2099.15</br></br>Type: M</br>Air temperature [K]: 302.3</br>Process temperature [K]: 310.7</br>Torque [Nm]: 39.7</br>Tool wear [min]: 141.0</br>TWF: 0.0</br>HDF: 0.0</br>PWF: 0.0</br>OSF: 0.0</br>RNF: 0.0</br>_original_yhat_: 0.003318951211417192</br>\"],[\"</br>id: 4176</br>prediction: 0.0</br>Rotational speed [rpm]: 2116.08</br></br>Type: M</br>Air temperature [K]: 302.3</br>Process temperature [K]: 310.7</br>Torque [Nm]: 39.7</br>Tool wear [min]: 141.0</br>TWF: 0.0</br>HDF: 0.0</br>PWF: 0.0</br>OSF: 0.0</br>RNF: 0.0</br>_original_yhat_: 0.003318951211417192</br>\"],[\"</br>id: 4176</br>prediction: 0.0</br>Rotational speed [rpm]: 2133.01</br></br>Type: M</br>Air temperature [K]: 302.3</br>Process temperature [K]: 310.7</br>Torque [Nm]: 39.7</br>Tool wear [min]: 141.0</br>TWF: 0.0</br>HDF: 0.0</br>PWF: 0.0</br>OSF: 0.0</br>RNF: 0.0</br>_original_yhat_: 0.003318951211417192</br>\"],[\"</br>id: 4176</br>prediction: 0.0</br>Rotational speed [rpm]: 2149.94</br></br>Type: M</br>Air temperature [K]: 302.3</br>Process temperature [K]: 310.7</br>Torque [Nm]: 39.7</br>Tool wear [min]: 141.0</br>TWF: 0.0</br>HDF: 0.0</br>PWF: 0.0</br>OSF: 0.0</br>RNF: 0.0</br>_original_yhat_: 0.003318951211417192</br>\"],[\"</br>id: 4176</br>prediction: 0.0</br>Rotational speed [rpm]: 2166.87</br></br>Type: M</br>Air temperature [K]: 302.3</br>Process temperature [K]: 310.7</br>Torque [Nm]: 39.7</br>Tool wear [min]: 141.0</br>TWF: 0.0</br>HDF: 0.0</br>PWF: 0.0</br>OSF: 0.0</br>RNF: 0.0</br>_original_yhat_: 0.003318951211417192</br>\"],[\"</br>id: 4176</br>prediction: 0.0</br>Rotational speed [rpm]: 2183.8</br></br>Type: M</br>Air temperature [K]: 302.3</br>Process temperature [K]: 310.7</br>Torque [Nm]: 39.7</br>Tool wear [min]: 141.0</br>TWF: 0.0</br>HDF: 0.0</br>PWF: 0.0</br>OSF: 0.0</br>RNF: 0.0</br>_original_yhat_: 0.003318951211417192</br>\"],[\"</br>id: 4176</br>prediction: 0.0</br>Rotational speed [rpm]: 2200.73</br></br>Type: M</br>Air temperature [K]: 302.3</br>Process temperature [K]: 310.7</br>Torque [Nm]: 39.7</br>Tool wear [min]: 141.0</br>TWF: 0.0</br>HDF: 0.0</br>PWF: 0.0</br>OSF: 0.0</br>RNF: 0.0</br>_original_yhat_: 0.003318951211417192</br>\"],[\"</br>id: 4176</br>prediction: 0.0</br>Rotational speed [rpm]: 2217.66</br></br>Type: M</br>Air temperature [K]: 302.3</br>Process temperature [K]: 310.7</br>Torque [Nm]: 39.7</br>Tool wear [min]: 141.0</br>TWF: 0.0</br>HDF: 0.0</br>PWF: 0.0</br>OSF: 0.0</br>RNF: 0.0</br>_original_yhat_: 0.003318951211417192</br>\"],[\"</br>id: 4176</br>prediction: 0.0</br>Rotational speed [rpm]: 2234.59</br></br>Type: M</br>Air temperature [K]: 302.3</br>Process temperature [K]: 310.7</br>Torque [Nm]: 39.7</br>Tool wear [min]: 141.0</br>TWF: 0.0</br>HDF: 0.0</br>PWF: 0.0</br>OSF: 0.0</br>RNF: 0.0</br>_original_yhat_: 0.003318951211417192</br>\"],[\"</br>id: 4176</br>prediction: 0.0</br>Rotational speed [rpm]: 2251.52</br></br>Type: M</br>Air temperature [K]: 302.3</br>Process temperature [K]: 310.7</br>Torque [Nm]: 39.7</br>Tool wear [min]: 141.0</br>TWF: 0.0</br>HDF: 0.0</br>PWF: 0.0</br>OSF: 0.0</br>RNF: 0.0</br>_original_yhat_: 0.003318951211417192</br>\"],[\"</br>id: 4176</br>prediction: 0.0</br>Rotational speed [rpm]: 2268.45</br></br>Type: M</br>Air temperature [K]: 302.3</br>Process temperature [K]: 310.7</br>Torque [Nm]: 39.7</br>Tool wear [min]: 141.0</br>TWF: 0.0</br>HDF: 0.0</br>PWF: 0.0</br>OSF: 0.0</br>RNF: 0.0</br>_original_yhat_: 0.003318951211417192</br>\"],[\"</br>id: 4176</br>prediction: 0.0</br>Rotational speed [rpm]: 2285.38</br></br>Type: M</br>Air temperature [K]: 302.3</br>Process temperature [K]: 310.7</br>Torque [Nm]: 39.7</br>Tool wear [min]: 141.0</br>TWF: 0.0</br>HDF: 0.0</br>PWF: 0.0</br>OSF: 0.0</br>RNF: 0.0</br>_original_yhat_: 0.003318951211417192</br>\"],[\"</br>id: 4176</br>prediction: 0.0</br>Rotational speed [rpm]: 2302.31</br></br>Type: M</br>Air temperature [K]: 302.3</br>Process temperature [K]: 310.7</br>Torque [Nm]: 39.7</br>Tool wear [min]: 141.0</br>TWF: 0.0</br>HDF: 0.0</br>PWF: 0.0</br>OSF: 0.0</br>RNF: 0.0</br>_original_yhat_: 0.003318951211417192</br>\"],[\"</br>id: 4176</br>prediction: 0.0</br>Rotational speed [rpm]: 2319.24</br></br>Type: M</br>Air temperature [K]: 302.3</br>Process temperature [K]: 310.7</br>Torque [Nm]: 39.7</br>Tool wear [min]: 141.0</br>TWF: 0.0</br>HDF: 0.0</br>PWF: 0.0</br>OSF: 0.0</br>RNF: 0.0</br>_original_yhat_: 0.003318951211417192</br>\"],[\"</br>id: 4176</br>prediction: 0.0</br>Rotational speed [rpm]: 2336.17</br></br>Type: M</br>Air temperature [K]: 302.3</br>Process temperature [K]: 310.7</br>Torque [Nm]: 39.7</br>Tool wear [min]: 141.0</br>TWF: 0.0</br>HDF: 0.0</br>PWF: 0.0</br>OSF: 0.0</br>RNF: 0.0</br>_original_yhat_: 0.003318951211417192</br>\"],[\"</br>id: 4176</br>prediction: 0.0</br>Rotational speed [rpm]: 2353.1</br></br>Type: M</br>Air temperature [K]: 302.3</br>Process temperature [K]: 310.7</br>Torque [Nm]: 39.7</br>Tool wear [min]: 141.0</br>TWF: 0.0</br>HDF: 0.0</br>PWF: 0.0</br>OSF: 0.0</br>RNF: 0.0</br>_original_yhat_: 0.003318951211417192</br>\"],[\"</br>id: 4176</br>prediction: 0.0</br>Rotational speed [rpm]: 2370.0299999999997</br></br>Type: M</br>Air temperature [K]: 302.3</br>Process temperature [K]: 310.7</br>Torque [Nm]: 39.7</br>Tool wear [min]: 141.0</br>TWF: 0.0</br>HDF: 0.0</br>PWF: 0.0</br>OSF: 0.0</br>RNF: 0.0</br>_original_yhat_: 0.003318951211417192</br>\"],[\"</br>id: 4176</br>prediction: 0.0</br>Rotational speed [rpm]: 2386.96</br></br>Type: M</br>Air temperature [K]: 302.3</br>Process temperature [K]: 310.7</br>Torque [Nm]: 39.7</br>Tool wear [min]: 141.0</br>TWF: 0.0</br>HDF: 0.0</br>PWF: 0.0</br>OSF: 0.0</br>RNF: 0.0</br>_original_yhat_: 0.003318951211417192</br>\"],[\"</br>id: 4176</br>prediction: 0.0</br>Rotational speed [rpm]: 2403.89</br></br>Type: M</br>Air temperature [K]: 302.3</br>Process temperature [K]: 310.7</br>Torque [Nm]: 39.7</br>Tool wear [min]: 141.0</br>TWF: 0.0</br>HDF: 0.0</br>PWF: 0.0</br>OSF: 0.0</br>RNF: 0.0</br>_original_yhat_: 0.003318951211417192</br>\"],[\"</br>id: 4176</br>prediction: 0.0</br>Rotational speed [rpm]: 2420.8199999999997</br></br>Type: M</br>Air temperature [K]: 302.3</br>Process temperature [K]: 310.7</br>Torque [Nm]: 39.7</br>Tool wear [min]: 141.0</br>TWF: 0.0</br>HDF: 0.0</br>PWF: 0.0</br>OSF: 0.0</br>RNF: 0.0</br>_original_yhat_: 0.003318951211417192</br>\"],[\"</br>id: 4176</br>prediction: 0.0</br>Rotational speed [rpm]: 2437.75</br></br>Type: M</br>Air temperature [K]: 302.3</br>Process temperature [K]: 310.7</br>Torque [Nm]: 39.7</br>Tool wear [min]: 141.0</br>TWF: 0.0</br>HDF: 0.0</br>PWF: 0.0</br>OSF: 0.0</br>RNF: 0.0</br>_original_yhat_: 0.003318951211417192</br>\"],[\"</br>id: 4176</br>prediction: 0.0</br>Rotational speed [rpm]: 2454.6800000000003</br></br>Type: M</br>Air temperature [K]: 302.3</br>Process temperature [K]: 310.7</br>Torque [Nm]: 39.7</br>Tool wear [min]: 141.0</br>TWF: 0.0</br>HDF: 0.0</br>PWF: 0.0</br>OSF: 0.0</br>RNF: 0.0</br>_original_yhat_: 0.003318951211417192</br>\"],[\"</br>id: 4176</br>prediction: 0.0</br>Rotational speed [rpm]: 2471.6099999999997</br></br>Type: M</br>Air temperature [K]: 302.3</br>Process temperature [K]: 310.7</br>Torque [Nm]: 39.7</br>Tool wear [min]: 141.0</br>TWF: 0.0</br>HDF: 0.0</br>PWF: 0.0</br>OSF: 0.0</br>RNF: 0.0</br>_original_yhat_: 0.003318951211417192</br>\"],[\"</br>id: 4176</br>prediction: 0.0</br>Rotational speed [rpm]: 2488.54</br></br>Type: M</br>Air temperature [K]: 302.3</br>Process temperature [K]: 310.7</br>Torque [Nm]: 39.7</br>Tool wear [min]: 141.0</br>TWF: 0.0</br>HDF: 0.0</br>PWF: 0.0</br>OSF: 0.0</br>RNF: 0.0</br>_original_yhat_: 0.003318951211417192</br>\"],[\"</br>id: 4176</br>prediction: 0.0</br>Rotational speed [rpm]: 2505.4700000000003</br></br>Type: M</br>Air temperature [K]: 302.3</br>Process temperature [K]: 310.7</br>Torque [Nm]: 39.7</br>Tool wear [min]: 141.0</br>TWF: 0.0</br>HDF: 0.0</br>PWF: 0.0</br>OSF: 0.0</br>RNF: 0.0</br>_original_yhat_: 0.003318951211417192</br>\"],[\"</br>id: 4176</br>prediction: 0.0</br>Rotational speed [rpm]: 2522.4</br></br>Type: M</br>Air temperature [K]: 302.3</br>Process temperature [K]: 310.7</br>Torque [Nm]: 39.7</br>Tool wear [min]: 141.0</br>TWF: 0.0</br>HDF: 0.0</br>PWF: 0.0</br>OSF: 0.0</br>RNF: 0.0</br>_original_yhat_: 0.003318951211417192</br>\"],[\"</br>id: 4176</br>prediction: 0.0</br>Rotational speed [rpm]: 2539.33</br></br>Type: M</br>Air temperature [K]: 302.3</br>Process temperature [K]: 310.7</br>Torque [Nm]: 39.7</br>Tool wear [min]: 141.0</br>TWF: 0.0</br>HDF: 0.0</br>PWF: 0.0</br>OSF: 0.0</br>RNF: 0.0</br>_original_yhat_: 0.003318951211417192</br>\"],[\"</br>id: 4176</br>prediction: 0.0</br>Rotational speed [rpm]: 2556.26</br></br>Type: M</br>Air temperature [K]: 302.3</br>Process temperature [K]: 310.7</br>Torque [Nm]: 39.7</br>Tool wear [min]: 141.0</br>TWF: 0.0</br>HDF: 0.0</br>PWF: 0.0</br>OSF: 0.0</br>RNF: 0.0</br>_original_yhat_: 0.003318951211417192</br>\"],[\"</br>id: 4176</br>prediction: 0.0</br>Rotational speed [rpm]: 2573.19</br></br>Type: M</br>Air temperature [K]: 302.3</br>Process temperature [K]: 310.7</br>Torque [Nm]: 39.7</br>Tool wear [min]: 141.0</br>TWF: 0.0</br>HDF: 0.0</br>PWF: 0.0</br>OSF: 0.0</br>RNF: 0.0</br>_original_yhat_: 0.003318951211417192</br>\"],[\"</br>id: 4176</br>prediction: 0.0</br>Rotational speed [rpm]: 2590.12</br></br>Type: M</br>Air temperature [K]: 302.3</br>Process temperature [K]: 310.7</br>Torque [Nm]: 39.7</br>Tool wear [min]: 141.0</br>TWF: 0.0</br>HDF: 0.0</br>PWF: 0.0</br>OSF: 0.0</br>RNF: 0.0</br>_original_yhat_: 0.003318951211417192</br>\"],[\"</br>id: 4176</br>prediction: 0.0</br>Rotational speed [rpm]: 2607.05</br></br>Type: M</br>Air temperature [K]: 302.3</br>Process temperature [K]: 310.7</br>Torque [Nm]: 39.7</br>Tool wear [min]: 141.0</br>TWF: 0.0</br>HDF: 0.0</br>PWF: 0.0</br>OSF: 0.0</br>RNF: 0.0</br>_original_yhat_: 0.003318951211417192</br>\"],[\"</br>id: 4176</br>prediction: 0.0</br>Rotational speed [rpm]: 2623.98</br></br>Type: M</br>Air temperature [K]: 302.3</br>Process temperature [K]: 310.7</br>Torque [Nm]: 39.7</br>Tool wear [min]: 141.0</br>TWF: 0.0</br>HDF: 0.0</br>PWF: 0.0</br>OSF: 0.0</br>RNF: 0.0</br>_original_yhat_: 0.003318951211417192</br>\"],[\"</br>id: 4176</br>prediction: 0.0</br>Rotational speed [rpm]: 2640.91</br></br>Type: M</br>Air temperature [K]: 302.3</br>Process temperature [K]: 310.7</br>Torque [Nm]: 39.7</br>Tool wear [min]: 141.0</br>TWF: 0.0</br>HDF: 0.0</br>PWF: 0.0</br>OSF: 0.0</br>RNF: 0.0</br>_original_yhat_: 0.003318951211417192</br>\"],[\"</br>id: 4176</br>prediction: 0.0</br>Rotational speed [rpm]: 2657.84</br></br>Type: M</br>Air temperature [K]: 302.3</br>Process temperature [K]: 310.7</br>Torque [Nm]: 39.7</br>Tool wear [min]: 141.0</br>TWF: 0.0</br>HDF: 0.0</br>PWF: 0.0</br>OSF: 0.0</br>RNF: 0.0</br>_original_yhat_: 0.003318951211417192</br>\"],[\"</br>id: 4176</br>prediction: 0.0</br>Rotational speed [rpm]: 2674.77</br></br>Type: M</br>Air temperature [K]: 302.3</br>Process temperature [K]: 310.7</br>Torque [Nm]: 39.7</br>Tool wear [min]: 141.0</br>TWF: 0.0</br>HDF: 0.0</br>PWF: 0.0</br>OSF: 0.0</br>RNF: 0.0</br>_original_yhat_: 0.003318951211417192</br>\"],[\"</br>id: 4176</br>prediction: 0.0</br>Rotational speed [rpm]: 2691.7</br></br>Type: M</br>Air temperature [K]: 302.3</br>Process temperature [K]: 310.7</br>Torque [Nm]: 39.7</br>Tool wear [min]: 141.0</br>TWF: 0.0</br>HDF: 0.0</br>PWF: 0.0</br>OSF: 0.0</br>RNF: 0.0</br>_original_yhat_: 0.003318951211417192</br>\"],[\"</br>id: 4176</br>prediction: 0.0</br>Rotational speed [rpm]: 2708.63</br></br>Type: M</br>Air temperature [K]: 302.3</br>Process temperature [K]: 310.7</br>Torque [Nm]: 39.7</br>Tool wear [min]: 141.0</br>TWF: 0.0</br>HDF: 0.0</br>PWF: 0.0</br>OSF: 0.0</br>RNF: 0.0</br>_original_yhat_: 0.003318951211417192</br>\"],[\"</br>id: 4176</br>prediction: 0.0</br>Rotational speed [rpm]: 2725.56</br></br>Type: M</br>Air temperature [K]: 302.3</br>Process temperature [K]: 310.7</br>Torque [Nm]: 39.7</br>Tool wear [min]: 141.0</br>TWF: 0.0</br>HDF: 0.0</br>PWF: 0.0</br>OSF: 0.0</br>RNF: 0.0</br>_original_yhat_: 0.003318951211417192</br>\"],[\"</br>id: 4176</br>prediction: 0.0</br>Rotational speed [rpm]: 2742.49</br></br>Type: M</br>Air temperature [K]: 302.3</br>Process temperature [K]: 310.7</br>Torque [Nm]: 39.7</br>Tool wear [min]: 141.0</br>TWF: 0.0</br>HDF: 0.0</br>PWF: 0.0</br>OSF: 0.0</br>RNF: 0.0</br>_original_yhat_: 0.003318951211417192</br>\"],[\"</br>id: 4176</br>prediction: 0.0</br>Rotational speed [rpm]: 2759.42</br></br>Type: M</br>Air temperature [K]: 302.3</br>Process temperature [K]: 310.7</br>Torque [Nm]: 39.7</br>Tool wear [min]: 141.0</br>TWF: 0.0</br>HDF: 0.0</br>PWF: 0.0</br>OSF: 0.0</br>RNF: 0.0</br>_original_yhat_: 0.003318951211417192</br>\"],[\"</br>id: 4176</br>prediction: 0.0</br>Rotational speed [rpm]: 2776.35</br></br>Type: M</br>Air temperature [K]: 302.3</br>Process temperature [K]: 310.7</br>Torque [Nm]: 39.7</br>Tool wear [min]: 141.0</br>TWF: 0.0</br>HDF: 0.0</br>PWF: 0.0</br>OSF: 0.0</br>RNF: 0.0</br>_original_yhat_: 0.003318951211417192</br>\"],[\"</br>id: 4176</br>prediction: 0.0</br>Rotational speed [rpm]: 2793.2799999999997</br></br>Type: M</br>Air temperature [K]: 302.3</br>Process temperature [K]: 310.7</br>Torque [Nm]: 39.7</br>Tool wear [min]: 141.0</br>TWF: 0.0</br>HDF: 0.0</br>PWF: 0.0</br>OSF: 0.0</br>RNF: 0.0</br>_original_yhat_: 0.003318951211417192</br>\"],[\"</br>id: 4176</br>prediction: 0.0</br>Rotational speed [rpm]: 2810.21</br></br>Type: M</br>Air temperature [K]: 302.3</br>Process temperature [K]: 310.7</br>Torque [Nm]: 39.7</br>Tool wear [min]: 141.0</br>TWF: 0.0</br>HDF: 0.0</br>PWF: 0.0</br>OSF: 0.0</br>RNF: 0.0</br>_original_yhat_: 0.003318951211417192</br>\"],[\"</br>id: 4176</br>prediction: 0.0</br>Rotational speed [rpm]: 2827.14</br></br>Type: M</br>Air temperature [K]: 302.3</br>Process temperature [K]: 310.7</br>Torque [Nm]: 39.7</br>Tool wear [min]: 141.0</br>TWF: 0.0</br>HDF: 0.0</br>PWF: 0.0</br>OSF: 0.0</br>RNF: 0.0</br>_original_yhat_: 0.003318951211417192</br>\"],[\"</br>id: 4176</br>prediction: 0.0</br>Rotational speed [rpm]: 2844.0699999999997</br></br>Type: M</br>Air temperature [K]: 302.3</br>Process temperature [K]: 310.7</br>Torque [Nm]: 39.7</br>Tool wear [min]: 141.0</br>TWF: 0.0</br>HDF: 0.0</br>PWF: 0.0</br>OSF: 0.0</br>RNF: 0.0</br>_original_yhat_: 0.003318951211417192</br>\"],[\"</br>id: 4176</br>prediction: 0.0</br>Rotational speed [rpm]: 2861.0</br></br>Type: M</br>Air temperature [K]: 302.3</br>Process temperature [K]: 310.7</br>Torque [Nm]: 39.7</br>Tool wear [min]: 141.0</br>TWF: 0.0</br>HDF: 0.0</br>PWF: 0.0</br>OSF: 0.0</br>RNF: 0.0</br>_original_yhat_: 0.003318951211417192</br>\"]],\"hovertemplate\":\"%{customdata[0]}<extra></extra>\",\"legendgroup\":\"testing\",\"line\":{\"color\":\"#46bac2\",\"dash\":\"solid\",\"width\":2},\"marker\":{\"symbol\":\"circle\"},\"mode\":\"lines\",\"name\":\"testing\",\"showlegend\":false,\"x\":[1168.0,1184.93,1201.86,1218.79,1235.72,1252.65,1269.58,1286.51,1303.44,1320.37,1337.3,1354.23,1371.16,1388.09,1405.02,1421.95,1438.88,1455.81,1472.74,1489.67,1506.6,1523.53,1540.46,1544.0,1557.3899999999999,1574.32,1591.25,1608.18,1625.1100000000001,1642.04,1658.97,1675.9,1692.83,1709.76,1726.69,1743.62,1760.55,1777.48,1794.4099999999999,1811.3400000000001,1828.27,1845.2,1862.13,1879.06,1895.99,1912.92,1929.85,1946.78,1963.71,1980.6399999999999,1997.57,2014.5,2031.4299999999998,2048.36,2065.29,2082.2200000000003,2099.15,2116.08,2133.01,2149.94,2166.87,2183.8,2200.73,2217.66,2234.59,2251.52,2268.45,2285.38,2302.31,2319.24,2336.17,2353.1,2370.0299999999997,2386.96,2403.89,2420.8199999999997,2437.75,2454.6800000000003,2471.6099999999997,2488.54,2505.4700000000003,2522.4,2539.33,2556.26,2573.19,2590.12,2607.05,2623.98,2640.91,2657.84,2674.77,2691.7,2708.63,2725.56,2742.49,2759.42,2776.35,2793.2799999999997,2810.21,2827.14,2844.0699999999997,2861.0],\"xaxis\":\"x7\",\"y\":[0.003318951211417192,0.003318951211417192,0.003318951211417192,0.003318951211417192,0.003318951211417192,0.003318951211417192,0.003318951211417192,0.003318951211417192,0.003318951211417192,0.003318951211417192,0.003318951211417192,0.003318951211417192,0.003318951211417192,0.003318951211417192,0.003318951211417192,0.003318951211417192,0.003318951211417192,0.003318951211417192,0.003318951211417192,0.003318951211417192,0.003318951211417192,0.003318951211417192,0.003318951211417192,0.003318951211417192,0.003318951211417192,0.003318951211417192,0.003318951211417192,0.003318951211417192,0.003318951211417192,0.003318951211417192,0.003318951211417192,0.003318951211417192,0.0,0.0,0.0,0.0,0.0,0.0,0.0,0.0,0.0,0.0,0.0,0.0,0.0,0.0,0.0,0.0,0.0,0.0,0.0,0.0,0.0,0.0,0.0,0.0,0.0,0.0,0.0,0.0,0.0,0.0,0.0,0.0,0.0,0.0,0.0,0.0,0.0,0.0,0.0,0.0,0.0,0.0,0.0,0.0,0.0,0.0,0.0,0.0,0.0,0.0,0.0,0.0,0.0,0.0,0.0,0.0,0.0,0.0,0.0,0.0,0.0,0.0,0.0,0.0,0.0,0.0,0.0,0.0,0.0,0.0],\"yaxis\":\"y7\",\"type\":\"scattergl\",\"opacity\":1},{\"customdata\":[[\"</br>id: 4176</br>prediction: 0.003</br>Torque [Nm]: 4.6</br></br>Type: M</br>Air temperature [K]: 302.3</br>Process temperature [K]: 310.7</br>Rotational speed [rpm]: 1544.0</br>Tool wear [min]: 141.0</br>TWF: 0.0</br>HDF: 0.0</br>PWF: 0.0</br>OSF: 0.0</br>RNF: 0.0</br>_original_yhat_: 0.003318951211417192</br>\"],[\"</br>id: 4176</br>prediction: 0.003</br>Torque [Nm]: 5.319999999999999</br></br>Type: M</br>Air temperature [K]: 302.3</br>Process temperature [K]: 310.7</br>Rotational speed [rpm]: 1544.0</br>Tool wear [min]: 141.0</br>TWF: 0.0</br>HDF: 0.0</br>PWF: 0.0</br>OSF: 0.0</br>RNF: 0.0</br>_original_yhat_: 0.003318951211417192</br>\"],[\"</br>id: 4176</br>prediction: 0.003</br>Torque [Nm]: 6.039999999999999</br></br>Type: M</br>Air temperature [K]: 302.3</br>Process temperature [K]: 310.7</br>Rotational speed [rpm]: 1544.0</br>Tool wear [min]: 141.0</br>TWF: 0.0</br>HDF: 0.0</br>PWF: 0.0</br>OSF: 0.0</br>RNF: 0.0</br>_original_yhat_: 0.003318951211417192</br>\"],[\"</br>id: 4176</br>prediction: 0.003</br>Torque [Nm]: 6.76</br></br>Type: M</br>Air temperature [K]: 302.3</br>Process temperature [K]: 310.7</br>Rotational speed [rpm]: 1544.0</br>Tool wear [min]: 141.0</br>TWF: 0.0</br>HDF: 0.0</br>PWF: 0.0</br>OSF: 0.0</br>RNF: 0.0</br>_original_yhat_: 0.003318951211417192</br>\"],[\"</br>id: 4176</br>prediction: 0.003</br>Torque [Nm]: 7.4799999999999995</br></br>Type: M</br>Air temperature [K]: 302.3</br>Process temperature [K]: 310.7</br>Rotational speed [rpm]: 1544.0</br>Tool wear [min]: 141.0</br>TWF: 0.0</br>HDF: 0.0</br>PWF: 0.0</br>OSF: 0.0</br>RNF: 0.0</br>_original_yhat_: 0.003318951211417192</br>\"],[\"</br>id: 4176</br>prediction: 0.003</br>Torque [Nm]: 8.2</br></br>Type: M</br>Air temperature [K]: 302.3</br>Process temperature [K]: 310.7</br>Rotational speed [rpm]: 1544.0</br>Tool wear [min]: 141.0</br>TWF: 0.0</br>HDF: 0.0</br>PWF: 0.0</br>OSF: 0.0</br>RNF: 0.0</br>_original_yhat_: 0.003318951211417192</br>\"],[\"</br>id: 4176</br>prediction: 0.003</br>Torque [Nm]: 8.92</br></br>Type: M</br>Air temperature [K]: 302.3</br>Process temperature [K]: 310.7</br>Rotational speed [rpm]: 1544.0</br>Tool wear [min]: 141.0</br>TWF: 0.0</br>HDF: 0.0</br>PWF: 0.0</br>OSF: 0.0</br>RNF: 0.0</br>_original_yhat_: 0.003318951211417192</br>\"],[\"</br>id: 4176</br>prediction: 0.003</br>Torque [Nm]: 9.64</br></br>Type: M</br>Air temperature [K]: 302.3</br>Process temperature [K]: 310.7</br>Rotational speed [rpm]: 1544.0</br>Tool wear [min]: 141.0</br>TWF: 0.0</br>HDF: 0.0</br>PWF: 0.0</br>OSF: 0.0</br>RNF: 0.0</br>_original_yhat_: 0.003318951211417192</br>\"],[\"</br>id: 4176</br>prediction: 0.003</br>Torque [Nm]: 10.36</br></br>Type: M</br>Air temperature [K]: 302.3</br>Process temperature [K]: 310.7</br>Rotational speed [rpm]: 1544.0</br>Tool wear [min]: 141.0</br>TWF: 0.0</br>HDF: 0.0</br>PWF: 0.0</br>OSF: 0.0</br>RNF: 0.0</br>_original_yhat_: 0.003318951211417192</br>\"],[\"</br>id: 4176</br>prediction: 0.003</br>Torque [Nm]: 11.079999999999998</br></br>Type: M</br>Air temperature [K]: 302.3</br>Process temperature [K]: 310.7</br>Rotational speed [rpm]: 1544.0</br>Tool wear [min]: 141.0</br>TWF: 0.0</br>HDF: 0.0</br>PWF: 0.0</br>OSF: 0.0</br>RNF: 0.0</br>_original_yhat_: 0.003318951211417192</br>\"],[\"</br>id: 4176</br>prediction: 0.003</br>Torque [Nm]: 11.799999999999999</br></br>Type: M</br>Air temperature [K]: 302.3</br>Process temperature [K]: 310.7</br>Rotational speed [rpm]: 1544.0</br>Tool wear [min]: 141.0</br>TWF: 0.0</br>HDF: 0.0</br>PWF: 0.0</br>OSF: 0.0</br>RNF: 0.0</br>_original_yhat_: 0.003318951211417192</br>\"],[\"</br>id: 4176</br>prediction: 0.003</br>Torque [Nm]: 12.52</br></br>Type: M</br>Air temperature [K]: 302.3</br>Process temperature [K]: 310.7</br>Rotational speed [rpm]: 1544.0</br>Tool wear [min]: 141.0</br>TWF: 0.0</br>HDF: 0.0</br>PWF: 0.0</br>OSF: 0.0</br>RNF: 0.0</br>_original_yhat_: 0.003318951211417192</br>\"],[\"</br>id: 4176</br>prediction: 0.003</br>Torque [Nm]: 13.24</br></br>Type: M</br>Air temperature [K]: 302.3</br>Process temperature [K]: 310.7</br>Rotational speed [rpm]: 1544.0</br>Tool wear [min]: 141.0</br>TWF: 0.0</br>HDF: 0.0</br>PWF: 0.0</br>OSF: 0.0</br>RNF: 0.0</br>_original_yhat_: 0.003318951211417192</br>\"],[\"</br>id: 4176</br>prediction: 0.003</br>Torque [Nm]: 13.959999999999999</br></br>Type: M</br>Air temperature [K]: 302.3</br>Process temperature [K]: 310.7</br>Rotational speed [rpm]: 1544.0</br>Tool wear [min]: 141.0</br>TWF: 0.0</br>HDF: 0.0</br>PWF: 0.0</br>OSF: 0.0</br>RNF: 0.0</br>_original_yhat_: 0.003318951211417192</br>\"],[\"</br>id: 4176</br>prediction: 0.003</br>Torque [Nm]: 14.68</br></br>Type: M</br>Air temperature [K]: 302.3</br>Process temperature [K]: 310.7</br>Rotational speed [rpm]: 1544.0</br>Tool wear [min]: 141.0</br>TWF: 0.0</br>HDF: 0.0</br>PWF: 0.0</br>OSF: 0.0</br>RNF: 0.0</br>_original_yhat_: 0.003318951211417192</br>\"],[\"</br>id: 4176</br>prediction: 0.003</br>Torque [Nm]: 15.399999999999999</br></br>Type: M</br>Air temperature [K]: 302.3</br>Process temperature [K]: 310.7</br>Rotational speed [rpm]: 1544.0</br>Tool wear [min]: 141.0</br>TWF: 0.0</br>HDF: 0.0</br>PWF: 0.0</br>OSF: 0.0</br>RNF: 0.0</br>_original_yhat_: 0.003318951211417192</br>\"],[\"</br>id: 4176</br>prediction: 0.003</br>Torque [Nm]: 16.119999999999997</br></br>Type: M</br>Air temperature [K]: 302.3</br>Process temperature [K]: 310.7</br>Rotational speed [rpm]: 1544.0</br>Tool wear [min]: 141.0</br>TWF: 0.0</br>HDF: 0.0</br>PWF: 0.0</br>OSF: 0.0</br>RNF: 0.0</br>_original_yhat_: 0.003318951211417192</br>\"],[\"</br>id: 4176</br>prediction: 0.003</br>Torque [Nm]: 16.84</br></br>Type: M</br>Air temperature [K]: 302.3</br>Process temperature [K]: 310.7</br>Rotational speed [rpm]: 1544.0</br>Tool wear [min]: 141.0</br>TWF: 0.0</br>HDF: 0.0</br>PWF: 0.0</br>OSF: 0.0</br>RNF: 0.0</br>_original_yhat_: 0.003318951211417192</br>\"],[\"</br>id: 4176</br>prediction: 0.003</br>Torque [Nm]: 17.56</br></br>Type: M</br>Air temperature [K]: 302.3</br>Process temperature [K]: 310.7</br>Rotational speed [rpm]: 1544.0</br>Tool wear [min]: 141.0</br>TWF: 0.0</br>HDF: 0.0</br>PWF: 0.0</br>OSF: 0.0</br>RNF: 0.0</br>_original_yhat_: 0.003318951211417192</br>\"],[\"</br>id: 4176</br>prediction: 0.003</br>Torque [Nm]: 18.28</br></br>Type: M</br>Air temperature [K]: 302.3</br>Process temperature [K]: 310.7</br>Rotational speed [rpm]: 1544.0</br>Tool wear [min]: 141.0</br>TWF: 0.0</br>HDF: 0.0</br>PWF: 0.0</br>OSF: 0.0</br>RNF: 0.0</br>_original_yhat_: 0.003318951211417192</br>\"],[\"</br>id: 4176</br>prediction: 0.003</br>Torque [Nm]: 19.0</br></br>Type: M</br>Air temperature [K]: 302.3</br>Process temperature [K]: 310.7</br>Rotational speed [rpm]: 1544.0</br>Tool wear [min]: 141.0</br>TWF: 0.0</br>HDF: 0.0</br>PWF: 0.0</br>OSF: 0.0</br>RNF: 0.0</br>_original_yhat_: 0.003318951211417192</br>\"],[\"</br>id: 4176</br>prediction: 0.003</br>Torque [Nm]: 19.72</br></br>Type: M</br>Air temperature [K]: 302.3</br>Process temperature [K]: 310.7</br>Rotational speed [rpm]: 1544.0</br>Tool wear [min]: 141.0</br>TWF: 0.0</br>HDF: 0.0</br>PWF: 0.0</br>OSF: 0.0</br>RNF: 0.0</br>_original_yhat_: 0.003318951211417192</br>\"],[\"</br>id: 4176</br>prediction: 0.003</br>Torque [Nm]: 20.439999999999998</br></br>Type: M</br>Air temperature [K]: 302.3</br>Process temperature [K]: 310.7</br>Rotational speed [rpm]: 1544.0</br>Tool wear [min]: 141.0</br>TWF: 0.0</br>HDF: 0.0</br>PWF: 0.0</br>OSF: 0.0</br>RNF: 0.0</br>_original_yhat_: 0.003318951211417192</br>\"],[\"</br>id: 4176</br>prediction: 0.003</br>Torque [Nm]: 21.159999999999997</br></br>Type: M</br>Air temperature [K]: 302.3</br>Process temperature [K]: 310.7</br>Rotational speed [rpm]: 1544.0</br>Tool wear [min]: 141.0</br>TWF: 0.0</br>HDF: 0.0</br>PWF: 0.0</br>OSF: 0.0</br>RNF: 0.0</br>_original_yhat_: 0.003318951211417192</br>\"],[\"</br>id: 4176</br>prediction: 0.003</br>Torque [Nm]: 21.880000000000003</br></br>Type: M</br>Air temperature [K]: 302.3</br>Process temperature [K]: 310.7</br>Rotational speed [rpm]: 1544.0</br>Tool wear [min]: 141.0</br>TWF: 0.0</br>HDF: 0.0</br>PWF: 0.0</br>OSF: 0.0</br>RNF: 0.0</br>_original_yhat_: 0.003318951211417192</br>\"],[\"</br>id: 4176</br>prediction: 0.003</br>Torque [Nm]: 22.6</br></br>Type: M</br>Air temperature [K]: 302.3</br>Process temperature [K]: 310.7</br>Rotational speed [rpm]: 1544.0</br>Tool wear [min]: 141.0</br>TWF: 0.0</br>HDF: 0.0</br>PWF: 0.0</br>OSF: 0.0</br>RNF: 0.0</br>_original_yhat_: 0.003318951211417192</br>\"],[\"</br>id: 4176</br>prediction: 0.003</br>Torque [Nm]: 23.32</br></br>Type: M</br>Air temperature [K]: 302.3</br>Process temperature [K]: 310.7</br>Rotational speed [rpm]: 1544.0</br>Tool wear [min]: 141.0</br>TWF: 0.0</br>HDF: 0.0</br>PWF: 0.0</br>OSF: 0.0</br>RNF: 0.0</br>_original_yhat_: 0.003318951211417192</br>\"],[\"</br>id: 4176</br>prediction: 0.003</br>Torque [Nm]: 24.04</br></br>Type: M</br>Air temperature [K]: 302.3</br>Process temperature [K]: 310.7</br>Rotational speed [rpm]: 1544.0</br>Tool wear [min]: 141.0</br>TWF: 0.0</br>HDF: 0.0</br>PWF: 0.0</br>OSF: 0.0</br>RNF: 0.0</br>_original_yhat_: 0.003318951211417192</br>\"],[\"</br>id: 4176</br>prediction: 0.003</br>Torque [Nm]: 24.759999999999998</br></br>Type: M</br>Air temperature [K]: 302.3</br>Process temperature [K]: 310.7</br>Rotational speed [rpm]: 1544.0</br>Tool wear [min]: 141.0</br>TWF: 0.0</br>HDF: 0.0</br>PWF: 0.0</br>OSF: 0.0</br>RNF: 0.0</br>_original_yhat_: 0.003318951211417192</br>\"],[\"</br>id: 4176</br>prediction: 0.003</br>Torque [Nm]: 25.479999999999997</br></br>Type: M</br>Air temperature [K]: 302.3</br>Process temperature [K]: 310.7</br>Rotational speed [rpm]: 1544.0</br>Tool wear [min]: 141.0</br>TWF: 0.0</br>HDF: 0.0</br>PWF: 0.0</br>OSF: 0.0</br>RNF: 0.0</br>_original_yhat_: 0.003318951211417192</br>\"],[\"</br>id: 4176</br>prediction: 0.003</br>Torque [Nm]: 26.199999999999996</br></br>Type: M</br>Air temperature [K]: 302.3</br>Process temperature [K]: 310.7</br>Rotational speed [rpm]: 1544.0</br>Tool wear [min]: 141.0</br>TWF: 0.0</br>HDF: 0.0</br>PWF: 0.0</br>OSF: 0.0</br>RNF: 0.0</br>_original_yhat_: 0.003318951211417192</br>\"],[\"</br>id: 4176</br>prediction: 0.003</br>Torque [Nm]: 26.92</br></br>Type: M</br>Air temperature [K]: 302.3</br>Process temperature [K]: 310.7</br>Rotational speed [rpm]: 1544.0</br>Tool wear [min]: 141.0</br>TWF: 0.0</br>HDF: 0.0</br>PWF: 0.0</br>OSF: 0.0</br>RNF: 0.0</br>_original_yhat_: 0.003318951211417192</br>\"],[\"</br>id: 4176</br>prediction: 0.003</br>Torque [Nm]: 27.64</br></br>Type: M</br>Air temperature [K]: 302.3</br>Process temperature [K]: 310.7</br>Rotational speed [rpm]: 1544.0</br>Tool wear [min]: 141.0</br>TWF: 0.0</br>HDF: 0.0</br>PWF: 0.0</br>OSF: 0.0</br>RNF: 0.0</br>_original_yhat_: 0.003318951211417192</br>\"],[\"</br>id: 4176</br>prediction: 0.003</br>Torque [Nm]: 28.36</br></br>Type: M</br>Air temperature [K]: 302.3</br>Process temperature [K]: 310.7</br>Rotational speed [rpm]: 1544.0</br>Tool wear [min]: 141.0</br>TWF: 0.0</br>HDF: 0.0</br>PWF: 0.0</br>OSF: 0.0</br>RNF: 0.0</br>_original_yhat_: 0.003318951211417192</br>\"],[\"</br>id: 4176</br>prediction: 0.003</br>Torque [Nm]: 29.08</br></br>Type: M</br>Air temperature [K]: 302.3</br>Process temperature [K]: 310.7</br>Rotational speed [rpm]: 1544.0</br>Tool wear [min]: 141.0</br>TWF: 0.0</br>HDF: 0.0</br>PWF: 0.0</br>OSF: 0.0</br>RNF: 0.0</br>_original_yhat_: 0.003318951211417192</br>\"],[\"</br>id: 4176</br>prediction: 0.003</br>Torque [Nm]: 29.799999999999997</br></br>Type: M</br>Air temperature [K]: 302.3</br>Process temperature [K]: 310.7</br>Rotational speed [rpm]: 1544.0</br>Tool wear [min]: 141.0</br>TWF: 0.0</br>HDF: 0.0</br>PWF: 0.0</br>OSF: 0.0</br>RNF: 0.0</br>_original_yhat_: 0.003318951211417192</br>\"],[\"</br>id: 4176</br>prediction: 0.003</br>Torque [Nm]: 30.519999999999996</br></br>Type: M</br>Air temperature [K]: 302.3</br>Process temperature [K]: 310.7</br>Rotational speed [rpm]: 1544.0</br>Tool wear [min]: 141.0</br>TWF: 0.0</br>HDF: 0.0</br>PWF: 0.0</br>OSF: 0.0</br>RNF: 0.0</br>_original_yhat_: 0.003318951211417192</br>\"],[\"</br>id: 4176</br>prediction: 0.003</br>Torque [Nm]: 31.240000000000002</br></br>Type: M</br>Air temperature [K]: 302.3</br>Process temperature [K]: 310.7</br>Rotational speed [rpm]: 1544.0</br>Tool wear [min]: 141.0</br>TWF: 0.0</br>HDF: 0.0</br>PWF: 0.0</br>OSF: 0.0</br>RNF: 0.0</br>_original_yhat_: 0.003318951211417192</br>\"],[\"</br>id: 4176</br>prediction: 0.003</br>Torque [Nm]: 31.96</br></br>Type: M</br>Air temperature [K]: 302.3</br>Process temperature [K]: 310.7</br>Rotational speed [rpm]: 1544.0</br>Tool wear [min]: 141.0</br>TWF: 0.0</br>HDF: 0.0</br>PWF: 0.0</br>OSF: 0.0</br>RNF: 0.0</br>_original_yhat_: 0.003318951211417192</br>\"],[\"</br>id: 4176</br>prediction: 0.003</br>Torque [Nm]: 32.68</br></br>Type: M</br>Air temperature [K]: 302.3</br>Process temperature [K]: 310.7</br>Rotational speed [rpm]: 1544.0</br>Tool wear [min]: 141.0</br>TWF: 0.0</br>HDF: 0.0</br>PWF: 0.0</br>OSF: 0.0</br>RNF: 0.0</br>_original_yhat_: 0.003318951211417192</br>\"],[\"</br>id: 4176</br>prediction: 0.003</br>Torque [Nm]: 33.4</br></br>Type: M</br>Air temperature [K]: 302.3</br>Process temperature [K]: 310.7</br>Rotational speed [rpm]: 1544.0</br>Tool wear [min]: 141.0</br>TWF: 0.0</br>HDF: 0.0</br>PWF: 0.0</br>OSF: 0.0</br>RNF: 0.0</br>_original_yhat_: 0.003318951211417192</br>\"],[\"</br>id: 4176</br>prediction: 0.003</br>Torque [Nm]: 34.12</br></br>Type: M</br>Air temperature [K]: 302.3</br>Process temperature [K]: 310.7</br>Rotational speed [rpm]: 1544.0</br>Tool wear [min]: 141.0</br>TWF: 0.0</br>HDF: 0.0</br>PWF: 0.0</br>OSF: 0.0</br>RNF: 0.0</br>_original_yhat_: 0.003318951211417192</br>\"],[\"</br>id: 4176</br>prediction: 0.003</br>Torque [Nm]: 34.839999999999996</br></br>Type: M</br>Air temperature [K]: 302.3</br>Process temperature [K]: 310.7</br>Rotational speed [rpm]: 1544.0</br>Tool wear [min]: 141.0</br>TWF: 0.0</br>HDF: 0.0</br>PWF: 0.0</br>OSF: 0.0</br>RNF: 0.0</br>_original_yhat_: 0.003318951211417192</br>\"],[\"</br>id: 4176</br>prediction: 0.003</br>Torque [Nm]: 35.559999999999995</br></br>Type: M</br>Air temperature [K]: 302.3</br>Process temperature [K]: 310.7</br>Rotational speed [rpm]: 1544.0</br>Tool wear [min]: 141.0</br>TWF: 0.0</br>HDF: 0.0</br>PWF: 0.0</br>OSF: 0.0</br>RNF: 0.0</br>_original_yhat_: 0.003318951211417192</br>\"],[\"</br>id: 4176</br>prediction: 0.003</br>Torque [Nm]: 36.28</br></br>Type: M</br>Air temperature [K]: 302.3</br>Process temperature [K]: 310.7</br>Rotational speed [rpm]: 1544.0</br>Tool wear [min]: 141.0</br>TWF: 0.0</br>HDF: 0.0</br>PWF: 0.0</br>OSF: 0.0</br>RNF: 0.0</br>_original_yhat_: 0.003318951211417192</br>\"],[\"</br>id: 4176</br>prediction: 0.003</br>Torque [Nm]: 37.0</br></br>Type: M</br>Air temperature [K]: 302.3</br>Process temperature [K]: 310.7</br>Rotational speed [rpm]: 1544.0</br>Tool wear [min]: 141.0</br>TWF: 0.0</br>HDF: 0.0</br>PWF: 0.0</br>OSF: 0.0</br>RNF: 0.0</br>_original_yhat_: 0.003318951211417192</br>\"],[\"</br>id: 4176</br>prediction: 0.003</br>Torque [Nm]: 37.72</br></br>Type: M</br>Air temperature [K]: 302.3</br>Process temperature [K]: 310.7</br>Rotational speed [rpm]: 1544.0</br>Tool wear [min]: 141.0</br>TWF: 0.0</br>HDF: 0.0</br>PWF: 0.0</br>OSF: 0.0</br>RNF: 0.0</br>_original_yhat_: 0.003318951211417192</br>\"],[\"</br>id: 4176</br>prediction: 0.003</br>Torque [Nm]: 38.44</br></br>Type: M</br>Air temperature [K]: 302.3</br>Process temperature [K]: 310.7</br>Rotational speed [rpm]: 1544.0</br>Tool wear [min]: 141.0</br>TWF: 0.0</br>HDF: 0.0</br>PWF: 0.0</br>OSF: 0.0</br>RNF: 0.0</br>_original_yhat_: 0.003318951211417192</br>\"],[\"</br>id: 4176</br>prediction: 0.003</br>Torque [Nm]: 39.160000000000004</br></br>Type: M</br>Air temperature [K]: 302.3</br>Process temperature [K]: 310.7</br>Rotational speed [rpm]: 1544.0</br>Tool wear [min]: 141.0</br>TWF: 0.0</br>HDF: 0.0</br>PWF: 0.0</br>OSF: 0.0</br>RNF: 0.0</br>_original_yhat_: 0.003318951211417192</br>\"],[\"</br>id: 4176</br>prediction: 0.003</br>Torque [Nm]: 39.7</br></br>Type: M</br>Air temperature [K]: 302.3</br>Process temperature [K]: 310.7</br>Rotational speed [rpm]: 1544.0</br>Tool wear [min]: 141.0</br>TWF: 0.0</br>HDF: 0.0</br>PWF: 0.0</br>OSF: 0.0</br>RNF: 0.0</br>_original_yhat_: 0.003318951211417192</br>\"],[\"</br>id: 4176</br>prediction: 0.003</br>Torque [Nm]: 39.88</br></br>Type: M</br>Air temperature [K]: 302.3</br>Process temperature [K]: 310.7</br>Rotational speed [rpm]: 1544.0</br>Tool wear [min]: 141.0</br>TWF: 0.0</br>HDF: 0.0</br>PWF: 0.0</br>OSF: 0.0</br>RNF: 0.0</br>_original_yhat_: 0.003318951211417192</br>\"],[\"</br>id: 4176</br>prediction: 0.003</br>Torque [Nm]: 40.6</br></br>Type: M</br>Air temperature [K]: 302.3</br>Process temperature [K]: 310.7</br>Rotational speed [rpm]: 1544.0</br>Tool wear [min]: 141.0</br>TWF: 0.0</br>HDF: 0.0</br>PWF: 0.0</br>OSF: 0.0</br>RNF: 0.0</br>_original_yhat_: 0.003318951211417192</br>\"],[\"</br>id: 4176</br>prediction: 0.003</br>Torque [Nm]: 41.32</br></br>Type: M</br>Air temperature [K]: 302.3</br>Process temperature [K]: 310.7</br>Rotational speed [rpm]: 1544.0</br>Tool wear [min]: 141.0</br>TWF: 0.0</br>HDF: 0.0</br>PWF: 0.0</br>OSF: 0.0</br>RNF: 0.0</br>_original_yhat_: 0.003318951211417192</br>\"],[\"</br>id: 4176</br>prediction: 0.003</br>Torque [Nm]: 42.04</br></br>Type: M</br>Air temperature [K]: 302.3</br>Process temperature [K]: 310.7</br>Rotational speed [rpm]: 1544.0</br>Tool wear [min]: 141.0</br>TWF: 0.0</br>HDF: 0.0</br>PWF: 0.0</br>OSF: 0.0</br>RNF: 0.0</br>_original_yhat_: 0.003318951211417192</br>\"],[\"</br>id: 4176</br>prediction: 0.003</br>Torque [Nm]: 42.76</br></br>Type: M</br>Air temperature [K]: 302.3</br>Process temperature [K]: 310.7</br>Rotational speed [rpm]: 1544.0</br>Tool wear [min]: 141.0</br>TWF: 0.0</br>HDF: 0.0</br>PWF: 0.0</br>OSF: 0.0</br>RNF: 0.0</br>_original_yhat_: 0.003318951211417192</br>\"],[\"</br>id: 4176</br>prediction: 0.003</br>Torque [Nm]: 43.48</br></br>Type: M</br>Air temperature [K]: 302.3</br>Process temperature [K]: 310.7</br>Rotational speed [rpm]: 1544.0</br>Tool wear [min]: 141.0</br>TWF: 0.0</br>HDF: 0.0</br>PWF: 0.0</br>OSF: 0.0</br>RNF: 0.0</br>_original_yhat_: 0.003318951211417192</br>\"],[\"</br>id: 4176</br>prediction: 0.003</br>Torque [Nm]: 44.2</br></br>Type: M</br>Air temperature [K]: 302.3</br>Process temperature [K]: 310.7</br>Rotational speed [rpm]: 1544.0</br>Tool wear [min]: 141.0</br>TWF: 0.0</br>HDF: 0.0</br>PWF: 0.0</br>OSF: 0.0</br>RNF: 0.0</br>_original_yhat_: 0.003318951211417192</br>\"],[\"</br>id: 4176</br>prediction: 0.003</br>Torque [Nm]: 44.92</br></br>Type: M</br>Air temperature [K]: 302.3</br>Process temperature [K]: 310.7</br>Rotational speed [rpm]: 1544.0</br>Tool wear [min]: 141.0</br>TWF: 0.0</br>HDF: 0.0</br>PWF: 0.0</br>OSF: 0.0</br>RNF: 0.0</br>_original_yhat_: 0.003318951211417192</br>\"],[\"</br>id: 4176</br>prediction: 0.003</br>Torque [Nm]: 45.64</br></br>Type: M</br>Air temperature [K]: 302.3</br>Process temperature [K]: 310.7</br>Rotational speed [rpm]: 1544.0</br>Tool wear [min]: 141.0</br>TWF: 0.0</br>HDF: 0.0</br>PWF: 0.0</br>OSF: 0.0</br>RNF: 0.0</br>_original_yhat_: 0.003318951211417192</br>\"],[\"</br>id: 4176</br>prediction: 0.003</br>Torque [Nm]: 46.36</br></br>Type: M</br>Air temperature [K]: 302.3</br>Process temperature [K]: 310.7</br>Rotational speed [rpm]: 1544.0</br>Tool wear [min]: 141.0</br>TWF: 0.0</br>HDF: 0.0</br>PWF: 0.0</br>OSF: 0.0</br>RNF: 0.0</br>_original_yhat_: 0.003318951211417192</br>\"],[\"</br>id: 4176</br>prediction: 0.003</br>Torque [Nm]: 47.08</br></br>Type: M</br>Air temperature [K]: 302.3</br>Process temperature [K]: 310.7</br>Rotational speed [rpm]: 1544.0</br>Tool wear [min]: 141.0</br>TWF: 0.0</br>HDF: 0.0</br>PWF: 0.0</br>OSF: 0.0</br>RNF: 0.0</br>_original_yhat_: 0.003318951211417192</br>\"],[\"</br>id: 4176</br>prediction: 0.003</br>Torque [Nm]: 47.8</br></br>Type: M</br>Air temperature [K]: 302.3</br>Process temperature [K]: 310.7</br>Rotational speed [rpm]: 1544.0</br>Tool wear [min]: 141.0</br>TWF: 0.0</br>HDF: 0.0</br>PWF: 0.0</br>OSF: 0.0</br>RNF: 0.0</br>_original_yhat_: 0.003318951211417192</br>\"],[\"</br>id: 4176</br>prediction: 0.003</br>Torque [Nm]: 48.52</br></br>Type: M</br>Air temperature [K]: 302.3</br>Process temperature [K]: 310.7</br>Rotational speed [rpm]: 1544.0</br>Tool wear [min]: 141.0</br>TWF: 0.0</br>HDF: 0.0</br>PWF: 0.0</br>OSF: 0.0</br>RNF: 0.0</br>_original_yhat_: 0.003318951211417192</br>\"],[\"</br>id: 4176</br>prediction: 0.003</br>Torque [Nm]: 49.24</br></br>Type: M</br>Air temperature [K]: 302.3</br>Process temperature [K]: 310.7</br>Rotational speed [rpm]: 1544.0</br>Tool wear [min]: 141.0</br>TWF: 0.0</br>HDF: 0.0</br>PWF: 0.0</br>OSF: 0.0</br>RNF: 0.0</br>_original_yhat_: 0.003318951211417192</br>\"],[\"</br>id: 4176</br>prediction: 0.003</br>Torque [Nm]: 49.96</br></br>Type: M</br>Air temperature [K]: 302.3</br>Process temperature [K]: 310.7</br>Rotational speed [rpm]: 1544.0</br>Tool wear [min]: 141.0</br>TWF: 0.0</br>HDF: 0.0</br>PWF: 0.0</br>OSF: 0.0</br>RNF: 0.0</br>_original_yhat_: 0.003318951211417192</br>\"],[\"</br>id: 4176</br>prediction: 0.003</br>Torque [Nm]: 50.68</br></br>Type: M</br>Air temperature [K]: 302.3</br>Process temperature [K]: 310.7</br>Rotational speed [rpm]: 1544.0</br>Tool wear [min]: 141.0</br>TWF: 0.0</br>HDF: 0.0</br>PWF: 0.0</br>OSF: 0.0</br>RNF: 0.0</br>_original_yhat_: 0.003318951211417192</br>\"],[\"</br>id: 4176</br>prediction: 0.003</br>Torque [Nm]: 51.4</br></br>Type: M</br>Air temperature [K]: 302.3</br>Process temperature [K]: 310.7</br>Rotational speed [rpm]: 1544.0</br>Tool wear [min]: 141.0</br>TWF: 0.0</br>HDF: 0.0</br>PWF: 0.0</br>OSF: 0.0</br>RNF: 0.0</br>_original_yhat_: 0.003318951211417192</br>\"],[\"</br>id: 4176</br>prediction: 0.003</br>Torque [Nm]: 52.12</br></br>Type: M</br>Air temperature [K]: 302.3</br>Process temperature [K]: 310.7</br>Rotational speed [rpm]: 1544.0</br>Tool wear [min]: 141.0</br>TWF: 0.0</br>HDF: 0.0</br>PWF: 0.0</br>OSF: 0.0</br>RNF: 0.0</br>_original_yhat_: 0.003318951211417192</br>\"],[\"</br>id: 4176</br>prediction: 0.003</br>Torque [Nm]: 52.839999999999996</br></br>Type: M</br>Air temperature [K]: 302.3</br>Process temperature [K]: 310.7</br>Rotational speed [rpm]: 1544.0</br>Tool wear [min]: 141.0</br>TWF: 0.0</br>HDF: 0.0</br>PWF: 0.0</br>OSF: 0.0</br>RNF: 0.0</br>_original_yhat_: 0.003318951211417192</br>\"],[\"</br>id: 4176</br>prediction: 0.003</br>Torque [Nm]: 53.56</br></br>Type: M</br>Air temperature [K]: 302.3</br>Process temperature [K]: 310.7</br>Rotational speed [rpm]: 1544.0</br>Tool wear [min]: 141.0</br>TWF: 0.0</br>HDF: 0.0</br>PWF: 0.0</br>OSF: 0.0</br>RNF: 0.0</br>_original_yhat_: 0.003318951211417192</br>\"],[\"</br>id: 4176</br>prediction: 0.003</br>Torque [Nm]: 54.28</br></br>Type: M</br>Air temperature [K]: 302.3</br>Process temperature [K]: 310.7</br>Rotational speed [rpm]: 1544.0</br>Tool wear [min]: 141.0</br>TWF: 0.0</br>HDF: 0.0</br>PWF: 0.0</br>OSF: 0.0</br>RNF: 0.0</br>_original_yhat_: 0.003318951211417192</br>\"],[\"</br>id: 4176</br>prediction: 0.003</br>Torque [Nm]: 55.0</br></br>Type: M</br>Air temperature [K]: 302.3</br>Process temperature [K]: 310.7</br>Rotational speed [rpm]: 1544.0</br>Tool wear [min]: 141.0</br>TWF: 0.0</br>HDF: 0.0</br>PWF: 0.0</br>OSF: 0.0</br>RNF: 0.0</br>_original_yhat_: 0.003318951211417192</br>\"],[\"</br>id: 4176</br>prediction: 0.003</br>Torque [Nm]: 55.72</br></br>Type: M</br>Air temperature [K]: 302.3</br>Process temperature [K]: 310.7</br>Rotational speed [rpm]: 1544.0</br>Tool wear [min]: 141.0</br>TWF: 0.0</br>HDF: 0.0</br>PWF: 0.0</br>OSF: 0.0</br>RNF: 0.0</br>_original_yhat_: 0.003318951211417192</br>\"],[\"</br>id: 4176</br>prediction: 0.003</br>Torque [Nm]: 56.44</br></br>Type: M</br>Air temperature [K]: 302.3</br>Process temperature [K]: 310.7</br>Rotational speed [rpm]: 1544.0</br>Tool wear [min]: 141.0</br>TWF: 0.0</br>HDF: 0.0</br>PWF: 0.0</br>OSF: 0.0</br>RNF: 0.0</br>_original_yhat_: 0.003318951211417192</br>\"],[\"</br>id: 4176</br>prediction: 0.003</br>Torque [Nm]: 57.16</br></br>Type: M</br>Air temperature [K]: 302.3</br>Process temperature [K]: 310.7</br>Rotational speed [rpm]: 1544.0</br>Tool wear [min]: 141.0</br>TWF: 0.0</br>HDF: 0.0</br>PWF: 0.0</br>OSF: 0.0</br>RNF: 0.0</br>_original_yhat_: 0.003318951211417192</br>\"],[\"</br>id: 4176</br>prediction: 0.003</br>Torque [Nm]: 57.88</br></br>Type: M</br>Air temperature [K]: 302.3</br>Process temperature [K]: 310.7</br>Rotational speed [rpm]: 1544.0</br>Tool wear [min]: 141.0</br>TWF: 0.0</br>HDF: 0.0</br>PWF: 0.0</br>OSF: 0.0</br>RNF: 0.0</br>_original_yhat_: 0.003318951211417192</br>\"],[\"</br>id: 4176</br>prediction: 0.003</br>Torque [Nm]: 58.6</br></br>Type: M</br>Air temperature [K]: 302.3</br>Process temperature [K]: 310.7</br>Rotational speed [rpm]: 1544.0</br>Tool wear [min]: 141.0</br>TWF: 0.0</br>HDF: 0.0</br>PWF: 0.0</br>OSF: 0.0</br>RNF: 0.0</br>_original_yhat_: 0.003318951211417192</br>\"],[\"</br>id: 4176</br>prediction: 0.003</br>Torque [Nm]: 59.32</br></br>Type: M</br>Air temperature [K]: 302.3</br>Process temperature [K]: 310.7</br>Rotational speed [rpm]: 1544.0</br>Tool wear [min]: 141.0</br>TWF: 0.0</br>HDF: 0.0</br>PWF: 0.0</br>OSF: 0.0</br>RNF: 0.0</br>_original_yhat_: 0.003318951211417192</br>\"],[\"</br>id: 4176</br>prediction: 0.003</br>Torque [Nm]: 60.04</br></br>Type: M</br>Air temperature [K]: 302.3</br>Process temperature [K]: 310.7</br>Rotational speed [rpm]: 1544.0</br>Tool wear [min]: 141.0</br>TWF: 0.0</br>HDF: 0.0</br>PWF: 0.0</br>OSF: 0.0</br>RNF: 0.0</br>_original_yhat_: 0.003318951211417192</br>\"],[\"</br>id: 4176</br>prediction: 0.003</br>Torque [Nm]: 60.76</br></br>Type: M</br>Air temperature [K]: 302.3</br>Process temperature [K]: 310.7</br>Rotational speed [rpm]: 1544.0</br>Tool wear [min]: 141.0</br>TWF: 0.0</br>HDF: 0.0</br>PWF: 0.0</br>OSF: 0.0</br>RNF: 0.0</br>_original_yhat_: 0.003318951211417192</br>\"],[\"</br>id: 4176</br>prediction: 0.003</br>Torque [Nm]: 61.48</br></br>Type: M</br>Air temperature [K]: 302.3</br>Process temperature [K]: 310.7</br>Rotational speed [rpm]: 1544.0</br>Tool wear [min]: 141.0</br>TWF: 0.0</br>HDF: 0.0</br>PWF: 0.0</br>OSF: 0.0</br>RNF: 0.0</br>_original_yhat_: 0.003318951211417192</br>\"],[\"</br>id: 4176</br>prediction: 0.003</br>Torque [Nm]: 62.199999999999996</br></br>Type: M</br>Air temperature [K]: 302.3</br>Process temperature [K]: 310.7</br>Rotational speed [rpm]: 1544.0</br>Tool wear [min]: 141.0</br>TWF: 0.0</br>HDF: 0.0</br>PWF: 0.0</br>OSF: 0.0</br>RNF: 0.0</br>_original_yhat_: 0.003318951211417192</br>\"],[\"</br>id: 4176</br>prediction: 0.003</br>Torque [Nm]: 62.92</br></br>Type: M</br>Air temperature [K]: 302.3</br>Process temperature [K]: 310.7</br>Rotational speed [rpm]: 1544.0</br>Tool wear [min]: 141.0</br>TWF: 0.0</br>HDF: 0.0</br>PWF: 0.0</br>OSF: 0.0</br>RNF: 0.0</br>_original_yhat_: 0.003318951211417192</br>\"],[\"</br>id: 4176</br>prediction: 0.003</br>Torque [Nm]: 63.64</br></br>Type: M</br>Air temperature [K]: 302.3</br>Process temperature [K]: 310.7</br>Rotational speed [rpm]: 1544.0</br>Tool wear [min]: 141.0</br>TWF: 0.0</br>HDF: 0.0</br>PWF: 0.0</br>OSF: 0.0</br>RNF: 0.0</br>_original_yhat_: 0.003318951211417192</br>\"],[\"</br>id: 4176</br>prediction: 0.003</br>Torque [Nm]: 64.36</br></br>Type: M</br>Air temperature [K]: 302.3</br>Process temperature [K]: 310.7</br>Rotational speed [rpm]: 1544.0</br>Tool wear [min]: 141.0</br>TWF: 0.0</br>HDF: 0.0</br>PWF: 0.0</br>OSF: 0.0</br>RNF: 0.0</br>_original_yhat_: 0.003318951211417192</br>\"],[\"</br>id: 4176</br>prediction: 0.003</br>Torque [Nm]: 65.08</br></br>Type: M</br>Air temperature [K]: 302.3</br>Process temperature [K]: 310.7</br>Rotational speed [rpm]: 1544.0</br>Tool wear [min]: 141.0</br>TWF: 0.0</br>HDF: 0.0</br>PWF: 0.0</br>OSF: 0.0</br>RNF: 0.0</br>_original_yhat_: 0.003318951211417192</br>\"],[\"</br>id: 4176</br>prediction: 0.003</br>Torque [Nm]: 65.8</br></br>Type: M</br>Air temperature [K]: 302.3</br>Process temperature [K]: 310.7</br>Rotational speed [rpm]: 1544.0</br>Tool wear [min]: 141.0</br>TWF: 0.0</br>HDF: 0.0</br>PWF: 0.0</br>OSF: 0.0</br>RNF: 0.0</br>_original_yhat_: 0.003318951211417192</br>\"],[\"</br>id: 4176</br>prediction: 0.003</br>Torque [Nm]: 66.52</br></br>Type: M</br>Air temperature [K]: 302.3</br>Process temperature [K]: 310.7</br>Rotational speed [rpm]: 1544.0</br>Tool wear [min]: 141.0</br>TWF: 0.0</br>HDF: 0.0</br>PWF: 0.0</br>OSF: 0.0</br>RNF: 0.0</br>_original_yhat_: 0.003318951211417192</br>\"],[\"</br>id: 4176</br>prediction: 0.003</br>Torque [Nm]: 67.24</br></br>Type: M</br>Air temperature [K]: 302.3</br>Process temperature [K]: 310.7</br>Rotational speed [rpm]: 1544.0</br>Tool wear [min]: 141.0</br>TWF: 0.0</br>HDF: 0.0</br>PWF: 0.0</br>OSF: 0.0</br>RNF: 0.0</br>_original_yhat_: 0.003318951211417192</br>\"],[\"</br>id: 4176</br>prediction: 0.003</br>Torque [Nm]: 67.96</br></br>Type: M</br>Air temperature [K]: 302.3</br>Process temperature [K]: 310.7</br>Rotational speed [rpm]: 1544.0</br>Tool wear [min]: 141.0</br>TWF: 0.0</br>HDF: 0.0</br>PWF: 0.0</br>OSF: 0.0</br>RNF: 0.0</br>_original_yhat_: 0.003318951211417192</br>\"],[\"</br>id: 4176</br>prediction: 0.003</br>Torque [Nm]: 68.67999999999999</br></br>Type: M</br>Air temperature [K]: 302.3</br>Process temperature [K]: 310.7</br>Rotational speed [rpm]: 1544.0</br>Tool wear [min]: 141.0</br>TWF: 0.0</br>HDF: 0.0</br>PWF: 0.0</br>OSF: 0.0</br>RNF: 0.0</br>_original_yhat_: 0.003318951211417192</br>\"],[\"</br>id: 4176</br>prediction: 0.003</br>Torque [Nm]: 69.39999999999999</br></br>Type: M</br>Air temperature [K]: 302.3</br>Process temperature [K]: 310.7</br>Rotational speed [rpm]: 1544.0</br>Tool wear [min]: 141.0</br>TWF: 0.0</br>HDF: 0.0</br>PWF: 0.0</br>OSF: 0.0</br>RNF: 0.0</br>_original_yhat_: 0.003318951211417192</br>\"],[\"</br>id: 4176</br>prediction: 0.003</br>Torque [Nm]: 70.11999999999999</br></br>Type: M</br>Air temperature [K]: 302.3</br>Process temperature [K]: 310.7</br>Rotational speed [rpm]: 1544.0</br>Tool wear [min]: 141.0</br>TWF: 0.0</br>HDF: 0.0</br>PWF: 0.0</br>OSF: 0.0</br>RNF: 0.0</br>_original_yhat_: 0.003318951211417192</br>\"],[\"</br>id: 4176</br>prediction: 0.003</br>Torque [Nm]: 70.83999999999999</br></br>Type: M</br>Air temperature [K]: 302.3</br>Process temperature [K]: 310.7</br>Rotational speed [rpm]: 1544.0</br>Tool wear [min]: 141.0</br>TWF: 0.0</br>HDF: 0.0</br>PWF: 0.0</br>OSF: 0.0</br>RNF: 0.0</br>_original_yhat_: 0.003318951211417192</br>\"],[\"</br>id: 4176</br>prediction: 0.003</br>Torque [Nm]: 71.55999999999999</br></br>Type: M</br>Air temperature [K]: 302.3</br>Process temperature [K]: 310.7</br>Rotational speed [rpm]: 1544.0</br>Tool wear [min]: 141.0</br>TWF: 0.0</br>HDF: 0.0</br>PWF: 0.0</br>OSF: 0.0</br>RNF: 0.0</br>_original_yhat_: 0.003318951211417192</br>\"],[\"</br>id: 4176</br>prediction: 0.003</br>Torque [Nm]: 72.27999999999999</br></br>Type: M</br>Air temperature [K]: 302.3</br>Process temperature [K]: 310.7</br>Rotational speed [rpm]: 1544.0</br>Tool wear [min]: 141.0</br>TWF: 0.0</br>HDF: 0.0</br>PWF: 0.0</br>OSF: 0.0</br>RNF: 0.0</br>_original_yhat_: 0.003318951211417192</br>\"],[\"</br>id: 4176</br>prediction: 0.003</br>Torque [Nm]: 72.99999999999999</br></br>Type: M</br>Air temperature [K]: 302.3</br>Process temperature [K]: 310.7</br>Rotational speed [rpm]: 1544.0</br>Tool wear [min]: 141.0</br>TWF: 0.0</br>HDF: 0.0</br>PWF: 0.0</br>OSF: 0.0</br>RNF: 0.0</br>_original_yhat_: 0.003318951211417192</br>\"],[\"</br>id: 4176</br>prediction: 0.003</br>Torque [Nm]: 73.72</br></br>Type: M</br>Air temperature [K]: 302.3</br>Process temperature [K]: 310.7</br>Rotational speed [rpm]: 1544.0</br>Tool wear [min]: 141.0</br>TWF: 0.0</br>HDF: 0.0</br>PWF: 0.0</br>OSF: 0.0</br>RNF: 0.0</br>_original_yhat_: 0.003318951211417192</br>\"],[\"</br>id: 4176</br>prediction: 0.003</br>Torque [Nm]: 74.44</br></br>Type: M</br>Air temperature [K]: 302.3</br>Process temperature [K]: 310.7</br>Rotational speed [rpm]: 1544.0</br>Tool wear [min]: 141.0</br>TWF: 0.0</br>HDF: 0.0</br>PWF: 0.0</br>OSF: 0.0</br>RNF: 0.0</br>_original_yhat_: 0.003318951211417192</br>\"],[\"</br>id: 4176</br>prediction: 0.003</br>Torque [Nm]: 75.16</br></br>Type: M</br>Air temperature [K]: 302.3</br>Process temperature [K]: 310.7</br>Rotational speed [rpm]: 1544.0</br>Tool wear [min]: 141.0</br>TWF: 0.0</br>HDF: 0.0</br>PWF: 0.0</br>OSF: 0.0</br>RNF: 0.0</br>_original_yhat_: 0.003318951211417192</br>\"],[\"</br>id: 4176</br>prediction: 0.003</br>Torque [Nm]: 75.88</br></br>Type: M</br>Air temperature [K]: 302.3</br>Process temperature [K]: 310.7</br>Rotational speed [rpm]: 1544.0</br>Tool wear [min]: 141.0</br>TWF: 0.0</br>HDF: 0.0</br>PWF: 0.0</br>OSF: 0.0</br>RNF: 0.0</br>_original_yhat_: 0.003318951211417192</br>\"],[\"</br>id: 4176</br>prediction: 0.003</br>Torque [Nm]: 76.6</br></br>Type: M</br>Air temperature [K]: 302.3</br>Process temperature [K]: 310.7</br>Rotational speed [rpm]: 1544.0</br>Tool wear [min]: 141.0</br>TWF: 0.0</br>HDF: 0.0</br>PWF: 0.0</br>OSF: 0.0</br>RNF: 0.0</br>_original_yhat_: 0.003318951211417192</br>\"]],\"hovertemplate\":\"%{customdata[0]}<extra></extra>\",\"legendgroup\":\"testing\",\"line\":{\"color\":\"#46bac2\",\"dash\":\"solid\",\"width\":2},\"marker\":{\"symbol\":\"circle\"},\"mode\":\"lines\",\"name\":\"testing\",\"showlegend\":false,\"x\":[4.6,5.319999999999999,6.039999999999999,6.76,7.4799999999999995,8.2,8.92,9.64,10.36,11.079999999999998,11.799999999999999,12.52,13.24,13.959999999999999,14.68,15.399999999999999,16.119999999999997,16.84,17.56,18.28,19.0,19.72,20.439999999999998,21.159999999999997,21.880000000000003,22.6,23.32,24.04,24.759999999999998,25.479999999999997,26.199999999999996,26.92,27.64,28.36,29.08,29.799999999999997,30.519999999999996,31.240000000000002,31.96,32.68,33.4,34.12,34.839999999999996,35.559999999999995,36.28,37.0,37.72,38.44,39.160000000000004,39.7,39.88,40.6,41.32,42.04,42.76,43.48,44.2,44.92,45.64,46.36,47.08,47.8,48.52,49.24,49.96,50.68,51.4,52.12,52.839999999999996,53.56,54.28,55.0,55.72,56.44,57.16,57.88,58.6,59.32,60.04,60.76,61.48,62.199999999999996,62.92,63.64,64.36,65.08,65.8,66.52,67.24,67.96,68.67999999999999,69.39999999999999,70.11999999999999,70.83999999999999,71.55999999999999,72.27999999999999,72.99999999999999,73.72,74.44,75.16,75.88,76.6],\"xaxis\":\"x8\",\"y\":[0.003318951211417192,0.003318951211417192,0.003318951211417192,0.003318951211417192,0.003318951211417192,0.003318951211417192,0.003318951211417192,0.003318951211417192,0.003318951211417192,0.003318951211417192,0.003318951211417192,0.003318951211417192,0.003318951211417192,0.003318951211417192,0.003318951211417192,0.003318951211417192,0.003318951211417192,0.003318951211417192,0.003318951211417192,0.003318951211417192,0.003318951211417192,0.003318951211417192,0.003318951211417192,0.003318951211417192,0.003318951211417192,0.003318951211417192,0.003318951211417192,0.003318951211417192,0.003318951211417192,0.003318951211417192,0.003318951211417192,0.003318951211417192,0.003318951211417192,0.003318951211417192,0.003318951211417192,0.003318951211417192,0.003318951211417192,0.003318951211417192,0.003318951211417192,0.003318951211417192,0.003318951211417192,0.003318951211417192,0.003318951211417192,0.003318951211417192,0.003318951211417192,0.003318951211417192,0.003318951211417192,0.003318951211417192,0.003318951211417192,0.003318951211417192,0.003318951211417192,0.003318951211417192,0.003318951211417192,0.003318951211417192,0.003318951211417192,0.003318951211417192,0.003318951211417192,0.003318951211417192,0.003318951211417192,0.003318951211417192,0.003318951211417192,0.003318951211417192,0.003318951211417192,0.003318951211417192,0.003318951211417192,0.003318951211417192,0.003318951211417192,0.003318951211417192,0.003318951211417192,0.003318951211417192,0.003318951211417192,0.003318951211417192,0.003318951211417192,0.003318951211417192,0.003318951211417192,0.003318951211417192,0.003318951211417192,0.003318951211417192,0.003318951211417192,0.003318951211417192,0.003318951211417192,0.003318951211417192,0.003318951211417192,0.003318951211417192,0.003318951211417192,0.003318951211417192,0.003318951211417192,0.003318951211417192,0.003318951211417192,0.003318951211417192,0.003318951211417192,0.003318951211417192,0.003318951211417192,0.003318951211417192,0.003318951211417192,0.003318951211417192,0.003318951211417192,0.003318951211417192,0.003318951211417192,0.003318951211417192,0.003318951211417192,0.003318951211417192],\"yaxis\":\"y8\",\"type\":\"scattergl\",\"opacity\":1},{\"customdata\":[[\"</br>id: 4176</br>prediction: 0.001</br>Tool wear [min]: 0.0</br></br>Type: M</br>Air temperature [K]: 302.3</br>Process temperature [K]: 310.7</br>Rotational speed [rpm]: 1544.0</br>Torque [Nm]: 39.7</br>TWF: 0.0</br>HDF: 0.0</br>PWF: 0.0</br>OSF: 0.0</br>RNF: 0.0</br>_original_yhat_: 0.003318951211417192</br>\"],[\"</br>id: 4176</br>prediction: 0.001</br>Tool wear [min]: 2.53</br></br>Type: M</br>Air temperature [K]: 302.3</br>Process temperature [K]: 310.7</br>Rotational speed [rpm]: 1544.0</br>Torque [Nm]: 39.7</br>TWF: 0.0</br>HDF: 0.0</br>PWF: 0.0</br>OSF: 0.0</br>RNF: 0.0</br>_original_yhat_: 0.003318951211417192</br>\"],[\"</br>id: 4176</br>prediction: 0.001</br>Tool wear [min]: 5.06</br></br>Type: M</br>Air temperature [K]: 302.3</br>Process temperature [K]: 310.7</br>Rotational speed [rpm]: 1544.0</br>Torque [Nm]: 39.7</br>TWF: 0.0</br>HDF: 0.0</br>PWF: 0.0</br>OSF: 0.0</br>RNF: 0.0</br>_original_yhat_: 0.003318951211417192</br>\"],[\"</br>id: 4176</br>prediction: 0.001</br>Tool wear [min]: 7.59</br></br>Type: M</br>Air temperature [K]: 302.3</br>Process temperature [K]: 310.7</br>Rotational speed [rpm]: 1544.0</br>Torque [Nm]: 39.7</br>TWF: 0.0</br>HDF: 0.0</br>PWF: 0.0</br>OSF: 0.0</br>RNF: 0.0</br>_original_yhat_: 0.003318951211417192</br>\"],[\"</br>id: 4176</br>prediction: 0.001</br>Tool wear [min]: 10.12</br></br>Type: M</br>Air temperature [K]: 302.3</br>Process temperature [K]: 310.7</br>Rotational speed [rpm]: 1544.0</br>Torque [Nm]: 39.7</br>TWF: 0.0</br>HDF: 0.0</br>PWF: 0.0</br>OSF: 0.0</br>RNF: 0.0</br>_original_yhat_: 0.003318951211417192</br>\"],[\"</br>id: 4176</br>prediction: 0.001</br>Tool wear [min]: 12.649999999999999</br></br>Type: M</br>Air temperature [K]: 302.3</br>Process temperature [K]: 310.7</br>Rotational speed [rpm]: 1544.0</br>Torque [Nm]: 39.7</br>TWF: 0.0</br>HDF: 0.0</br>PWF: 0.0</br>OSF: 0.0</br>RNF: 0.0</br>_original_yhat_: 0.003318951211417192</br>\"],[\"</br>id: 4176</br>prediction: 0.001</br>Tool wear [min]: 15.18</br></br>Type: M</br>Air temperature [K]: 302.3</br>Process temperature [K]: 310.7</br>Rotational speed [rpm]: 1544.0</br>Torque [Nm]: 39.7</br>TWF: 0.0</br>HDF: 0.0</br>PWF: 0.0</br>OSF: 0.0</br>RNF: 0.0</br>_original_yhat_: 0.003318951211417192</br>\"],[\"</br>id: 4176</br>prediction: 0.001</br>Tool wear [min]: 17.709999999999997</br></br>Type: M</br>Air temperature [K]: 302.3</br>Process temperature [K]: 310.7</br>Rotational speed [rpm]: 1544.0</br>Torque [Nm]: 39.7</br>TWF: 0.0</br>HDF: 0.0</br>PWF: 0.0</br>OSF: 0.0</br>RNF: 0.0</br>_original_yhat_: 0.003318951211417192</br>\"],[\"</br>id: 4176</br>prediction: 0.001</br>Tool wear [min]: 20.24</br></br>Type: M</br>Air temperature [K]: 302.3</br>Process temperature [K]: 310.7</br>Rotational speed [rpm]: 1544.0</br>Torque [Nm]: 39.7</br>TWF: 0.0</br>HDF: 0.0</br>PWF: 0.0</br>OSF: 0.0</br>RNF: 0.0</br>_original_yhat_: 0.003318951211417192</br>\"],[\"</br>id: 4176</br>prediction: 0.001</br>Tool wear [min]: 22.77</br></br>Type: M</br>Air temperature [K]: 302.3</br>Process temperature [K]: 310.7</br>Rotational speed [rpm]: 1544.0</br>Torque [Nm]: 39.7</br>TWF: 0.0</br>HDF: 0.0</br>PWF: 0.0</br>OSF: 0.0</br>RNF: 0.0</br>_original_yhat_: 0.003318951211417192</br>\"],[\"</br>id: 4176</br>prediction: 0.001</br>Tool wear [min]: 25.299999999999997</br></br>Type: M</br>Air temperature [K]: 302.3</br>Process temperature [K]: 310.7</br>Rotational speed [rpm]: 1544.0</br>Torque [Nm]: 39.7</br>TWF: 0.0</br>HDF: 0.0</br>PWF: 0.0</br>OSF: 0.0</br>RNF: 0.0</br>_original_yhat_: 0.003318951211417192</br>\"],[\"</br>id: 4176</br>prediction: 0.001</br>Tool wear [min]: 27.83</br></br>Type: M</br>Air temperature [K]: 302.3</br>Process temperature [K]: 310.7</br>Rotational speed [rpm]: 1544.0</br>Torque [Nm]: 39.7</br>TWF: 0.0</br>HDF: 0.0</br>PWF: 0.0</br>OSF: 0.0</br>RNF: 0.0</br>_original_yhat_: 0.003318951211417192</br>\"],[\"</br>id: 4176</br>prediction: 0.001</br>Tool wear [min]: 30.36</br></br>Type: M</br>Air temperature [K]: 302.3</br>Process temperature [K]: 310.7</br>Rotational speed [rpm]: 1544.0</br>Torque [Nm]: 39.7</br>TWF: 0.0</br>HDF: 0.0</br>PWF: 0.0</br>OSF: 0.0</br>RNF: 0.0</br>_original_yhat_: 0.003318951211417192</br>\"],[\"</br>id: 4176</br>prediction: 0.001</br>Tool wear [min]: 32.89</br></br>Type: M</br>Air temperature [K]: 302.3</br>Process temperature [K]: 310.7</br>Rotational speed [rpm]: 1544.0</br>Torque [Nm]: 39.7</br>TWF: 0.0</br>HDF: 0.0</br>PWF: 0.0</br>OSF: 0.0</br>RNF: 0.0</br>_original_yhat_: 0.003318951211417192</br>\"],[\"</br>id: 4176</br>prediction: 0.001</br>Tool wear [min]: 35.419999999999995</br></br>Type: M</br>Air temperature [K]: 302.3</br>Process temperature [K]: 310.7</br>Rotational speed [rpm]: 1544.0</br>Torque [Nm]: 39.7</br>TWF: 0.0</br>HDF: 0.0</br>PWF: 0.0</br>OSF: 0.0</br>RNF: 0.0</br>_original_yhat_: 0.003318951211417192</br>\"],[\"</br>id: 4176</br>prediction: 0.001</br>Tool wear [min]: 37.949999999999996</br></br>Type: M</br>Air temperature [K]: 302.3</br>Process temperature [K]: 310.7</br>Rotational speed [rpm]: 1544.0</br>Torque [Nm]: 39.7</br>TWF: 0.0</br>HDF: 0.0</br>PWF: 0.0</br>OSF: 0.0</br>RNF: 0.0</br>_original_yhat_: 0.003318951211417192</br>\"],[\"</br>id: 4176</br>prediction: 0.001</br>Tool wear [min]: 40.48</br></br>Type: M</br>Air temperature [K]: 302.3</br>Process temperature [K]: 310.7</br>Rotational speed [rpm]: 1544.0</br>Torque [Nm]: 39.7</br>TWF: 0.0</br>HDF: 0.0</br>PWF: 0.0</br>OSF: 0.0</br>RNF: 0.0</br>_original_yhat_: 0.003318951211417192</br>\"],[\"</br>id: 4176</br>prediction: 0.001</br>Tool wear [min]: 43.01</br></br>Type: M</br>Air temperature [K]: 302.3</br>Process temperature [K]: 310.7</br>Rotational speed [rpm]: 1544.0</br>Torque [Nm]: 39.7</br>TWF: 0.0</br>HDF: 0.0</br>PWF: 0.0</br>OSF: 0.0</br>RNF: 0.0</br>_original_yhat_: 0.003318951211417192</br>\"],[\"</br>id: 4176</br>prediction: 0.001</br>Tool wear [min]: 45.54</br></br>Type: M</br>Air temperature [K]: 302.3</br>Process temperature [K]: 310.7</br>Rotational speed [rpm]: 1544.0</br>Torque [Nm]: 39.7</br>TWF: 0.0</br>HDF: 0.0</br>PWF: 0.0</br>OSF: 0.0</br>RNF: 0.0</br>_original_yhat_: 0.003318951211417192</br>\"],[\"</br>id: 4176</br>prediction: 0.001</br>Tool wear [min]: 48.06999999999999</br></br>Type: M</br>Air temperature [K]: 302.3</br>Process temperature [K]: 310.7</br>Rotational speed [rpm]: 1544.0</br>Torque [Nm]: 39.7</br>TWF: 0.0</br>HDF: 0.0</br>PWF: 0.0</br>OSF: 0.0</br>RNF: 0.0</br>_original_yhat_: 0.003318951211417192</br>\"],[\"</br>id: 4176</br>prediction: 0.001</br>Tool wear [min]: 50.599999999999994</br></br>Type: M</br>Air temperature [K]: 302.3</br>Process temperature [K]: 310.7</br>Rotational speed [rpm]: 1544.0</br>Torque [Nm]: 39.7</br>TWF: 0.0</br>HDF: 0.0</br>PWF: 0.0</br>OSF: 0.0</br>RNF: 0.0</br>_original_yhat_: 0.003318951211417192</br>\"],[\"</br>id: 4176</br>prediction: 0.001</br>Tool wear [min]: 53.129999999999995</br></br>Type: M</br>Air temperature [K]: 302.3</br>Process temperature [K]: 310.7</br>Rotational speed [rpm]: 1544.0</br>Torque [Nm]: 39.7</br>TWF: 0.0</br>HDF: 0.0</br>PWF: 0.0</br>OSF: 0.0</br>RNF: 0.0</br>_original_yhat_: 0.003318951211417192</br>\"],[\"</br>id: 4176</br>prediction: 0.001</br>Tool wear [min]: 55.66</br></br>Type: M</br>Air temperature [K]: 302.3</br>Process temperature [K]: 310.7</br>Rotational speed [rpm]: 1544.0</br>Torque [Nm]: 39.7</br>TWF: 0.0</br>HDF: 0.0</br>PWF: 0.0</br>OSF: 0.0</br>RNF: 0.0</br>_original_yhat_: 0.003318951211417192</br>\"],[\"</br>id: 4176</br>prediction: 0.001</br>Tool wear [min]: 58.19</br></br>Type: M</br>Air temperature [K]: 302.3</br>Process temperature [K]: 310.7</br>Rotational speed [rpm]: 1544.0</br>Torque [Nm]: 39.7</br>TWF: 0.0</br>HDF: 0.0</br>PWF: 0.0</br>OSF: 0.0</br>RNF: 0.0</br>_original_yhat_: 0.003318951211417192</br>\"],[\"</br>id: 4176</br>prediction: 0.001</br>Tool wear [min]: 60.72</br></br>Type: M</br>Air temperature [K]: 302.3</br>Process temperature [K]: 310.7</br>Rotational speed [rpm]: 1544.0</br>Torque [Nm]: 39.7</br>TWF: 0.0</br>HDF: 0.0</br>PWF: 0.0</br>OSF: 0.0</br>RNF: 0.0</br>_original_yhat_: 0.003318951211417192</br>\"],[\"</br>id: 4176</br>prediction: 0.001</br>Tool wear [min]: 63.24999999999999</br></br>Type: M</br>Air temperature [K]: 302.3</br>Process temperature [K]: 310.7</br>Rotational speed [rpm]: 1544.0</br>Torque [Nm]: 39.7</br>TWF: 0.0</br>HDF: 0.0</br>PWF: 0.0</br>OSF: 0.0</br>RNF: 0.0</br>_original_yhat_: 0.003318951211417192</br>\"],[\"</br>id: 4176</br>prediction: 0.001</br>Tool wear [min]: 65.78</br></br>Type: M</br>Air temperature [K]: 302.3</br>Process temperature [K]: 310.7</br>Rotational speed [rpm]: 1544.0</br>Torque [Nm]: 39.7</br>TWF: 0.0</br>HDF: 0.0</br>PWF: 0.0</br>OSF: 0.0</br>RNF: 0.0</br>_original_yhat_: 0.003318951211417192</br>\"],[\"</br>id: 4176</br>prediction: 0.001</br>Tool wear [min]: 68.30999999999999</br></br>Type: M</br>Air temperature [K]: 302.3</br>Process temperature [K]: 310.7</br>Rotational speed [rpm]: 1544.0</br>Torque [Nm]: 39.7</br>TWF: 0.0</br>HDF: 0.0</br>PWF: 0.0</br>OSF: 0.0</br>RNF: 0.0</br>_original_yhat_: 0.003318951211417192</br>\"],[\"</br>id: 4176</br>prediction: 0.001</br>Tool wear [min]: 70.83999999999999</br></br>Type: M</br>Air temperature [K]: 302.3</br>Process temperature [K]: 310.7</br>Rotational speed [rpm]: 1544.0</br>Torque [Nm]: 39.7</br>TWF: 0.0</br>HDF: 0.0</br>PWF: 0.0</br>OSF: 0.0</br>RNF: 0.0</br>_original_yhat_: 0.003318951211417192</br>\"],[\"</br>id: 4176</br>prediction: 0.001</br>Tool wear [min]: 73.36999999999999</br></br>Type: M</br>Air temperature [K]: 302.3</br>Process temperature [K]: 310.7</br>Rotational speed [rpm]: 1544.0</br>Torque [Nm]: 39.7</br>TWF: 0.0</br>HDF: 0.0</br>PWF: 0.0</br>OSF: 0.0</br>RNF: 0.0</br>_original_yhat_: 0.003318951211417192</br>\"],[\"</br>id: 4176</br>prediction: 0.001</br>Tool wear [min]: 75.89999999999999</br></br>Type: M</br>Air temperature [K]: 302.3</br>Process temperature [K]: 310.7</br>Rotational speed [rpm]: 1544.0</br>Torque [Nm]: 39.7</br>TWF: 0.0</br>HDF: 0.0</br>PWF: 0.0</br>OSF: 0.0</br>RNF: 0.0</br>_original_yhat_: 0.003318951211417192</br>\"],[\"</br>id: 4176</br>prediction: 0.001</br>Tool wear [min]: 78.42999999999999</br></br>Type: M</br>Air temperature [K]: 302.3</br>Process temperature [K]: 310.7</br>Rotational speed [rpm]: 1544.0</br>Torque [Nm]: 39.7</br>TWF: 0.0</br>HDF: 0.0</br>PWF: 0.0</br>OSF: 0.0</br>RNF: 0.0</br>_original_yhat_: 0.003318951211417192</br>\"],[\"</br>id: 4176</br>prediction: 0.001</br>Tool wear [min]: 80.96</br></br>Type: M</br>Air temperature [K]: 302.3</br>Process temperature [K]: 310.7</br>Rotational speed [rpm]: 1544.0</br>Torque [Nm]: 39.7</br>TWF: 0.0</br>HDF: 0.0</br>PWF: 0.0</br>OSF: 0.0</br>RNF: 0.0</br>_original_yhat_: 0.003318951211417192</br>\"],[\"</br>id: 4176</br>prediction: 0.001</br>Tool wear [min]: 83.49</br></br>Type: M</br>Air temperature [K]: 302.3</br>Process temperature [K]: 310.7</br>Rotational speed [rpm]: 1544.0</br>Torque [Nm]: 39.7</br>TWF: 0.0</br>HDF: 0.0</br>PWF: 0.0</br>OSF: 0.0</br>RNF: 0.0</br>_original_yhat_: 0.003318951211417192</br>\"],[\"</br>id: 4176</br>prediction: 0.001</br>Tool wear [min]: 86.02</br></br>Type: M</br>Air temperature [K]: 302.3</br>Process temperature [K]: 310.7</br>Rotational speed [rpm]: 1544.0</br>Torque [Nm]: 39.7</br>TWF: 0.0</br>HDF: 0.0</br>PWF: 0.0</br>OSF: 0.0</br>RNF: 0.0</br>_original_yhat_: 0.003318951211417192</br>\"],[\"</br>id: 4176</br>prediction: 0.001</br>Tool wear [min]: 88.55</br></br>Type: M</br>Air temperature [K]: 302.3</br>Process temperature [K]: 310.7</br>Rotational speed [rpm]: 1544.0</br>Torque [Nm]: 39.7</br>TWF: 0.0</br>HDF: 0.0</br>PWF: 0.0</br>OSF: 0.0</br>RNF: 0.0</br>_original_yhat_: 0.003318951211417192</br>\"],[\"</br>id: 4176</br>prediction: 0.001</br>Tool wear [min]: 91.08</br></br>Type: M</br>Air temperature [K]: 302.3</br>Process temperature [K]: 310.7</br>Rotational speed [rpm]: 1544.0</br>Torque [Nm]: 39.7</br>TWF: 0.0</br>HDF: 0.0</br>PWF: 0.0</br>OSF: 0.0</br>RNF: 0.0</br>_original_yhat_: 0.003318951211417192</br>\"],[\"</br>id: 4176</br>prediction: 0.001</br>Tool wear [min]: 93.61</br></br>Type: M</br>Air temperature [K]: 302.3</br>Process temperature [K]: 310.7</br>Rotational speed [rpm]: 1544.0</br>Torque [Nm]: 39.7</br>TWF: 0.0</br>HDF: 0.0</br>PWF: 0.0</br>OSF: 0.0</br>RNF: 0.0</br>_original_yhat_: 0.003318951211417192</br>\"],[\"</br>id: 4176</br>prediction: 0.001</br>Tool wear [min]: 96.13999999999999</br></br>Type: M</br>Air temperature [K]: 302.3</br>Process temperature [K]: 310.7</br>Rotational speed [rpm]: 1544.0</br>Torque [Nm]: 39.7</br>TWF: 0.0</br>HDF: 0.0</br>PWF: 0.0</br>OSF: 0.0</br>RNF: 0.0</br>_original_yhat_: 0.003318951211417192</br>\"],[\"</br>id: 4176</br>prediction: 0.001</br>Tool wear [min]: 98.66999999999999</br></br>Type: M</br>Air temperature [K]: 302.3</br>Process temperature [K]: 310.7</br>Rotational speed [rpm]: 1544.0</br>Torque [Nm]: 39.7</br>TWF: 0.0</br>HDF: 0.0</br>PWF: 0.0</br>OSF: 0.0</br>RNF: 0.0</br>_original_yhat_: 0.003318951211417192</br>\"],[\"</br>id: 4176</br>prediction: 0.001</br>Tool wear [min]: 101.19999999999999</br></br>Type: M</br>Air temperature [K]: 302.3</br>Process temperature [K]: 310.7</br>Rotational speed [rpm]: 1544.0</br>Torque [Nm]: 39.7</br>TWF: 0.0</br>HDF: 0.0</br>PWF: 0.0</br>OSF: 0.0</br>RNF: 0.0</br>_original_yhat_: 0.003318951211417192</br>\"],[\"</br>id: 4176</br>prediction: 0.001</br>Tool wear [min]: 103.72999999999999</br></br>Type: M</br>Air temperature [K]: 302.3</br>Process temperature [K]: 310.7</br>Rotational speed [rpm]: 1544.0</br>Torque [Nm]: 39.7</br>TWF: 0.0</br>HDF: 0.0</br>PWF: 0.0</br>OSF: 0.0</br>RNF: 0.0</br>_original_yhat_: 0.003318951211417192</br>\"],[\"</br>id: 4176</br>prediction: 0.001</br>Tool wear [min]: 106.25999999999999</br></br>Type: M</br>Air temperature [K]: 302.3</br>Process temperature [K]: 310.7</br>Rotational speed [rpm]: 1544.0</br>Torque [Nm]: 39.7</br>TWF: 0.0</br>HDF: 0.0</br>PWF: 0.0</br>OSF: 0.0</br>RNF: 0.0</br>_original_yhat_: 0.003318951211417192</br>\"],[\"</br>id: 4176</br>prediction: 0.001</br>Tool wear [min]: 108.78999999999999</br></br>Type: M</br>Air temperature [K]: 302.3</br>Process temperature [K]: 310.7</br>Rotational speed [rpm]: 1544.0</br>Torque [Nm]: 39.7</br>TWF: 0.0</br>HDF: 0.0</br>PWF: 0.0</br>OSF: 0.0</br>RNF: 0.0</br>_original_yhat_: 0.003318951211417192</br>\"],[\"</br>id: 4176</br>prediction: 0.001</br>Tool wear [min]: 111.32</br></br>Type: M</br>Air temperature [K]: 302.3</br>Process temperature [K]: 310.7</br>Rotational speed [rpm]: 1544.0</br>Torque [Nm]: 39.7</br>TWF: 0.0</br>HDF: 0.0</br>PWF: 0.0</br>OSF: 0.0</br>RNF: 0.0</br>_original_yhat_: 0.003318951211417192</br>\"],[\"</br>id: 4176</br>prediction: 0.001</br>Tool wear [min]: 113.85</br></br>Type: M</br>Air temperature [K]: 302.3</br>Process temperature [K]: 310.7</br>Rotational speed [rpm]: 1544.0</br>Torque [Nm]: 39.7</br>TWF: 0.0</br>HDF: 0.0</br>PWF: 0.0</br>OSF: 0.0</br>RNF: 0.0</br>_original_yhat_: 0.003318951211417192</br>\"],[\"</br>id: 4176</br>prediction: 0.001</br>Tool wear [min]: 116.38</br></br>Type: M</br>Air temperature [K]: 302.3</br>Process temperature [K]: 310.7</br>Rotational speed [rpm]: 1544.0</br>Torque [Nm]: 39.7</br>TWF: 0.0</br>HDF: 0.0</br>PWF: 0.0</br>OSF: 0.0</br>RNF: 0.0</br>_original_yhat_: 0.003318951211417192</br>\"],[\"</br>id: 4176</br>prediction: 0.001</br>Tool wear [min]: 118.91</br></br>Type: M</br>Air temperature [K]: 302.3</br>Process temperature [K]: 310.7</br>Rotational speed [rpm]: 1544.0</br>Torque [Nm]: 39.7</br>TWF: 0.0</br>HDF: 0.0</br>PWF: 0.0</br>OSF: 0.0</br>RNF: 0.0</br>_original_yhat_: 0.003318951211417192</br>\"],[\"</br>id: 4176</br>prediction: 0.001</br>Tool wear [min]: 121.44</br></br>Type: M</br>Air temperature [K]: 302.3</br>Process temperature [K]: 310.7</br>Rotational speed [rpm]: 1544.0</br>Torque [Nm]: 39.7</br>TWF: 0.0</br>HDF: 0.0</br>PWF: 0.0</br>OSF: 0.0</br>RNF: 0.0</br>_original_yhat_: 0.003318951211417192</br>\"],[\"</br>id: 4176</br>prediction: 0.001</br>Tool wear [min]: 123.96999999999998</br></br>Type: M</br>Air temperature [K]: 302.3</br>Process temperature [K]: 310.7</br>Rotational speed [rpm]: 1544.0</br>Torque [Nm]: 39.7</br>TWF: 0.0</br>HDF: 0.0</br>PWF: 0.0</br>OSF: 0.0</br>RNF: 0.0</br>_original_yhat_: 0.003318951211417192</br>\"],[\"</br>id: 4176</br>prediction: 0.001</br>Tool wear [min]: 126.49999999999999</br></br>Type: M</br>Air temperature [K]: 302.3</br>Process temperature [K]: 310.7</br>Rotational speed [rpm]: 1544.0</br>Torque [Nm]: 39.7</br>TWF: 0.0</br>HDF: 0.0</br>PWF: 0.0</br>OSF: 0.0</br>RNF: 0.0</br>_original_yhat_: 0.003318951211417192</br>\"],[\"</br>id: 4176</br>prediction: 0.001</br>Tool wear [min]: 129.03</br></br>Type: M</br>Air temperature [K]: 302.3</br>Process temperature [K]: 310.7</br>Rotational speed [rpm]: 1544.0</br>Torque [Nm]: 39.7</br>TWF: 0.0</br>HDF: 0.0</br>PWF: 0.0</br>OSF: 0.0</br>RNF: 0.0</br>_original_yhat_: 0.003318951211417192</br>\"],[\"</br>id: 4176</br>prediction: 0.003</br>Tool wear [min]: 131.56</br></br>Type: M</br>Air temperature [K]: 302.3</br>Process temperature [K]: 310.7</br>Rotational speed [rpm]: 1544.0</br>Torque [Nm]: 39.7</br>TWF: 0.0</br>HDF: 0.0</br>PWF: 0.0</br>OSF: 0.0</br>RNF: 0.0</br>_original_yhat_: 0.003318951211417192</br>\"],[\"</br>id: 4176</br>prediction: 0.003</br>Tool wear [min]: 134.09</br></br>Type: M</br>Air temperature [K]: 302.3</br>Process temperature [K]: 310.7</br>Rotational speed [rpm]: 1544.0</br>Torque [Nm]: 39.7</br>TWF: 0.0</br>HDF: 0.0</br>PWF: 0.0</br>OSF: 0.0</br>RNF: 0.0</br>_original_yhat_: 0.003318951211417192</br>\"],[\"</br>id: 4176</br>prediction: 0.003</br>Tool wear [min]: 136.61999999999998</br></br>Type: M</br>Air temperature [K]: 302.3</br>Process temperature [K]: 310.7</br>Rotational speed [rpm]: 1544.0</br>Torque [Nm]: 39.7</br>TWF: 0.0</br>HDF: 0.0</br>PWF: 0.0</br>OSF: 0.0</br>RNF: 0.0</br>_original_yhat_: 0.003318951211417192</br>\"],[\"</br>id: 4176</br>prediction: 0.003</br>Tool wear [min]: 139.14999999999998</br></br>Type: M</br>Air temperature [K]: 302.3</br>Process temperature [K]: 310.7</br>Rotational speed [rpm]: 1544.0</br>Torque [Nm]: 39.7</br>TWF: 0.0</br>HDF: 0.0</br>PWF: 0.0</br>OSF: 0.0</br>RNF: 0.0</br>_original_yhat_: 0.003318951211417192</br>\"],[\"</br>id: 4176</br>prediction: 0.003</br>Tool wear [min]: 141.0</br></br>Type: M</br>Air temperature [K]: 302.3</br>Process temperature [K]: 310.7</br>Rotational speed [rpm]: 1544.0</br>Torque [Nm]: 39.7</br>TWF: 0.0</br>HDF: 0.0</br>PWF: 0.0</br>OSF: 0.0</br>RNF: 0.0</br>_original_yhat_: 0.003318951211417192</br>\"],[\"</br>id: 4176</br>prediction: 0.003</br>Tool wear [min]: 141.67999999999998</br></br>Type: M</br>Air temperature [K]: 302.3</br>Process temperature [K]: 310.7</br>Rotational speed [rpm]: 1544.0</br>Torque [Nm]: 39.7</br>TWF: 0.0</br>HDF: 0.0</br>PWF: 0.0</br>OSF: 0.0</br>RNF: 0.0</br>_original_yhat_: 0.003318951211417192</br>\"],[\"</br>id: 4176</br>prediction: 0.003</br>Tool wear [min]: 144.20999999999998</br></br>Type: M</br>Air temperature [K]: 302.3</br>Process temperature [K]: 310.7</br>Rotational speed [rpm]: 1544.0</br>Torque [Nm]: 39.7</br>TWF: 0.0</br>HDF: 0.0</br>PWF: 0.0</br>OSF: 0.0</br>RNF: 0.0</br>_original_yhat_: 0.003318951211417192</br>\"],[\"</br>id: 4176</br>prediction: 0.003</br>Tool wear [min]: 146.73999999999998</br></br>Type: M</br>Air temperature [K]: 302.3</br>Process temperature [K]: 310.7</br>Rotational speed [rpm]: 1544.0</br>Torque [Nm]: 39.7</br>TWF: 0.0</br>HDF: 0.0</br>PWF: 0.0</br>OSF: 0.0</br>RNF: 0.0</br>_original_yhat_: 0.003318951211417192</br>\"],[\"</br>id: 4176</br>prediction: 0.003</br>Tool wear [min]: 149.26999999999998</br></br>Type: M</br>Air temperature [K]: 302.3</br>Process temperature [K]: 310.7</br>Rotational speed [rpm]: 1544.0</br>Torque [Nm]: 39.7</br>TWF: 0.0</br>HDF: 0.0</br>PWF: 0.0</br>OSF: 0.0</br>RNF: 0.0</br>_original_yhat_: 0.003318951211417192</br>\"],[\"</br>id: 4176</br>prediction: 0.003</br>Tool wear [min]: 151.79999999999998</br></br>Type: M</br>Air temperature [K]: 302.3</br>Process temperature [K]: 310.7</br>Rotational speed [rpm]: 1544.0</br>Torque [Nm]: 39.7</br>TWF: 0.0</br>HDF: 0.0</br>PWF: 0.0</br>OSF: 0.0</br>RNF: 0.0</br>_original_yhat_: 0.003318951211417192</br>\"],[\"</br>id: 4176</br>prediction: 0.003</br>Tool wear [min]: 154.32999999999998</br></br>Type: M</br>Air temperature [K]: 302.3</br>Process temperature [K]: 310.7</br>Rotational speed [rpm]: 1544.0</br>Torque [Nm]: 39.7</br>TWF: 0.0</br>HDF: 0.0</br>PWF: 0.0</br>OSF: 0.0</br>RNF: 0.0</br>_original_yhat_: 0.003318951211417192</br>\"],[\"</br>id: 4176</br>prediction: 0.003</br>Tool wear [min]: 156.85999999999999</br></br>Type: M</br>Air temperature [K]: 302.3</br>Process temperature [K]: 310.7</br>Rotational speed [rpm]: 1544.0</br>Torque [Nm]: 39.7</br>TWF: 0.0</br>HDF: 0.0</br>PWF: 0.0</br>OSF: 0.0</br>RNF: 0.0</br>_original_yhat_: 0.003318951211417192</br>\"],[\"</br>id: 4176</br>prediction: 0.003</br>Tool wear [min]: 159.39</br></br>Type: M</br>Air temperature [K]: 302.3</br>Process temperature [K]: 310.7</br>Rotational speed [rpm]: 1544.0</br>Torque [Nm]: 39.7</br>TWF: 0.0</br>HDF: 0.0</br>PWF: 0.0</br>OSF: 0.0</br>RNF: 0.0</br>_original_yhat_: 0.003318951211417192</br>\"],[\"</br>id: 4176</br>prediction: 0.003</br>Tool wear [min]: 161.92</br></br>Type: M</br>Air temperature [K]: 302.3</br>Process temperature [K]: 310.7</br>Rotational speed [rpm]: 1544.0</br>Torque [Nm]: 39.7</br>TWF: 0.0</br>HDF: 0.0</br>PWF: 0.0</br>OSF: 0.0</br>RNF: 0.0</br>_original_yhat_: 0.003318951211417192</br>\"],[\"</br>id: 4176</br>prediction: 0.003</br>Tool wear [min]: 164.45</br></br>Type: M</br>Air temperature [K]: 302.3</br>Process temperature [K]: 310.7</br>Rotational speed [rpm]: 1544.0</br>Torque [Nm]: 39.7</br>TWF: 0.0</br>HDF: 0.0</br>PWF: 0.0</br>OSF: 0.0</br>RNF: 0.0</br>_original_yhat_: 0.003318951211417192</br>\"],[\"</br>id: 4176</br>prediction: 0.003</br>Tool wear [min]: 166.98</br></br>Type: M</br>Air temperature [K]: 302.3</br>Process temperature [K]: 310.7</br>Rotational speed [rpm]: 1544.0</br>Torque [Nm]: 39.7</br>TWF: 0.0</br>HDF: 0.0</br>PWF: 0.0</br>OSF: 0.0</br>RNF: 0.0</br>_original_yhat_: 0.003318951211417192</br>\"],[\"</br>id: 4176</br>prediction: 0.003</br>Tool wear [min]: 169.51</br></br>Type: M</br>Air temperature [K]: 302.3</br>Process temperature [K]: 310.7</br>Rotational speed [rpm]: 1544.0</br>Torque [Nm]: 39.7</br>TWF: 0.0</br>HDF: 0.0</br>PWF: 0.0</br>OSF: 0.0</br>RNF: 0.0</br>_original_yhat_: 0.003318951211417192</br>\"],[\"</br>id: 4176</br>prediction: 0.003</br>Tool wear [min]: 172.04</br></br>Type: M</br>Air temperature [K]: 302.3</br>Process temperature [K]: 310.7</br>Rotational speed [rpm]: 1544.0</br>Torque [Nm]: 39.7</br>TWF: 0.0</br>HDF: 0.0</br>PWF: 0.0</br>OSF: 0.0</br>RNF: 0.0</br>_original_yhat_: 0.003318951211417192</br>\"],[\"</br>id: 4176</br>prediction: 0.003</br>Tool wear [min]: 174.57</br></br>Type: M</br>Air temperature [K]: 302.3</br>Process temperature [K]: 310.7</br>Rotational speed [rpm]: 1544.0</br>Torque [Nm]: 39.7</br>TWF: 0.0</br>HDF: 0.0</br>PWF: 0.0</br>OSF: 0.0</br>RNF: 0.0</br>_original_yhat_: 0.003318951211417192</br>\"],[\"</br>id: 4176</br>prediction: 0.003</br>Tool wear [min]: 177.1</br></br>Type: M</br>Air temperature [K]: 302.3</br>Process temperature [K]: 310.7</br>Rotational speed [rpm]: 1544.0</br>Torque [Nm]: 39.7</br>TWF: 0.0</br>HDF: 0.0</br>PWF: 0.0</br>OSF: 0.0</br>RNF: 0.0</br>_original_yhat_: 0.003318951211417192</br>\"],[\"</br>id: 4176</br>prediction: 0.003</br>Tool wear [min]: 179.63</br></br>Type: M</br>Air temperature [K]: 302.3</br>Process temperature [K]: 310.7</br>Rotational speed [rpm]: 1544.0</br>Torque [Nm]: 39.7</br>TWF: 0.0</br>HDF: 0.0</br>PWF: 0.0</br>OSF: 0.0</br>RNF: 0.0</br>_original_yhat_: 0.003318951211417192</br>\"],[\"</br>id: 4176</br>prediction: 0.003</br>Tool wear [min]: 182.16</br></br>Type: M</br>Air temperature [K]: 302.3</br>Process temperature [K]: 310.7</br>Rotational speed [rpm]: 1544.0</br>Torque [Nm]: 39.7</br>TWF: 0.0</br>HDF: 0.0</br>PWF: 0.0</br>OSF: 0.0</br>RNF: 0.0</br>_original_yhat_: 0.003318951211417192</br>\"],[\"</br>id: 4176</br>prediction: 0.003</br>Tool wear [min]: 184.69</br></br>Type: M</br>Air temperature [K]: 302.3</br>Process temperature [K]: 310.7</br>Rotational speed [rpm]: 1544.0</br>Torque [Nm]: 39.7</br>TWF: 0.0</br>HDF: 0.0</br>PWF: 0.0</br>OSF: 0.0</br>RNF: 0.0</br>_original_yhat_: 0.003318951211417192</br>\"],[\"</br>id: 4176</br>prediction: 0.003</br>Tool wear [min]: 187.22</br></br>Type: M</br>Air temperature [K]: 302.3</br>Process temperature [K]: 310.7</br>Rotational speed [rpm]: 1544.0</br>Torque [Nm]: 39.7</br>TWF: 0.0</br>HDF: 0.0</br>PWF: 0.0</br>OSF: 0.0</br>RNF: 0.0</br>_original_yhat_: 0.003318951211417192</br>\"],[\"</br>id: 4176</br>prediction: 0.003</br>Tool wear [min]: 189.74999999999997</br></br>Type: M</br>Air temperature [K]: 302.3</br>Process temperature [K]: 310.7</br>Rotational speed [rpm]: 1544.0</br>Torque [Nm]: 39.7</br>TWF: 0.0</br>HDF: 0.0</br>PWF: 0.0</br>OSF: 0.0</br>RNF: 0.0</br>_original_yhat_: 0.003318951211417192</br>\"],[\"</br>id: 4176</br>prediction: 0.003</br>Tool wear [min]: 192.27999999999997</br></br>Type: M</br>Air temperature [K]: 302.3</br>Process temperature [K]: 310.7</br>Rotational speed [rpm]: 1544.0</br>Torque [Nm]: 39.7</br>TWF: 0.0</br>HDF: 0.0</br>PWF: 0.0</br>OSF: 0.0</br>RNF: 0.0</br>_original_yhat_: 0.003318951211417192</br>\"],[\"</br>id: 4176</br>prediction: 0.003</br>Tool wear [min]: 194.80999999999997</br></br>Type: M</br>Air temperature [K]: 302.3</br>Process temperature [K]: 310.7</br>Rotational speed [rpm]: 1544.0</br>Torque [Nm]: 39.7</br>TWF: 0.0</br>HDF: 0.0</br>PWF: 0.0</br>OSF: 0.0</br>RNF: 0.0</br>_original_yhat_: 0.003318951211417192</br>\"],[\"</br>id: 4176</br>prediction: 0.003</br>Tool wear [min]: 197.33999999999997</br></br>Type: M</br>Air temperature [K]: 302.3</br>Process temperature [K]: 310.7</br>Rotational speed [rpm]: 1544.0</br>Torque [Nm]: 39.7</br>TWF: 0.0</br>HDF: 0.0</br>PWF: 0.0</br>OSF: 0.0</br>RNF: 0.0</br>_original_yhat_: 0.003318951211417192</br>\"],[\"</br>id: 4176</br>prediction: 0.003</br>Tool wear [min]: 199.86999999999998</br></br>Type: M</br>Air temperature [K]: 302.3</br>Process temperature [K]: 310.7</br>Rotational speed [rpm]: 1544.0</br>Torque [Nm]: 39.7</br>TWF: 0.0</br>HDF: 0.0</br>PWF: 0.0</br>OSF: 0.0</br>RNF: 0.0</br>_original_yhat_: 0.003318951211417192</br>\"],[\"</br>id: 4176</br>prediction: 0.003</br>Tool wear [min]: 202.39999999999998</br></br>Type: M</br>Air temperature [K]: 302.3</br>Process temperature [K]: 310.7</br>Rotational speed [rpm]: 1544.0</br>Torque [Nm]: 39.7</br>TWF: 0.0</br>HDF: 0.0</br>PWF: 0.0</br>OSF: 0.0</br>RNF: 0.0</br>_original_yhat_: 0.003318951211417192</br>\"],[\"</br>id: 4176</br>prediction: 0.003</br>Tool wear [min]: 204.92999999999998</br></br>Type: M</br>Air temperature [K]: 302.3</br>Process temperature [K]: 310.7</br>Rotational speed [rpm]: 1544.0</br>Torque [Nm]: 39.7</br>TWF: 0.0</br>HDF: 0.0</br>PWF: 0.0</br>OSF: 0.0</br>RNF: 0.0</br>_original_yhat_: 0.003318951211417192</br>\"],[\"</br>id: 4176</br>prediction: 0.003</br>Tool wear [min]: 207.45999999999998</br></br>Type: M</br>Air temperature [K]: 302.3</br>Process temperature [K]: 310.7</br>Rotational speed [rpm]: 1544.0</br>Torque [Nm]: 39.7</br>TWF: 0.0</br>HDF: 0.0</br>PWF: 0.0</br>OSF: 0.0</br>RNF: 0.0</br>_original_yhat_: 0.003318951211417192</br>\"],[\"</br>id: 4176</br>prediction: 0.003</br>Tool wear [min]: 209.98999999999998</br></br>Type: M</br>Air temperature [K]: 302.3</br>Process temperature [K]: 310.7</br>Rotational speed [rpm]: 1544.0</br>Torque [Nm]: 39.7</br>TWF: 0.0</br>HDF: 0.0</br>PWF: 0.0</br>OSF: 0.0</br>RNF: 0.0</br>_original_yhat_: 0.003318951211417192</br>\"],[\"</br>id: 4176</br>prediction: 0.003</br>Tool wear [min]: 212.51999999999998</br></br>Type: M</br>Air temperature [K]: 302.3</br>Process temperature [K]: 310.7</br>Rotational speed [rpm]: 1544.0</br>Torque [Nm]: 39.7</br>TWF: 0.0</br>HDF: 0.0</br>PWF: 0.0</br>OSF: 0.0</br>RNF: 0.0</br>_original_yhat_: 0.003318951211417192</br>\"],[\"</br>id: 4176</br>prediction: 0.003</br>Tool wear [min]: 215.04999999999998</br></br>Type: M</br>Air temperature [K]: 302.3</br>Process temperature [K]: 310.7</br>Rotational speed [rpm]: 1544.0</br>Torque [Nm]: 39.7</br>TWF: 0.0</br>HDF: 0.0</br>PWF: 0.0</br>OSF: 0.0</br>RNF: 0.0</br>_original_yhat_: 0.003318951211417192</br>\"],[\"</br>id: 4176</br>prediction: 0.003</br>Tool wear [min]: 217.57999999999998</br></br>Type: M</br>Air temperature [K]: 302.3</br>Process temperature [K]: 310.7</br>Rotational speed [rpm]: 1544.0</br>Torque [Nm]: 39.7</br>TWF: 0.0</br>HDF: 0.0</br>PWF: 0.0</br>OSF: 0.0</br>RNF: 0.0</br>_original_yhat_: 0.003318951211417192</br>\"],[\"</br>id: 4176</br>prediction: 0.003</br>Tool wear [min]: 220.10999999999999</br></br>Type: M</br>Air temperature [K]: 302.3</br>Process temperature [K]: 310.7</br>Rotational speed [rpm]: 1544.0</br>Torque [Nm]: 39.7</br>TWF: 0.0</br>HDF: 0.0</br>PWF: 0.0</br>OSF: 0.0</br>RNF: 0.0</br>_original_yhat_: 0.003318951211417192</br>\"],[\"</br>id: 4176</br>prediction: 0.003</br>Tool wear [min]: 222.64</br></br>Type: M</br>Air temperature [K]: 302.3</br>Process temperature [K]: 310.7</br>Rotational speed [rpm]: 1544.0</br>Torque [Nm]: 39.7</br>TWF: 0.0</br>HDF: 0.0</br>PWF: 0.0</br>OSF: 0.0</br>RNF: 0.0</br>_original_yhat_: 0.003318951211417192</br>\"],[\"</br>id: 4176</br>prediction: 0.003</br>Tool wear [min]: 225.17</br></br>Type: M</br>Air temperature [K]: 302.3</br>Process temperature [K]: 310.7</br>Rotational speed [rpm]: 1544.0</br>Torque [Nm]: 39.7</br>TWF: 0.0</br>HDF: 0.0</br>PWF: 0.0</br>OSF: 0.0</br>RNF: 0.0</br>_original_yhat_: 0.003318951211417192</br>\"],[\"</br>id: 4176</br>prediction: 0.003</br>Tool wear [min]: 227.7</br></br>Type: M</br>Air temperature [K]: 302.3</br>Process temperature [K]: 310.7</br>Rotational speed [rpm]: 1544.0</br>Torque [Nm]: 39.7</br>TWF: 0.0</br>HDF: 0.0</br>PWF: 0.0</br>OSF: 0.0</br>RNF: 0.0</br>_original_yhat_: 0.003318951211417192</br>\"],[\"</br>id: 4176</br>prediction: 0.003</br>Tool wear [min]: 230.23</br></br>Type: M</br>Air temperature [K]: 302.3</br>Process temperature [K]: 310.7</br>Rotational speed [rpm]: 1544.0</br>Torque [Nm]: 39.7</br>TWF: 0.0</br>HDF: 0.0</br>PWF: 0.0</br>OSF: 0.0</br>RNF: 0.0</br>_original_yhat_: 0.003318951211417192</br>\"],[\"</br>id: 4176</br>prediction: 0.003</br>Tool wear [min]: 232.76</br></br>Type: M</br>Air temperature [K]: 302.3</br>Process temperature [K]: 310.7</br>Rotational speed [rpm]: 1544.0</br>Torque [Nm]: 39.7</br>TWF: 0.0</br>HDF: 0.0</br>PWF: 0.0</br>OSF: 0.0</br>RNF: 0.0</br>_original_yhat_: 0.003318951211417192</br>\"],[\"</br>id: 4176</br>prediction: 0.003</br>Tool wear [min]: 235.29</br></br>Type: M</br>Air temperature [K]: 302.3</br>Process temperature [K]: 310.7</br>Rotational speed [rpm]: 1544.0</br>Torque [Nm]: 39.7</br>TWF: 0.0</br>HDF: 0.0</br>PWF: 0.0</br>OSF: 0.0</br>RNF: 0.0</br>_original_yhat_: 0.003318951211417192</br>\"],[\"</br>id: 4176</br>prediction: 0.003</br>Tool wear [min]: 237.82</br></br>Type: M</br>Air temperature [K]: 302.3</br>Process temperature [K]: 310.7</br>Rotational speed [rpm]: 1544.0</br>Torque [Nm]: 39.7</br>TWF: 0.0</br>HDF: 0.0</br>PWF: 0.0</br>OSF: 0.0</br>RNF: 0.0</br>_original_yhat_: 0.003318951211417192</br>\"],[\"</br>id: 4176</br>prediction: 0.003</br>Tool wear [min]: 240.35</br></br>Type: M</br>Air temperature [K]: 302.3</br>Process temperature [K]: 310.7</br>Rotational speed [rpm]: 1544.0</br>Torque [Nm]: 39.7</br>TWF: 0.0</br>HDF: 0.0</br>PWF: 0.0</br>OSF: 0.0</br>RNF: 0.0</br>_original_yhat_: 0.003318951211417192</br>\"],[\"</br>id: 4176</br>prediction: 0.003</br>Tool wear [min]: 242.88</br></br>Type: M</br>Air temperature [K]: 302.3</br>Process temperature [K]: 310.7</br>Rotational speed [rpm]: 1544.0</br>Torque [Nm]: 39.7</br>TWF: 0.0</br>HDF: 0.0</br>PWF: 0.0</br>OSF: 0.0</br>RNF: 0.0</br>_original_yhat_: 0.003318951211417192</br>\"],[\"</br>id: 4176</br>prediction: 0.003</br>Tool wear [min]: 245.40999999999997</br></br>Type: M</br>Air temperature [K]: 302.3</br>Process temperature [K]: 310.7</br>Rotational speed [rpm]: 1544.0</br>Torque [Nm]: 39.7</br>TWF: 0.0</br>HDF: 0.0</br>PWF: 0.0</br>OSF: 0.0</br>RNF: 0.0</br>_original_yhat_: 0.003318951211417192</br>\"],[\"</br>id: 4176</br>prediction: 0.003</br>Tool wear [min]: 247.93999999999997</br></br>Type: M</br>Air temperature [K]: 302.3</br>Process temperature [K]: 310.7</br>Rotational speed [rpm]: 1544.0</br>Torque [Nm]: 39.7</br>TWF: 0.0</br>HDF: 0.0</br>PWF: 0.0</br>OSF: 0.0</br>RNF: 0.0</br>_original_yhat_: 0.003318951211417192</br>\"],[\"</br>id: 4176</br>prediction: 0.003</br>Tool wear [min]: 250.46999999999997</br></br>Type: M</br>Air temperature [K]: 302.3</br>Process temperature [K]: 310.7</br>Rotational speed [rpm]: 1544.0</br>Torque [Nm]: 39.7</br>TWF: 0.0</br>HDF: 0.0</br>PWF: 0.0</br>OSF: 0.0</br>RNF: 0.0</br>_original_yhat_: 0.003318951211417192</br>\"],[\"</br>id: 4176</br>prediction: 0.003</br>Tool wear [min]: 253.0</br></br>Type: M</br>Air temperature [K]: 302.3</br>Process temperature [K]: 310.7</br>Rotational speed [rpm]: 1544.0</br>Torque [Nm]: 39.7</br>TWF: 0.0</br>HDF: 0.0</br>PWF: 0.0</br>OSF: 0.0</br>RNF: 0.0</br>_original_yhat_: 0.003318951211417192</br>\"]],\"hovertemplate\":\"%{customdata[0]}<extra></extra>\",\"legendgroup\":\"testing\",\"line\":{\"color\":\"#46bac2\",\"dash\":\"solid\",\"width\":2},\"marker\":{\"symbol\":\"circle\"},\"mode\":\"lines\",\"name\":\"testing\",\"showlegend\":false,\"x\":[0.0,2.53,5.06,7.59,10.12,12.649999999999999,15.18,17.709999999999997,20.24,22.77,25.299999999999997,27.83,30.36,32.89,35.419999999999995,37.949999999999996,40.48,43.01,45.54,48.06999999999999,50.599999999999994,53.129999999999995,55.66,58.19,60.72,63.24999999999999,65.78,68.30999999999999,70.83999999999999,73.36999999999999,75.89999999999999,78.42999999999999,80.96,83.49,86.02,88.55,91.08,93.61,96.13999999999999,98.66999999999999,101.19999999999999,103.72999999999999,106.25999999999999,108.78999999999999,111.32,113.85,116.38,118.91,121.44,123.96999999999998,126.49999999999999,129.03,131.56,134.09,136.61999999999998,139.14999999999998,141.0,141.67999999999998,144.20999999999998,146.73999999999998,149.26999999999998,151.79999999999998,154.32999999999998,156.85999999999999,159.39,161.92,164.45,166.98,169.51,172.04,174.57,177.1,179.63,182.16,184.69,187.22,189.74999999999997,192.27999999999997,194.80999999999997,197.33999999999997,199.86999999999998,202.39999999999998,204.92999999999998,207.45999999999998,209.98999999999998,212.51999999999998,215.04999999999998,217.57999999999998,220.10999999999999,222.64,225.17,227.7,230.23,232.76,235.29,237.82,240.35,242.88,245.40999999999997,247.93999999999997,250.46999999999997,253.0],\"xaxis\":\"x5\",\"y\":[0.000859106529209622,0.000859106529209622,0.000859106529209622,0.000859106529209622,0.000859106529209622,0.000859106529209622,0.000859106529209622,0.000859106529209622,0.000859106529209622,0.000859106529209622,0.000859106529209622,0.000859106529209622,0.000859106529209622,0.000859106529209622,0.000859106529209622,0.000859106529209622,0.000859106529209622,0.000859106529209622,0.000859106529209622,0.000859106529209622,0.000859106529209622,0.000859106529209622,0.000859106529209622,0.000859106529209622,0.000859106529209622,0.000859106529209622,0.000859106529209622,0.000859106529209622,0.000859106529209622,0.000859106529209622,0.000859106529209622,0.000859106529209622,0.000859106529209622,0.000859106529209622,0.000859106529209622,0.000859106529209622,0.000859106529209622,0.000859106529209622,0.000859106529209622,0.000859106529209622,0.000859106529209622,0.000859106529209622,0.000859106529209622,0.000859106529209622,0.000859106529209622,0.000859106529209622,0.000859106529209622,0.000859106529209622,0.000859106529209622,0.000859106529209622,0.000859106529209622,0.000859106529209622,0.003318951211417192,0.003318951211417192,0.003318951211417192,0.003318951211417192,0.003318951211417192,0.003318951211417192,0.003318951211417192,0.003318951211417192,0.003318951211417192,0.003318951211417192,0.003318951211417192,0.003318951211417192,0.003318951211417192,0.003318951211417192,0.003318951211417192,0.003318951211417192,0.003318951211417192,0.003318951211417192,0.003318951211417192,0.003318951211417192,0.003318951211417192,0.003318951211417192,0.003318951211417192,0.003318951211417192,0.003318951211417192,0.003318951211417192,0.003318951211417192,0.003318951211417192,0.003318951211417192,0.003318951211417192,0.003318951211417192,0.003318951211417192,0.003318951211417192,0.003318951211417192,0.003318951211417192,0.003318951211417192,0.003318951211417192,0.003318951211417192,0.003318951211417192,0.003318951211417192,0.003318951211417192,0.003318951211417192,0.003318951211417192,0.003318951211417192,0.003318951211417192,0.003318951211417192,0.003318951211417192,0.003318951211417192,0.003318951211417192,0.003318951211417192],\"yaxis\":\"y5\",\"type\":\"scattergl\",\"opacity\":1},{\"customdata\":[[\"</br>id: 4176</br>prediction: 0.003</br>TWF: 0.0</br></br>Type: M</br>Air temperature [K]: 302.3</br>Process temperature [K]: 310.7</br>Rotational speed [rpm]: 1544.0</br>Torque [Nm]: 39.7</br>Tool wear [min]: 141.0</br>HDF: 0.0</br>PWF: 0.0</br>OSF: 0.0</br>RNF: 0.0</br>_original_yhat_: 0.003318951211417192</br>\"],[\"</br>id: 4176</br>prediction: 0.003</br>TWF: 0.01</br></br>Type: M</br>Air temperature [K]: 302.3</br>Process temperature [K]: 310.7</br>Rotational speed [rpm]: 1544.0</br>Torque [Nm]: 39.7</br>Tool wear [min]: 141.0</br>HDF: 0.0</br>PWF: 0.0</br>OSF: 0.0</br>RNF: 0.0</br>_original_yhat_: 0.003318951211417192</br>\"],[\"</br>id: 4176</br>prediction: 0.003</br>TWF: 0.02</br></br>Type: M</br>Air temperature [K]: 302.3</br>Process temperature [K]: 310.7</br>Rotational speed [rpm]: 1544.0</br>Torque [Nm]: 39.7</br>Tool wear [min]: 141.0</br>HDF: 0.0</br>PWF: 0.0</br>OSF: 0.0</br>RNF: 0.0</br>_original_yhat_: 0.003318951211417192</br>\"],[\"</br>id: 4176</br>prediction: 0.003</br>TWF: 0.03</br></br>Type: M</br>Air temperature [K]: 302.3</br>Process temperature [K]: 310.7</br>Rotational speed [rpm]: 1544.0</br>Torque [Nm]: 39.7</br>Tool wear [min]: 141.0</br>HDF: 0.0</br>PWF: 0.0</br>OSF: 0.0</br>RNF: 0.0</br>_original_yhat_: 0.003318951211417192</br>\"],[\"</br>id: 4176</br>prediction: 0.003</br>TWF: 0.04</br></br>Type: M</br>Air temperature [K]: 302.3</br>Process temperature [K]: 310.7</br>Rotational speed [rpm]: 1544.0</br>Torque [Nm]: 39.7</br>Tool wear [min]: 141.0</br>HDF: 0.0</br>PWF: 0.0</br>OSF: 0.0</br>RNF: 0.0</br>_original_yhat_: 0.003318951211417192</br>\"],[\"</br>id: 4176</br>prediction: 0.003</br>TWF: 0.05</br></br>Type: M</br>Air temperature [K]: 302.3</br>Process temperature [K]: 310.7</br>Rotational speed [rpm]: 1544.0</br>Torque [Nm]: 39.7</br>Tool wear [min]: 141.0</br>HDF: 0.0</br>PWF: 0.0</br>OSF: 0.0</br>RNF: 0.0</br>_original_yhat_: 0.003318951211417192</br>\"],[\"</br>id: 4176</br>prediction: 0.003</br>TWF: 0.06</br></br>Type: M</br>Air temperature [K]: 302.3</br>Process temperature [K]: 310.7</br>Rotational speed [rpm]: 1544.0</br>Torque [Nm]: 39.7</br>Tool wear [min]: 141.0</br>HDF: 0.0</br>PWF: 0.0</br>OSF: 0.0</br>RNF: 0.0</br>_original_yhat_: 0.003318951211417192</br>\"],[\"</br>id: 4176</br>prediction: 0.003</br>TWF: 0.07</br></br>Type: M</br>Air temperature [K]: 302.3</br>Process temperature [K]: 310.7</br>Rotational speed [rpm]: 1544.0</br>Torque [Nm]: 39.7</br>Tool wear [min]: 141.0</br>HDF: 0.0</br>PWF: 0.0</br>OSF: 0.0</br>RNF: 0.0</br>_original_yhat_: 0.003318951211417192</br>\"],[\"</br>id: 4176</br>prediction: 0.003</br>TWF: 0.08</br></br>Type: M</br>Air temperature [K]: 302.3</br>Process temperature [K]: 310.7</br>Rotational speed [rpm]: 1544.0</br>Torque [Nm]: 39.7</br>Tool wear [min]: 141.0</br>HDF: 0.0</br>PWF: 0.0</br>OSF: 0.0</br>RNF: 0.0</br>_original_yhat_: 0.003318951211417192</br>\"],[\"</br>id: 4176</br>prediction: 0.003</br>TWF: 0.09</br></br>Type: M</br>Air temperature [K]: 302.3</br>Process temperature [K]: 310.7</br>Rotational speed [rpm]: 1544.0</br>Torque [Nm]: 39.7</br>Tool wear [min]: 141.0</br>HDF: 0.0</br>PWF: 0.0</br>OSF: 0.0</br>RNF: 0.0</br>_original_yhat_: 0.003318951211417192</br>\"],[\"</br>id: 4176</br>prediction: 0.003</br>TWF: 0.1</br></br>Type: M</br>Air temperature [K]: 302.3</br>Process temperature [K]: 310.7</br>Rotational speed [rpm]: 1544.0</br>Torque [Nm]: 39.7</br>Tool wear [min]: 141.0</br>HDF: 0.0</br>PWF: 0.0</br>OSF: 0.0</br>RNF: 0.0</br>_original_yhat_: 0.003318951211417192</br>\"],[\"</br>id: 4176</br>prediction: 0.003</br>TWF: 0.11</br></br>Type: M</br>Air temperature [K]: 302.3</br>Process temperature [K]: 310.7</br>Rotational speed [rpm]: 1544.0</br>Torque [Nm]: 39.7</br>Tool wear [min]: 141.0</br>HDF: 0.0</br>PWF: 0.0</br>OSF: 0.0</br>RNF: 0.0</br>_original_yhat_: 0.003318951211417192</br>\"],[\"</br>id: 4176</br>prediction: 0.003</br>TWF: 0.12</br></br>Type: M</br>Air temperature [K]: 302.3</br>Process temperature [K]: 310.7</br>Rotational speed [rpm]: 1544.0</br>Torque [Nm]: 39.7</br>Tool wear [min]: 141.0</br>HDF: 0.0</br>PWF: 0.0</br>OSF: 0.0</br>RNF: 0.0</br>_original_yhat_: 0.003318951211417192</br>\"],[\"</br>id: 4176</br>prediction: 0.003</br>TWF: 0.13</br></br>Type: M</br>Air temperature [K]: 302.3</br>Process temperature [K]: 310.7</br>Rotational speed [rpm]: 1544.0</br>Torque [Nm]: 39.7</br>Tool wear [min]: 141.0</br>HDF: 0.0</br>PWF: 0.0</br>OSF: 0.0</br>RNF: 0.0</br>_original_yhat_: 0.003318951211417192</br>\"],[\"</br>id: 4176</br>prediction: 0.003</br>TWF: 0.14</br></br>Type: M</br>Air temperature [K]: 302.3</br>Process temperature [K]: 310.7</br>Rotational speed [rpm]: 1544.0</br>Torque [Nm]: 39.7</br>Tool wear [min]: 141.0</br>HDF: 0.0</br>PWF: 0.0</br>OSF: 0.0</br>RNF: 0.0</br>_original_yhat_: 0.003318951211417192</br>\"],[\"</br>id: 4176</br>prediction: 0.003</br>TWF: 0.15</br></br>Type: M</br>Air temperature [K]: 302.3</br>Process temperature [K]: 310.7</br>Rotational speed [rpm]: 1544.0</br>Torque [Nm]: 39.7</br>Tool wear [min]: 141.0</br>HDF: 0.0</br>PWF: 0.0</br>OSF: 0.0</br>RNF: 0.0</br>_original_yhat_: 0.003318951211417192</br>\"],[\"</br>id: 4176</br>prediction: 0.003</br>TWF: 0.16</br></br>Type: M</br>Air temperature [K]: 302.3</br>Process temperature [K]: 310.7</br>Rotational speed [rpm]: 1544.0</br>Torque [Nm]: 39.7</br>Tool wear [min]: 141.0</br>HDF: 0.0</br>PWF: 0.0</br>OSF: 0.0</br>RNF: 0.0</br>_original_yhat_: 0.003318951211417192</br>\"],[\"</br>id: 4176</br>prediction: 0.003</br>TWF: 0.17</br></br>Type: M</br>Air temperature [K]: 302.3</br>Process temperature [K]: 310.7</br>Rotational speed [rpm]: 1544.0</br>Torque [Nm]: 39.7</br>Tool wear [min]: 141.0</br>HDF: 0.0</br>PWF: 0.0</br>OSF: 0.0</br>RNF: 0.0</br>_original_yhat_: 0.003318951211417192</br>\"],[\"</br>id: 4176</br>prediction: 0.003</br>TWF: 0.18</br></br>Type: M</br>Air temperature [K]: 302.3</br>Process temperature [K]: 310.7</br>Rotational speed [rpm]: 1544.0</br>Torque [Nm]: 39.7</br>Tool wear [min]: 141.0</br>HDF: 0.0</br>PWF: 0.0</br>OSF: 0.0</br>RNF: 0.0</br>_original_yhat_: 0.003318951211417192</br>\"],[\"</br>id: 4176</br>prediction: 0.003</br>TWF: 0.19</br></br>Type: M</br>Air temperature [K]: 302.3</br>Process temperature [K]: 310.7</br>Rotational speed [rpm]: 1544.0</br>Torque [Nm]: 39.7</br>Tool wear [min]: 141.0</br>HDF: 0.0</br>PWF: 0.0</br>OSF: 0.0</br>RNF: 0.0</br>_original_yhat_: 0.003318951211417192</br>\"],[\"</br>id: 4176</br>prediction: 0.003</br>TWF: 0.2</br></br>Type: M</br>Air temperature [K]: 302.3</br>Process temperature [K]: 310.7</br>Rotational speed [rpm]: 1544.0</br>Torque [Nm]: 39.7</br>Tool wear [min]: 141.0</br>HDF: 0.0</br>PWF: 0.0</br>OSF: 0.0</br>RNF: 0.0</br>_original_yhat_: 0.003318951211417192</br>\"],[\"</br>id: 4176</br>prediction: 0.003</br>TWF: 0.21</br></br>Type: M</br>Air temperature [K]: 302.3</br>Process temperature [K]: 310.7</br>Rotational speed [rpm]: 1544.0</br>Torque [Nm]: 39.7</br>Tool wear [min]: 141.0</br>HDF: 0.0</br>PWF: 0.0</br>OSF: 0.0</br>RNF: 0.0</br>_original_yhat_: 0.003318951211417192</br>\"],[\"</br>id: 4176</br>prediction: 0.003</br>TWF: 0.22</br></br>Type: M</br>Air temperature [K]: 302.3</br>Process temperature [K]: 310.7</br>Rotational speed [rpm]: 1544.0</br>Torque [Nm]: 39.7</br>Tool wear [min]: 141.0</br>HDF: 0.0</br>PWF: 0.0</br>OSF: 0.0</br>RNF: 0.0</br>_original_yhat_: 0.003318951211417192</br>\"],[\"</br>id: 4176</br>prediction: 0.003</br>TWF: 0.23</br></br>Type: M</br>Air temperature [K]: 302.3</br>Process temperature [K]: 310.7</br>Rotational speed [rpm]: 1544.0</br>Torque [Nm]: 39.7</br>Tool wear [min]: 141.0</br>HDF: 0.0</br>PWF: 0.0</br>OSF: 0.0</br>RNF: 0.0</br>_original_yhat_: 0.003318951211417192</br>\"],[\"</br>id: 4176</br>prediction: 0.003</br>TWF: 0.24</br></br>Type: M</br>Air temperature [K]: 302.3</br>Process temperature [K]: 310.7</br>Rotational speed [rpm]: 1544.0</br>Torque [Nm]: 39.7</br>Tool wear [min]: 141.0</br>HDF: 0.0</br>PWF: 0.0</br>OSF: 0.0</br>RNF: 0.0</br>_original_yhat_: 0.003318951211417192</br>\"],[\"</br>id: 4176</br>prediction: 0.003</br>TWF: 0.25</br></br>Type: M</br>Air temperature [K]: 302.3</br>Process temperature [K]: 310.7</br>Rotational speed [rpm]: 1544.0</br>Torque [Nm]: 39.7</br>Tool wear [min]: 141.0</br>HDF: 0.0</br>PWF: 0.0</br>OSF: 0.0</br>RNF: 0.0</br>_original_yhat_: 0.003318951211417192</br>\"],[\"</br>id: 4176</br>prediction: 0.003</br>TWF: 0.26</br></br>Type: M</br>Air temperature [K]: 302.3</br>Process temperature [K]: 310.7</br>Rotational speed [rpm]: 1544.0</br>Torque [Nm]: 39.7</br>Tool wear [min]: 141.0</br>HDF: 0.0</br>PWF: 0.0</br>OSF: 0.0</br>RNF: 0.0</br>_original_yhat_: 0.003318951211417192</br>\"],[\"</br>id: 4176</br>prediction: 0.003</br>TWF: 0.27</br></br>Type: M</br>Air temperature [K]: 302.3</br>Process temperature [K]: 310.7</br>Rotational speed [rpm]: 1544.0</br>Torque [Nm]: 39.7</br>Tool wear [min]: 141.0</br>HDF: 0.0</br>PWF: 0.0</br>OSF: 0.0</br>RNF: 0.0</br>_original_yhat_: 0.003318951211417192</br>\"],[\"</br>id: 4176</br>prediction: 0.003</br>TWF: 0.28</br></br>Type: M</br>Air temperature [K]: 302.3</br>Process temperature [K]: 310.7</br>Rotational speed [rpm]: 1544.0</br>Torque [Nm]: 39.7</br>Tool wear [min]: 141.0</br>HDF: 0.0</br>PWF: 0.0</br>OSF: 0.0</br>RNF: 0.0</br>_original_yhat_: 0.003318951211417192</br>\"],[\"</br>id: 4176</br>prediction: 0.003</br>TWF: 0.29</br></br>Type: M</br>Air temperature [K]: 302.3</br>Process temperature [K]: 310.7</br>Rotational speed [rpm]: 1544.0</br>Torque [Nm]: 39.7</br>Tool wear [min]: 141.0</br>HDF: 0.0</br>PWF: 0.0</br>OSF: 0.0</br>RNF: 0.0</br>_original_yhat_: 0.003318951211417192</br>\"],[\"</br>id: 4176</br>prediction: 0.003</br>TWF: 0.3</br></br>Type: M</br>Air temperature [K]: 302.3</br>Process temperature [K]: 310.7</br>Rotational speed [rpm]: 1544.0</br>Torque [Nm]: 39.7</br>Tool wear [min]: 141.0</br>HDF: 0.0</br>PWF: 0.0</br>OSF: 0.0</br>RNF: 0.0</br>_original_yhat_: 0.003318951211417192</br>\"],[\"</br>id: 4176</br>prediction: 0.003</br>TWF: 0.31</br></br>Type: M</br>Air temperature [K]: 302.3</br>Process temperature [K]: 310.7</br>Rotational speed [rpm]: 1544.0</br>Torque [Nm]: 39.7</br>Tool wear [min]: 141.0</br>HDF: 0.0</br>PWF: 0.0</br>OSF: 0.0</br>RNF: 0.0</br>_original_yhat_: 0.003318951211417192</br>\"],[\"</br>id: 4176</br>prediction: 0.003</br>TWF: 0.32</br></br>Type: M</br>Air temperature [K]: 302.3</br>Process temperature [K]: 310.7</br>Rotational speed [rpm]: 1544.0</br>Torque [Nm]: 39.7</br>Tool wear [min]: 141.0</br>HDF: 0.0</br>PWF: 0.0</br>OSF: 0.0</br>RNF: 0.0</br>_original_yhat_: 0.003318951211417192</br>\"],[\"</br>id: 4176</br>prediction: 0.003</br>TWF: 0.33</br></br>Type: M</br>Air temperature [K]: 302.3</br>Process temperature [K]: 310.7</br>Rotational speed [rpm]: 1544.0</br>Torque [Nm]: 39.7</br>Tool wear [min]: 141.0</br>HDF: 0.0</br>PWF: 0.0</br>OSF: 0.0</br>RNF: 0.0</br>_original_yhat_: 0.003318951211417192</br>\"],[\"</br>id: 4176</br>prediction: 0.003</br>TWF: 0.34</br></br>Type: M</br>Air temperature [K]: 302.3</br>Process temperature [K]: 310.7</br>Rotational speed [rpm]: 1544.0</br>Torque [Nm]: 39.7</br>Tool wear [min]: 141.0</br>HDF: 0.0</br>PWF: 0.0</br>OSF: 0.0</br>RNF: 0.0</br>_original_yhat_: 0.003318951211417192</br>\"],[\"</br>id: 4176</br>prediction: 0.003</br>TWF: 0.35000000000000003</br></br>Type: M</br>Air temperature [K]: 302.3</br>Process temperature [K]: 310.7</br>Rotational speed [rpm]: 1544.0</br>Torque [Nm]: 39.7</br>Tool wear [min]: 141.0</br>HDF: 0.0</br>PWF: 0.0</br>OSF: 0.0</br>RNF: 0.0</br>_original_yhat_: 0.003318951211417192</br>\"],[\"</br>id: 4176</br>prediction: 0.003</br>TWF: 0.36</br></br>Type: M</br>Air temperature [K]: 302.3</br>Process temperature [K]: 310.7</br>Rotational speed [rpm]: 1544.0</br>Torque [Nm]: 39.7</br>Tool wear [min]: 141.0</br>HDF: 0.0</br>PWF: 0.0</br>OSF: 0.0</br>RNF: 0.0</br>_original_yhat_: 0.003318951211417192</br>\"],[\"</br>id: 4176</br>prediction: 0.003</br>TWF: 0.37</br></br>Type: M</br>Air temperature [K]: 302.3</br>Process temperature [K]: 310.7</br>Rotational speed [rpm]: 1544.0</br>Torque [Nm]: 39.7</br>Tool wear [min]: 141.0</br>HDF: 0.0</br>PWF: 0.0</br>OSF: 0.0</br>RNF: 0.0</br>_original_yhat_: 0.003318951211417192</br>\"],[\"</br>id: 4176</br>prediction: 0.003</br>TWF: 0.38</br></br>Type: M</br>Air temperature [K]: 302.3</br>Process temperature [K]: 310.7</br>Rotational speed [rpm]: 1544.0</br>Torque [Nm]: 39.7</br>Tool wear [min]: 141.0</br>HDF: 0.0</br>PWF: 0.0</br>OSF: 0.0</br>RNF: 0.0</br>_original_yhat_: 0.003318951211417192</br>\"],[\"</br>id: 4176</br>prediction: 0.003</br>TWF: 0.39</br></br>Type: M</br>Air temperature [K]: 302.3</br>Process temperature [K]: 310.7</br>Rotational speed [rpm]: 1544.0</br>Torque [Nm]: 39.7</br>Tool wear [min]: 141.0</br>HDF: 0.0</br>PWF: 0.0</br>OSF: 0.0</br>RNF: 0.0</br>_original_yhat_: 0.003318951211417192</br>\"],[\"</br>id: 4176</br>prediction: 0.003</br>TWF: 0.4</br></br>Type: M</br>Air temperature [K]: 302.3</br>Process temperature [K]: 310.7</br>Rotational speed [rpm]: 1544.0</br>Torque [Nm]: 39.7</br>Tool wear [min]: 141.0</br>HDF: 0.0</br>PWF: 0.0</br>OSF: 0.0</br>RNF: 0.0</br>_original_yhat_: 0.003318951211417192</br>\"],[\"</br>id: 4176</br>prediction: 0.003</br>TWF: 0.41000000000000003</br></br>Type: M</br>Air temperature [K]: 302.3</br>Process temperature [K]: 310.7</br>Rotational speed [rpm]: 1544.0</br>Torque [Nm]: 39.7</br>Tool wear [min]: 141.0</br>HDF: 0.0</br>PWF: 0.0</br>OSF: 0.0</br>RNF: 0.0</br>_original_yhat_: 0.003318951211417192</br>\"],[\"</br>id: 4176</br>prediction: 0.003</br>TWF: 0.42</br></br>Type: M</br>Air temperature [K]: 302.3</br>Process temperature [K]: 310.7</br>Rotational speed [rpm]: 1544.0</br>Torque [Nm]: 39.7</br>Tool wear [min]: 141.0</br>HDF: 0.0</br>PWF: 0.0</br>OSF: 0.0</br>RNF: 0.0</br>_original_yhat_: 0.003318951211417192</br>\"],[\"</br>id: 4176</br>prediction: 0.003</br>TWF: 0.43</br></br>Type: M</br>Air temperature [K]: 302.3</br>Process temperature [K]: 310.7</br>Rotational speed [rpm]: 1544.0</br>Torque [Nm]: 39.7</br>Tool wear [min]: 141.0</br>HDF: 0.0</br>PWF: 0.0</br>OSF: 0.0</br>RNF: 0.0</br>_original_yhat_: 0.003318951211417192</br>\"],[\"</br>id: 4176</br>prediction: 0.003</br>TWF: 0.44</br></br>Type: M</br>Air temperature [K]: 302.3</br>Process temperature [K]: 310.7</br>Rotational speed [rpm]: 1544.0</br>Torque [Nm]: 39.7</br>Tool wear [min]: 141.0</br>HDF: 0.0</br>PWF: 0.0</br>OSF: 0.0</br>RNF: 0.0</br>_original_yhat_: 0.003318951211417192</br>\"],[\"</br>id: 4176</br>prediction: 0.003</br>TWF: 0.45</br></br>Type: M</br>Air temperature [K]: 302.3</br>Process temperature [K]: 310.7</br>Rotational speed [rpm]: 1544.0</br>Torque [Nm]: 39.7</br>Tool wear [min]: 141.0</br>HDF: 0.0</br>PWF: 0.0</br>OSF: 0.0</br>RNF: 0.0</br>_original_yhat_: 0.003318951211417192</br>\"],[\"</br>id: 4176</br>prediction: 0.003</br>TWF: 0.46</br></br>Type: M</br>Air temperature [K]: 302.3</br>Process temperature [K]: 310.7</br>Rotational speed [rpm]: 1544.0</br>Torque [Nm]: 39.7</br>Tool wear [min]: 141.0</br>HDF: 0.0</br>PWF: 0.0</br>OSF: 0.0</br>RNF: 0.0</br>_original_yhat_: 0.003318951211417192</br>\"],[\"</br>id: 4176</br>prediction: 0.003</br>TWF: 0.47000000000000003</br></br>Type: M</br>Air temperature [K]: 302.3</br>Process temperature [K]: 310.7</br>Rotational speed [rpm]: 1544.0</br>Torque [Nm]: 39.7</br>Tool wear [min]: 141.0</br>HDF: 0.0</br>PWF: 0.0</br>OSF: 0.0</br>RNF: 0.0</br>_original_yhat_: 0.003318951211417192</br>\"],[\"</br>id: 4176</br>prediction: 0.003</br>TWF: 0.48</br></br>Type: M</br>Air temperature [K]: 302.3</br>Process temperature [K]: 310.7</br>Rotational speed [rpm]: 1544.0</br>Torque [Nm]: 39.7</br>Tool wear [min]: 141.0</br>HDF: 0.0</br>PWF: 0.0</br>OSF: 0.0</br>RNF: 0.0</br>_original_yhat_: 0.003318951211417192</br>\"],[\"</br>id: 4176</br>prediction: 0.003</br>TWF: 0.49</br></br>Type: M</br>Air temperature [K]: 302.3</br>Process temperature [K]: 310.7</br>Rotational speed [rpm]: 1544.0</br>Torque [Nm]: 39.7</br>Tool wear [min]: 141.0</br>HDF: 0.0</br>PWF: 0.0</br>OSF: 0.0</br>RNF: 0.0</br>_original_yhat_: 0.003318951211417192</br>\"],[\"</br>id: 4176</br>prediction: 0.003</br>TWF: 0.5</br></br>Type: M</br>Air temperature [K]: 302.3</br>Process temperature [K]: 310.7</br>Rotational speed [rpm]: 1544.0</br>Torque [Nm]: 39.7</br>Tool wear [min]: 141.0</br>HDF: 0.0</br>PWF: 0.0</br>OSF: 0.0</br>RNF: 0.0</br>_original_yhat_: 0.003318951211417192</br>\"],[\"</br>id: 4176</br>prediction: 0.003</br>TWF: 0.51</br></br>Type: M</br>Air temperature [K]: 302.3</br>Process temperature [K]: 310.7</br>Rotational speed [rpm]: 1544.0</br>Torque [Nm]: 39.7</br>Tool wear [min]: 141.0</br>HDF: 0.0</br>PWF: 0.0</br>OSF: 0.0</br>RNF: 0.0</br>_original_yhat_: 0.003318951211417192</br>\"],[\"</br>id: 4176</br>prediction: 0.003</br>TWF: 0.52</br></br>Type: M</br>Air temperature [K]: 302.3</br>Process temperature [K]: 310.7</br>Rotational speed [rpm]: 1544.0</br>Torque [Nm]: 39.7</br>Tool wear [min]: 141.0</br>HDF: 0.0</br>PWF: 0.0</br>OSF: 0.0</br>RNF: 0.0</br>_original_yhat_: 0.003318951211417192</br>\"],[\"</br>id: 4176</br>prediction: 0.003</br>TWF: 0.53</br></br>Type: M</br>Air temperature [K]: 302.3</br>Process temperature [K]: 310.7</br>Rotational speed [rpm]: 1544.0</br>Torque [Nm]: 39.7</br>Tool wear [min]: 141.0</br>HDF: 0.0</br>PWF: 0.0</br>OSF: 0.0</br>RNF: 0.0</br>_original_yhat_: 0.003318951211417192</br>\"],[\"</br>id: 4176</br>prediction: 0.003</br>TWF: 0.54</br></br>Type: M</br>Air temperature [K]: 302.3</br>Process temperature [K]: 310.7</br>Rotational speed [rpm]: 1544.0</br>Torque [Nm]: 39.7</br>Tool wear [min]: 141.0</br>HDF: 0.0</br>PWF: 0.0</br>OSF: 0.0</br>RNF: 0.0</br>_original_yhat_: 0.003318951211417192</br>\"],[\"</br>id: 4176</br>prediction: 0.003</br>TWF: 0.55</br></br>Type: M</br>Air temperature [K]: 302.3</br>Process temperature [K]: 310.7</br>Rotational speed [rpm]: 1544.0</br>Torque [Nm]: 39.7</br>Tool wear [min]: 141.0</br>HDF: 0.0</br>PWF: 0.0</br>OSF: 0.0</br>RNF: 0.0</br>_original_yhat_: 0.003318951211417192</br>\"],[\"</br>id: 4176</br>prediction: 0.003</br>TWF: 0.56</br></br>Type: M</br>Air temperature [K]: 302.3</br>Process temperature [K]: 310.7</br>Rotational speed [rpm]: 1544.0</br>Torque [Nm]: 39.7</br>Tool wear [min]: 141.0</br>HDF: 0.0</br>PWF: 0.0</br>OSF: 0.0</br>RNF: 0.0</br>_original_yhat_: 0.003318951211417192</br>\"],[\"</br>id: 4176</br>prediction: 0.003</br>TWF: 0.5700000000000001</br></br>Type: M</br>Air temperature [K]: 302.3</br>Process temperature [K]: 310.7</br>Rotational speed [rpm]: 1544.0</br>Torque [Nm]: 39.7</br>Tool wear [min]: 141.0</br>HDF: 0.0</br>PWF: 0.0</br>OSF: 0.0</br>RNF: 0.0</br>_original_yhat_: 0.003318951211417192</br>\"],[\"</br>id: 4176</br>prediction: 0.003</br>TWF: 0.58</br></br>Type: M</br>Air temperature [K]: 302.3</br>Process temperature [K]: 310.7</br>Rotational speed [rpm]: 1544.0</br>Torque [Nm]: 39.7</br>Tool wear [min]: 141.0</br>HDF: 0.0</br>PWF: 0.0</br>OSF: 0.0</br>RNF: 0.0</br>_original_yhat_: 0.003318951211417192</br>\"],[\"</br>id: 4176</br>prediction: 0.003</br>TWF: 0.59</br></br>Type: M</br>Air temperature [K]: 302.3</br>Process temperature [K]: 310.7</br>Rotational speed [rpm]: 1544.0</br>Torque [Nm]: 39.7</br>Tool wear [min]: 141.0</br>HDF: 0.0</br>PWF: 0.0</br>OSF: 0.0</br>RNF: 0.0</br>_original_yhat_: 0.003318951211417192</br>\"],[\"</br>id: 4176</br>prediction: 0.003</br>TWF: 0.6</br></br>Type: M</br>Air temperature [K]: 302.3</br>Process temperature [K]: 310.7</br>Rotational speed [rpm]: 1544.0</br>Torque [Nm]: 39.7</br>Tool wear [min]: 141.0</br>HDF: 0.0</br>PWF: 0.0</br>OSF: 0.0</br>RNF: 0.0</br>_original_yhat_: 0.003318951211417192</br>\"],[\"</br>id: 4176</br>prediction: 0.003</br>TWF: 0.61</br></br>Type: M</br>Air temperature [K]: 302.3</br>Process temperature [K]: 310.7</br>Rotational speed [rpm]: 1544.0</br>Torque [Nm]: 39.7</br>Tool wear [min]: 141.0</br>HDF: 0.0</br>PWF: 0.0</br>OSF: 0.0</br>RNF: 0.0</br>_original_yhat_: 0.003318951211417192</br>\"],[\"</br>id: 4176</br>prediction: 0.003</br>TWF: 0.62</br></br>Type: M</br>Air temperature [K]: 302.3</br>Process temperature [K]: 310.7</br>Rotational speed [rpm]: 1544.0</br>Torque [Nm]: 39.7</br>Tool wear [min]: 141.0</br>HDF: 0.0</br>PWF: 0.0</br>OSF: 0.0</br>RNF: 0.0</br>_original_yhat_: 0.003318951211417192</br>\"],[\"</br>id: 4176</br>prediction: 0.003</br>TWF: 0.63</br></br>Type: M</br>Air temperature [K]: 302.3</br>Process temperature [K]: 310.7</br>Rotational speed [rpm]: 1544.0</br>Torque [Nm]: 39.7</br>Tool wear [min]: 141.0</br>HDF: 0.0</br>PWF: 0.0</br>OSF: 0.0</br>RNF: 0.0</br>_original_yhat_: 0.003318951211417192</br>\"],[\"</br>id: 4176</br>prediction: 0.003</br>TWF: 0.64</br></br>Type: M</br>Air temperature [K]: 302.3</br>Process temperature [K]: 310.7</br>Rotational speed [rpm]: 1544.0</br>Torque [Nm]: 39.7</br>Tool wear [min]: 141.0</br>HDF: 0.0</br>PWF: 0.0</br>OSF: 0.0</br>RNF: 0.0</br>_original_yhat_: 0.003318951211417192</br>\"],[\"</br>id: 4176</br>prediction: 0.003</br>TWF: 0.65</br></br>Type: M</br>Air temperature [K]: 302.3</br>Process temperature [K]: 310.7</br>Rotational speed [rpm]: 1544.0</br>Torque [Nm]: 39.7</br>Tool wear [min]: 141.0</br>HDF: 0.0</br>PWF: 0.0</br>OSF: 0.0</br>RNF: 0.0</br>_original_yhat_: 0.003318951211417192</br>\"],[\"</br>id: 4176</br>prediction: 0.003</br>TWF: 0.66</br></br>Type: M</br>Air temperature [K]: 302.3</br>Process temperature [K]: 310.7</br>Rotational speed [rpm]: 1544.0</br>Torque [Nm]: 39.7</br>Tool wear [min]: 141.0</br>HDF: 0.0</br>PWF: 0.0</br>OSF: 0.0</br>RNF: 0.0</br>_original_yhat_: 0.003318951211417192</br>\"],[\"</br>id: 4176</br>prediction: 0.003</br>TWF: 0.67</br></br>Type: M</br>Air temperature [K]: 302.3</br>Process temperature [K]: 310.7</br>Rotational speed [rpm]: 1544.0</br>Torque [Nm]: 39.7</br>Tool wear [min]: 141.0</br>HDF: 0.0</br>PWF: 0.0</br>OSF: 0.0</br>RNF: 0.0</br>_original_yhat_: 0.003318951211417192</br>\"],[\"</br>id: 4176</br>prediction: 0.003</br>TWF: 0.68</br></br>Type: M</br>Air temperature [K]: 302.3</br>Process temperature [K]: 310.7</br>Rotational speed [rpm]: 1544.0</br>Torque [Nm]: 39.7</br>Tool wear [min]: 141.0</br>HDF: 0.0</br>PWF: 0.0</br>OSF: 0.0</br>RNF: 0.0</br>_original_yhat_: 0.003318951211417192</br>\"],[\"</br>id: 4176</br>prediction: 0.003</br>TWF: 0.6900000000000001</br></br>Type: M</br>Air temperature [K]: 302.3</br>Process temperature [K]: 310.7</br>Rotational speed [rpm]: 1544.0</br>Torque [Nm]: 39.7</br>Tool wear [min]: 141.0</br>HDF: 0.0</br>PWF: 0.0</br>OSF: 0.0</br>RNF: 0.0</br>_original_yhat_: 0.003318951211417192</br>\"],[\"</br>id: 4176</br>prediction: 0.003</br>TWF: 0.7000000000000001</br></br>Type: M</br>Air temperature [K]: 302.3</br>Process temperature [K]: 310.7</br>Rotational speed [rpm]: 1544.0</br>Torque [Nm]: 39.7</br>Tool wear [min]: 141.0</br>HDF: 0.0</br>PWF: 0.0</br>OSF: 0.0</br>RNF: 0.0</br>_original_yhat_: 0.003318951211417192</br>\"],[\"</br>id: 4176</br>prediction: 0.003</br>TWF: 0.71</br></br>Type: M</br>Air temperature [K]: 302.3</br>Process temperature [K]: 310.7</br>Rotational speed [rpm]: 1544.0</br>Torque [Nm]: 39.7</br>Tool wear [min]: 141.0</br>HDF: 0.0</br>PWF: 0.0</br>OSF: 0.0</br>RNF: 0.0</br>_original_yhat_: 0.003318951211417192</br>\"],[\"</br>id: 4176</br>prediction: 0.003</br>TWF: 0.72</br></br>Type: M</br>Air temperature [K]: 302.3</br>Process temperature [K]: 310.7</br>Rotational speed [rpm]: 1544.0</br>Torque [Nm]: 39.7</br>Tool wear [min]: 141.0</br>HDF: 0.0</br>PWF: 0.0</br>OSF: 0.0</br>RNF: 0.0</br>_original_yhat_: 0.003318951211417192</br>\"],[\"</br>id: 4176</br>prediction: 0.003</br>TWF: 0.73</br></br>Type: M</br>Air temperature [K]: 302.3</br>Process temperature [K]: 310.7</br>Rotational speed [rpm]: 1544.0</br>Torque [Nm]: 39.7</br>Tool wear [min]: 141.0</br>HDF: 0.0</br>PWF: 0.0</br>OSF: 0.0</br>RNF: 0.0</br>_original_yhat_: 0.003318951211417192</br>\"],[\"</br>id: 4176</br>prediction: 0.003</br>TWF: 0.74</br></br>Type: M</br>Air temperature [K]: 302.3</br>Process temperature [K]: 310.7</br>Rotational speed [rpm]: 1544.0</br>Torque [Nm]: 39.7</br>Tool wear [min]: 141.0</br>HDF: 0.0</br>PWF: 0.0</br>OSF: 0.0</br>RNF: 0.0</br>_original_yhat_: 0.003318951211417192</br>\"],[\"</br>id: 4176</br>prediction: 0.003</br>TWF: 0.75</br></br>Type: M</br>Air temperature [K]: 302.3</br>Process temperature [K]: 310.7</br>Rotational speed [rpm]: 1544.0</br>Torque [Nm]: 39.7</br>Tool wear [min]: 141.0</br>HDF: 0.0</br>PWF: 0.0</br>OSF: 0.0</br>RNF: 0.0</br>_original_yhat_: 0.003318951211417192</br>\"],[\"</br>id: 4176</br>prediction: 0.003</br>TWF: 0.76</br></br>Type: M</br>Air temperature [K]: 302.3</br>Process temperature [K]: 310.7</br>Rotational speed [rpm]: 1544.0</br>Torque [Nm]: 39.7</br>Tool wear [min]: 141.0</br>HDF: 0.0</br>PWF: 0.0</br>OSF: 0.0</br>RNF: 0.0</br>_original_yhat_: 0.003318951211417192</br>\"],[\"</br>id: 4176</br>prediction: 0.003</br>TWF: 0.77</br></br>Type: M</br>Air temperature [K]: 302.3</br>Process temperature [K]: 310.7</br>Rotational speed [rpm]: 1544.0</br>Torque [Nm]: 39.7</br>Tool wear [min]: 141.0</br>HDF: 0.0</br>PWF: 0.0</br>OSF: 0.0</br>RNF: 0.0</br>_original_yhat_: 0.003318951211417192</br>\"],[\"</br>id: 4176</br>prediction: 0.003</br>TWF: 0.78</br></br>Type: M</br>Air temperature [K]: 302.3</br>Process temperature [K]: 310.7</br>Rotational speed [rpm]: 1544.0</br>Torque [Nm]: 39.7</br>Tool wear [min]: 141.0</br>HDF: 0.0</br>PWF: 0.0</br>OSF: 0.0</br>RNF: 0.0</br>_original_yhat_: 0.003318951211417192</br>\"],[\"</br>id: 4176</br>prediction: 0.003</br>TWF: 0.79</br></br>Type: M</br>Air temperature [K]: 302.3</br>Process temperature [K]: 310.7</br>Rotational speed [rpm]: 1544.0</br>Torque [Nm]: 39.7</br>Tool wear [min]: 141.0</br>HDF: 0.0</br>PWF: 0.0</br>OSF: 0.0</br>RNF: 0.0</br>_original_yhat_: 0.003318951211417192</br>\"],[\"</br>id: 4176</br>prediction: 0.003</br>TWF: 0.8</br></br>Type: M</br>Air temperature [K]: 302.3</br>Process temperature [K]: 310.7</br>Rotational speed [rpm]: 1544.0</br>Torque [Nm]: 39.7</br>Tool wear [min]: 141.0</br>HDF: 0.0</br>PWF: 0.0</br>OSF: 0.0</br>RNF: 0.0</br>_original_yhat_: 0.003318951211417192</br>\"],[\"</br>id: 4176</br>prediction: 0.003</br>TWF: 0.81</br></br>Type: M</br>Air temperature [K]: 302.3</br>Process temperature [K]: 310.7</br>Rotational speed [rpm]: 1544.0</br>Torque [Nm]: 39.7</br>Tool wear [min]: 141.0</br>HDF: 0.0</br>PWF: 0.0</br>OSF: 0.0</br>RNF: 0.0</br>_original_yhat_: 0.003318951211417192</br>\"],[\"</br>id: 4176</br>prediction: 0.003</br>TWF: 0.8200000000000001</br></br>Type: M</br>Air temperature [K]: 302.3</br>Process temperature [K]: 310.7</br>Rotational speed [rpm]: 1544.0</br>Torque [Nm]: 39.7</br>Tool wear [min]: 141.0</br>HDF: 0.0</br>PWF: 0.0</br>OSF: 0.0</br>RNF: 0.0</br>_original_yhat_: 0.003318951211417192</br>\"],[\"</br>id: 4176</br>prediction: 0.003</br>TWF: 0.8300000000000001</br></br>Type: M</br>Air temperature [K]: 302.3</br>Process temperature [K]: 310.7</br>Rotational speed [rpm]: 1544.0</br>Torque [Nm]: 39.7</br>Tool wear [min]: 141.0</br>HDF: 0.0</br>PWF: 0.0</br>OSF: 0.0</br>RNF: 0.0</br>_original_yhat_: 0.003318951211417192</br>\"],[\"</br>id: 4176</br>prediction: 0.003</br>TWF: 0.84</br></br>Type: M</br>Air temperature [K]: 302.3</br>Process temperature [K]: 310.7</br>Rotational speed [rpm]: 1544.0</br>Torque [Nm]: 39.7</br>Tool wear [min]: 141.0</br>HDF: 0.0</br>PWF: 0.0</br>OSF: 0.0</br>RNF: 0.0</br>_original_yhat_: 0.003318951211417192</br>\"],[\"</br>id: 4176</br>prediction: 0.003</br>TWF: 0.85</br></br>Type: M</br>Air temperature [K]: 302.3</br>Process temperature [K]: 310.7</br>Rotational speed [rpm]: 1544.0</br>Torque [Nm]: 39.7</br>Tool wear [min]: 141.0</br>HDF: 0.0</br>PWF: 0.0</br>OSF: 0.0</br>RNF: 0.0</br>_original_yhat_: 0.003318951211417192</br>\"],[\"</br>id: 4176</br>prediction: 0.003</br>TWF: 0.86</br></br>Type: M</br>Air temperature [K]: 302.3</br>Process temperature [K]: 310.7</br>Rotational speed [rpm]: 1544.0</br>Torque [Nm]: 39.7</br>Tool wear [min]: 141.0</br>HDF: 0.0</br>PWF: 0.0</br>OSF: 0.0</br>RNF: 0.0</br>_original_yhat_: 0.003318951211417192</br>\"],[\"</br>id: 4176</br>prediction: 0.003</br>TWF: 0.87</br></br>Type: M</br>Air temperature [K]: 302.3</br>Process temperature [K]: 310.7</br>Rotational speed [rpm]: 1544.0</br>Torque [Nm]: 39.7</br>Tool wear [min]: 141.0</br>HDF: 0.0</br>PWF: 0.0</br>OSF: 0.0</br>RNF: 0.0</br>_original_yhat_: 0.003318951211417192</br>\"],[\"</br>id: 4176</br>prediction: 0.003</br>TWF: 0.88</br></br>Type: M</br>Air temperature [K]: 302.3</br>Process temperature [K]: 310.7</br>Rotational speed [rpm]: 1544.0</br>Torque [Nm]: 39.7</br>Tool wear [min]: 141.0</br>HDF: 0.0</br>PWF: 0.0</br>OSF: 0.0</br>RNF: 0.0</br>_original_yhat_: 0.003318951211417192</br>\"],[\"</br>id: 4176</br>prediction: 0.003</br>TWF: 0.89</br></br>Type: M</br>Air temperature [K]: 302.3</br>Process temperature [K]: 310.7</br>Rotational speed [rpm]: 1544.0</br>Torque [Nm]: 39.7</br>Tool wear [min]: 141.0</br>HDF: 0.0</br>PWF: 0.0</br>OSF: 0.0</br>RNF: 0.0</br>_original_yhat_: 0.003318951211417192</br>\"],[\"</br>id: 4176</br>prediction: 0.003</br>TWF: 0.9</br></br>Type: M</br>Air temperature [K]: 302.3</br>Process temperature [K]: 310.7</br>Rotational speed [rpm]: 1544.0</br>Torque [Nm]: 39.7</br>Tool wear [min]: 141.0</br>HDF: 0.0</br>PWF: 0.0</br>OSF: 0.0</br>RNF: 0.0</br>_original_yhat_: 0.003318951211417192</br>\"],[\"</br>id: 4176</br>prediction: 0.003</br>TWF: 0.91</br></br>Type: M</br>Air temperature [K]: 302.3</br>Process temperature [K]: 310.7</br>Rotational speed [rpm]: 1544.0</br>Torque [Nm]: 39.7</br>Tool wear [min]: 141.0</br>HDF: 0.0</br>PWF: 0.0</br>OSF: 0.0</br>RNF: 0.0</br>_original_yhat_: 0.003318951211417192</br>\"],[\"</br>id: 4176</br>prediction: 0.003</br>TWF: 0.92</br></br>Type: M</br>Air temperature [K]: 302.3</br>Process temperature [K]: 310.7</br>Rotational speed [rpm]: 1544.0</br>Torque [Nm]: 39.7</br>Tool wear [min]: 141.0</br>HDF: 0.0</br>PWF: 0.0</br>OSF: 0.0</br>RNF: 0.0</br>_original_yhat_: 0.003318951211417192</br>\"],[\"</br>id: 4176</br>prediction: 0.003</br>TWF: 0.93</br></br>Type: M</br>Air temperature [K]: 302.3</br>Process temperature [K]: 310.7</br>Rotational speed [rpm]: 1544.0</br>Torque [Nm]: 39.7</br>Tool wear [min]: 141.0</br>HDF: 0.0</br>PWF: 0.0</br>OSF: 0.0</br>RNF: 0.0</br>_original_yhat_: 0.003318951211417192</br>\"],[\"</br>id: 4176</br>prediction: 0.003</br>TWF: 0.9400000000000001</br></br>Type: M</br>Air temperature [K]: 302.3</br>Process temperature [K]: 310.7</br>Rotational speed [rpm]: 1544.0</br>Torque [Nm]: 39.7</br>Tool wear [min]: 141.0</br>HDF: 0.0</br>PWF: 0.0</br>OSF: 0.0</br>RNF: 0.0</br>_original_yhat_: 0.003318951211417192</br>\"],[\"</br>id: 4176</br>prediction: 0.003</br>TWF: 0.9500000000000001</br></br>Type: M</br>Air temperature [K]: 302.3</br>Process temperature [K]: 310.7</br>Rotational speed [rpm]: 1544.0</br>Torque [Nm]: 39.7</br>Tool wear [min]: 141.0</br>HDF: 0.0</br>PWF: 0.0</br>OSF: 0.0</br>RNF: 0.0</br>_original_yhat_: 0.003318951211417192</br>\"],[\"</br>id: 4176</br>prediction: 0.003</br>TWF: 0.96</br></br>Type: M</br>Air temperature [K]: 302.3</br>Process temperature [K]: 310.7</br>Rotational speed [rpm]: 1544.0</br>Torque [Nm]: 39.7</br>Tool wear [min]: 141.0</br>HDF: 0.0</br>PWF: 0.0</br>OSF: 0.0</br>RNF: 0.0</br>_original_yhat_: 0.003318951211417192</br>\"],[\"</br>id: 4176</br>prediction: 0.003</br>TWF: 0.97</br></br>Type: M</br>Air temperature [K]: 302.3</br>Process temperature [K]: 310.7</br>Rotational speed [rpm]: 1544.0</br>Torque [Nm]: 39.7</br>Tool wear [min]: 141.0</br>HDF: 0.0</br>PWF: 0.0</br>OSF: 0.0</br>RNF: 0.0</br>_original_yhat_: 0.003318951211417192</br>\"],[\"</br>id: 4176</br>prediction: 0.003</br>TWF: 0.98</br></br>Type: M</br>Air temperature [K]: 302.3</br>Process temperature [K]: 310.7</br>Rotational speed [rpm]: 1544.0</br>Torque [Nm]: 39.7</br>Tool wear [min]: 141.0</br>HDF: 0.0</br>PWF: 0.0</br>OSF: 0.0</br>RNF: 0.0</br>_original_yhat_: 0.003318951211417192</br>\"],[\"</br>id: 4176</br>prediction: 0.003</br>TWF: 0.99</br></br>Type: M</br>Air temperature [K]: 302.3</br>Process temperature [K]: 310.7</br>Rotational speed [rpm]: 1544.0</br>Torque [Nm]: 39.7</br>Tool wear [min]: 141.0</br>HDF: 0.0</br>PWF: 0.0</br>OSF: 0.0</br>RNF: 0.0</br>_original_yhat_: 0.003318951211417192</br>\"],[\"</br>id: 4176</br>prediction: 0.003</br>TWF: 1.0</br></br>Type: M</br>Air temperature [K]: 302.3</br>Process temperature [K]: 310.7</br>Rotational speed [rpm]: 1544.0</br>Torque [Nm]: 39.7</br>Tool wear [min]: 141.0</br>HDF: 0.0</br>PWF: 0.0</br>OSF: 0.0</br>RNF: 0.0</br>_original_yhat_: 0.003318951211417192</br>\"]],\"hovertemplate\":\"%{customdata[0]}<extra></extra>\",\"legendgroup\":\"testing\",\"line\":{\"color\":\"#46bac2\",\"dash\":\"solid\",\"width\":2},\"marker\":{\"symbol\":\"circle\"},\"mode\":\"lines\",\"name\":\"testing\",\"showlegend\":false,\"x\":[0.0,0.01,0.02,0.03,0.04,0.05,0.06,0.07,0.08,0.09,0.1,0.11,0.12,0.13,0.14,0.15,0.16,0.17,0.18,0.19,0.2,0.21,0.22,0.23,0.24,0.25,0.26,0.27,0.28,0.29,0.3,0.31,0.32,0.33,0.34,0.35000000000000003,0.36,0.37,0.38,0.39,0.4,0.41000000000000003,0.42,0.43,0.44,0.45,0.46,0.47000000000000003,0.48,0.49,0.5,0.51,0.52,0.53,0.54,0.55,0.56,0.5700000000000001,0.58,0.59,0.6,0.61,0.62,0.63,0.64,0.65,0.66,0.67,0.68,0.6900000000000001,0.7000000000000001,0.71,0.72,0.73,0.74,0.75,0.76,0.77,0.78,0.79,0.8,0.81,0.8200000000000001,0.8300000000000001,0.84,0.85,0.86,0.87,0.88,0.89,0.9,0.91,0.92,0.93,0.9400000000000001,0.9500000000000001,0.96,0.97,0.98,0.99,1.0],\"xaxis\":\"x6\",\"y\":[0.003318951211417192,0.003318951211417192,0.003318951211417192,0.003318951211417192,0.003318951211417192,0.003318951211417192,0.003318951211417192,0.003318951211417192,0.003318951211417192,0.003318951211417192,0.003318951211417192,0.003318951211417192,0.003318951211417192,0.003318951211417192,0.003318951211417192,0.003318951211417192,0.003318951211417192,0.003318951211417192,0.003318951211417192,0.003318951211417192,0.003318951211417192,0.003318951211417192,0.003318951211417192,0.003318951211417192,0.003318951211417192,0.003318951211417192,0.003318951211417192,0.003318951211417192,0.003318951211417192,0.003318951211417192,0.003318951211417192,0.003318951211417192,0.003318951211417192,0.003318951211417192,0.003318951211417192,0.003318951211417192,0.003318951211417192,0.003318951211417192,0.003318951211417192,0.003318951211417192,0.003318951211417192,0.003318951211417192,0.003318951211417192,0.003318951211417192,0.003318951211417192,0.003318951211417192,0.003318951211417192,0.003318951211417192,0.003318951211417192,0.003318951211417192,0.003318951211417192,0.003318951211417192,0.003318951211417192,0.003318951211417192,0.003318951211417192,0.003318951211417192,0.003318951211417192,0.003318951211417192,0.003318951211417192,0.003318951211417192,0.003318951211417192,0.003318951211417192,0.003318951211417192,0.003318951211417192,0.003318951211417192,0.003318951211417192,0.003318951211417192,0.003318951211417192,0.003318951211417192,0.003318951211417192,0.003318951211417192,0.003318951211417192,0.003318951211417192,0.003318951211417192,0.003318951211417192,0.003318951211417192,0.003318951211417192,0.003318951211417192,0.003318951211417192,0.003318951211417192,0.003318951211417192,0.003318951211417192,0.003318951211417192,0.003318951211417192,0.003318951211417192,0.003318951211417192,0.003318951211417192,0.003318951211417192,0.003318951211417192,0.003318951211417192,0.003318951211417192,0.003318951211417192,0.003318951211417192,0.003318951211417192,0.003318951211417192,0.003318951211417192,0.003318951211417192,0.003318951211417192,0.003318951211417192,0.003318951211417192,0.003318951211417192],\"yaxis\":\"y6\",\"type\":\"scattergl\",\"opacity\":1},{\"customdata\":[[\"</br>id: 4176</br>prediction: 0.003</br>HDF: 0.0</br></br>Type: M</br>Air temperature [K]: 302.3</br>Process temperature [K]: 310.7</br>Rotational speed [rpm]: 1544.0</br>Torque [Nm]: 39.7</br>Tool wear [min]: 141.0</br>TWF: 0.0</br>PWF: 0.0</br>OSF: 0.0</br>RNF: 0.0</br>_original_yhat_: 0.003318951211417192</br>\"],[\"</br>id: 4176</br>prediction: 0.003</br>HDF: 0.01</br></br>Type: M</br>Air temperature [K]: 302.3</br>Process temperature [K]: 310.7</br>Rotational speed [rpm]: 1544.0</br>Torque [Nm]: 39.7</br>Tool wear [min]: 141.0</br>TWF: 0.0</br>PWF: 0.0</br>OSF: 0.0</br>RNF: 0.0</br>_original_yhat_: 0.003318951211417192</br>\"],[\"</br>id: 4176</br>prediction: 0.003</br>HDF: 0.02</br></br>Type: M</br>Air temperature [K]: 302.3</br>Process temperature [K]: 310.7</br>Rotational speed [rpm]: 1544.0</br>Torque [Nm]: 39.7</br>Tool wear [min]: 141.0</br>TWF: 0.0</br>PWF: 0.0</br>OSF: 0.0</br>RNF: 0.0</br>_original_yhat_: 0.003318951211417192</br>\"],[\"</br>id: 4176</br>prediction: 0.003</br>HDF: 0.03</br></br>Type: M</br>Air temperature [K]: 302.3</br>Process temperature [K]: 310.7</br>Rotational speed [rpm]: 1544.0</br>Torque [Nm]: 39.7</br>Tool wear [min]: 141.0</br>TWF: 0.0</br>PWF: 0.0</br>OSF: 0.0</br>RNF: 0.0</br>_original_yhat_: 0.003318951211417192</br>\"],[\"</br>id: 4176</br>prediction: 0.003</br>HDF: 0.04</br></br>Type: M</br>Air temperature [K]: 302.3</br>Process temperature [K]: 310.7</br>Rotational speed [rpm]: 1544.0</br>Torque [Nm]: 39.7</br>Tool wear [min]: 141.0</br>TWF: 0.0</br>PWF: 0.0</br>OSF: 0.0</br>RNF: 0.0</br>_original_yhat_: 0.003318951211417192</br>\"],[\"</br>id: 4176</br>prediction: 0.003</br>HDF: 0.05</br></br>Type: M</br>Air temperature [K]: 302.3</br>Process temperature [K]: 310.7</br>Rotational speed [rpm]: 1544.0</br>Torque [Nm]: 39.7</br>Tool wear [min]: 141.0</br>TWF: 0.0</br>PWF: 0.0</br>OSF: 0.0</br>RNF: 0.0</br>_original_yhat_: 0.003318951211417192</br>\"],[\"</br>id: 4176</br>prediction: 0.003</br>HDF: 0.06</br></br>Type: M</br>Air temperature [K]: 302.3</br>Process temperature [K]: 310.7</br>Rotational speed [rpm]: 1544.0</br>Torque [Nm]: 39.7</br>Tool wear [min]: 141.0</br>TWF: 0.0</br>PWF: 0.0</br>OSF: 0.0</br>RNF: 0.0</br>_original_yhat_: 0.003318951211417192</br>\"],[\"</br>id: 4176</br>prediction: 0.003</br>HDF: 0.07</br></br>Type: M</br>Air temperature [K]: 302.3</br>Process temperature [K]: 310.7</br>Rotational speed [rpm]: 1544.0</br>Torque [Nm]: 39.7</br>Tool wear [min]: 141.0</br>TWF: 0.0</br>PWF: 0.0</br>OSF: 0.0</br>RNF: 0.0</br>_original_yhat_: 0.003318951211417192</br>\"],[\"</br>id: 4176</br>prediction: 0.003</br>HDF: 0.08</br></br>Type: M</br>Air temperature [K]: 302.3</br>Process temperature [K]: 310.7</br>Rotational speed [rpm]: 1544.0</br>Torque [Nm]: 39.7</br>Tool wear [min]: 141.0</br>TWF: 0.0</br>PWF: 0.0</br>OSF: 0.0</br>RNF: 0.0</br>_original_yhat_: 0.003318951211417192</br>\"],[\"</br>id: 4176</br>prediction: 0.003</br>HDF: 0.09</br></br>Type: M</br>Air temperature [K]: 302.3</br>Process temperature [K]: 310.7</br>Rotational speed [rpm]: 1544.0</br>Torque [Nm]: 39.7</br>Tool wear [min]: 141.0</br>TWF: 0.0</br>PWF: 0.0</br>OSF: 0.0</br>RNF: 0.0</br>_original_yhat_: 0.003318951211417192</br>\"],[\"</br>id: 4176</br>prediction: 0.003</br>HDF: 0.1</br></br>Type: M</br>Air temperature [K]: 302.3</br>Process temperature [K]: 310.7</br>Rotational speed [rpm]: 1544.0</br>Torque [Nm]: 39.7</br>Tool wear [min]: 141.0</br>TWF: 0.0</br>PWF: 0.0</br>OSF: 0.0</br>RNF: 0.0</br>_original_yhat_: 0.003318951211417192</br>\"],[\"</br>id: 4176</br>prediction: 0.003</br>HDF: 0.11</br></br>Type: M</br>Air temperature [K]: 302.3</br>Process temperature [K]: 310.7</br>Rotational speed [rpm]: 1544.0</br>Torque [Nm]: 39.7</br>Tool wear [min]: 141.0</br>TWF: 0.0</br>PWF: 0.0</br>OSF: 0.0</br>RNF: 0.0</br>_original_yhat_: 0.003318951211417192</br>\"],[\"</br>id: 4176</br>prediction: 0.003</br>HDF: 0.12</br></br>Type: M</br>Air temperature [K]: 302.3</br>Process temperature [K]: 310.7</br>Rotational speed [rpm]: 1544.0</br>Torque [Nm]: 39.7</br>Tool wear [min]: 141.0</br>TWF: 0.0</br>PWF: 0.0</br>OSF: 0.0</br>RNF: 0.0</br>_original_yhat_: 0.003318951211417192</br>\"],[\"</br>id: 4176</br>prediction: 0.003</br>HDF: 0.13</br></br>Type: M</br>Air temperature [K]: 302.3</br>Process temperature [K]: 310.7</br>Rotational speed [rpm]: 1544.0</br>Torque [Nm]: 39.7</br>Tool wear [min]: 141.0</br>TWF: 0.0</br>PWF: 0.0</br>OSF: 0.0</br>RNF: 0.0</br>_original_yhat_: 0.003318951211417192</br>\"],[\"</br>id: 4176</br>prediction: 0.003</br>HDF: 0.14</br></br>Type: M</br>Air temperature [K]: 302.3</br>Process temperature [K]: 310.7</br>Rotational speed [rpm]: 1544.0</br>Torque [Nm]: 39.7</br>Tool wear [min]: 141.0</br>TWF: 0.0</br>PWF: 0.0</br>OSF: 0.0</br>RNF: 0.0</br>_original_yhat_: 0.003318951211417192</br>\"],[\"</br>id: 4176</br>prediction: 0.003</br>HDF: 0.15</br></br>Type: M</br>Air temperature [K]: 302.3</br>Process temperature [K]: 310.7</br>Rotational speed [rpm]: 1544.0</br>Torque [Nm]: 39.7</br>Tool wear [min]: 141.0</br>TWF: 0.0</br>PWF: 0.0</br>OSF: 0.0</br>RNF: 0.0</br>_original_yhat_: 0.003318951211417192</br>\"],[\"</br>id: 4176</br>prediction: 0.003</br>HDF: 0.16</br></br>Type: M</br>Air temperature [K]: 302.3</br>Process temperature [K]: 310.7</br>Rotational speed [rpm]: 1544.0</br>Torque [Nm]: 39.7</br>Tool wear [min]: 141.0</br>TWF: 0.0</br>PWF: 0.0</br>OSF: 0.0</br>RNF: 0.0</br>_original_yhat_: 0.003318951211417192</br>\"],[\"</br>id: 4176</br>prediction: 0.003</br>HDF: 0.17</br></br>Type: M</br>Air temperature [K]: 302.3</br>Process temperature [K]: 310.7</br>Rotational speed [rpm]: 1544.0</br>Torque [Nm]: 39.7</br>Tool wear [min]: 141.0</br>TWF: 0.0</br>PWF: 0.0</br>OSF: 0.0</br>RNF: 0.0</br>_original_yhat_: 0.003318951211417192</br>\"],[\"</br>id: 4176</br>prediction: 0.003</br>HDF: 0.18</br></br>Type: M</br>Air temperature [K]: 302.3</br>Process temperature [K]: 310.7</br>Rotational speed [rpm]: 1544.0</br>Torque [Nm]: 39.7</br>Tool wear [min]: 141.0</br>TWF: 0.0</br>PWF: 0.0</br>OSF: 0.0</br>RNF: 0.0</br>_original_yhat_: 0.003318951211417192</br>\"],[\"</br>id: 4176</br>prediction: 0.003</br>HDF: 0.19</br></br>Type: M</br>Air temperature [K]: 302.3</br>Process temperature [K]: 310.7</br>Rotational speed [rpm]: 1544.0</br>Torque [Nm]: 39.7</br>Tool wear [min]: 141.0</br>TWF: 0.0</br>PWF: 0.0</br>OSF: 0.0</br>RNF: 0.0</br>_original_yhat_: 0.003318951211417192</br>\"],[\"</br>id: 4176</br>prediction: 0.003</br>HDF: 0.2</br></br>Type: M</br>Air temperature [K]: 302.3</br>Process temperature [K]: 310.7</br>Rotational speed [rpm]: 1544.0</br>Torque [Nm]: 39.7</br>Tool wear [min]: 141.0</br>TWF: 0.0</br>PWF: 0.0</br>OSF: 0.0</br>RNF: 0.0</br>_original_yhat_: 0.003318951211417192</br>\"],[\"</br>id: 4176</br>prediction: 0.003</br>HDF: 0.21</br></br>Type: M</br>Air temperature [K]: 302.3</br>Process temperature [K]: 310.7</br>Rotational speed [rpm]: 1544.0</br>Torque [Nm]: 39.7</br>Tool wear [min]: 141.0</br>TWF: 0.0</br>PWF: 0.0</br>OSF: 0.0</br>RNF: 0.0</br>_original_yhat_: 0.003318951211417192</br>\"],[\"</br>id: 4176</br>prediction: 0.003</br>HDF: 0.22</br></br>Type: M</br>Air temperature [K]: 302.3</br>Process temperature [K]: 310.7</br>Rotational speed [rpm]: 1544.0</br>Torque [Nm]: 39.7</br>Tool wear [min]: 141.0</br>TWF: 0.0</br>PWF: 0.0</br>OSF: 0.0</br>RNF: 0.0</br>_original_yhat_: 0.003318951211417192</br>\"],[\"</br>id: 4176</br>prediction: 0.003</br>HDF: 0.23</br></br>Type: M</br>Air temperature [K]: 302.3</br>Process temperature [K]: 310.7</br>Rotational speed [rpm]: 1544.0</br>Torque [Nm]: 39.7</br>Tool wear [min]: 141.0</br>TWF: 0.0</br>PWF: 0.0</br>OSF: 0.0</br>RNF: 0.0</br>_original_yhat_: 0.003318951211417192</br>\"],[\"</br>id: 4176</br>prediction: 0.003</br>HDF: 0.24</br></br>Type: M</br>Air temperature [K]: 302.3</br>Process temperature [K]: 310.7</br>Rotational speed [rpm]: 1544.0</br>Torque [Nm]: 39.7</br>Tool wear [min]: 141.0</br>TWF: 0.0</br>PWF: 0.0</br>OSF: 0.0</br>RNF: 0.0</br>_original_yhat_: 0.003318951211417192</br>\"],[\"</br>id: 4176</br>prediction: 0.003</br>HDF: 0.25</br></br>Type: M</br>Air temperature [K]: 302.3</br>Process temperature [K]: 310.7</br>Rotational speed [rpm]: 1544.0</br>Torque [Nm]: 39.7</br>Tool wear [min]: 141.0</br>TWF: 0.0</br>PWF: 0.0</br>OSF: 0.0</br>RNF: 0.0</br>_original_yhat_: 0.003318951211417192</br>\"],[\"</br>id: 4176</br>prediction: 0.003</br>HDF: 0.26</br></br>Type: M</br>Air temperature [K]: 302.3</br>Process temperature [K]: 310.7</br>Rotational speed [rpm]: 1544.0</br>Torque [Nm]: 39.7</br>Tool wear [min]: 141.0</br>TWF: 0.0</br>PWF: 0.0</br>OSF: 0.0</br>RNF: 0.0</br>_original_yhat_: 0.003318951211417192</br>\"],[\"</br>id: 4176</br>prediction: 0.003</br>HDF: 0.27</br></br>Type: M</br>Air temperature [K]: 302.3</br>Process temperature [K]: 310.7</br>Rotational speed [rpm]: 1544.0</br>Torque [Nm]: 39.7</br>Tool wear [min]: 141.0</br>TWF: 0.0</br>PWF: 0.0</br>OSF: 0.0</br>RNF: 0.0</br>_original_yhat_: 0.003318951211417192</br>\"],[\"</br>id: 4176</br>prediction: 0.003</br>HDF: 0.28</br></br>Type: M</br>Air temperature [K]: 302.3</br>Process temperature [K]: 310.7</br>Rotational speed [rpm]: 1544.0</br>Torque [Nm]: 39.7</br>Tool wear [min]: 141.0</br>TWF: 0.0</br>PWF: 0.0</br>OSF: 0.0</br>RNF: 0.0</br>_original_yhat_: 0.003318951211417192</br>\"],[\"</br>id: 4176</br>prediction: 0.003</br>HDF: 0.29</br></br>Type: M</br>Air temperature [K]: 302.3</br>Process temperature [K]: 310.7</br>Rotational speed [rpm]: 1544.0</br>Torque [Nm]: 39.7</br>Tool wear [min]: 141.0</br>TWF: 0.0</br>PWF: 0.0</br>OSF: 0.0</br>RNF: 0.0</br>_original_yhat_: 0.003318951211417192</br>\"],[\"</br>id: 4176</br>prediction: 0.003</br>HDF: 0.3</br></br>Type: M</br>Air temperature [K]: 302.3</br>Process temperature [K]: 310.7</br>Rotational speed [rpm]: 1544.0</br>Torque [Nm]: 39.7</br>Tool wear [min]: 141.0</br>TWF: 0.0</br>PWF: 0.0</br>OSF: 0.0</br>RNF: 0.0</br>_original_yhat_: 0.003318951211417192</br>\"],[\"</br>id: 4176</br>prediction: 0.003</br>HDF: 0.31</br></br>Type: M</br>Air temperature [K]: 302.3</br>Process temperature [K]: 310.7</br>Rotational speed [rpm]: 1544.0</br>Torque [Nm]: 39.7</br>Tool wear [min]: 141.0</br>TWF: 0.0</br>PWF: 0.0</br>OSF: 0.0</br>RNF: 0.0</br>_original_yhat_: 0.003318951211417192</br>\"],[\"</br>id: 4176</br>prediction: 0.003</br>HDF: 0.32</br></br>Type: M</br>Air temperature [K]: 302.3</br>Process temperature [K]: 310.7</br>Rotational speed [rpm]: 1544.0</br>Torque [Nm]: 39.7</br>Tool wear [min]: 141.0</br>TWF: 0.0</br>PWF: 0.0</br>OSF: 0.0</br>RNF: 0.0</br>_original_yhat_: 0.003318951211417192</br>\"],[\"</br>id: 4176</br>prediction: 0.003</br>HDF: 0.33</br></br>Type: M</br>Air temperature [K]: 302.3</br>Process temperature [K]: 310.7</br>Rotational speed [rpm]: 1544.0</br>Torque [Nm]: 39.7</br>Tool wear [min]: 141.0</br>TWF: 0.0</br>PWF: 0.0</br>OSF: 0.0</br>RNF: 0.0</br>_original_yhat_: 0.003318951211417192</br>\"],[\"</br>id: 4176</br>prediction: 0.003</br>HDF: 0.34</br></br>Type: M</br>Air temperature [K]: 302.3</br>Process temperature [K]: 310.7</br>Rotational speed [rpm]: 1544.0</br>Torque [Nm]: 39.7</br>Tool wear [min]: 141.0</br>TWF: 0.0</br>PWF: 0.0</br>OSF: 0.0</br>RNF: 0.0</br>_original_yhat_: 0.003318951211417192</br>\"],[\"</br>id: 4176</br>prediction: 0.003</br>HDF: 0.35000000000000003</br></br>Type: M</br>Air temperature [K]: 302.3</br>Process temperature [K]: 310.7</br>Rotational speed [rpm]: 1544.0</br>Torque [Nm]: 39.7</br>Tool wear [min]: 141.0</br>TWF: 0.0</br>PWF: 0.0</br>OSF: 0.0</br>RNF: 0.0</br>_original_yhat_: 0.003318951211417192</br>\"],[\"</br>id: 4176</br>prediction: 0.003</br>HDF: 0.36</br></br>Type: M</br>Air temperature [K]: 302.3</br>Process temperature [K]: 310.7</br>Rotational speed [rpm]: 1544.0</br>Torque [Nm]: 39.7</br>Tool wear [min]: 141.0</br>TWF: 0.0</br>PWF: 0.0</br>OSF: 0.0</br>RNF: 0.0</br>_original_yhat_: 0.003318951211417192</br>\"],[\"</br>id: 4176</br>prediction: 0.003</br>HDF: 0.37</br></br>Type: M</br>Air temperature [K]: 302.3</br>Process temperature [K]: 310.7</br>Rotational speed [rpm]: 1544.0</br>Torque [Nm]: 39.7</br>Tool wear [min]: 141.0</br>TWF: 0.0</br>PWF: 0.0</br>OSF: 0.0</br>RNF: 0.0</br>_original_yhat_: 0.003318951211417192</br>\"],[\"</br>id: 4176</br>prediction: 0.003</br>HDF: 0.38</br></br>Type: M</br>Air temperature [K]: 302.3</br>Process temperature [K]: 310.7</br>Rotational speed [rpm]: 1544.0</br>Torque [Nm]: 39.7</br>Tool wear [min]: 141.0</br>TWF: 0.0</br>PWF: 0.0</br>OSF: 0.0</br>RNF: 0.0</br>_original_yhat_: 0.003318951211417192</br>\"],[\"</br>id: 4176</br>prediction: 0.003</br>HDF: 0.39</br></br>Type: M</br>Air temperature [K]: 302.3</br>Process temperature [K]: 310.7</br>Rotational speed [rpm]: 1544.0</br>Torque [Nm]: 39.7</br>Tool wear [min]: 141.0</br>TWF: 0.0</br>PWF: 0.0</br>OSF: 0.0</br>RNF: 0.0</br>_original_yhat_: 0.003318951211417192</br>\"],[\"</br>id: 4176</br>prediction: 0.003</br>HDF: 0.4</br></br>Type: M</br>Air temperature [K]: 302.3</br>Process temperature [K]: 310.7</br>Rotational speed [rpm]: 1544.0</br>Torque [Nm]: 39.7</br>Tool wear [min]: 141.0</br>TWF: 0.0</br>PWF: 0.0</br>OSF: 0.0</br>RNF: 0.0</br>_original_yhat_: 0.003318951211417192</br>\"],[\"</br>id: 4176</br>prediction: 0.003</br>HDF: 0.41000000000000003</br></br>Type: M</br>Air temperature [K]: 302.3</br>Process temperature [K]: 310.7</br>Rotational speed [rpm]: 1544.0</br>Torque [Nm]: 39.7</br>Tool wear [min]: 141.0</br>TWF: 0.0</br>PWF: 0.0</br>OSF: 0.0</br>RNF: 0.0</br>_original_yhat_: 0.003318951211417192</br>\"],[\"</br>id: 4176</br>prediction: 0.003</br>HDF: 0.42</br></br>Type: M</br>Air temperature [K]: 302.3</br>Process temperature [K]: 310.7</br>Rotational speed [rpm]: 1544.0</br>Torque [Nm]: 39.7</br>Tool wear [min]: 141.0</br>TWF: 0.0</br>PWF: 0.0</br>OSF: 0.0</br>RNF: 0.0</br>_original_yhat_: 0.003318951211417192</br>\"],[\"</br>id: 4176</br>prediction: 0.003</br>HDF: 0.43</br></br>Type: M</br>Air temperature [K]: 302.3</br>Process temperature [K]: 310.7</br>Rotational speed [rpm]: 1544.0</br>Torque [Nm]: 39.7</br>Tool wear [min]: 141.0</br>TWF: 0.0</br>PWF: 0.0</br>OSF: 0.0</br>RNF: 0.0</br>_original_yhat_: 0.003318951211417192</br>\"],[\"</br>id: 4176</br>prediction: 0.003</br>HDF: 0.44</br></br>Type: M</br>Air temperature [K]: 302.3</br>Process temperature [K]: 310.7</br>Rotational speed [rpm]: 1544.0</br>Torque [Nm]: 39.7</br>Tool wear [min]: 141.0</br>TWF: 0.0</br>PWF: 0.0</br>OSF: 0.0</br>RNF: 0.0</br>_original_yhat_: 0.003318951211417192</br>\"],[\"</br>id: 4176</br>prediction: 0.003</br>HDF: 0.45</br></br>Type: M</br>Air temperature [K]: 302.3</br>Process temperature [K]: 310.7</br>Rotational speed [rpm]: 1544.0</br>Torque [Nm]: 39.7</br>Tool wear [min]: 141.0</br>TWF: 0.0</br>PWF: 0.0</br>OSF: 0.0</br>RNF: 0.0</br>_original_yhat_: 0.003318951211417192</br>\"],[\"</br>id: 4176</br>prediction: 0.003</br>HDF: 0.46</br></br>Type: M</br>Air temperature [K]: 302.3</br>Process temperature [K]: 310.7</br>Rotational speed [rpm]: 1544.0</br>Torque [Nm]: 39.7</br>Tool wear [min]: 141.0</br>TWF: 0.0</br>PWF: 0.0</br>OSF: 0.0</br>RNF: 0.0</br>_original_yhat_: 0.003318951211417192</br>\"],[\"</br>id: 4176</br>prediction: 0.003</br>HDF: 0.47000000000000003</br></br>Type: M</br>Air temperature [K]: 302.3</br>Process temperature [K]: 310.7</br>Rotational speed [rpm]: 1544.0</br>Torque [Nm]: 39.7</br>Tool wear [min]: 141.0</br>TWF: 0.0</br>PWF: 0.0</br>OSF: 0.0</br>RNF: 0.0</br>_original_yhat_: 0.003318951211417192</br>\"],[\"</br>id: 4176</br>prediction: 0.003</br>HDF: 0.48</br></br>Type: M</br>Air temperature [K]: 302.3</br>Process temperature [K]: 310.7</br>Rotational speed [rpm]: 1544.0</br>Torque [Nm]: 39.7</br>Tool wear [min]: 141.0</br>TWF: 0.0</br>PWF: 0.0</br>OSF: 0.0</br>RNF: 0.0</br>_original_yhat_: 0.003318951211417192</br>\"],[\"</br>id: 4176</br>prediction: 0.003</br>HDF: 0.49</br></br>Type: M</br>Air temperature [K]: 302.3</br>Process temperature [K]: 310.7</br>Rotational speed [rpm]: 1544.0</br>Torque [Nm]: 39.7</br>Tool wear [min]: 141.0</br>TWF: 0.0</br>PWF: 0.0</br>OSF: 0.0</br>RNF: 0.0</br>_original_yhat_: 0.003318951211417192</br>\"],[\"</br>id: 4176</br>prediction: 0.003</br>HDF: 0.5</br></br>Type: M</br>Air temperature [K]: 302.3</br>Process temperature [K]: 310.7</br>Rotational speed [rpm]: 1544.0</br>Torque [Nm]: 39.7</br>Tool wear [min]: 141.0</br>TWF: 0.0</br>PWF: 0.0</br>OSF: 0.0</br>RNF: 0.0</br>_original_yhat_: 0.003318951211417192</br>\"],[\"</br>id: 4176</br>prediction: 0.003</br>HDF: 0.51</br></br>Type: M</br>Air temperature [K]: 302.3</br>Process temperature [K]: 310.7</br>Rotational speed [rpm]: 1544.0</br>Torque [Nm]: 39.7</br>Tool wear [min]: 141.0</br>TWF: 0.0</br>PWF: 0.0</br>OSF: 0.0</br>RNF: 0.0</br>_original_yhat_: 0.003318951211417192</br>\"],[\"</br>id: 4176</br>prediction: 0.003</br>HDF: 0.52</br></br>Type: M</br>Air temperature [K]: 302.3</br>Process temperature [K]: 310.7</br>Rotational speed [rpm]: 1544.0</br>Torque [Nm]: 39.7</br>Tool wear [min]: 141.0</br>TWF: 0.0</br>PWF: 0.0</br>OSF: 0.0</br>RNF: 0.0</br>_original_yhat_: 0.003318951211417192</br>\"],[\"</br>id: 4176</br>prediction: 0.003</br>HDF: 0.53</br></br>Type: M</br>Air temperature [K]: 302.3</br>Process temperature [K]: 310.7</br>Rotational speed [rpm]: 1544.0</br>Torque [Nm]: 39.7</br>Tool wear [min]: 141.0</br>TWF: 0.0</br>PWF: 0.0</br>OSF: 0.0</br>RNF: 0.0</br>_original_yhat_: 0.003318951211417192</br>\"],[\"</br>id: 4176</br>prediction: 0.003</br>HDF: 0.54</br></br>Type: M</br>Air temperature [K]: 302.3</br>Process temperature [K]: 310.7</br>Rotational speed [rpm]: 1544.0</br>Torque [Nm]: 39.7</br>Tool wear [min]: 141.0</br>TWF: 0.0</br>PWF: 0.0</br>OSF: 0.0</br>RNF: 0.0</br>_original_yhat_: 0.003318951211417192</br>\"],[\"</br>id: 4176</br>prediction: 0.003</br>HDF: 0.55</br></br>Type: M</br>Air temperature [K]: 302.3</br>Process temperature [K]: 310.7</br>Rotational speed [rpm]: 1544.0</br>Torque [Nm]: 39.7</br>Tool wear [min]: 141.0</br>TWF: 0.0</br>PWF: 0.0</br>OSF: 0.0</br>RNF: 0.0</br>_original_yhat_: 0.003318951211417192</br>\"],[\"</br>id: 4176</br>prediction: 0.003</br>HDF: 0.56</br></br>Type: M</br>Air temperature [K]: 302.3</br>Process temperature [K]: 310.7</br>Rotational speed [rpm]: 1544.0</br>Torque [Nm]: 39.7</br>Tool wear [min]: 141.0</br>TWF: 0.0</br>PWF: 0.0</br>OSF: 0.0</br>RNF: 0.0</br>_original_yhat_: 0.003318951211417192</br>\"],[\"</br>id: 4176</br>prediction: 0.003</br>HDF: 0.5700000000000001</br></br>Type: M</br>Air temperature [K]: 302.3</br>Process temperature [K]: 310.7</br>Rotational speed [rpm]: 1544.0</br>Torque [Nm]: 39.7</br>Tool wear [min]: 141.0</br>TWF: 0.0</br>PWF: 0.0</br>OSF: 0.0</br>RNF: 0.0</br>_original_yhat_: 0.003318951211417192</br>\"],[\"</br>id: 4176</br>prediction: 0.003</br>HDF: 0.58</br></br>Type: M</br>Air temperature [K]: 302.3</br>Process temperature [K]: 310.7</br>Rotational speed [rpm]: 1544.0</br>Torque [Nm]: 39.7</br>Tool wear [min]: 141.0</br>TWF: 0.0</br>PWF: 0.0</br>OSF: 0.0</br>RNF: 0.0</br>_original_yhat_: 0.003318951211417192</br>\"],[\"</br>id: 4176</br>prediction: 0.003</br>HDF: 0.59</br></br>Type: M</br>Air temperature [K]: 302.3</br>Process temperature [K]: 310.7</br>Rotational speed [rpm]: 1544.0</br>Torque [Nm]: 39.7</br>Tool wear [min]: 141.0</br>TWF: 0.0</br>PWF: 0.0</br>OSF: 0.0</br>RNF: 0.0</br>_original_yhat_: 0.003318951211417192</br>\"],[\"</br>id: 4176</br>prediction: 0.003</br>HDF: 0.6</br></br>Type: M</br>Air temperature [K]: 302.3</br>Process temperature [K]: 310.7</br>Rotational speed [rpm]: 1544.0</br>Torque [Nm]: 39.7</br>Tool wear [min]: 141.0</br>TWF: 0.0</br>PWF: 0.0</br>OSF: 0.0</br>RNF: 0.0</br>_original_yhat_: 0.003318951211417192</br>\"],[\"</br>id: 4176</br>prediction: 0.003</br>HDF: 0.61</br></br>Type: M</br>Air temperature [K]: 302.3</br>Process temperature [K]: 310.7</br>Rotational speed [rpm]: 1544.0</br>Torque [Nm]: 39.7</br>Tool wear [min]: 141.0</br>TWF: 0.0</br>PWF: 0.0</br>OSF: 0.0</br>RNF: 0.0</br>_original_yhat_: 0.003318951211417192</br>\"],[\"</br>id: 4176</br>prediction: 0.003</br>HDF: 0.62</br></br>Type: M</br>Air temperature [K]: 302.3</br>Process temperature [K]: 310.7</br>Rotational speed [rpm]: 1544.0</br>Torque [Nm]: 39.7</br>Tool wear [min]: 141.0</br>TWF: 0.0</br>PWF: 0.0</br>OSF: 0.0</br>RNF: 0.0</br>_original_yhat_: 0.003318951211417192</br>\"],[\"</br>id: 4176</br>prediction: 0.003</br>HDF: 0.63</br></br>Type: M</br>Air temperature [K]: 302.3</br>Process temperature [K]: 310.7</br>Rotational speed [rpm]: 1544.0</br>Torque [Nm]: 39.7</br>Tool wear [min]: 141.0</br>TWF: 0.0</br>PWF: 0.0</br>OSF: 0.0</br>RNF: 0.0</br>_original_yhat_: 0.003318951211417192</br>\"],[\"</br>id: 4176</br>prediction: 0.003</br>HDF: 0.64</br></br>Type: M</br>Air temperature [K]: 302.3</br>Process temperature [K]: 310.7</br>Rotational speed [rpm]: 1544.0</br>Torque [Nm]: 39.7</br>Tool wear [min]: 141.0</br>TWF: 0.0</br>PWF: 0.0</br>OSF: 0.0</br>RNF: 0.0</br>_original_yhat_: 0.003318951211417192</br>\"],[\"</br>id: 4176</br>prediction: 0.003</br>HDF: 0.65</br></br>Type: M</br>Air temperature [K]: 302.3</br>Process temperature [K]: 310.7</br>Rotational speed [rpm]: 1544.0</br>Torque [Nm]: 39.7</br>Tool wear [min]: 141.0</br>TWF: 0.0</br>PWF: 0.0</br>OSF: 0.0</br>RNF: 0.0</br>_original_yhat_: 0.003318951211417192</br>\"],[\"</br>id: 4176</br>prediction: 0.003</br>HDF: 0.66</br></br>Type: M</br>Air temperature [K]: 302.3</br>Process temperature [K]: 310.7</br>Rotational speed [rpm]: 1544.0</br>Torque [Nm]: 39.7</br>Tool wear [min]: 141.0</br>TWF: 0.0</br>PWF: 0.0</br>OSF: 0.0</br>RNF: 0.0</br>_original_yhat_: 0.003318951211417192</br>\"],[\"</br>id: 4176</br>prediction: 0.003</br>HDF: 0.67</br></br>Type: M</br>Air temperature [K]: 302.3</br>Process temperature [K]: 310.7</br>Rotational speed [rpm]: 1544.0</br>Torque [Nm]: 39.7</br>Tool wear [min]: 141.0</br>TWF: 0.0</br>PWF: 0.0</br>OSF: 0.0</br>RNF: 0.0</br>_original_yhat_: 0.003318951211417192</br>\"],[\"</br>id: 4176</br>prediction: 0.003</br>HDF: 0.68</br></br>Type: M</br>Air temperature [K]: 302.3</br>Process temperature [K]: 310.7</br>Rotational speed [rpm]: 1544.0</br>Torque [Nm]: 39.7</br>Tool wear [min]: 141.0</br>TWF: 0.0</br>PWF: 0.0</br>OSF: 0.0</br>RNF: 0.0</br>_original_yhat_: 0.003318951211417192</br>\"],[\"</br>id: 4176</br>prediction: 0.003</br>HDF: 0.6900000000000001</br></br>Type: M</br>Air temperature [K]: 302.3</br>Process temperature [K]: 310.7</br>Rotational speed [rpm]: 1544.0</br>Torque [Nm]: 39.7</br>Tool wear [min]: 141.0</br>TWF: 0.0</br>PWF: 0.0</br>OSF: 0.0</br>RNF: 0.0</br>_original_yhat_: 0.003318951211417192</br>\"],[\"</br>id: 4176</br>prediction: 0.003</br>HDF: 0.7000000000000001</br></br>Type: M</br>Air temperature [K]: 302.3</br>Process temperature [K]: 310.7</br>Rotational speed [rpm]: 1544.0</br>Torque [Nm]: 39.7</br>Tool wear [min]: 141.0</br>TWF: 0.0</br>PWF: 0.0</br>OSF: 0.0</br>RNF: 0.0</br>_original_yhat_: 0.003318951211417192</br>\"],[\"</br>id: 4176</br>prediction: 0.003</br>HDF: 0.71</br></br>Type: M</br>Air temperature [K]: 302.3</br>Process temperature [K]: 310.7</br>Rotational speed [rpm]: 1544.0</br>Torque [Nm]: 39.7</br>Tool wear [min]: 141.0</br>TWF: 0.0</br>PWF: 0.0</br>OSF: 0.0</br>RNF: 0.0</br>_original_yhat_: 0.003318951211417192</br>\"],[\"</br>id: 4176</br>prediction: 0.003</br>HDF: 0.72</br></br>Type: M</br>Air temperature [K]: 302.3</br>Process temperature [K]: 310.7</br>Rotational speed [rpm]: 1544.0</br>Torque [Nm]: 39.7</br>Tool wear [min]: 141.0</br>TWF: 0.0</br>PWF: 0.0</br>OSF: 0.0</br>RNF: 0.0</br>_original_yhat_: 0.003318951211417192</br>\"],[\"</br>id: 4176</br>prediction: 0.003</br>HDF: 0.73</br></br>Type: M</br>Air temperature [K]: 302.3</br>Process temperature [K]: 310.7</br>Rotational speed [rpm]: 1544.0</br>Torque [Nm]: 39.7</br>Tool wear [min]: 141.0</br>TWF: 0.0</br>PWF: 0.0</br>OSF: 0.0</br>RNF: 0.0</br>_original_yhat_: 0.003318951211417192</br>\"],[\"</br>id: 4176</br>prediction: 0.003</br>HDF: 0.74</br></br>Type: M</br>Air temperature [K]: 302.3</br>Process temperature [K]: 310.7</br>Rotational speed [rpm]: 1544.0</br>Torque [Nm]: 39.7</br>Tool wear [min]: 141.0</br>TWF: 0.0</br>PWF: 0.0</br>OSF: 0.0</br>RNF: 0.0</br>_original_yhat_: 0.003318951211417192</br>\"],[\"</br>id: 4176</br>prediction: 0.003</br>HDF: 0.75</br></br>Type: M</br>Air temperature [K]: 302.3</br>Process temperature [K]: 310.7</br>Rotational speed [rpm]: 1544.0</br>Torque [Nm]: 39.7</br>Tool wear [min]: 141.0</br>TWF: 0.0</br>PWF: 0.0</br>OSF: 0.0</br>RNF: 0.0</br>_original_yhat_: 0.003318951211417192</br>\"],[\"</br>id: 4176</br>prediction: 0.003</br>HDF: 0.76</br></br>Type: M</br>Air temperature [K]: 302.3</br>Process temperature [K]: 310.7</br>Rotational speed [rpm]: 1544.0</br>Torque [Nm]: 39.7</br>Tool wear [min]: 141.0</br>TWF: 0.0</br>PWF: 0.0</br>OSF: 0.0</br>RNF: 0.0</br>_original_yhat_: 0.003318951211417192</br>\"],[\"</br>id: 4176</br>prediction: 0.003</br>HDF: 0.77</br></br>Type: M</br>Air temperature [K]: 302.3</br>Process temperature [K]: 310.7</br>Rotational speed [rpm]: 1544.0</br>Torque [Nm]: 39.7</br>Tool wear [min]: 141.0</br>TWF: 0.0</br>PWF: 0.0</br>OSF: 0.0</br>RNF: 0.0</br>_original_yhat_: 0.003318951211417192</br>\"],[\"</br>id: 4176</br>prediction: 0.003</br>HDF: 0.78</br></br>Type: M</br>Air temperature [K]: 302.3</br>Process temperature [K]: 310.7</br>Rotational speed [rpm]: 1544.0</br>Torque [Nm]: 39.7</br>Tool wear [min]: 141.0</br>TWF: 0.0</br>PWF: 0.0</br>OSF: 0.0</br>RNF: 0.0</br>_original_yhat_: 0.003318951211417192</br>\"],[\"</br>id: 4176</br>prediction: 0.003</br>HDF: 0.79</br></br>Type: M</br>Air temperature [K]: 302.3</br>Process temperature [K]: 310.7</br>Rotational speed [rpm]: 1544.0</br>Torque [Nm]: 39.7</br>Tool wear [min]: 141.0</br>TWF: 0.0</br>PWF: 0.0</br>OSF: 0.0</br>RNF: 0.0</br>_original_yhat_: 0.003318951211417192</br>\"],[\"</br>id: 4176</br>prediction: 0.003</br>HDF: 0.8</br></br>Type: M</br>Air temperature [K]: 302.3</br>Process temperature [K]: 310.7</br>Rotational speed [rpm]: 1544.0</br>Torque [Nm]: 39.7</br>Tool wear [min]: 141.0</br>TWF: 0.0</br>PWF: 0.0</br>OSF: 0.0</br>RNF: 0.0</br>_original_yhat_: 0.003318951211417192</br>\"],[\"</br>id: 4176</br>prediction: 0.003</br>HDF: 0.81</br></br>Type: M</br>Air temperature [K]: 302.3</br>Process temperature [K]: 310.7</br>Rotational speed [rpm]: 1544.0</br>Torque [Nm]: 39.7</br>Tool wear [min]: 141.0</br>TWF: 0.0</br>PWF: 0.0</br>OSF: 0.0</br>RNF: 0.0</br>_original_yhat_: 0.003318951211417192</br>\"],[\"</br>id: 4176</br>prediction: 0.003</br>HDF: 0.8200000000000001</br></br>Type: M</br>Air temperature [K]: 302.3</br>Process temperature [K]: 310.7</br>Rotational speed [rpm]: 1544.0</br>Torque [Nm]: 39.7</br>Tool wear [min]: 141.0</br>TWF: 0.0</br>PWF: 0.0</br>OSF: 0.0</br>RNF: 0.0</br>_original_yhat_: 0.003318951211417192</br>\"],[\"</br>id: 4176</br>prediction: 0.003</br>HDF: 0.8300000000000001</br></br>Type: M</br>Air temperature [K]: 302.3</br>Process temperature [K]: 310.7</br>Rotational speed [rpm]: 1544.0</br>Torque [Nm]: 39.7</br>Tool wear [min]: 141.0</br>TWF: 0.0</br>PWF: 0.0</br>OSF: 0.0</br>RNF: 0.0</br>_original_yhat_: 0.003318951211417192</br>\"],[\"</br>id: 4176</br>prediction: 0.003</br>HDF: 0.84</br></br>Type: M</br>Air temperature [K]: 302.3</br>Process temperature [K]: 310.7</br>Rotational speed [rpm]: 1544.0</br>Torque [Nm]: 39.7</br>Tool wear [min]: 141.0</br>TWF: 0.0</br>PWF: 0.0</br>OSF: 0.0</br>RNF: 0.0</br>_original_yhat_: 0.003318951211417192</br>\"],[\"</br>id: 4176</br>prediction: 0.003</br>HDF: 0.85</br></br>Type: M</br>Air temperature [K]: 302.3</br>Process temperature [K]: 310.7</br>Rotational speed [rpm]: 1544.0</br>Torque [Nm]: 39.7</br>Tool wear [min]: 141.0</br>TWF: 0.0</br>PWF: 0.0</br>OSF: 0.0</br>RNF: 0.0</br>_original_yhat_: 0.003318951211417192</br>\"],[\"</br>id: 4176</br>prediction: 0.003</br>HDF: 0.86</br></br>Type: M</br>Air temperature [K]: 302.3</br>Process temperature [K]: 310.7</br>Rotational speed [rpm]: 1544.0</br>Torque [Nm]: 39.7</br>Tool wear [min]: 141.0</br>TWF: 0.0</br>PWF: 0.0</br>OSF: 0.0</br>RNF: 0.0</br>_original_yhat_: 0.003318951211417192</br>\"],[\"</br>id: 4176</br>prediction: 0.003</br>HDF: 0.87</br></br>Type: M</br>Air temperature [K]: 302.3</br>Process temperature [K]: 310.7</br>Rotational speed [rpm]: 1544.0</br>Torque [Nm]: 39.7</br>Tool wear [min]: 141.0</br>TWF: 0.0</br>PWF: 0.0</br>OSF: 0.0</br>RNF: 0.0</br>_original_yhat_: 0.003318951211417192</br>\"],[\"</br>id: 4176</br>prediction: 0.003</br>HDF: 0.88</br></br>Type: M</br>Air temperature [K]: 302.3</br>Process temperature [K]: 310.7</br>Rotational speed [rpm]: 1544.0</br>Torque [Nm]: 39.7</br>Tool wear [min]: 141.0</br>TWF: 0.0</br>PWF: 0.0</br>OSF: 0.0</br>RNF: 0.0</br>_original_yhat_: 0.003318951211417192</br>\"],[\"</br>id: 4176</br>prediction: 0.003</br>HDF: 0.89</br></br>Type: M</br>Air temperature [K]: 302.3</br>Process temperature [K]: 310.7</br>Rotational speed [rpm]: 1544.0</br>Torque [Nm]: 39.7</br>Tool wear [min]: 141.0</br>TWF: 0.0</br>PWF: 0.0</br>OSF: 0.0</br>RNF: 0.0</br>_original_yhat_: 0.003318951211417192</br>\"],[\"</br>id: 4176</br>prediction: 0.003</br>HDF: 0.9</br></br>Type: M</br>Air temperature [K]: 302.3</br>Process temperature [K]: 310.7</br>Rotational speed [rpm]: 1544.0</br>Torque [Nm]: 39.7</br>Tool wear [min]: 141.0</br>TWF: 0.0</br>PWF: 0.0</br>OSF: 0.0</br>RNF: 0.0</br>_original_yhat_: 0.003318951211417192</br>\"],[\"</br>id: 4176</br>prediction: 0.003</br>HDF: 0.91</br></br>Type: M</br>Air temperature [K]: 302.3</br>Process temperature [K]: 310.7</br>Rotational speed [rpm]: 1544.0</br>Torque [Nm]: 39.7</br>Tool wear [min]: 141.0</br>TWF: 0.0</br>PWF: 0.0</br>OSF: 0.0</br>RNF: 0.0</br>_original_yhat_: 0.003318951211417192</br>\"],[\"</br>id: 4176</br>prediction: 0.003</br>HDF: 0.92</br></br>Type: M</br>Air temperature [K]: 302.3</br>Process temperature [K]: 310.7</br>Rotational speed [rpm]: 1544.0</br>Torque [Nm]: 39.7</br>Tool wear [min]: 141.0</br>TWF: 0.0</br>PWF: 0.0</br>OSF: 0.0</br>RNF: 0.0</br>_original_yhat_: 0.003318951211417192</br>\"],[\"</br>id: 4176</br>prediction: 0.003</br>HDF: 0.93</br></br>Type: M</br>Air temperature [K]: 302.3</br>Process temperature [K]: 310.7</br>Rotational speed [rpm]: 1544.0</br>Torque [Nm]: 39.7</br>Tool wear [min]: 141.0</br>TWF: 0.0</br>PWF: 0.0</br>OSF: 0.0</br>RNF: 0.0</br>_original_yhat_: 0.003318951211417192</br>\"],[\"</br>id: 4176</br>prediction: 0.003</br>HDF: 0.9400000000000001</br></br>Type: M</br>Air temperature [K]: 302.3</br>Process temperature [K]: 310.7</br>Rotational speed [rpm]: 1544.0</br>Torque [Nm]: 39.7</br>Tool wear [min]: 141.0</br>TWF: 0.0</br>PWF: 0.0</br>OSF: 0.0</br>RNF: 0.0</br>_original_yhat_: 0.003318951211417192</br>\"],[\"</br>id: 4176</br>prediction: 0.003</br>HDF: 0.9500000000000001</br></br>Type: M</br>Air temperature [K]: 302.3</br>Process temperature [K]: 310.7</br>Rotational speed [rpm]: 1544.0</br>Torque [Nm]: 39.7</br>Tool wear [min]: 141.0</br>TWF: 0.0</br>PWF: 0.0</br>OSF: 0.0</br>RNF: 0.0</br>_original_yhat_: 0.003318951211417192</br>\"],[\"</br>id: 4176</br>prediction: 0.003</br>HDF: 0.96</br></br>Type: M</br>Air temperature [K]: 302.3</br>Process temperature [K]: 310.7</br>Rotational speed [rpm]: 1544.0</br>Torque [Nm]: 39.7</br>Tool wear [min]: 141.0</br>TWF: 0.0</br>PWF: 0.0</br>OSF: 0.0</br>RNF: 0.0</br>_original_yhat_: 0.003318951211417192</br>\"],[\"</br>id: 4176</br>prediction: 0.003</br>HDF: 0.97</br></br>Type: M</br>Air temperature [K]: 302.3</br>Process temperature [K]: 310.7</br>Rotational speed [rpm]: 1544.0</br>Torque [Nm]: 39.7</br>Tool wear [min]: 141.0</br>TWF: 0.0</br>PWF: 0.0</br>OSF: 0.0</br>RNF: 0.0</br>_original_yhat_: 0.003318951211417192</br>\"],[\"</br>id: 4176</br>prediction: 0.003</br>HDF: 0.98</br></br>Type: M</br>Air temperature [K]: 302.3</br>Process temperature [K]: 310.7</br>Rotational speed [rpm]: 1544.0</br>Torque [Nm]: 39.7</br>Tool wear [min]: 141.0</br>TWF: 0.0</br>PWF: 0.0</br>OSF: 0.0</br>RNF: 0.0</br>_original_yhat_: 0.003318951211417192</br>\"],[\"</br>id: 4176</br>prediction: 0.003</br>HDF: 0.99</br></br>Type: M</br>Air temperature [K]: 302.3</br>Process temperature [K]: 310.7</br>Rotational speed [rpm]: 1544.0</br>Torque [Nm]: 39.7</br>Tool wear [min]: 141.0</br>TWF: 0.0</br>PWF: 0.0</br>OSF: 0.0</br>RNF: 0.0</br>_original_yhat_: 0.003318951211417192</br>\"],[\"</br>id: 4176</br>prediction: 0.003</br>HDF: 1.0</br></br>Type: M</br>Air temperature [K]: 302.3</br>Process temperature [K]: 310.7</br>Rotational speed [rpm]: 1544.0</br>Torque [Nm]: 39.7</br>Tool wear [min]: 141.0</br>TWF: 0.0</br>PWF: 0.0</br>OSF: 0.0</br>RNF: 0.0</br>_original_yhat_: 0.003318951211417192</br>\"]],\"hovertemplate\":\"%{customdata[0]}<extra></extra>\",\"legendgroup\":\"testing\",\"line\":{\"color\":\"#46bac2\",\"dash\":\"solid\",\"width\":2},\"marker\":{\"symbol\":\"circle\"},\"mode\":\"lines\",\"name\":\"testing\",\"showlegend\":false,\"x\":[0.0,0.01,0.02,0.03,0.04,0.05,0.06,0.07,0.08,0.09,0.1,0.11,0.12,0.13,0.14,0.15,0.16,0.17,0.18,0.19,0.2,0.21,0.22,0.23,0.24,0.25,0.26,0.27,0.28,0.29,0.3,0.31,0.32,0.33,0.34,0.35000000000000003,0.36,0.37,0.38,0.39,0.4,0.41000000000000003,0.42,0.43,0.44,0.45,0.46,0.47000000000000003,0.48,0.49,0.5,0.51,0.52,0.53,0.54,0.55,0.56,0.5700000000000001,0.58,0.59,0.6,0.61,0.62,0.63,0.64,0.65,0.66,0.67,0.68,0.6900000000000001,0.7000000000000001,0.71,0.72,0.73,0.74,0.75,0.76,0.77,0.78,0.79,0.8,0.81,0.8200000000000001,0.8300000000000001,0.84,0.85,0.86,0.87,0.88,0.89,0.9,0.91,0.92,0.93,0.9400000000000001,0.9500000000000001,0.96,0.97,0.98,0.99,1.0],\"xaxis\":\"x3\",\"y\":[0.003318951211417192,0.003318951211417192,0.003318951211417192,0.003318951211417192,0.003318951211417192,0.003318951211417192,0.003318951211417192,0.003318951211417192,0.003318951211417192,0.003318951211417192,0.003318951211417192,0.003318951211417192,0.003318951211417192,0.003318951211417192,0.003318951211417192,0.003318951211417192,0.003318951211417192,0.003318951211417192,0.003318951211417192,0.003318951211417192,0.003318951211417192,0.003318951211417192,0.003318951211417192,0.003318951211417192,0.003318951211417192,0.003318951211417192,0.003318951211417192,0.003318951211417192,0.003318951211417192,0.003318951211417192,0.003318951211417192,0.003318951211417192,0.003318951211417192,0.003318951211417192,0.003318951211417192,0.003318951211417192,0.003318951211417192,0.003318951211417192,0.003318951211417192,0.003318951211417192,0.003318951211417192,0.003318951211417192,0.003318951211417192,0.003318951211417192,0.003318951211417192,0.003318951211417192,0.003318951211417192,0.003318951211417192,0.003318951211417192,0.003318951211417192,0.003318951211417192,0.003318951211417192,0.003318951211417192,0.003318951211417192,0.003318951211417192,0.003318951211417192,0.003318951211417192,0.003318951211417192,0.003318951211417192,0.003318951211417192,0.003318951211417192,0.003318951211417192,0.003318951211417192,0.003318951211417192,0.003318951211417192,0.003318951211417192,0.003318951211417192,0.003318951211417192,0.003318951211417192,0.003318951211417192,0.003318951211417192,0.003318951211417192,0.003318951211417192,0.003318951211417192,0.003318951211417192,0.003318951211417192,0.003318951211417192,0.003318951211417192,0.003318951211417192,0.003318951211417192,0.003318951211417192,0.003318951211417192,0.003318951211417192,0.003318951211417192,0.003318951211417192,0.003318951211417192,0.003318951211417192,0.003318951211417192,0.003318951211417192,0.003318951211417192,0.003318951211417192,0.003318951211417192,0.003318951211417192,0.003318951211417192,0.003318951211417192,0.003318951211417192,0.003318951211417192,0.003318951211417192,0.003318951211417192,0.003318951211417192,0.003318951211417192],\"yaxis\":\"y3\",\"type\":\"scattergl\",\"opacity\":1},{\"customdata\":[[\"</br>id: 4176</br>prediction: 0.003</br>PWF: 0.0</br></br>Type: M</br>Air temperature [K]: 302.3</br>Process temperature [K]: 310.7</br>Rotational speed [rpm]: 1544.0</br>Torque [Nm]: 39.7</br>Tool wear [min]: 141.0</br>TWF: 0.0</br>HDF: 0.0</br>OSF: 0.0</br>RNF: 0.0</br>_original_yhat_: 0.003318951211417192</br>\"],[\"</br>id: 4176</br>prediction: 0.003</br>PWF: 0.01</br></br>Type: M</br>Air temperature [K]: 302.3</br>Process temperature [K]: 310.7</br>Rotational speed [rpm]: 1544.0</br>Torque [Nm]: 39.7</br>Tool wear [min]: 141.0</br>TWF: 0.0</br>HDF: 0.0</br>OSF: 0.0</br>RNF: 0.0</br>_original_yhat_: 0.003318951211417192</br>\"],[\"</br>id: 4176</br>prediction: 0.003</br>PWF: 0.02</br></br>Type: M</br>Air temperature [K]: 302.3</br>Process temperature [K]: 310.7</br>Rotational speed [rpm]: 1544.0</br>Torque [Nm]: 39.7</br>Tool wear [min]: 141.0</br>TWF: 0.0</br>HDF: 0.0</br>OSF: 0.0</br>RNF: 0.0</br>_original_yhat_: 0.003318951211417192</br>\"],[\"</br>id: 4176</br>prediction: 0.003</br>PWF: 0.03</br></br>Type: M</br>Air temperature [K]: 302.3</br>Process temperature [K]: 310.7</br>Rotational speed [rpm]: 1544.0</br>Torque [Nm]: 39.7</br>Tool wear [min]: 141.0</br>TWF: 0.0</br>HDF: 0.0</br>OSF: 0.0</br>RNF: 0.0</br>_original_yhat_: 0.003318951211417192</br>\"],[\"</br>id: 4176</br>prediction: 0.003</br>PWF: 0.04</br></br>Type: M</br>Air temperature [K]: 302.3</br>Process temperature [K]: 310.7</br>Rotational speed [rpm]: 1544.0</br>Torque [Nm]: 39.7</br>Tool wear [min]: 141.0</br>TWF: 0.0</br>HDF: 0.0</br>OSF: 0.0</br>RNF: 0.0</br>_original_yhat_: 0.003318951211417192</br>\"],[\"</br>id: 4176</br>prediction: 0.003</br>PWF: 0.05</br></br>Type: M</br>Air temperature [K]: 302.3</br>Process temperature [K]: 310.7</br>Rotational speed [rpm]: 1544.0</br>Torque [Nm]: 39.7</br>Tool wear [min]: 141.0</br>TWF: 0.0</br>HDF: 0.0</br>OSF: 0.0</br>RNF: 0.0</br>_original_yhat_: 0.003318951211417192</br>\"],[\"</br>id: 4176</br>prediction: 0.003</br>PWF: 0.06</br></br>Type: M</br>Air temperature [K]: 302.3</br>Process temperature [K]: 310.7</br>Rotational speed [rpm]: 1544.0</br>Torque [Nm]: 39.7</br>Tool wear [min]: 141.0</br>TWF: 0.0</br>HDF: 0.0</br>OSF: 0.0</br>RNF: 0.0</br>_original_yhat_: 0.003318951211417192</br>\"],[\"</br>id: 4176</br>prediction: 0.003</br>PWF: 0.07</br></br>Type: M</br>Air temperature [K]: 302.3</br>Process temperature [K]: 310.7</br>Rotational speed [rpm]: 1544.0</br>Torque [Nm]: 39.7</br>Tool wear [min]: 141.0</br>TWF: 0.0</br>HDF: 0.0</br>OSF: 0.0</br>RNF: 0.0</br>_original_yhat_: 0.003318951211417192</br>\"],[\"</br>id: 4176</br>prediction: 0.003</br>PWF: 0.08</br></br>Type: M</br>Air temperature [K]: 302.3</br>Process temperature [K]: 310.7</br>Rotational speed [rpm]: 1544.0</br>Torque [Nm]: 39.7</br>Tool wear [min]: 141.0</br>TWF: 0.0</br>HDF: 0.0</br>OSF: 0.0</br>RNF: 0.0</br>_original_yhat_: 0.003318951211417192</br>\"],[\"</br>id: 4176</br>prediction: 0.003</br>PWF: 0.09</br></br>Type: M</br>Air temperature [K]: 302.3</br>Process temperature [K]: 310.7</br>Rotational speed [rpm]: 1544.0</br>Torque [Nm]: 39.7</br>Tool wear [min]: 141.0</br>TWF: 0.0</br>HDF: 0.0</br>OSF: 0.0</br>RNF: 0.0</br>_original_yhat_: 0.003318951211417192</br>\"],[\"</br>id: 4176</br>prediction: 0.003</br>PWF: 0.1</br></br>Type: M</br>Air temperature [K]: 302.3</br>Process temperature [K]: 310.7</br>Rotational speed [rpm]: 1544.0</br>Torque [Nm]: 39.7</br>Tool wear [min]: 141.0</br>TWF: 0.0</br>HDF: 0.0</br>OSF: 0.0</br>RNF: 0.0</br>_original_yhat_: 0.003318951211417192</br>\"],[\"</br>id: 4176</br>prediction: 0.003</br>PWF: 0.11</br></br>Type: M</br>Air temperature [K]: 302.3</br>Process temperature [K]: 310.7</br>Rotational speed [rpm]: 1544.0</br>Torque [Nm]: 39.7</br>Tool wear [min]: 141.0</br>TWF: 0.0</br>HDF: 0.0</br>OSF: 0.0</br>RNF: 0.0</br>_original_yhat_: 0.003318951211417192</br>\"],[\"</br>id: 4176</br>prediction: 0.003</br>PWF: 0.12</br></br>Type: M</br>Air temperature [K]: 302.3</br>Process temperature [K]: 310.7</br>Rotational speed [rpm]: 1544.0</br>Torque [Nm]: 39.7</br>Tool wear [min]: 141.0</br>TWF: 0.0</br>HDF: 0.0</br>OSF: 0.0</br>RNF: 0.0</br>_original_yhat_: 0.003318951211417192</br>\"],[\"</br>id: 4176</br>prediction: 0.003</br>PWF: 0.13</br></br>Type: M</br>Air temperature [K]: 302.3</br>Process temperature [K]: 310.7</br>Rotational speed [rpm]: 1544.0</br>Torque [Nm]: 39.7</br>Tool wear [min]: 141.0</br>TWF: 0.0</br>HDF: 0.0</br>OSF: 0.0</br>RNF: 0.0</br>_original_yhat_: 0.003318951211417192</br>\"],[\"</br>id: 4176</br>prediction: 0.003</br>PWF: 0.14</br></br>Type: M</br>Air temperature [K]: 302.3</br>Process temperature [K]: 310.7</br>Rotational speed [rpm]: 1544.0</br>Torque [Nm]: 39.7</br>Tool wear [min]: 141.0</br>TWF: 0.0</br>HDF: 0.0</br>OSF: 0.0</br>RNF: 0.0</br>_original_yhat_: 0.003318951211417192</br>\"],[\"</br>id: 4176</br>prediction: 0.003</br>PWF: 0.15</br></br>Type: M</br>Air temperature [K]: 302.3</br>Process temperature [K]: 310.7</br>Rotational speed [rpm]: 1544.0</br>Torque [Nm]: 39.7</br>Tool wear [min]: 141.0</br>TWF: 0.0</br>HDF: 0.0</br>OSF: 0.0</br>RNF: 0.0</br>_original_yhat_: 0.003318951211417192</br>\"],[\"</br>id: 4176</br>prediction: 0.003</br>PWF: 0.16</br></br>Type: M</br>Air temperature [K]: 302.3</br>Process temperature [K]: 310.7</br>Rotational speed [rpm]: 1544.0</br>Torque [Nm]: 39.7</br>Tool wear [min]: 141.0</br>TWF: 0.0</br>HDF: 0.0</br>OSF: 0.0</br>RNF: 0.0</br>_original_yhat_: 0.003318951211417192</br>\"],[\"</br>id: 4176</br>prediction: 0.003</br>PWF: 0.17</br></br>Type: M</br>Air temperature [K]: 302.3</br>Process temperature [K]: 310.7</br>Rotational speed [rpm]: 1544.0</br>Torque [Nm]: 39.7</br>Tool wear [min]: 141.0</br>TWF: 0.0</br>HDF: 0.0</br>OSF: 0.0</br>RNF: 0.0</br>_original_yhat_: 0.003318951211417192</br>\"],[\"</br>id: 4176</br>prediction: 0.003</br>PWF: 0.18</br></br>Type: M</br>Air temperature [K]: 302.3</br>Process temperature [K]: 310.7</br>Rotational speed [rpm]: 1544.0</br>Torque [Nm]: 39.7</br>Tool wear [min]: 141.0</br>TWF: 0.0</br>HDF: 0.0</br>OSF: 0.0</br>RNF: 0.0</br>_original_yhat_: 0.003318951211417192</br>\"],[\"</br>id: 4176</br>prediction: 0.003</br>PWF: 0.19</br></br>Type: M</br>Air temperature [K]: 302.3</br>Process temperature [K]: 310.7</br>Rotational speed [rpm]: 1544.0</br>Torque [Nm]: 39.7</br>Tool wear [min]: 141.0</br>TWF: 0.0</br>HDF: 0.0</br>OSF: 0.0</br>RNF: 0.0</br>_original_yhat_: 0.003318951211417192</br>\"],[\"</br>id: 4176</br>prediction: 0.003</br>PWF: 0.2</br></br>Type: M</br>Air temperature [K]: 302.3</br>Process temperature [K]: 310.7</br>Rotational speed [rpm]: 1544.0</br>Torque [Nm]: 39.7</br>Tool wear [min]: 141.0</br>TWF: 0.0</br>HDF: 0.0</br>OSF: 0.0</br>RNF: 0.0</br>_original_yhat_: 0.003318951211417192</br>\"],[\"</br>id: 4176</br>prediction: 0.003</br>PWF: 0.21</br></br>Type: M</br>Air temperature [K]: 302.3</br>Process temperature [K]: 310.7</br>Rotational speed [rpm]: 1544.0</br>Torque [Nm]: 39.7</br>Tool wear [min]: 141.0</br>TWF: 0.0</br>HDF: 0.0</br>OSF: 0.0</br>RNF: 0.0</br>_original_yhat_: 0.003318951211417192</br>\"],[\"</br>id: 4176</br>prediction: 0.003</br>PWF: 0.22</br></br>Type: M</br>Air temperature [K]: 302.3</br>Process temperature [K]: 310.7</br>Rotational speed [rpm]: 1544.0</br>Torque [Nm]: 39.7</br>Tool wear [min]: 141.0</br>TWF: 0.0</br>HDF: 0.0</br>OSF: 0.0</br>RNF: 0.0</br>_original_yhat_: 0.003318951211417192</br>\"],[\"</br>id: 4176</br>prediction: 0.003</br>PWF: 0.23</br></br>Type: M</br>Air temperature [K]: 302.3</br>Process temperature [K]: 310.7</br>Rotational speed [rpm]: 1544.0</br>Torque [Nm]: 39.7</br>Tool wear [min]: 141.0</br>TWF: 0.0</br>HDF: 0.0</br>OSF: 0.0</br>RNF: 0.0</br>_original_yhat_: 0.003318951211417192</br>\"],[\"</br>id: 4176</br>prediction: 0.003</br>PWF: 0.24</br></br>Type: M</br>Air temperature [K]: 302.3</br>Process temperature [K]: 310.7</br>Rotational speed [rpm]: 1544.0</br>Torque [Nm]: 39.7</br>Tool wear [min]: 141.0</br>TWF: 0.0</br>HDF: 0.0</br>OSF: 0.0</br>RNF: 0.0</br>_original_yhat_: 0.003318951211417192</br>\"],[\"</br>id: 4176</br>prediction: 0.003</br>PWF: 0.25</br></br>Type: M</br>Air temperature [K]: 302.3</br>Process temperature [K]: 310.7</br>Rotational speed [rpm]: 1544.0</br>Torque [Nm]: 39.7</br>Tool wear [min]: 141.0</br>TWF: 0.0</br>HDF: 0.0</br>OSF: 0.0</br>RNF: 0.0</br>_original_yhat_: 0.003318951211417192</br>\"],[\"</br>id: 4176</br>prediction: 0.003</br>PWF: 0.26</br></br>Type: M</br>Air temperature [K]: 302.3</br>Process temperature [K]: 310.7</br>Rotational speed [rpm]: 1544.0</br>Torque [Nm]: 39.7</br>Tool wear [min]: 141.0</br>TWF: 0.0</br>HDF: 0.0</br>OSF: 0.0</br>RNF: 0.0</br>_original_yhat_: 0.003318951211417192</br>\"],[\"</br>id: 4176</br>prediction: 0.003</br>PWF: 0.27</br></br>Type: M</br>Air temperature [K]: 302.3</br>Process temperature [K]: 310.7</br>Rotational speed [rpm]: 1544.0</br>Torque [Nm]: 39.7</br>Tool wear [min]: 141.0</br>TWF: 0.0</br>HDF: 0.0</br>OSF: 0.0</br>RNF: 0.0</br>_original_yhat_: 0.003318951211417192</br>\"],[\"</br>id: 4176</br>prediction: 0.003</br>PWF: 0.28</br></br>Type: M</br>Air temperature [K]: 302.3</br>Process temperature [K]: 310.7</br>Rotational speed [rpm]: 1544.0</br>Torque [Nm]: 39.7</br>Tool wear [min]: 141.0</br>TWF: 0.0</br>HDF: 0.0</br>OSF: 0.0</br>RNF: 0.0</br>_original_yhat_: 0.003318951211417192</br>\"],[\"</br>id: 4176</br>prediction: 0.003</br>PWF: 0.29</br></br>Type: M</br>Air temperature [K]: 302.3</br>Process temperature [K]: 310.7</br>Rotational speed [rpm]: 1544.0</br>Torque [Nm]: 39.7</br>Tool wear [min]: 141.0</br>TWF: 0.0</br>HDF: 0.0</br>OSF: 0.0</br>RNF: 0.0</br>_original_yhat_: 0.003318951211417192</br>\"],[\"</br>id: 4176</br>prediction: 0.003</br>PWF: 0.3</br></br>Type: M</br>Air temperature [K]: 302.3</br>Process temperature [K]: 310.7</br>Rotational speed [rpm]: 1544.0</br>Torque [Nm]: 39.7</br>Tool wear [min]: 141.0</br>TWF: 0.0</br>HDF: 0.0</br>OSF: 0.0</br>RNF: 0.0</br>_original_yhat_: 0.003318951211417192</br>\"],[\"</br>id: 4176</br>prediction: 0.003</br>PWF: 0.31</br></br>Type: M</br>Air temperature [K]: 302.3</br>Process temperature [K]: 310.7</br>Rotational speed [rpm]: 1544.0</br>Torque [Nm]: 39.7</br>Tool wear [min]: 141.0</br>TWF: 0.0</br>HDF: 0.0</br>OSF: 0.0</br>RNF: 0.0</br>_original_yhat_: 0.003318951211417192</br>\"],[\"</br>id: 4176</br>prediction: 0.003</br>PWF: 0.32</br></br>Type: M</br>Air temperature [K]: 302.3</br>Process temperature [K]: 310.7</br>Rotational speed [rpm]: 1544.0</br>Torque [Nm]: 39.7</br>Tool wear [min]: 141.0</br>TWF: 0.0</br>HDF: 0.0</br>OSF: 0.0</br>RNF: 0.0</br>_original_yhat_: 0.003318951211417192</br>\"],[\"</br>id: 4176</br>prediction: 0.003</br>PWF: 0.33</br></br>Type: M</br>Air temperature [K]: 302.3</br>Process temperature [K]: 310.7</br>Rotational speed [rpm]: 1544.0</br>Torque [Nm]: 39.7</br>Tool wear [min]: 141.0</br>TWF: 0.0</br>HDF: 0.0</br>OSF: 0.0</br>RNF: 0.0</br>_original_yhat_: 0.003318951211417192</br>\"],[\"</br>id: 4176</br>prediction: 0.003</br>PWF: 0.34</br></br>Type: M</br>Air temperature [K]: 302.3</br>Process temperature [K]: 310.7</br>Rotational speed [rpm]: 1544.0</br>Torque [Nm]: 39.7</br>Tool wear [min]: 141.0</br>TWF: 0.0</br>HDF: 0.0</br>OSF: 0.0</br>RNF: 0.0</br>_original_yhat_: 0.003318951211417192</br>\"],[\"</br>id: 4176</br>prediction: 0.003</br>PWF: 0.35000000000000003</br></br>Type: M</br>Air temperature [K]: 302.3</br>Process temperature [K]: 310.7</br>Rotational speed [rpm]: 1544.0</br>Torque [Nm]: 39.7</br>Tool wear [min]: 141.0</br>TWF: 0.0</br>HDF: 0.0</br>OSF: 0.0</br>RNF: 0.0</br>_original_yhat_: 0.003318951211417192</br>\"],[\"</br>id: 4176</br>prediction: 0.003</br>PWF: 0.36</br></br>Type: M</br>Air temperature [K]: 302.3</br>Process temperature [K]: 310.7</br>Rotational speed [rpm]: 1544.0</br>Torque [Nm]: 39.7</br>Tool wear [min]: 141.0</br>TWF: 0.0</br>HDF: 0.0</br>OSF: 0.0</br>RNF: 0.0</br>_original_yhat_: 0.003318951211417192</br>\"],[\"</br>id: 4176</br>prediction: 0.003</br>PWF: 0.37</br></br>Type: M</br>Air temperature [K]: 302.3</br>Process temperature [K]: 310.7</br>Rotational speed [rpm]: 1544.0</br>Torque [Nm]: 39.7</br>Tool wear [min]: 141.0</br>TWF: 0.0</br>HDF: 0.0</br>OSF: 0.0</br>RNF: 0.0</br>_original_yhat_: 0.003318951211417192</br>\"],[\"</br>id: 4176</br>prediction: 0.003</br>PWF: 0.38</br></br>Type: M</br>Air temperature [K]: 302.3</br>Process temperature [K]: 310.7</br>Rotational speed [rpm]: 1544.0</br>Torque [Nm]: 39.7</br>Tool wear [min]: 141.0</br>TWF: 0.0</br>HDF: 0.0</br>OSF: 0.0</br>RNF: 0.0</br>_original_yhat_: 0.003318951211417192</br>\"],[\"</br>id: 4176</br>prediction: 0.003</br>PWF: 0.39</br></br>Type: M</br>Air temperature [K]: 302.3</br>Process temperature [K]: 310.7</br>Rotational speed [rpm]: 1544.0</br>Torque [Nm]: 39.7</br>Tool wear [min]: 141.0</br>TWF: 0.0</br>HDF: 0.0</br>OSF: 0.0</br>RNF: 0.0</br>_original_yhat_: 0.003318951211417192</br>\"],[\"</br>id: 4176</br>prediction: 0.003</br>PWF: 0.4</br></br>Type: M</br>Air temperature [K]: 302.3</br>Process temperature [K]: 310.7</br>Rotational speed [rpm]: 1544.0</br>Torque [Nm]: 39.7</br>Tool wear [min]: 141.0</br>TWF: 0.0</br>HDF: 0.0</br>OSF: 0.0</br>RNF: 0.0</br>_original_yhat_: 0.003318951211417192</br>\"],[\"</br>id: 4176</br>prediction: 0.003</br>PWF: 0.41000000000000003</br></br>Type: M</br>Air temperature [K]: 302.3</br>Process temperature [K]: 310.7</br>Rotational speed [rpm]: 1544.0</br>Torque [Nm]: 39.7</br>Tool wear [min]: 141.0</br>TWF: 0.0</br>HDF: 0.0</br>OSF: 0.0</br>RNF: 0.0</br>_original_yhat_: 0.003318951211417192</br>\"],[\"</br>id: 4176</br>prediction: 0.003</br>PWF: 0.42</br></br>Type: M</br>Air temperature [K]: 302.3</br>Process temperature [K]: 310.7</br>Rotational speed [rpm]: 1544.0</br>Torque [Nm]: 39.7</br>Tool wear [min]: 141.0</br>TWF: 0.0</br>HDF: 0.0</br>OSF: 0.0</br>RNF: 0.0</br>_original_yhat_: 0.003318951211417192</br>\"],[\"</br>id: 4176</br>prediction: 0.003</br>PWF: 0.43</br></br>Type: M</br>Air temperature [K]: 302.3</br>Process temperature [K]: 310.7</br>Rotational speed [rpm]: 1544.0</br>Torque [Nm]: 39.7</br>Tool wear [min]: 141.0</br>TWF: 0.0</br>HDF: 0.0</br>OSF: 0.0</br>RNF: 0.0</br>_original_yhat_: 0.003318951211417192</br>\"],[\"</br>id: 4176</br>prediction: 0.003</br>PWF: 0.44</br></br>Type: M</br>Air temperature [K]: 302.3</br>Process temperature [K]: 310.7</br>Rotational speed [rpm]: 1544.0</br>Torque [Nm]: 39.7</br>Tool wear [min]: 141.0</br>TWF: 0.0</br>HDF: 0.0</br>OSF: 0.0</br>RNF: 0.0</br>_original_yhat_: 0.003318951211417192</br>\"],[\"</br>id: 4176</br>prediction: 0.003</br>PWF: 0.45</br></br>Type: M</br>Air temperature [K]: 302.3</br>Process temperature [K]: 310.7</br>Rotational speed [rpm]: 1544.0</br>Torque [Nm]: 39.7</br>Tool wear [min]: 141.0</br>TWF: 0.0</br>HDF: 0.0</br>OSF: 0.0</br>RNF: 0.0</br>_original_yhat_: 0.003318951211417192</br>\"],[\"</br>id: 4176</br>prediction: 0.003</br>PWF: 0.46</br></br>Type: M</br>Air temperature [K]: 302.3</br>Process temperature [K]: 310.7</br>Rotational speed [rpm]: 1544.0</br>Torque [Nm]: 39.7</br>Tool wear [min]: 141.0</br>TWF: 0.0</br>HDF: 0.0</br>OSF: 0.0</br>RNF: 0.0</br>_original_yhat_: 0.003318951211417192</br>\"],[\"</br>id: 4176</br>prediction: 0.003</br>PWF: 0.47000000000000003</br></br>Type: M</br>Air temperature [K]: 302.3</br>Process temperature [K]: 310.7</br>Rotational speed [rpm]: 1544.0</br>Torque [Nm]: 39.7</br>Tool wear [min]: 141.0</br>TWF: 0.0</br>HDF: 0.0</br>OSF: 0.0</br>RNF: 0.0</br>_original_yhat_: 0.003318951211417192</br>\"],[\"</br>id: 4176</br>prediction: 0.003</br>PWF: 0.48</br></br>Type: M</br>Air temperature [K]: 302.3</br>Process temperature [K]: 310.7</br>Rotational speed [rpm]: 1544.0</br>Torque [Nm]: 39.7</br>Tool wear [min]: 141.0</br>TWF: 0.0</br>HDF: 0.0</br>OSF: 0.0</br>RNF: 0.0</br>_original_yhat_: 0.003318951211417192</br>\"],[\"</br>id: 4176</br>prediction: 0.003</br>PWF: 0.49</br></br>Type: M</br>Air temperature [K]: 302.3</br>Process temperature [K]: 310.7</br>Rotational speed [rpm]: 1544.0</br>Torque [Nm]: 39.7</br>Tool wear [min]: 141.0</br>TWF: 0.0</br>HDF: 0.0</br>OSF: 0.0</br>RNF: 0.0</br>_original_yhat_: 0.003318951211417192</br>\"],[\"</br>id: 4176</br>prediction: 0.003</br>PWF: 0.5</br></br>Type: M</br>Air temperature [K]: 302.3</br>Process temperature [K]: 310.7</br>Rotational speed [rpm]: 1544.0</br>Torque [Nm]: 39.7</br>Tool wear [min]: 141.0</br>TWF: 0.0</br>HDF: 0.0</br>OSF: 0.0</br>RNF: 0.0</br>_original_yhat_: 0.003318951211417192</br>\"],[\"</br>id: 4176</br>prediction: 0.003</br>PWF: 0.51</br></br>Type: M</br>Air temperature [K]: 302.3</br>Process temperature [K]: 310.7</br>Rotational speed [rpm]: 1544.0</br>Torque [Nm]: 39.7</br>Tool wear [min]: 141.0</br>TWF: 0.0</br>HDF: 0.0</br>OSF: 0.0</br>RNF: 0.0</br>_original_yhat_: 0.003318951211417192</br>\"],[\"</br>id: 4176</br>prediction: 0.003</br>PWF: 0.52</br></br>Type: M</br>Air temperature [K]: 302.3</br>Process temperature [K]: 310.7</br>Rotational speed [rpm]: 1544.0</br>Torque [Nm]: 39.7</br>Tool wear [min]: 141.0</br>TWF: 0.0</br>HDF: 0.0</br>OSF: 0.0</br>RNF: 0.0</br>_original_yhat_: 0.003318951211417192</br>\"],[\"</br>id: 4176</br>prediction: 0.003</br>PWF: 0.53</br></br>Type: M</br>Air temperature [K]: 302.3</br>Process temperature [K]: 310.7</br>Rotational speed [rpm]: 1544.0</br>Torque [Nm]: 39.7</br>Tool wear [min]: 141.0</br>TWF: 0.0</br>HDF: 0.0</br>OSF: 0.0</br>RNF: 0.0</br>_original_yhat_: 0.003318951211417192</br>\"],[\"</br>id: 4176</br>prediction: 0.003</br>PWF: 0.54</br></br>Type: M</br>Air temperature [K]: 302.3</br>Process temperature [K]: 310.7</br>Rotational speed [rpm]: 1544.0</br>Torque [Nm]: 39.7</br>Tool wear [min]: 141.0</br>TWF: 0.0</br>HDF: 0.0</br>OSF: 0.0</br>RNF: 0.0</br>_original_yhat_: 0.003318951211417192</br>\"],[\"</br>id: 4176</br>prediction: 0.003</br>PWF: 0.55</br></br>Type: M</br>Air temperature [K]: 302.3</br>Process temperature [K]: 310.7</br>Rotational speed [rpm]: 1544.0</br>Torque [Nm]: 39.7</br>Tool wear [min]: 141.0</br>TWF: 0.0</br>HDF: 0.0</br>OSF: 0.0</br>RNF: 0.0</br>_original_yhat_: 0.003318951211417192</br>\"],[\"</br>id: 4176</br>prediction: 0.003</br>PWF: 0.56</br></br>Type: M</br>Air temperature [K]: 302.3</br>Process temperature [K]: 310.7</br>Rotational speed [rpm]: 1544.0</br>Torque [Nm]: 39.7</br>Tool wear [min]: 141.0</br>TWF: 0.0</br>HDF: 0.0</br>OSF: 0.0</br>RNF: 0.0</br>_original_yhat_: 0.003318951211417192</br>\"],[\"</br>id: 4176</br>prediction: 0.003</br>PWF: 0.5700000000000001</br></br>Type: M</br>Air temperature [K]: 302.3</br>Process temperature [K]: 310.7</br>Rotational speed [rpm]: 1544.0</br>Torque [Nm]: 39.7</br>Tool wear [min]: 141.0</br>TWF: 0.0</br>HDF: 0.0</br>OSF: 0.0</br>RNF: 0.0</br>_original_yhat_: 0.003318951211417192</br>\"],[\"</br>id: 4176</br>prediction: 0.003</br>PWF: 0.58</br></br>Type: M</br>Air temperature [K]: 302.3</br>Process temperature [K]: 310.7</br>Rotational speed [rpm]: 1544.0</br>Torque [Nm]: 39.7</br>Tool wear [min]: 141.0</br>TWF: 0.0</br>HDF: 0.0</br>OSF: 0.0</br>RNF: 0.0</br>_original_yhat_: 0.003318951211417192</br>\"],[\"</br>id: 4176</br>prediction: 0.003</br>PWF: 0.59</br></br>Type: M</br>Air temperature [K]: 302.3</br>Process temperature [K]: 310.7</br>Rotational speed [rpm]: 1544.0</br>Torque [Nm]: 39.7</br>Tool wear [min]: 141.0</br>TWF: 0.0</br>HDF: 0.0</br>OSF: 0.0</br>RNF: 0.0</br>_original_yhat_: 0.003318951211417192</br>\"],[\"</br>id: 4176</br>prediction: 0.003</br>PWF: 0.6</br></br>Type: M</br>Air temperature [K]: 302.3</br>Process temperature [K]: 310.7</br>Rotational speed [rpm]: 1544.0</br>Torque [Nm]: 39.7</br>Tool wear [min]: 141.0</br>TWF: 0.0</br>HDF: 0.0</br>OSF: 0.0</br>RNF: 0.0</br>_original_yhat_: 0.003318951211417192</br>\"],[\"</br>id: 4176</br>prediction: 0.003</br>PWF: 0.61</br></br>Type: M</br>Air temperature [K]: 302.3</br>Process temperature [K]: 310.7</br>Rotational speed [rpm]: 1544.0</br>Torque [Nm]: 39.7</br>Tool wear [min]: 141.0</br>TWF: 0.0</br>HDF: 0.0</br>OSF: 0.0</br>RNF: 0.0</br>_original_yhat_: 0.003318951211417192</br>\"],[\"</br>id: 4176</br>prediction: 0.003</br>PWF: 0.62</br></br>Type: M</br>Air temperature [K]: 302.3</br>Process temperature [K]: 310.7</br>Rotational speed [rpm]: 1544.0</br>Torque [Nm]: 39.7</br>Tool wear [min]: 141.0</br>TWF: 0.0</br>HDF: 0.0</br>OSF: 0.0</br>RNF: 0.0</br>_original_yhat_: 0.003318951211417192</br>\"],[\"</br>id: 4176</br>prediction: 0.003</br>PWF: 0.63</br></br>Type: M</br>Air temperature [K]: 302.3</br>Process temperature [K]: 310.7</br>Rotational speed [rpm]: 1544.0</br>Torque [Nm]: 39.7</br>Tool wear [min]: 141.0</br>TWF: 0.0</br>HDF: 0.0</br>OSF: 0.0</br>RNF: 0.0</br>_original_yhat_: 0.003318951211417192</br>\"],[\"</br>id: 4176</br>prediction: 0.003</br>PWF: 0.64</br></br>Type: M</br>Air temperature [K]: 302.3</br>Process temperature [K]: 310.7</br>Rotational speed [rpm]: 1544.0</br>Torque [Nm]: 39.7</br>Tool wear [min]: 141.0</br>TWF: 0.0</br>HDF: 0.0</br>OSF: 0.0</br>RNF: 0.0</br>_original_yhat_: 0.003318951211417192</br>\"],[\"</br>id: 4176</br>prediction: 0.003</br>PWF: 0.65</br></br>Type: M</br>Air temperature [K]: 302.3</br>Process temperature [K]: 310.7</br>Rotational speed [rpm]: 1544.0</br>Torque [Nm]: 39.7</br>Tool wear [min]: 141.0</br>TWF: 0.0</br>HDF: 0.0</br>OSF: 0.0</br>RNF: 0.0</br>_original_yhat_: 0.003318951211417192</br>\"],[\"</br>id: 4176</br>prediction: 0.003</br>PWF: 0.66</br></br>Type: M</br>Air temperature [K]: 302.3</br>Process temperature [K]: 310.7</br>Rotational speed [rpm]: 1544.0</br>Torque [Nm]: 39.7</br>Tool wear [min]: 141.0</br>TWF: 0.0</br>HDF: 0.0</br>OSF: 0.0</br>RNF: 0.0</br>_original_yhat_: 0.003318951211417192</br>\"],[\"</br>id: 4176</br>prediction: 0.003</br>PWF: 0.67</br></br>Type: M</br>Air temperature [K]: 302.3</br>Process temperature [K]: 310.7</br>Rotational speed [rpm]: 1544.0</br>Torque [Nm]: 39.7</br>Tool wear [min]: 141.0</br>TWF: 0.0</br>HDF: 0.0</br>OSF: 0.0</br>RNF: 0.0</br>_original_yhat_: 0.003318951211417192</br>\"],[\"</br>id: 4176</br>prediction: 0.003</br>PWF: 0.68</br></br>Type: M</br>Air temperature [K]: 302.3</br>Process temperature [K]: 310.7</br>Rotational speed [rpm]: 1544.0</br>Torque [Nm]: 39.7</br>Tool wear [min]: 141.0</br>TWF: 0.0</br>HDF: 0.0</br>OSF: 0.0</br>RNF: 0.0</br>_original_yhat_: 0.003318951211417192</br>\"],[\"</br>id: 4176</br>prediction: 0.003</br>PWF: 0.6900000000000001</br></br>Type: M</br>Air temperature [K]: 302.3</br>Process temperature [K]: 310.7</br>Rotational speed [rpm]: 1544.0</br>Torque [Nm]: 39.7</br>Tool wear [min]: 141.0</br>TWF: 0.0</br>HDF: 0.0</br>OSF: 0.0</br>RNF: 0.0</br>_original_yhat_: 0.003318951211417192</br>\"],[\"</br>id: 4176</br>prediction: 0.003</br>PWF: 0.7000000000000001</br></br>Type: M</br>Air temperature [K]: 302.3</br>Process temperature [K]: 310.7</br>Rotational speed [rpm]: 1544.0</br>Torque [Nm]: 39.7</br>Tool wear [min]: 141.0</br>TWF: 0.0</br>HDF: 0.0</br>OSF: 0.0</br>RNF: 0.0</br>_original_yhat_: 0.003318951211417192</br>\"],[\"</br>id: 4176</br>prediction: 0.003</br>PWF: 0.71</br></br>Type: M</br>Air temperature [K]: 302.3</br>Process temperature [K]: 310.7</br>Rotational speed [rpm]: 1544.0</br>Torque [Nm]: 39.7</br>Tool wear [min]: 141.0</br>TWF: 0.0</br>HDF: 0.0</br>OSF: 0.0</br>RNF: 0.0</br>_original_yhat_: 0.003318951211417192</br>\"],[\"</br>id: 4176</br>prediction: 0.003</br>PWF: 0.72</br></br>Type: M</br>Air temperature [K]: 302.3</br>Process temperature [K]: 310.7</br>Rotational speed [rpm]: 1544.0</br>Torque [Nm]: 39.7</br>Tool wear [min]: 141.0</br>TWF: 0.0</br>HDF: 0.0</br>OSF: 0.0</br>RNF: 0.0</br>_original_yhat_: 0.003318951211417192</br>\"],[\"</br>id: 4176</br>prediction: 0.003</br>PWF: 0.73</br></br>Type: M</br>Air temperature [K]: 302.3</br>Process temperature [K]: 310.7</br>Rotational speed [rpm]: 1544.0</br>Torque [Nm]: 39.7</br>Tool wear [min]: 141.0</br>TWF: 0.0</br>HDF: 0.0</br>OSF: 0.0</br>RNF: 0.0</br>_original_yhat_: 0.003318951211417192</br>\"],[\"</br>id: 4176</br>prediction: 0.003</br>PWF: 0.74</br></br>Type: M</br>Air temperature [K]: 302.3</br>Process temperature [K]: 310.7</br>Rotational speed [rpm]: 1544.0</br>Torque [Nm]: 39.7</br>Tool wear [min]: 141.0</br>TWF: 0.0</br>HDF: 0.0</br>OSF: 0.0</br>RNF: 0.0</br>_original_yhat_: 0.003318951211417192</br>\"],[\"</br>id: 4176</br>prediction: 0.003</br>PWF: 0.75</br></br>Type: M</br>Air temperature [K]: 302.3</br>Process temperature [K]: 310.7</br>Rotational speed [rpm]: 1544.0</br>Torque [Nm]: 39.7</br>Tool wear [min]: 141.0</br>TWF: 0.0</br>HDF: 0.0</br>OSF: 0.0</br>RNF: 0.0</br>_original_yhat_: 0.003318951211417192</br>\"],[\"</br>id: 4176</br>prediction: 0.003</br>PWF: 0.76</br></br>Type: M</br>Air temperature [K]: 302.3</br>Process temperature [K]: 310.7</br>Rotational speed [rpm]: 1544.0</br>Torque [Nm]: 39.7</br>Tool wear [min]: 141.0</br>TWF: 0.0</br>HDF: 0.0</br>OSF: 0.0</br>RNF: 0.0</br>_original_yhat_: 0.003318951211417192</br>\"],[\"</br>id: 4176</br>prediction: 0.003</br>PWF: 0.77</br></br>Type: M</br>Air temperature [K]: 302.3</br>Process temperature [K]: 310.7</br>Rotational speed [rpm]: 1544.0</br>Torque [Nm]: 39.7</br>Tool wear [min]: 141.0</br>TWF: 0.0</br>HDF: 0.0</br>OSF: 0.0</br>RNF: 0.0</br>_original_yhat_: 0.003318951211417192</br>\"],[\"</br>id: 4176</br>prediction: 0.003</br>PWF: 0.78</br></br>Type: M</br>Air temperature [K]: 302.3</br>Process temperature [K]: 310.7</br>Rotational speed [rpm]: 1544.0</br>Torque [Nm]: 39.7</br>Tool wear [min]: 141.0</br>TWF: 0.0</br>HDF: 0.0</br>OSF: 0.0</br>RNF: 0.0</br>_original_yhat_: 0.003318951211417192</br>\"],[\"</br>id: 4176</br>prediction: 0.003</br>PWF: 0.79</br></br>Type: M</br>Air temperature [K]: 302.3</br>Process temperature [K]: 310.7</br>Rotational speed [rpm]: 1544.0</br>Torque [Nm]: 39.7</br>Tool wear [min]: 141.0</br>TWF: 0.0</br>HDF: 0.0</br>OSF: 0.0</br>RNF: 0.0</br>_original_yhat_: 0.003318951211417192</br>\"],[\"</br>id: 4176</br>prediction: 0.003</br>PWF: 0.8</br></br>Type: M</br>Air temperature [K]: 302.3</br>Process temperature [K]: 310.7</br>Rotational speed [rpm]: 1544.0</br>Torque [Nm]: 39.7</br>Tool wear [min]: 141.0</br>TWF: 0.0</br>HDF: 0.0</br>OSF: 0.0</br>RNF: 0.0</br>_original_yhat_: 0.003318951211417192</br>\"],[\"</br>id: 4176</br>prediction: 0.003</br>PWF: 0.81</br></br>Type: M</br>Air temperature [K]: 302.3</br>Process temperature [K]: 310.7</br>Rotational speed [rpm]: 1544.0</br>Torque [Nm]: 39.7</br>Tool wear [min]: 141.0</br>TWF: 0.0</br>HDF: 0.0</br>OSF: 0.0</br>RNF: 0.0</br>_original_yhat_: 0.003318951211417192</br>\"],[\"</br>id: 4176</br>prediction: 0.003</br>PWF: 0.8200000000000001</br></br>Type: M</br>Air temperature [K]: 302.3</br>Process temperature [K]: 310.7</br>Rotational speed [rpm]: 1544.0</br>Torque [Nm]: 39.7</br>Tool wear [min]: 141.0</br>TWF: 0.0</br>HDF: 0.0</br>OSF: 0.0</br>RNF: 0.0</br>_original_yhat_: 0.003318951211417192</br>\"],[\"</br>id: 4176</br>prediction: 0.003</br>PWF: 0.8300000000000001</br></br>Type: M</br>Air temperature [K]: 302.3</br>Process temperature [K]: 310.7</br>Rotational speed [rpm]: 1544.0</br>Torque [Nm]: 39.7</br>Tool wear [min]: 141.0</br>TWF: 0.0</br>HDF: 0.0</br>OSF: 0.0</br>RNF: 0.0</br>_original_yhat_: 0.003318951211417192</br>\"],[\"</br>id: 4176</br>prediction: 0.003</br>PWF: 0.84</br></br>Type: M</br>Air temperature [K]: 302.3</br>Process temperature [K]: 310.7</br>Rotational speed [rpm]: 1544.0</br>Torque [Nm]: 39.7</br>Tool wear [min]: 141.0</br>TWF: 0.0</br>HDF: 0.0</br>OSF: 0.0</br>RNF: 0.0</br>_original_yhat_: 0.003318951211417192</br>\"],[\"</br>id: 4176</br>prediction: 0.003</br>PWF: 0.85</br></br>Type: M</br>Air temperature [K]: 302.3</br>Process temperature [K]: 310.7</br>Rotational speed [rpm]: 1544.0</br>Torque [Nm]: 39.7</br>Tool wear [min]: 141.0</br>TWF: 0.0</br>HDF: 0.0</br>OSF: 0.0</br>RNF: 0.0</br>_original_yhat_: 0.003318951211417192</br>\"],[\"</br>id: 4176</br>prediction: 0.003</br>PWF: 0.86</br></br>Type: M</br>Air temperature [K]: 302.3</br>Process temperature [K]: 310.7</br>Rotational speed [rpm]: 1544.0</br>Torque [Nm]: 39.7</br>Tool wear [min]: 141.0</br>TWF: 0.0</br>HDF: 0.0</br>OSF: 0.0</br>RNF: 0.0</br>_original_yhat_: 0.003318951211417192</br>\"],[\"</br>id: 4176</br>prediction: 0.003</br>PWF: 0.87</br></br>Type: M</br>Air temperature [K]: 302.3</br>Process temperature [K]: 310.7</br>Rotational speed [rpm]: 1544.0</br>Torque [Nm]: 39.7</br>Tool wear [min]: 141.0</br>TWF: 0.0</br>HDF: 0.0</br>OSF: 0.0</br>RNF: 0.0</br>_original_yhat_: 0.003318951211417192</br>\"],[\"</br>id: 4176</br>prediction: 0.003</br>PWF: 0.88</br></br>Type: M</br>Air temperature [K]: 302.3</br>Process temperature [K]: 310.7</br>Rotational speed [rpm]: 1544.0</br>Torque [Nm]: 39.7</br>Tool wear [min]: 141.0</br>TWF: 0.0</br>HDF: 0.0</br>OSF: 0.0</br>RNF: 0.0</br>_original_yhat_: 0.003318951211417192</br>\"],[\"</br>id: 4176</br>prediction: 0.003</br>PWF: 0.89</br></br>Type: M</br>Air temperature [K]: 302.3</br>Process temperature [K]: 310.7</br>Rotational speed [rpm]: 1544.0</br>Torque [Nm]: 39.7</br>Tool wear [min]: 141.0</br>TWF: 0.0</br>HDF: 0.0</br>OSF: 0.0</br>RNF: 0.0</br>_original_yhat_: 0.003318951211417192</br>\"],[\"</br>id: 4176</br>prediction: 0.003</br>PWF: 0.9</br></br>Type: M</br>Air temperature [K]: 302.3</br>Process temperature [K]: 310.7</br>Rotational speed [rpm]: 1544.0</br>Torque [Nm]: 39.7</br>Tool wear [min]: 141.0</br>TWF: 0.0</br>HDF: 0.0</br>OSF: 0.0</br>RNF: 0.0</br>_original_yhat_: 0.003318951211417192</br>\"],[\"</br>id: 4176</br>prediction: 0.003</br>PWF: 0.91</br></br>Type: M</br>Air temperature [K]: 302.3</br>Process temperature [K]: 310.7</br>Rotational speed [rpm]: 1544.0</br>Torque [Nm]: 39.7</br>Tool wear [min]: 141.0</br>TWF: 0.0</br>HDF: 0.0</br>OSF: 0.0</br>RNF: 0.0</br>_original_yhat_: 0.003318951211417192</br>\"],[\"</br>id: 4176</br>prediction: 0.003</br>PWF: 0.92</br></br>Type: M</br>Air temperature [K]: 302.3</br>Process temperature [K]: 310.7</br>Rotational speed [rpm]: 1544.0</br>Torque [Nm]: 39.7</br>Tool wear [min]: 141.0</br>TWF: 0.0</br>HDF: 0.0</br>OSF: 0.0</br>RNF: 0.0</br>_original_yhat_: 0.003318951211417192</br>\"],[\"</br>id: 4176</br>prediction: 0.003</br>PWF: 0.93</br></br>Type: M</br>Air temperature [K]: 302.3</br>Process temperature [K]: 310.7</br>Rotational speed [rpm]: 1544.0</br>Torque [Nm]: 39.7</br>Tool wear [min]: 141.0</br>TWF: 0.0</br>HDF: 0.0</br>OSF: 0.0</br>RNF: 0.0</br>_original_yhat_: 0.003318951211417192</br>\"],[\"</br>id: 4176</br>prediction: 0.003</br>PWF: 0.9400000000000001</br></br>Type: M</br>Air temperature [K]: 302.3</br>Process temperature [K]: 310.7</br>Rotational speed [rpm]: 1544.0</br>Torque [Nm]: 39.7</br>Tool wear [min]: 141.0</br>TWF: 0.0</br>HDF: 0.0</br>OSF: 0.0</br>RNF: 0.0</br>_original_yhat_: 0.003318951211417192</br>\"],[\"</br>id: 4176</br>prediction: 0.003</br>PWF: 0.9500000000000001</br></br>Type: M</br>Air temperature [K]: 302.3</br>Process temperature [K]: 310.7</br>Rotational speed [rpm]: 1544.0</br>Torque [Nm]: 39.7</br>Tool wear [min]: 141.0</br>TWF: 0.0</br>HDF: 0.0</br>OSF: 0.0</br>RNF: 0.0</br>_original_yhat_: 0.003318951211417192</br>\"],[\"</br>id: 4176</br>prediction: 0.003</br>PWF: 0.96</br></br>Type: M</br>Air temperature [K]: 302.3</br>Process temperature [K]: 310.7</br>Rotational speed [rpm]: 1544.0</br>Torque [Nm]: 39.7</br>Tool wear [min]: 141.0</br>TWF: 0.0</br>HDF: 0.0</br>OSF: 0.0</br>RNF: 0.0</br>_original_yhat_: 0.003318951211417192</br>\"],[\"</br>id: 4176</br>prediction: 0.003</br>PWF: 0.97</br></br>Type: M</br>Air temperature [K]: 302.3</br>Process temperature [K]: 310.7</br>Rotational speed [rpm]: 1544.0</br>Torque [Nm]: 39.7</br>Tool wear [min]: 141.0</br>TWF: 0.0</br>HDF: 0.0</br>OSF: 0.0</br>RNF: 0.0</br>_original_yhat_: 0.003318951211417192</br>\"],[\"</br>id: 4176</br>prediction: 0.003</br>PWF: 0.98</br></br>Type: M</br>Air temperature [K]: 302.3</br>Process temperature [K]: 310.7</br>Rotational speed [rpm]: 1544.0</br>Torque [Nm]: 39.7</br>Tool wear [min]: 141.0</br>TWF: 0.0</br>HDF: 0.0</br>OSF: 0.0</br>RNF: 0.0</br>_original_yhat_: 0.003318951211417192</br>\"],[\"</br>id: 4176</br>prediction: 0.003</br>PWF: 0.99</br></br>Type: M</br>Air temperature [K]: 302.3</br>Process temperature [K]: 310.7</br>Rotational speed [rpm]: 1544.0</br>Torque [Nm]: 39.7</br>Tool wear [min]: 141.0</br>TWF: 0.0</br>HDF: 0.0</br>OSF: 0.0</br>RNF: 0.0</br>_original_yhat_: 0.003318951211417192</br>\"],[\"</br>id: 4176</br>prediction: 0.003</br>PWF: 1.0</br></br>Type: M</br>Air temperature [K]: 302.3</br>Process temperature [K]: 310.7</br>Rotational speed [rpm]: 1544.0</br>Torque [Nm]: 39.7</br>Tool wear [min]: 141.0</br>TWF: 0.0</br>HDF: 0.0</br>OSF: 0.0</br>RNF: 0.0</br>_original_yhat_: 0.003318951211417192</br>\"]],\"hovertemplate\":\"%{customdata[0]}<extra></extra>\",\"legendgroup\":\"testing\",\"line\":{\"color\":\"#46bac2\",\"dash\":\"solid\",\"width\":2},\"marker\":{\"symbol\":\"circle\"},\"mode\":\"lines\",\"name\":\"testing\",\"showlegend\":false,\"x\":[0.0,0.01,0.02,0.03,0.04,0.05,0.06,0.07,0.08,0.09,0.1,0.11,0.12,0.13,0.14,0.15,0.16,0.17,0.18,0.19,0.2,0.21,0.22,0.23,0.24,0.25,0.26,0.27,0.28,0.29,0.3,0.31,0.32,0.33,0.34,0.35000000000000003,0.36,0.37,0.38,0.39,0.4,0.41000000000000003,0.42,0.43,0.44,0.45,0.46,0.47000000000000003,0.48,0.49,0.5,0.51,0.52,0.53,0.54,0.55,0.56,0.5700000000000001,0.58,0.59,0.6,0.61,0.62,0.63,0.64,0.65,0.66,0.67,0.68,0.6900000000000001,0.7000000000000001,0.71,0.72,0.73,0.74,0.75,0.76,0.77,0.78,0.79,0.8,0.81,0.8200000000000001,0.8300000000000001,0.84,0.85,0.86,0.87,0.88,0.89,0.9,0.91,0.92,0.93,0.9400000000000001,0.9500000000000001,0.96,0.97,0.98,0.99,1.0],\"xaxis\":\"x4\",\"y\":[0.003318951211417192,0.003318951211417192,0.003318951211417192,0.003318951211417192,0.003318951211417192,0.003318951211417192,0.003318951211417192,0.003318951211417192,0.003318951211417192,0.003318951211417192,0.003318951211417192,0.003318951211417192,0.003318951211417192,0.003318951211417192,0.003318951211417192,0.003318951211417192,0.003318951211417192,0.003318951211417192,0.003318951211417192,0.003318951211417192,0.003318951211417192,0.003318951211417192,0.003318951211417192,0.003318951211417192,0.003318951211417192,0.003318951211417192,0.003318951211417192,0.003318951211417192,0.003318951211417192,0.003318951211417192,0.003318951211417192,0.003318951211417192,0.003318951211417192,0.003318951211417192,0.003318951211417192,0.003318951211417192,0.003318951211417192,0.003318951211417192,0.003318951211417192,0.003318951211417192,0.003318951211417192,0.003318951211417192,0.003318951211417192,0.003318951211417192,0.003318951211417192,0.003318951211417192,0.003318951211417192,0.003318951211417192,0.003318951211417192,0.003318951211417192,0.003318951211417192,0.003318951211417192,0.003318951211417192,0.003318951211417192,0.003318951211417192,0.003318951211417192,0.003318951211417192,0.003318951211417192,0.003318951211417192,0.003318951211417192,0.003318951211417192,0.003318951211417192,0.003318951211417192,0.003318951211417192,0.003318951211417192,0.003318951211417192,0.003318951211417192,0.003318951211417192,0.003318951211417192,0.003318951211417192,0.003318951211417192,0.003318951211417192,0.003318951211417192,0.003318951211417192,0.003318951211417192,0.003318951211417192,0.003318951211417192,0.003318951211417192,0.003318951211417192,0.003318951211417192,0.003318951211417192,0.003318951211417192,0.003318951211417192,0.003318951211417192,0.003318951211417192,0.003318951211417192,0.003318951211417192,0.003318951211417192,0.003318951211417192,0.003318951211417192,0.003318951211417192,0.003318951211417192,0.003318951211417192,0.003318951211417192,0.003318951211417192,0.003318951211417192,0.003318951211417192,0.003318951211417192,0.003318951211417192,0.003318951211417192,0.003318951211417192],\"yaxis\":\"y4\",\"type\":\"scattergl\",\"opacity\":1},{\"customdata\":[[\"</br>id: 4176</br>prediction: 0.003</br>OSF: 0.0</br></br>Type: M</br>Air temperature [K]: 302.3</br>Process temperature [K]: 310.7</br>Rotational speed [rpm]: 1544.0</br>Torque [Nm]: 39.7</br>Tool wear [min]: 141.0</br>TWF: 0.0</br>HDF: 0.0</br>PWF: 0.0</br>RNF: 0.0</br>_original_yhat_: 0.003318951211417192</br>\"],[\"</br>id: 4176</br>prediction: 0.003</br>OSF: 0.01</br></br>Type: M</br>Air temperature [K]: 302.3</br>Process temperature [K]: 310.7</br>Rotational speed [rpm]: 1544.0</br>Torque [Nm]: 39.7</br>Tool wear [min]: 141.0</br>TWF: 0.0</br>HDF: 0.0</br>PWF: 0.0</br>RNF: 0.0</br>_original_yhat_: 0.003318951211417192</br>\"],[\"</br>id: 4176</br>prediction: 0.003</br>OSF: 0.02</br></br>Type: M</br>Air temperature [K]: 302.3</br>Process temperature [K]: 310.7</br>Rotational speed [rpm]: 1544.0</br>Torque [Nm]: 39.7</br>Tool wear [min]: 141.0</br>TWF: 0.0</br>HDF: 0.0</br>PWF: 0.0</br>RNF: 0.0</br>_original_yhat_: 0.003318951211417192</br>\"],[\"</br>id: 4176</br>prediction: 0.003</br>OSF: 0.03</br></br>Type: M</br>Air temperature [K]: 302.3</br>Process temperature [K]: 310.7</br>Rotational speed [rpm]: 1544.0</br>Torque [Nm]: 39.7</br>Tool wear [min]: 141.0</br>TWF: 0.0</br>HDF: 0.0</br>PWF: 0.0</br>RNF: 0.0</br>_original_yhat_: 0.003318951211417192</br>\"],[\"</br>id: 4176</br>prediction: 0.003</br>OSF: 0.04</br></br>Type: M</br>Air temperature [K]: 302.3</br>Process temperature [K]: 310.7</br>Rotational speed [rpm]: 1544.0</br>Torque [Nm]: 39.7</br>Tool wear [min]: 141.0</br>TWF: 0.0</br>HDF: 0.0</br>PWF: 0.0</br>RNF: 0.0</br>_original_yhat_: 0.003318951211417192</br>\"],[\"</br>id: 4176</br>prediction: 0.003</br>OSF: 0.05</br></br>Type: M</br>Air temperature [K]: 302.3</br>Process temperature [K]: 310.7</br>Rotational speed [rpm]: 1544.0</br>Torque [Nm]: 39.7</br>Tool wear [min]: 141.0</br>TWF: 0.0</br>HDF: 0.0</br>PWF: 0.0</br>RNF: 0.0</br>_original_yhat_: 0.003318951211417192</br>\"],[\"</br>id: 4176</br>prediction: 0.003</br>OSF: 0.06</br></br>Type: M</br>Air temperature [K]: 302.3</br>Process temperature [K]: 310.7</br>Rotational speed [rpm]: 1544.0</br>Torque [Nm]: 39.7</br>Tool wear [min]: 141.0</br>TWF: 0.0</br>HDF: 0.0</br>PWF: 0.0</br>RNF: 0.0</br>_original_yhat_: 0.003318951211417192</br>\"],[\"</br>id: 4176</br>prediction: 0.003</br>OSF: 0.07</br></br>Type: M</br>Air temperature [K]: 302.3</br>Process temperature [K]: 310.7</br>Rotational speed [rpm]: 1544.0</br>Torque [Nm]: 39.7</br>Tool wear [min]: 141.0</br>TWF: 0.0</br>HDF: 0.0</br>PWF: 0.0</br>RNF: 0.0</br>_original_yhat_: 0.003318951211417192</br>\"],[\"</br>id: 4176</br>prediction: 0.003</br>OSF: 0.08</br></br>Type: M</br>Air temperature [K]: 302.3</br>Process temperature [K]: 310.7</br>Rotational speed [rpm]: 1544.0</br>Torque [Nm]: 39.7</br>Tool wear [min]: 141.0</br>TWF: 0.0</br>HDF: 0.0</br>PWF: 0.0</br>RNF: 0.0</br>_original_yhat_: 0.003318951211417192</br>\"],[\"</br>id: 4176</br>prediction: 0.003</br>OSF: 0.09</br></br>Type: M</br>Air temperature [K]: 302.3</br>Process temperature [K]: 310.7</br>Rotational speed [rpm]: 1544.0</br>Torque [Nm]: 39.7</br>Tool wear [min]: 141.0</br>TWF: 0.0</br>HDF: 0.0</br>PWF: 0.0</br>RNF: 0.0</br>_original_yhat_: 0.003318951211417192</br>\"],[\"</br>id: 4176</br>prediction: 0.003</br>OSF: 0.1</br></br>Type: M</br>Air temperature [K]: 302.3</br>Process temperature [K]: 310.7</br>Rotational speed [rpm]: 1544.0</br>Torque [Nm]: 39.7</br>Tool wear [min]: 141.0</br>TWF: 0.0</br>HDF: 0.0</br>PWF: 0.0</br>RNF: 0.0</br>_original_yhat_: 0.003318951211417192</br>\"],[\"</br>id: 4176</br>prediction: 0.003</br>OSF: 0.11</br></br>Type: M</br>Air temperature [K]: 302.3</br>Process temperature [K]: 310.7</br>Rotational speed [rpm]: 1544.0</br>Torque [Nm]: 39.7</br>Tool wear [min]: 141.0</br>TWF: 0.0</br>HDF: 0.0</br>PWF: 0.0</br>RNF: 0.0</br>_original_yhat_: 0.003318951211417192</br>\"],[\"</br>id: 4176</br>prediction: 0.003</br>OSF: 0.12</br></br>Type: M</br>Air temperature [K]: 302.3</br>Process temperature [K]: 310.7</br>Rotational speed [rpm]: 1544.0</br>Torque [Nm]: 39.7</br>Tool wear [min]: 141.0</br>TWF: 0.0</br>HDF: 0.0</br>PWF: 0.0</br>RNF: 0.0</br>_original_yhat_: 0.003318951211417192</br>\"],[\"</br>id: 4176</br>prediction: 0.003</br>OSF: 0.13</br></br>Type: M</br>Air temperature [K]: 302.3</br>Process temperature [K]: 310.7</br>Rotational speed [rpm]: 1544.0</br>Torque [Nm]: 39.7</br>Tool wear [min]: 141.0</br>TWF: 0.0</br>HDF: 0.0</br>PWF: 0.0</br>RNF: 0.0</br>_original_yhat_: 0.003318951211417192</br>\"],[\"</br>id: 4176</br>prediction: 0.003</br>OSF: 0.14</br></br>Type: M</br>Air temperature [K]: 302.3</br>Process temperature [K]: 310.7</br>Rotational speed [rpm]: 1544.0</br>Torque [Nm]: 39.7</br>Tool wear [min]: 141.0</br>TWF: 0.0</br>HDF: 0.0</br>PWF: 0.0</br>RNF: 0.0</br>_original_yhat_: 0.003318951211417192</br>\"],[\"</br>id: 4176</br>prediction: 0.003</br>OSF: 0.15</br></br>Type: M</br>Air temperature [K]: 302.3</br>Process temperature [K]: 310.7</br>Rotational speed [rpm]: 1544.0</br>Torque [Nm]: 39.7</br>Tool wear [min]: 141.0</br>TWF: 0.0</br>HDF: 0.0</br>PWF: 0.0</br>RNF: 0.0</br>_original_yhat_: 0.003318951211417192</br>\"],[\"</br>id: 4176</br>prediction: 0.003</br>OSF: 0.16</br></br>Type: M</br>Air temperature [K]: 302.3</br>Process temperature [K]: 310.7</br>Rotational speed [rpm]: 1544.0</br>Torque [Nm]: 39.7</br>Tool wear [min]: 141.0</br>TWF: 0.0</br>HDF: 0.0</br>PWF: 0.0</br>RNF: 0.0</br>_original_yhat_: 0.003318951211417192</br>\"],[\"</br>id: 4176</br>prediction: 0.003</br>OSF: 0.17</br></br>Type: M</br>Air temperature [K]: 302.3</br>Process temperature [K]: 310.7</br>Rotational speed [rpm]: 1544.0</br>Torque [Nm]: 39.7</br>Tool wear [min]: 141.0</br>TWF: 0.0</br>HDF: 0.0</br>PWF: 0.0</br>RNF: 0.0</br>_original_yhat_: 0.003318951211417192</br>\"],[\"</br>id: 4176</br>prediction: 0.003</br>OSF: 0.18</br></br>Type: M</br>Air temperature [K]: 302.3</br>Process temperature [K]: 310.7</br>Rotational speed [rpm]: 1544.0</br>Torque [Nm]: 39.7</br>Tool wear [min]: 141.0</br>TWF: 0.0</br>HDF: 0.0</br>PWF: 0.0</br>RNF: 0.0</br>_original_yhat_: 0.003318951211417192</br>\"],[\"</br>id: 4176</br>prediction: 0.003</br>OSF: 0.19</br></br>Type: M</br>Air temperature [K]: 302.3</br>Process temperature [K]: 310.7</br>Rotational speed [rpm]: 1544.0</br>Torque [Nm]: 39.7</br>Tool wear [min]: 141.0</br>TWF: 0.0</br>HDF: 0.0</br>PWF: 0.0</br>RNF: 0.0</br>_original_yhat_: 0.003318951211417192</br>\"],[\"</br>id: 4176</br>prediction: 0.003</br>OSF: 0.2</br></br>Type: M</br>Air temperature [K]: 302.3</br>Process temperature [K]: 310.7</br>Rotational speed [rpm]: 1544.0</br>Torque [Nm]: 39.7</br>Tool wear [min]: 141.0</br>TWF: 0.0</br>HDF: 0.0</br>PWF: 0.0</br>RNF: 0.0</br>_original_yhat_: 0.003318951211417192</br>\"],[\"</br>id: 4176</br>prediction: 0.003</br>OSF: 0.21</br></br>Type: M</br>Air temperature [K]: 302.3</br>Process temperature [K]: 310.7</br>Rotational speed [rpm]: 1544.0</br>Torque [Nm]: 39.7</br>Tool wear [min]: 141.0</br>TWF: 0.0</br>HDF: 0.0</br>PWF: 0.0</br>RNF: 0.0</br>_original_yhat_: 0.003318951211417192</br>\"],[\"</br>id: 4176</br>prediction: 0.003</br>OSF: 0.22</br></br>Type: M</br>Air temperature [K]: 302.3</br>Process temperature [K]: 310.7</br>Rotational speed [rpm]: 1544.0</br>Torque [Nm]: 39.7</br>Tool wear [min]: 141.0</br>TWF: 0.0</br>HDF: 0.0</br>PWF: 0.0</br>RNF: 0.0</br>_original_yhat_: 0.003318951211417192</br>\"],[\"</br>id: 4176</br>prediction: 0.003</br>OSF: 0.23</br></br>Type: M</br>Air temperature [K]: 302.3</br>Process temperature [K]: 310.7</br>Rotational speed [rpm]: 1544.0</br>Torque [Nm]: 39.7</br>Tool wear [min]: 141.0</br>TWF: 0.0</br>HDF: 0.0</br>PWF: 0.0</br>RNF: 0.0</br>_original_yhat_: 0.003318951211417192</br>\"],[\"</br>id: 4176</br>prediction: 0.003</br>OSF: 0.24</br></br>Type: M</br>Air temperature [K]: 302.3</br>Process temperature [K]: 310.7</br>Rotational speed [rpm]: 1544.0</br>Torque [Nm]: 39.7</br>Tool wear [min]: 141.0</br>TWF: 0.0</br>HDF: 0.0</br>PWF: 0.0</br>RNF: 0.0</br>_original_yhat_: 0.003318951211417192</br>\"],[\"</br>id: 4176</br>prediction: 0.003</br>OSF: 0.25</br></br>Type: M</br>Air temperature [K]: 302.3</br>Process temperature [K]: 310.7</br>Rotational speed [rpm]: 1544.0</br>Torque [Nm]: 39.7</br>Tool wear [min]: 141.0</br>TWF: 0.0</br>HDF: 0.0</br>PWF: 0.0</br>RNF: 0.0</br>_original_yhat_: 0.003318951211417192</br>\"],[\"</br>id: 4176</br>prediction: 0.003</br>OSF: 0.26</br></br>Type: M</br>Air temperature [K]: 302.3</br>Process temperature [K]: 310.7</br>Rotational speed [rpm]: 1544.0</br>Torque [Nm]: 39.7</br>Tool wear [min]: 141.0</br>TWF: 0.0</br>HDF: 0.0</br>PWF: 0.0</br>RNF: 0.0</br>_original_yhat_: 0.003318951211417192</br>\"],[\"</br>id: 4176</br>prediction: 0.003</br>OSF: 0.27</br></br>Type: M</br>Air temperature [K]: 302.3</br>Process temperature [K]: 310.7</br>Rotational speed [rpm]: 1544.0</br>Torque [Nm]: 39.7</br>Tool wear [min]: 141.0</br>TWF: 0.0</br>HDF: 0.0</br>PWF: 0.0</br>RNF: 0.0</br>_original_yhat_: 0.003318951211417192</br>\"],[\"</br>id: 4176</br>prediction: 0.003</br>OSF: 0.28</br></br>Type: M</br>Air temperature [K]: 302.3</br>Process temperature [K]: 310.7</br>Rotational speed [rpm]: 1544.0</br>Torque [Nm]: 39.7</br>Tool wear [min]: 141.0</br>TWF: 0.0</br>HDF: 0.0</br>PWF: 0.0</br>RNF: 0.0</br>_original_yhat_: 0.003318951211417192</br>\"],[\"</br>id: 4176</br>prediction: 0.003</br>OSF: 0.29</br></br>Type: M</br>Air temperature [K]: 302.3</br>Process temperature [K]: 310.7</br>Rotational speed [rpm]: 1544.0</br>Torque [Nm]: 39.7</br>Tool wear [min]: 141.0</br>TWF: 0.0</br>HDF: 0.0</br>PWF: 0.0</br>RNF: 0.0</br>_original_yhat_: 0.003318951211417192</br>\"],[\"</br>id: 4176</br>prediction: 0.003</br>OSF: 0.3</br></br>Type: M</br>Air temperature [K]: 302.3</br>Process temperature [K]: 310.7</br>Rotational speed [rpm]: 1544.0</br>Torque [Nm]: 39.7</br>Tool wear [min]: 141.0</br>TWF: 0.0</br>HDF: 0.0</br>PWF: 0.0</br>RNF: 0.0</br>_original_yhat_: 0.003318951211417192</br>\"],[\"</br>id: 4176</br>prediction: 0.003</br>OSF: 0.31</br></br>Type: M</br>Air temperature [K]: 302.3</br>Process temperature [K]: 310.7</br>Rotational speed [rpm]: 1544.0</br>Torque [Nm]: 39.7</br>Tool wear [min]: 141.0</br>TWF: 0.0</br>HDF: 0.0</br>PWF: 0.0</br>RNF: 0.0</br>_original_yhat_: 0.003318951211417192</br>\"],[\"</br>id: 4176</br>prediction: 0.003</br>OSF: 0.32</br></br>Type: M</br>Air temperature [K]: 302.3</br>Process temperature [K]: 310.7</br>Rotational speed [rpm]: 1544.0</br>Torque [Nm]: 39.7</br>Tool wear [min]: 141.0</br>TWF: 0.0</br>HDF: 0.0</br>PWF: 0.0</br>RNF: 0.0</br>_original_yhat_: 0.003318951211417192</br>\"],[\"</br>id: 4176</br>prediction: 0.003</br>OSF: 0.33</br></br>Type: M</br>Air temperature [K]: 302.3</br>Process temperature [K]: 310.7</br>Rotational speed [rpm]: 1544.0</br>Torque [Nm]: 39.7</br>Tool wear [min]: 141.0</br>TWF: 0.0</br>HDF: 0.0</br>PWF: 0.0</br>RNF: 0.0</br>_original_yhat_: 0.003318951211417192</br>\"],[\"</br>id: 4176</br>prediction: 0.003</br>OSF: 0.34</br></br>Type: M</br>Air temperature [K]: 302.3</br>Process temperature [K]: 310.7</br>Rotational speed [rpm]: 1544.0</br>Torque [Nm]: 39.7</br>Tool wear [min]: 141.0</br>TWF: 0.0</br>HDF: 0.0</br>PWF: 0.0</br>RNF: 0.0</br>_original_yhat_: 0.003318951211417192</br>\"],[\"</br>id: 4176</br>prediction: 0.003</br>OSF: 0.35000000000000003</br></br>Type: M</br>Air temperature [K]: 302.3</br>Process temperature [K]: 310.7</br>Rotational speed [rpm]: 1544.0</br>Torque [Nm]: 39.7</br>Tool wear [min]: 141.0</br>TWF: 0.0</br>HDF: 0.0</br>PWF: 0.0</br>RNF: 0.0</br>_original_yhat_: 0.003318951211417192</br>\"],[\"</br>id: 4176</br>prediction: 0.003</br>OSF: 0.36</br></br>Type: M</br>Air temperature [K]: 302.3</br>Process temperature [K]: 310.7</br>Rotational speed [rpm]: 1544.0</br>Torque [Nm]: 39.7</br>Tool wear [min]: 141.0</br>TWF: 0.0</br>HDF: 0.0</br>PWF: 0.0</br>RNF: 0.0</br>_original_yhat_: 0.003318951211417192</br>\"],[\"</br>id: 4176</br>prediction: 0.003</br>OSF: 0.37</br></br>Type: M</br>Air temperature [K]: 302.3</br>Process temperature [K]: 310.7</br>Rotational speed [rpm]: 1544.0</br>Torque [Nm]: 39.7</br>Tool wear [min]: 141.0</br>TWF: 0.0</br>HDF: 0.0</br>PWF: 0.0</br>RNF: 0.0</br>_original_yhat_: 0.003318951211417192</br>\"],[\"</br>id: 4176</br>prediction: 0.003</br>OSF: 0.38</br></br>Type: M</br>Air temperature [K]: 302.3</br>Process temperature [K]: 310.7</br>Rotational speed [rpm]: 1544.0</br>Torque [Nm]: 39.7</br>Tool wear [min]: 141.0</br>TWF: 0.0</br>HDF: 0.0</br>PWF: 0.0</br>RNF: 0.0</br>_original_yhat_: 0.003318951211417192</br>\"],[\"</br>id: 4176</br>prediction: 0.003</br>OSF: 0.39</br></br>Type: M</br>Air temperature [K]: 302.3</br>Process temperature [K]: 310.7</br>Rotational speed [rpm]: 1544.0</br>Torque [Nm]: 39.7</br>Tool wear [min]: 141.0</br>TWF: 0.0</br>HDF: 0.0</br>PWF: 0.0</br>RNF: 0.0</br>_original_yhat_: 0.003318951211417192</br>\"],[\"</br>id: 4176</br>prediction: 0.003</br>OSF: 0.4</br></br>Type: M</br>Air temperature [K]: 302.3</br>Process temperature [K]: 310.7</br>Rotational speed [rpm]: 1544.0</br>Torque [Nm]: 39.7</br>Tool wear [min]: 141.0</br>TWF: 0.0</br>HDF: 0.0</br>PWF: 0.0</br>RNF: 0.0</br>_original_yhat_: 0.003318951211417192</br>\"],[\"</br>id: 4176</br>prediction: 0.003</br>OSF: 0.41000000000000003</br></br>Type: M</br>Air temperature [K]: 302.3</br>Process temperature [K]: 310.7</br>Rotational speed [rpm]: 1544.0</br>Torque [Nm]: 39.7</br>Tool wear [min]: 141.0</br>TWF: 0.0</br>HDF: 0.0</br>PWF: 0.0</br>RNF: 0.0</br>_original_yhat_: 0.003318951211417192</br>\"],[\"</br>id: 4176</br>prediction: 0.003</br>OSF: 0.42</br></br>Type: M</br>Air temperature [K]: 302.3</br>Process temperature [K]: 310.7</br>Rotational speed [rpm]: 1544.0</br>Torque [Nm]: 39.7</br>Tool wear [min]: 141.0</br>TWF: 0.0</br>HDF: 0.0</br>PWF: 0.0</br>RNF: 0.0</br>_original_yhat_: 0.003318951211417192</br>\"],[\"</br>id: 4176</br>prediction: 0.003</br>OSF: 0.43</br></br>Type: M</br>Air temperature [K]: 302.3</br>Process temperature [K]: 310.7</br>Rotational speed [rpm]: 1544.0</br>Torque [Nm]: 39.7</br>Tool wear [min]: 141.0</br>TWF: 0.0</br>HDF: 0.0</br>PWF: 0.0</br>RNF: 0.0</br>_original_yhat_: 0.003318951211417192</br>\"],[\"</br>id: 4176</br>prediction: 0.003</br>OSF: 0.44</br></br>Type: M</br>Air temperature [K]: 302.3</br>Process temperature [K]: 310.7</br>Rotational speed [rpm]: 1544.0</br>Torque [Nm]: 39.7</br>Tool wear [min]: 141.0</br>TWF: 0.0</br>HDF: 0.0</br>PWF: 0.0</br>RNF: 0.0</br>_original_yhat_: 0.003318951211417192</br>\"],[\"</br>id: 4176</br>prediction: 0.003</br>OSF: 0.45</br></br>Type: M</br>Air temperature [K]: 302.3</br>Process temperature [K]: 310.7</br>Rotational speed [rpm]: 1544.0</br>Torque [Nm]: 39.7</br>Tool wear [min]: 141.0</br>TWF: 0.0</br>HDF: 0.0</br>PWF: 0.0</br>RNF: 0.0</br>_original_yhat_: 0.003318951211417192</br>\"],[\"</br>id: 4176</br>prediction: 0.003</br>OSF: 0.46</br></br>Type: M</br>Air temperature [K]: 302.3</br>Process temperature [K]: 310.7</br>Rotational speed [rpm]: 1544.0</br>Torque [Nm]: 39.7</br>Tool wear [min]: 141.0</br>TWF: 0.0</br>HDF: 0.0</br>PWF: 0.0</br>RNF: 0.0</br>_original_yhat_: 0.003318951211417192</br>\"],[\"</br>id: 4176</br>prediction: 0.003</br>OSF: 0.47000000000000003</br></br>Type: M</br>Air temperature [K]: 302.3</br>Process temperature [K]: 310.7</br>Rotational speed [rpm]: 1544.0</br>Torque [Nm]: 39.7</br>Tool wear [min]: 141.0</br>TWF: 0.0</br>HDF: 0.0</br>PWF: 0.0</br>RNF: 0.0</br>_original_yhat_: 0.003318951211417192</br>\"],[\"</br>id: 4176</br>prediction: 0.003</br>OSF: 0.48</br></br>Type: M</br>Air temperature [K]: 302.3</br>Process temperature [K]: 310.7</br>Rotational speed [rpm]: 1544.0</br>Torque [Nm]: 39.7</br>Tool wear [min]: 141.0</br>TWF: 0.0</br>HDF: 0.0</br>PWF: 0.0</br>RNF: 0.0</br>_original_yhat_: 0.003318951211417192</br>\"],[\"</br>id: 4176</br>prediction: 0.003</br>OSF: 0.49</br></br>Type: M</br>Air temperature [K]: 302.3</br>Process temperature [K]: 310.7</br>Rotational speed [rpm]: 1544.0</br>Torque [Nm]: 39.7</br>Tool wear [min]: 141.0</br>TWF: 0.0</br>HDF: 0.0</br>PWF: 0.0</br>RNF: 0.0</br>_original_yhat_: 0.003318951211417192</br>\"],[\"</br>id: 4176</br>prediction: 0.003</br>OSF: 0.5</br></br>Type: M</br>Air temperature [K]: 302.3</br>Process temperature [K]: 310.7</br>Rotational speed [rpm]: 1544.0</br>Torque [Nm]: 39.7</br>Tool wear [min]: 141.0</br>TWF: 0.0</br>HDF: 0.0</br>PWF: 0.0</br>RNF: 0.0</br>_original_yhat_: 0.003318951211417192</br>\"],[\"</br>id: 4176</br>prediction: 0.003</br>OSF: 0.51</br></br>Type: M</br>Air temperature [K]: 302.3</br>Process temperature [K]: 310.7</br>Rotational speed [rpm]: 1544.0</br>Torque [Nm]: 39.7</br>Tool wear [min]: 141.0</br>TWF: 0.0</br>HDF: 0.0</br>PWF: 0.0</br>RNF: 0.0</br>_original_yhat_: 0.003318951211417192</br>\"],[\"</br>id: 4176</br>prediction: 0.003</br>OSF: 0.52</br></br>Type: M</br>Air temperature [K]: 302.3</br>Process temperature [K]: 310.7</br>Rotational speed [rpm]: 1544.0</br>Torque [Nm]: 39.7</br>Tool wear [min]: 141.0</br>TWF: 0.0</br>HDF: 0.0</br>PWF: 0.0</br>RNF: 0.0</br>_original_yhat_: 0.003318951211417192</br>\"],[\"</br>id: 4176</br>prediction: 0.003</br>OSF: 0.53</br></br>Type: M</br>Air temperature [K]: 302.3</br>Process temperature [K]: 310.7</br>Rotational speed [rpm]: 1544.0</br>Torque [Nm]: 39.7</br>Tool wear [min]: 141.0</br>TWF: 0.0</br>HDF: 0.0</br>PWF: 0.0</br>RNF: 0.0</br>_original_yhat_: 0.003318951211417192</br>\"],[\"</br>id: 4176</br>prediction: 0.003</br>OSF: 0.54</br></br>Type: M</br>Air temperature [K]: 302.3</br>Process temperature [K]: 310.7</br>Rotational speed [rpm]: 1544.0</br>Torque [Nm]: 39.7</br>Tool wear [min]: 141.0</br>TWF: 0.0</br>HDF: 0.0</br>PWF: 0.0</br>RNF: 0.0</br>_original_yhat_: 0.003318951211417192</br>\"],[\"</br>id: 4176</br>prediction: 0.003</br>OSF: 0.55</br></br>Type: M</br>Air temperature [K]: 302.3</br>Process temperature [K]: 310.7</br>Rotational speed [rpm]: 1544.0</br>Torque [Nm]: 39.7</br>Tool wear [min]: 141.0</br>TWF: 0.0</br>HDF: 0.0</br>PWF: 0.0</br>RNF: 0.0</br>_original_yhat_: 0.003318951211417192</br>\"],[\"</br>id: 4176</br>prediction: 0.003</br>OSF: 0.56</br></br>Type: M</br>Air temperature [K]: 302.3</br>Process temperature [K]: 310.7</br>Rotational speed [rpm]: 1544.0</br>Torque [Nm]: 39.7</br>Tool wear [min]: 141.0</br>TWF: 0.0</br>HDF: 0.0</br>PWF: 0.0</br>RNF: 0.0</br>_original_yhat_: 0.003318951211417192</br>\"],[\"</br>id: 4176</br>prediction: 0.003</br>OSF: 0.5700000000000001</br></br>Type: M</br>Air temperature [K]: 302.3</br>Process temperature [K]: 310.7</br>Rotational speed [rpm]: 1544.0</br>Torque [Nm]: 39.7</br>Tool wear [min]: 141.0</br>TWF: 0.0</br>HDF: 0.0</br>PWF: 0.0</br>RNF: 0.0</br>_original_yhat_: 0.003318951211417192</br>\"],[\"</br>id: 4176</br>prediction: 0.003</br>OSF: 0.58</br></br>Type: M</br>Air temperature [K]: 302.3</br>Process temperature [K]: 310.7</br>Rotational speed [rpm]: 1544.0</br>Torque [Nm]: 39.7</br>Tool wear [min]: 141.0</br>TWF: 0.0</br>HDF: 0.0</br>PWF: 0.0</br>RNF: 0.0</br>_original_yhat_: 0.003318951211417192</br>\"],[\"</br>id: 4176</br>prediction: 0.003</br>OSF: 0.59</br></br>Type: M</br>Air temperature [K]: 302.3</br>Process temperature [K]: 310.7</br>Rotational speed [rpm]: 1544.0</br>Torque [Nm]: 39.7</br>Tool wear [min]: 141.0</br>TWF: 0.0</br>HDF: 0.0</br>PWF: 0.0</br>RNF: 0.0</br>_original_yhat_: 0.003318951211417192</br>\"],[\"</br>id: 4176</br>prediction: 0.003</br>OSF: 0.6</br></br>Type: M</br>Air temperature [K]: 302.3</br>Process temperature [K]: 310.7</br>Rotational speed [rpm]: 1544.0</br>Torque [Nm]: 39.7</br>Tool wear [min]: 141.0</br>TWF: 0.0</br>HDF: 0.0</br>PWF: 0.0</br>RNF: 0.0</br>_original_yhat_: 0.003318951211417192</br>\"],[\"</br>id: 4176</br>prediction: 0.003</br>OSF: 0.61</br></br>Type: M</br>Air temperature [K]: 302.3</br>Process temperature [K]: 310.7</br>Rotational speed [rpm]: 1544.0</br>Torque [Nm]: 39.7</br>Tool wear [min]: 141.0</br>TWF: 0.0</br>HDF: 0.0</br>PWF: 0.0</br>RNF: 0.0</br>_original_yhat_: 0.003318951211417192</br>\"],[\"</br>id: 4176</br>prediction: 0.003</br>OSF: 0.62</br></br>Type: M</br>Air temperature [K]: 302.3</br>Process temperature [K]: 310.7</br>Rotational speed [rpm]: 1544.0</br>Torque [Nm]: 39.7</br>Tool wear [min]: 141.0</br>TWF: 0.0</br>HDF: 0.0</br>PWF: 0.0</br>RNF: 0.0</br>_original_yhat_: 0.003318951211417192</br>\"],[\"</br>id: 4176</br>prediction: 0.003</br>OSF: 0.63</br></br>Type: M</br>Air temperature [K]: 302.3</br>Process temperature [K]: 310.7</br>Rotational speed [rpm]: 1544.0</br>Torque [Nm]: 39.7</br>Tool wear [min]: 141.0</br>TWF: 0.0</br>HDF: 0.0</br>PWF: 0.0</br>RNF: 0.0</br>_original_yhat_: 0.003318951211417192</br>\"],[\"</br>id: 4176</br>prediction: 0.003</br>OSF: 0.64</br></br>Type: M</br>Air temperature [K]: 302.3</br>Process temperature [K]: 310.7</br>Rotational speed [rpm]: 1544.0</br>Torque [Nm]: 39.7</br>Tool wear [min]: 141.0</br>TWF: 0.0</br>HDF: 0.0</br>PWF: 0.0</br>RNF: 0.0</br>_original_yhat_: 0.003318951211417192</br>\"],[\"</br>id: 4176</br>prediction: 0.003</br>OSF: 0.65</br></br>Type: M</br>Air temperature [K]: 302.3</br>Process temperature [K]: 310.7</br>Rotational speed [rpm]: 1544.0</br>Torque [Nm]: 39.7</br>Tool wear [min]: 141.0</br>TWF: 0.0</br>HDF: 0.0</br>PWF: 0.0</br>RNF: 0.0</br>_original_yhat_: 0.003318951211417192</br>\"],[\"</br>id: 4176</br>prediction: 0.003</br>OSF: 0.66</br></br>Type: M</br>Air temperature [K]: 302.3</br>Process temperature [K]: 310.7</br>Rotational speed [rpm]: 1544.0</br>Torque [Nm]: 39.7</br>Tool wear [min]: 141.0</br>TWF: 0.0</br>HDF: 0.0</br>PWF: 0.0</br>RNF: 0.0</br>_original_yhat_: 0.003318951211417192</br>\"],[\"</br>id: 4176</br>prediction: 0.003</br>OSF: 0.67</br></br>Type: M</br>Air temperature [K]: 302.3</br>Process temperature [K]: 310.7</br>Rotational speed [rpm]: 1544.0</br>Torque [Nm]: 39.7</br>Tool wear [min]: 141.0</br>TWF: 0.0</br>HDF: 0.0</br>PWF: 0.0</br>RNF: 0.0</br>_original_yhat_: 0.003318951211417192</br>\"],[\"</br>id: 4176</br>prediction: 0.003</br>OSF: 0.68</br></br>Type: M</br>Air temperature [K]: 302.3</br>Process temperature [K]: 310.7</br>Rotational speed [rpm]: 1544.0</br>Torque [Nm]: 39.7</br>Tool wear [min]: 141.0</br>TWF: 0.0</br>HDF: 0.0</br>PWF: 0.0</br>RNF: 0.0</br>_original_yhat_: 0.003318951211417192</br>\"],[\"</br>id: 4176</br>prediction: 0.003</br>OSF: 0.6900000000000001</br></br>Type: M</br>Air temperature [K]: 302.3</br>Process temperature [K]: 310.7</br>Rotational speed [rpm]: 1544.0</br>Torque [Nm]: 39.7</br>Tool wear [min]: 141.0</br>TWF: 0.0</br>HDF: 0.0</br>PWF: 0.0</br>RNF: 0.0</br>_original_yhat_: 0.003318951211417192</br>\"],[\"</br>id: 4176</br>prediction: 0.003</br>OSF: 0.7000000000000001</br></br>Type: M</br>Air temperature [K]: 302.3</br>Process temperature [K]: 310.7</br>Rotational speed [rpm]: 1544.0</br>Torque [Nm]: 39.7</br>Tool wear [min]: 141.0</br>TWF: 0.0</br>HDF: 0.0</br>PWF: 0.0</br>RNF: 0.0</br>_original_yhat_: 0.003318951211417192</br>\"],[\"</br>id: 4176</br>prediction: 0.003</br>OSF: 0.71</br></br>Type: M</br>Air temperature [K]: 302.3</br>Process temperature [K]: 310.7</br>Rotational speed [rpm]: 1544.0</br>Torque [Nm]: 39.7</br>Tool wear [min]: 141.0</br>TWF: 0.0</br>HDF: 0.0</br>PWF: 0.0</br>RNF: 0.0</br>_original_yhat_: 0.003318951211417192</br>\"],[\"</br>id: 4176</br>prediction: 0.003</br>OSF: 0.72</br></br>Type: M</br>Air temperature [K]: 302.3</br>Process temperature [K]: 310.7</br>Rotational speed [rpm]: 1544.0</br>Torque [Nm]: 39.7</br>Tool wear [min]: 141.0</br>TWF: 0.0</br>HDF: 0.0</br>PWF: 0.0</br>RNF: 0.0</br>_original_yhat_: 0.003318951211417192</br>\"],[\"</br>id: 4176</br>prediction: 0.003</br>OSF: 0.73</br></br>Type: M</br>Air temperature [K]: 302.3</br>Process temperature [K]: 310.7</br>Rotational speed [rpm]: 1544.0</br>Torque [Nm]: 39.7</br>Tool wear [min]: 141.0</br>TWF: 0.0</br>HDF: 0.0</br>PWF: 0.0</br>RNF: 0.0</br>_original_yhat_: 0.003318951211417192</br>\"],[\"</br>id: 4176</br>prediction: 0.003</br>OSF: 0.74</br></br>Type: M</br>Air temperature [K]: 302.3</br>Process temperature [K]: 310.7</br>Rotational speed [rpm]: 1544.0</br>Torque [Nm]: 39.7</br>Tool wear [min]: 141.0</br>TWF: 0.0</br>HDF: 0.0</br>PWF: 0.0</br>RNF: 0.0</br>_original_yhat_: 0.003318951211417192</br>\"],[\"</br>id: 4176</br>prediction: 0.003</br>OSF: 0.75</br></br>Type: M</br>Air temperature [K]: 302.3</br>Process temperature [K]: 310.7</br>Rotational speed [rpm]: 1544.0</br>Torque [Nm]: 39.7</br>Tool wear [min]: 141.0</br>TWF: 0.0</br>HDF: 0.0</br>PWF: 0.0</br>RNF: 0.0</br>_original_yhat_: 0.003318951211417192</br>\"],[\"</br>id: 4176</br>prediction: 0.003</br>OSF: 0.76</br></br>Type: M</br>Air temperature [K]: 302.3</br>Process temperature [K]: 310.7</br>Rotational speed [rpm]: 1544.0</br>Torque [Nm]: 39.7</br>Tool wear [min]: 141.0</br>TWF: 0.0</br>HDF: 0.0</br>PWF: 0.0</br>RNF: 0.0</br>_original_yhat_: 0.003318951211417192</br>\"],[\"</br>id: 4176</br>prediction: 0.003</br>OSF: 0.77</br></br>Type: M</br>Air temperature [K]: 302.3</br>Process temperature [K]: 310.7</br>Rotational speed [rpm]: 1544.0</br>Torque [Nm]: 39.7</br>Tool wear [min]: 141.0</br>TWF: 0.0</br>HDF: 0.0</br>PWF: 0.0</br>RNF: 0.0</br>_original_yhat_: 0.003318951211417192</br>\"],[\"</br>id: 4176</br>prediction: 0.003</br>OSF: 0.78</br></br>Type: M</br>Air temperature [K]: 302.3</br>Process temperature [K]: 310.7</br>Rotational speed [rpm]: 1544.0</br>Torque [Nm]: 39.7</br>Tool wear [min]: 141.0</br>TWF: 0.0</br>HDF: 0.0</br>PWF: 0.0</br>RNF: 0.0</br>_original_yhat_: 0.003318951211417192</br>\"],[\"</br>id: 4176</br>prediction: 0.003</br>OSF: 0.79</br></br>Type: M</br>Air temperature [K]: 302.3</br>Process temperature [K]: 310.7</br>Rotational speed [rpm]: 1544.0</br>Torque [Nm]: 39.7</br>Tool wear [min]: 141.0</br>TWF: 0.0</br>HDF: 0.0</br>PWF: 0.0</br>RNF: 0.0</br>_original_yhat_: 0.003318951211417192</br>\"],[\"</br>id: 4176</br>prediction: 0.003</br>OSF: 0.8</br></br>Type: M</br>Air temperature [K]: 302.3</br>Process temperature [K]: 310.7</br>Rotational speed [rpm]: 1544.0</br>Torque [Nm]: 39.7</br>Tool wear [min]: 141.0</br>TWF: 0.0</br>HDF: 0.0</br>PWF: 0.0</br>RNF: 0.0</br>_original_yhat_: 0.003318951211417192</br>\"],[\"</br>id: 4176</br>prediction: 0.003</br>OSF: 0.81</br></br>Type: M</br>Air temperature [K]: 302.3</br>Process temperature [K]: 310.7</br>Rotational speed [rpm]: 1544.0</br>Torque [Nm]: 39.7</br>Tool wear [min]: 141.0</br>TWF: 0.0</br>HDF: 0.0</br>PWF: 0.0</br>RNF: 0.0</br>_original_yhat_: 0.003318951211417192</br>\"],[\"</br>id: 4176</br>prediction: 0.003</br>OSF: 0.8200000000000001</br></br>Type: M</br>Air temperature [K]: 302.3</br>Process temperature [K]: 310.7</br>Rotational speed [rpm]: 1544.0</br>Torque [Nm]: 39.7</br>Tool wear [min]: 141.0</br>TWF: 0.0</br>HDF: 0.0</br>PWF: 0.0</br>RNF: 0.0</br>_original_yhat_: 0.003318951211417192</br>\"],[\"</br>id: 4176</br>prediction: 0.003</br>OSF: 0.8300000000000001</br></br>Type: M</br>Air temperature [K]: 302.3</br>Process temperature [K]: 310.7</br>Rotational speed [rpm]: 1544.0</br>Torque [Nm]: 39.7</br>Tool wear [min]: 141.0</br>TWF: 0.0</br>HDF: 0.0</br>PWF: 0.0</br>RNF: 0.0</br>_original_yhat_: 0.003318951211417192</br>\"],[\"</br>id: 4176</br>prediction: 0.003</br>OSF: 0.84</br></br>Type: M</br>Air temperature [K]: 302.3</br>Process temperature [K]: 310.7</br>Rotational speed [rpm]: 1544.0</br>Torque [Nm]: 39.7</br>Tool wear [min]: 141.0</br>TWF: 0.0</br>HDF: 0.0</br>PWF: 0.0</br>RNF: 0.0</br>_original_yhat_: 0.003318951211417192</br>\"],[\"</br>id: 4176</br>prediction: 0.003</br>OSF: 0.85</br></br>Type: M</br>Air temperature [K]: 302.3</br>Process temperature [K]: 310.7</br>Rotational speed [rpm]: 1544.0</br>Torque [Nm]: 39.7</br>Tool wear [min]: 141.0</br>TWF: 0.0</br>HDF: 0.0</br>PWF: 0.0</br>RNF: 0.0</br>_original_yhat_: 0.003318951211417192</br>\"],[\"</br>id: 4176</br>prediction: 0.003</br>OSF: 0.86</br></br>Type: M</br>Air temperature [K]: 302.3</br>Process temperature [K]: 310.7</br>Rotational speed [rpm]: 1544.0</br>Torque [Nm]: 39.7</br>Tool wear [min]: 141.0</br>TWF: 0.0</br>HDF: 0.0</br>PWF: 0.0</br>RNF: 0.0</br>_original_yhat_: 0.003318951211417192</br>\"],[\"</br>id: 4176</br>prediction: 0.003</br>OSF: 0.87</br></br>Type: M</br>Air temperature [K]: 302.3</br>Process temperature [K]: 310.7</br>Rotational speed [rpm]: 1544.0</br>Torque [Nm]: 39.7</br>Tool wear [min]: 141.0</br>TWF: 0.0</br>HDF: 0.0</br>PWF: 0.0</br>RNF: 0.0</br>_original_yhat_: 0.003318951211417192</br>\"],[\"</br>id: 4176</br>prediction: 0.003</br>OSF: 0.88</br></br>Type: M</br>Air temperature [K]: 302.3</br>Process temperature [K]: 310.7</br>Rotational speed [rpm]: 1544.0</br>Torque [Nm]: 39.7</br>Tool wear [min]: 141.0</br>TWF: 0.0</br>HDF: 0.0</br>PWF: 0.0</br>RNF: 0.0</br>_original_yhat_: 0.003318951211417192</br>\"],[\"</br>id: 4176</br>prediction: 0.003</br>OSF: 0.89</br></br>Type: M</br>Air temperature [K]: 302.3</br>Process temperature [K]: 310.7</br>Rotational speed [rpm]: 1544.0</br>Torque [Nm]: 39.7</br>Tool wear [min]: 141.0</br>TWF: 0.0</br>HDF: 0.0</br>PWF: 0.0</br>RNF: 0.0</br>_original_yhat_: 0.003318951211417192</br>\"],[\"</br>id: 4176</br>prediction: 0.003</br>OSF: 0.9</br></br>Type: M</br>Air temperature [K]: 302.3</br>Process temperature [K]: 310.7</br>Rotational speed [rpm]: 1544.0</br>Torque [Nm]: 39.7</br>Tool wear [min]: 141.0</br>TWF: 0.0</br>HDF: 0.0</br>PWF: 0.0</br>RNF: 0.0</br>_original_yhat_: 0.003318951211417192</br>\"],[\"</br>id: 4176</br>prediction: 0.003</br>OSF: 0.91</br></br>Type: M</br>Air temperature [K]: 302.3</br>Process temperature [K]: 310.7</br>Rotational speed [rpm]: 1544.0</br>Torque [Nm]: 39.7</br>Tool wear [min]: 141.0</br>TWF: 0.0</br>HDF: 0.0</br>PWF: 0.0</br>RNF: 0.0</br>_original_yhat_: 0.003318951211417192</br>\"],[\"</br>id: 4176</br>prediction: 0.003</br>OSF: 0.92</br></br>Type: M</br>Air temperature [K]: 302.3</br>Process temperature [K]: 310.7</br>Rotational speed [rpm]: 1544.0</br>Torque [Nm]: 39.7</br>Tool wear [min]: 141.0</br>TWF: 0.0</br>HDF: 0.0</br>PWF: 0.0</br>RNF: 0.0</br>_original_yhat_: 0.003318951211417192</br>\"],[\"</br>id: 4176</br>prediction: 0.003</br>OSF: 0.93</br></br>Type: M</br>Air temperature [K]: 302.3</br>Process temperature [K]: 310.7</br>Rotational speed [rpm]: 1544.0</br>Torque [Nm]: 39.7</br>Tool wear [min]: 141.0</br>TWF: 0.0</br>HDF: 0.0</br>PWF: 0.0</br>RNF: 0.0</br>_original_yhat_: 0.003318951211417192</br>\"],[\"</br>id: 4176</br>prediction: 0.003</br>OSF: 0.9400000000000001</br></br>Type: M</br>Air temperature [K]: 302.3</br>Process temperature [K]: 310.7</br>Rotational speed [rpm]: 1544.0</br>Torque [Nm]: 39.7</br>Tool wear [min]: 141.0</br>TWF: 0.0</br>HDF: 0.0</br>PWF: 0.0</br>RNF: 0.0</br>_original_yhat_: 0.003318951211417192</br>\"],[\"</br>id: 4176</br>prediction: 0.003</br>OSF: 0.9500000000000001</br></br>Type: M</br>Air temperature [K]: 302.3</br>Process temperature [K]: 310.7</br>Rotational speed [rpm]: 1544.0</br>Torque [Nm]: 39.7</br>Tool wear [min]: 141.0</br>TWF: 0.0</br>HDF: 0.0</br>PWF: 0.0</br>RNF: 0.0</br>_original_yhat_: 0.003318951211417192</br>\"],[\"</br>id: 4176</br>prediction: 0.003</br>OSF: 0.96</br></br>Type: M</br>Air temperature [K]: 302.3</br>Process temperature [K]: 310.7</br>Rotational speed [rpm]: 1544.0</br>Torque [Nm]: 39.7</br>Tool wear [min]: 141.0</br>TWF: 0.0</br>HDF: 0.0</br>PWF: 0.0</br>RNF: 0.0</br>_original_yhat_: 0.003318951211417192</br>\"],[\"</br>id: 4176</br>prediction: 0.003</br>OSF: 0.97</br></br>Type: M</br>Air temperature [K]: 302.3</br>Process temperature [K]: 310.7</br>Rotational speed [rpm]: 1544.0</br>Torque [Nm]: 39.7</br>Tool wear [min]: 141.0</br>TWF: 0.0</br>HDF: 0.0</br>PWF: 0.0</br>RNF: 0.0</br>_original_yhat_: 0.003318951211417192</br>\"],[\"</br>id: 4176</br>prediction: 0.003</br>OSF: 0.98</br></br>Type: M</br>Air temperature [K]: 302.3</br>Process temperature [K]: 310.7</br>Rotational speed [rpm]: 1544.0</br>Torque [Nm]: 39.7</br>Tool wear [min]: 141.0</br>TWF: 0.0</br>HDF: 0.0</br>PWF: 0.0</br>RNF: 0.0</br>_original_yhat_: 0.003318951211417192</br>\"],[\"</br>id: 4176</br>prediction: 0.003</br>OSF: 0.99</br></br>Type: M</br>Air temperature [K]: 302.3</br>Process temperature [K]: 310.7</br>Rotational speed [rpm]: 1544.0</br>Torque [Nm]: 39.7</br>Tool wear [min]: 141.0</br>TWF: 0.0</br>HDF: 0.0</br>PWF: 0.0</br>RNF: 0.0</br>_original_yhat_: 0.003318951211417192</br>\"],[\"</br>id: 4176</br>prediction: 0.003</br>OSF: 1.0</br></br>Type: M</br>Air temperature [K]: 302.3</br>Process temperature [K]: 310.7</br>Rotational speed [rpm]: 1544.0</br>Torque [Nm]: 39.7</br>Tool wear [min]: 141.0</br>TWF: 0.0</br>HDF: 0.0</br>PWF: 0.0</br>RNF: 0.0</br>_original_yhat_: 0.003318951211417192</br>\"]],\"hovertemplate\":\"%{customdata[0]}<extra></extra>\",\"legendgroup\":\"testing\",\"line\":{\"color\":\"#46bac2\",\"dash\":\"solid\",\"width\":2},\"marker\":{\"symbol\":\"circle\"},\"mode\":\"lines\",\"name\":\"testing\",\"showlegend\":false,\"x\":[0.0,0.01,0.02,0.03,0.04,0.05,0.06,0.07,0.08,0.09,0.1,0.11,0.12,0.13,0.14,0.15,0.16,0.17,0.18,0.19,0.2,0.21,0.22,0.23,0.24,0.25,0.26,0.27,0.28,0.29,0.3,0.31,0.32,0.33,0.34,0.35000000000000003,0.36,0.37,0.38,0.39,0.4,0.41000000000000003,0.42,0.43,0.44,0.45,0.46,0.47000000000000003,0.48,0.49,0.5,0.51,0.52,0.53,0.54,0.55,0.56,0.5700000000000001,0.58,0.59,0.6,0.61,0.62,0.63,0.64,0.65,0.66,0.67,0.68,0.6900000000000001,0.7000000000000001,0.71,0.72,0.73,0.74,0.75,0.76,0.77,0.78,0.79,0.8,0.81,0.8200000000000001,0.8300000000000001,0.84,0.85,0.86,0.87,0.88,0.89,0.9,0.91,0.92,0.93,0.9400000000000001,0.9500000000000001,0.96,0.97,0.98,0.99,1.0],\"xaxis\":\"x\",\"y\":[0.003318951211417192,0.003318951211417192,0.003318951211417192,0.003318951211417192,0.003318951211417192,0.003318951211417192,0.003318951211417192,0.003318951211417192,0.003318951211417192,0.003318951211417192,0.003318951211417192,0.003318951211417192,0.003318951211417192,0.003318951211417192,0.003318951211417192,0.003318951211417192,0.003318951211417192,0.003318951211417192,0.003318951211417192,0.003318951211417192,0.003318951211417192,0.003318951211417192,0.003318951211417192,0.003318951211417192,0.003318951211417192,0.003318951211417192,0.003318951211417192,0.003318951211417192,0.003318951211417192,0.003318951211417192,0.003318951211417192,0.003318951211417192,0.003318951211417192,0.003318951211417192,0.003318951211417192,0.003318951211417192,0.003318951211417192,0.003318951211417192,0.003318951211417192,0.003318951211417192,0.003318951211417192,0.003318951211417192,0.003318951211417192,0.003318951211417192,0.003318951211417192,0.003318951211417192,0.003318951211417192,0.003318951211417192,0.003318951211417192,0.003318951211417192,0.003318951211417192,0.003318951211417192,0.003318951211417192,0.003318951211417192,0.003318951211417192,0.003318951211417192,0.003318951211417192,0.003318951211417192,0.003318951211417192,0.003318951211417192,0.003318951211417192,0.003318951211417192,0.003318951211417192,0.003318951211417192,0.003318951211417192,0.003318951211417192,0.003318951211417192,0.003318951211417192,0.003318951211417192,0.003318951211417192,0.003318951211417192,0.003318951211417192,0.003318951211417192,0.003318951211417192,0.003318951211417192,0.003318951211417192,0.003318951211417192,0.003318951211417192,0.003318951211417192,0.003318951211417192,0.003318951211417192,0.003318951211417192,0.003318951211417192,0.003318951211417192,0.003318951211417192,0.003318951211417192,0.003318951211417192,0.003318951211417192,0.003318951211417192,0.003318951211417192,0.003318951211417192,0.003318951211417192,0.003318951211417192,0.003318951211417192,0.003318951211417192,0.003318951211417192,0.003318951211417192,0.003318951211417192,0.003318951211417192,0.003318951211417192,0.003318951211417192],\"yaxis\":\"y\",\"type\":\"scattergl\",\"opacity\":1},{\"customdata\":[[\"</br>id: 4176</br>prediction: 0.003</br>RNF: 0.0</br></br>Type: M</br>Air temperature [K]: 302.3</br>Process temperature [K]: 310.7</br>Rotational speed [rpm]: 1544.0</br>Torque [Nm]: 39.7</br>Tool wear [min]: 141.0</br>TWF: 0.0</br>HDF: 0.0</br>PWF: 0.0</br>OSF: 0.0</br>_original_yhat_: 0.003318951211417192</br>\"],[\"</br>id: 4176</br>prediction: 0.003</br>RNF: 0.01</br></br>Type: M</br>Air temperature [K]: 302.3</br>Process temperature [K]: 310.7</br>Rotational speed [rpm]: 1544.0</br>Torque [Nm]: 39.7</br>Tool wear [min]: 141.0</br>TWF: 0.0</br>HDF: 0.0</br>PWF: 0.0</br>OSF: 0.0</br>_original_yhat_: 0.003318951211417192</br>\"],[\"</br>id: 4176</br>prediction: 0.003</br>RNF: 0.02</br></br>Type: M</br>Air temperature [K]: 302.3</br>Process temperature [K]: 310.7</br>Rotational speed [rpm]: 1544.0</br>Torque [Nm]: 39.7</br>Tool wear [min]: 141.0</br>TWF: 0.0</br>HDF: 0.0</br>PWF: 0.0</br>OSF: 0.0</br>_original_yhat_: 0.003318951211417192</br>\"],[\"</br>id: 4176</br>prediction: 0.003</br>RNF: 0.03</br></br>Type: M</br>Air temperature [K]: 302.3</br>Process temperature [K]: 310.7</br>Rotational speed [rpm]: 1544.0</br>Torque [Nm]: 39.7</br>Tool wear [min]: 141.0</br>TWF: 0.0</br>HDF: 0.0</br>PWF: 0.0</br>OSF: 0.0</br>_original_yhat_: 0.003318951211417192</br>\"],[\"</br>id: 4176</br>prediction: 0.003</br>RNF: 0.04</br></br>Type: M</br>Air temperature [K]: 302.3</br>Process temperature [K]: 310.7</br>Rotational speed [rpm]: 1544.0</br>Torque [Nm]: 39.7</br>Tool wear [min]: 141.0</br>TWF: 0.0</br>HDF: 0.0</br>PWF: 0.0</br>OSF: 0.0</br>_original_yhat_: 0.003318951211417192</br>\"],[\"</br>id: 4176</br>prediction: 0.003</br>RNF: 0.05</br></br>Type: M</br>Air temperature [K]: 302.3</br>Process temperature [K]: 310.7</br>Rotational speed [rpm]: 1544.0</br>Torque [Nm]: 39.7</br>Tool wear [min]: 141.0</br>TWF: 0.0</br>HDF: 0.0</br>PWF: 0.0</br>OSF: 0.0</br>_original_yhat_: 0.003318951211417192</br>\"],[\"</br>id: 4176</br>prediction: 0.003</br>RNF: 0.06</br></br>Type: M</br>Air temperature [K]: 302.3</br>Process temperature [K]: 310.7</br>Rotational speed [rpm]: 1544.0</br>Torque [Nm]: 39.7</br>Tool wear [min]: 141.0</br>TWF: 0.0</br>HDF: 0.0</br>PWF: 0.0</br>OSF: 0.0</br>_original_yhat_: 0.003318951211417192</br>\"],[\"</br>id: 4176</br>prediction: 0.003</br>RNF: 0.07</br></br>Type: M</br>Air temperature [K]: 302.3</br>Process temperature [K]: 310.7</br>Rotational speed [rpm]: 1544.0</br>Torque [Nm]: 39.7</br>Tool wear [min]: 141.0</br>TWF: 0.0</br>HDF: 0.0</br>PWF: 0.0</br>OSF: 0.0</br>_original_yhat_: 0.003318951211417192</br>\"],[\"</br>id: 4176</br>prediction: 0.003</br>RNF: 0.08</br></br>Type: M</br>Air temperature [K]: 302.3</br>Process temperature [K]: 310.7</br>Rotational speed [rpm]: 1544.0</br>Torque [Nm]: 39.7</br>Tool wear [min]: 141.0</br>TWF: 0.0</br>HDF: 0.0</br>PWF: 0.0</br>OSF: 0.0</br>_original_yhat_: 0.003318951211417192</br>\"],[\"</br>id: 4176</br>prediction: 0.003</br>RNF: 0.09</br></br>Type: M</br>Air temperature [K]: 302.3</br>Process temperature [K]: 310.7</br>Rotational speed [rpm]: 1544.0</br>Torque [Nm]: 39.7</br>Tool wear [min]: 141.0</br>TWF: 0.0</br>HDF: 0.0</br>PWF: 0.0</br>OSF: 0.0</br>_original_yhat_: 0.003318951211417192</br>\"],[\"</br>id: 4176</br>prediction: 0.003</br>RNF: 0.1</br></br>Type: M</br>Air temperature [K]: 302.3</br>Process temperature [K]: 310.7</br>Rotational speed [rpm]: 1544.0</br>Torque [Nm]: 39.7</br>Tool wear [min]: 141.0</br>TWF: 0.0</br>HDF: 0.0</br>PWF: 0.0</br>OSF: 0.0</br>_original_yhat_: 0.003318951211417192</br>\"],[\"</br>id: 4176</br>prediction: 0.003</br>RNF: 0.11</br></br>Type: M</br>Air temperature [K]: 302.3</br>Process temperature [K]: 310.7</br>Rotational speed [rpm]: 1544.0</br>Torque [Nm]: 39.7</br>Tool wear [min]: 141.0</br>TWF: 0.0</br>HDF: 0.0</br>PWF: 0.0</br>OSF: 0.0</br>_original_yhat_: 0.003318951211417192</br>\"],[\"</br>id: 4176</br>prediction: 0.003</br>RNF: 0.12</br></br>Type: M</br>Air temperature [K]: 302.3</br>Process temperature [K]: 310.7</br>Rotational speed [rpm]: 1544.0</br>Torque [Nm]: 39.7</br>Tool wear [min]: 141.0</br>TWF: 0.0</br>HDF: 0.0</br>PWF: 0.0</br>OSF: 0.0</br>_original_yhat_: 0.003318951211417192</br>\"],[\"</br>id: 4176</br>prediction: 0.003</br>RNF: 0.13</br></br>Type: M</br>Air temperature [K]: 302.3</br>Process temperature [K]: 310.7</br>Rotational speed [rpm]: 1544.0</br>Torque [Nm]: 39.7</br>Tool wear [min]: 141.0</br>TWF: 0.0</br>HDF: 0.0</br>PWF: 0.0</br>OSF: 0.0</br>_original_yhat_: 0.003318951211417192</br>\"],[\"</br>id: 4176</br>prediction: 0.003</br>RNF: 0.14</br></br>Type: M</br>Air temperature [K]: 302.3</br>Process temperature [K]: 310.7</br>Rotational speed [rpm]: 1544.0</br>Torque [Nm]: 39.7</br>Tool wear [min]: 141.0</br>TWF: 0.0</br>HDF: 0.0</br>PWF: 0.0</br>OSF: 0.0</br>_original_yhat_: 0.003318951211417192</br>\"],[\"</br>id: 4176</br>prediction: 0.003</br>RNF: 0.15</br></br>Type: M</br>Air temperature [K]: 302.3</br>Process temperature [K]: 310.7</br>Rotational speed [rpm]: 1544.0</br>Torque [Nm]: 39.7</br>Tool wear [min]: 141.0</br>TWF: 0.0</br>HDF: 0.0</br>PWF: 0.0</br>OSF: 0.0</br>_original_yhat_: 0.003318951211417192</br>\"],[\"</br>id: 4176</br>prediction: 0.003</br>RNF: 0.16</br></br>Type: M</br>Air temperature [K]: 302.3</br>Process temperature [K]: 310.7</br>Rotational speed [rpm]: 1544.0</br>Torque [Nm]: 39.7</br>Tool wear [min]: 141.0</br>TWF: 0.0</br>HDF: 0.0</br>PWF: 0.0</br>OSF: 0.0</br>_original_yhat_: 0.003318951211417192</br>\"],[\"</br>id: 4176</br>prediction: 0.003</br>RNF: 0.17</br></br>Type: M</br>Air temperature [K]: 302.3</br>Process temperature [K]: 310.7</br>Rotational speed [rpm]: 1544.0</br>Torque [Nm]: 39.7</br>Tool wear [min]: 141.0</br>TWF: 0.0</br>HDF: 0.0</br>PWF: 0.0</br>OSF: 0.0</br>_original_yhat_: 0.003318951211417192</br>\"],[\"</br>id: 4176</br>prediction: 0.003</br>RNF: 0.18</br></br>Type: M</br>Air temperature [K]: 302.3</br>Process temperature [K]: 310.7</br>Rotational speed [rpm]: 1544.0</br>Torque [Nm]: 39.7</br>Tool wear [min]: 141.0</br>TWF: 0.0</br>HDF: 0.0</br>PWF: 0.0</br>OSF: 0.0</br>_original_yhat_: 0.003318951211417192</br>\"],[\"</br>id: 4176</br>prediction: 0.003</br>RNF: 0.19</br></br>Type: M</br>Air temperature [K]: 302.3</br>Process temperature [K]: 310.7</br>Rotational speed [rpm]: 1544.0</br>Torque [Nm]: 39.7</br>Tool wear [min]: 141.0</br>TWF: 0.0</br>HDF: 0.0</br>PWF: 0.0</br>OSF: 0.0</br>_original_yhat_: 0.003318951211417192</br>\"],[\"</br>id: 4176</br>prediction: 0.003</br>RNF: 0.2</br></br>Type: M</br>Air temperature [K]: 302.3</br>Process temperature [K]: 310.7</br>Rotational speed [rpm]: 1544.0</br>Torque [Nm]: 39.7</br>Tool wear [min]: 141.0</br>TWF: 0.0</br>HDF: 0.0</br>PWF: 0.0</br>OSF: 0.0</br>_original_yhat_: 0.003318951211417192</br>\"],[\"</br>id: 4176</br>prediction: 0.003</br>RNF: 0.21</br></br>Type: M</br>Air temperature [K]: 302.3</br>Process temperature [K]: 310.7</br>Rotational speed [rpm]: 1544.0</br>Torque [Nm]: 39.7</br>Tool wear [min]: 141.0</br>TWF: 0.0</br>HDF: 0.0</br>PWF: 0.0</br>OSF: 0.0</br>_original_yhat_: 0.003318951211417192</br>\"],[\"</br>id: 4176</br>prediction: 0.003</br>RNF: 0.22</br></br>Type: M</br>Air temperature [K]: 302.3</br>Process temperature [K]: 310.7</br>Rotational speed [rpm]: 1544.0</br>Torque [Nm]: 39.7</br>Tool wear [min]: 141.0</br>TWF: 0.0</br>HDF: 0.0</br>PWF: 0.0</br>OSF: 0.0</br>_original_yhat_: 0.003318951211417192</br>\"],[\"</br>id: 4176</br>prediction: 0.003</br>RNF: 0.23</br></br>Type: M</br>Air temperature [K]: 302.3</br>Process temperature [K]: 310.7</br>Rotational speed [rpm]: 1544.0</br>Torque [Nm]: 39.7</br>Tool wear [min]: 141.0</br>TWF: 0.0</br>HDF: 0.0</br>PWF: 0.0</br>OSF: 0.0</br>_original_yhat_: 0.003318951211417192</br>\"],[\"</br>id: 4176</br>prediction: 0.003</br>RNF: 0.24</br></br>Type: M</br>Air temperature [K]: 302.3</br>Process temperature [K]: 310.7</br>Rotational speed [rpm]: 1544.0</br>Torque [Nm]: 39.7</br>Tool wear [min]: 141.0</br>TWF: 0.0</br>HDF: 0.0</br>PWF: 0.0</br>OSF: 0.0</br>_original_yhat_: 0.003318951211417192</br>\"],[\"</br>id: 4176</br>prediction: 0.003</br>RNF: 0.25</br></br>Type: M</br>Air temperature [K]: 302.3</br>Process temperature [K]: 310.7</br>Rotational speed [rpm]: 1544.0</br>Torque [Nm]: 39.7</br>Tool wear [min]: 141.0</br>TWF: 0.0</br>HDF: 0.0</br>PWF: 0.0</br>OSF: 0.0</br>_original_yhat_: 0.003318951211417192</br>\"],[\"</br>id: 4176</br>prediction: 0.003</br>RNF: 0.26</br></br>Type: M</br>Air temperature [K]: 302.3</br>Process temperature [K]: 310.7</br>Rotational speed [rpm]: 1544.0</br>Torque [Nm]: 39.7</br>Tool wear [min]: 141.0</br>TWF: 0.0</br>HDF: 0.0</br>PWF: 0.0</br>OSF: 0.0</br>_original_yhat_: 0.003318951211417192</br>\"],[\"</br>id: 4176</br>prediction: 0.003</br>RNF: 0.27</br></br>Type: M</br>Air temperature [K]: 302.3</br>Process temperature [K]: 310.7</br>Rotational speed [rpm]: 1544.0</br>Torque [Nm]: 39.7</br>Tool wear [min]: 141.0</br>TWF: 0.0</br>HDF: 0.0</br>PWF: 0.0</br>OSF: 0.0</br>_original_yhat_: 0.003318951211417192</br>\"],[\"</br>id: 4176</br>prediction: 0.003</br>RNF: 0.28</br></br>Type: M</br>Air temperature [K]: 302.3</br>Process temperature [K]: 310.7</br>Rotational speed [rpm]: 1544.0</br>Torque [Nm]: 39.7</br>Tool wear [min]: 141.0</br>TWF: 0.0</br>HDF: 0.0</br>PWF: 0.0</br>OSF: 0.0</br>_original_yhat_: 0.003318951211417192</br>\"],[\"</br>id: 4176</br>prediction: 0.003</br>RNF: 0.29</br></br>Type: M</br>Air temperature [K]: 302.3</br>Process temperature [K]: 310.7</br>Rotational speed [rpm]: 1544.0</br>Torque [Nm]: 39.7</br>Tool wear [min]: 141.0</br>TWF: 0.0</br>HDF: 0.0</br>PWF: 0.0</br>OSF: 0.0</br>_original_yhat_: 0.003318951211417192</br>\"],[\"</br>id: 4176</br>prediction: 0.003</br>RNF: 0.3</br></br>Type: M</br>Air temperature [K]: 302.3</br>Process temperature [K]: 310.7</br>Rotational speed [rpm]: 1544.0</br>Torque [Nm]: 39.7</br>Tool wear [min]: 141.0</br>TWF: 0.0</br>HDF: 0.0</br>PWF: 0.0</br>OSF: 0.0</br>_original_yhat_: 0.003318951211417192</br>\"],[\"</br>id: 4176</br>prediction: 0.003</br>RNF: 0.31</br></br>Type: M</br>Air temperature [K]: 302.3</br>Process temperature [K]: 310.7</br>Rotational speed [rpm]: 1544.0</br>Torque [Nm]: 39.7</br>Tool wear [min]: 141.0</br>TWF: 0.0</br>HDF: 0.0</br>PWF: 0.0</br>OSF: 0.0</br>_original_yhat_: 0.003318951211417192</br>\"],[\"</br>id: 4176</br>prediction: 0.003</br>RNF: 0.32</br></br>Type: M</br>Air temperature [K]: 302.3</br>Process temperature [K]: 310.7</br>Rotational speed [rpm]: 1544.0</br>Torque [Nm]: 39.7</br>Tool wear [min]: 141.0</br>TWF: 0.0</br>HDF: 0.0</br>PWF: 0.0</br>OSF: 0.0</br>_original_yhat_: 0.003318951211417192</br>\"],[\"</br>id: 4176</br>prediction: 0.003</br>RNF: 0.33</br></br>Type: M</br>Air temperature [K]: 302.3</br>Process temperature [K]: 310.7</br>Rotational speed [rpm]: 1544.0</br>Torque [Nm]: 39.7</br>Tool wear [min]: 141.0</br>TWF: 0.0</br>HDF: 0.0</br>PWF: 0.0</br>OSF: 0.0</br>_original_yhat_: 0.003318951211417192</br>\"],[\"</br>id: 4176</br>prediction: 0.003</br>RNF: 0.34</br></br>Type: M</br>Air temperature [K]: 302.3</br>Process temperature [K]: 310.7</br>Rotational speed [rpm]: 1544.0</br>Torque [Nm]: 39.7</br>Tool wear [min]: 141.0</br>TWF: 0.0</br>HDF: 0.0</br>PWF: 0.0</br>OSF: 0.0</br>_original_yhat_: 0.003318951211417192</br>\"],[\"</br>id: 4176</br>prediction: 0.003</br>RNF: 0.35000000000000003</br></br>Type: M</br>Air temperature [K]: 302.3</br>Process temperature [K]: 310.7</br>Rotational speed [rpm]: 1544.0</br>Torque [Nm]: 39.7</br>Tool wear [min]: 141.0</br>TWF: 0.0</br>HDF: 0.0</br>PWF: 0.0</br>OSF: 0.0</br>_original_yhat_: 0.003318951211417192</br>\"],[\"</br>id: 4176</br>prediction: 0.003</br>RNF: 0.36</br></br>Type: M</br>Air temperature [K]: 302.3</br>Process temperature [K]: 310.7</br>Rotational speed [rpm]: 1544.0</br>Torque [Nm]: 39.7</br>Tool wear [min]: 141.0</br>TWF: 0.0</br>HDF: 0.0</br>PWF: 0.0</br>OSF: 0.0</br>_original_yhat_: 0.003318951211417192</br>\"],[\"</br>id: 4176</br>prediction: 0.003</br>RNF: 0.37</br></br>Type: M</br>Air temperature [K]: 302.3</br>Process temperature [K]: 310.7</br>Rotational speed [rpm]: 1544.0</br>Torque [Nm]: 39.7</br>Tool wear [min]: 141.0</br>TWF: 0.0</br>HDF: 0.0</br>PWF: 0.0</br>OSF: 0.0</br>_original_yhat_: 0.003318951211417192</br>\"],[\"</br>id: 4176</br>prediction: 0.003</br>RNF: 0.38</br></br>Type: M</br>Air temperature [K]: 302.3</br>Process temperature [K]: 310.7</br>Rotational speed [rpm]: 1544.0</br>Torque [Nm]: 39.7</br>Tool wear [min]: 141.0</br>TWF: 0.0</br>HDF: 0.0</br>PWF: 0.0</br>OSF: 0.0</br>_original_yhat_: 0.003318951211417192</br>\"],[\"</br>id: 4176</br>prediction: 0.003</br>RNF: 0.39</br></br>Type: M</br>Air temperature [K]: 302.3</br>Process temperature [K]: 310.7</br>Rotational speed [rpm]: 1544.0</br>Torque [Nm]: 39.7</br>Tool wear [min]: 141.0</br>TWF: 0.0</br>HDF: 0.0</br>PWF: 0.0</br>OSF: 0.0</br>_original_yhat_: 0.003318951211417192</br>\"],[\"</br>id: 4176</br>prediction: 0.003</br>RNF: 0.4</br></br>Type: M</br>Air temperature [K]: 302.3</br>Process temperature [K]: 310.7</br>Rotational speed [rpm]: 1544.0</br>Torque [Nm]: 39.7</br>Tool wear [min]: 141.0</br>TWF: 0.0</br>HDF: 0.0</br>PWF: 0.0</br>OSF: 0.0</br>_original_yhat_: 0.003318951211417192</br>\"],[\"</br>id: 4176</br>prediction: 0.003</br>RNF: 0.41000000000000003</br></br>Type: M</br>Air temperature [K]: 302.3</br>Process temperature [K]: 310.7</br>Rotational speed [rpm]: 1544.0</br>Torque [Nm]: 39.7</br>Tool wear [min]: 141.0</br>TWF: 0.0</br>HDF: 0.0</br>PWF: 0.0</br>OSF: 0.0</br>_original_yhat_: 0.003318951211417192</br>\"],[\"</br>id: 4176</br>prediction: 0.003</br>RNF: 0.42</br></br>Type: M</br>Air temperature [K]: 302.3</br>Process temperature [K]: 310.7</br>Rotational speed [rpm]: 1544.0</br>Torque [Nm]: 39.7</br>Tool wear [min]: 141.0</br>TWF: 0.0</br>HDF: 0.0</br>PWF: 0.0</br>OSF: 0.0</br>_original_yhat_: 0.003318951211417192</br>\"],[\"</br>id: 4176</br>prediction: 0.003</br>RNF: 0.43</br></br>Type: M</br>Air temperature [K]: 302.3</br>Process temperature [K]: 310.7</br>Rotational speed [rpm]: 1544.0</br>Torque [Nm]: 39.7</br>Tool wear [min]: 141.0</br>TWF: 0.0</br>HDF: 0.0</br>PWF: 0.0</br>OSF: 0.0</br>_original_yhat_: 0.003318951211417192</br>\"],[\"</br>id: 4176</br>prediction: 0.003</br>RNF: 0.44</br></br>Type: M</br>Air temperature [K]: 302.3</br>Process temperature [K]: 310.7</br>Rotational speed [rpm]: 1544.0</br>Torque [Nm]: 39.7</br>Tool wear [min]: 141.0</br>TWF: 0.0</br>HDF: 0.0</br>PWF: 0.0</br>OSF: 0.0</br>_original_yhat_: 0.003318951211417192</br>\"],[\"</br>id: 4176</br>prediction: 0.003</br>RNF: 0.45</br></br>Type: M</br>Air temperature [K]: 302.3</br>Process temperature [K]: 310.7</br>Rotational speed [rpm]: 1544.0</br>Torque [Nm]: 39.7</br>Tool wear [min]: 141.0</br>TWF: 0.0</br>HDF: 0.0</br>PWF: 0.0</br>OSF: 0.0</br>_original_yhat_: 0.003318951211417192</br>\"],[\"</br>id: 4176</br>prediction: 0.003</br>RNF: 0.46</br></br>Type: M</br>Air temperature [K]: 302.3</br>Process temperature [K]: 310.7</br>Rotational speed [rpm]: 1544.0</br>Torque [Nm]: 39.7</br>Tool wear [min]: 141.0</br>TWF: 0.0</br>HDF: 0.0</br>PWF: 0.0</br>OSF: 0.0</br>_original_yhat_: 0.003318951211417192</br>\"],[\"</br>id: 4176</br>prediction: 0.003</br>RNF: 0.47000000000000003</br></br>Type: M</br>Air temperature [K]: 302.3</br>Process temperature [K]: 310.7</br>Rotational speed [rpm]: 1544.0</br>Torque [Nm]: 39.7</br>Tool wear [min]: 141.0</br>TWF: 0.0</br>HDF: 0.0</br>PWF: 0.0</br>OSF: 0.0</br>_original_yhat_: 0.003318951211417192</br>\"],[\"</br>id: 4176</br>prediction: 0.003</br>RNF: 0.48</br></br>Type: M</br>Air temperature [K]: 302.3</br>Process temperature [K]: 310.7</br>Rotational speed [rpm]: 1544.0</br>Torque [Nm]: 39.7</br>Tool wear [min]: 141.0</br>TWF: 0.0</br>HDF: 0.0</br>PWF: 0.0</br>OSF: 0.0</br>_original_yhat_: 0.003318951211417192</br>\"],[\"</br>id: 4176</br>prediction: 0.003</br>RNF: 0.49</br></br>Type: M</br>Air temperature [K]: 302.3</br>Process temperature [K]: 310.7</br>Rotational speed [rpm]: 1544.0</br>Torque [Nm]: 39.7</br>Tool wear [min]: 141.0</br>TWF: 0.0</br>HDF: 0.0</br>PWF: 0.0</br>OSF: 0.0</br>_original_yhat_: 0.003318951211417192</br>\"],[\"</br>id: 4176</br>prediction: 0.003</br>RNF: 0.5</br></br>Type: M</br>Air temperature [K]: 302.3</br>Process temperature [K]: 310.7</br>Rotational speed [rpm]: 1544.0</br>Torque [Nm]: 39.7</br>Tool wear [min]: 141.0</br>TWF: 0.0</br>HDF: 0.0</br>PWF: 0.0</br>OSF: 0.0</br>_original_yhat_: 0.003318951211417192</br>\"],[\"</br>id: 4176</br>prediction: 0.003</br>RNF: 0.51</br></br>Type: M</br>Air temperature [K]: 302.3</br>Process temperature [K]: 310.7</br>Rotational speed [rpm]: 1544.0</br>Torque [Nm]: 39.7</br>Tool wear [min]: 141.0</br>TWF: 0.0</br>HDF: 0.0</br>PWF: 0.0</br>OSF: 0.0</br>_original_yhat_: 0.003318951211417192</br>\"],[\"</br>id: 4176</br>prediction: 0.003</br>RNF: 0.52</br></br>Type: M</br>Air temperature [K]: 302.3</br>Process temperature [K]: 310.7</br>Rotational speed [rpm]: 1544.0</br>Torque [Nm]: 39.7</br>Tool wear [min]: 141.0</br>TWF: 0.0</br>HDF: 0.0</br>PWF: 0.0</br>OSF: 0.0</br>_original_yhat_: 0.003318951211417192</br>\"],[\"</br>id: 4176</br>prediction: 0.003</br>RNF: 0.53</br></br>Type: M</br>Air temperature [K]: 302.3</br>Process temperature [K]: 310.7</br>Rotational speed [rpm]: 1544.0</br>Torque [Nm]: 39.7</br>Tool wear [min]: 141.0</br>TWF: 0.0</br>HDF: 0.0</br>PWF: 0.0</br>OSF: 0.0</br>_original_yhat_: 0.003318951211417192</br>\"],[\"</br>id: 4176</br>prediction: 0.003</br>RNF: 0.54</br></br>Type: M</br>Air temperature [K]: 302.3</br>Process temperature [K]: 310.7</br>Rotational speed [rpm]: 1544.0</br>Torque [Nm]: 39.7</br>Tool wear [min]: 141.0</br>TWF: 0.0</br>HDF: 0.0</br>PWF: 0.0</br>OSF: 0.0</br>_original_yhat_: 0.003318951211417192</br>\"],[\"</br>id: 4176</br>prediction: 0.003</br>RNF: 0.55</br></br>Type: M</br>Air temperature [K]: 302.3</br>Process temperature [K]: 310.7</br>Rotational speed [rpm]: 1544.0</br>Torque [Nm]: 39.7</br>Tool wear [min]: 141.0</br>TWF: 0.0</br>HDF: 0.0</br>PWF: 0.0</br>OSF: 0.0</br>_original_yhat_: 0.003318951211417192</br>\"],[\"</br>id: 4176</br>prediction: 0.003</br>RNF: 0.56</br></br>Type: M</br>Air temperature [K]: 302.3</br>Process temperature [K]: 310.7</br>Rotational speed [rpm]: 1544.0</br>Torque [Nm]: 39.7</br>Tool wear [min]: 141.0</br>TWF: 0.0</br>HDF: 0.0</br>PWF: 0.0</br>OSF: 0.0</br>_original_yhat_: 0.003318951211417192</br>\"],[\"</br>id: 4176</br>prediction: 0.003</br>RNF: 0.5700000000000001</br></br>Type: M</br>Air temperature [K]: 302.3</br>Process temperature [K]: 310.7</br>Rotational speed [rpm]: 1544.0</br>Torque [Nm]: 39.7</br>Tool wear [min]: 141.0</br>TWF: 0.0</br>HDF: 0.0</br>PWF: 0.0</br>OSF: 0.0</br>_original_yhat_: 0.003318951211417192</br>\"],[\"</br>id: 4176</br>prediction: 0.003</br>RNF: 0.58</br></br>Type: M</br>Air temperature [K]: 302.3</br>Process temperature [K]: 310.7</br>Rotational speed [rpm]: 1544.0</br>Torque [Nm]: 39.7</br>Tool wear [min]: 141.0</br>TWF: 0.0</br>HDF: 0.0</br>PWF: 0.0</br>OSF: 0.0</br>_original_yhat_: 0.003318951211417192</br>\"],[\"</br>id: 4176</br>prediction: 0.003</br>RNF: 0.59</br></br>Type: M</br>Air temperature [K]: 302.3</br>Process temperature [K]: 310.7</br>Rotational speed [rpm]: 1544.0</br>Torque [Nm]: 39.7</br>Tool wear [min]: 141.0</br>TWF: 0.0</br>HDF: 0.0</br>PWF: 0.0</br>OSF: 0.0</br>_original_yhat_: 0.003318951211417192</br>\"],[\"</br>id: 4176</br>prediction: 0.003</br>RNF: 0.6</br></br>Type: M</br>Air temperature [K]: 302.3</br>Process temperature [K]: 310.7</br>Rotational speed [rpm]: 1544.0</br>Torque [Nm]: 39.7</br>Tool wear [min]: 141.0</br>TWF: 0.0</br>HDF: 0.0</br>PWF: 0.0</br>OSF: 0.0</br>_original_yhat_: 0.003318951211417192</br>\"],[\"</br>id: 4176</br>prediction: 0.003</br>RNF: 0.61</br></br>Type: M</br>Air temperature [K]: 302.3</br>Process temperature [K]: 310.7</br>Rotational speed [rpm]: 1544.0</br>Torque [Nm]: 39.7</br>Tool wear [min]: 141.0</br>TWF: 0.0</br>HDF: 0.0</br>PWF: 0.0</br>OSF: 0.0</br>_original_yhat_: 0.003318951211417192</br>\"],[\"</br>id: 4176</br>prediction: 0.003</br>RNF: 0.62</br></br>Type: M</br>Air temperature [K]: 302.3</br>Process temperature [K]: 310.7</br>Rotational speed [rpm]: 1544.0</br>Torque [Nm]: 39.7</br>Tool wear [min]: 141.0</br>TWF: 0.0</br>HDF: 0.0</br>PWF: 0.0</br>OSF: 0.0</br>_original_yhat_: 0.003318951211417192</br>\"],[\"</br>id: 4176</br>prediction: 0.003</br>RNF: 0.63</br></br>Type: M</br>Air temperature [K]: 302.3</br>Process temperature [K]: 310.7</br>Rotational speed [rpm]: 1544.0</br>Torque [Nm]: 39.7</br>Tool wear [min]: 141.0</br>TWF: 0.0</br>HDF: 0.0</br>PWF: 0.0</br>OSF: 0.0</br>_original_yhat_: 0.003318951211417192</br>\"],[\"</br>id: 4176</br>prediction: 0.003</br>RNF: 0.64</br></br>Type: M</br>Air temperature [K]: 302.3</br>Process temperature [K]: 310.7</br>Rotational speed [rpm]: 1544.0</br>Torque [Nm]: 39.7</br>Tool wear [min]: 141.0</br>TWF: 0.0</br>HDF: 0.0</br>PWF: 0.0</br>OSF: 0.0</br>_original_yhat_: 0.003318951211417192</br>\"],[\"</br>id: 4176</br>prediction: 0.003</br>RNF: 0.65</br></br>Type: M</br>Air temperature [K]: 302.3</br>Process temperature [K]: 310.7</br>Rotational speed [rpm]: 1544.0</br>Torque [Nm]: 39.7</br>Tool wear [min]: 141.0</br>TWF: 0.0</br>HDF: 0.0</br>PWF: 0.0</br>OSF: 0.0</br>_original_yhat_: 0.003318951211417192</br>\"],[\"</br>id: 4176</br>prediction: 0.003</br>RNF: 0.66</br></br>Type: M</br>Air temperature [K]: 302.3</br>Process temperature [K]: 310.7</br>Rotational speed [rpm]: 1544.0</br>Torque [Nm]: 39.7</br>Tool wear [min]: 141.0</br>TWF: 0.0</br>HDF: 0.0</br>PWF: 0.0</br>OSF: 0.0</br>_original_yhat_: 0.003318951211417192</br>\"],[\"</br>id: 4176</br>prediction: 0.003</br>RNF: 0.67</br></br>Type: M</br>Air temperature [K]: 302.3</br>Process temperature [K]: 310.7</br>Rotational speed [rpm]: 1544.0</br>Torque [Nm]: 39.7</br>Tool wear [min]: 141.0</br>TWF: 0.0</br>HDF: 0.0</br>PWF: 0.0</br>OSF: 0.0</br>_original_yhat_: 0.003318951211417192</br>\"],[\"</br>id: 4176</br>prediction: 0.003</br>RNF: 0.68</br></br>Type: M</br>Air temperature [K]: 302.3</br>Process temperature [K]: 310.7</br>Rotational speed [rpm]: 1544.0</br>Torque [Nm]: 39.7</br>Tool wear [min]: 141.0</br>TWF: 0.0</br>HDF: 0.0</br>PWF: 0.0</br>OSF: 0.0</br>_original_yhat_: 0.003318951211417192</br>\"],[\"</br>id: 4176</br>prediction: 0.003</br>RNF: 0.6900000000000001</br></br>Type: M</br>Air temperature [K]: 302.3</br>Process temperature [K]: 310.7</br>Rotational speed [rpm]: 1544.0</br>Torque [Nm]: 39.7</br>Tool wear [min]: 141.0</br>TWF: 0.0</br>HDF: 0.0</br>PWF: 0.0</br>OSF: 0.0</br>_original_yhat_: 0.003318951211417192</br>\"],[\"</br>id: 4176</br>prediction: 0.003</br>RNF: 0.7000000000000001</br></br>Type: M</br>Air temperature [K]: 302.3</br>Process temperature [K]: 310.7</br>Rotational speed [rpm]: 1544.0</br>Torque [Nm]: 39.7</br>Tool wear [min]: 141.0</br>TWF: 0.0</br>HDF: 0.0</br>PWF: 0.0</br>OSF: 0.0</br>_original_yhat_: 0.003318951211417192</br>\"],[\"</br>id: 4176</br>prediction: 0.003</br>RNF: 0.71</br></br>Type: M</br>Air temperature [K]: 302.3</br>Process temperature [K]: 310.7</br>Rotational speed [rpm]: 1544.0</br>Torque [Nm]: 39.7</br>Tool wear [min]: 141.0</br>TWF: 0.0</br>HDF: 0.0</br>PWF: 0.0</br>OSF: 0.0</br>_original_yhat_: 0.003318951211417192</br>\"],[\"</br>id: 4176</br>prediction: 0.003</br>RNF: 0.72</br></br>Type: M</br>Air temperature [K]: 302.3</br>Process temperature [K]: 310.7</br>Rotational speed [rpm]: 1544.0</br>Torque [Nm]: 39.7</br>Tool wear [min]: 141.0</br>TWF: 0.0</br>HDF: 0.0</br>PWF: 0.0</br>OSF: 0.0</br>_original_yhat_: 0.003318951211417192</br>\"],[\"</br>id: 4176</br>prediction: 0.003</br>RNF: 0.73</br></br>Type: M</br>Air temperature [K]: 302.3</br>Process temperature [K]: 310.7</br>Rotational speed [rpm]: 1544.0</br>Torque [Nm]: 39.7</br>Tool wear [min]: 141.0</br>TWF: 0.0</br>HDF: 0.0</br>PWF: 0.0</br>OSF: 0.0</br>_original_yhat_: 0.003318951211417192</br>\"],[\"</br>id: 4176</br>prediction: 0.003</br>RNF: 0.74</br></br>Type: M</br>Air temperature [K]: 302.3</br>Process temperature [K]: 310.7</br>Rotational speed [rpm]: 1544.0</br>Torque [Nm]: 39.7</br>Tool wear [min]: 141.0</br>TWF: 0.0</br>HDF: 0.0</br>PWF: 0.0</br>OSF: 0.0</br>_original_yhat_: 0.003318951211417192</br>\"],[\"</br>id: 4176</br>prediction: 0.003</br>RNF: 0.75</br></br>Type: M</br>Air temperature [K]: 302.3</br>Process temperature [K]: 310.7</br>Rotational speed [rpm]: 1544.0</br>Torque [Nm]: 39.7</br>Tool wear [min]: 141.0</br>TWF: 0.0</br>HDF: 0.0</br>PWF: 0.0</br>OSF: 0.0</br>_original_yhat_: 0.003318951211417192</br>\"],[\"</br>id: 4176</br>prediction: 0.003</br>RNF: 0.76</br></br>Type: M</br>Air temperature [K]: 302.3</br>Process temperature [K]: 310.7</br>Rotational speed [rpm]: 1544.0</br>Torque [Nm]: 39.7</br>Tool wear [min]: 141.0</br>TWF: 0.0</br>HDF: 0.0</br>PWF: 0.0</br>OSF: 0.0</br>_original_yhat_: 0.003318951211417192</br>\"],[\"</br>id: 4176</br>prediction: 0.003</br>RNF: 0.77</br></br>Type: M</br>Air temperature [K]: 302.3</br>Process temperature [K]: 310.7</br>Rotational speed [rpm]: 1544.0</br>Torque [Nm]: 39.7</br>Tool wear [min]: 141.0</br>TWF: 0.0</br>HDF: 0.0</br>PWF: 0.0</br>OSF: 0.0</br>_original_yhat_: 0.003318951211417192</br>\"],[\"</br>id: 4176</br>prediction: 0.003</br>RNF: 0.78</br></br>Type: M</br>Air temperature [K]: 302.3</br>Process temperature [K]: 310.7</br>Rotational speed [rpm]: 1544.0</br>Torque [Nm]: 39.7</br>Tool wear [min]: 141.0</br>TWF: 0.0</br>HDF: 0.0</br>PWF: 0.0</br>OSF: 0.0</br>_original_yhat_: 0.003318951211417192</br>\"],[\"</br>id: 4176</br>prediction: 0.003</br>RNF: 0.79</br></br>Type: M</br>Air temperature [K]: 302.3</br>Process temperature [K]: 310.7</br>Rotational speed [rpm]: 1544.0</br>Torque [Nm]: 39.7</br>Tool wear [min]: 141.0</br>TWF: 0.0</br>HDF: 0.0</br>PWF: 0.0</br>OSF: 0.0</br>_original_yhat_: 0.003318951211417192</br>\"],[\"</br>id: 4176</br>prediction: 0.003</br>RNF: 0.8</br></br>Type: M</br>Air temperature [K]: 302.3</br>Process temperature [K]: 310.7</br>Rotational speed [rpm]: 1544.0</br>Torque [Nm]: 39.7</br>Tool wear [min]: 141.0</br>TWF: 0.0</br>HDF: 0.0</br>PWF: 0.0</br>OSF: 0.0</br>_original_yhat_: 0.003318951211417192</br>\"],[\"</br>id: 4176</br>prediction: 0.003</br>RNF: 0.81</br></br>Type: M</br>Air temperature [K]: 302.3</br>Process temperature [K]: 310.7</br>Rotational speed [rpm]: 1544.0</br>Torque [Nm]: 39.7</br>Tool wear [min]: 141.0</br>TWF: 0.0</br>HDF: 0.0</br>PWF: 0.0</br>OSF: 0.0</br>_original_yhat_: 0.003318951211417192</br>\"],[\"</br>id: 4176</br>prediction: 0.003</br>RNF: 0.8200000000000001</br></br>Type: M</br>Air temperature [K]: 302.3</br>Process temperature [K]: 310.7</br>Rotational speed [rpm]: 1544.0</br>Torque [Nm]: 39.7</br>Tool wear [min]: 141.0</br>TWF: 0.0</br>HDF: 0.0</br>PWF: 0.0</br>OSF: 0.0</br>_original_yhat_: 0.003318951211417192</br>\"],[\"</br>id: 4176</br>prediction: 0.003</br>RNF: 0.8300000000000001</br></br>Type: M</br>Air temperature [K]: 302.3</br>Process temperature [K]: 310.7</br>Rotational speed [rpm]: 1544.0</br>Torque [Nm]: 39.7</br>Tool wear [min]: 141.0</br>TWF: 0.0</br>HDF: 0.0</br>PWF: 0.0</br>OSF: 0.0</br>_original_yhat_: 0.003318951211417192</br>\"],[\"</br>id: 4176</br>prediction: 0.003</br>RNF: 0.84</br></br>Type: M</br>Air temperature [K]: 302.3</br>Process temperature [K]: 310.7</br>Rotational speed [rpm]: 1544.0</br>Torque [Nm]: 39.7</br>Tool wear [min]: 141.0</br>TWF: 0.0</br>HDF: 0.0</br>PWF: 0.0</br>OSF: 0.0</br>_original_yhat_: 0.003318951211417192</br>\"],[\"</br>id: 4176</br>prediction: 0.003</br>RNF: 0.85</br></br>Type: M</br>Air temperature [K]: 302.3</br>Process temperature [K]: 310.7</br>Rotational speed [rpm]: 1544.0</br>Torque [Nm]: 39.7</br>Tool wear [min]: 141.0</br>TWF: 0.0</br>HDF: 0.0</br>PWF: 0.0</br>OSF: 0.0</br>_original_yhat_: 0.003318951211417192</br>\"],[\"</br>id: 4176</br>prediction: 0.003</br>RNF: 0.86</br></br>Type: M</br>Air temperature [K]: 302.3</br>Process temperature [K]: 310.7</br>Rotational speed [rpm]: 1544.0</br>Torque [Nm]: 39.7</br>Tool wear [min]: 141.0</br>TWF: 0.0</br>HDF: 0.0</br>PWF: 0.0</br>OSF: 0.0</br>_original_yhat_: 0.003318951211417192</br>\"],[\"</br>id: 4176</br>prediction: 0.003</br>RNF: 0.87</br></br>Type: M</br>Air temperature [K]: 302.3</br>Process temperature [K]: 310.7</br>Rotational speed [rpm]: 1544.0</br>Torque [Nm]: 39.7</br>Tool wear [min]: 141.0</br>TWF: 0.0</br>HDF: 0.0</br>PWF: 0.0</br>OSF: 0.0</br>_original_yhat_: 0.003318951211417192</br>\"],[\"</br>id: 4176</br>prediction: 0.003</br>RNF: 0.88</br></br>Type: M</br>Air temperature [K]: 302.3</br>Process temperature [K]: 310.7</br>Rotational speed [rpm]: 1544.0</br>Torque [Nm]: 39.7</br>Tool wear [min]: 141.0</br>TWF: 0.0</br>HDF: 0.0</br>PWF: 0.0</br>OSF: 0.0</br>_original_yhat_: 0.003318951211417192</br>\"],[\"</br>id: 4176</br>prediction: 0.003</br>RNF: 0.89</br></br>Type: M</br>Air temperature [K]: 302.3</br>Process temperature [K]: 310.7</br>Rotational speed [rpm]: 1544.0</br>Torque [Nm]: 39.7</br>Tool wear [min]: 141.0</br>TWF: 0.0</br>HDF: 0.0</br>PWF: 0.0</br>OSF: 0.0</br>_original_yhat_: 0.003318951211417192</br>\"],[\"</br>id: 4176</br>prediction: 0.003</br>RNF: 0.9</br></br>Type: M</br>Air temperature [K]: 302.3</br>Process temperature [K]: 310.7</br>Rotational speed [rpm]: 1544.0</br>Torque [Nm]: 39.7</br>Tool wear [min]: 141.0</br>TWF: 0.0</br>HDF: 0.0</br>PWF: 0.0</br>OSF: 0.0</br>_original_yhat_: 0.003318951211417192</br>\"],[\"</br>id: 4176</br>prediction: 0.003</br>RNF: 0.91</br></br>Type: M</br>Air temperature [K]: 302.3</br>Process temperature [K]: 310.7</br>Rotational speed [rpm]: 1544.0</br>Torque [Nm]: 39.7</br>Tool wear [min]: 141.0</br>TWF: 0.0</br>HDF: 0.0</br>PWF: 0.0</br>OSF: 0.0</br>_original_yhat_: 0.003318951211417192</br>\"],[\"</br>id: 4176</br>prediction: 0.003</br>RNF: 0.92</br></br>Type: M</br>Air temperature [K]: 302.3</br>Process temperature [K]: 310.7</br>Rotational speed [rpm]: 1544.0</br>Torque [Nm]: 39.7</br>Tool wear [min]: 141.0</br>TWF: 0.0</br>HDF: 0.0</br>PWF: 0.0</br>OSF: 0.0</br>_original_yhat_: 0.003318951211417192</br>\"],[\"</br>id: 4176</br>prediction: 0.003</br>RNF: 0.93</br></br>Type: M</br>Air temperature [K]: 302.3</br>Process temperature [K]: 310.7</br>Rotational speed [rpm]: 1544.0</br>Torque [Nm]: 39.7</br>Tool wear [min]: 141.0</br>TWF: 0.0</br>HDF: 0.0</br>PWF: 0.0</br>OSF: 0.0</br>_original_yhat_: 0.003318951211417192</br>\"],[\"</br>id: 4176</br>prediction: 0.003</br>RNF: 0.9400000000000001</br></br>Type: M</br>Air temperature [K]: 302.3</br>Process temperature [K]: 310.7</br>Rotational speed [rpm]: 1544.0</br>Torque [Nm]: 39.7</br>Tool wear [min]: 141.0</br>TWF: 0.0</br>HDF: 0.0</br>PWF: 0.0</br>OSF: 0.0</br>_original_yhat_: 0.003318951211417192</br>\"],[\"</br>id: 4176</br>prediction: 0.003</br>RNF: 0.9500000000000001</br></br>Type: M</br>Air temperature [K]: 302.3</br>Process temperature [K]: 310.7</br>Rotational speed [rpm]: 1544.0</br>Torque [Nm]: 39.7</br>Tool wear [min]: 141.0</br>TWF: 0.0</br>HDF: 0.0</br>PWF: 0.0</br>OSF: 0.0</br>_original_yhat_: 0.003318951211417192</br>\"],[\"</br>id: 4176</br>prediction: 0.003</br>RNF: 0.96</br></br>Type: M</br>Air temperature [K]: 302.3</br>Process temperature [K]: 310.7</br>Rotational speed [rpm]: 1544.0</br>Torque [Nm]: 39.7</br>Tool wear [min]: 141.0</br>TWF: 0.0</br>HDF: 0.0</br>PWF: 0.0</br>OSF: 0.0</br>_original_yhat_: 0.003318951211417192</br>\"],[\"</br>id: 4176</br>prediction: 0.003</br>RNF: 0.97</br></br>Type: M</br>Air temperature [K]: 302.3</br>Process temperature [K]: 310.7</br>Rotational speed [rpm]: 1544.0</br>Torque [Nm]: 39.7</br>Tool wear [min]: 141.0</br>TWF: 0.0</br>HDF: 0.0</br>PWF: 0.0</br>OSF: 0.0</br>_original_yhat_: 0.003318951211417192</br>\"],[\"</br>id: 4176</br>prediction: 0.003</br>RNF: 0.98</br></br>Type: M</br>Air temperature [K]: 302.3</br>Process temperature [K]: 310.7</br>Rotational speed [rpm]: 1544.0</br>Torque [Nm]: 39.7</br>Tool wear [min]: 141.0</br>TWF: 0.0</br>HDF: 0.0</br>PWF: 0.0</br>OSF: 0.0</br>_original_yhat_: 0.003318951211417192</br>\"],[\"</br>id: 4176</br>prediction: 0.003</br>RNF: 0.99</br></br>Type: M</br>Air temperature [K]: 302.3</br>Process temperature [K]: 310.7</br>Rotational speed [rpm]: 1544.0</br>Torque [Nm]: 39.7</br>Tool wear [min]: 141.0</br>TWF: 0.0</br>HDF: 0.0</br>PWF: 0.0</br>OSF: 0.0</br>_original_yhat_: 0.003318951211417192</br>\"],[\"</br>id: 4176</br>prediction: 0.003</br>RNF: 1.0</br></br>Type: M</br>Air temperature [K]: 302.3</br>Process temperature [K]: 310.7</br>Rotational speed [rpm]: 1544.0</br>Torque [Nm]: 39.7</br>Tool wear [min]: 141.0</br>TWF: 0.0</br>HDF: 0.0</br>PWF: 0.0</br>OSF: 0.0</br>_original_yhat_: 0.003318951211417192</br>\"]],\"hovertemplate\":\"%{customdata[0]}<extra></extra>\",\"legendgroup\":\"testing\",\"line\":{\"color\":\"#46bac2\",\"dash\":\"solid\",\"width\":2},\"marker\":{\"symbol\":\"circle\"},\"mode\":\"lines\",\"name\":\"testing\",\"showlegend\":false,\"x\":[0.0,0.01,0.02,0.03,0.04,0.05,0.06,0.07,0.08,0.09,0.1,0.11,0.12,0.13,0.14,0.15,0.16,0.17,0.18,0.19,0.2,0.21,0.22,0.23,0.24,0.25,0.26,0.27,0.28,0.29,0.3,0.31,0.32,0.33,0.34,0.35000000000000003,0.36,0.37,0.38,0.39,0.4,0.41000000000000003,0.42,0.43,0.44,0.45,0.46,0.47000000000000003,0.48,0.49,0.5,0.51,0.52,0.53,0.54,0.55,0.56,0.5700000000000001,0.58,0.59,0.6,0.61,0.62,0.63,0.64,0.65,0.66,0.67,0.68,0.6900000000000001,0.7000000000000001,0.71,0.72,0.73,0.74,0.75,0.76,0.77,0.78,0.79,0.8,0.81,0.8200000000000001,0.8300000000000001,0.84,0.85,0.86,0.87,0.88,0.89,0.9,0.91,0.92,0.93,0.9400000000000001,0.9500000000000001,0.96,0.97,0.98,0.99,1.0],\"xaxis\":\"x2\",\"y\":[0.003318951211417192,0.003318951211417192,0.003318951211417192,0.003318951211417192,0.003318951211417192,0.003318951211417192,0.003318951211417192,0.003318951211417192,0.003318951211417192,0.003318951211417192,0.003318951211417192,0.003318951211417192,0.003318951211417192,0.003318951211417192,0.003318951211417192,0.003318951211417192,0.003318951211417192,0.003318951211417192,0.003318951211417192,0.003318951211417192,0.003318951211417192,0.003318951211417192,0.003318951211417192,0.003318951211417192,0.003318951211417192,0.003318951211417192,0.003318951211417192,0.003318951211417192,0.003318951211417192,0.003318951211417192,0.003318951211417192,0.003318951211417192,0.003318951211417192,0.003318951211417192,0.003318951211417192,0.003318951211417192,0.003318951211417192,0.003318951211417192,0.003318951211417192,0.003318951211417192,0.003318951211417192,0.003318951211417192,0.003318951211417192,0.003318951211417192,0.003318951211417192,0.003318951211417192,0.003318951211417192,0.003318951211417192,0.003318951211417192,0.003318951211417192,0.003318951211417192,0.003318951211417192,0.003318951211417192,0.003318951211417192,0.003318951211417192,0.003318951211417192,0.003318951211417192,0.003318951211417192,0.003318951211417192,0.003318951211417192,0.003318951211417192,0.003318951211417192,0.003318951211417192,0.003318951211417192,0.003318951211417192,0.003318951211417192,0.003318951211417192,0.003318951211417192,0.003318951211417192,0.003318951211417192,0.003318951211417192,0.003318951211417192,0.003318951211417192,0.003318951211417192,0.003318951211417192,0.003318951211417192,0.003318951211417192,0.003318951211417192,0.003318951211417192,0.003318951211417192,0.003318951211417192,0.003318951211417192,0.003318951211417192,0.003318951211417192,0.003318951211417192,0.003318951211417192,0.003318951211417192,0.003318951211417192,0.003318951211417192,0.003318951211417192,0.003318951211417192,0.003318951211417192,0.003318951211417192,0.003318951211417192,0.003318951211417192,0.003318951211417192,0.003318951211417192,0.003318951211417192,0.003318951211417192,0.003318951211417192,0.003318951211417192],\"yaxis\":\"y2\",\"type\":\"scattergl\",\"opacity\":1},{\"customdata\":[[\"</br>id: 4176</br>prediction: 0.003</br>Air temperature [K]: 302.3</br></br>Type: M</br>Process temperature [K]: 310.7</br>Rotational speed [rpm]: 1544.0</br>Torque [Nm]: 39.7</br>Tool wear [min]: 141.0</br>TWF: 0.0</br>HDF: 0.0</br>PWF: 0.0</br>OSF: 0.0</br>RNF: 0.0</br>_original_yhat_: 0.003318951211417192</br>\"]],\"hovertemplate\":\"%{customdata[0]}<extra></extra>\",\"legendgroup\":\"\",\"marker\":{\"color\":\"#371ea3\",\"size\":10,\"symbol\":\"circle\"},\"mode\":\"markers\",\"name\":\"\",\"opacity\":1,\"orientation\":\"v\",\"showlegend\":false,\"x\":[302.3],\"xaxis\":\"x9\",\"y\":[0.003318951211417192],\"yaxis\":\"y9\",\"type\":\"scatter\"},{\"customdata\":[[\"</br>id: 4176</br>prediction: 0.003</br>Process temperature [K]: 310.7</br></br>Type: M</br>Air temperature [K]: 302.3</br>Rotational speed [rpm]: 1544.0</br>Torque [Nm]: 39.7</br>Tool wear [min]: 141.0</br>TWF: 0.0</br>HDF: 0.0</br>PWF: 0.0</br>OSF: 0.0</br>RNF: 0.0</br>_original_yhat_: 0.003318951211417192</br>\"]],\"hovertemplate\":\"%{customdata[0]}<extra></extra>\",\"legendgroup\":\"\",\"marker\":{\"color\":\"#371ea3\",\"size\":10,\"symbol\":\"circle\"},\"mode\":\"markers\",\"name\":\"\",\"opacity\":1,\"orientation\":\"v\",\"showlegend\":false,\"x\":[310.7],\"xaxis\":\"x10\",\"y\":[0.003318951211417192],\"yaxis\":\"y10\",\"type\":\"scatter\"},{\"customdata\":[[\"</br>id: 4176</br>prediction: 0.003</br>Rotational speed [rpm]: 1544.0</br></br>Type: M</br>Air temperature [K]: 302.3</br>Process temperature [K]: 310.7</br>Torque [Nm]: 39.7</br>Tool wear [min]: 141.0</br>TWF: 0.0</br>HDF: 0.0</br>PWF: 0.0</br>OSF: 0.0</br>RNF: 0.0</br>_original_yhat_: 0.003318951211417192</br>\"]],\"hovertemplate\":\"%{customdata[0]}<extra></extra>\",\"legendgroup\":\"\",\"marker\":{\"color\":\"#371ea3\",\"size\":10,\"symbol\":\"circle\"},\"mode\":\"markers\",\"name\":\"\",\"opacity\":1,\"orientation\":\"v\",\"showlegend\":false,\"x\":[1544],\"xaxis\":\"x7\",\"y\":[0.003318951211417192],\"yaxis\":\"y7\",\"type\":\"scatter\"},{\"customdata\":[[\"</br>id: 4176</br>prediction: 0.003</br>Torque [Nm]: 39.7</br></br>Type: M</br>Air temperature [K]: 302.3</br>Process temperature [K]: 310.7</br>Rotational speed [rpm]: 1544.0</br>Tool wear [min]: 141.0</br>TWF: 0.0</br>HDF: 0.0</br>PWF: 0.0</br>OSF: 0.0</br>RNF: 0.0</br>_original_yhat_: 0.003318951211417192</br>\"]],\"hovertemplate\":\"%{customdata[0]}<extra></extra>\",\"legendgroup\":\"\",\"marker\":{\"color\":\"#371ea3\",\"size\":10,\"symbol\":\"circle\"},\"mode\":\"markers\",\"name\":\"\",\"opacity\":1,\"orientation\":\"v\",\"showlegend\":false,\"x\":[39.7],\"xaxis\":\"x8\",\"y\":[0.003318951211417192],\"yaxis\":\"y8\",\"type\":\"scatter\"},{\"customdata\":[[\"</br>id: 4176</br>prediction: 0.003</br>Tool wear [min]: 141.0</br></br>Type: M</br>Air temperature [K]: 302.3</br>Process temperature [K]: 310.7</br>Rotational speed [rpm]: 1544.0</br>Torque [Nm]: 39.7</br>TWF: 0.0</br>HDF: 0.0</br>PWF: 0.0</br>OSF: 0.0</br>RNF: 0.0</br>_original_yhat_: 0.003318951211417192</br>\"]],\"hovertemplate\":\"%{customdata[0]}<extra></extra>\",\"legendgroup\":\"\",\"marker\":{\"color\":\"#371ea3\",\"size\":10,\"symbol\":\"circle\"},\"mode\":\"markers\",\"name\":\"\",\"opacity\":1,\"orientation\":\"v\",\"showlegend\":false,\"x\":[141],\"xaxis\":\"x5\",\"y\":[0.003318951211417192],\"yaxis\":\"y5\",\"type\":\"scatter\"},{\"customdata\":[[\"</br>id: 4176</br>prediction: 0.003</br>TWF: 0.0</br></br>Type: M</br>Air temperature [K]: 302.3</br>Process temperature [K]: 310.7</br>Rotational speed [rpm]: 1544.0</br>Torque [Nm]: 39.7</br>Tool wear [min]: 141.0</br>HDF: 0.0</br>PWF: 0.0</br>OSF: 0.0</br>RNF: 0.0</br>_original_yhat_: 0.003318951211417192</br>\"]],\"hovertemplate\":\"%{customdata[0]}<extra></extra>\",\"legendgroup\":\"\",\"marker\":{\"color\":\"#371ea3\",\"size\":10,\"symbol\":\"circle\"},\"mode\":\"markers\",\"name\":\"\",\"opacity\":1,\"orientation\":\"v\",\"showlegend\":false,\"x\":[0],\"xaxis\":\"x6\",\"y\":[0.003318951211417192],\"yaxis\":\"y6\",\"type\":\"scatter\"},{\"customdata\":[[\"</br>id: 4176</br>prediction: 0.003</br>HDF: 0.0</br></br>Type: M</br>Air temperature [K]: 302.3</br>Process temperature [K]: 310.7</br>Rotational speed [rpm]: 1544.0</br>Torque [Nm]: 39.7</br>Tool wear [min]: 141.0</br>TWF: 0.0</br>PWF: 0.0</br>OSF: 0.0</br>RNF: 0.0</br>_original_yhat_: 0.003318951211417192</br>\"]],\"hovertemplate\":\"%{customdata[0]}<extra></extra>\",\"legendgroup\":\"\",\"marker\":{\"color\":\"#371ea3\",\"size\":10,\"symbol\":\"circle\"},\"mode\":\"markers\",\"name\":\"\",\"opacity\":1,\"orientation\":\"v\",\"showlegend\":false,\"x\":[0],\"xaxis\":\"x3\",\"y\":[0.003318951211417192],\"yaxis\":\"y3\",\"type\":\"scatter\"},{\"customdata\":[[\"</br>id: 4176</br>prediction: 0.003</br>PWF: 0.0</br></br>Type: M</br>Air temperature [K]: 302.3</br>Process temperature [K]: 310.7</br>Rotational speed [rpm]: 1544.0</br>Torque [Nm]: 39.7</br>Tool wear [min]: 141.0</br>TWF: 0.0</br>HDF: 0.0</br>OSF: 0.0</br>RNF: 0.0</br>_original_yhat_: 0.003318951211417192</br>\"]],\"hovertemplate\":\"%{customdata[0]}<extra></extra>\",\"legendgroup\":\"\",\"marker\":{\"color\":\"#371ea3\",\"size\":10,\"symbol\":\"circle\"},\"mode\":\"markers\",\"name\":\"\",\"opacity\":1,\"orientation\":\"v\",\"showlegend\":false,\"x\":[0],\"xaxis\":\"x4\",\"y\":[0.003318951211417192],\"yaxis\":\"y4\",\"type\":\"scatter\"},{\"customdata\":[[\"</br>id: 4176</br>prediction: 0.003</br>OSF: 0.0</br></br>Type: M</br>Air temperature [K]: 302.3</br>Process temperature [K]: 310.7</br>Rotational speed [rpm]: 1544.0</br>Torque [Nm]: 39.7</br>Tool wear [min]: 141.0</br>TWF: 0.0</br>HDF: 0.0</br>PWF: 0.0</br>RNF: 0.0</br>_original_yhat_: 0.003318951211417192</br>\"]],\"hovertemplate\":\"%{customdata[0]}<extra></extra>\",\"legendgroup\":\"\",\"marker\":{\"color\":\"#371ea3\",\"size\":10,\"symbol\":\"circle\"},\"mode\":\"markers\",\"name\":\"\",\"opacity\":1,\"orientation\":\"v\",\"showlegend\":false,\"x\":[0],\"xaxis\":\"x\",\"y\":[0.003318951211417192],\"yaxis\":\"y\",\"type\":\"scatter\"},{\"customdata\":[[\"</br>id: 4176</br>prediction: 0.003</br>RNF: 0.0</br></br>Type: M</br>Air temperature [K]: 302.3</br>Process temperature [K]: 310.7</br>Rotational speed [rpm]: 1544.0</br>Torque [Nm]: 39.7</br>Tool wear [min]: 141.0</br>TWF: 0.0</br>HDF: 0.0</br>PWF: 0.0</br>OSF: 0.0</br>_original_yhat_: 0.003318951211417192</br>\"]],\"hovertemplate\":\"%{customdata[0]}<extra></extra>\",\"legendgroup\":\"\",\"marker\":{\"color\":\"#371ea3\",\"size\":10,\"symbol\":\"circle\"},\"mode\":\"markers\",\"name\":\"\",\"opacity\":1,\"orientation\":\"v\",\"showlegend\":false,\"x\":[0],\"xaxis\":\"x2\",\"y\":[0.003318951211417192],\"yaxis\":\"y2\",\"type\":\"scatter\"}],                        {\"template\":{\"data\":{\"scatter\":[{\"type\":\"scatter\"}]}},\"xaxis\":{\"anchor\":\"y\",\"domain\":[0.0,0.475],\"title\":{\"text\":\"\"},\"showticklabels\":true,\"type\":\"linear\",\"gridwidth\":2,\"zeroline\":false,\"automargin\":true,\"ticks\":\"outside\",\"tickcolor\":\"white\",\"ticklen\":3,\"fixedrange\":true},\"yaxis\":{\"anchor\":\"x\",\"domain\":[0.0,0.15200000000000002],\"title\":{\"text\":\"\"},\"type\":\"linear\",\"gridwidth\":2,\"zeroline\":false,\"automargin\":true,\"ticks\":\"outside\",\"tickcolor\":\"white\",\"ticklen\":3,\"fixedrange\":true,\"range\":[-0.00033189512114171923,0.003650846332558911]},\"xaxis2\":{\"anchor\":\"y2\",\"domain\":[0.525,1.0],\"title\":{\"text\":\"\"},\"showticklabels\":true,\"type\":\"linear\",\"gridwidth\":2,\"zeroline\":false,\"automargin\":true,\"ticks\":\"outside\",\"tickcolor\":\"white\",\"ticklen\":3,\"fixedrange\":true},\"yaxis2\":{\"anchor\":\"x2\",\"domain\":[0.0,0.15200000000000002],\"matches\":\"y\",\"showticklabels\":false,\"type\":\"linear\",\"gridwidth\":2,\"zeroline\":false,\"automargin\":true,\"ticks\":\"outside\",\"tickcolor\":\"white\",\"ticklen\":3,\"fixedrange\":true,\"range\":[-0.00033189512114171923,0.003650846332558911],\"title\":{\"text\":\"\"}},\"xaxis3\":{\"anchor\":\"y3\",\"domain\":[0.0,0.475],\"showticklabels\":true,\"type\":\"linear\",\"gridwidth\":2,\"zeroline\":false,\"automargin\":true,\"ticks\":\"outside\",\"tickcolor\":\"white\",\"ticklen\":3,\"fixedrange\":true,\"title\":{\"text\":\"\"}},\"yaxis3\":{\"anchor\":\"x3\",\"domain\":[0.21200000000000002,0.36400000000000005],\"matches\":\"y\",\"title\":{\"text\":\"\"},\"type\":\"linear\",\"gridwidth\":2,\"zeroline\":false,\"automargin\":true,\"ticks\":\"outside\",\"tickcolor\":\"white\",\"ticklen\":3,\"fixedrange\":true,\"range\":[-0.00033189512114171923,0.003650846332558911]},\"xaxis4\":{\"anchor\":\"y4\",\"domain\":[0.525,1.0],\"showticklabels\":true,\"type\":\"linear\",\"gridwidth\":2,\"zeroline\":false,\"automargin\":true,\"ticks\":\"outside\",\"tickcolor\":\"white\",\"ticklen\":3,\"fixedrange\":true,\"title\":{\"text\":\"\"}},\"yaxis4\":{\"anchor\":\"x4\",\"domain\":[0.21200000000000002,0.36400000000000005],\"matches\":\"y\",\"showticklabels\":false,\"type\":\"linear\",\"gridwidth\":2,\"zeroline\":false,\"automargin\":true,\"ticks\":\"outside\",\"tickcolor\":\"white\",\"ticklen\":3,\"fixedrange\":true,\"range\":[-0.00033189512114171923,0.003650846332558911],\"title\":{\"text\":\"\"}},\"xaxis5\":{\"anchor\":\"y5\",\"domain\":[0.0,0.475],\"showticklabels\":true,\"type\":\"linear\",\"gridwidth\":2,\"zeroline\":false,\"automargin\":true,\"ticks\":\"outside\",\"tickcolor\":\"white\",\"ticklen\":3,\"fixedrange\":true,\"title\":{\"text\":\"\"}},\"yaxis5\":{\"anchor\":\"x5\",\"domain\":[0.42400000000000004,0.5760000000000001],\"matches\":\"y\",\"title\":{\"text\":\"\"},\"type\":\"linear\",\"gridwidth\":2,\"zeroline\":false,\"automargin\":true,\"ticks\":\"outside\",\"tickcolor\":\"white\",\"ticklen\":3,\"fixedrange\":true,\"range\":[-0.00033189512114171923,0.003650846332558911]},\"xaxis6\":{\"anchor\":\"y6\",\"domain\":[0.525,1.0],\"showticklabels\":true,\"type\":\"linear\",\"gridwidth\":2,\"zeroline\":false,\"automargin\":true,\"ticks\":\"outside\",\"tickcolor\":\"white\",\"ticklen\":3,\"fixedrange\":true,\"title\":{\"text\":\"\"}},\"yaxis6\":{\"anchor\":\"x6\",\"domain\":[0.42400000000000004,0.5760000000000001],\"matches\":\"y\",\"showticklabels\":false,\"type\":\"linear\",\"gridwidth\":2,\"zeroline\":false,\"automargin\":true,\"ticks\":\"outside\",\"tickcolor\":\"white\",\"ticklen\":3,\"fixedrange\":true,\"range\":[-0.00033189512114171923,0.003650846332558911],\"title\":{\"text\":\"\"}},\"xaxis7\":{\"anchor\":\"y7\",\"domain\":[0.0,0.475],\"showticklabels\":true,\"type\":\"linear\",\"gridwidth\":2,\"zeroline\":false,\"automargin\":true,\"ticks\":\"outside\",\"tickcolor\":\"white\",\"ticklen\":3,\"fixedrange\":true,\"title\":{\"text\":\"\"}},\"yaxis7\":{\"anchor\":\"x7\",\"domain\":[0.6360000000000001,0.7880000000000001],\"matches\":\"y\",\"title\":{\"text\":\"\"},\"type\":\"linear\",\"gridwidth\":2,\"zeroline\":false,\"automargin\":true,\"ticks\":\"outside\",\"tickcolor\":\"white\",\"ticklen\":3,\"fixedrange\":true,\"range\":[-0.00033189512114171923,0.003650846332558911]},\"xaxis8\":{\"anchor\":\"y8\",\"domain\":[0.525,1.0],\"showticklabels\":true,\"type\":\"linear\",\"gridwidth\":2,\"zeroline\":false,\"automargin\":true,\"ticks\":\"outside\",\"tickcolor\":\"white\",\"ticklen\":3,\"fixedrange\":true,\"title\":{\"text\":\"\"}},\"yaxis8\":{\"anchor\":\"x8\",\"domain\":[0.6360000000000001,0.7880000000000001],\"matches\":\"y\",\"showticklabels\":false,\"type\":\"linear\",\"gridwidth\":2,\"zeroline\":false,\"automargin\":true,\"ticks\":\"outside\",\"tickcolor\":\"white\",\"ticklen\":3,\"fixedrange\":true,\"range\":[-0.00033189512114171923,0.003650846332558911],\"title\":{\"text\":\"\"}},\"xaxis9\":{\"anchor\":\"y9\",\"domain\":[0.0,0.475],\"showticklabels\":true,\"type\":\"linear\",\"gridwidth\":2,\"zeroline\":false,\"automargin\":true,\"ticks\":\"outside\",\"tickcolor\":\"white\",\"ticklen\":3,\"fixedrange\":true,\"title\":{\"text\":\"\"}},\"yaxis9\":{\"anchor\":\"x9\",\"domain\":[0.8480000000000001,1.0],\"matches\":\"y\",\"title\":{\"text\":\"\"},\"type\":\"linear\",\"gridwidth\":2,\"zeroline\":false,\"automargin\":true,\"ticks\":\"outside\",\"tickcolor\":\"white\",\"ticklen\":3,\"fixedrange\":true,\"range\":[-0.00033189512114171923,0.003650846332558911]},\"xaxis10\":{\"anchor\":\"y10\",\"domain\":[0.525,1.0],\"showticklabels\":true,\"type\":\"linear\",\"gridwidth\":2,\"zeroline\":false,\"automargin\":true,\"ticks\":\"outside\",\"tickcolor\":\"white\",\"ticklen\":3,\"fixedrange\":true,\"title\":{\"text\":\"\"}},\"yaxis10\":{\"anchor\":\"x10\",\"domain\":[0.8480000000000001,1.0],\"matches\":\"y\",\"showticklabels\":false,\"type\":\"linear\",\"gridwidth\":2,\"zeroline\":false,\"automargin\":true,\"ticks\":\"outside\",\"tickcolor\":\"white\",\"ticklen\":3,\"fixedrange\":true,\"range\":[-0.00033189512114171923,0.003650846332558911],\"title\":{\"text\":\"\"}},\"annotations\":[{\"font\":{\"size\":13},\"showarrow\":false,\"text\":\"OSF\",\"x\":0.2375,\"xanchor\":\"center\",\"xref\":\"paper\",\"y\":0.15200000000000002,\"yanchor\":\"bottom\",\"yref\":\"paper\"},{\"font\":{\"size\":13},\"showarrow\":false,\"text\":\"RNF\",\"x\":0.7625,\"xanchor\":\"center\",\"xref\":\"paper\",\"y\":0.15200000000000002,\"yanchor\":\"bottom\",\"yref\":\"paper\"},{\"font\":{\"size\":13},\"showarrow\":false,\"text\":\"HDF\",\"x\":0.2375,\"xanchor\":\"center\",\"xref\":\"paper\",\"y\":0.36400000000000005,\"yanchor\":\"bottom\",\"yref\":\"paper\"},{\"font\":{\"size\":13},\"showarrow\":false,\"text\":\"PWF\",\"x\":0.7625,\"xanchor\":\"center\",\"xref\":\"paper\",\"y\":0.36400000000000005,\"yanchor\":\"bottom\",\"yref\":\"paper\"},{\"font\":{\"size\":13},\"showarrow\":false,\"text\":\"Tool wear [min]\",\"x\":0.2375,\"xanchor\":\"center\",\"xref\":\"paper\",\"y\":0.5760000000000001,\"yanchor\":\"bottom\",\"yref\":\"paper\"},{\"font\":{\"size\":13},\"showarrow\":false,\"text\":\"TWF\",\"x\":0.7625,\"xanchor\":\"center\",\"xref\":\"paper\",\"y\":0.5760000000000001,\"yanchor\":\"bottom\",\"yref\":\"paper\"},{\"font\":{\"size\":13},\"showarrow\":false,\"text\":\"Rotational speed [rpm]\",\"x\":0.2375,\"xanchor\":\"center\",\"xref\":\"paper\",\"y\":0.7880000000000001,\"yanchor\":\"bottom\",\"yref\":\"paper\"},{\"font\":{\"size\":13},\"showarrow\":false,\"text\":\"Torque [Nm]\",\"x\":0.7625,\"xanchor\":\"center\",\"xref\":\"paper\",\"y\":0.7880000000000001,\"yanchor\":\"bottom\",\"yref\":\"paper\"},{\"font\":{\"size\":13},\"showarrow\":false,\"text\":\"Air temperature [K]\",\"x\":0.2375,\"xanchor\":\"center\",\"xref\":\"paper\",\"y\":1.0,\"yanchor\":\"bottom\",\"yref\":\"paper\"},{\"font\":{\"size\":13},\"showarrow\":false,\"text\":\"Process temperature [K]\",\"x\":0.7625,\"xanchor\":\"center\",\"xref\":\"paper\",\"y\":1.0,\"yanchor\":\"bottom\",\"yref\":\"paper\"},{\"font\":{\"size\":13},\"showarrow\":false,\"text\":\"prediction\",\"textangle\":-90,\"x\":-0.07,\"xref\":\"paper\",\"y\":0.5,\"yref\":\"paper\"}],\"legend\":{\"title\":{\"text\":\"label\",\"font\":{\"size\":12}},\"tracegroupgap\":0,\"font\":{\"size\":11},\"orientation\":\"h\",\"yanchor\":\"bottom\",\"y\":1.016224986479178,\"xanchor\":\"right\",\"x\":1,\"itemsizing\":\"constant\"},\"margin\":{\"t\":78,\"b\":71,\"r\":30},\"font\":{\"color\":\"#371ea3\"},\"title\":{\"font\":{\"size\":16},\"text\":\"Ceteris Paribus Profiles\",\"x\":0.15},\"hovermode\":\"closest\",\"height\":1849,\"hoverlabel\":{\"bgcolor\":\"rgba(0,0,0,0.8)\"}},                        {\"displaylogo\": false, \"staticPlot\": false, \"toImageButtonOptions\": {\"height\": null, \"width\": null}, \"modeBarButtonsToRemove\": [\"sendDataToCloud\", \"lasso2d\", \"autoScale2d\", \"select2d\", \"zoom2d\", \"pan2d\", \"zoomIn2d\", \"zoomOut2d\", \"resetScale2d\", \"toggleSpikelines\", \"hoverCompareCartesian\", \"hoverClosestCartesian\"], \"responsive\": true}                    ).then(function(){\n",
       "                            \n",
       "var gd = document.getElementById('fc49752a-cd65-4361-9910-4da492f514c9');\n",
       "var x = new MutationObserver(function (mutations, observer) {{\n",
       "        var display = window.getComputedStyle(gd).display;\n",
       "        if (!display || display === 'none') {{\n",
       "            console.log([gd, 'removed!']);\n",
       "            Plotly.purge(gd);\n",
       "            observer.disconnect();\n",
       "        }}\n",
       "}});\n",
       "\n",
       "// Listen for the removal of the full notebook cells\n",
       "var notebookContainer = gd.closest('#notebook-container');\n",
       "if (notebookContainer) {{\n",
       "    x.observe(notebookContainer, {childList: true});\n",
       "}}\n",
       "\n",
       "// Listen for the clearing of the current output cell\n",
       "var outputEl = gd.closest('.output');\n",
       "if (outputEl) {{\n",
       "    x.observe(outputEl, {childList: true});\n",
       "}}\n",
       "\n",
       "                        })                };                });            </script>        </div>"
      ]
     },
     "metadata": {},
     "output_type": "display_data"
    }
   ],
   "source": [
    "cp.plot()"
   ]
  },
  {
   "cell_type": "code",
   "execution_count": 51,
   "id": "6fc8ecb0",
   "metadata": {},
   "outputs": [
    {
     "name": "stdout",
     "output_type": "stream",
     "text": [
      "0.996\n"
     ]
    }
   ],
   "source": [
    "print(accuracy_score(y_test, predictions))"
   ]
  },
  {
   "cell_type": "code",
   "execution_count": 52,
   "id": "d22667d2",
   "metadata": {},
   "outputs": [
    {
     "data": {
      "text/html": [
       "<div>\n",
       "<style scoped>\n",
       "    .dataframe tbody tr th:only-of-type {\n",
       "        vertical-align: middle;\n",
       "    }\n",
       "\n",
       "    .dataframe tbody tr th {\n",
       "        vertical-align: top;\n",
       "    }\n",
       "\n",
       "    .dataframe thead th {\n",
       "        text-align: right;\n",
       "    }\n",
       "</style>\n",
       "<table border=\"1\" class=\"dataframe\">\n",
       "  <thead>\n",
       "    <tr style=\"text-align: right;\">\n",
       "      <th></th>\n",
       "      <th>recall</th>\n",
       "      <th>precision</th>\n",
       "      <th>f1</th>\n",
       "      <th>accuracy</th>\n",
       "      <th>auc</th>\n",
       "    </tr>\n",
       "  </thead>\n",
       "  <tbody>\n",
       "    <tr>\n",
       "      <th>DecisionTreeClassifier</th>\n",
       "      <td>0.066667</td>\n",
       "      <td>0.5</td>\n",
       "      <td>0.117647</td>\n",
       "      <td>0.998333</td>\n",
       "      <td>0.730325</td>\n",
       "    </tr>\n",
       "  </tbody>\n",
       "</table>\n",
       "</div>"
      ],
      "text/plain": [
       "                          recall  precision        f1  accuracy       auc\n",
       "DecisionTreeClassifier  0.066667        0.5  0.117647  0.998333  0.730325"
      ]
     },
     "execution_count": 52,
     "metadata": {},
     "output_type": "execute_result"
    }
   ],
   "source": [
    "mp = exp.model_performance(model_type = 'classification')\n",
    "mp.result"
   ]
  },
  {
   "cell_type": "code",
   "execution_count": 53,
   "id": "f830ddef",
   "metadata": {},
   "outputs": [
    {
     "data": {
      "application/vnd.plotly.v1+json": {
       "config": {
        "plotlyServerURL": "https://plot.ly"
       },
       "data": [
        {
         "line": {
          "shape": "hv"
         },
         "marker": {
          "color": "#46bac2"
         },
         "name": "DecisionTreeClassifier",
         "type": "scatter",
         "x": [
          0,
          0.00011129660545353366,
          0.3343350027824151,
          0.8520868113522537,
          1
         ],
         "y": [
          0,
          0.06666666666666667,
          0.7333333333333333,
          1,
          1
         ]
        }
       ],
       "layout": {
        "font": {
         "color": "#371ea3"
        },
        "margin": {
         "b": 71,
         "r": 30,
         "t": 78
        },
        "template": {
         "data": {
          "scatter": [
           {
            "type": "scatter"
           }
          ]
         }
        },
        "title": {
         "text": "Receiver Operating Characteristic",
         "x": 0.15
        },
        "xaxis": {
         "automargin": true,
         "fixedrange": true,
         "gridwidth": 2,
         "tickcolor": "white",
         "ticklen": 10,
         "ticks": "outside",
         "title": {
          "text": "False positive rate"
         },
         "type": "linear",
         "zeroline": false
        },
        "yaxis": {
         "automargin": true,
         "fixedrange": true,
         "gridwidth": 2,
         "tickcolor": "white",
         "ticklen": 10,
         "ticks": "outside",
         "title": {
          "text": "True positive rate"
         },
         "type": "linear",
         "zeroline": false
        }
       }
      },
      "text/html": [
       "<div>                            <div id=\"2326d1f0-5b97-4db4-9751-14b8409af621\" class=\"plotly-graph-div\" style=\"height:525px; width:100%;\"></div>            <script type=\"text/javascript\">                require([\"plotly\"], function(Plotly) {                    window.PLOTLYENV=window.PLOTLYENV || {};                                    if (document.getElementById(\"2326d1f0-5b97-4db4-9751-14b8409af621\")) {                    Plotly.newPlot(                        \"2326d1f0-5b97-4db4-9751-14b8409af621\",                        [{\"line\":{\"shape\":\"hv\"},\"marker\":{\"color\":\"#46bac2\"},\"name\":\"DecisionTreeClassifier\",\"x\":[0,0.00011129660545353366,0.3343350027824151,0.8520868113522537,1.0],\"y\":[0,0.06666666666666667,0.7333333333333333,1.0,1.0],\"type\":\"scatter\"}],                        {\"template\":{\"data\":{\"scatter\":[{\"type\":\"scatter\"}]}},\"yaxis\":{\"title\":{\"text\":\"True positive rate\"},\"type\":\"linear\",\"gridwidth\":2,\"zeroline\":false,\"automargin\":true,\"ticks\":\"outside\",\"tickcolor\":\"white\",\"ticklen\":10,\"fixedrange\":true},\"xaxis\":{\"title\":{\"text\":\"False positive rate\"},\"type\":\"linear\",\"gridwidth\":2,\"zeroline\":false,\"automargin\":true,\"ticks\":\"outside\",\"tickcolor\":\"white\",\"ticklen\":10,\"fixedrange\":true},\"title\":{\"text\":\"Receiver Operating Characteristic\",\"x\":0.15},\"font\":{\"color\":\"#371ea3\"},\"margin\":{\"t\":78,\"b\":71,\"r\":30}},                        {\"responsive\": true}                    ).then(function(){\n",
       "                            \n",
       "var gd = document.getElementById('2326d1f0-5b97-4db4-9751-14b8409af621');\n",
       "var x = new MutationObserver(function (mutations, observer) {{\n",
       "        var display = window.getComputedStyle(gd).display;\n",
       "        if (!display || display === 'none') {{\n",
       "            console.log([gd, 'removed!']);\n",
       "            Plotly.purge(gd);\n",
       "            observer.disconnect();\n",
       "        }}\n",
       "}});\n",
       "\n",
       "// Listen for the removal of the full notebook cells\n",
       "var notebookContainer = gd.closest('#notebook-container');\n",
       "if (notebookContainer) {{\n",
       "    x.observe(notebookContainer, {childList: true});\n",
       "}}\n",
       "\n",
       "// Listen for the clearing of the current output cell\n",
       "var outputEl = gd.closest('.output');\n",
       "if (outputEl) {{\n",
       "    x.observe(outputEl, {childList: true});\n",
       "}}\n",
       "\n",
       "                        })                };                });            </script>        </div>"
      ]
     },
     "metadata": {},
     "output_type": "display_data"
    }
   ],
   "source": [
    "mp.plot(geom=\"roc\")"
   ]
  }
 ],
 "metadata": {
  "kernelspec": {
   "display_name": "Python 3 (ipykernel)",
   "language": "python",
   "name": "python3"
  },
  "language_info": {
   "codemirror_mode": {
    "name": "ipython",
    "version": 3
   },
   "file_extension": ".py",
   "mimetype": "text/x-python",
   "name": "python",
   "nbconvert_exporter": "python",
   "pygments_lexer": "ipython3",
   "version": "3.10.4"
  }
 },
 "nbformat": 4,
 "nbformat_minor": 5
}
