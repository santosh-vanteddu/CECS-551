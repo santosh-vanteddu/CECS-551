{
 "cells": [
  {
   "cell_type": "markdown",
   "id": "e4c89c60",
   "metadata": {},
   "source": [
    "### Retail Market Analysis"
   ]
  },
  {
   "cell_type": "code",
   "execution_count": 1,
   "id": "f1042c5a",
   "metadata": {},
   "outputs": [],
   "source": [
    "import pandas as pd\n",
    "import numpy as np\n",
    "import matplotlib.pyplot as plt\n",
    "import seaborn as sns\n",
    "\n",
    "from scipy import stats\n",
    "\n",
    "get_ipython().run_line_magic('matplotlib', 'inline')"
   ]
  },
  {
   "cell_type": "code",
   "execution_count": 2,
   "id": "d015cb31",
   "metadata": {},
   "outputs": [
    {
     "data": {
      "text/html": [
       "<div>\n",
       "<style scoped>\n",
       "    .dataframe tbody tr th:only-of-type {\n",
       "        vertical-align: middle;\n",
       "    }\n",
       "\n",
       "    .dataframe tbody tr th {\n",
       "        vertical-align: top;\n",
       "    }\n",
       "\n",
       "    .dataframe thead th {\n",
       "        text-align: right;\n",
       "    }\n",
       "</style>\n",
       "<table border=\"1\" class=\"dataframe\">\n",
       "  <thead>\n",
       "    <tr style=\"text-align: right;\">\n",
       "      <th></th>\n",
       "      <th>Store</th>\n",
       "      <th>Date</th>\n",
       "      <th>Weekly_Sales</th>\n",
       "      <th>Holiday_Flag</th>\n",
       "      <th>Temperature</th>\n",
       "      <th>Fuel_Price</th>\n",
       "      <th>CPI</th>\n",
       "      <th>Unemployment</th>\n",
       "    </tr>\n",
       "  </thead>\n",
       "  <tbody>\n",
       "    <tr>\n",
       "      <th>0</th>\n",
       "      <td>1</td>\n",
       "      <td>2/5/2010</td>\n",
       "      <td>1643690.90</td>\n",
       "      <td>0</td>\n",
       "      <td>42.31</td>\n",
       "      <td>2.572</td>\n",
       "      <td>211.096358</td>\n",
       "      <td>8.106</td>\n",
       "    </tr>\n",
       "    <tr>\n",
       "      <th>1</th>\n",
       "      <td>1</td>\n",
       "      <td>2/12/2010</td>\n",
       "      <td>1641957.44</td>\n",
       "      <td>1</td>\n",
       "      <td>38.51</td>\n",
       "      <td>2.548</td>\n",
       "      <td>211.242170</td>\n",
       "      <td>8.106</td>\n",
       "    </tr>\n",
       "    <tr>\n",
       "      <th>2</th>\n",
       "      <td>1</td>\n",
       "      <td>2/19/2010</td>\n",
       "      <td>1611968.17</td>\n",
       "      <td>0</td>\n",
       "      <td>39.93</td>\n",
       "      <td>2.514</td>\n",
       "      <td>211.289143</td>\n",
       "      <td>8.106</td>\n",
       "    </tr>\n",
       "    <tr>\n",
       "      <th>3</th>\n",
       "      <td>1</td>\n",
       "      <td>2/26/2010</td>\n",
       "      <td>1409727.59</td>\n",
       "      <td>0</td>\n",
       "      <td>46.63</td>\n",
       "      <td>2.561</td>\n",
       "      <td>211.319643</td>\n",
       "      <td>8.106</td>\n",
       "    </tr>\n",
       "    <tr>\n",
       "      <th>4</th>\n",
       "      <td>1</td>\n",
       "      <td>3/5/2010</td>\n",
       "      <td>1554806.68</td>\n",
       "      <td>0</td>\n",
       "      <td>46.50</td>\n",
       "      <td>2.625</td>\n",
       "      <td>211.350143</td>\n",
       "      <td>8.106</td>\n",
       "    </tr>\n",
       "  </tbody>\n",
       "</table>\n",
       "</div>"
      ],
      "text/plain": [
       "   Store       Date  Weekly_Sales  Holiday_Flag  Temperature  Fuel_Price  \\\n",
       "0      1   2/5/2010    1643690.90             0        42.31       2.572   \n",
       "1      1  2/12/2010    1641957.44             1        38.51       2.548   \n",
       "2      1  2/19/2010    1611968.17             0        39.93       2.514   \n",
       "3      1  2/26/2010    1409727.59             0        46.63       2.561   \n",
       "4      1   3/5/2010    1554806.68             0        46.50       2.625   \n",
       "\n",
       "          CPI  Unemployment  \n",
       "0  211.096358         8.106  \n",
       "1  211.242170         8.106  \n",
       "2  211.289143         8.106  \n",
       "3  211.319643         8.106  \n",
       "4  211.350143         8.106  "
      ]
     },
     "execution_count": 2,
     "metadata": {},
     "output_type": "execute_result"
    }
   ],
   "source": [
    "data = pd.read_csv('Store_sales_revised.csv')\n",
    "data.head()"
   ]
  },
  {
   "cell_type": "code",
   "execution_count": 3,
   "id": "812d2626",
   "metadata": {},
   "outputs": [
    {
     "data": {
      "text/plain": [
       "Store           0\n",
       "Date            0\n",
       "Weekly_Sales    0\n",
       "Holiday_Flag    0\n",
       "Temperature     0\n",
       "Fuel_Price      0\n",
       "CPI             0\n",
       "Unemployment    0\n",
       "dtype: int64"
      ]
     },
     "execution_count": 3,
     "metadata": {},
     "output_type": "execute_result"
    }
   ],
   "source": [
    "data.isnull().sum()"
   ]
  },
  {
   "cell_type": "code",
   "execution_count": 4,
   "id": "5c9656c9",
   "metadata": {},
   "outputs": [
    {
     "data": {
      "text/plain": [
       "(6435, 8)"
      ]
     },
     "execution_count": 4,
     "metadata": {},
     "output_type": "execute_result"
    }
   ],
   "source": [
    "data.shape"
   ]
  },
  {
   "cell_type": "code",
   "execution_count": 5,
   "id": "a547df8b",
   "metadata": {},
   "outputs": [
    {
     "data": {
      "text/html": [
       "<div>\n",
       "<style scoped>\n",
       "    .dataframe tbody tr th:only-of-type {\n",
       "        vertical-align: middle;\n",
       "    }\n",
       "\n",
       "    .dataframe tbody tr th {\n",
       "        vertical-align: top;\n",
       "    }\n",
       "\n",
       "    .dataframe thead th {\n",
       "        text-align: right;\n",
       "    }\n",
       "</style>\n",
       "<table border=\"1\" class=\"dataframe\">\n",
       "  <thead>\n",
       "    <tr style=\"text-align: right;\">\n",
       "      <th></th>\n",
       "      <th>Store</th>\n",
       "      <th>Weekly_Sales</th>\n",
       "      <th>Holiday_Flag</th>\n",
       "      <th>Temperature</th>\n",
       "      <th>Fuel_Price</th>\n",
       "      <th>CPI</th>\n",
       "      <th>Unemployment</th>\n",
       "    </tr>\n",
       "  </thead>\n",
       "  <tbody>\n",
       "    <tr>\n",
       "      <th>count</th>\n",
       "      <td>6435.000000</td>\n",
       "      <td>6.435000e+03</td>\n",
       "      <td>6435.000000</td>\n",
       "      <td>6435.000000</td>\n",
       "      <td>6435.000000</td>\n",
       "      <td>6435.000000</td>\n",
       "      <td>6435.000000</td>\n",
       "    </tr>\n",
       "    <tr>\n",
       "      <th>mean</th>\n",
       "      <td>23.000000</td>\n",
       "      <td>1.046965e+06</td>\n",
       "      <td>0.069930</td>\n",
       "      <td>60.663782</td>\n",
       "      <td>3.358607</td>\n",
       "      <td>171.578394</td>\n",
       "      <td>7.999151</td>\n",
       "    </tr>\n",
       "    <tr>\n",
       "      <th>std</th>\n",
       "      <td>12.988182</td>\n",
       "      <td>5.643666e+05</td>\n",
       "      <td>0.255049</td>\n",
       "      <td>18.444933</td>\n",
       "      <td>0.459020</td>\n",
       "      <td>39.356712</td>\n",
       "      <td>1.875885</td>\n",
       "    </tr>\n",
       "    <tr>\n",
       "      <th>min</th>\n",
       "      <td>1.000000</td>\n",
       "      <td>2.099862e+05</td>\n",
       "      <td>0.000000</td>\n",
       "      <td>-2.060000</td>\n",
       "      <td>2.472000</td>\n",
       "      <td>126.064000</td>\n",
       "      <td>3.879000</td>\n",
       "    </tr>\n",
       "    <tr>\n",
       "      <th>25%</th>\n",
       "      <td>12.000000</td>\n",
       "      <td>5.533501e+05</td>\n",
       "      <td>0.000000</td>\n",
       "      <td>47.460000</td>\n",
       "      <td>2.933000</td>\n",
       "      <td>131.735000</td>\n",
       "      <td>6.891000</td>\n",
       "    </tr>\n",
       "    <tr>\n",
       "      <th>50%</th>\n",
       "      <td>23.000000</td>\n",
       "      <td>9.607460e+05</td>\n",
       "      <td>0.000000</td>\n",
       "      <td>62.670000</td>\n",
       "      <td>3.445000</td>\n",
       "      <td>182.616521</td>\n",
       "      <td>7.874000</td>\n",
       "    </tr>\n",
       "    <tr>\n",
       "      <th>75%</th>\n",
       "      <td>34.000000</td>\n",
       "      <td>1.420159e+06</td>\n",
       "      <td>0.000000</td>\n",
       "      <td>74.940000</td>\n",
       "      <td>3.735000</td>\n",
       "      <td>212.743293</td>\n",
       "      <td>8.622000</td>\n",
       "    </tr>\n",
       "    <tr>\n",
       "      <th>max</th>\n",
       "      <td>45.000000</td>\n",
       "      <td>3.818686e+06</td>\n",
       "      <td>1.000000</td>\n",
       "      <td>100.140000</td>\n",
       "      <td>4.468000</td>\n",
       "      <td>227.232807</td>\n",
       "      <td>14.313000</td>\n",
       "    </tr>\n",
       "  </tbody>\n",
       "</table>\n",
       "</div>"
      ],
      "text/plain": [
       "             Store  Weekly_Sales  Holiday_Flag  Temperature   Fuel_Price  \\\n",
       "count  6435.000000  6.435000e+03   6435.000000  6435.000000  6435.000000   \n",
       "mean     23.000000  1.046965e+06      0.069930    60.663782     3.358607   \n",
       "std      12.988182  5.643666e+05      0.255049    18.444933     0.459020   \n",
       "min       1.000000  2.099862e+05      0.000000    -2.060000     2.472000   \n",
       "25%      12.000000  5.533501e+05      0.000000    47.460000     2.933000   \n",
       "50%      23.000000  9.607460e+05      0.000000    62.670000     3.445000   \n",
       "75%      34.000000  1.420159e+06      0.000000    74.940000     3.735000   \n",
       "max      45.000000  3.818686e+06      1.000000   100.140000     4.468000   \n",
       "\n",
       "               CPI  Unemployment  \n",
       "count  6435.000000   6435.000000  \n",
       "mean    171.578394      7.999151  \n",
       "std      39.356712      1.875885  \n",
       "min     126.064000      3.879000  \n",
       "25%     131.735000      6.891000  \n",
       "50%     182.616521      7.874000  \n",
       "75%     212.743293      8.622000  \n",
       "max     227.232807     14.313000  "
      ]
     },
     "execution_count": 5,
     "metadata": {},
     "output_type": "execute_result"
    }
   ],
   "source": [
    "data.describe()"
   ]
  },
  {
   "cell_type": "code",
   "execution_count": 6,
   "id": "cb4c350a",
   "metadata": {},
   "outputs": [
    {
     "name": "stdout",
     "output_type": "stream",
     "text": [
      "<class 'pandas.core.frame.DataFrame'>\n",
      "RangeIndex: 6435 entries, 0 to 6434\n",
      "Data columns (total 8 columns):\n",
      " #   Column        Non-Null Count  Dtype  \n",
      "---  ------        --------------  -----  \n",
      " 0   Store         6435 non-null   int64  \n",
      " 1   Date          6435 non-null   object \n",
      " 2   Weekly_Sales  6435 non-null   float64\n",
      " 3   Holiday_Flag  6435 non-null   int64  \n",
      " 4   Temperature   6435 non-null   float64\n",
      " 5   Fuel_Price    6435 non-null   float64\n",
      " 6   CPI           6435 non-null   float64\n",
      " 7   Unemployment  6435 non-null   float64\n",
      "dtypes: float64(5), int64(2), object(1)\n",
      "memory usage: 402.3+ KB\n"
     ]
    }
   ],
   "source": [
    "data.info()"
   ]
  },
  {
   "cell_type": "code",
   "execution_count": 7,
   "id": "be7386ee",
   "metadata": {},
   "outputs": [
    {
     "data": {
      "text/plain": [
       "20"
      ]
     },
     "execution_count": 7,
     "metadata": {},
     "output_type": "execute_result"
    }
   ],
   "source": [
    "# Which store has highest sales?\n",
    "max_sales = data.groupby('Store')['Weekly_Sales'].sum()\n",
    "max_sales.idxmax()"
   ]
  },
  {
   "cell_type": "code",
   "execution_count": 8,
   "id": "9c14ab78",
   "metadata": {},
   "outputs": [
    {
     "data": {
      "text/plain": [
       "<AxesSubplot:xlabel='Store', ylabel='Weekly_Sales'>"
      ]
     },
     "execution_count": 8,
     "metadata": {},
     "output_type": "execute_result"
    },
    {
     "data": {
      "image/png": "[encoded data removed]",
      "text/plain": [
       "<Figure size 1080x360 with 1 Axes>"
      ]
     },
     "metadata": {
      "needs_background": "light"
     },
     "output_type": "display_data"
    }
   ],
   "source": [
    "plt.figure(figsize=(15,5))\n",
    "sns.barplot(x = data.Store, y = data.Weekly_Sales)"
   ]
  },
  {
   "cell_type": "code",
   "execution_count": 9,
   "id": "25b1590c",
   "metadata": {},
   "outputs": [
    {
     "data": {
      "text/plain": [
       "14"
      ]
     },
     "execution_count": 9,
     "metadata": {},
     "output_type": "execute_result"
    }
   ],
   "source": [
    "# Which store Has highest variation in sales - coefficient of mean - max standard deviation\n",
    "# Maximum Standard deviation\n",
    "max_std = data.groupby('Store')['Weekly_Sales'].std()\n",
    "max_std.idxmax()"
   ]
  },
  {
   "cell_type": "code",
   "execution_count": 10,
   "id": "a3b3d9ed",
   "metadata": {},
   "outputs": [
    {
     "data": {
      "text/plain": [
       "35"
      ]
     },
     "execution_count": 10,
     "metadata": {},
     "output_type": "execute_result"
    }
   ],
   "source": [
    "# Maximum coefficient of variation\n",
    "max_cov = ((data.groupby('Store')['Weekly_Sales'].std())/(data.groupby('Store')['Weekly_Sales'].mean())) * 100\n",
    "max_cov.idxmax()"
   ]
  },
  {
   "cell_type": "code",
   "execution_count": 11,
   "id": "cc2d4522",
   "metadata": {},
   "outputs": [
    {
     "name": "stderr",
     "output_type": "stream",
     "text": [
      "C:\\Users\\santo\\anaconda3\\lib\\site-packages\\seaborn\\distributions.py:2619: FutureWarning: `distplot` is a deprecated function and will be removed in a future version. Please adapt your code to use either `displot` (a figure-level function with similar flexibility) or `histplot` (an axes-level function for histograms).\n",
      "  warnings.warn(msg, FutureWarning)\n"
     ]
    },
    {
     "data": {
      "text/plain": [
       "<AxesSubplot:xlabel='Weekly_Sales', ylabel='Density'>"
      ]
     },
     "execution_count": 11,
     "metadata": {},
     "output_type": "execute_result"
    },
    {
     "data": {
      "image/png": "[encoded data removed]",
      "text/plain": [
       "<Figure size 720x360 with 1 Axes>"
      ]
     },
     "metadata": {
      "needs_background": "light"
     },
     "output_type": "display_data"
    }
   ],
   "source": [
    "# Plotting the max sales in the Bar chart\n",
    "stores = data.groupby('Store')\n",
    "store_35 = stores.get_group(35)\n",
    "plt.figure(figsize=(10,5))\n",
    "sns.distplot(store_35.Weekly_Sales, color='green', label='Weekly Sales for Store 35')"
   ]
  },
  {
   "cell_type": "code",
   "execution_count": 12,
   "id": "d50c5ad2",
   "metadata": {},
   "outputs": [
    {
     "name": "stderr",
     "output_type": "stream",
     "text": [
      "C:\\Users\\santo\\anaconda3\\lib\\site-packages\\seaborn\\_decorators.py:36: FutureWarning: Pass the following variable as a keyword arg: x. From version 0.12, the only valid positional argument will be `data`, and passing other arguments without an explicit keyword will result in an error or misinterpretation.\n",
      "  warnings.warn(\n"
     ]
    },
    {
     "data": {
      "text/plain": [
       "<AxesSubplot:xlabel='Weekly_Sales'>"
      ]
     },
     "execution_count": 12,
     "metadata": {},
     "output_type": "execute_result"
    },
    {
     "data": {
      "image/png": "[encoded data removed]",
      "text/plain": [
       "<Figure size 432x288 with 1 Axes>"
      ]
     },
     "metadata": {
      "needs_background": "light"
     },
     "output_type": "display_data"
    }
   ],
   "source": [
    "# Identify Outliers in weekly_sales for store 35\n",
    "sns.boxplot(store_35.Weekly_Sales, color='cyan') #less outliers"
   ]
  },
  {
   "cell_type": "code",
   "execution_count": 13,
   "id": "ee75078e",
   "metadata": {},
   "outputs": [
    {
     "data": {
      "text/html": [
       "<div>\n",
       "<style scoped>\n",
       "    .dataframe tbody tr th:only-of-type {\n",
       "        vertical-align: middle;\n",
       "    }\n",
       "\n",
       "    .dataframe tbody tr th {\n",
       "        vertical-align: top;\n",
       "    }\n",
       "\n",
       "    .dataframe thead th {\n",
       "        text-align: right;\n",
       "    }\n",
       "</style>\n",
       "<table border=\"1\" class=\"dataframe\">\n",
       "  <thead>\n",
       "    <tr style=\"text-align: right;\">\n",
       "      <th></th>\n",
       "      <th>Store</th>\n",
       "      <th>Date</th>\n",
       "      <th>Weekly_Sales</th>\n",
       "      <th>Holiday_Flag</th>\n",
       "      <th>Temperature</th>\n",
       "      <th>Fuel_Price</th>\n",
       "      <th>CPI</th>\n",
       "      <th>Unemployment</th>\n",
       "      <th>Year</th>\n",
       "      <th>Month</th>\n",
       "    </tr>\n",
       "  </thead>\n",
       "  <tbody>\n",
       "    <tr>\n",
       "      <th>0</th>\n",
       "      <td>1</td>\n",
       "      <td>2010-02-05</td>\n",
       "      <td>1643690.90</td>\n",
       "      <td>0</td>\n",
       "      <td>42.31</td>\n",
       "      <td>2.572</td>\n",
       "      <td>211.096358</td>\n",
       "      <td>8.106</td>\n",
       "      <td>2010</td>\n",
       "      <td>2</td>\n",
       "    </tr>\n",
       "    <tr>\n",
       "      <th>1</th>\n",
       "      <td>1</td>\n",
       "      <td>2010-02-12</td>\n",
       "      <td>1641957.44</td>\n",
       "      <td>1</td>\n",
       "      <td>38.51</td>\n",
       "      <td>2.548</td>\n",
       "      <td>211.242170</td>\n",
       "      <td>8.106</td>\n",
       "      <td>2010</td>\n",
       "      <td>2</td>\n",
       "    </tr>\n",
       "    <tr>\n",
       "      <th>2</th>\n",
       "      <td>1</td>\n",
       "      <td>2010-02-19</td>\n",
       "      <td>1611968.17</td>\n",
       "      <td>0</td>\n",
       "      <td>39.93</td>\n",
       "      <td>2.514</td>\n",
       "      <td>211.289143</td>\n",
       "      <td>8.106</td>\n",
       "      <td>2010</td>\n",
       "      <td>2</td>\n",
       "    </tr>\n",
       "    <tr>\n",
       "      <th>3</th>\n",
       "      <td>1</td>\n",
       "      <td>2010-02-26</td>\n",
       "      <td>1409727.59</td>\n",
       "      <td>0</td>\n",
       "      <td>46.63</td>\n",
       "      <td>2.561</td>\n",
       "      <td>211.319643</td>\n",
       "      <td>8.106</td>\n",
       "      <td>2010</td>\n",
       "      <td>2</td>\n",
       "    </tr>\n",
       "    <tr>\n",
       "      <th>4</th>\n",
       "      <td>1</td>\n",
       "      <td>2010-03-05</td>\n",
       "      <td>1554806.68</td>\n",
       "      <td>0</td>\n",
       "      <td>46.50</td>\n",
       "      <td>2.625</td>\n",
       "      <td>211.350143</td>\n",
       "      <td>8.106</td>\n",
       "      <td>2010</td>\n",
       "      <td>3</td>\n",
       "    </tr>\n",
       "    <tr>\n",
       "      <th>...</th>\n",
       "      <td>...</td>\n",
       "      <td>...</td>\n",
       "      <td>...</td>\n",
       "      <td>...</td>\n",
       "      <td>...</td>\n",
       "      <td>...</td>\n",
       "      <td>...</td>\n",
       "      <td>...</td>\n",
       "      <td>...</td>\n",
       "      <td>...</td>\n",
       "    </tr>\n",
       "    <tr>\n",
       "      <th>6430</th>\n",
       "      <td>45</td>\n",
       "      <td>2012-09-28</td>\n",
       "      <td>713173.95</td>\n",
       "      <td>0</td>\n",
       "      <td>64.88</td>\n",
       "      <td>3.997</td>\n",
       "      <td>192.013558</td>\n",
       "      <td>8.684</td>\n",
       "      <td>2012</td>\n",
       "      <td>9</td>\n",
       "    </tr>\n",
       "    <tr>\n",
       "      <th>6431</th>\n",
       "      <td>45</td>\n",
       "      <td>2012-10-05</td>\n",
       "      <td>733455.07</td>\n",
       "      <td>0</td>\n",
       "      <td>64.89</td>\n",
       "      <td>3.985</td>\n",
       "      <td>192.170412</td>\n",
       "      <td>8.667</td>\n",
       "      <td>2012</td>\n",
       "      <td>10</td>\n",
       "    </tr>\n",
       "    <tr>\n",
       "      <th>6432</th>\n",
       "      <td>45</td>\n",
       "      <td>2012-10-12</td>\n",
       "      <td>734464.36</td>\n",
       "      <td>0</td>\n",
       "      <td>54.47</td>\n",
       "      <td>4.000</td>\n",
       "      <td>192.327265</td>\n",
       "      <td>8.667</td>\n",
       "      <td>2012</td>\n",
       "      <td>10</td>\n",
       "    </tr>\n",
       "    <tr>\n",
       "      <th>6433</th>\n",
       "      <td>45</td>\n",
       "      <td>2012-10-19</td>\n",
       "      <td>718125.53</td>\n",
       "      <td>0</td>\n",
       "      <td>56.47</td>\n",
       "      <td>3.969</td>\n",
       "      <td>192.330854</td>\n",
       "      <td>8.667</td>\n",
       "      <td>2012</td>\n",
       "      <td>10</td>\n",
       "    </tr>\n",
       "    <tr>\n",
       "      <th>6434</th>\n",
       "      <td>45</td>\n",
       "      <td>2012-10-26</td>\n",
       "      <td>760281.43</td>\n",
       "      <td>0</td>\n",
       "      <td>58.85</td>\n",
       "      <td>3.882</td>\n",
       "      <td>192.308899</td>\n",
       "      <td>8.667</td>\n",
       "      <td>2012</td>\n",
       "      <td>10</td>\n",
       "    </tr>\n",
       "  </tbody>\n",
       "</table>\n",
       "<p>6435 rows × 10 columns</p>\n",
       "</div>"
      ],
      "text/plain": [
       "      Store       Date  Weekly_Sales  Holiday_Flag  Temperature  Fuel_Price  \\\n",
       "0         1 2010-02-05    1643690.90             0        42.31       2.572   \n",
       "1         1 2010-02-12    1641957.44             1        38.51       2.548   \n",
       "2         1 2010-02-19    1611968.17             0        39.93       2.514   \n",
       "3         1 2010-02-26    1409727.59             0        46.63       2.561   \n",
       "4         1 2010-03-05    1554806.68             0        46.50       2.625   \n",
       "...     ...        ...           ...           ...          ...         ...   \n",
       "6430     45 2012-09-28     713173.95             0        64.88       3.997   \n",
       "6431     45 2012-10-05     733455.07             0        64.89       3.985   \n",
       "6432     45 2012-10-12     734464.36             0        54.47       4.000   \n",
       "6433     45 2012-10-19     718125.53             0        56.47       3.969   \n",
       "6434     45 2012-10-26     760281.43             0        58.85       3.882   \n",
       "\n",
       "             CPI  Unemployment  Year  Month  \n",
       "0     211.096358         8.106  2010      2  \n",
       "1     211.242170         8.106  2010      2  \n",
       "2     211.289143         8.106  2010      2  \n",
       "3     211.319643         8.106  2010      2  \n",
       "4     211.350143         8.106  2010      3  \n",
       "...          ...           ...   ...    ...  \n",
       "6430  192.013558         8.684  2012      9  \n",
       "6431  192.170412         8.667  2012     10  \n",
       "6432  192.327265         8.667  2012     10  \n",
       "6433  192.330854         8.667  2012     10  \n",
       "6434  192.308899         8.667  2012     10  \n",
       "\n",
       "[6435 rows x 10 columns]"
      ]
     },
     "execution_count": 13,
     "metadata": {},
     "output_type": "execute_result"
    }
   ],
   "source": [
    "# Store 14 has maximum standard deviation and store 35 has maximum coefficient of variance.\n",
    "# Best to worse third quarterly growth (Q3) rate for 2012 - note dataframe truncated - more dates available \n",
    "# but not all could be merged due to different date ranges available in the dataframes available.\n",
    "# Grouping data by year and month\n",
    "growth = data.copy()\n",
    "growth['Date'] = pd.to_datetime(growth.Date,format='%m/%d/%Y')\n",
    "growth['Year'] = growth['Date'].dt.year\n",
    "growth['Month'] = growth['Date'].dt.month\n",
    "growth"
   ]
  },
  {
   "cell_type": "code",
   "execution_count": 14,
   "id": "868698f4",
   "metadata": {},
   "outputs": [
    {
     "data": {
      "text/html": [
       "<div>\n",
       "<style scoped>\n",
       "    .dataframe tbody tr th:only-of-type {\n",
       "        vertical-align: middle;\n",
       "    }\n",
       "\n",
       "    .dataframe tbody tr th {\n",
       "        vertical-align: top;\n",
       "    }\n",
       "\n",
       "    .dataframe thead th {\n",
       "        text-align: right;\n",
       "    }\n",
       "</style>\n",
       "<table border=\"1\" class=\"dataframe\">\n",
       "  <thead>\n",
       "    <tr style=\"text-align: right;\">\n",
       "      <th></th>\n",
       "      <th>Store</th>\n",
       "      <th>Date</th>\n",
       "      <th>Weekly_Sales</th>\n",
       "      <th>Holiday_Flag</th>\n",
       "      <th>Temperature</th>\n",
       "      <th>Fuel_Price</th>\n",
       "      <th>CPI</th>\n",
       "      <th>Unemployment</th>\n",
       "      <th>Year</th>\n",
       "      <th>Month</th>\n",
       "    </tr>\n",
       "  </thead>\n",
       "  <tbody>\n",
       "    <tr>\n",
       "      <th>100</th>\n",
       "      <td>1</td>\n",
       "      <td>2012-01-06</td>\n",
       "      <td>1550369.92</td>\n",
       "      <td>0</td>\n",
       "      <td>49.01</td>\n",
       "      <td>3.157</td>\n",
       "      <td>219.714258</td>\n",
       "      <td>7.348</td>\n",
       "      <td>2012</td>\n",
       "      <td>1</td>\n",
       "    </tr>\n",
       "    <tr>\n",
       "      <th>101</th>\n",
       "      <td>1</td>\n",
       "      <td>2012-01-13</td>\n",
       "      <td>1459601.17</td>\n",
       "      <td>0</td>\n",
       "      <td>48.53</td>\n",
       "      <td>3.261</td>\n",
       "      <td>219.892526</td>\n",
       "      <td>7.348</td>\n",
       "      <td>2012</td>\n",
       "      <td>1</td>\n",
       "    </tr>\n",
       "    <tr>\n",
       "      <th>102</th>\n",
       "      <td>1</td>\n",
       "      <td>2012-01-20</td>\n",
       "      <td>1394393.84</td>\n",
       "      <td>0</td>\n",
       "      <td>54.11</td>\n",
       "      <td>3.268</td>\n",
       "      <td>219.985689</td>\n",
       "      <td>7.348</td>\n",
       "      <td>2012</td>\n",
       "      <td>1</td>\n",
       "    </tr>\n",
       "    <tr>\n",
       "      <th>103</th>\n",
       "      <td>1</td>\n",
       "      <td>2012-01-27</td>\n",
       "      <td>1319325.59</td>\n",
       "      <td>0</td>\n",
       "      <td>54.26</td>\n",
       "      <td>3.290</td>\n",
       "      <td>220.078852</td>\n",
       "      <td>7.348</td>\n",
       "      <td>2012</td>\n",
       "      <td>1</td>\n",
       "    </tr>\n",
       "    <tr>\n",
       "      <th>104</th>\n",
       "      <td>1</td>\n",
       "      <td>2012-02-03</td>\n",
       "      <td>1636339.65</td>\n",
       "      <td>0</td>\n",
       "      <td>56.55</td>\n",
       "      <td>3.360</td>\n",
       "      <td>220.172015</td>\n",
       "      <td>7.348</td>\n",
       "      <td>2012</td>\n",
       "      <td>2</td>\n",
       "    </tr>\n",
       "  </tbody>\n",
       "</table>\n",
       "</div>"
      ],
      "text/plain": [
       "     Store       Date  Weekly_Sales  Holiday_Flag  Temperature  Fuel_Price  \\\n",
       "100      1 2012-01-06    1550369.92             0        49.01       3.157   \n",
       "101      1 2012-01-13    1459601.17             0        48.53       3.261   \n",
       "102      1 2012-01-20    1394393.84             0        54.11       3.268   \n",
       "103      1 2012-01-27    1319325.59             0        54.26       3.290   \n",
       "104      1 2012-02-03    1636339.65             0        56.55       3.360   \n",
       "\n",
       "            CPI  Unemployment  Year  Month  \n",
       "100  219.714258         7.348  2012      1  \n",
       "101  219.892526         7.348  2012      1  \n",
       "102  219.985689         7.348  2012      1  \n",
       "103  220.078852         7.348  2012      1  \n",
       "104  220.172015         7.348  2012      2  "
      ]
     },
     "execution_count": 14,
     "metadata": {},
     "output_type": "execute_result"
    }
   ],
   "source": [
    "# Group data with year = 2012\n",
    "growth_rate = growth.groupby('Year')\n",
    "growth_rate_2012 = growth_rate.get_group(2012)\n",
    "growth_rate_2012.head()"
   ]
  },
  {
   "cell_type": "code",
   "execution_count": 15,
   "id": "3f02451f",
   "metadata": {},
   "outputs": [
    {
     "data": {
      "text/html": [
       "<div>\n",
       "<style scoped>\n",
       "    .dataframe tbody tr th:only-of-type {\n",
       "        vertical-align: middle;\n",
       "    }\n",
       "\n",
       "    .dataframe tbody tr th {\n",
       "        vertical-align: top;\n",
       "    }\n",
       "\n",
       "    .dataframe thead th {\n",
       "        text-align: right;\n",
       "    }\n",
       "</style>\n",
       "<table border=\"1\" class=\"dataframe\">\n",
       "  <thead>\n",
       "    <tr style=\"text-align: right;\">\n",
       "      <th></th>\n",
       "      <th>Store</th>\n",
       "      <th>Date</th>\n",
       "      <th>Weekly_Sales</th>\n",
       "      <th>Holiday_Flag</th>\n",
       "      <th>Temperature</th>\n",
       "      <th>Fuel_Price</th>\n",
       "      <th>CPI</th>\n",
       "      <th>Unemployment</th>\n",
       "      <th>Year</th>\n",
       "      <th>Month</th>\n",
       "    </tr>\n",
       "  </thead>\n",
       "  <tbody>\n",
       "    <tr>\n",
       "      <th>100</th>\n",
       "      <td>1</td>\n",
       "      <td>2012-01-06</td>\n",
       "      <td>1550369.92</td>\n",
       "      <td>0</td>\n",
       "      <td>49.01</td>\n",
       "      <td>3.157</td>\n",
       "      <td>219.714258</td>\n",
       "      <td>7.348</td>\n",
       "      <td>2012</td>\n",
       "      <td>1</td>\n",
       "    </tr>\n",
       "    <tr>\n",
       "      <th>101</th>\n",
       "      <td>1</td>\n",
       "      <td>2012-01-13</td>\n",
       "      <td>1459601.17</td>\n",
       "      <td>0</td>\n",
       "      <td>48.53</td>\n",
       "      <td>3.261</td>\n",
       "      <td>219.892526</td>\n",
       "      <td>7.348</td>\n",
       "      <td>2012</td>\n",
       "      <td>1</td>\n",
       "    </tr>\n",
       "    <tr>\n",
       "      <th>102</th>\n",
       "      <td>1</td>\n",
       "      <td>2012-01-20</td>\n",
       "      <td>1394393.84</td>\n",
       "      <td>0</td>\n",
       "      <td>54.11</td>\n",
       "      <td>3.268</td>\n",
       "      <td>219.985689</td>\n",
       "      <td>7.348</td>\n",
       "      <td>2012</td>\n",
       "      <td>1</td>\n",
       "    </tr>\n",
       "    <tr>\n",
       "      <th>103</th>\n",
       "      <td>1</td>\n",
       "      <td>2012-01-27</td>\n",
       "      <td>1319325.59</td>\n",
       "      <td>0</td>\n",
       "      <td>54.26</td>\n",
       "      <td>3.290</td>\n",
       "      <td>220.078852</td>\n",
       "      <td>7.348</td>\n",
       "      <td>2012</td>\n",
       "      <td>1</td>\n",
       "    </tr>\n",
       "    <tr>\n",
       "      <th>243</th>\n",
       "      <td>2</td>\n",
       "      <td>2012-01-06</td>\n",
       "      <td>1799520.14</td>\n",
       "      <td>0</td>\n",
       "      <td>46.75</td>\n",
       "      <td>3.157</td>\n",
       "      <td>219.355063</td>\n",
       "      <td>7.057</td>\n",
       "      <td>2012</td>\n",
       "      <td>1</td>\n",
       "    </tr>\n",
       "  </tbody>\n",
       "</table>\n",
       "</div>"
      ],
      "text/plain": [
       "     Store       Date  Weekly_Sales  Holiday_Flag  Temperature  Fuel_Price  \\\n",
       "100      1 2012-01-06    1550369.92             0        49.01       3.157   \n",
       "101      1 2012-01-13    1459601.17             0        48.53       3.261   \n",
       "102      1 2012-01-20    1394393.84             0        54.11       3.268   \n",
       "103      1 2012-01-27    1319325.59             0        54.26       3.290   \n",
       "243      2 2012-01-06    1799520.14             0        46.75       3.157   \n",
       "\n",
       "            CPI  Unemployment  Year  Month  \n",
       "100  219.714258         7.348  2012      1  \n",
       "101  219.892526         7.348  2012      1  \n",
       "102  219.985689         7.348  2012      1  \n",
       "103  220.078852         7.348  2012      1  \n",
       "243  219.355063         7.057  2012      1  "
      ]
     },
     "metadata": {},
     "output_type": "display_data"
    },
    {
     "data": {
      "text/html": [
       "<div>\n",
       "<style scoped>\n",
       "    .dataframe tbody tr th:only-of-type {\n",
       "        vertical-align: middle;\n",
       "    }\n",
       "\n",
       "    .dataframe tbody tr th {\n",
       "        vertical-align: top;\n",
       "    }\n",
       "\n",
       "    .dataframe thead th {\n",
       "        text-align: right;\n",
       "    }\n",
       "</style>\n",
       "<table border=\"1\" class=\"dataframe\">\n",
       "  <thead>\n",
       "    <tr style=\"text-align: right;\">\n",
       "      <th></th>\n",
       "      <th>Store</th>\n",
       "      <th>Date</th>\n",
       "      <th>Weekly_Sales</th>\n",
       "      <th>Holiday_Flag</th>\n",
       "      <th>Temperature</th>\n",
       "      <th>Fuel_Price</th>\n",
       "      <th>CPI</th>\n",
       "      <th>Unemployment</th>\n",
       "      <th>Year</th>\n",
       "      <th>Month</th>\n",
       "    </tr>\n",
       "  </thead>\n",
       "  <tbody>\n",
       "    <tr>\n",
       "      <th>113</th>\n",
       "      <td>1</td>\n",
       "      <td>2012-04-06</td>\n",
       "      <td>1899676.88</td>\n",
       "      <td>0</td>\n",
       "      <td>70.43</td>\n",
       "      <td>3.891</td>\n",
       "      <td>221.435611</td>\n",
       "      <td>7.143</td>\n",
       "      <td>2012</td>\n",
       "      <td>4</td>\n",
       "    </tr>\n",
       "    <tr>\n",
       "      <th>114</th>\n",
       "      <td>1</td>\n",
       "      <td>2012-04-13</td>\n",
       "      <td>1621031.70</td>\n",
       "      <td>0</td>\n",
       "      <td>69.07</td>\n",
       "      <td>3.891</td>\n",
       "      <td>221.510210</td>\n",
       "      <td>7.143</td>\n",
       "      <td>2012</td>\n",
       "      <td>4</td>\n",
       "    </tr>\n",
       "    <tr>\n",
       "      <th>115</th>\n",
       "      <td>1</td>\n",
       "      <td>2012-04-20</td>\n",
       "      <td>1521577.87</td>\n",
       "      <td>0</td>\n",
       "      <td>66.76</td>\n",
       "      <td>3.877</td>\n",
       "      <td>221.564074</td>\n",
       "      <td>7.143</td>\n",
       "      <td>2012</td>\n",
       "      <td>4</td>\n",
       "    </tr>\n",
       "    <tr>\n",
       "      <th>116</th>\n",
       "      <td>1</td>\n",
       "      <td>2012-04-27</td>\n",
       "      <td>1468928.37</td>\n",
       "      <td>0</td>\n",
       "      <td>67.23</td>\n",
       "      <td>3.814</td>\n",
       "      <td>221.617937</td>\n",
       "      <td>7.143</td>\n",
       "      <td>2012</td>\n",
       "      <td>4</td>\n",
       "    </tr>\n",
       "    <tr>\n",
       "      <th>256</th>\n",
       "      <td>2</td>\n",
       "      <td>2012-04-06</td>\n",
       "      <td>2129035.91</td>\n",
       "      <td>0</td>\n",
       "      <td>68.43</td>\n",
       "      <td>3.891</td>\n",
       "      <td>221.073764</td>\n",
       "      <td>6.891</td>\n",
       "      <td>2012</td>\n",
       "      <td>4</td>\n",
       "    </tr>\n",
       "  </tbody>\n",
       "</table>\n",
       "</div>"
      ],
      "text/plain": [
       "     Store       Date  Weekly_Sales  Holiday_Flag  Temperature  Fuel_Price  \\\n",
       "113      1 2012-04-06    1899676.88             0        70.43       3.891   \n",
       "114      1 2012-04-13    1621031.70             0        69.07       3.891   \n",
       "115      1 2012-04-20    1521577.87             0        66.76       3.877   \n",
       "116      1 2012-04-27    1468928.37             0        67.23       3.814   \n",
       "256      2 2012-04-06    2129035.91             0        68.43       3.891   \n",
       "\n",
       "            CPI  Unemployment  Year  Month  \n",
       "113  221.435611         7.143  2012      4  \n",
       "114  221.510210         7.143  2012      4  \n",
       "115  221.564074         7.143  2012      4  \n",
       "116  221.617937         7.143  2012      4  \n",
       "256  221.073764         6.891  2012      4  "
      ]
     },
     "metadata": {},
     "output_type": "display_data"
    },
    {
     "data": {
      "text/html": [
       "<div>\n",
       "<style scoped>\n",
       "    .dataframe tbody tr th:only-of-type {\n",
       "        vertical-align: middle;\n",
       "    }\n",
       "\n",
       "    .dataframe tbody tr th {\n",
       "        vertical-align: top;\n",
       "    }\n",
       "\n",
       "    .dataframe thead th {\n",
       "        text-align: right;\n",
       "    }\n",
       "</style>\n",
       "<table border=\"1\" class=\"dataframe\">\n",
       "  <thead>\n",
       "    <tr style=\"text-align: right;\">\n",
       "      <th></th>\n",
       "      <th>Store</th>\n",
       "      <th>Date</th>\n",
       "      <th>Weekly_Sales</th>\n",
       "      <th>Holiday_Flag</th>\n",
       "      <th>Temperature</th>\n",
       "      <th>Fuel_Price</th>\n",
       "      <th>CPI</th>\n",
       "      <th>Unemployment</th>\n",
       "      <th>Year</th>\n",
       "      <th>Month</th>\n",
       "    </tr>\n",
       "  </thead>\n",
       "  <tbody>\n",
       "    <tr>\n",
       "      <th>126</th>\n",
       "      <td>1</td>\n",
       "      <td>2012-07-06</td>\n",
       "      <td>1769854.16</td>\n",
       "      <td>0</td>\n",
       "      <td>81.57</td>\n",
       "      <td>3.227</td>\n",
       "      <td>221.883779</td>\n",
       "      <td>6.908</td>\n",
       "      <td>2012</td>\n",
       "      <td>7</td>\n",
       "    </tr>\n",
       "    <tr>\n",
       "      <th>127</th>\n",
       "      <td>1</td>\n",
       "      <td>2012-07-13</td>\n",
       "      <td>1527014.04</td>\n",
       "      <td>0</td>\n",
       "      <td>77.12</td>\n",
       "      <td>3.256</td>\n",
       "      <td>221.924158</td>\n",
       "      <td>6.908</td>\n",
       "      <td>2012</td>\n",
       "      <td>7</td>\n",
       "    </tr>\n",
       "    <tr>\n",
       "      <th>128</th>\n",
       "      <td>1</td>\n",
       "      <td>2012-07-20</td>\n",
       "      <td>1497954.76</td>\n",
       "      <td>0</td>\n",
       "      <td>80.42</td>\n",
       "      <td>3.311</td>\n",
       "      <td>221.932727</td>\n",
       "      <td>6.908</td>\n",
       "      <td>2012</td>\n",
       "      <td>7</td>\n",
       "    </tr>\n",
       "    <tr>\n",
       "      <th>129</th>\n",
       "      <td>1</td>\n",
       "      <td>2012-07-27</td>\n",
       "      <td>1439123.71</td>\n",
       "      <td>0</td>\n",
       "      <td>82.66</td>\n",
       "      <td>3.407</td>\n",
       "      <td>221.941295</td>\n",
       "      <td>6.908</td>\n",
       "      <td>2012</td>\n",
       "      <td>7</td>\n",
       "    </tr>\n",
       "    <tr>\n",
       "      <th>269</th>\n",
       "      <td>2</td>\n",
       "      <td>2012-07-06</td>\n",
       "      <td>2041507.40</td>\n",
       "      <td>0</td>\n",
       "      <td>84.20</td>\n",
       "      <td>3.227</td>\n",
       "      <td>221.521506</td>\n",
       "      <td>6.565</td>\n",
       "      <td>2012</td>\n",
       "      <td>7</td>\n",
       "    </tr>\n",
       "  </tbody>\n",
       "</table>\n",
       "</div>"
      ],
      "text/plain": [
       "     Store       Date  Weekly_Sales  Holiday_Flag  Temperature  Fuel_Price  \\\n",
       "126      1 2012-07-06    1769854.16             0        81.57       3.227   \n",
       "127      1 2012-07-13    1527014.04             0        77.12       3.256   \n",
       "128      1 2012-07-20    1497954.76             0        80.42       3.311   \n",
       "129      1 2012-07-27    1439123.71             0        82.66       3.407   \n",
       "269      2 2012-07-06    2041507.40             0        84.20       3.227   \n",
       "\n",
       "            CPI  Unemployment  Year  Month  \n",
       "126  221.883779         6.908  2012      7  \n",
       "127  221.924158         6.908  2012      7  \n",
       "128  221.932727         6.908  2012      7  \n",
       "129  221.941295         6.908  2012      7  \n",
       "269  221.521506         6.565  2012      7  "
      ]
     },
     "metadata": {},
     "output_type": "display_data"
    },
    {
     "data": {
      "text/html": [
       "<div>\n",
       "<style scoped>\n",
       "    .dataframe tbody tr th:only-of-type {\n",
       "        vertical-align: middle;\n",
       "    }\n",
       "\n",
       "    .dataframe tbody tr th {\n",
       "        vertical-align: top;\n",
       "    }\n",
       "\n",
       "    .dataframe thead th {\n",
       "        text-align: right;\n",
       "    }\n",
       "</style>\n",
       "<table border=\"1\" class=\"dataframe\">\n",
       "  <thead>\n",
       "    <tr style=\"text-align: right;\">\n",
       "      <th></th>\n",
       "      <th>Store</th>\n",
       "      <th>Date</th>\n",
       "      <th>Weekly_Sales</th>\n",
       "      <th>Holiday_Flag</th>\n",
       "      <th>Temperature</th>\n",
       "      <th>Fuel_Price</th>\n",
       "      <th>CPI</th>\n",
       "      <th>Unemployment</th>\n",
       "      <th>Year</th>\n",
       "      <th>Month</th>\n",
       "    </tr>\n",
       "  </thead>\n",
       "  <tbody>\n",
       "    <tr>\n",
       "      <th>139</th>\n",
       "      <td>1</td>\n",
       "      <td>2012-10-05</td>\n",
       "      <td>1670785.97</td>\n",
       "      <td>0</td>\n",
       "      <td>68.55</td>\n",
       "      <td>3.617</td>\n",
       "      <td>223.181477</td>\n",
       "      <td>6.573</td>\n",
       "      <td>2012</td>\n",
       "      <td>10</td>\n",
       "    </tr>\n",
       "    <tr>\n",
       "      <th>140</th>\n",
       "      <td>1</td>\n",
       "      <td>2012-10-12</td>\n",
       "      <td>1573072.81</td>\n",
       "      <td>0</td>\n",
       "      <td>62.99</td>\n",
       "      <td>3.601</td>\n",
       "      <td>223.381296</td>\n",
       "      <td>6.573</td>\n",
       "      <td>2012</td>\n",
       "      <td>10</td>\n",
       "    </tr>\n",
       "    <tr>\n",
       "      <th>141</th>\n",
       "      <td>1</td>\n",
       "      <td>2012-10-19</td>\n",
       "      <td>1508068.77</td>\n",
       "      <td>0</td>\n",
       "      <td>67.97</td>\n",
       "      <td>3.594</td>\n",
       "      <td>223.425723</td>\n",
       "      <td>6.573</td>\n",
       "      <td>2012</td>\n",
       "      <td>10</td>\n",
       "    </tr>\n",
       "    <tr>\n",
       "      <th>142</th>\n",
       "      <td>1</td>\n",
       "      <td>2012-10-26</td>\n",
       "      <td>1493659.74</td>\n",
       "      <td>0</td>\n",
       "      <td>69.16</td>\n",
       "      <td>3.506</td>\n",
       "      <td>223.444251</td>\n",
       "      <td>6.573</td>\n",
       "      <td>2012</td>\n",
       "      <td>10</td>\n",
       "    </tr>\n",
       "    <tr>\n",
       "      <th>282</th>\n",
       "      <td>2</td>\n",
       "      <td>2012-10-05</td>\n",
       "      <td>1998321.04</td>\n",
       "      <td>0</td>\n",
       "      <td>70.27</td>\n",
       "      <td>3.617</td>\n",
       "      <td>222.815930</td>\n",
       "      <td>6.170</td>\n",
       "      <td>2012</td>\n",
       "      <td>10</td>\n",
       "    </tr>\n",
       "  </tbody>\n",
       "</table>\n",
       "</div>"
      ],
      "text/plain": [
       "     Store       Date  Weekly_Sales  Holiday_Flag  Temperature  Fuel_Price  \\\n",
       "139      1 2012-10-05    1670785.97             0        68.55       3.617   \n",
       "140      1 2012-10-12    1573072.81             0        62.99       3.601   \n",
       "141      1 2012-10-19    1508068.77             0        67.97       3.594   \n",
       "142      1 2012-10-26    1493659.74             0        69.16       3.506   \n",
       "282      2 2012-10-05    1998321.04             0        70.27       3.617   \n",
       "\n",
       "            CPI  Unemployment  Year  Month  \n",
       "139  223.181477         6.573  2012     10  \n",
       "140  223.381296         6.573  2012     10  \n",
       "141  223.425723         6.573  2012     10  \n",
       "142  223.444251         6.573  2012     10  \n",
       "282  222.815930         6.170  2012     10  "
      ]
     },
     "metadata": {},
     "output_type": "display_data"
    }
   ],
   "source": [
    "# Getting data for 4 quaters for year 2012\n",
    "growth_rate_2012_Quaters = growth_rate_2012.groupby('Month')\n",
    "growth_rate_2012_Q1_1 = growth_rate_2012_Quaters.get_group(1)\n",
    "growth_rate_2012_Q1_2 = growth_rate_2012_Quaters.get_group(2)\n",
    "growth_rate_2012_Q1_3 = growth_rate_2012_Quaters.get_group(3)\n",
    "\n",
    "Quater_1 = growth_rate_2012_Q1_1.append(growth_rate_2012_Q1_2)\n",
    "Quater_1 = Quater_1.append(growth_rate_2012_Q1_3) #Q1 data of 2012\n",
    "display(Quater_1.head())  \n",
    "\n",
    "growth_rate_2012_Q2_4 = growth_rate_2012_Quaters.get_group(4)\n",
    "growth_rate_2012_Q2_5 = growth_rate_2012_Quaters.get_group(5)\n",
    "growth_rate_2012_Q2_6 = growth_rate_2012_Quaters.get_group(6)\n",
    "\n",
    "Quater_2 = growth_rate_2012_Q2_4.append(growth_rate_2012_Q2_5)\n",
    "Quater_2 = Quater_2.append(growth_rate_2012_Q2_6)  #Q2 data of 2012\n",
    "display(Quater_2.head())\n",
    "\n",
    "growth_rate_2012_Q3_7 = growth_rate_2012_Quaters.get_group(7)\n",
    "growth_rate_2012_Q3_8 = growth_rate_2012_Quaters.get_group(8)\n",
    "growth_rate_2012_Q3_9 = growth_rate_2012_Quaters.get_group(9)\n",
    "Quater_3 = growth_rate_2012_Q3_7.append(growth_rate_2012_Q3_8)\n",
    "Quater_3 = Quater_3.append(growth_rate_2012_Q3_9)  #Q3 data of 2012\n",
    "display(Quater_3.head())\n",
    "\n",
    "# Q4 data of 2012\n",
    "growth_rate_2012_Q4_10 = growth_rate_2012_Quaters.get_group(10)\n",
    "Quater_4 = growth_rate_2012_Q4_10\n",
    "display(Quater_4.head())"
   ]
  },
  {
   "cell_type": "code",
   "execution_count": 16,
   "id": "787ecd79",
   "metadata": {},
   "outputs": [
    {
     "data": {
      "text/html": [
       "<div>\n",
       "<style scoped>\n",
       "    .dataframe tbody tr th:only-of-type {\n",
       "        vertical-align: middle;\n",
       "    }\n",
       "\n",
       "    .dataframe tbody tr th {\n",
       "        vertical-align: top;\n",
       "    }\n",
       "\n",
       "    .dataframe thead th {\n",
       "        text-align: right;\n",
       "    }\n",
       "</style>\n",
       "<table border=\"1\" class=\"dataframe\">\n",
       "  <thead>\n",
       "    <tr style=\"text-align: right;\">\n",
       "      <th></th>\n",
       "      <th>Quater1_Sales</th>\n",
       "      <th>Quater2_Sales</th>\n",
       "      <th>Quater3_Sales</th>\n",
       "      <th>Quater4_Sales</th>\n",
       "    </tr>\n",
       "    <tr>\n",
       "      <th>Store</th>\n",
       "      <th></th>\n",
       "      <th></th>\n",
       "      <th></th>\n",
       "      <th></th>\n",
       "    </tr>\n",
       "  </thead>\n",
       "  <tbody>\n",
       "    <tr>\n",
       "      <th>1</th>\n",
       "      <td>20723762.83</td>\n",
       "      <td>20978760.12</td>\n",
       "      <td>20253947.78</td>\n",
       "      <td>6245587.29</td>\n",
       "    </tr>\n",
       "    <tr>\n",
       "      <th>2</th>\n",
       "      <td>24528220.70</td>\n",
       "      <td>25083604.88</td>\n",
       "      <td>24303354.86</td>\n",
       "      <td>7581514.93</td>\n",
       "    </tr>\n",
       "    <tr>\n",
       "      <th>3</th>\n",
       "      <td>5421809.72</td>\n",
       "      <td>5620316.49</td>\n",
       "      <td>5298005.47</td>\n",
       "      <td>1684307.82</td>\n",
       "    </tr>\n",
       "    <tr>\n",
       "      <th>4</th>\n",
       "      <td>27930310.30</td>\n",
       "      <td>28454363.67</td>\n",
       "      <td>27796792.46</td>\n",
       "      <td>8589722.81</td>\n",
       "    </tr>\n",
       "    <tr>\n",
       "      <th>5</th>\n",
       "      <td>4237380.83</td>\n",
       "      <td>4466363.69</td>\n",
       "      <td>4163790.99</td>\n",
       "      <td>1301302.62</td>\n",
       "    </tr>\n",
       "    <tr>\n",
       "      <th>6</th>\n",
       "      <td>19467939.96</td>\n",
       "      <td>20833909.92</td>\n",
       "      <td>20167312.24</td>\n",
       "      <td>5845884.88</td>\n",
       "    </tr>\n",
       "    <tr>\n",
       "      <th>7</th>\n",
       "      <td>7792647.21</td>\n",
       "      <td>7290859.27</td>\n",
       "      <td>8262787.39</td>\n",
       "      <td>2021262.60</td>\n",
       "    </tr>\n",
       "    <tr>\n",
       "      <th>8</th>\n",
       "      <td>11869407.28</td>\n",
       "      <td>11919630.95</td>\n",
       "      <td>11748952.70</td>\n",
       "      <td>3695929.20</td>\n",
       "    </tr>\n",
       "    <tr>\n",
       "      <th>9</th>\n",
       "      <td>7209983.86</td>\n",
       "      <td>7484935.11</td>\n",
       "      <td>7022149.56</td>\n",
       "      <td>2256961.05</td>\n",
       "    </tr>\n",
       "    <tr>\n",
       "      <th>10</th>\n",
       "      <td>24488944.65</td>\n",
       "      <td>23750369.17</td>\n",
       "      <td>23037258.76</td>\n",
       "      <td>6952044.36</td>\n",
       "    </tr>\n",
       "    <tr>\n",
       "      <th>11</th>\n",
       "      <td>17713050.31</td>\n",
       "      <td>17787371.95</td>\n",
       "      <td>17516081.44</td>\n",
       "      <td>5167561.98</td>\n",
       "    </tr>\n",
       "    <tr>\n",
       "      <th>12</th>\n",
       "      <td>13585746.35</td>\n",
       "      <td>13362388.58</td>\n",
       "      <td>12536324.37</td>\n",
       "      <td>3850386.42</td>\n",
       "    </tr>\n",
       "    <tr>\n",
       "      <th>13</th>\n",
       "      <td>25182790.59</td>\n",
       "      <td>27009207.14</td>\n",
       "      <td>26421259.30</td>\n",
       "      <td>8094197.99</td>\n",
       "    </tr>\n",
       "    <tr>\n",
       "      <th>14</th>\n",
       "      <td>24476492.09</td>\n",
       "      <td>25155535.41</td>\n",
       "      <td>21187560.65</td>\n",
       "      <td>6621810.11</td>\n",
       "    </tr>\n",
       "    <tr>\n",
       "      <th>15</th>\n",
       "      <td>7020781.97</td>\n",
       "      <td>7955243.07</td>\n",
       "      <td>7612081.03</td>\n",
       "      <td>2239424.64</td>\n",
       "    </tr>\n",
       "    <tr>\n",
       "      <th>16</th>\n",
       "      <td>6400479.72</td>\n",
       "      <td>6564335.98</td>\n",
       "      <td>7121541.64</td>\n",
       "      <td>2016067.98</td>\n",
       "    </tr>\n",
       "    <tr>\n",
       "      <th>17</th>\n",
       "      <td>11460215.01</td>\n",
       "      <td>12592400.93</td>\n",
       "      <td>12459453.05</td>\n",
       "      <td>3773309.64</td>\n",
       "    </tr>\n",
       "    <tr>\n",
       "      <th>18</th>\n",
       "      <td>13190110.09</td>\n",
       "      <td>13896194.65</td>\n",
       "      <td>13489765.27</td>\n",
       "      <td>4342506.79</td>\n",
       "    </tr>\n",
       "    <tr>\n",
       "      <th>19</th>\n",
       "      <td>17237532.28</td>\n",
       "      <td>18367300.24</td>\n",
       "      <td>18203554.85</td>\n",
       "      <td>5404045.91</td>\n",
       "    </tr>\n",
       "    <tr>\n",
       "      <th>20</th>\n",
       "      <td>26971607.79</td>\n",
       "      <td>27524197.32</td>\n",
       "      <td>26891526.98</td>\n",
       "      <td>8440377.29</td>\n",
       "    </tr>\n",
       "    <tr>\n",
       "      <th>21</th>\n",
       "      <td>9308307.68</td>\n",
       "      <td>9294596.35</td>\n",
       "      <td>9027599.32</td>\n",
       "      <td>2621383.36</td>\n",
       "    </tr>\n",
       "    <tr>\n",
       "      <th>22</th>\n",
       "      <td>12236244.62</td>\n",
       "      <td>13487894.06</td>\n",
       "      <td>12845139.71</td>\n",
       "      <td>4086377.84</td>\n",
       "    </tr>\n",
       "    <tr>\n",
       "      <th>23</th>\n",
       "      <td>16049454.58</td>\n",
       "      <td>18488882.82</td>\n",
       "      <td>18641489.15</td>\n",
       "      <td>5588152.20</td>\n",
       "    </tr>\n",
       "    <tr>\n",
       "      <th>24</th>\n",
       "      <td>16130180.70</td>\n",
       "      <td>17684218.91</td>\n",
       "      <td>17976377.72</td>\n",
       "      <td>5395618.84</td>\n",
       "    </tr>\n",
       "    <tr>\n",
       "      <th>25</th>\n",
       "      <td>8287084.85</td>\n",
       "      <td>9323012.09</td>\n",
       "      <td>9109081.84</td>\n",
       "      <td>2771326.93</td>\n",
       "    </tr>\n",
       "    <tr>\n",
       "      <th>26</th>\n",
       "      <td>12071075.04</td>\n",
       "      <td>13155335.57</td>\n",
       "      <td>13675691.91</td>\n",
       "      <td>4074341.77</td>\n",
       "    </tr>\n",
       "    <tr>\n",
       "      <th>27</th>\n",
       "      <td>20293011.81</td>\n",
       "      <td>22744012.75</td>\n",
       "      <td>22307711.41</td>\n",
       "      <td>6575320.15</td>\n",
       "    </tr>\n",
       "    <tr>\n",
       "      <th>28</th>\n",
       "      <td>17715246.14</td>\n",
       "      <td>16506893.13</td>\n",
       "      <td>16080704.97</td>\n",
       "      <td>5026062.83</td>\n",
       "    </tr>\n",
       "    <tr>\n",
       "      <th>29</th>\n",
       "      <td>6361590.26</td>\n",
       "      <td>7125307.50</td>\n",
       "      <td>6671234.14</td>\n",
       "      <td>2086249.72</td>\n",
       "    </tr>\n",
       "    <tr>\n",
       "      <th>30</th>\n",
       "      <td>5700327.43</td>\n",
       "      <td>5742314.29</td>\n",
       "      <td>5594701.86</td>\n",
       "      <td>1758306.50</td>\n",
       "    </tr>\n",
       "    <tr>\n",
       "      <th>31</th>\n",
       "      <td>18327012.80</td>\n",
       "      <td>18267238.50</td>\n",
       "      <td>17806714.45</td>\n",
       "      <td>5483441.47</td>\n",
       "    </tr>\n",
       "    <tr>\n",
       "      <th>32</th>\n",
       "      <td>14596588.10</td>\n",
       "      <td>15489271.05</td>\n",
       "      <td>15396528.95</td>\n",
       "      <td>4798727.90</td>\n",
       "    </tr>\n",
       "    <tr>\n",
       "      <th>33</th>\n",
       "      <td>3387560.76</td>\n",
       "      <td>3549000.39</td>\n",
       "      <td>3433620.36</td>\n",
       "      <td>1065369.52</td>\n",
       "    </tr>\n",
       "    <tr>\n",
       "      <th>34</th>\n",
       "      <td>12561536.03</td>\n",
       "      <td>12853618.02</td>\n",
       "      <td>12485995.94</td>\n",
       "      <td>3838014.16</td>\n",
       "    </tr>\n",
       "    <tr>\n",
       "      <th>35</th>\n",
       "      <td>9642858.59</td>\n",
       "      <td>10838313.00</td>\n",
       "      <td>11322421.12</td>\n",
       "      <td>3434129.81</td>\n",
       "    </tr>\n",
       "    <tr>\n",
       "      <th>36</th>\n",
       "      <td>4165563.14</td>\n",
       "      <td>4151991.58</td>\n",
       "      <td>3831691.64</td>\n",
       "      <td>1137224.17</td>\n",
       "    </tr>\n",
       "    <tr>\n",
       "      <th>37</th>\n",
       "      <td>6905516.43</td>\n",
       "      <td>6824549.37</td>\n",
       "      <td>6728068.24</td>\n",
       "      <td>2154640.65</td>\n",
       "    </tr>\n",
       "    <tr>\n",
       "      <th>38</th>\n",
       "      <td>5645775.74</td>\n",
       "      <td>5637918.82</td>\n",
       "      <td>5605482.38</td>\n",
       "      <td>1741896.51</td>\n",
       "    </tr>\n",
       "    <tr>\n",
       "      <th>39</th>\n",
       "      <td>18740604.09</td>\n",
       "      <td>20214128.46</td>\n",
       "      <td>20715116.23</td>\n",
       "      <td>6215814.07</td>\n",
       "    </tr>\n",
       "    <tr>\n",
       "      <th>40</th>\n",
       "      <td>11680404.16</td>\n",
       "      <td>12727737.53</td>\n",
       "      <td>12873195.37</td>\n",
       "      <td>3891070.28</td>\n",
       "    </tr>\n",
       "    <tr>\n",
       "      <th>41</th>\n",
       "      <td>15681607.44</td>\n",
       "      <td>17659942.73</td>\n",
       "      <td>18093844.01</td>\n",
       "      <td>5452445.75</td>\n",
       "    </tr>\n",
       "    <tr>\n",
       "      <th>42</th>\n",
       "      <td>7823655.75</td>\n",
       "      <td>7568239.27</td>\n",
       "      <td>7296759.34</td>\n",
       "      <td>2261705.49</td>\n",
       "    </tr>\n",
       "    <tr>\n",
       "      <th>43</th>\n",
       "      <td>8332318.07</td>\n",
       "      <td>8168836.35</td>\n",
       "      <td>8000572.16</td>\n",
       "      <td>2473507.39</td>\n",
       "    </tr>\n",
       "    <tr>\n",
       "      <th>44</th>\n",
       "      <td>4109696.37</td>\n",
       "      <td>4306405.78</td>\n",
       "      <td>4411251.16</td>\n",
       "      <td>1360020.41</td>\n",
       "    </tr>\n",
       "    <tr>\n",
       "      <th>45</th>\n",
       "      <td>9805267.57</td>\n",
       "      <td>10390767.83</td>\n",
       "      <td>9581268.38</td>\n",
       "      <td>2946326.39</td>\n",
       "    </tr>\n",
       "  </tbody>\n",
       "</table>\n",
       "</div>"
      ],
      "text/plain": [
       "       Quater1_Sales  Quater2_Sales  Quater3_Sales  Quater4_Sales\n",
       "Store                                                            \n",
       "1        20723762.83    20978760.12    20253947.78     6245587.29\n",
       "2        24528220.70    25083604.88    24303354.86     7581514.93\n",
       "3         5421809.72     5620316.49     5298005.47     1684307.82\n",
       "4        27930310.30    28454363.67    27796792.46     8589722.81\n",
       "5         4237380.83     4466363.69     4163790.99     1301302.62\n",
       "6        19467939.96    20833909.92    20167312.24     5845884.88\n",
       "7         7792647.21     7290859.27     8262787.39     2021262.60\n",
       "8        11869407.28    11919630.95    11748952.70     3695929.20\n",
       "9         7209983.86     7484935.11     7022149.56     2256961.05\n",
       "10       24488944.65    23750369.17    23037258.76     6952044.36\n",
       "11       17713050.31    17787371.95    17516081.44     5167561.98\n",
       "12       13585746.35    13362388.58    12536324.37     3850386.42\n",
       "13       25182790.59    27009207.14    26421259.30     8094197.99\n",
       "14       24476492.09    25155535.41    21187560.65     6621810.11\n",
       "15        7020781.97     7955243.07     7612081.03     2239424.64\n",
       "16        6400479.72     6564335.98     7121541.64     2016067.98\n",
       "17       11460215.01    12592400.93    12459453.05     3773309.64\n",
       "18       13190110.09    13896194.65    13489765.27     4342506.79\n",
       "19       17237532.28    18367300.24    18203554.85     5404045.91\n",
       "20       26971607.79    27524197.32    26891526.98     8440377.29\n",
       "21        9308307.68     9294596.35     9027599.32     2621383.36\n",
       "22       12236244.62    13487894.06    12845139.71     4086377.84\n",
       "23       16049454.58    18488882.82    18641489.15     5588152.20\n",
       "24       16130180.70    17684218.91    17976377.72     5395618.84\n",
       "25        8287084.85     9323012.09     9109081.84     2771326.93\n",
       "26       12071075.04    13155335.57    13675691.91     4074341.77\n",
       "27       20293011.81    22744012.75    22307711.41     6575320.15\n",
       "28       17715246.14    16506893.13    16080704.97     5026062.83\n",
       "29        6361590.26     7125307.50     6671234.14     2086249.72\n",
       "30        5700327.43     5742314.29     5594701.86     1758306.50\n",
       "31       18327012.80    18267238.50    17806714.45     5483441.47\n",
       "32       14596588.10    15489271.05    15396528.95     4798727.90\n",
       "33        3387560.76     3549000.39     3433620.36     1065369.52\n",
       "34       12561536.03    12853618.02    12485995.94     3838014.16\n",
       "35        9642858.59    10838313.00    11322421.12     3434129.81\n",
       "36        4165563.14     4151991.58     3831691.64     1137224.17\n",
       "37        6905516.43     6824549.37     6728068.24     2154640.65\n",
       "38        5645775.74     5637918.82     5605482.38     1741896.51\n",
       "39       18740604.09    20214128.46    20715116.23     6215814.07\n",
       "40       11680404.16    12727737.53    12873195.37     3891070.28\n",
       "41       15681607.44    17659942.73    18093844.01     5452445.75\n",
       "42        7823655.75     7568239.27     7296759.34     2261705.49\n",
       "43        8332318.07     8168836.35     8000572.16     2473507.39\n",
       "44        4109696.37     4306405.78     4411251.16     1360020.41\n",
       "45        9805267.57    10390767.83     9581268.38     2946326.39"
      ]
     },
     "execution_count": 16,
     "metadata": {},
     "output_type": "execute_result"
    }
   ],
   "source": [
    "# Grouping the data \"Store\" wise each Quarter\n",
    "data2 = pd.DataFrame(Quater_1.groupby('Store')['Weekly_Sales'].sum())\n",
    "data2[\"Quater1_Sales\"] = pd.DataFrame(Quater_1.groupby('Store')['Weekly_Sales'].sum())\n",
    "data2[\"Quater2_Sales\"] = pd.DataFrame(Quater_2.groupby('Store')['Weekly_Sales'].sum())\n",
    "data2[\"Quater3_Sales\"] = pd.DataFrame(Quater_3.groupby('Store')['Weekly_Sales'].sum())\n",
    "data2[\"Quater4_Sales\"] = pd.DataFrame(Quater_4.groupby('Store')['Weekly_Sales'].sum())\n",
    "data2.drop('Weekly_Sales', axis = 1, inplace = True)\n",
    "data2"
   ]
  },
  {
   "cell_type": "code",
   "execution_count": 17,
   "id": "c942357d",
   "metadata": {},
   "outputs": [
    {
     "data": {
      "text/plain": [
       "7"
      ]
     },
     "execution_count": 17,
     "metadata": {},
     "output_type": "execute_result"
    }
   ],
   "source": [
    "# Growth rate formula- ((Present value — Past value ) / Past value ) * 100\n",
    "data2['Q3 - Q2'] = data2['Quater3_Sales'] - data2['Quater2_Sales']\n",
    "data2['Overall Growth Rate in 2012 Q3 %'] = (data2['Q3 - Q2'] / data2['Quater2_Sales']) * 100\n",
    "data2['Overall Growth Rate in 2012 Q3 %'].idxmax() # Store which has good growth in Q3-2012"
   ]
  },
  {
   "cell_type": "code",
   "execution_count": 18,
   "id": "6abf341c",
   "metadata": {},
   "outputs": [
    {
     "data": {
      "text/plain": [
       "<AxesSubplot:xlabel='Store', ylabel='Overall Growth Rate in 2012 Q3 %'>"
      ]
     },
     "execution_count": 18,
     "metadata": {},
     "output_type": "execute_result"
    },
    {
     "data": {
      "image/png": "[encoded data removed]",
      "text/plain": [
       "<Figure size 1080x360 with 1 Axes>"
      ]
     },
     "metadata": {
      "needs_background": "light"
     },
     "output_type": "display_data"
    }
   ],
   "source": [
    "# Plotting the data in Bar chart\n",
    "plt.figure(figsize=(15,5))\n",
    "sns.barplot(x = data2.index, y = 'Overall Growth Rate in 2012 Q3 %', data = data2)"
   ]
  },
  {
   "cell_type": "code",
   "execution_count": 19,
   "id": "96a669b5",
   "metadata": {},
   "outputs": [
    {
     "data": {
      "text/plain": [
       "Holiday_Flag\n",
       "0    1.041256e+06\n",
       "1    1.122888e+06\n",
       "Name: Weekly_Sales, dtype: float64"
      ]
     },
     "execution_count": 19,
     "metadata": {},
     "output_type": "execute_result"
    }
   ],
   "source": [
    "# Best growth rate in third quarter (Q3) of 2012: Store 7\n",
    "# Holiday impact on sales - possible negative correslation - which holidays have higher sales than the mean sales in non-holiday season for all stores grouped.\n",
    "#finding the mean sales of non holiday and holiday \n",
    "data.groupby('Holiday_Flag')['Weekly_Sales'].mean()"
   ]
  },
  {
   "cell_type": "code",
   "execution_count": 20,
   "id": "a8e22bf0",
   "metadata": {},
   "outputs": [],
   "source": [
    "# Marking the holiday dates \n",
    "data['Date'] = pd.to_datetime(data['Date'])\n",
    "\n",
    "Christmas1 = pd.Timestamp(2010,12,31)\n",
    "Christmas2 = pd.Timestamp(2011,12,30)\n",
    "Christmas3 = pd.Timestamp(2012,12,28)\n",
    "Christmas4 = pd.Timestamp(2013,12,27)\n",
    "\n",
    "Thanksgiving1=pd.Timestamp(2010,11,26)\n",
    "Thanksgiving2=pd.Timestamp(2011,11,25)\n",
    "Thanksgiving3=pd.Timestamp(2012,11,23)\n",
    "Thanksgiving4=pd.Timestamp(2013,11,29)\n",
    "\n",
    "LabourDay1=pd.Timestamp(2010,9,10)\n",
    "LabourDay2=pd.Timestamp(2011,9,9)\n",
    "LabourDay3=pd.Timestamp(2012,9,7)\n",
    "LabourDay4=pd.Timestamp(2013,9,6)\n",
    "\n",
    "SuperBowl1=pd.Timestamp(2010,2,12)\n",
    "SuperBowl2=pd.Timestamp(2011,2,11)\n",
    "SuperBowl3=pd.Timestamp(2012,2,10)\n",
    "SuperBowl4=pd.Timestamp(2013,2,8)"
   ]
  },
  {
   "cell_type": "code",
   "execution_count": 21,
   "id": "d9cd4a32",
   "metadata": {},
   "outputs": [
    {
     "data": {
      "text/html": [
       "<div>\n",
       "<style scoped>\n",
       "    .dataframe tbody tr th:only-of-type {\n",
       "        vertical-align: middle;\n",
       "    }\n",
       "\n",
       "    .dataframe tbody tr th {\n",
       "        vertical-align: top;\n",
       "    }\n",
       "\n",
       "    .dataframe thead th {\n",
       "        text-align: right;\n",
       "    }\n",
       "</style>\n",
       "<table border=\"1\" class=\"dataframe\">\n",
       "  <thead>\n",
       "    <tr style=\"text-align: right;\">\n",
       "      <th></th>\n",
       "      <th>Store</th>\n",
       "      <th>Date</th>\n",
       "      <th>Weekly_Sales</th>\n",
       "      <th>Holiday_Flag</th>\n",
       "      <th>Temperature</th>\n",
       "      <th>Fuel_Price</th>\n",
       "      <th>CPI</th>\n",
       "      <th>Unemployment</th>\n",
       "    </tr>\n",
       "  </thead>\n",
       "  <tbody>\n",
       "    <tr>\n",
       "      <th>47</th>\n",
       "      <td>1</td>\n",
       "      <td>2010-12-31</td>\n",
       "      <td>1367320.01</td>\n",
       "      <td>1</td>\n",
       "      <td>48.43</td>\n",
       "      <td>2.943</td>\n",
       "      <td>211.404932</td>\n",
       "      <td>7.838</td>\n",
       "    </tr>\n",
       "    <tr>\n",
       "      <th>99</th>\n",
       "      <td>1</td>\n",
       "      <td>2011-12-30</td>\n",
       "      <td>1497462.72</td>\n",
       "      <td>1</td>\n",
       "      <td>44.55</td>\n",
       "      <td>3.129</td>\n",
       "      <td>219.535990</td>\n",
       "      <td>7.866</td>\n",
       "    </tr>\n",
       "    <tr>\n",
       "      <th>190</th>\n",
       "      <td>2</td>\n",
       "      <td>2010-12-31</td>\n",
       "      <td>1750434.55</td>\n",
       "      <td>1</td>\n",
       "      <td>47.30</td>\n",
       "      <td>2.943</td>\n",
       "      <td>211.064774</td>\n",
       "      <td>8.163</td>\n",
       "    </tr>\n",
       "    <tr>\n",
       "      <th>242</th>\n",
       "      <td>2</td>\n",
       "      <td>2011-12-30</td>\n",
       "      <td>1874226.52</td>\n",
       "      <td>1</td>\n",
       "      <td>44.57</td>\n",
       "      <td>3.129</td>\n",
       "      <td>219.177306</td>\n",
       "      <td>7.441</td>\n",
       "    </tr>\n",
       "    <tr>\n",
       "      <th>333</th>\n",
       "      <td>3</td>\n",
       "      <td>2010-12-31</td>\n",
       "      <td>382677.76</td>\n",
       "      <td>1</td>\n",
       "      <td>53.20</td>\n",
       "      <td>2.943</td>\n",
       "      <td>214.698647</td>\n",
       "      <td>7.564</td>\n",
       "    </tr>\n",
       "    <tr>\n",
       "      <th>...</th>\n",
       "      <td>...</td>\n",
       "      <td>...</td>\n",
       "      <td>...</td>\n",
       "      <td>...</td>\n",
       "      <td>...</td>\n",
       "      <td>...</td>\n",
       "      <td>...</td>\n",
       "      <td>...</td>\n",
       "    </tr>\n",
       "    <tr>\n",
       "      <th>6105</th>\n",
       "      <td>43</td>\n",
       "      <td>2011-12-30</td>\n",
       "      <td>505405.85</td>\n",
       "      <td>1</td>\n",
       "      <td>41.83</td>\n",
       "      <td>3.129</td>\n",
       "      <td>211.074055</td>\n",
       "      <td>10.148</td>\n",
       "    </tr>\n",
       "    <tr>\n",
       "      <th>6196</th>\n",
       "      <td>44</td>\n",
       "      <td>2010-12-31</td>\n",
       "      <td>241937.11</td>\n",
       "      <td>1</td>\n",
       "      <td>26.79</td>\n",
       "      <td>2.868</td>\n",
       "      <td>127.087677</td>\n",
       "      <td>7.610</td>\n",
       "    </tr>\n",
       "    <tr>\n",
       "      <th>6248</th>\n",
       "      <td>44</td>\n",
       "      <td>2011-12-30</td>\n",
       "      <td>263917.85</td>\n",
       "      <td>1</td>\n",
       "      <td>31.53</td>\n",
       "      <td>3.119</td>\n",
       "      <td>130.071032</td>\n",
       "      <td>6.078</td>\n",
       "    </tr>\n",
       "    <tr>\n",
       "      <th>6339</th>\n",
       "      <td>45</td>\n",
       "      <td>2010-12-31</td>\n",
       "      <td>679156.20</td>\n",
       "      <td>1</td>\n",
       "      <td>29.67</td>\n",
       "      <td>3.179</td>\n",
       "      <td>182.571448</td>\n",
       "      <td>8.724</td>\n",
       "    </tr>\n",
       "    <tr>\n",
       "      <th>6391</th>\n",
       "      <td>45</td>\n",
       "      <td>2011-12-30</td>\n",
       "      <td>869403.63</td>\n",
       "      <td>1</td>\n",
       "      <td>37.79</td>\n",
       "      <td>3.389</td>\n",
       "      <td>189.062016</td>\n",
       "      <td>8.523</td>\n",
       "    </tr>\n",
       "  </tbody>\n",
       "</table>\n",
       "<p>90 rows × 8 columns</p>\n",
       "</div>"
      ],
      "text/plain": [
       "      Store       Date  Weekly_Sales  Holiday_Flag  Temperature  Fuel_Price  \\\n",
       "47        1 2010-12-31    1367320.01             1        48.43       2.943   \n",
       "99        1 2011-12-30    1497462.72             1        44.55       3.129   \n",
       "190       2 2010-12-31    1750434.55             1        47.30       2.943   \n",
       "242       2 2011-12-30    1874226.52             1        44.57       3.129   \n",
       "333       3 2010-12-31     382677.76             1        53.20       2.943   \n",
       "...     ...        ...           ...           ...          ...         ...   \n",
       "6105     43 2011-12-30     505405.85             1        41.83       3.129   \n",
       "6196     44 2010-12-31     241937.11             1        26.79       2.868   \n",
       "6248     44 2011-12-30     263917.85             1        31.53       3.119   \n",
       "6339     45 2010-12-31     679156.20             1        29.67       3.179   \n",
       "6391     45 2011-12-30     869403.63             1        37.79       3.389   \n",
       "\n",
       "             CPI  Unemployment  \n",
       "47    211.404932         7.838  \n",
       "99    219.535990         7.866  \n",
       "190   211.064774         8.163  \n",
       "242   219.177306         7.441  \n",
       "333   214.698647         7.564  \n",
       "...          ...           ...  \n",
       "6105  211.074055        10.148  \n",
       "6196  127.087677         7.610  \n",
       "6248  130.071032         6.078  \n",
       "6339  182.571448         8.724  \n",
       "6391  189.062016         8.523  \n",
       "\n",
       "[90 rows x 8 columns]"
      ]
     },
     "execution_count": 21,
     "metadata": {},
     "output_type": "execute_result"
    }
   ],
   "source": [
    "#Calculating the mean sales during the holidays\n",
    "Christmas_mean_sales = data[(data['Date'] == Christmas1) | (data['Date'] == Christmas2) | (data['Date'] == Christmas3) | (data['Date'] == Christmas4)]\n",
    "Thanksgiving_mean_sales = data[(data['Date'] == Thanksgiving1) | (data['Date'] == Thanksgiving2) | (data['Date'] == Thanksgiving3) | (data['Date'] == Thanksgiving4)]\n",
    "LabourDay_mean_sales = data[(data['Date'] == LabourDay1) | (data['Date'] == LabourDay2) | (data['Date'] == LabourDay3) | (data['Date'] == LabourDay4)]\n",
    "SuperBowl_mean_sales=data[(data['Date'] == SuperBowl1) | (data['Date'] == SuperBowl2) | (data['Date'] == SuperBowl3) | (data['Date'] == SuperBowl4)]\n",
    "\n",
    "Christmas_mean_sales"
   ]
  },
  {
   "cell_type": "code",
   "execution_count": 22,
   "id": "9883e3b3",
   "metadata": {},
   "outputs": [
    {
     "data": {
      "text/plain": [
       "{'Christmas_mean_sales': 960833.11,\n",
       " 'Thanksgiving_mean_sales': 1471273.43,\n",
       " 'LabourDay_mean_sales': 1042427.29,\n",
       " 'SuperBowl_mean_sales': 1079127.99,\n",
       " 'Non holiday weekly sales': 1041256.38}"
      ]
     },
     "execution_count": 22,
     "metadata": {},
     "output_type": "execute_result"
    }
   ],
   "source": [
    "list_of_mean_sales = {'Christmas_mean_sales' : round(Christmas_mean_sales['Weekly_Sales'].mean(), 2),\n",
    "'Thanksgiving_mean_sales': round(Thanksgiving_mean_sales['Weekly_Sales'].mean(),2),\n",
    "'LabourDay_mean_sales' : round(LabourDay_mean_sales['Weekly_Sales'].mean(),2),\n",
    "'SuperBowl_mean_sales':round(SuperBowl_mean_sales['Weekly_Sales'].mean(),2),\n",
    "'Non holiday weekly sales' : round(data[data['Holiday_Flag'] == 0 ]['Weekly_Sales'].mean(),2)}\n",
    "list_of_mean_sales\n",
    "# Thanksgiving has much higher sales than non-holiday season. Black Friday deals!\n",
    "# monthly and semester view of sales in units (semester = 6 months or two quarters)"
   ]
  },
  {
   "cell_type": "code",
   "execution_count": 23,
   "id": "ed439f02",
   "metadata": {},
   "outputs": [
    {
     "data": {
      "text/plain": [
       "Text(0, 0.5, 'Weekly_Sales')"
      ]
     },
     "execution_count": 23,
     "metadata": {},
     "output_type": "execute_result"
    },
    {
     "data": {
      "image/png": "[encoded data removed]",
      "text/plain": [
       "<Figure size 720x360 with 1 Axes>"
      ]
     },
     "metadata": {
      "needs_background": "light"
     },
     "output_type": "display_data"
    }
   ],
   "source": [
    "# Monthly sales \n",
    "monthly = data.groupby(pd.Grouper(key='Date', freq='1M')).sum() # groupby each 1 month\n",
    "monthly=monthly.reset_index()\n",
    "fig, ax = plt.subplots(figsize=(10,5))\n",
    "X = monthly['Date']\n",
    "Y = monthly['Weekly_Sales']\n",
    "plt.plot(X,Y)\n",
    "plt.title('Month Wise Sales')\n",
    "plt.xlabel('Monthly')\n",
    "plt.ylabel('Weekly_Sales')\n",
    "# Analysis- highest sum of sales is recorded in between Jan-2011 to March-2011"
   ]
  },
  {
   "cell_type": "code",
   "execution_count": 24,
   "id": "28b08754",
   "metadata": {},
   "outputs": [
    {
     "data": {
      "text/plain": [
       "Text(0, 0.5, 'Weekly_Sales')"
      ]
     },
     "execution_count": 24,
     "metadata": {},
     "output_type": "execute_result"
    },
    {
     "data": {
      "image/png": "[encoded data removed]",
      "text/plain": [
       "<Figure size 720x360 with 1 Axes>"
      ]
     },
     "metadata": {
      "needs_background": "light"
     },
     "output_type": "display_data"
    }
   ],
   "source": [
    "# Semester Sales \n",
    "Semester = data.groupby(pd.Grouper(key='Date', freq='6M')).sum()\n",
    "Semester = Semester.reset_index()\n",
    "fig, ax = plt.subplots(figsize=(10,5))\n",
    "X = Semester['Date']\n",
    "Y = Semester['Weekly_Sales']\n",
    "plt.plot(X,Y)\n",
    "plt.title('Semester Wise Sales')\n",
    "plt.xlabel('Semester')\n",
    "plt.ylabel('Weekly_Sales')\n",
    "# Analysis- sales are lowest in beginning of 1st sem of 2010 and 1st sem of 2013"
   ]
  },
  {
   "cell_type": "code",
   "execution_count": 25,
   "id": "c380745d",
   "metadata": {},
   "outputs": [
    {
     "name": "stderr",
     "output_type": "stream",
     "text": [
      "C:\\Users\\santo\\AppData\\Local\\Temp/ipykernel_16192/826813737.py:10: SettingWithCopyWarning: \n",
      "A value is trying to be set on a copy of a slice from a DataFrame.\n",
      "Try using .loc[row_indexer,col_indexer] = value instead\n",
      "\n",
      "See the caveats in the documentation: https://pandas.pydata.org/pandas-docs/stable/user_guide/indexing.html#returning-a-view-versus-a-copy\n",
      "  factors['Day'] = day_arr.copy()\n"
     ]
    },
    {
     "data": {
      "text/html": [
       "<div>\n",
       "<style scoped>\n",
       "    .dataframe tbody tr th:only-of-type {\n",
       "        vertical-align: middle;\n",
       "    }\n",
       "\n",
       "    .dataframe tbody tr th {\n",
       "        vertical-align: top;\n",
       "    }\n",
       "\n",
       "    .dataframe thead th {\n",
       "        text-align: right;\n",
       "    }\n",
       "</style>\n",
       "<table border=\"1\" class=\"dataframe\">\n",
       "  <thead>\n",
       "    <tr style=\"text-align: right;\">\n",
       "      <th></th>\n",
       "      <th>Fuel_Price</th>\n",
       "      <th>Unemployment</th>\n",
       "      <th>CPI</th>\n",
       "      <th>Weekly_Sales</th>\n",
       "      <th>Holiday_Flag</th>\n",
       "      <th>Day</th>\n",
       "    </tr>\n",
       "  </thead>\n",
       "  <tbody>\n",
       "    <tr>\n",
       "      <th>0</th>\n",
       "      <td>2.572</td>\n",
       "      <td>8.106</td>\n",
       "      <td>211.096358</td>\n",
       "      <td>1643690.90</td>\n",
       "      <td>0</td>\n",
       "      <td>1</td>\n",
       "    </tr>\n",
       "    <tr>\n",
       "      <th>1</th>\n",
       "      <td>2.548</td>\n",
       "      <td>8.106</td>\n",
       "      <td>211.242170</td>\n",
       "      <td>1641957.44</td>\n",
       "      <td>1</td>\n",
       "      <td>7</td>\n",
       "    </tr>\n",
       "    <tr>\n",
       "      <th>2</th>\n",
       "      <td>2.514</td>\n",
       "      <td>8.106</td>\n",
       "      <td>211.289143</td>\n",
       "      <td>1611968.17</td>\n",
       "      <td>0</td>\n",
       "      <td>14</td>\n",
       "    </tr>\n",
       "    <tr>\n",
       "      <th>3</th>\n",
       "      <td>2.561</td>\n",
       "      <td>8.106</td>\n",
       "      <td>211.319643</td>\n",
       "      <td>1409727.59</td>\n",
       "      <td>0</td>\n",
       "      <td>21</td>\n",
       "    </tr>\n",
       "    <tr>\n",
       "      <th>4</th>\n",
       "      <td>2.625</td>\n",
       "      <td>8.106</td>\n",
       "      <td>211.350143</td>\n",
       "      <td>1554806.68</td>\n",
       "      <td>0</td>\n",
       "      <td>28</td>\n",
       "    </tr>\n",
       "    <tr>\n",
       "      <th>...</th>\n",
       "      <td>...</td>\n",
       "      <td>...</td>\n",
       "      <td>...</td>\n",
       "      <td>...</td>\n",
       "      <td>...</td>\n",
       "      <td>...</td>\n",
       "    </tr>\n",
       "    <tr>\n",
       "      <th>138</th>\n",
       "      <td>3.666</td>\n",
       "      <td>6.908</td>\n",
       "      <td>222.981658</td>\n",
       "      <td>1437059.26</td>\n",
       "      <td>0</td>\n",
       "      <td>966</td>\n",
       "    </tr>\n",
       "    <tr>\n",
       "      <th>139</th>\n",
       "      <td>3.617</td>\n",
       "      <td>6.573</td>\n",
       "      <td>223.181477</td>\n",
       "      <td>1670785.97</td>\n",
       "      <td>0</td>\n",
       "      <td>973</td>\n",
       "    </tr>\n",
       "    <tr>\n",
       "      <th>140</th>\n",
       "      <td>3.601</td>\n",
       "      <td>6.573</td>\n",
       "      <td>223.381296</td>\n",
       "      <td>1573072.81</td>\n",
       "      <td>0</td>\n",
       "      <td>980</td>\n",
       "    </tr>\n",
       "    <tr>\n",
       "      <th>141</th>\n",
       "      <td>3.594</td>\n",
       "      <td>6.573</td>\n",
       "      <td>223.425723</td>\n",
       "      <td>1508068.77</td>\n",
       "      <td>0</td>\n",
       "      <td>987</td>\n",
       "    </tr>\n",
       "    <tr>\n",
       "      <th>142</th>\n",
       "      <td>3.506</td>\n",
       "      <td>6.573</td>\n",
       "      <td>223.444251</td>\n",
       "      <td>1493659.74</td>\n",
       "      <td>0</td>\n",
       "      <td>994</td>\n",
       "    </tr>\n",
       "  </tbody>\n",
       "</table>\n",
       "<p>143 rows × 6 columns</p>\n",
       "</div>"
      ],
      "text/plain": [
       "     Fuel_Price  Unemployment         CPI  Weekly_Sales  Holiday_Flag  Day\n",
       "0         2.572         8.106  211.096358    1643690.90             0    1\n",
       "1         2.548         8.106  211.242170    1641957.44             1    7\n",
       "2         2.514         8.106  211.289143    1611968.17             0   14\n",
       "3         2.561         8.106  211.319643    1409727.59             0   21\n",
       "4         2.625         8.106  211.350143    1554806.68             0   28\n",
       "..          ...           ...         ...           ...           ...  ...\n",
       "138       3.666         6.908  222.981658    1437059.26             0  966\n",
       "139       3.617         6.573  223.181477    1670785.97             0  973\n",
       "140       3.601         6.573  223.381296    1573072.81             0  980\n",
       "141       3.594         6.573  223.425723    1508068.77             0  987\n",
       "142       3.506         6.573  223.444251    1493659.74             0  994\n",
       "\n",
       "[143 rows x 6 columns]"
      ]
     },
     "execution_count": 25,
     "metadata": {},
     "output_type": "execute_result"
    }
   ],
   "source": [
    "# For Store 1 – Build prediction models to forecast demand\n",
    "# Linear Regression – Utilize variables like date and restructure dates as 1 for 5 Feb 2010 \n",
    "# (starting from the earliest date in order). Hypothesize if CPI, unemployment, and fuel price have any impact on sales\n",
    "hypothesis = growth.groupby('Store')[['Fuel_Price','Unemployment', 'CPI','Weekly_Sales', 'Holiday_Flag']]\n",
    "factors  = hypothesis.get_group(1) #Filter by Store 1\n",
    "day_arr = [1]\n",
    "for i in range (1,len(factors)):\n",
    "    day_arr.append(i*7)\n",
    "    \n",
    "factors['Day'] = day_arr.copy()\n",
    "factors"
   ]
  },
  {
   "cell_type": "code",
   "execution_count": 26,
   "id": "290bdd88",
   "metadata": {},
   "outputs": [
    {
     "data": {
      "text/plain": [
       "<AxesSubplot:>"
      ]
     },
     "execution_count": 26,
     "metadata": {},
     "output_type": "execute_result"
    },
    {
     "data": {
      "image/png": "[encoded data removed]",
      "text/plain": [
       "<Figure size 432x288 with 2 Axes>"
      ]
     },
     "metadata": {
      "needs_background": "light"
     },
     "output_type": "display_data"
    }
   ],
   "source": [
    "sns.heatmap(factors.corr(), annot = True)\n",
    "# Few variables which are positive and have value greater than zero are correlated with Weekly_Sales. \n",
    "# We can also see CPI and Holiday_Flag is fairly strongly correlated to Weekly_Sales. Holiday_Flag = 1 means it's holiday_week we have sales more than the non_holiday_weeks."
   ]
  },
  {
   "cell_type": "code",
   "execution_count": 27,
   "id": "8f33a353",
   "metadata": {},
   "outputs": [
    {
     "data": {
      "text/plain": [
       "<seaborn.axisgrid.FacetGrid at 0x1a523152d60>"
      ]
     },
     "execution_count": 27,
     "metadata": {},
     "output_type": "execute_result"
    },
    {
     "data": {
      "image/png": "[encoded data removed]",
      "text/plain": [
       "<Figure size 360x360 with 1 Axes>"
      ]
     },
     "metadata": {
      "needs_background": "light"
     },
     "output_type": "display_data"
    },
    {
     "data": {
      "image/png": "[encoded data removed]",
      "text/plain": [
       "<Figure size 360x360 with 1 Axes>"
      ]
     },
     "metadata": {
      "needs_background": "light"
     },
     "output_type": "display_data"
    }
   ],
   "source": [
    "sns.lmplot(x='Fuel_Price', y = 'Unemployment', data = factors)\n",
    "#plt.figure()\n",
    "sns.lmplot(x='CPI', y = 'Unemployment', data = factors)\n",
    "# As the Fuel_price and Cpi goes high, rate of Unemployment Fairly Decreases (shown above in Line Regression plot)"
   ]
  },
  {
   "cell_type": "code",
   "execution_count": 28,
   "id": "be6748fc",
   "metadata": {},
   "outputs": [
    {
     "name": "stderr",
     "output_type": "stream",
     "text": [
      "C:\\Users\\santo\\anaconda3\\lib\\site-packages\\seaborn\\distributions.py:2619: FutureWarning: `distplot` is a deprecated function and will be removed in a future version. Please adapt your code to use either `displot` (a figure-level function with similar flexibility) or `histplot` (an axes-level function for histograms).\n",
      "  warnings.warn(msg, FutureWarning)\n"
     ]
    },
    {
     "name": "stdout",
     "output_type": "stream",
     "text": [
      "3.106725927640744e-144\n",
      "reject null hypothesis\n"
     ]
    },
    {
     "data": {
      "text/plain": [
       "<AxesSubplot:xlabel='CPI', ylabel='Weekly_Sales'>"
      ]
     },
     "execution_count": 28,
     "metadata": {},
     "output_type": "execute_result"
    },
    {
     "data": {
      "image/png": "[encoded data removed]",
      "text/plain": [
       "<Figure size 432x288 with 1 Axes>"
      ]
     },
     "metadata": {
      "needs_background": "light"
     },
     "output_type": "display_data"
    },
    {
     "data": {
      "image/png": "[encoded data removed]",
      "text/plain": [
       "<Figure size 432x288 with 1 Axes>"
      ]
     },
     "metadata": {
      "needs_background": "light"
     },
     "output_type": "display_data"
    },
    {
     "data": {
      "image/png": "[encoded data removed]",
      "text/plain": [
       "<Figure size 431.75x360 with 1 Axes>"
      ]
     },
     "metadata": {
      "needs_background": "light"
     },
     "output_type": "display_data"
    }
   ],
   "source": [
    "# Hypothesis Testing - CPI\n",
    "ttest, pval = stats.ttest_rel(factors['Weekly_Sales'],factors['CPI'])\n",
    "sns.distplot(factors.CPI)\n",
    "plt.figure()\n",
    "print(pval)\n",
    "\n",
    "if pval<0.05:\n",
    "    print(\"reject null hypothesis\")\n",
    "else:\n",
    "    print(\"accept null hypothesis\")\n",
    "    \n",
    "sns.scatterplot(x='CPI', y = 'Weekly_Sales', data = factors, hue = 'Holiday_Flag')\n",
    "#plt.figure()\n",
    "sns.lmplot(x='CPI', y = 'Weekly_Sales', data = factors, hue = 'Holiday_Flag')\n",
    "#plt.figure()\n",
    "sns.lineplot(x='CPI', y = 'Weekly_Sales', data = factors)\n",
    "\n",
    "# 1) Earlier, we rejected the null hypothesis saying that ther is no relationship between Weekly_sales and CPI. \n",
    "# But we found there is a positive corrlation between CPI and Weekly_sales as shown in the above graphs.\n",
    "# 2) The CPI is not normally distributed and line regression plot is showing how CPI is varying with Weekly_Sales \n",
    "# on days of Holidays and non holiday weeks."
   ]
  },
  {
   "cell_type": "code",
   "execution_count": 29,
   "id": "c94a2e4d",
   "metadata": {},
   "outputs": [
    {
     "name": "stderr",
     "output_type": "stream",
     "text": [
      "C:\\Users\\santo\\anaconda3\\lib\\site-packages\\seaborn\\distributions.py:2619: FutureWarning: `distplot` is a deprecated function and will be removed in a future version. Please adapt your code to use either `displot` (a figure-level function with similar flexibility) or `histplot` (an axes-level function for histograms).\n",
      "  warnings.warn(msg, FutureWarning)\n"
     ]
    },
    {
     "name": "stdout",
     "output_type": "stream",
     "text": [
      "3.050079726743709e-144\n",
      "reject null hypothesis\n"
     ]
    },
    {
     "data": {
      "text/plain": [
       "<AxesSubplot:xlabel='Fuel_Price', ylabel='Weekly_Sales'>"
      ]
     },
     "execution_count": 29,
     "metadata": {},
     "output_type": "execute_result"
    },
    {
     "data": {
      "image/png": "[encoded data removed]",
      "text/plain": [
       "<Figure size 432x288 with 1 Axes>"
      ]
     },
     "metadata": {
      "needs_background": "light"
     },
     "output_type": "display_data"
    },
    {
     "data": {
      "image/png": "[encoded data removed]",
      "text/plain": [
       "<Figure size 432x288 with 1 Axes>"
      ]
     },
     "metadata": {
      "needs_background": "light"
     },
     "output_type": "display_data"
    },
    {
     "data": {
      "image/png": "[encoded data removed]",
      "text/plain": [
       "<Figure size 431.75x360 with 1 Axes>"
      ]
     },
     "metadata": {
      "needs_background": "light"
     },
     "output_type": "display_data"
    }
   ],
   "source": [
    "# Hypothesis Testing - Fuel_Price\n",
    "ttest, pval = stats.ttest_rel(factors['Weekly_Sales'],factors['Fuel_Price'])\n",
    "sns.distplot(factors.Fuel_Price)\n",
    "plt.figure()\n",
    "print(pval)\n",
    "\n",
    "if pval<0.05:\n",
    "    print(\"reject null hypothesis\")\n",
    "else:\n",
    "    print(\"accept null hypothesis\")\n",
    "    \n",
    "sns.scatterplot(x='Fuel_Price', y = 'Weekly_Sales', data = factors, hue = 'Holiday_Flag')\n",
    "#plt.figure()\n",
    "sns.lmplot(x='Fuel_Price', y = 'Weekly_Sales', data = factors, hue = 'Holiday_Flag')\n",
    "#plt.figure()\n",
    "sns.lineplot(x='Fuel_Price', y = 'Weekly_Sales', data = factors)\n",
    "\n",
    "# There are more number of Sales when the Fuel_Price are higher and also we can see more Sales during Holiday_Weeks \n",
    "# when fuel_prices were fairly low. So its not clear to say on what factors Fuel_price has a direct dependency on Sales."
   ]
  },
  {
   "cell_type": "code",
   "execution_count": 30,
   "id": "24ef8866",
   "metadata": {},
   "outputs": [
    {
     "name": "stderr",
     "output_type": "stream",
     "text": [
      "C:\\Users\\santo\\anaconda3\\lib\\site-packages\\seaborn\\distributions.py:2619: FutureWarning: `distplot` is a deprecated function and will be removed in a future version. Please adapt your code to use either `displot` (a figure-level function with similar flexibility) or `histplot` (an axes-level function for histograms).\n",
      "  warnings.warn(msg, FutureWarning)\n"
     ]
    },
    {
     "name": "stdout",
     "output_type": "stream",
     "text": [
      "3.0515405336011733e-144\n",
      "reject null hypothesis\n"
     ]
    },
    {
     "data": {
      "text/plain": [
       "<AxesSubplot:xlabel='Unemployment', ylabel='Weekly_Sales'>"
      ]
     },
     "execution_count": 30,
     "metadata": {},
     "output_type": "execute_result"
    },
    {
     "data": {
      "image/png": "[encoded data removed]",
      "text/plain": [
       "<Figure size 432x288 with 1 Axes>"
      ]
     },
     "metadata": {
      "needs_background": "light"
     },
     "output_type": "display_data"
    },
    {
     "data": {
      "image/png": "[encoded data removed]",
      "text/plain": [
       "<Figure size 432x288 with 1 Axes>"
      ]
     },
     "metadata": {
      "needs_background": "light"
     },
     "output_type": "display_data"
    },
    {
     "data": {
      "image/png": "[encoded data removed]",
      "text/plain": [
       "<Figure size 431.75x360 with 1 Axes>"
      ]
     },
     "metadata": {
      "needs_background": "light"
     },
     "output_type": "display_data"
    }
   ],
   "source": [
    "# Hypothesis Testing - Unemployment\n",
    "ttest, pval = stats.ttest_rel(factors['Weekly_Sales'],factors['Unemployment'])\n",
    "sns.distplot(factors.Unemployment)\n",
    "plt.figure()\n",
    "print(pval)\n",
    "\n",
    "if pval<0.05:\n",
    "    print(\"reject null hypothesis\")\n",
    "else:\n",
    "    print(\"accept null hypothesis\")\n",
    "    \n",
    "sns.scatterplot(x='Unemployment', y = 'Weekly_Sales', data = factors, hue = 'Holiday_Flag')\n",
    "#plt.figure()\n",
    "sns.lmplot(x='Unemployment', y = 'Weekly_Sales', data = factors, hue = 'Holiday_Flag')\n",
    "#plt.figure()\n",
    "sns.lineplot(x='Unemployment', y = 'Weekly_Sales', data = factors)\n",
    "\n",
    "# Purchases increase only during the holidays as the rate of unemployment increase with few outliers present for weekly-sales. \n",
    "# People limit their purchases as unemployment rises and thus help justify the rejecting the null hypothesis."
   ]
  },
  {
   "cell_type": "code",
   "execution_count": 31,
   "id": "fd4584ba",
   "metadata": {},
   "outputs": [
    {
     "data": {
      "text/plain": [
       "<AxesSubplot:xlabel='Day', ylabel='Weekly_Sales'>"
      ]
     },
     "execution_count": 31,
     "metadata": {},
     "output_type": "execute_result"
    },
    {
     "data": {
      "image/png": "[encoded data removed]",
      "text/plain": [
       "<Figure size 1440x576 with 1 Axes>"
      ]
     },
     "metadata": {
      "needs_background": "light"
     },
     "output_type": "display_data"
    }
   ],
   "source": [
    "# Plotting the Weekly_sales for store 1 (Day wise)\n",
    "plt.figure(figsize=(20, 8))\n",
    "sns.barplot(x='Day', y = 'Weekly_Sales', data = factors.head(50), hue = 'Holiday_Flag')\n",
    "\n",
    "# Store 1 sales increase during the holidays."
   ]
  }
 ],
 "metadata": {
  "kernelspec": {
   "display_name": "Python 3 (ipykernel)",
   "language": "python",
   "name": "python3"
  },
  "language_info": {
   "codemirror_mode": {
    "name": "ipython",
    "version": 3
   },
   "file_extension": ".py",
   "mimetype": "text/x-python",
   "name": "python",
   "nbconvert_exporter": "python",
   "pygments_lexer": "ipython3",
   "version": "3.9.7"
  }
 },
 "nbformat": 4,
 "nbformat_minor": 5
}
